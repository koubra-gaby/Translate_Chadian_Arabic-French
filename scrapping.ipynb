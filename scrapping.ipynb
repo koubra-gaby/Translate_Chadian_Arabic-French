{
 "cells": [
  {
   "cell_type": "markdown",
   "metadata": {},
   "source": [
    "# essayer la technique du web scrapping sur seulement une page"
   ]
  },
  {
   "cell_type": "code",
   "execution_count": 1,
   "metadata": {},
   "outputs": [
    {
     "name": "stdout",
     "output_type": "stream",
     "text": [
      "['<span class=\"button\"><a href=\"01-GEN-002.html\" title=\"Next Chapter\">\\xa0\\xa0&gt;\\xa0\\xa0</a></span>']\n",
      "['00-INT2-000.html', '01-GEN-000.html', '01-GEN-002.html', '02-EXO-000.html']\n"
     ]
    }
   ],
   "source": [
    "from scrapy import Selector\n",
    "import requests\n",
    "\n",
    "url = \"https://media.ipsapps.org/shu/osa/bible/latin/01-GEN-001.html\"\n",
    "html = requests.get(url).content\n",
    "sel = Selector(text=html)\n",
    "\n",
    "# Get the text of the first paragraph\n",
    "print(sel.css('span.button:nth-of-type(5)').extract())\n",
    "num_page_suivant = sel.xpath('//span[@class=\"button\"]/a/@href').extract()  \n",
    "print(num_page_suivant)"
   ]
  },
  {
   "cell_type": "markdown",
   "metadata": {},
   "source": [
    "# Essayons de recuperer les div sans ceux de classe s car ils contiennet des titres"
   ]
  },
  {
   "cell_type": "code",
   "execution_count": null,
   "metadata": {},
   "outputs": [
    {
     "name": "stdout",
     "output_type": "stream",
     "text": [
      "['Al‑khaliige', '1', '\\xa0', 'Fi l‑bidaaya,', 'Allah khalag al‑samaawaat wa l‑ard.', '2', '\\xa0', 'Wa l‑ard faadiye.', 'Hi ma indaha cheyy foogha.', 'Wa l‑dalaam gaaʼid yikhatti al‑almi al‑khariig wa Ruuh Allah gaaʼid yuhuum fi l‑almi.', '3', '\\xa0', 'Wa Allah al‑Rabb gaal\\u202f:', '«\\u202fKhalli yukuun nuur.', '\\u202f» Wa khalaas,', 'al‑nuur kaan.', '4', '\\xa0', 'Wa Allah al‑Rabb chaaf kadar al‑nuur da sameh.', 'Wa farag al‑nuur min al‑dalaam.', '5', '\\xa0', 'Wa samma al‑nuur nahaar wa l‑dalaam leel.', 'Wa kaan achiiye wa kaan fajur.', 'Da l‑yoom al‑awwal.', '6', '\\xa0', 'Wa Allah al‑Rabb gaal\\u202f:', '«\\u202fKhalli tukuun faraga been al‑almi wa tifaarig al‑almi min al‑almi.\\u202f»', '7', '\\xa0', 'Wa l‑Rabb khalag al‑faraga wa farag beeha al‑almi al‑tihit min al‑almi al‑foog.', 'Wa khalaas,', 'bigi misil da.', '8', '\\xa0', 'Wa samma al‑faraga di,', 'sama.', 'Wa kaan achiiye wa kaan fajur.', 'Da l‑yoom al‑taani.', '9', '\\xa0', 'Wa l‑Rabb gaal\\u202f:', '«\\u202fKhalli al‑almi al‑tihit le l‑sama yilimm bakaan waahid wa yikhalli bakaan yaabis yibiin.', '\\u202f» Wa khalaas,', 'bigi misil da.', '10', '\\xa0', 'Wa hu samma al‑bakaan al‑yaabis,', 'ard wa l‑bakaan al‑indah almi,', 'bahar.', 'Wa Allah al‑Rabb chaaf kadar al‑cheyy da sameh.', '11', '\\xa0', 'Wa l‑Rabb gaal\\u202f:', '«\\u202fKhalli al‑ard tinmali be l‑khadaar.', 'Khalli ayyi nafar hana gechch al‑indah teeraab wa ayyi nafar hana chadar al‑indah iyaal al‑yabgo teeraab,', 'yugummu fi ayyi bakaan fi l‑ard.', '\\u202f» Wa khalaas,', 'bigi misil da.', '12', '\\xa0', 'Wa l‑ard gawwamat khadaar wa ayyi nafar hana gechch al‑indah teeraab wa ayyi nafar hana chadar al‑indah iyaal al‑yabgo teeraab.', 'Wa Allah al‑Rabb chaaf kadar al‑cheyy da sameh.', '13', '\\xa0', 'Wa kaan achiiye wa kaan fajur.', 'Da l‑yoom al‑taalit.', '14', '\\xa0', 'Wa l‑Rabb gaal\\u202f:', '«\\u202fKhalli yukuun anwaar fi l‑sama le yifaarugu al‑nahaar min al‑leel wa le yiwassufu al‑wakit wa ayyaam al‑siniin.', '15', '\\xa0', 'Wa khalli yidawwu al‑ard min al‑sama.', '\\u202f» Wa khalaas,', 'bigi misil da.', '16', '\\xa0', 'Wa l‑Rabb khalag anwaar itneen kubaar.', 'Al‑kabiir yidawwi be l‑nahaar wa l‑sakhayyar yidawwi be l‑leel.', 'Wa hu khalag al‑nujuum kula.', '17', '\\xa0', 'Wa khattaahum fi l‑sama le yidawwu al‑ard', '18', '\\xa0', 'wa yahkumu al‑nahaar wa l‑leel wa yifaarugu al‑nuur min al‑dalaam.', 'Wa Allah al‑Rabb chaaf kadar al‑cheyy da sameh.', '19', '\\xa0', 'Wa kaan achiiye wa kaan fajur.', 'Da l‑yoom al‑raabiʼ.', '20', '\\xa0', 'Wa l‑Rabb gaal\\u202f:', '«\\u202fKhalli haywaanaat be katara yilharrako fi l‑almi wa khalli tuyuur yitiiru tihit al‑sama min foog le l‑ard.\\u202f»', '21', '\\xa0', 'Wa khalaas,', 'al‑Rabb khalag al‑haywaanaat al‑kubaar bilheen al‑gaaʼidiin fi lubb al‑almi.', 'Wa khalag ayyi nafar hana l‑haywaanaat al‑aakhariin al‑yilharrako fi lubb al‑almi be katara wa ayyi nafar hana l‑tuyuur al‑bitiiru.', 'Wa Allah al‑Rabb chaaf kadar al‑cheyy da sameh.', '22', '\\xa0', 'Wa baarakaahum kulluhum wa gaal le l‑haywaanaat al‑gaaʼidiin fi l‑almi\\u202f:', '«\\u202fAldo wa abgo katiiriin wa amlo al‑bahar.', '\\u202f» Wa gaal le l‑tuyuur\\u202f:', '«\\u202fAbgo katiiriin fi l‑ard.\\u202f»', '23', '\\xa0', 'Wa kaan achiiye wa kaan fajur.', 'Da l‑yoom al‑khaamis.', '24', '\\xa0', 'Wa l‑Rabb gaal\\u202f:', '«\\u202fKhalli al‑ard tamrug minha ayyi nafar hana makhluugiin hayyiin misil bahaayim wa zawaahif al‑ard wa haywaanaat al‑kadaade.', '\\u202f» Wa khalaas,', 'bigi misil da.', '25', '\\xa0', 'Wa l‑Rabb khalag ayyi nafar hana haywaanaat al‑ard wa ayyi nafar hana bahaayim wa ayyi nafar hana zawaahif al‑ard.', 'Wa Allah chaaf kadar al‑cheyy da sameh.', '26', '\\xa0', 'Wa l‑Rabb gaal\\u202f:', '«\\u202fNakhalgu al‑insaan fi suuritna wa yichaabihna.', 'Khalli yahkim fi huut al‑bahar wa tuyuur al‑sama wa l‑bahaayim.', 'Wa khalli yahkim fi kulla l‑ard wa fi kulla zawaahif al‑ard.\\u202f»', '27', '\\xa0', 'Wa khalaas,', 'Allah khalag al‑insaan fi suurtah wa fi suurtah hu,', 'al‑Rabb khalagaahum.', 'Raajil wa mara,', 'hu khalagaahum.', '28', '\\xa0', 'Wa l‑Rabb baarakaahum wa gaal leehum\\u202f:', '«\\u202fAldo wa abgo katiiriin wa amlo al‑ard wa ahkumu foogha.', 'Wa ahkumu fi huut al‑bahar wa fi tuyuur al‑sama wa fi kulla zawaahif al‑ard.\\u202f»', '29', '\\xa0', 'Wa l‑Rabb gaal\\u202f:', '«\\u202fDaahu ana nantiiku kulla l‑khadaar al‑indah teeraab al‑gaaʼid fi kulla l‑ard wa kulli chadara al‑indaha iyaal al‑yabgo teeraab.', 'Wa da yabga leeku maʼaachku.', '30', '\\xa0', 'Wa le kulla haywaanaat al‑ard wa kulla tuyuur al‑sama wa kulla zawaahif al‑ard wa kulla l‑binnaffaso,', 'nantiihum gechch akhdar achaan yiʼiichu beyah.', '\\u202f» Wa khalaas,', 'bigi misil da.', '31', '\\xa0', 'Wa Allah chaaf kulla cheyy al‑hu khalagah wa l‑cheyy da sameh bilheen.', 'Wa kaan achiiye wa kaan fajur.', 'Da l‑yoom al‑saadis.']\n",
      "['Al‑khaliige']\n",
      "['1', 'Fi l‑bidaaya,', 'Allah khalag al‑samaawaat wa l‑ard.', '2', 'Wa l‑ard faadiye.', 'Hi ma indaha cheyy foogha.', 'Wa l‑dalaam gaaʼid yikhatti al‑almi al‑khariig wa Ruuh Allah gaaʼid yuhuum fi l‑almi.', '3', 'Wa Allah al‑Rabb gaal\\u202f:', '«\\u202fKhalli yukuun nuur.', '» Wa khalaas,', 'al‑nuur kaan.', '4', 'Wa Allah al‑Rabb chaaf kadar al‑nuur da sameh.', 'Wa farag al‑nuur min al‑dalaam.', '5', 'Wa samma al‑nuur nahaar wa l‑dalaam leel.', 'Wa kaan achiiye wa kaan fajur.', 'Da l‑yoom al‑awwal.', '6', 'Wa Allah al‑Rabb gaal\\u202f:', '«\\u202fKhalli tukuun faraga been al‑almi wa tifaarig al‑almi min al‑almi.\\u202f»', '7', 'Wa l‑Rabb khalag al‑faraga wa farag beeha al‑almi al‑tihit min al‑almi al‑foog.', 'Wa khalaas,', 'bigi misil da.', '8', 'Wa samma al‑faraga di,', 'sama.', 'Wa kaan achiiye wa kaan fajur.', 'Da l‑yoom al‑taani.', '9', 'Wa l‑Rabb gaal\\u202f:', '«\\u202fKhalli al‑almi al‑tihit le l‑sama yilimm bakaan waahid wa yikhalli bakaan yaabis yibiin.', '» Wa khalaas,', 'bigi misil da.', '10', 'Wa hu samma al‑bakaan al‑yaabis,', 'ard wa l‑bakaan al‑indah almi,', 'bahar.', 'Wa Allah al‑Rabb chaaf kadar al‑cheyy da sameh.', '11', 'Wa l‑Rabb gaal\\u202f:', '«\\u202fKhalli al‑ard tinmali be l‑khadaar.', 'Khalli ayyi nafar hana gechch al‑indah teeraab wa ayyi nafar hana chadar al‑indah iyaal al‑yabgo teeraab,', 'yugummu fi ayyi bakaan fi l‑ard.', '» Wa khalaas,', 'bigi misil da.', '12', 'Wa l‑ard gawwamat khadaar wa ayyi nafar hana gechch al‑indah teeraab wa ayyi nafar hana chadar al‑indah iyaal al‑yabgo teeraab.', 'Wa Allah al‑Rabb chaaf kadar al‑cheyy da sameh.', '13', 'Wa kaan achiiye wa kaan fajur.', 'Da l‑yoom al‑taalit.', '14', 'Wa l‑Rabb gaal\\u202f:', '«\\u202fKhalli yukuun anwaar fi l‑sama le yifaarugu al‑nahaar min al‑leel wa le yiwassufu al‑wakit wa ayyaam al‑siniin.', '15', 'Wa khalli yidawwu al‑ard min al‑sama.', '» Wa khalaas,', 'bigi misil da.', '16', 'Wa l‑Rabb khalag anwaar itneen kubaar.', 'Al‑kabiir yidawwi be l‑nahaar wa l‑sakhayyar yidawwi be l‑leel.', 'Wa hu khalag al‑nujuum kula.', '17', 'Wa khattaahum fi l‑sama le yidawwu al‑ard', '18', 'wa yahkumu al‑nahaar wa l‑leel wa yifaarugu al‑nuur min al‑dalaam.', 'Wa Allah al‑Rabb chaaf kadar al‑cheyy da sameh.', '19', 'Wa kaan achiiye wa kaan fajur.', 'Da l‑yoom al‑raabiʼ.', '20', 'Wa l‑Rabb gaal\\u202f:', '«\\u202fKhalli haywaanaat be katara yilharrako fi l‑almi wa khalli tuyuur yitiiru tihit al‑sama min foog le l‑ard.\\u202f»', '21', 'Wa khalaas,', 'al‑Rabb khalag al‑haywaanaat al‑kubaar bilheen al‑gaaʼidiin fi lubb al‑almi.', 'Wa khalag ayyi nafar hana l‑haywaanaat al‑aakhariin al‑yilharrako fi lubb al‑almi be katara wa ayyi nafar hana l‑tuyuur al‑bitiiru.', 'Wa Allah al‑Rabb chaaf kadar al‑cheyy da sameh.', '22', 'Wa baarakaahum kulluhum wa gaal le l‑haywaanaat al‑gaaʼidiin fi l‑almi\\u202f:', '«\\u202fAldo wa abgo katiiriin wa amlo al‑bahar.', '» Wa gaal le l‑tuyuur\\u202f:', '«\\u202fAbgo katiiriin fi l‑ard.\\u202f»', '23', 'Wa kaan achiiye wa kaan fajur.', 'Da l‑yoom al‑khaamis.', '24', 'Wa l‑Rabb gaal\\u202f:', '«\\u202fKhalli al‑ard tamrug minha ayyi nafar hana makhluugiin hayyiin misil bahaayim wa zawaahif al‑ard wa haywaanaat al‑kadaade.', '» Wa khalaas,', 'bigi misil da.', '25', 'Wa l‑Rabb khalag ayyi nafar hana haywaanaat al‑ard wa ayyi nafar hana bahaayim wa ayyi nafar hana zawaahif al‑ard.', 'Wa Allah chaaf kadar al‑cheyy da sameh.', '26', 'Wa l‑Rabb gaal\\u202f:', '«\\u202fNakhalgu al‑insaan fi suuritna wa yichaabihna.', 'Khalli yahkim fi huut al‑bahar wa tuyuur al‑sama wa l‑bahaayim.', 'Wa khalli yahkim fi kulla l‑ard wa fi kulla zawaahif al‑ard.\\u202f»', '27', 'Wa khalaas,', 'Allah khalag al‑insaan fi suurtah wa fi suurtah hu,', 'al‑Rabb khalagaahum.', 'Raajil wa mara,', 'hu khalagaahum.', '28', 'Wa l‑Rabb baarakaahum wa gaal leehum\\u202f:', '«\\u202fAldo wa abgo katiiriin wa amlo al‑ard wa ahkumu foogha.', 'Wa ahkumu fi huut al‑bahar wa fi tuyuur al‑sama wa fi kulla zawaahif al‑ard.\\u202f»', '29', 'Wa l‑Rabb gaal\\u202f:', '«\\u202fDaahu ana nantiiku kulla l‑khadaar al‑indah teeraab al‑gaaʼid fi kulla l‑ard wa kulli chadara al‑indaha iyaal al‑yabgo teeraab.', 'Wa da yabga leeku maʼaachku.', '30', 'Wa le kulla haywaanaat al‑ard wa kulla tuyuur al‑sama wa kulla zawaahif al‑ard wa kulla l‑binnaffaso,', 'nantiihum gechch akhdar achaan yiʼiichu beyah.', '» Wa khalaas,', 'bigi misil da.', '31', 'Wa Allah chaaf kulla cheyy al‑hu khalagah wa l‑cheyy da sameh bilheen.', 'Wa kaan achiiye wa kaan fajur.', 'Da l‑yoom al‑saadis.']\n",
      "[]\n"
     ]
    }
   ],
   "source": [
    "text = sel.css('div#content div.txs ::text').extract() # Pour récupérer le texte de la page\n",
    "titres = sel.xpath('//div[contains(@id,\"Ts\")]/text()').extract()\n",
    "print(text)\n",
    "print(titres)\n",
    "text = [t.strip() for t in text if t.strip()] # Pour enlever les espaces vides et les sauts de ligne ainsi que les balises html\n",
    "titres = [t.strip() for t in titres if t.strip()]\n",
    "#print(text)\n",
    "for t in text:\n",
    "    if t in titres:\n",
    "        text.remove(t)\n",
    "#premier = text[0].xpath('./div[@id=\"Ts1\"]')\n",
    "print(text)\n",
    "\n",
    "list = [] # Pour stocker les versets\n",
    "print(list)\n",
    "i = 0\n",
    "for t in text: # Pour parcourir les lignes de textes et supprimer les numeros.En gros c'est pour que les numeros des versets ne figurent pas dans ma liste des versets\n",
    "    if len(t) <= 2:\n",
    "        i+=1\n",
    "    else:\n",
    "        if len(list) == i+1:\n",
    "            list[i] = list[i] + \" \" + t\n",
    "        else:\n",
    "            list.append(t)\n",
    "\n",
    "for l in list:\n",
    "    for caract in l:\n",
    "        l = l.replace(\"«\", \"\")\n",
    "        l = l.replace(\"»\", \"\")\n",
    "    with open('dataset.txt', 'a+') as file :\n",
    "            file.write(l)\n",
    "            file.write(\"\\n\")"
   ]
  },
  {
   "cell_type": "code",
   "execution_count": 4,
   "metadata": {},
   "outputs": [
    {
     "name": "stdout",
     "output_type": "stream",
     "text": [
      "[<Selector query=\"descendant-or-self::div[@id = 'content']/descendant-or-self::*/div[@class and contains(concat(' ', normalize-space(@class), ' '), ' txs ')]/descendant-or-self::text()\" data='Al‑khaliige'>, <Selector query=\"descendant-or-self::div[@id = 'content']/descendant-or-self::*/div[@class and contains(concat(' ', normalize-space(@class), ' '), ' txs ')]/descendant-or-self::text()\" data='1'>, <Selector query=\"descendant-or-self::div[@id = 'content']/descendant-or-self::*/div[@class and contains(concat(' ', normalize-space(@class), ' '), ' txs ')]/descendant-or-self::text()\" data='\\xa0'>, <Selector query=\"descendant-or-self::div[@id = 'content']/descendant-or-self::*/div[@class and contains(concat(' ', normalize-space(@class), ' '), ' txs ')]/descendant-or-self::text()\" data='Fi l‑bidaaya,'>, <Selector query=\"descendant-or-self::div[@id = 'content']/descendant-or-self::*/div[@class and contains(concat(' ', normalize-space(@class), ' '), ' txs ')]/descendant-or-self::text()\" data='Allah khalag al‑samaawaat wa l‑ard.'>, <Selector query=\"descendant-or-self::div[@id = 'content']/descendant-or-self::*/div[@class and contains(concat(' ', normalize-space(@class), ' '), ' txs ')]/descendant-or-self::text()\" data='2'>, <Selector query=\"descendant-or-self::div[@id = 'content']/descendant-or-self::*/div[@class and contains(concat(' ', normalize-space(@class), ' '), ' txs ')]/descendant-or-self::text()\" data='\\xa0'>, <Selector query=\"descendant-or-self::div[@id = 'content']/descendant-or-self::*/div[@class and contains(concat(' ', normalize-space(@class), ' '), ' txs ')]/descendant-or-self::text()\" data='Wa l‑ard faadiye.'>, <Selector query=\"descendant-or-self::div[@id = 'content']/descendant-or-self::*/div[@class and contains(concat(' ', normalize-space(@class), ' '), ' txs ')]/descendant-or-self::text()\" data='Hi ma indaha cheyy foogha.'>, <Selector query=\"descendant-or-self::div[@id = 'content']/descendant-or-self::*/div[@class and contains(concat(' ', normalize-space(@class), ' '), ' txs ')]/descendant-or-self::text()\" data='Wa l‑dalaam gaaʼid yikhatti al‑almi a...'>, <Selector query=\"descendant-or-self::div[@id = 'content']/descendant-or-self::*/div[@class and contains(concat(' ', normalize-space(@class), ' '), ' txs ')]/descendant-or-self::text()\" data='3'>, <Selector query=\"descendant-or-self::div[@id = 'content']/descendant-or-self::*/div[@class and contains(concat(' ', normalize-space(@class), ' '), ' txs ')]/descendant-or-self::text()\" data='\\xa0'>, <Selector query=\"descendant-or-self::div[@id = 'content']/descendant-or-self::*/div[@class and contains(concat(' ', normalize-space(@class), ' '), ' txs ')]/descendant-or-self::text()\" data='Wa Allah al‑Rabb gaal\\u202f:'>, <Selector query=\"descendant-or-self::div[@id = 'content']/descendant-or-self::*/div[@class and contains(concat(' ', normalize-space(@class), ' '), ' txs ')]/descendant-or-self::text()\" data='«\\u202fKhalli yukuun nuur.'>, <Selector query=\"descendant-or-self::div[@id = 'content']/descendant-or-self::*/div[@class and contains(concat(' ', normalize-space(@class), ' '), ' txs ')]/descendant-or-self::text()\" data='\\u202f» Wa khalaas,'>, <Selector query=\"descendant-or-self::div[@id = 'content']/descendant-or-self::*/div[@class and contains(concat(' ', normalize-space(@class), ' '), ' txs ')]/descendant-or-self::text()\" data='al‑nuur kaan.'>, <Selector query=\"descendant-or-self::div[@id = 'content']/descendant-or-self::*/div[@class and contains(concat(' ', normalize-space(@class), ' '), ' txs ')]/descendant-or-self::text()\" data='4'>, <Selector query=\"descendant-or-self::div[@id = 'content']/descendant-or-self::*/div[@class and contains(concat(' ', normalize-space(@class), ' '), ' txs ')]/descendant-or-self::text()\" data='\\xa0'>, <Selector query=\"descendant-or-self::div[@id = 'content']/descendant-or-self::*/div[@class and contains(concat(' ', normalize-space(@class), ' '), ' txs ')]/descendant-or-self::text()\" data='Wa Allah al‑Rabb chaaf kadar al‑nuur ...'>, <Selector query=\"descendant-or-self::div[@id = 'content']/descendant-or-self::*/div[@class and contains(concat(' ', normalize-space(@class), ' '), ' txs ')]/descendant-or-self::text()\" data='Wa farag al‑nuur min al‑dalaam.'>, <Selector query=\"descendant-or-self::div[@id = 'content']/descendant-or-self::*/div[@class and contains(concat(' ', normalize-space(@class), ' '), ' txs ')]/descendant-or-self::text()\" data='5'>, <Selector query=\"descendant-or-self::div[@id = 'content']/descendant-or-self::*/div[@class and contains(concat(' ', normalize-space(@class), ' '), ' txs ')]/descendant-or-self::text()\" data='\\xa0'>, <Selector query=\"descendant-or-self::div[@id = 'content']/descendant-or-self::*/div[@class and contains(concat(' ', normalize-space(@class), ' '), ' txs ')]/descendant-or-self::text()\" data='Wa samma al‑nuur nahaar wa l‑dalaam l...'>, <Selector query=\"descendant-or-self::div[@id = 'content']/descendant-or-self::*/div[@class and contains(concat(' ', normalize-space(@class), ' '), ' txs ')]/descendant-or-self::text()\" data='Wa kaan achiiye wa kaan fajur.'>, <Selector query=\"descendant-or-self::div[@id = 'content']/descendant-or-self::*/div[@class and contains(concat(' ', normalize-space(@class), ' '), ' txs ')]/descendant-or-self::text()\" data='Da l‑yoom al‑awwal.'>, <Selector query=\"descendant-or-self::div[@id = 'content']/descendant-or-self::*/div[@class and contains(concat(' ', normalize-space(@class), ' '), ' txs ')]/descendant-or-self::text()\" data='6'>, <Selector query=\"descendant-or-self::div[@id = 'content']/descendant-or-self::*/div[@class and contains(concat(' ', normalize-space(@class), ' '), ' txs ')]/descendant-or-self::text()\" data='\\xa0'>, <Selector query=\"descendant-or-self::div[@id = 'content']/descendant-or-self::*/div[@class and contains(concat(' ', normalize-space(@class), ' '), ' txs ')]/descendant-or-self::text()\" data='Wa Allah al‑Rabb gaal\\u202f:'>, <Selector query=\"descendant-or-self::div[@id = 'content']/descendant-or-self::*/div[@class and contains(concat(' ', normalize-space(@class), ' '), ' txs ')]/descendant-or-self::text()\" data='«\\u202fKhalli tukuun faraga been al‑almi w...'>, <Selector query=\"descendant-or-self::div[@id = 'content']/descendant-or-self::*/div[@class and contains(concat(' ', normalize-space(@class), ' '), ' txs ')]/descendant-or-self::text()\" data='7'>, <Selector query=\"descendant-or-self::div[@id = 'content']/descendant-or-self::*/div[@class and contains(concat(' ', normalize-space(@class), ' '), ' txs ')]/descendant-or-self::text()\" data='\\xa0'>, <Selector query=\"descendant-or-self::div[@id = 'content']/descendant-or-self::*/div[@class and contains(concat(' ', normalize-space(@class), ' '), ' txs ')]/descendant-or-self::text()\" data='Wa l‑Rabb khalag al‑faraga wa farag b...'>, <Selector query=\"descendant-or-self::div[@id = 'content']/descendant-or-self::*/div[@class and contains(concat(' ', normalize-space(@class), ' '), ' txs ')]/descendant-or-self::text()\" data='Wa khalaas,'>, <Selector query=\"descendant-or-self::div[@id = 'content']/descendant-or-self::*/div[@class and contains(concat(' ', normalize-space(@class), ' '), ' txs ')]/descendant-or-self::text()\" data='bigi misil da.'>, <Selector query=\"descendant-or-self::div[@id = 'content']/descendant-or-self::*/div[@class and contains(concat(' ', normalize-space(@class), ' '), ' txs ')]/descendant-or-self::text()\" data='8'>, <Selector query=\"descendant-or-self::div[@id = 'content']/descendant-or-self::*/div[@class and contains(concat(' ', normalize-space(@class), ' '), ' txs ')]/descendant-or-self::text()\" data='\\xa0'>, <Selector query=\"descendant-or-self::div[@id = 'content']/descendant-or-self::*/div[@class and contains(concat(' ', normalize-space(@class), ' '), ' txs ')]/descendant-or-self::text()\" data='Wa samma al‑faraga di,'>, <Selector query=\"descendant-or-self::div[@id = 'content']/descendant-or-self::*/div[@class and contains(concat(' ', normalize-space(@class), ' '), ' txs ')]/descendant-or-self::text()\" data='sama.'>, <Selector query=\"descendant-or-self::div[@id = 'content']/descendant-or-self::*/div[@class and contains(concat(' ', normalize-space(@class), ' '), ' txs ')]/descendant-or-self::text()\" data='Wa kaan achiiye wa kaan fajur.'>, <Selector query=\"descendant-or-self::div[@id = 'content']/descendant-or-self::*/div[@class and contains(concat(' ', normalize-space(@class), ' '), ' txs ')]/descendant-or-self::text()\" data='Da l‑yoom al‑taani.'>, <Selector query=\"descendant-or-self::div[@id = 'content']/descendant-or-self::*/div[@class and contains(concat(' ', normalize-space(@class), ' '), ' txs ')]/descendant-or-self::text()\" data='9'>, <Selector query=\"descendant-or-self::div[@id = 'content']/descendant-or-self::*/div[@class and contains(concat(' ', normalize-space(@class), ' '), ' txs ')]/descendant-or-self::text()\" data='\\xa0'>, <Selector query=\"descendant-or-self::div[@id = 'content']/descendant-or-self::*/div[@class and contains(concat(' ', normalize-space(@class), ' '), ' txs ')]/descendant-or-self::text()\" data='Wa l‑Rabb gaal\\u202f:'>, <Selector query=\"descendant-or-self::div[@id = 'content']/descendant-or-self::*/div[@class and contains(concat(' ', normalize-space(@class), ' '), ' txs ')]/descendant-or-self::text()\" data='«\\u202fKhalli al‑almi al‑tihit le l‑sama y...'>, <Selector query=\"descendant-or-self::div[@id = 'content']/descendant-or-self::*/div[@class and contains(concat(' ', normalize-space(@class), ' '), ' txs ')]/descendant-or-self::text()\" data='\\u202f» Wa khalaas,'>, <Selector query=\"descendant-or-self::div[@id = 'content']/descendant-or-self::*/div[@class and contains(concat(' ', normalize-space(@class), ' '), ' txs ')]/descendant-or-self::text()\" data='bigi misil da.'>, <Selector query=\"descendant-or-self::div[@id = 'content']/descendant-or-self::*/div[@class and contains(concat(' ', normalize-space(@class), ' '), ' txs ')]/descendant-or-self::text()\" data='10'>, <Selector query=\"descendant-or-self::div[@id = 'content']/descendant-or-self::*/div[@class and contains(concat(' ', normalize-space(@class), ' '), ' txs ')]/descendant-or-self::text()\" data='\\xa0'>, <Selector query=\"descendant-or-self::div[@id = 'content']/descendant-or-self::*/div[@class and contains(concat(' ', normalize-space(@class), ' '), ' txs ')]/descendant-or-self::text()\" data='Wa hu samma al‑bakaan al‑yaabis,'>, <Selector query=\"descendant-or-self::div[@id = 'content']/descendant-or-self::*/div[@class and contains(concat(' ', normalize-space(@class), ' '), ' txs ')]/descendant-or-self::text()\" data='ard wa l‑bakaan al‑indah almi,'>, <Selector query=\"descendant-or-self::div[@id = 'content']/descendant-or-self::*/div[@class and contains(concat(' ', normalize-space(@class), ' '), ' txs ')]/descendant-or-self::text()\" data='bahar.'>, <Selector query=\"descendant-or-self::div[@id = 'content']/descendant-or-self::*/div[@class and contains(concat(' ', normalize-space(@class), ' '), ' txs ')]/descendant-or-self::text()\" data='Wa Allah al‑Rabb chaaf kadar al‑cheyy...'>, <Selector query=\"descendant-or-self::div[@id = 'content']/descendant-or-self::*/div[@class and contains(concat(' ', normalize-space(@class), ' '), ' txs ')]/descendant-or-self::text()\" data='11'>, <Selector query=\"descendant-or-self::div[@id = 'content']/descendant-or-self::*/div[@class and contains(concat(' ', normalize-space(@class), ' '), ' txs ')]/descendant-or-self::text()\" data='\\xa0'>, <Selector query=\"descendant-or-self::div[@id = 'content']/descendant-or-self::*/div[@class and contains(concat(' ', normalize-space(@class), ' '), ' txs ')]/descendant-or-self::text()\" data='Wa l‑Rabb gaal\\u202f:'>, <Selector query=\"descendant-or-self::div[@id = 'content']/descendant-or-self::*/div[@class and contains(concat(' ', normalize-space(@class), ' '), ' txs ')]/descendant-or-self::text()\" data='«\\u202fKhalli al‑ard tinmali be l‑khadaar.'>, <Selector query=\"descendant-or-self::div[@id = 'content']/descendant-or-self::*/div[@class and contains(concat(' ', normalize-space(@class), ' '), ' txs ')]/descendant-or-self::text()\" data='Khalli ayyi nafar hana gechch al‑inda...'>, <Selector query=\"descendant-or-self::div[@id = 'content']/descendant-or-self::*/div[@class and contains(concat(' ', normalize-space(@class), ' '), ' txs ')]/descendant-or-self::text()\" data='yugummu fi ayyi bakaan fi l‑ard.'>, <Selector query=\"descendant-or-self::div[@id = 'content']/descendant-or-self::*/div[@class and contains(concat(' ', normalize-space(@class), ' '), ' txs ')]/descendant-or-self::text()\" data='\\u202f» Wa khalaas,'>, <Selector query=\"descendant-or-self::div[@id = 'content']/descendant-or-self::*/div[@class and contains(concat(' ', normalize-space(@class), ' '), ' txs ')]/descendant-or-self::text()\" data='bigi misil da.'>, <Selector query=\"descendant-or-self::div[@id = 'content']/descendant-or-self::*/div[@class and contains(concat(' ', normalize-space(@class), ' '), ' txs ')]/descendant-or-self::text()\" data='12'>, <Selector query=\"descendant-or-self::div[@id = 'content']/descendant-or-self::*/div[@class and contains(concat(' ', normalize-space(@class), ' '), ' txs ')]/descendant-or-self::text()\" data='\\xa0'>, <Selector query=\"descendant-or-self::div[@id = 'content']/descendant-or-self::*/div[@class and contains(concat(' ', normalize-space(@class), ' '), ' txs ')]/descendant-or-self::text()\" data='Wa l‑ard gawwamat khadaar wa ayyi naf...'>, <Selector query=\"descendant-or-self::div[@id = 'content']/descendant-or-self::*/div[@class and contains(concat(' ', normalize-space(@class), ' '), ' txs ')]/descendant-or-self::text()\" data='Wa Allah al‑Rabb chaaf kadar al‑cheyy...'>, <Selector query=\"descendant-or-self::div[@id = 'content']/descendant-or-self::*/div[@class and contains(concat(' ', normalize-space(@class), ' '), ' txs ')]/descendant-or-self::text()\" data='13'>, <Selector query=\"descendant-or-self::div[@id = 'content']/descendant-or-self::*/div[@class and contains(concat(' ', normalize-space(@class), ' '), ' txs ')]/descendant-or-self::text()\" data='\\xa0'>, <Selector query=\"descendant-or-self::div[@id = 'content']/descendant-or-self::*/div[@class and contains(concat(' ', normalize-space(@class), ' '), ' txs ')]/descendant-or-self::text()\" data='Wa kaan achiiye wa kaan fajur.'>, <Selector query=\"descendant-or-self::div[@id = 'content']/descendant-or-self::*/div[@class and contains(concat(' ', normalize-space(@class), ' '), ' txs ')]/descendant-or-self::text()\" data='Da l‑yoom al‑taalit.'>, <Selector query=\"descendant-or-self::div[@id = 'content']/descendant-or-self::*/div[@class and contains(concat(' ', normalize-space(@class), ' '), ' txs ')]/descendant-or-self::text()\" data='14'>, <Selector query=\"descendant-or-self::div[@id = 'content']/descendant-or-self::*/div[@class and contains(concat(' ', normalize-space(@class), ' '), ' txs ')]/descendant-or-self::text()\" data='\\xa0'>, <Selector query=\"descendant-or-self::div[@id = 'content']/descendant-or-self::*/div[@class and contains(concat(' ', normalize-space(@class), ' '), ' txs ')]/descendant-or-self::text()\" data='Wa l‑Rabb gaal\\u202f:'>, <Selector query=\"descendant-or-self::div[@id = 'content']/descendant-or-self::*/div[@class and contains(concat(' ', normalize-space(@class), ' '), ' txs ')]/descendant-or-self::text()\" data='«\\u202fKhalli yukuun anwaar fi l‑sama le y...'>, <Selector query=\"descendant-or-self::div[@id = 'content']/descendant-or-self::*/div[@class and contains(concat(' ', normalize-space(@class), ' '), ' txs ')]/descendant-or-self::text()\" data='15'>, <Selector query=\"descendant-or-self::div[@id = 'content']/descendant-or-self::*/div[@class and contains(concat(' ', normalize-space(@class), ' '), ' txs ')]/descendant-or-self::text()\" data='\\xa0'>, <Selector query=\"descendant-or-self::div[@id = 'content']/descendant-or-self::*/div[@class and contains(concat(' ', normalize-space(@class), ' '), ' txs ')]/descendant-or-self::text()\" data='Wa khalli yidawwu al‑ard min al‑sama.'>, <Selector query=\"descendant-or-self::div[@id = 'content']/descendant-or-self::*/div[@class and contains(concat(' ', normalize-space(@class), ' '), ' txs ')]/descendant-or-self::text()\" data='\\u202f» Wa khalaas,'>, <Selector query=\"descendant-or-self::div[@id = 'content']/descendant-or-self::*/div[@class and contains(concat(' ', normalize-space(@class), ' '), ' txs ')]/descendant-or-self::text()\" data='bigi misil da.'>, <Selector query=\"descendant-or-self::div[@id = 'content']/descendant-or-self::*/div[@class and contains(concat(' ', normalize-space(@class), ' '), ' txs ')]/descendant-or-self::text()\" data='16'>, <Selector query=\"descendant-or-self::div[@id = 'content']/descendant-or-self::*/div[@class and contains(concat(' ', normalize-space(@class), ' '), ' txs ')]/descendant-or-self::text()\" data='\\xa0'>, <Selector query=\"descendant-or-self::div[@id = 'content']/descendant-or-self::*/div[@class and contains(concat(' ', normalize-space(@class), ' '), ' txs ')]/descendant-or-self::text()\" data='Wa l‑Rabb khalag anwaar itneen kubaar.'>, <Selector query=\"descendant-or-self::div[@id = 'content']/descendant-or-self::*/div[@class and contains(concat(' ', normalize-space(@class), ' '), ' txs ')]/descendant-or-self::text()\" data='Al‑kabiir yidawwi be l‑nahaar wa l‑sa...'>, <Selector query=\"descendant-or-self::div[@id = 'content']/descendant-or-self::*/div[@class and contains(concat(' ', normalize-space(@class), ' '), ' txs ')]/descendant-or-self::text()\" data='Wa hu khalag al‑nujuum kula.'>, <Selector query=\"descendant-or-self::div[@id = 'content']/descendant-or-self::*/div[@class and contains(concat(' ', normalize-space(@class), ' '), ' txs ')]/descendant-or-self::text()\" data='17'>, <Selector query=\"descendant-or-self::div[@id = 'content']/descendant-or-self::*/div[@class and contains(concat(' ', normalize-space(@class), ' '), ' txs ')]/descendant-or-self::text()\" data='\\xa0'>, <Selector query=\"descendant-or-self::div[@id = 'content']/descendant-or-self::*/div[@class and contains(concat(' ', normalize-space(@class), ' '), ' txs ')]/descendant-or-self::text()\" data='Wa khattaahum fi l‑sama le yidawwu al...'>, <Selector query=\"descendant-or-self::div[@id = 'content']/descendant-or-self::*/div[@class and contains(concat(' ', normalize-space(@class), ' '), ' txs ')]/descendant-or-self::text()\" data='18'>, <Selector query=\"descendant-or-self::div[@id = 'content']/descendant-or-self::*/div[@class and contains(concat(' ', normalize-space(@class), ' '), ' txs ')]/descendant-or-self::text()\" data='\\xa0'>, <Selector query=\"descendant-or-self::div[@id = 'content']/descendant-or-self::*/div[@class and contains(concat(' ', normalize-space(@class), ' '), ' txs ')]/descendant-or-self::text()\" data='wa yahkumu al‑nahaar wa l‑leel wa yif...'>, <Selector query=\"descendant-or-self::div[@id = 'content']/descendant-or-self::*/div[@class and contains(concat(' ', normalize-space(@class), ' '), ' txs ')]/descendant-or-self::text()\" data='Wa Allah al‑Rabb chaaf kadar al‑cheyy...'>, <Selector query=\"descendant-or-self::div[@id = 'content']/descendant-or-self::*/div[@class and contains(concat(' ', normalize-space(@class), ' '), ' txs ')]/descendant-or-self::text()\" data='19'>, <Selector query=\"descendant-or-self::div[@id = 'content']/descendant-or-self::*/div[@class and contains(concat(' ', normalize-space(@class), ' '), ' txs ')]/descendant-or-self::text()\" data='\\xa0'>, <Selector query=\"descendant-or-self::div[@id = 'content']/descendant-or-self::*/div[@class and contains(concat(' ', normalize-space(@class), ' '), ' txs ')]/descendant-or-self::text()\" data='Wa kaan achiiye wa kaan fajur.'>, <Selector query=\"descendant-or-self::div[@id = 'content']/descendant-or-self::*/div[@class and contains(concat(' ', normalize-space(@class), ' '), ' txs ')]/descendant-or-self::text()\" data='Da l‑yoom al‑raabiʼ.'>, <Selector query=\"descendant-or-self::div[@id = 'content']/descendant-or-self::*/div[@class and contains(concat(' ', normalize-space(@class), ' '), ' txs ')]/descendant-or-self::text()\" data='20'>, <Selector query=\"descendant-or-self::div[@id = 'content']/descendant-or-self::*/div[@class and contains(concat(' ', normalize-space(@class), ' '), ' txs ')]/descendant-or-self::text()\" data='\\xa0'>, <Selector query=\"descendant-or-self::div[@id = 'content']/descendant-or-self::*/div[@class and contains(concat(' ', normalize-space(@class), ' '), ' txs ')]/descendant-or-self::text()\" data='Wa l‑Rabb gaal\\u202f:'>, <Selector query=\"descendant-or-self::div[@id = 'content']/descendant-or-self::*/div[@class and contains(concat(' ', normalize-space(@class), ' '), ' txs ')]/descendant-or-self::text()\" data='«\\u202fKhalli haywaanaat be katara yilharr...'>, <Selector query=\"descendant-or-self::div[@id = 'content']/descendant-or-self::*/div[@class and contains(concat(' ', normalize-space(@class), ' '), ' txs ')]/descendant-or-self::text()\" data='21'>, <Selector query=\"descendant-or-self::div[@id = 'content']/descendant-or-self::*/div[@class and contains(concat(' ', normalize-space(@class), ' '), ' txs ')]/descendant-or-self::text()\" data='\\xa0'>, <Selector query=\"descendant-or-self::div[@id = 'content']/descendant-or-self::*/div[@class and contains(concat(' ', normalize-space(@class), ' '), ' txs ')]/descendant-or-self::text()\" data='Wa khalaas,'>, <Selector query=\"descendant-or-self::div[@id = 'content']/descendant-or-self::*/div[@class and contains(concat(' ', normalize-space(@class), ' '), ' txs ')]/descendant-or-self::text()\" data='al‑Rabb khalag al‑haywaanaat al‑kubaa...'>, <Selector query=\"descendant-or-self::div[@id = 'content']/descendant-or-self::*/div[@class and contains(concat(' ', normalize-space(@class), ' '), ' txs ')]/descendant-or-self::text()\" data='Wa khalag ayyi nafar hana l‑haywaanaa...'>, <Selector query=\"descendant-or-self::div[@id = 'content']/descendant-or-self::*/div[@class and contains(concat(' ', normalize-space(@class), ' '), ' txs ')]/descendant-or-self::text()\" data='Wa Allah al‑Rabb chaaf kadar al‑cheyy...'>, <Selector query=\"descendant-or-self::div[@id = 'content']/descendant-or-self::*/div[@class and contains(concat(' ', normalize-space(@class), ' '), ' txs ')]/descendant-or-self::text()\" data='22'>, <Selector query=\"descendant-or-self::div[@id = 'content']/descendant-or-self::*/div[@class and contains(concat(' ', normalize-space(@class), ' '), ' txs ')]/descendant-or-self::text()\" data='\\xa0'>, <Selector query=\"descendant-or-self::div[@id = 'content']/descendant-or-self::*/div[@class and contains(concat(' ', normalize-space(@class), ' '), ' txs ')]/descendant-or-self::text()\" data='Wa baarakaahum kulluhum wa gaal le l‑...'>, <Selector query=\"descendant-or-self::div[@id = 'content']/descendant-or-self::*/div[@class and contains(concat(' ', normalize-space(@class), ' '), ' txs ')]/descendant-or-self::text()\" data='«\\u202fAldo wa abgo katiiriin wa amlo al‑b...'>, <Selector query=\"descendant-or-self::div[@id = 'content']/descendant-or-self::*/div[@class and contains(concat(' ', normalize-space(@class), ' '), ' txs ')]/descendant-or-self::text()\" data='\\u202f» Wa gaal le l‑tuyuur\\u202f:'>, <Selector query=\"descendant-or-self::div[@id = 'content']/descendant-or-self::*/div[@class and contains(concat(' ', normalize-space(@class), ' '), ' txs ')]/descendant-or-self::text()\" data='«\\u202fAbgo katiiriin fi l‑ard.\\u202f»'>, <Selector query=\"descendant-or-self::div[@id = 'content']/descendant-or-self::*/div[@class and contains(concat(' ', normalize-space(@class), ' '), ' txs ')]/descendant-or-self::text()\" data='23'>, <Selector query=\"descendant-or-self::div[@id = 'content']/descendant-or-self::*/div[@class and contains(concat(' ', normalize-space(@class), ' '), ' txs ')]/descendant-or-self::text()\" data='\\xa0'>, <Selector query=\"descendant-or-self::div[@id = 'content']/descendant-or-self::*/div[@class and contains(concat(' ', normalize-space(@class), ' '), ' txs ')]/descendant-or-self::text()\" data='Wa kaan achiiye wa kaan fajur.'>, <Selector query=\"descendant-or-self::div[@id = 'content']/descendant-or-self::*/div[@class and contains(concat(' ', normalize-space(@class), ' '), ' txs ')]/descendant-or-self::text()\" data='Da l‑yoom al‑khaamis.'>, <Selector query=\"descendant-or-self::div[@id = 'content']/descendant-or-self::*/div[@class and contains(concat(' ', normalize-space(@class), ' '), ' txs ')]/descendant-or-self::text()\" data='24'>, <Selector query=\"descendant-or-self::div[@id = 'content']/descendant-or-self::*/div[@class and contains(concat(' ', normalize-space(@class), ' '), ' txs ')]/descendant-or-self::text()\" data='\\xa0'>, <Selector query=\"descendant-or-self::div[@id = 'content']/descendant-or-self::*/div[@class and contains(concat(' ', normalize-space(@class), ' '), ' txs ')]/descendant-or-self::text()\" data='Wa l‑Rabb gaal\\u202f:'>, <Selector query=\"descendant-or-self::div[@id = 'content']/descendant-or-self::*/div[@class and contains(concat(' ', normalize-space(@class), ' '), ' txs ')]/descendant-or-self::text()\" data='«\\u202fKhalli al‑ard tamrug minha ayyi naf...'>, <Selector query=\"descendant-or-self::div[@id = 'content']/descendant-or-self::*/div[@class and contains(concat(' ', normalize-space(@class), ' '), ' txs ')]/descendant-or-self::text()\" data='\\u202f» Wa khalaas,'>, <Selector query=\"descendant-or-self::div[@id = 'content']/descendant-or-self::*/div[@class and contains(concat(' ', normalize-space(@class), ' '), ' txs ')]/descendant-or-self::text()\" data='bigi misil da.'>, <Selector query=\"descendant-or-self::div[@id = 'content']/descendant-or-self::*/div[@class and contains(concat(' ', normalize-space(@class), ' '), ' txs ')]/descendant-or-self::text()\" data='25'>, <Selector query=\"descendant-or-self::div[@id = 'content']/descendant-or-self::*/div[@class and contains(concat(' ', normalize-space(@class), ' '), ' txs ')]/descendant-or-self::text()\" data='\\xa0'>, <Selector query=\"descendant-or-self::div[@id = 'content']/descendant-or-self::*/div[@class and contains(concat(' ', normalize-space(@class), ' '), ' txs ')]/descendant-or-self::text()\" data='Wa l‑Rabb khalag ayyi nafar hana hayw...'>, <Selector query=\"descendant-or-self::div[@id = 'content']/descendant-or-self::*/div[@class and contains(concat(' ', normalize-space(@class), ' '), ' txs ')]/descendant-or-self::text()\" data='Wa Allah chaaf kadar al‑cheyy da sameh.'>, <Selector query=\"descendant-or-self::div[@id = 'content']/descendant-or-self::*/div[@class and contains(concat(' ', normalize-space(@class), ' '), ' txs ')]/descendant-or-self::text()\" data='26'>, <Selector query=\"descendant-or-self::div[@id = 'content']/descendant-or-self::*/div[@class and contains(concat(' ', normalize-space(@class), ' '), ' txs ')]/descendant-or-self::text()\" data='\\xa0'>, <Selector query=\"descendant-or-self::div[@id = 'content']/descendant-or-self::*/div[@class and contains(concat(' ', normalize-space(@class), ' '), ' txs ')]/descendant-or-self::text()\" data='Wa l‑Rabb gaal\\u202f:'>, <Selector query=\"descendant-or-self::div[@id = 'content']/descendant-or-self::*/div[@class and contains(concat(' ', normalize-space(@class), ' '), ' txs ')]/descendant-or-self::text()\" data='«\\u202fNakhalgu al‑insaan fi suuritna wa y...'>, <Selector query=\"descendant-or-self::div[@id = 'content']/descendant-or-self::*/div[@class and contains(concat(' ', normalize-space(@class), ' '), ' txs ')]/descendant-or-self::text()\" data='Khalli yahkim fi huut al‑bahar wa tuy...'>, <Selector query=\"descendant-or-self::div[@id = 'content']/descendant-or-self::*/div[@class and contains(concat(' ', normalize-space(@class), ' '), ' txs ')]/descendant-or-self::text()\" data='Wa khalli yahkim fi kulla l‑ard wa fi...'>, <Selector query=\"descendant-or-self::div[@id = 'content']/descendant-or-self::*/div[@class and contains(concat(' ', normalize-space(@class), ' '), ' txs ')]/descendant-or-self::text()\" data='27'>, <Selector query=\"descendant-or-self::div[@id = 'content']/descendant-or-self::*/div[@class and contains(concat(' ', normalize-space(@class), ' '), ' txs ')]/descendant-or-self::text()\" data='\\xa0'>, <Selector query=\"descendant-or-self::div[@id = 'content']/descendant-or-self::*/div[@class and contains(concat(' ', normalize-space(@class), ' '), ' txs ')]/descendant-or-self::text()\" data='Wa khalaas,'>, <Selector query=\"descendant-or-self::div[@id = 'content']/descendant-or-self::*/div[@class and contains(concat(' ', normalize-space(@class), ' '), ' txs ')]/descendant-or-self::text()\" data='Allah khalag al‑insaan fi suurtah wa ...'>, <Selector query=\"descendant-or-self::div[@id = 'content']/descendant-or-self::*/div[@class and contains(concat(' ', normalize-space(@class), ' '), ' txs ')]/descendant-or-self::text()\" data='al‑Rabb khalagaahum.'>, <Selector query=\"descendant-or-self::div[@id = 'content']/descendant-or-self::*/div[@class and contains(concat(' ', normalize-space(@class), ' '), ' txs ')]/descendant-or-self::text()\" data='Raajil wa mara,'>, <Selector query=\"descendant-or-self::div[@id = 'content']/descendant-or-self::*/div[@class and contains(concat(' ', normalize-space(@class), ' '), ' txs ')]/descendant-or-self::text()\" data='hu khalagaahum.'>, <Selector query=\"descendant-or-self::div[@id = 'content']/descendant-or-self::*/div[@class and contains(concat(' ', normalize-space(@class), ' '), ' txs ')]/descendant-or-self::text()\" data='28'>, <Selector query=\"descendant-or-self::div[@id = 'content']/descendant-or-self::*/div[@class and contains(concat(' ', normalize-space(@class), ' '), ' txs ')]/descendant-or-self::text()\" data='\\xa0'>, <Selector query=\"descendant-or-self::div[@id = 'content']/descendant-or-self::*/div[@class and contains(concat(' ', normalize-space(@class), ' '), ' txs ')]/descendant-or-self::text()\" data='Wa l‑Rabb baarakaahum wa gaal leehum\\u202f:'>, <Selector query=\"descendant-or-self::div[@id = 'content']/descendant-or-self::*/div[@class and contains(concat(' ', normalize-space(@class), ' '), ' txs ')]/descendant-or-self::text()\" data='«\\u202fAldo wa abgo katiiriin wa amlo al‑a...'>, <Selector query=\"descendant-or-self::div[@id = 'content']/descendant-or-self::*/div[@class and contains(concat(' ', normalize-space(@class), ' '), ' txs ')]/descendant-or-self::text()\" data='Wa ahkumu fi huut al‑bahar wa fi tuyu...'>, <Selector query=\"descendant-or-self::div[@id = 'content']/descendant-or-self::*/div[@class and contains(concat(' ', normalize-space(@class), ' '), ' txs ')]/descendant-or-self::text()\" data='29'>, <Selector query=\"descendant-or-self::div[@id = 'content']/descendant-or-self::*/div[@class and contains(concat(' ', normalize-space(@class), ' '), ' txs ')]/descendant-or-self::text()\" data='\\xa0'>, <Selector query=\"descendant-or-self::div[@id = 'content']/descendant-or-self::*/div[@class and contains(concat(' ', normalize-space(@class), ' '), ' txs ')]/descendant-or-self::text()\" data='Wa l‑Rabb gaal\\u202f:'>, <Selector query=\"descendant-or-self::div[@id = 'content']/descendant-or-self::*/div[@class and contains(concat(' ', normalize-space(@class), ' '), ' txs ')]/descendant-or-self::text()\" data='«\\u202fDaahu ana nantiiku kulla l‑khadaar ...'>, <Selector query=\"descendant-or-self::div[@id = 'content']/descendant-or-self::*/div[@class and contains(concat(' ', normalize-space(@class), ' '), ' txs ')]/descendant-or-self::text()\" data='Wa da yabga leeku maʼaachku.'>, <Selector query=\"descendant-or-self::div[@id = 'content']/descendant-or-self::*/div[@class and contains(concat(' ', normalize-space(@class), ' '), ' txs ')]/descendant-or-self::text()\" data='30'>, <Selector query=\"descendant-or-self::div[@id = 'content']/descendant-or-self::*/div[@class and contains(concat(' ', normalize-space(@class), ' '), ' txs ')]/descendant-or-self::text()\" data='\\xa0'>, <Selector query=\"descendant-or-self::div[@id = 'content']/descendant-or-self::*/div[@class and contains(concat(' ', normalize-space(@class), ' '), ' txs ')]/descendant-or-self::text()\" data='Wa le kulla haywaanaat al‑ard wa kull...'>, <Selector query=\"descendant-or-self::div[@id = 'content']/descendant-or-self::*/div[@class and contains(concat(' ', normalize-space(@class), ' '), ' txs ')]/descendant-or-self::text()\" data='nantiihum gechch akhdar achaan yiʼiic...'>, <Selector query=\"descendant-or-self::div[@id = 'content']/descendant-or-self::*/div[@class and contains(concat(' ', normalize-space(@class), ' '), ' txs ')]/descendant-or-self::text()\" data='\\u202f» Wa khalaas,'>, <Selector query=\"descendant-or-self::div[@id = 'content']/descendant-or-self::*/div[@class and contains(concat(' ', normalize-space(@class), ' '), ' txs ')]/descendant-or-self::text()\" data='bigi misil da.'>, <Selector query=\"descendant-or-self::div[@id = 'content']/descendant-or-self::*/div[@class and contains(concat(' ', normalize-space(@class), ' '), ' txs ')]/descendant-or-self::text()\" data='31'>, <Selector query=\"descendant-or-self::div[@id = 'content']/descendant-or-self::*/div[@class and contains(concat(' ', normalize-space(@class), ' '), ' txs ')]/descendant-or-self::text()\" data='\\xa0'>, <Selector query=\"descendant-or-self::div[@id = 'content']/descendant-or-self::*/div[@class and contains(concat(' ', normalize-space(@class), ' '), ' txs ')]/descendant-or-self::text()\" data='Wa Allah chaaf kulla cheyy al‑hu khal...'>, <Selector query=\"descendant-or-self::div[@id = 'content']/descendant-or-self::*/div[@class and contains(concat(' ', normalize-space(@class), ' '), ' txs ')]/descendant-or-self::text()\" data='Wa kaan achiiye wa kaan fajur.'>, <Selector query=\"descendant-or-self::div[@id = 'content']/descendant-or-self::*/div[@class and contains(concat(' ', normalize-space(@class), ' '), ' txs ')]/descendant-or-self::text()\" data='Da l‑yoom al‑saadis.'>]\n",
      "['Al‑khaliige', '1', 'Fi l‑bidaaya,', 'Allah khalag al‑samaawaat wa l‑ard.', '2', 'Wa l‑ard faadiye.', 'Hi ma indaha cheyy foogha.', 'Wa l‑dalaam gaaʼid yikhatti al‑almi al‑khariig wa Ruuh Allah gaaʼid yuhuum fi l‑almi.', '3', 'Wa Allah al‑Rabb gaal\\u202f:', '«\\u202fKhalli yukuun nuur.', '» Wa khalaas,', 'al‑nuur kaan.', '4', 'Wa Allah al‑Rabb chaaf kadar al‑nuur da sameh.', 'Wa farag al‑nuur min al‑dalaam.', '5', 'Wa samma al‑nuur nahaar wa l‑dalaam leel.', 'Wa kaan achiiye wa kaan fajur.', 'Da l‑yoom al‑awwal.', '6', 'Wa Allah al‑Rabb gaal\\u202f:', '«\\u202fKhalli tukuun faraga been al‑almi wa tifaarig al‑almi min al‑almi.\\u202f»', '7', 'Wa l‑Rabb khalag al‑faraga wa farag beeha al‑almi al‑tihit min al‑almi al‑foog.', 'Wa khalaas,', 'bigi misil da.', '8', 'Wa samma al‑faraga di,', 'sama.', 'Wa kaan achiiye wa kaan fajur.', 'Da l‑yoom al‑taani.', '9', 'Wa l‑Rabb gaal\\u202f:', '«\\u202fKhalli al‑almi al‑tihit le l‑sama yilimm bakaan waahid wa yikhalli bakaan yaabis yibiin.', '» Wa khalaas,', 'bigi misil da.', '10', 'Wa hu samma al‑bakaan al‑yaabis,', 'ard wa l‑bakaan al‑indah almi,', 'bahar.', 'Wa Allah al‑Rabb chaaf kadar al‑cheyy da sameh.', '11', 'Wa l‑Rabb gaal\\u202f:', '«\\u202fKhalli al‑ard tinmali be l‑khadaar.', 'Khalli ayyi nafar hana gechch al‑indah teeraab wa ayyi nafar hana chadar al‑indah iyaal al‑yabgo teeraab,', 'yugummu fi ayyi bakaan fi l‑ard.', '» Wa khalaas,', 'bigi misil da.', '12', 'Wa l‑ard gawwamat khadaar wa ayyi nafar hana gechch al‑indah teeraab wa ayyi nafar hana chadar al‑indah iyaal al‑yabgo teeraab.', 'Wa Allah al‑Rabb chaaf kadar al‑cheyy da sameh.', '13', 'Wa kaan achiiye wa kaan fajur.', 'Da l‑yoom al‑taalit.', '14', 'Wa l‑Rabb gaal\\u202f:', '«\\u202fKhalli yukuun anwaar fi l‑sama le yifaarugu al‑nahaar min al‑leel wa le yiwassufu al‑wakit wa ayyaam al‑siniin.', '15', 'Wa khalli yidawwu al‑ard min al‑sama.', '» Wa khalaas,', 'bigi misil da.', '16', 'Wa l‑Rabb khalag anwaar itneen kubaar.', 'Al‑kabiir yidawwi be l‑nahaar wa l‑sakhayyar yidawwi be l‑leel.', 'Wa hu khalag al‑nujuum kula.', '17', 'Wa khattaahum fi l‑sama le yidawwu al‑ard', '18', 'wa yahkumu al‑nahaar wa l‑leel wa yifaarugu al‑nuur min al‑dalaam.', 'Wa Allah al‑Rabb chaaf kadar al‑cheyy da sameh.', '19', 'Wa kaan achiiye wa kaan fajur.', 'Da l‑yoom al‑raabiʼ.', '20', 'Wa l‑Rabb gaal\\u202f:', '«\\u202fKhalli haywaanaat be katara yilharrako fi l‑almi wa khalli tuyuur yitiiru tihit al‑sama min foog le l‑ard.\\u202f»', '21', 'Wa khalaas,', 'al‑Rabb khalag al‑haywaanaat al‑kubaar bilheen al‑gaaʼidiin fi lubb al‑almi.', 'Wa khalag ayyi nafar hana l‑haywaanaat al‑aakhariin al‑yilharrako fi lubb al‑almi be katara wa ayyi nafar hana l‑tuyuur al‑bitiiru.', 'Wa Allah al‑Rabb chaaf kadar al‑cheyy da sameh.', '22', 'Wa baarakaahum kulluhum wa gaal le l‑haywaanaat al‑gaaʼidiin fi l‑almi\\u202f:', '«\\u202fAldo wa abgo katiiriin wa amlo al‑bahar.', '» Wa gaal le l‑tuyuur\\u202f:', '«\\u202fAbgo katiiriin fi l‑ard.\\u202f»', '23', 'Wa kaan achiiye wa kaan fajur.', 'Da l‑yoom al‑khaamis.', '24', 'Wa l‑Rabb gaal\\u202f:', '«\\u202fKhalli al‑ard tamrug minha ayyi nafar hana makhluugiin hayyiin misil bahaayim wa zawaahif al‑ard wa haywaanaat al‑kadaade.', '» Wa khalaas,', 'bigi misil da.', '25', 'Wa l‑Rabb khalag ayyi nafar hana haywaanaat al‑ard wa ayyi nafar hana bahaayim wa ayyi nafar hana zawaahif al‑ard.', 'Wa Allah chaaf kadar al‑cheyy da sameh.', '26', 'Wa l‑Rabb gaal\\u202f:', '«\\u202fNakhalgu al‑insaan fi suuritna wa yichaabihna.', 'Khalli yahkim fi huut al‑bahar wa tuyuur al‑sama wa l‑bahaayim.', 'Wa khalli yahkim fi kulla l‑ard wa fi kulla zawaahif al‑ard.\\u202f»', '27', 'Wa khalaas,', 'Allah khalag al‑insaan fi suurtah wa fi suurtah hu,', 'al‑Rabb khalagaahum.', 'Raajil wa mara,', 'hu khalagaahum.', '28', 'Wa l‑Rabb baarakaahum wa gaal leehum\\u202f:', '«\\u202fAldo wa abgo katiiriin wa amlo al‑ard wa ahkumu foogha.', 'Wa ahkumu fi huut al‑bahar wa fi tuyuur al‑sama wa fi kulla zawaahif al‑ard.\\u202f»', '29', 'Wa l‑Rabb gaal\\u202f:', '«\\u202fDaahu ana nantiiku kulla l‑khadaar al‑indah teeraab al‑gaaʼid fi kulla l‑ard wa kulli chadara al‑indaha iyaal al‑yabgo teeraab.', 'Wa da yabga leeku maʼaachku.', '30', 'Wa le kulla haywaanaat al‑ard wa kulla tuyuur al‑sama wa kulla zawaahif al‑ard wa kulla l‑binnaffaso,', 'nantiihum gechch akhdar achaan yiʼiichu beyah.', '» Wa khalaas,', 'bigi misil da.', '31', 'Wa Allah chaaf kulla cheyy al‑hu khalagah wa l‑cheyy da sameh bilheen.', 'Wa kaan achiiye wa kaan fajur.', 'Da l‑yoom al‑saadis.']\n",
      "[]\n"
     ]
    }
   ],
   "source": [
    "text = sel.css('div#content div.txs ::text') # Pour récupérer le texte de la page\n",
    "print(text)\n",
    "text = text.extract() # Pour extraire le texte\n",
    "text = [t.strip() for t in text if t.strip()] # Pour enlever les espaces vides et les sauts de ligne ainsi que les balises html\n",
    "print(text)\n",
    "list = [] # Pour stocker les versets\n",
    "print(list)\n",
    "i = 0\n",
    "for t in text: # Pour parcourir les lignes de textes et supprimer les numeros.En gros c'est pour que les numeros des versets ne figurent pas dans ma liste des versets\n",
    "    if len(t) <= 2:\n",
    "        i+=1\n",
    "    else:\n",
    "        if len(list) == i+1:\n",
    "            list[i] = list[i] + \" \" + t\n",
    "        else:\n",
    "            list.append(t)\n",
    "\n",
    "for l in list:\n",
    "    for caract in l:\n",
    "        l = l.replace(\"«\", \"\")\n",
    "        l = l.replace(\"»\", \"\")\n",
    "    with open('dataset.txt', 'a+') as file :\n",
    "            file.write(l)\n",
    "            file.write(\"\\n\")"
   ]
  },
  {
   "cell_type": "markdown",
   "metadata": {},
   "source": [
    "# La creation de mon arraigné ou plutot robots d'indexations"
   ]
  },
  {
   "cell_type": "markdown",
   "metadata": {},
   "source": [
    "# Pour l'arabe"
   ]
  },
  {
   "cell_type": "code",
   "execution_count": 1,
   "metadata": {},
   "outputs": [
    {
     "name": "stderr",
     "output_type": "stream",
     "text": [
      "2025-05-04 13:42:27 [scrapy.utils.log] INFO: Scrapy 2.12.0 started (bot: scrapybot)\n",
      "2025-05-04 13:42:27 [scrapy.utils.log] INFO: Versions: lxml 5.3.1.0, libxml2 2.12.9, cssselect 1.3.0, parsel 1.10.0, w3lib 2.3.1, Twisted 24.11.0, Python 3.12.3 (main, Feb  4 2025, 14:48:35) [GCC 13.3.0], pyOpenSSL 25.0.0 (OpenSSL 3.4.1 11 Feb 2025), cryptography 44.0.2, Platform Linux-6.11.0-17-generic-x86_64-with-glibc2.39\n",
      "2025-05-04 13:42:27 [scrapy.addons] INFO: Enabled addons:\n",
      "[]\n",
      "2025-05-04 13:42:27 [scrapy.utils.log] DEBUG: Using reactor: twisted.internet.epollreactor.EPollReactor\n",
      "2025-05-04 13:42:27 [scrapy.extensions.telnet] INFO: Telnet Password: 515e51ccd7cade98\n",
      "2025-05-04 13:42:27 [scrapy.middleware] INFO: Enabled extensions:\n",
      "['scrapy.extensions.corestats.CoreStats',\n",
      " 'scrapy.extensions.telnet.TelnetConsole',\n",
      " 'scrapy.extensions.memusage.MemoryUsage',\n",
      " 'scrapy.extensions.logstats.LogStats']\n",
      "2025-05-04 13:42:27 [scrapy.crawler] INFO: Overridden settings:\n",
      "{}\n",
      "2025-05-04 13:42:28 [scrapy.middleware] INFO: Enabled downloader middlewares:\n",
      "['scrapy.downloadermiddlewares.offsite.OffsiteMiddleware',\n",
      " 'scrapy.downloadermiddlewares.httpauth.HttpAuthMiddleware',\n",
      " 'scrapy.downloadermiddlewares.downloadtimeout.DownloadTimeoutMiddleware',\n",
      " 'scrapy.downloadermiddlewares.defaultheaders.DefaultHeadersMiddleware',\n",
      " 'scrapy.downloadermiddlewares.useragent.UserAgentMiddleware',\n",
      " 'scrapy.downloadermiddlewares.retry.RetryMiddleware',\n",
      " 'scrapy.downloadermiddlewares.redirect.MetaRefreshMiddleware',\n",
      " 'scrapy.downloadermiddlewares.httpcompression.HttpCompressionMiddleware',\n",
      " 'scrapy.downloadermiddlewares.redirect.RedirectMiddleware',\n",
      " 'scrapy.downloadermiddlewares.cookies.CookiesMiddleware',\n",
      " 'scrapy.downloadermiddlewares.httpproxy.HttpProxyMiddleware',\n",
      " 'scrapy.downloadermiddlewares.stats.DownloaderStats']\n",
      "2025-05-04 13:42:28 [scrapy.middleware] INFO: Enabled spider middlewares:\n",
      "['scrapy.spidermiddlewares.httperror.HttpErrorMiddleware',\n",
      " 'scrapy.spidermiddlewares.referer.RefererMiddleware',\n",
      " 'scrapy.spidermiddlewares.urllength.UrlLengthMiddleware',\n",
      " 'scrapy.spidermiddlewares.depth.DepthMiddleware']\n",
      "2025-05-04 13:42:28 [scrapy.middleware] INFO: Enabled item pipelines:\n",
      "[]\n",
      "2025-05-04 13:42:28 [scrapy.core.engine] INFO: Spider opened\n",
      "2025-05-04 13:42:28 [scrapy.extensions.logstats] INFO: Crawled 0 pages (at 0 pages/min), scraped 0 items (at 0 items/min)\n",
      "2025-05-04 13:42:28 [scrapy.extensions.telnet] INFO: Telnet console listening on 127.0.0.1:6024\n",
      "2025-05-04 13:42:29 [scrapy.core.engine] DEBUG: Crawled (200) <GET https://media.ipsapps.org/shu/osa/bible/latin/01-GEN-001.html> (referer: None)\n",
      "2025-05-04 13:42:29 [scrapy.core.engine] DEBUG: Crawled (200) <GET https://media.ipsapps.org/shu/osa/bible/latin/01-GEN-002.html> (referer: https://media.ipsapps.org/shu/osa/bible/latin/01-GEN-001.html)\n",
      "2025-05-04 13:42:29 [scrapy.core.engine] DEBUG: Crawled (200) <GET https://media.ipsapps.org/shu/osa/bible/latin/01-GEN-003.html> (referer: https://media.ipsapps.org/shu/osa/bible/latin/01-GEN-002.html)\n",
      "2025-05-04 13:42:30 [scrapy.core.engine] DEBUG: Crawled (200) <GET https://media.ipsapps.org/shu/osa/bible/latin/01-GEN-004.html> (referer: https://media.ipsapps.org/shu/osa/bible/latin/01-GEN-003.html)\n",
      "2025-05-04 13:42:30 [scrapy.core.engine] DEBUG: Crawled (200) <GET https://media.ipsapps.org/shu/osa/bible/latin/01-GEN-005.html> (referer: https://media.ipsapps.org/shu/osa/bible/latin/01-GEN-004.html)\n",
      "2025-05-04 13:42:31 [scrapy.core.engine] DEBUG: Crawled (200) <GET https://media.ipsapps.org/shu/osa/bible/latin/01-GEN-006.html> (referer: https://media.ipsapps.org/shu/osa/bible/latin/01-GEN-005.html)\n",
      "2025-05-04 13:42:31 [scrapy.core.engine] DEBUG: Crawled (200) <GET https://media.ipsapps.org/shu/osa/bible/latin/01-GEN-007.html> (referer: https://media.ipsapps.org/shu/osa/bible/latin/01-GEN-006.html)\n",
      "2025-05-04 13:42:31 [scrapy.core.engine] DEBUG: Crawled (200) <GET https://media.ipsapps.org/shu/osa/bible/latin/01-GEN-008.html> (referer: https://media.ipsapps.org/shu/osa/bible/latin/01-GEN-007.html)\n",
      "2025-05-04 13:42:32 [scrapy.core.engine] DEBUG: Crawled (200) <GET https://media.ipsapps.org/shu/osa/bible/latin/01-GEN-009.html> (referer: https://media.ipsapps.org/shu/osa/bible/latin/01-GEN-008.html)\n",
      "2025-05-04 13:42:32 [scrapy.core.engine] DEBUG: Crawled (200) <GET https://media.ipsapps.org/shu/osa/bible/latin/01-GEN-010.html> (referer: https://media.ipsapps.org/shu/osa/bible/latin/01-GEN-009.html)\n",
      "2025-05-04 13:42:32 [scrapy.core.engine] DEBUG: Crawled (200) <GET https://media.ipsapps.org/shu/osa/bible/latin/01-GEN-011.html> (referer: https://media.ipsapps.org/shu/osa/bible/latin/01-GEN-010.html)\n",
      "2025-05-04 13:42:33 [scrapy.core.engine] DEBUG: Crawled (200) <GET https://media.ipsapps.org/shu/osa/bible/latin/01-GEN-012.html> (referer: https://media.ipsapps.org/shu/osa/bible/latin/01-GEN-011.html)\n",
      "2025-05-04 13:42:33 [scrapy.core.engine] DEBUG: Crawled (200) <GET https://media.ipsapps.org/shu/osa/bible/latin/01-GEN-013.html> (referer: https://media.ipsapps.org/shu/osa/bible/latin/01-GEN-012.html)\n",
      "2025-05-04 13:42:34 [scrapy.core.engine] DEBUG: Crawled (200) <GET https://media.ipsapps.org/shu/osa/bible/latin/01-GEN-014.html> (referer: https://media.ipsapps.org/shu/osa/bible/latin/01-GEN-013.html)\n",
      "2025-05-04 13:42:34 [scrapy.core.engine] DEBUG: Crawled (200) <GET https://media.ipsapps.org/shu/osa/bible/latin/01-GEN-015.html> (referer: https://media.ipsapps.org/shu/osa/bible/latin/01-GEN-014.html)\n",
      "2025-05-04 13:42:34 [scrapy.core.engine] DEBUG: Crawled (200) <GET https://media.ipsapps.org/shu/osa/bible/latin/01-GEN-016.html> (referer: https://media.ipsapps.org/shu/osa/bible/latin/01-GEN-015.html)\n",
      "2025-05-04 13:42:35 [scrapy.core.engine] DEBUG: Crawled (200) <GET https://media.ipsapps.org/shu/osa/bible/latin/01-GEN-017.html> (referer: https://media.ipsapps.org/shu/osa/bible/latin/01-GEN-016.html)\n",
      "2025-05-04 13:42:35 [scrapy.core.engine] DEBUG: Crawled (200) <GET https://media.ipsapps.org/shu/osa/bible/latin/01-GEN-018.html> (referer: https://media.ipsapps.org/shu/osa/bible/latin/01-GEN-017.html)\n",
      "2025-05-04 13:42:35 [scrapy.core.engine] DEBUG: Crawled (200) <GET https://media.ipsapps.org/shu/osa/bible/latin/01-GEN-019.html> (referer: https://media.ipsapps.org/shu/osa/bible/latin/01-GEN-018.html)\n",
      "2025-05-04 13:42:36 [scrapy.core.engine] DEBUG: Crawled (200) <GET https://media.ipsapps.org/shu/osa/bible/latin/01-GEN-020.html> (referer: https://media.ipsapps.org/shu/osa/bible/latin/01-GEN-019.html)\n",
      "2025-05-04 13:42:36 [scrapy.core.engine] DEBUG: Crawled (200) <GET https://media.ipsapps.org/shu/osa/bible/latin/01-GEN-021.html> (referer: https://media.ipsapps.org/shu/osa/bible/latin/01-GEN-020.html)\n",
      "2025-05-04 13:42:36 [scrapy.core.engine] DEBUG: Crawled (200) <GET https://media.ipsapps.org/shu/osa/bible/latin/01-GEN-022.html> (referer: https://media.ipsapps.org/shu/osa/bible/latin/01-GEN-021.html)\n",
      "2025-05-04 13:42:37 [scrapy.core.engine] DEBUG: Crawled (200) <GET https://media.ipsapps.org/shu/osa/bible/latin/01-GEN-023.html> (referer: https://media.ipsapps.org/shu/osa/bible/latin/01-GEN-022.html)\n",
      "2025-05-04 13:42:37 [scrapy.core.engine] DEBUG: Crawled (200) <GET https://media.ipsapps.org/shu/osa/bible/latin/01-GEN-024.html> (referer: https://media.ipsapps.org/shu/osa/bible/latin/01-GEN-023.html)\n",
      "2025-05-04 13:42:37 [scrapy.core.engine] DEBUG: Crawled (200) <GET https://media.ipsapps.org/shu/osa/bible/latin/01-GEN-025.html> (referer: https://media.ipsapps.org/shu/osa/bible/latin/01-GEN-024.html)\n",
      "2025-05-04 13:42:38 [scrapy.core.engine] DEBUG: Crawled (200) <GET https://media.ipsapps.org/shu/osa/bible/latin/01-GEN-026.html> (referer: https://media.ipsapps.org/shu/osa/bible/latin/01-GEN-025.html)\n",
      "2025-05-04 13:42:38 [scrapy.core.engine] DEBUG: Crawled (200) <GET https://media.ipsapps.org/shu/osa/bible/latin/01-GEN-027.html> (referer: https://media.ipsapps.org/shu/osa/bible/latin/01-GEN-026.html)\n",
      "2025-05-04 13:42:39 [scrapy.core.engine] DEBUG: Crawled (200) <GET https://media.ipsapps.org/shu/osa/bible/latin/01-GEN-028.html> (referer: https://media.ipsapps.org/shu/osa/bible/latin/01-GEN-027.html)\n",
      "2025-05-04 13:42:39 [scrapy.core.engine] DEBUG: Crawled (200) <GET https://media.ipsapps.org/shu/osa/bible/latin/01-GEN-029.html> (referer: https://media.ipsapps.org/shu/osa/bible/latin/01-GEN-028.html)\n",
      "2025-05-04 13:42:39 [scrapy.core.engine] DEBUG: Crawled (200) <GET https://media.ipsapps.org/shu/osa/bible/latin/01-GEN-030.html> (referer: https://media.ipsapps.org/shu/osa/bible/latin/01-GEN-029.html)\n",
      "2025-05-04 13:42:40 [scrapy.core.engine] DEBUG: Crawled (200) <GET https://media.ipsapps.org/shu/osa/bible/latin/01-GEN-031.html> (referer: https://media.ipsapps.org/shu/osa/bible/latin/01-GEN-030.html)\n",
      "2025-05-04 13:42:40 [scrapy.core.engine] DEBUG: Crawled (200) <GET https://media.ipsapps.org/shu/osa/bible/latin/01-GEN-032.html> (referer: https://media.ipsapps.org/shu/osa/bible/latin/01-GEN-031.html)\n",
      "2025-05-04 13:42:40 [scrapy.core.engine] DEBUG: Crawled (200) <GET https://media.ipsapps.org/shu/osa/bible/latin/01-GEN-033.html> (referer: https://media.ipsapps.org/shu/osa/bible/latin/01-GEN-032.html)\n",
      "2025-05-04 13:42:41 [scrapy.core.engine] DEBUG: Crawled (200) <GET https://media.ipsapps.org/shu/osa/bible/latin/01-GEN-034.html> (referer: https://media.ipsapps.org/shu/osa/bible/latin/01-GEN-033.html)\n",
      "2025-05-04 13:42:41 [scrapy.core.engine] DEBUG: Crawled (200) <GET https://media.ipsapps.org/shu/osa/bible/latin/01-GEN-035.html> (referer: https://media.ipsapps.org/shu/osa/bible/latin/01-GEN-034.html)\n",
      "2025-05-04 13:42:41 [scrapy.core.engine] DEBUG: Crawled (200) <GET https://media.ipsapps.org/shu/osa/bible/latin/01-GEN-036.html> (referer: https://media.ipsapps.org/shu/osa/bible/latin/01-GEN-035.html)\n",
      "2025-05-04 13:42:42 [scrapy.core.engine] DEBUG: Crawled (200) <GET https://media.ipsapps.org/shu/osa/bible/latin/01-GEN-037.html> (referer: https://media.ipsapps.org/shu/osa/bible/latin/01-GEN-036.html)\n",
      "2025-05-04 13:42:42 [scrapy.core.engine] DEBUG: Crawled (200) <GET https://media.ipsapps.org/shu/osa/bible/latin/01-GEN-038.html> (referer: https://media.ipsapps.org/shu/osa/bible/latin/01-GEN-037.html)\n",
      "2025-05-04 13:42:43 [scrapy.core.engine] DEBUG: Crawled (200) <GET https://media.ipsapps.org/shu/osa/bible/latin/01-GEN-039.html> (referer: https://media.ipsapps.org/shu/osa/bible/latin/01-GEN-038.html)\n",
      "2025-05-04 13:42:43 [scrapy.core.engine] DEBUG: Crawled (200) <GET https://media.ipsapps.org/shu/osa/bible/latin/01-GEN-040.html> (referer: https://media.ipsapps.org/shu/osa/bible/latin/01-GEN-039.html)\n",
      "2025-05-04 13:42:43 [scrapy.core.engine] DEBUG: Crawled (200) <GET https://media.ipsapps.org/shu/osa/bible/latin/01-GEN-041.html> (referer: https://media.ipsapps.org/shu/osa/bible/latin/01-GEN-040.html)\n",
      "2025-05-04 13:42:44 [scrapy.core.engine] DEBUG: Crawled (200) <GET https://media.ipsapps.org/shu/osa/bible/latin/01-GEN-042.html> (referer: https://media.ipsapps.org/shu/osa/bible/latin/01-GEN-041.html)\n",
      "2025-05-04 13:42:44 [scrapy.core.engine] DEBUG: Crawled (200) <GET https://media.ipsapps.org/shu/osa/bible/latin/01-GEN-043.html> (referer: https://media.ipsapps.org/shu/osa/bible/latin/01-GEN-042.html)\n",
      "2025-05-04 13:42:44 [scrapy.core.engine] DEBUG: Crawled (200) <GET https://media.ipsapps.org/shu/osa/bible/latin/01-GEN-044.html> (referer: https://media.ipsapps.org/shu/osa/bible/latin/01-GEN-043.html)\n",
      "2025-05-04 13:42:45 [scrapy.core.engine] DEBUG: Crawled (200) <GET https://media.ipsapps.org/shu/osa/bible/latin/01-GEN-045.html> (referer: https://media.ipsapps.org/shu/osa/bible/latin/01-GEN-044.html)\n",
      "2025-05-04 13:42:45 [scrapy.core.engine] DEBUG: Crawled (200) <GET https://media.ipsapps.org/shu/osa/bible/latin/01-GEN-046.html> (referer: https://media.ipsapps.org/shu/osa/bible/latin/01-GEN-045.html)\n",
      "2025-05-04 13:42:46 [scrapy.core.engine] DEBUG: Crawled (200) <GET https://media.ipsapps.org/shu/osa/bible/latin/01-GEN-047.html> (referer: https://media.ipsapps.org/shu/osa/bible/latin/01-GEN-046.html)\n",
      "2025-05-04 13:42:46 [scrapy.core.engine] DEBUG: Crawled (200) <GET https://media.ipsapps.org/shu/osa/bible/latin/01-GEN-048.html> (referer: https://media.ipsapps.org/shu/osa/bible/latin/01-GEN-047.html)\n",
      "2025-05-04 13:42:46 [scrapy.core.engine] DEBUG: Crawled (200) <GET https://media.ipsapps.org/shu/osa/bible/latin/01-GEN-049.html> (referer: https://media.ipsapps.org/shu/osa/bible/latin/01-GEN-048.html)\n",
      "2025-05-04 13:42:47 [scrapy.core.engine] DEBUG: Crawled (200) <GET https://media.ipsapps.org/shu/osa/bible/latin/01-GEN-050.html> (referer: https://media.ipsapps.org/shu/osa/bible/latin/01-GEN-049.html)\n",
      "2025-05-04 13:42:47 [scrapy.core.engine] DEBUG: Crawled (200) <GET https://media.ipsapps.org/shu/osa/bible/latin/02-EXO-000.html> (referer: https://media.ipsapps.org/shu/osa/bible/latin/01-GEN-050.html)\n",
      "2025-05-04 13:42:47 [scrapy.dupefilters] DEBUG: Filtered duplicate request: <GET https://media.ipsapps.org/shu/osa/bible/latin/02-EXO-001.html> - no more duplicates will be shown (see DUPEFILTER_DEBUG to show all duplicates)\n",
      "2025-05-04 13:42:48 [scrapy.core.engine] DEBUG: Crawled (200) <GET https://media.ipsapps.org/shu/osa/bible/latin/02-EXO-001.html> (referer: https://media.ipsapps.org/shu/osa/bible/latin/02-EXO-000.html)\n",
      "2025-05-04 13:42:48 [scrapy.core.engine] DEBUG: Crawled (200) <GET https://media.ipsapps.org/shu/osa/bible/latin/02-EXO-002.html> (referer: https://media.ipsapps.org/shu/osa/bible/latin/02-EXO-001.html)\n",
      "2025-05-04 13:42:48 [scrapy.core.engine] DEBUG: Crawled (200) <GET https://media.ipsapps.org/shu/osa/bible/latin/02-EXO-003.html> (referer: https://media.ipsapps.org/shu/osa/bible/latin/02-EXO-002.html)\n",
      "2025-05-04 13:42:49 [scrapy.core.engine] DEBUG: Crawled (200) <GET https://media.ipsapps.org/shu/osa/bible/latin/02-EXO-004.html> (referer: https://media.ipsapps.org/shu/osa/bible/latin/02-EXO-003.html)\n",
      "2025-05-04 13:42:49 [scrapy.core.engine] DEBUG: Crawled (200) <GET https://media.ipsapps.org/shu/osa/bible/latin/02-EXO-005.html> (referer: https://media.ipsapps.org/shu/osa/bible/latin/02-EXO-004.html)\n",
      "2025-05-04 13:42:49 [scrapy.core.engine] DEBUG: Crawled (200) <GET https://media.ipsapps.org/shu/osa/bible/latin/02-EXO-006.html> (referer: https://media.ipsapps.org/shu/osa/bible/latin/02-EXO-005.html)\n",
      "2025-05-04 13:42:50 [scrapy.core.engine] DEBUG: Crawled (200) <GET https://media.ipsapps.org/shu/osa/bible/latin/02-EXO-007.html> (referer: https://media.ipsapps.org/shu/osa/bible/latin/02-EXO-006.html)\n",
      "2025-05-04 13:42:50 [scrapy.core.engine] DEBUG: Crawled (200) <GET https://media.ipsapps.org/shu/osa/bible/latin/02-EXO-008.html> (referer: https://media.ipsapps.org/shu/osa/bible/latin/02-EXO-007.html)\n",
      "2025-05-04 13:42:50 [scrapy.core.engine] DEBUG: Crawled (200) <GET https://media.ipsapps.org/shu/osa/bible/latin/02-EXO-009.html> (referer: https://media.ipsapps.org/shu/osa/bible/latin/02-EXO-008.html)\n",
      "2025-05-04 13:42:51 [scrapy.core.engine] DEBUG: Crawled (200) <GET https://media.ipsapps.org/shu/osa/bible/latin/02-EXO-010.html> (referer: https://media.ipsapps.org/shu/osa/bible/latin/02-EXO-009.html)\n",
      "2025-05-04 13:42:51 [scrapy.core.engine] DEBUG: Crawled (200) <GET https://media.ipsapps.org/shu/osa/bible/latin/02-EXO-011.html> (referer: https://media.ipsapps.org/shu/osa/bible/latin/02-EXO-010.html)\n",
      "2025-05-04 13:42:51 [scrapy.core.engine] DEBUG: Crawled (200) <GET https://media.ipsapps.org/shu/osa/bible/latin/02-EXO-012.html> (referer: https://media.ipsapps.org/shu/osa/bible/latin/02-EXO-011.html)\n",
      "2025-05-04 13:42:52 [scrapy.core.engine] DEBUG: Crawled (200) <GET https://media.ipsapps.org/shu/osa/bible/latin/02-EXO-013.html> (referer: https://media.ipsapps.org/shu/osa/bible/latin/02-EXO-012.html)\n",
      "2025-05-04 13:42:52 [scrapy.core.engine] DEBUG: Crawled (200) <GET https://media.ipsapps.org/shu/osa/bible/latin/02-EXO-014.html> (referer: https://media.ipsapps.org/shu/osa/bible/latin/02-EXO-013.html)\n",
      "2025-05-04 13:42:52 [scrapy.core.engine] DEBUG: Crawled (200) <GET https://media.ipsapps.org/shu/osa/bible/latin/02-EXO-015.html> (referer: https://media.ipsapps.org/shu/osa/bible/latin/02-EXO-014.html)\n",
      "2025-05-04 13:42:53 [scrapy.core.engine] DEBUG: Crawled (200) <GET https://media.ipsapps.org/shu/osa/bible/latin/02-EXO-016.html> (referer: https://media.ipsapps.org/shu/osa/bible/latin/02-EXO-015.html)\n",
      "2025-05-04 13:42:54 [scrapy.core.engine] DEBUG: Crawled (200) <GET https://media.ipsapps.org/shu/osa/bible/latin/02-EXO-017.html> (referer: https://media.ipsapps.org/shu/osa/bible/latin/02-EXO-016.html)\n",
      "2025-05-04 13:42:54 [scrapy.core.engine] DEBUG: Crawled (200) <GET https://media.ipsapps.org/shu/osa/bible/latin/02-EXO-018.html> (referer: https://media.ipsapps.org/shu/osa/bible/latin/02-EXO-017.html)\n",
      "2025-05-04 13:42:54 [scrapy.core.engine] DEBUG: Crawled (200) <GET https://media.ipsapps.org/shu/osa/bible/latin/02-EXO-019.html> (referer: https://media.ipsapps.org/shu/osa/bible/latin/02-EXO-018.html)\n",
      "2025-05-04 13:42:55 [scrapy.core.engine] DEBUG: Crawled (200) <GET https://media.ipsapps.org/shu/osa/bible/latin/02-EXO-020.html> (referer: https://media.ipsapps.org/shu/osa/bible/latin/02-EXO-019.html)\n",
      "2025-05-04 13:42:55 [scrapy.core.engine] DEBUG: Crawled (200) <GET https://media.ipsapps.org/shu/osa/bible/latin/02-EXO-021.html> (referer: https://media.ipsapps.org/shu/osa/bible/latin/02-EXO-020.html)\n",
      "2025-05-04 13:42:56 [scrapy.core.engine] DEBUG: Crawled (200) <GET https://media.ipsapps.org/shu/osa/bible/latin/02-EXO-022.html> (referer: https://media.ipsapps.org/shu/osa/bible/latin/02-EXO-021.html)\n",
      "2025-05-04 13:42:56 [scrapy.core.engine] DEBUG: Crawled (200) <GET https://media.ipsapps.org/shu/osa/bible/latin/02-EXO-023.html> (referer: https://media.ipsapps.org/shu/osa/bible/latin/02-EXO-022.html)\n",
      "2025-05-04 13:42:56 [scrapy.core.engine] DEBUG: Crawled (200) <GET https://media.ipsapps.org/shu/osa/bible/latin/02-EXO-024.html> (referer: https://media.ipsapps.org/shu/osa/bible/latin/02-EXO-023.html)\n",
      "2025-05-04 13:42:57 [scrapy.core.engine] DEBUG: Crawled (200) <GET https://media.ipsapps.org/shu/osa/bible/latin/02-EXO-025.html> (referer: https://media.ipsapps.org/shu/osa/bible/latin/02-EXO-024.html)\n",
      "2025-05-04 13:42:57 [scrapy.core.engine] DEBUG: Crawled (200) <GET https://media.ipsapps.org/shu/osa/bible/latin/02-EXO-026.html> (referer: https://media.ipsapps.org/shu/osa/bible/latin/02-EXO-025.html)\n",
      "2025-05-04 13:42:57 [scrapy.core.engine] DEBUG: Crawled (200) <GET https://media.ipsapps.org/shu/osa/bible/latin/02-EXO-027.html> (referer: https://media.ipsapps.org/shu/osa/bible/latin/02-EXO-026.html)\n",
      "2025-05-04 13:42:58 [scrapy.core.engine] DEBUG: Crawled (200) <GET https://media.ipsapps.org/shu/osa/bible/latin/02-EXO-028.html> (referer: https://media.ipsapps.org/shu/osa/bible/latin/02-EXO-027.html)\n",
      "2025-05-04 13:42:58 [scrapy.core.engine] DEBUG: Crawled (200) <GET https://media.ipsapps.org/shu/osa/bible/latin/02-EXO-029.html> (referer: https://media.ipsapps.org/shu/osa/bible/latin/02-EXO-028.html)\n",
      "2025-05-04 13:42:58 [scrapy.core.engine] DEBUG: Crawled (200) <GET https://media.ipsapps.org/shu/osa/bible/latin/02-EXO-030.html> (referer: https://media.ipsapps.org/shu/osa/bible/latin/02-EXO-029.html)\n",
      "2025-05-04 13:42:59 [scrapy.core.engine] DEBUG: Crawled (200) <GET https://media.ipsapps.org/shu/osa/bible/latin/02-EXO-031.html> (referer: https://media.ipsapps.org/shu/osa/bible/latin/02-EXO-030.html)\n",
      "2025-05-04 13:42:59 [scrapy.core.engine] DEBUG: Crawled (200) <GET https://media.ipsapps.org/shu/osa/bible/latin/02-EXO-032.html> (referer: https://media.ipsapps.org/shu/osa/bible/latin/02-EXO-031.html)\n",
      "2025-05-04 13:43:00 [scrapy.core.engine] DEBUG: Crawled (200) <GET https://media.ipsapps.org/shu/osa/bible/latin/02-EXO-033.html> (referer: https://media.ipsapps.org/shu/osa/bible/latin/02-EXO-032.html)\n",
      "2025-05-04 13:43:00 [scrapy.core.engine] DEBUG: Crawled (200) <GET https://media.ipsapps.org/shu/osa/bible/latin/02-EXO-034.html> (referer: https://media.ipsapps.org/shu/osa/bible/latin/02-EXO-033.html)\n",
      "2025-05-04 13:43:00 [scrapy.core.engine] DEBUG: Crawled (200) <GET https://media.ipsapps.org/shu/osa/bible/latin/02-EXO-035.html> (referer: https://media.ipsapps.org/shu/osa/bible/latin/02-EXO-034.html)\n",
      "2025-05-04 13:43:01 [scrapy.core.engine] DEBUG: Crawled (200) <GET https://media.ipsapps.org/shu/osa/bible/latin/02-EXO-036.html> (referer: https://media.ipsapps.org/shu/osa/bible/latin/02-EXO-035.html)\n",
      "2025-05-04 13:43:01 [scrapy.core.engine] DEBUG: Crawled (200) <GET https://media.ipsapps.org/shu/osa/bible/latin/02-EXO-037.html> (referer: https://media.ipsapps.org/shu/osa/bible/latin/02-EXO-036.html)\n",
      "2025-05-04 13:43:01 [scrapy.core.engine] DEBUG: Crawled (200) <GET https://media.ipsapps.org/shu/osa/bible/latin/02-EXO-038.html> (referer: https://media.ipsapps.org/shu/osa/bible/latin/02-EXO-037.html)\n",
      "2025-05-04 13:43:02 [scrapy.core.engine] DEBUG: Crawled (200) <GET https://media.ipsapps.org/shu/osa/bible/latin/02-EXO-039.html> (referer: https://media.ipsapps.org/shu/osa/bible/latin/02-EXO-038.html)\n",
      "2025-05-04 13:43:02 [scrapy.core.engine] DEBUG: Crawled (200) <GET https://media.ipsapps.org/shu/osa/bible/latin/02-EXO-040.html> (referer: https://media.ipsapps.org/shu/osa/bible/latin/02-EXO-039.html)\n",
      "2025-05-04 13:43:02 [scrapy.core.engine] DEBUG: Crawled (200) <GET https://media.ipsapps.org/shu/osa/bible/latin/03-LEV-000.html> (referer: https://media.ipsapps.org/shu/osa/bible/latin/02-EXO-040.html)\n",
      "2025-05-04 13:43:03 [scrapy.core.engine] DEBUG: Crawled (200) <GET https://media.ipsapps.org/shu/osa/bible/latin/03-LEV-001.html> (referer: https://media.ipsapps.org/shu/osa/bible/latin/03-LEV-000.html)\n",
      "2025-05-04 13:43:03 [scrapy.core.engine] DEBUG: Crawled (200) <GET https://media.ipsapps.org/shu/osa/bible/latin/03-LEV-002.html> (referer: https://media.ipsapps.org/shu/osa/bible/latin/03-LEV-001.html)\n",
      "2025-05-04 13:43:03 [scrapy.core.engine] DEBUG: Crawled (200) <GET https://media.ipsapps.org/shu/osa/bible/latin/03-LEV-003.html> (referer: https://media.ipsapps.org/shu/osa/bible/latin/03-LEV-002.html)\n",
      "2025-05-04 13:43:04 [scrapy.core.engine] DEBUG: Crawled (200) <GET https://media.ipsapps.org/shu/osa/bible/latin/03-LEV-004.html> (referer: https://media.ipsapps.org/shu/osa/bible/latin/03-LEV-003.html)\n",
      "2025-05-04 13:43:04 [scrapy.core.engine] DEBUG: Crawled (200) <GET https://media.ipsapps.org/shu/osa/bible/latin/03-LEV-005.html> (referer: https://media.ipsapps.org/shu/osa/bible/latin/03-LEV-004.html)\n",
      "2025-05-04 13:43:04 [scrapy.core.engine] DEBUG: Crawled (200) <GET https://media.ipsapps.org/shu/osa/bible/latin/03-LEV-006.html> (referer: https://media.ipsapps.org/shu/osa/bible/latin/03-LEV-005.html)\n",
      "2025-05-04 13:43:05 [scrapy.core.engine] DEBUG: Crawled (200) <GET https://media.ipsapps.org/shu/osa/bible/latin/03-LEV-007.html> (referer: https://media.ipsapps.org/shu/osa/bible/latin/03-LEV-006.html)\n",
      "2025-05-04 13:43:05 [scrapy.core.engine] DEBUG: Crawled (200) <GET https://media.ipsapps.org/shu/osa/bible/latin/03-LEV-008.html> (referer: https://media.ipsapps.org/shu/osa/bible/latin/03-LEV-007.html)\n",
      "2025-05-04 13:43:05 [scrapy.core.engine] DEBUG: Crawled (200) <GET https://media.ipsapps.org/shu/osa/bible/latin/03-LEV-009.html> (referer: https://media.ipsapps.org/shu/osa/bible/latin/03-LEV-008.html)\n",
      "2025-05-04 13:43:06 [scrapy.core.engine] DEBUG: Crawled (200) <GET https://media.ipsapps.org/shu/osa/bible/latin/03-LEV-010.html> (referer: https://media.ipsapps.org/shu/osa/bible/latin/03-LEV-009.html)\n",
      "2025-05-04 13:43:06 [scrapy.core.engine] DEBUG: Crawled (200) <GET https://media.ipsapps.org/shu/osa/bible/latin/03-LEV-011.html> (referer: https://media.ipsapps.org/shu/osa/bible/latin/03-LEV-010.html)\n",
      "2025-05-04 13:43:06 [scrapy.core.engine] DEBUG: Crawled (200) <GET https://media.ipsapps.org/shu/osa/bible/latin/03-LEV-012.html> (referer: https://media.ipsapps.org/shu/osa/bible/latin/03-LEV-011.html)\n",
      "2025-05-04 13:43:07 [scrapy.core.engine] DEBUG: Crawled (200) <GET https://media.ipsapps.org/shu/osa/bible/latin/03-LEV-013.html> (referer: https://media.ipsapps.org/shu/osa/bible/latin/03-LEV-012.html)\n",
      "2025-05-04 13:43:07 [scrapy.core.engine] DEBUG: Crawled (200) <GET https://media.ipsapps.org/shu/osa/bible/latin/03-LEV-014.html> (referer: https://media.ipsapps.org/shu/osa/bible/latin/03-LEV-013.html)\n",
      "2025-05-04 13:43:07 [scrapy.core.engine] DEBUG: Crawled (200) <GET https://media.ipsapps.org/shu/osa/bible/latin/03-LEV-015.html> (referer: https://media.ipsapps.org/shu/osa/bible/latin/03-LEV-014.html)\n",
      "2025-05-04 13:43:08 [scrapy.core.engine] DEBUG: Crawled (200) <GET https://media.ipsapps.org/shu/osa/bible/latin/03-LEV-016.html> (referer: https://media.ipsapps.org/shu/osa/bible/latin/03-LEV-015.html)\n",
      "2025-05-04 13:43:08 [scrapy.core.engine] DEBUG: Crawled (200) <GET https://media.ipsapps.org/shu/osa/bible/latin/03-LEV-017.html> (referer: https://media.ipsapps.org/shu/osa/bible/latin/03-LEV-016.html)\n",
      "2025-05-04 13:43:09 [scrapy.core.engine] DEBUG: Crawled (200) <GET https://media.ipsapps.org/shu/osa/bible/latin/03-LEV-018.html> (referer: https://media.ipsapps.org/shu/osa/bible/latin/03-LEV-017.html)\n",
      "2025-05-04 13:43:09 [scrapy.core.engine] DEBUG: Crawled (200) <GET https://media.ipsapps.org/shu/osa/bible/latin/03-LEV-019.html> (referer: https://media.ipsapps.org/shu/osa/bible/latin/03-LEV-018.html)\n",
      "2025-05-04 13:43:09 [scrapy.core.engine] DEBUG: Crawled (200) <GET https://media.ipsapps.org/shu/osa/bible/latin/03-LEV-020.html> (referer: https://media.ipsapps.org/shu/osa/bible/latin/03-LEV-019.html)\n",
      "2025-05-04 13:43:10 [scrapy.core.engine] DEBUG: Crawled (200) <GET https://media.ipsapps.org/shu/osa/bible/latin/03-LEV-021.html> (referer: https://media.ipsapps.org/shu/osa/bible/latin/03-LEV-020.html)\n",
      "2025-05-04 13:43:10 [scrapy.core.engine] DEBUG: Crawled (200) <GET https://media.ipsapps.org/shu/osa/bible/latin/03-LEV-022.html> (referer: https://media.ipsapps.org/shu/osa/bible/latin/03-LEV-021.html)\n",
      "2025-05-04 13:43:10 [scrapy.core.engine] DEBUG: Crawled (200) <GET https://media.ipsapps.org/shu/osa/bible/latin/03-LEV-023.html> (referer: https://media.ipsapps.org/shu/osa/bible/latin/03-LEV-022.html)\n",
      "2025-05-04 13:43:11 [scrapy.core.engine] DEBUG: Crawled (200) <GET https://media.ipsapps.org/shu/osa/bible/latin/03-LEV-024.html> (referer: https://media.ipsapps.org/shu/osa/bible/latin/03-LEV-023.html)\n",
      "2025-05-04 13:43:11 [scrapy.core.engine] DEBUG: Crawled (200) <GET https://media.ipsapps.org/shu/osa/bible/latin/03-LEV-025.html> (referer: https://media.ipsapps.org/shu/osa/bible/latin/03-LEV-024.html)\n",
      "2025-05-04 13:43:11 [scrapy.core.engine] DEBUG: Crawled (200) <GET https://media.ipsapps.org/shu/osa/bible/latin/03-LEV-026.html> (referer: https://media.ipsapps.org/shu/osa/bible/latin/03-LEV-025.html)\n",
      "2025-05-04 13:43:12 [scrapy.core.engine] DEBUG: Crawled (200) <GET https://media.ipsapps.org/shu/osa/bible/latin/03-LEV-027.html> (referer: https://media.ipsapps.org/shu/osa/bible/latin/03-LEV-026.html)\n",
      "2025-05-04 13:43:12 [scrapy.core.engine] DEBUG: Crawled (200) <GET https://media.ipsapps.org/shu/osa/bible/latin/04-NUM-000.html> (referer: https://media.ipsapps.org/shu/osa/bible/latin/03-LEV-027.html)\n",
      "2025-05-04 13:43:12 [scrapy.core.engine] DEBUG: Crawled (200) <GET https://media.ipsapps.org/shu/osa/bible/latin/04-NUM-001.html> (referer: https://media.ipsapps.org/shu/osa/bible/latin/04-NUM-000.html)\n",
      "2025-05-04 13:43:13 [scrapy.core.engine] DEBUG: Crawled (200) <GET https://media.ipsapps.org/shu/osa/bible/latin/04-NUM-002.html> (referer: https://media.ipsapps.org/shu/osa/bible/latin/04-NUM-001.html)\n",
      "2025-05-04 13:43:13 [scrapy.core.engine] DEBUG: Crawled (200) <GET https://media.ipsapps.org/shu/osa/bible/latin/04-NUM-003.html> (referer: https://media.ipsapps.org/shu/osa/bible/latin/04-NUM-002.html)\n",
      "2025-05-04 13:43:13 [scrapy.core.engine] DEBUG: Crawled (200) <GET https://media.ipsapps.org/shu/osa/bible/latin/04-NUM-004.html> (referer: https://media.ipsapps.org/shu/osa/bible/latin/04-NUM-003.html)\n",
      "2025-05-04 13:43:14 [scrapy.core.engine] DEBUG: Crawled (200) <GET https://media.ipsapps.org/shu/osa/bible/latin/04-NUM-005.html> (referer: https://media.ipsapps.org/shu/osa/bible/latin/04-NUM-004.html)\n",
      "2025-05-04 13:43:14 [scrapy.core.engine] DEBUG: Crawled (200) <GET https://media.ipsapps.org/shu/osa/bible/latin/04-NUM-006.html> (referer: https://media.ipsapps.org/shu/osa/bible/latin/04-NUM-005.html)\n",
      "2025-05-04 13:43:14 [scrapy.core.engine] DEBUG: Crawled (200) <GET https://media.ipsapps.org/shu/osa/bible/latin/04-NUM-007.html> (referer: https://media.ipsapps.org/shu/osa/bible/latin/04-NUM-006.html)\n",
      "2025-05-04 13:43:14 [scrapy.core.engine] DEBUG: Crawled (200) <GET https://media.ipsapps.org/shu/osa/bible/latin/04-NUM-008.html> (referer: https://media.ipsapps.org/shu/osa/bible/latin/04-NUM-007.html)\n",
      "2025-05-04 13:43:15 [scrapy.core.engine] DEBUG: Crawled (200) <GET https://media.ipsapps.org/shu/osa/bible/latin/04-NUM-009.html> (referer: https://media.ipsapps.org/shu/osa/bible/latin/04-NUM-008.html)\n",
      "2025-05-04 13:43:15 [scrapy.core.engine] DEBUG: Crawled (200) <GET https://media.ipsapps.org/shu/osa/bible/latin/04-NUM-010.html> (referer: https://media.ipsapps.org/shu/osa/bible/latin/04-NUM-009.html)\n",
      "2025-05-04 13:43:16 [scrapy.core.engine] DEBUG: Crawled (200) <GET https://media.ipsapps.org/shu/osa/bible/latin/04-NUM-011.html> (referer: https://media.ipsapps.org/shu/osa/bible/latin/04-NUM-010.html)\n",
      "2025-05-04 13:43:16 [scrapy.core.engine] DEBUG: Crawled (200) <GET https://media.ipsapps.org/shu/osa/bible/latin/04-NUM-012.html> (referer: https://media.ipsapps.org/shu/osa/bible/latin/04-NUM-011.html)\n",
      "2025-05-04 13:43:17 [scrapy.core.engine] DEBUG: Crawled (200) <GET https://media.ipsapps.org/shu/osa/bible/latin/04-NUM-013.html> (referer: https://media.ipsapps.org/shu/osa/bible/latin/04-NUM-012.html)\n",
      "2025-05-04 13:43:17 [scrapy.core.engine] DEBUG: Crawled (200) <GET https://media.ipsapps.org/shu/osa/bible/latin/04-NUM-014.html> (referer: https://media.ipsapps.org/shu/osa/bible/latin/04-NUM-013.html)\n",
      "2025-05-04 13:43:17 [scrapy.core.engine] DEBUG: Crawled (200) <GET https://media.ipsapps.org/shu/osa/bible/latin/04-NUM-015.html> (referer: https://media.ipsapps.org/shu/osa/bible/latin/04-NUM-014.html)\n",
      "2025-05-04 13:43:18 [scrapy.core.engine] DEBUG: Crawled (200) <GET https://media.ipsapps.org/shu/osa/bible/latin/04-NUM-016.html> (referer: https://media.ipsapps.org/shu/osa/bible/latin/04-NUM-015.html)\n",
      "2025-05-04 13:43:18 [scrapy.core.engine] DEBUG: Crawled (200) <GET https://media.ipsapps.org/shu/osa/bible/latin/04-NUM-017.html> (referer: https://media.ipsapps.org/shu/osa/bible/latin/04-NUM-016.html)\n",
      "2025-05-04 13:43:18 [scrapy.core.engine] DEBUG: Crawled (200) <GET https://media.ipsapps.org/shu/osa/bible/latin/04-NUM-018.html> (referer: https://media.ipsapps.org/shu/osa/bible/latin/04-NUM-017.html)\n",
      "2025-05-04 13:43:19 [scrapy.core.engine] DEBUG: Crawled (200) <GET https://media.ipsapps.org/shu/osa/bible/latin/04-NUM-019.html> (referer: https://media.ipsapps.org/shu/osa/bible/latin/04-NUM-018.html)\n",
      "2025-05-04 13:43:19 [scrapy.core.engine] DEBUG: Crawled (200) <GET https://media.ipsapps.org/shu/osa/bible/latin/04-NUM-020.html> (referer: https://media.ipsapps.org/shu/osa/bible/latin/04-NUM-019.html)\n",
      "2025-05-04 13:43:19 [scrapy.core.engine] DEBUG: Crawled (200) <GET https://media.ipsapps.org/shu/osa/bible/latin/04-NUM-021.html> (referer: https://media.ipsapps.org/shu/osa/bible/latin/04-NUM-020.html)\n",
      "2025-05-04 13:43:20 [scrapy.core.engine] DEBUG: Crawled (200) <GET https://media.ipsapps.org/shu/osa/bible/latin/04-NUM-022.html> (referer: https://media.ipsapps.org/shu/osa/bible/latin/04-NUM-021.html)\n",
      "2025-05-04 13:43:20 [scrapy.core.engine] DEBUG: Crawled (200) <GET https://media.ipsapps.org/shu/osa/bible/latin/04-NUM-023.html> (referer: https://media.ipsapps.org/shu/osa/bible/latin/04-NUM-022.html)\n",
      "2025-05-04 13:43:21 [scrapy.core.engine] DEBUG: Crawled (200) <GET https://media.ipsapps.org/shu/osa/bible/latin/04-NUM-024.html> (referer: https://media.ipsapps.org/shu/osa/bible/latin/04-NUM-023.html)\n",
      "2025-05-04 13:43:21 [scrapy.core.engine] DEBUG: Crawled (200) <GET https://media.ipsapps.org/shu/osa/bible/latin/04-NUM-025.html> (referer: https://media.ipsapps.org/shu/osa/bible/latin/04-NUM-024.html)\n",
      "2025-05-04 13:43:21 [scrapy.core.engine] DEBUG: Crawled (200) <GET https://media.ipsapps.org/shu/osa/bible/latin/04-NUM-026.html> (referer: https://media.ipsapps.org/shu/osa/bible/latin/04-NUM-025.html)\n",
      "2025-05-04 13:43:22 [scrapy.core.engine] DEBUG: Crawled (200) <GET https://media.ipsapps.org/shu/osa/bible/latin/04-NUM-027.html> (referer: https://media.ipsapps.org/shu/osa/bible/latin/04-NUM-026.html)\n",
      "2025-05-04 13:43:22 [scrapy.core.engine] DEBUG: Crawled (200) <GET https://media.ipsapps.org/shu/osa/bible/latin/04-NUM-028.html> (referer: https://media.ipsapps.org/shu/osa/bible/latin/04-NUM-027.html)\n",
      "2025-05-04 13:43:22 [scrapy.core.engine] DEBUG: Crawled (200) <GET https://media.ipsapps.org/shu/osa/bible/latin/04-NUM-029.html> (referer: https://media.ipsapps.org/shu/osa/bible/latin/04-NUM-028.html)\n",
      "2025-05-04 13:43:23 [scrapy.core.engine] DEBUG: Crawled (200) <GET https://media.ipsapps.org/shu/osa/bible/latin/04-NUM-030.html> (referer: https://media.ipsapps.org/shu/osa/bible/latin/04-NUM-029.html)\n",
      "2025-05-04 13:43:23 [scrapy.core.engine] DEBUG: Crawled (200) <GET https://media.ipsapps.org/shu/osa/bible/latin/04-NUM-031.html> (referer: https://media.ipsapps.org/shu/osa/bible/latin/04-NUM-030.html)\n",
      "2025-05-04 13:43:23 [scrapy.core.engine] DEBUG: Crawled (200) <GET https://media.ipsapps.org/shu/osa/bible/latin/04-NUM-032.html> (referer: https://media.ipsapps.org/shu/osa/bible/latin/04-NUM-031.html)\n",
      "2025-05-04 13:43:24 [scrapy.core.engine] DEBUG: Crawled (200) <GET https://media.ipsapps.org/shu/osa/bible/latin/04-NUM-033.html> (referer: https://media.ipsapps.org/shu/osa/bible/latin/04-NUM-032.html)\n",
      "2025-05-04 13:43:24 [scrapy.core.engine] DEBUG: Crawled (200) <GET https://media.ipsapps.org/shu/osa/bible/latin/04-NUM-034.html> (referer: https://media.ipsapps.org/shu/osa/bible/latin/04-NUM-033.html)\n",
      "2025-05-04 13:43:24 [scrapy.core.engine] DEBUG: Crawled (200) <GET https://media.ipsapps.org/shu/osa/bible/latin/04-NUM-035.html> (referer: https://media.ipsapps.org/shu/osa/bible/latin/04-NUM-034.html)\n",
      "2025-05-04 13:43:25 [scrapy.core.engine] DEBUG: Crawled (200) <GET https://media.ipsapps.org/shu/osa/bible/latin/04-NUM-036.html> (referer: https://media.ipsapps.org/shu/osa/bible/latin/04-NUM-035.html)\n",
      "2025-05-04 13:43:25 [scrapy.core.engine] DEBUG: Crawled (200) <GET https://media.ipsapps.org/shu/osa/bible/latin/05-DEU-000.html> (referer: https://media.ipsapps.org/shu/osa/bible/latin/04-NUM-036.html)\n",
      "2025-05-04 13:43:26 [scrapy.core.engine] DEBUG: Crawled (200) <GET https://media.ipsapps.org/shu/osa/bible/latin/05-DEU-001.html> (referer: https://media.ipsapps.org/shu/osa/bible/latin/05-DEU-000.html)\n",
      "2025-05-04 13:43:26 [scrapy.core.engine] DEBUG: Crawled (200) <GET https://media.ipsapps.org/shu/osa/bible/latin/05-DEU-002.html> (referer: https://media.ipsapps.org/shu/osa/bible/latin/05-DEU-001.html)\n",
      "2025-05-04 13:43:26 [scrapy.core.engine] DEBUG: Crawled (200) <GET https://media.ipsapps.org/shu/osa/bible/latin/05-DEU-003.html> (referer: https://media.ipsapps.org/shu/osa/bible/latin/05-DEU-002.html)\n",
      "2025-05-04 13:43:26 [scrapy.core.engine] DEBUG: Crawled (200) <GET https://media.ipsapps.org/shu/osa/bible/latin/05-DEU-004.html> (referer: https://media.ipsapps.org/shu/osa/bible/latin/05-DEU-003.html)\n",
      "2025-05-04 13:43:27 [scrapy.core.engine] DEBUG: Crawled (200) <GET https://media.ipsapps.org/shu/osa/bible/latin/05-DEU-005.html> (referer: https://media.ipsapps.org/shu/osa/bible/latin/05-DEU-004.html)\n",
      "2025-05-04 13:43:27 [scrapy.core.engine] DEBUG: Crawled (200) <GET https://media.ipsapps.org/shu/osa/bible/latin/05-DEU-006.html> (referer: https://media.ipsapps.org/shu/osa/bible/latin/05-DEU-005.html)\n",
      "2025-05-04 13:43:28 [scrapy.core.engine] DEBUG: Crawled (200) <GET https://media.ipsapps.org/shu/osa/bible/latin/05-DEU-007.html> (referer: https://media.ipsapps.org/shu/osa/bible/latin/05-DEU-006.html)\n",
      "2025-05-04 13:43:28 [scrapy.core.engine] DEBUG: Crawled (200) <GET https://media.ipsapps.org/shu/osa/bible/latin/05-DEU-008.html> (referer: https://media.ipsapps.org/shu/osa/bible/latin/05-DEU-007.html)\n",
      "2025-05-04 13:43:28 [scrapy.extensions.logstats] INFO: Crawled 165 pages (at 165 pages/min), scraped 0 items (at 0 items/min)\n",
      "2025-05-04 13:43:28 [scrapy.core.engine] DEBUG: Crawled (200) <GET https://media.ipsapps.org/shu/osa/bible/latin/05-DEU-009.html> (referer: https://media.ipsapps.org/shu/osa/bible/latin/05-DEU-008.html)\n",
      "2025-05-04 13:43:29 [scrapy.core.engine] DEBUG: Crawled (200) <GET https://media.ipsapps.org/shu/osa/bible/latin/05-DEU-010.html> (referer: https://media.ipsapps.org/shu/osa/bible/latin/05-DEU-009.html)\n",
      "2025-05-04 13:43:29 [scrapy.core.engine] DEBUG: Crawled (200) <GET https://media.ipsapps.org/shu/osa/bible/latin/05-DEU-011.html> (referer: https://media.ipsapps.org/shu/osa/bible/latin/05-DEU-010.html)\n",
      "2025-05-04 13:43:29 [scrapy.core.engine] DEBUG: Crawled (200) <GET https://media.ipsapps.org/shu/osa/bible/latin/05-DEU-012.html> (referer: https://media.ipsapps.org/shu/osa/bible/latin/05-DEU-011.html)\n",
      "2025-05-04 13:43:30 [scrapy.core.engine] DEBUG: Crawled (200) <GET https://media.ipsapps.org/shu/osa/bible/latin/05-DEU-013.html> (referer: https://media.ipsapps.org/shu/osa/bible/latin/05-DEU-012.html)\n",
      "2025-05-04 13:43:30 [scrapy.core.engine] DEBUG: Crawled (200) <GET https://media.ipsapps.org/shu/osa/bible/latin/05-DEU-014.html> (referer: https://media.ipsapps.org/shu/osa/bible/latin/05-DEU-013.html)\n",
      "2025-05-04 13:43:30 [scrapy.core.engine] DEBUG: Crawled (200) <GET https://media.ipsapps.org/shu/osa/bible/latin/05-DEU-015.html> (referer: https://media.ipsapps.org/shu/osa/bible/latin/05-DEU-014.html)\n",
      "2025-05-04 13:43:31 [scrapy.core.engine] DEBUG: Crawled (200) <GET https://media.ipsapps.org/shu/osa/bible/latin/05-DEU-016.html> (referer: https://media.ipsapps.org/shu/osa/bible/latin/05-DEU-015.html)\n",
      "2025-05-04 13:43:31 [scrapy.core.engine] DEBUG: Crawled (200) <GET https://media.ipsapps.org/shu/osa/bible/latin/05-DEU-017.html> (referer: https://media.ipsapps.org/shu/osa/bible/latin/05-DEU-016.html)\n",
      "2025-05-04 13:43:32 [scrapy.core.engine] DEBUG: Crawled (200) <GET https://media.ipsapps.org/shu/osa/bible/latin/05-DEU-018.html> (referer: https://media.ipsapps.org/shu/osa/bible/latin/05-DEU-017.html)\n",
      "2025-05-04 13:43:32 [scrapy.core.engine] DEBUG: Crawled (200) <GET https://media.ipsapps.org/shu/osa/bible/latin/05-DEU-019.html> (referer: https://media.ipsapps.org/shu/osa/bible/latin/05-DEU-018.html)\n",
      "2025-05-04 13:43:32 [scrapy.core.engine] DEBUG: Crawled (200) <GET https://media.ipsapps.org/shu/osa/bible/latin/05-DEU-020.html> (referer: https://media.ipsapps.org/shu/osa/bible/latin/05-DEU-019.html)\n",
      "2025-05-04 13:43:33 [scrapy.core.engine] DEBUG: Crawled (200) <GET https://media.ipsapps.org/shu/osa/bible/latin/05-DEU-021.html> (referer: https://media.ipsapps.org/shu/osa/bible/latin/05-DEU-020.html)\n",
      "2025-05-04 13:43:33 [scrapy.core.engine] DEBUG: Crawled (200) <GET https://media.ipsapps.org/shu/osa/bible/latin/05-DEU-022.html> (referer: https://media.ipsapps.org/shu/osa/bible/latin/05-DEU-021.html)\n",
      "2025-05-04 13:43:34 [scrapy.core.engine] DEBUG: Crawled (200) <GET https://media.ipsapps.org/shu/osa/bible/latin/05-DEU-023.html> (referer: https://media.ipsapps.org/shu/osa/bible/latin/05-DEU-022.html)\n",
      "2025-05-04 13:43:34 [scrapy.core.engine] DEBUG: Crawled (200) <GET https://media.ipsapps.org/shu/osa/bible/latin/05-DEU-024.html> (referer: https://media.ipsapps.org/shu/osa/bible/latin/05-DEU-023.html)\n",
      "2025-05-04 13:43:34 [scrapy.core.engine] DEBUG: Crawled (200) <GET https://media.ipsapps.org/shu/osa/bible/latin/05-DEU-025.html> (referer: https://media.ipsapps.org/shu/osa/bible/latin/05-DEU-024.html)\n",
      "2025-05-04 13:43:35 [scrapy.core.engine] DEBUG: Crawled (200) <GET https://media.ipsapps.org/shu/osa/bible/latin/05-DEU-026.html> (referer: https://media.ipsapps.org/shu/osa/bible/latin/05-DEU-025.html)\n",
      "2025-05-04 13:43:35 [scrapy.core.engine] DEBUG: Crawled (200) <GET https://media.ipsapps.org/shu/osa/bible/latin/05-DEU-027.html> (referer: https://media.ipsapps.org/shu/osa/bible/latin/05-DEU-026.html)\n",
      "2025-05-04 13:43:35 [scrapy.core.engine] DEBUG: Crawled (200) <GET https://media.ipsapps.org/shu/osa/bible/latin/05-DEU-028.html> (referer: https://media.ipsapps.org/shu/osa/bible/latin/05-DEU-027.html)\n",
      "2025-05-04 13:43:36 [scrapy.core.engine] DEBUG: Crawled (200) <GET https://media.ipsapps.org/shu/osa/bible/latin/05-DEU-029.html> (referer: https://media.ipsapps.org/shu/osa/bible/latin/05-DEU-028.html)\n",
      "2025-05-04 13:43:36 [scrapy.core.engine] DEBUG: Crawled (200) <GET https://media.ipsapps.org/shu/osa/bible/latin/05-DEU-030.html> (referer: https://media.ipsapps.org/shu/osa/bible/latin/05-DEU-029.html)\n",
      "2025-05-04 13:43:37 [scrapy.core.engine] DEBUG: Crawled (200) <GET https://media.ipsapps.org/shu/osa/bible/latin/05-DEU-031.html> (referer: https://media.ipsapps.org/shu/osa/bible/latin/05-DEU-030.html)\n",
      "2025-05-04 13:43:37 [scrapy.core.engine] DEBUG: Crawled (200) <GET https://media.ipsapps.org/shu/osa/bible/latin/05-DEU-032.html> (referer: https://media.ipsapps.org/shu/osa/bible/latin/05-DEU-031.html)\n",
      "2025-05-04 13:43:37 [scrapy.core.engine] DEBUG: Crawled (200) <GET https://media.ipsapps.org/shu/osa/bible/latin/05-DEU-033.html> (referer: https://media.ipsapps.org/shu/osa/bible/latin/05-DEU-032.html)\n",
      "2025-05-04 13:43:38 [scrapy.core.engine] DEBUG: Crawled (200) <GET https://media.ipsapps.org/shu/osa/bible/latin/05-DEU-034.html> (referer: https://media.ipsapps.org/shu/osa/bible/latin/05-DEU-033.html)\n",
      "2025-05-04 13:43:38 [scrapy.core.engine] DEBUG: Crawled (200) <GET https://media.ipsapps.org/shu/osa/bible/latin/06-JOS-000.html> (referer: https://media.ipsapps.org/shu/osa/bible/latin/05-DEU-034.html)\n",
      "2025-05-04 13:43:38 [scrapy.core.engine] DEBUG: Crawled (200) <GET https://media.ipsapps.org/shu/osa/bible/latin/06-JOS-001.html> (referer: https://media.ipsapps.org/shu/osa/bible/latin/06-JOS-000.html)\n",
      "2025-05-04 13:43:39 [scrapy.core.engine] DEBUG: Crawled (200) <GET https://media.ipsapps.org/shu/osa/bible/latin/06-JOS-002.html> (referer: https://media.ipsapps.org/shu/osa/bible/latin/06-JOS-001.html)\n",
      "2025-05-04 13:43:39 [scrapy.core.engine] DEBUG: Crawled (200) <GET https://media.ipsapps.org/shu/osa/bible/latin/06-JOS-003.html> (referer: https://media.ipsapps.org/shu/osa/bible/latin/06-JOS-002.html)\n",
      "2025-05-04 13:43:39 [scrapy.core.engine] DEBUG: Crawled (200) <GET https://media.ipsapps.org/shu/osa/bible/latin/06-JOS-004.html> (referer: https://media.ipsapps.org/shu/osa/bible/latin/06-JOS-003.html)\n",
      "2025-05-04 13:43:40 [scrapy.core.engine] DEBUG: Crawled (200) <GET https://media.ipsapps.org/shu/osa/bible/latin/06-JOS-005.html> (referer: https://media.ipsapps.org/shu/osa/bible/latin/06-JOS-004.html)\n",
      "2025-05-04 13:43:40 [scrapy.core.engine] DEBUG: Crawled (200) <GET https://media.ipsapps.org/shu/osa/bible/latin/06-JOS-006.html> (referer: https://media.ipsapps.org/shu/osa/bible/latin/06-JOS-005.html)\n",
      "2025-05-04 13:43:40 [scrapy.core.engine] DEBUG: Crawled (200) <GET https://media.ipsapps.org/shu/osa/bible/latin/06-JOS-007.html> (referer: https://media.ipsapps.org/shu/osa/bible/latin/06-JOS-006.html)\n",
      "2025-05-04 13:43:41 [scrapy.core.engine] DEBUG: Crawled (200) <GET https://media.ipsapps.org/shu/osa/bible/latin/06-JOS-008.html> (referer: https://media.ipsapps.org/shu/osa/bible/latin/06-JOS-007.html)\n",
      "2025-05-04 13:43:41 [scrapy.core.engine] DEBUG: Crawled (200) <GET https://media.ipsapps.org/shu/osa/bible/latin/06-JOS-009.html> (referer: https://media.ipsapps.org/shu/osa/bible/latin/06-JOS-008.html)\n",
      "2025-05-04 13:43:42 [scrapy.core.engine] DEBUG: Crawled (200) <GET https://media.ipsapps.org/shu/osa/bible/latin/06-JOS-010.html> (referer: https://media.ipsapps.org/shu/osa/bible/latin/06-JOS-009.html)\n",
      "2025-05-04 13:43:42 [scrapy.core.engine] DEBUG: Crawled (200) <GET https://media.ipsapps.org/shu/osa/bible/latin/06-JOS-011.html> (referer: https://media.ipsapps.org/shu/osa/bible/latin/06-JOS-010.html)\n",
      "2025-05-04 13:43:42 [scrapy.core.engine] DEBUG: Crawled (200) <GET https://media.ipsapps.org/shu/osa/bible/latin/06-JOS-012.html> (referer: https://media.ipsapps.org/shu/osa/bible/latin/06-JOS-011.html)\n",
      "2025-05-04 13:43:43 [scrapy.core.engine] DEBUG: Crawled (200) <GET https://media.ipsapps.org/shu/osa/bible/latin/06-JOS-013.html> (referer: https://media.ipsapps.org/shu/osa/bible/latin/06-JOS-012.html)\n",
      "2025-05-04 13:43:44 [scrapy.core.engine] DEBUG: Crawled (200) <GET https://media.ipsapps.org/shu/osa/bible/latin/06-JOS-014.html> (referer: https://media.ipsapps.org/shu/osa/bible/latin/06-JOS-013.html)\n",
      "2025-05-04 13:43:44 [scrapy.core.engine] DEBUG: Crawled (200) <GET https://media.ipsapps.org/shu/osa/bible/latin/06-JOS-015.html> (referer: https://media.ipsapps.org/shu/osa/bible/latin/06-JOS-014.html)\n",
      "2025-05-04 13:43:44 [scrapy.core.engine] DEBUG: Crawled (200) <GET https://media.ipsapps.org/shu/osa/bible/latin/06-JOS-016.html> (referer: https://media.ipsapps.org/shu/osa/bible/latin/06-JOS-015.html)\n",
      "2025-05-04 13:43:44 [scrapy.core.engine] DEBUG: Crawled (200) <GET https://media.ipsapps.org/shu/osa/bible/latin/06-JOS-017.html> (referer: https://media.ipsapps.org/shu/osa/bible/latin/06-JOS-016.html)\n",
      "2025-05-04 13:43:45 [scrapy.core.engine] DEBUG: Crawled (200) <GET https://media.ipsapps.org/shu/osa/bible/latin/06-JOS-018.html> (referer: https://media.ipsapps.org/shu/osa/bible/latin/06-JOS-017.html)\n",
      "2025-05-04 13:43:45 [scrapy.core.engine] DEBUG: Crawled (200) <GET https://media.ipsapps.org/shu/osa/bible/latin/06-JOS-019.html> (referer: https://media.ipsapps.org/shu/osa/bible/latin/06-JOS-018.html)\n",
      "2025-05-04 13:43:46 [scrapy.core.engine] DEBUG: Crawled (200) <GET https://media.ipsapps.org/shu/osa/bible/latin/06-JOS-020.html> (referer: https://media.ipsapps.org/shu/osa/bible/latin/06-JOS-019.html)\n",
      "2025-05-04 13:43:46 [scrapy.core.engine] DEBUG: Crawled (200) <GET https://media.ipsapps.org/shu/osa/bible/latin/06-JOS-021.html> (referer: https://media.ipsapps.org/shu/osa/bible/latin/06-JOS-020.html)\n",
      "2025-05-04 13:43:46 [scrapy.core.engine] DEBUG: Crawled (200) <GET https://media.ipsapps.org/shu/osa/bible/latin/06-JOS-022.html> (referer: https://media.ipsapps.org/shu/osa/bible/latin/06-JOS-021.html)\n",
      "2025-05-04 13:43:46 [scrapy.core.engine] DEBUG: Crawled (200) <GET https://media.ipsapps.org/shu/osa/bible/latin/06-JOS-023.html> (referer: https://media.ipsapps.org/shu/osa/bible/latin/06-JOS-022.html)\n",
      "2025-05-04 13:43:47 [scrapy.core.engine] DEBUG: Crawled (200) <GET https://media.ipsapps.org/shu/osa/bible/latin/06-JOS-024.html> (referer: https://media.ipsapps.org/shu/osa/bible/latin/06-JOS-023.html)\n",
      "2025-05-04 13:43:47 [scrapy.core.engine] DEBUG: Crawled (200) <GET https://media.ipsapps.org/shu/osa/bible/latin/07-JDG-000.html> (referer: https://media.ipsapps.org/shu/osa/bible/latin/06-JOS-024.html)\n",
      "2025-05-04 13:43:47 [scrapy.core.engine] DEBUG: Crawled (200) <GET https://media.ipsapps.org/shu/osa/bible/latin/07-JDG-001.html> (referer: https://media.ipsapps.org/shu/osa/bible/latin/07-JDG-000.html)\n",
      "2025-05-04 13:43:48 [scrapy.core.engine] DEBUG: Crawled (200) <GET https://media.ipsapps.org/shu/osa/bible/latin/07-JDG-002.html> (referer: https://media.ipsapps.org/shu/osa/bible/latin/07-JDG-001.html)\n",
      "2025-05-04 13:43:49 [scrapy.core.engine] DEBUG: Crawled (200) <GET https://media.ipsapps.org/shu/osa/bible/latin/07-JDG-003.html> (referer: https://media.ipsapps.org/shu/osa/bible/latin/07-JDG-002.html)\n",
      "2025-05-04 13:43:49 [scrapy.core.engine] DEBUG: Crawled (200) <GET https://media.ipsapps.org/shu/osa/bible/latin/07-JDG-004.html> (referer: https://media.ipsapps.org/shu/osa/bible/latin/07-JDG-003.html)\n",
      "2025-05-04 13:43:49 [scrapy.core.engine] DEBUG: Crawled (200) <GET https://media.ipsapps.org/shu/osa/bible/latin/07-JDG-005.html> (referer: https://media.ipsapps.org/shu/osa/bible/latin/07-JDG-004.html)\n",
      "2025-05-04 13:43:50 [scrapy.core.engine] DEBUG: Crawled (200) <GET https://media.ipsapps.org/shu/osa/bible/latin/07-JDG-006.html> (referer: https://media.ipsapps.org/shu/osa/bible/latin/07-JDG-005.html)\n",
      "2025-05-04 13:43:50 [scrapy.core.engine] DEBUG: Crawled (200) <GET https://media.ipsapps.org/shu/osa/bible/latin/07-JDG-007.html> (referer: https://media.ipsapps.org/shu/osa/bible/latin/07-JDG-006.html)\n",
      "2025-05-04 13:43:51 [scrapy.core.engine] DEBUG: Crawled (200) <GET https://media.ipsapps.org/shu/osa/bible/latin/07-JDG-008.html> (referer: https://media.ipsapps.org/shu/osa/bible/latin/07-JDG-007.html)\n",
      "2025-05-04 13:43:51 [scrapy.core.engine] DEBUG: Crawled (200) <GET https://media.ipsapps.org/shu/osa/bible/latin/07-JDG-009.html> (referer: https://media.ipsapps.org/shu/osa/bible/latin/07-JDG-008.html)\n",
      "2025-05-04 13:43:52 [scrapy.core.engine] DEBUG: Crawled (200) <GET https://media.ipsapps.org/shu/osa/bible/latin/07-JDG-010.html> (referer: https://media.ipsapps.org/shu/osa/bible/latin/07-JDG-009.html)\n",
      "2025-05-04 13:43:52 [scrapy.core.engine] DEBUG: Crawled (200) <GET https://media.ipsapps.org/shu/osa/bible/latin/07-JDG-011.html> (referer: https://media.ipsapps.org/shu/osa/bible/latin/07-JDG-010.html)\n",
      "2025-05-04 13:43:53 [scrapy.core.engine] DEBUG: Crawled (200) <GET https://media.ipsapps.org/shu/osa/bible/latin/07-JDG-012.html> (referer: https://media.ipsapps.org/shu/osa/bible/latin/07-JDG-011.html)\n",
      "2025-05-04 13:43:53 [scrapy.core.engine] DEBUG: Crawled (200) <GET https://media.ipsapps.org/shu/osa/bible/latin/07-JDG-013.html> (referer: https://media.ipsapps.org/shu/osa/bible/latin/07-JDG-012.html)\n",
      "2025-05-04 13:43:53 [scrapy.core.engine] DEBUG: Crawled (200) <GET https://media.ipsapps.org/shu/osa/bible/latin/07-JDG-014.html> (referer: https://media.ipsapps.org/shu/osa/bible/latin/07-JDG-013.html)\n",
      "2025-05-04 13:43:54 [scrapy.core.engine] DEBUG: Crawled (200) <GET https://media.ipsapps.org/shu/osa/bible/latin/07-JDG-015.html> (referer: https://media.ipsapps.org/shu/osa/bible/latin/07-JDG-014.html)\n",
      "2025-05-04 13:43:54 [scrapy.core.engine] DEBUG: Crawled (200) <GET https://media.ipsapps.org/shu/osa/bible/latin/07-JDG-016.html> (referer: https://media.ipsapps.org/shu/osa/bible/latin/07-JDG-015.html)\n",
      "2025-05-04 13:43:55 [scrapy.core.engine] DEBUG: Crawled (200) <GET https://media.ipsapps.org/shu/osa/bible/latin/07-JDG-017.html> (referer: https://media.ipsapps.org/shu/osa/bible/latin/07-JDG-016.html)\n",
      "2025-05-04 13:43:55 [scrapy.core.engine] DEBUG: Crawled (200) <GET https://media.ipsapps.org/shu/osa/bible/latin/07-JDG-018.html> (referer: https://media.ipsapps.org/shu/osa/bible/latin/07-JDG-017.html)\n",
      "2025-05-04 13:43:55 [scrapy.core.engine] DEBUG: Crawled (200) <GET https://media.ipsapps.org/shu/osa/bible/latin/07-JDG-019.html> (referer: https://media.ipsapps.org/shu/osa/bible/latin/07-JDG-018.html)\n",
      "2025-05-04 13:43:56 [scrapy.core.engine] DEBUG: Crawled (200) <GET https://media.ipsapps.org/shu/osa/bible/latin/07-JDG-020.html> (referer: https://media.ipsapps.org/shu/osa/bible/latin/07-JDG-019.html)\n",
      "2025-05-04 13:43:56 [scrapy.core.engine] DEBUG: Crawled (200) <GET https://media.ipsapps.org/shu/osa/bible/latin/07-JDG-021.html> (referer: https://media.ipsapps.org/shu/osa/bible/latin/07-JDG-020.html)\n",
      "2025-05-04 13:43:56 [scrapy.core.engine] DEBUG: Crawled (200) <GET https://media.ipsapps.org/shu/osa/bible/latin/08-RUT-000.html> (referer: https://media.ipsapps.org/shu/osa/bible/latin/07-JDG-021.html)\n",
      "2025-05-04 13:43:57 [scrapy.core.engine] DEBUG: Crawled (200) <GET https://media.ipsapps.org/shu/osa/bible/latin/08-RUT-001.html> (referer: https://media.ipsapps.org/shu/osa/bible/latin/08-RUT-000.html)\n",
      "2025-05-04 13:43:57 [scrapy.core.engine] DEBUG: Crawled (200) <GET https://media.ipsapps.org/shu/osa/bible/latin/08-RUT-002.html> (referer: https://media.ipsapps.org/shu/osa/bible/latin/08-RUT-001.html)\n",
      "2025-05-04 13:43:58 [scrapy.core.engine] DEBUG: Crawled (200) <GET https://media.ipsapps.org/shu/osa/bible/latin/08-RUT-003.html> (referer: https://media.ipsapps.org/shu/osa/bible/latin/08-RUT-002.html)\n",
      "2025-05-04 13:43:58 [scrapy.core.engine] DEBUG: Crawled (200) <GET https://media.ipsapps.org/shu/osa/bible/latin/08-RUT-004.html> (referer: https://media.ipsapps.org/shu/osa/bible/latin/08-RUT-003.html)\n",
      "2025-05-04 13:43:58 [scrapy.core.engine] DEBUG: Crawled (200) <GET https://media.ipsapps.org/shu/osa/bible/latin/09-1SA-000.html> (referer: https://media.ipsapps.org/shu/osa/bible/latin/08-RUT-004.html)\n",
      "2025-05-04 13:43:59 [scrapy.core.engine] DEBUG: Crawled (200) <GET https://media.ipsapps.org/shu/osa/bible/latin/09-1SA-001.html> (referer: https://media.ipsapps.org/shu/osa/bible/latin/09-1SA-000.html)\n",
      "2025-05-04 13:43:59 [scrapy.core.engine] DEBUG: Crawled (200) <GET https://media.ipsapps.org/shu/osa/bible/latin/09-1SA-002.html> (referer: https://media.ipsapps.org/shu/osa/bible/latin/09-1SA-001.html)\n",
      "2025-05-04 13:44:00 [scrapy.core.engine] DEBUG: Crawled (200) <GET https://media.ipsapps.org/shu/osa/bible/latin/09-1SA-003.html> (referer: https://media.ipsapps.org/shu/osa/bible/latin/09-1SA-002.html)\n",
      "2025-05-04 13:44:00 [scrapy.core.engine] DEBUG: Crawled (200) <GET https://media.ipsapps.org/shu/osa/bible/latin/09-1SA-004.html> (referer: https://media.ipsapps.org/shu/osa/bible/latin/09-1SA-003.html)\n",
      "2025-05-04 13:44:00 [scrapy.core.engine] DEBUG: Crawled (200) <GET https://media.ipsapps.org/shu/osa/bible/latin/09-1SA-005.html> (referer: https://media.ipsapps.org/shu/osa/bible/latin/09-1SA-004.html)\n",
      "2025-05-04 13:44:01 [scrapy.core.engine] DEBUG: Crawled (200) <GET https://media.ipsapps.org/shu/osa/bible/latin/09-1SA-006.html> (referer: https://media.ipsapps.org/shu/osa/bible/latin/09-1SA-005.html)\n",
      "2025-05-04 13:44:01 [scrapy.core.engine] DEBUG: Crawled (200) <GET https://media.ipsapps.org/shu/osa/bible/latin/09-1SA-007.html> (referer: https://media.ipsapps.org/shu/osa/bible/latin/09-1SA-006.html)\n",
      "2025-05-04 13:44:01 [scrapy.core.engine] DEBUG: Crawled (200) <GET https://media.ipsapps.org/shu/osa/bible/latin/09-1SA-008.html> (referer: https://media.ipsapps.org/shu/osa/bible/latin/09-1SA-007.html)\n",
      "2025-05-04 13:44:02 [scrapy.core.engine] DEBUG: Crawled (200) <GET https://media.ipsapps.org/shu/osa/bible/latin/09-1SA-009.html> (referer: https://media.ipsapps.org/shu/osa/bible/latin/09-1SA-008.html)\n",
      "2025-05-04 13:44:02 [scrapy.core.engine] DEBUG: Crawled (200) <GET https://media.ipsapps.org/shu/osa/bible/latin/09-1SA-010.html> (referer: https://media.ipsapps.org/shu/osa/bible/latin/09-1SA-009.html)\n",
      "2025-05-04 13:44:03 [scrapy.core.engine] DEBUG: Crawled (200) <GET https://media.ipsapps.org/shu/osa/bible/latin/09-1SA-011.html> (referer: https://media.ipsapps.org/shu/osa/bible/latin/09-1SA-010.html)\n",
      "2025-05-04 13:44:03 [scrapy.core.engine] DEBUG: Crawled (200) <GET https://media.ipsapps.org/shu/osa/bible/latin/09-1SA-012.html> (referer: https://media.ipsapps.org/shu/osa/bible/latin/09-1SA-011.html)\n",
      "2025-05-04 13:44:03 [scrapy.core.engine] DEBUG: Crawled (200) <GET https://media.ipsapps.org/shu/osa/bible/latin/09-1SA-013.html> (referer: https://media.ipsapps.org/shu/osa/bible/latin/09-1SA-012.html)\n",
      "2025-05-04 13:44:04 [scrapy.core.engine] DEBUG: Crawled (200) <GET https://media.ipsapps.org/shu/osa/bible/latin/09-1SA-014.html> (referer: https://media.ipsapps.org/shu/osa/bible/latin/09-1SA-013.html)\n",
      "2025-05-04 13:44:04 [scrapy.core.engine] DEBUG: Crawled (200) <GET https://media.ipsapps.org/shu/osa/bible/latin/09-1SA-015.html> (referer: https://media.ipsapps.org/shu/osa/bible/latin/09-1SA-014.html)\n",
      "2025-05-04 13:44:05 [scrapy.core.engine] DEBUG: Crawled (200) <GET https://media.ipsapps.org/shu/osa/bible/latin/09-1SA-016.html> (referer: https://media.ipsapps.org/shu/osa/bible/latin/09-1SA-015.html)\n",
      "2025-05-04 13:44:05 [scrapy.core.engine] DEBUG: Crawled (200) <GET https://media.ipsapps.org/shu/osa/bible/latin/09-1SA-017.html> (referer: https://media.ipsapps.org/shu/osa/bible/latin/09-1SA-016.html)\n",
      "2025-05-04 13:44:06 [scrapy.core.engine] DEBUG: Crawled (200) <GET https://media.ipsapps.org/shu/osa/bible/latin/09-1SA-018.html> (referer: https://media.ipsapps.org/shu/osa/bible/latin/09-1SA-017.html)\n",
      "2025-05-04 13:44:06 [scrapy.core.engine] DEBUG: Crawled (200) <GET https://media.ipsapps.org/shu/osa/bible/latin/09-1SA-019.html> (referer: https://media.ipsapps.org/shu/osa/bible/latin/09-1SA-018.html)\n",
      "2025-05-04 13:44:07 [scrapy.core.engine] DEBUG: Crawled (200) <GET https://media.ipsapps.org/shu/osa/bible/latin/09-1SA-020.html> (referer: https://media.ipsapps.org/shu/osa/bible/latin/09-1SA-019.html)\n",
      "2025-05-04 13:44:07 [scrapy.core.engine] DEBUG: Crawled (200) <GET https://media.ipsapps.org/shu/osa/bible/latin/09-1SA-021.html> (referer: https://media.ipsapps.org/shu/osa/bible/latin/09-1SA-020.html)\n",
      "2025-05-04 13:44:07 [scrapy.core.engine] DEBUG: Crawled (200) <GET https://media.ipsapps.org/shu/osa/bible/latin/09-1SA-022.html> (referer: https://media.ipsapps.org/shu/osa/bible/latin/09-1SA-021.html)\n",
      "2025-05-04 13:44:08 [scrapy.core.engine] DEBUG: Crawled (200) <GET https://media.ipsapps.org/shu/osa/bible/latin/09-1SA-023.html> (referer: https://media.ipsapps.org/shu/osa/bible/latin/09-1SA-022.html)\n",
      "2025-05-04 13:44:08 [scrapy.core.engine] DEBUG: Crawled (200) <GET https://media.ipsapps.org/shu/osa/bible/latin/09-1SA-024.html> (referer: https://media.ipsapps.org/shu/osa/bible/latin/09-1SA-023.html)\n",
      "2025-05-04 13:44:09 [scrapy.core.engine] DEBUG: Crawled (200) <GET https://media.ipsapps.org/shu/osa/bible/latin/09-1SA-025.html> (referer: https://media.ipsapps.org/shu/osa/bible/latin/09-1SA-024.html)\n",
      "2025-05-04 13:44:09 [scrapy.core.engine] DEBUG: Crawled (200) <GET https://media.ipsapps.org/shu/osa/bible/latin/09-1SA-026.html> (referer: https://media.ipsapps.org/shu/osa/bible/latin/09-1SA-025.html)\n",
      "2025-05-04 13:44:10 [scrapy.core.engine] DEBUG: Crawled (200) <GET https://media.ipsapps.org/shu/osa/bible/latin/09-1SA-027.html> (referer: https://media.ipsapps.org/shu/osa/bible/latin/09-1SA-026.html)\n",
      "2025-05-04 13:44:10 [scrapy.core.engine] DEBUG: Crawled (200) <GET https://media.ipsapps.org/shu/osa/bible/latin/09-1SA-028.html> (referer: https://media.ipsapps.org/shu/osa/bible/latin/09-1SA-027.html)\n",
      "2025-05-04 13:44:11 [scrapy.core.engine] DEBUG: Crawled (200) <GET https://media.ipsapps.org/shu/osa/bible/latin/09-1SA-029.html> (referer: https://media.ipsapps.org/shu/osa/bible/latin/09-1SA-028.html)\n",
      "2025-05-04 13:44:11 [scrapy.core.engine] DEBUG: Crawled (200) <GET https://media.ipsapps.org/shu/osa/bible/latin/09-1SA-030.html> (referer: https://media.ipsapps.org/shu/osa/bible/latin/09-1SA-029.html)\n",
      "2025-05-04 13:44:11 [scrapy.core.engine] DEBUG: Crawled (200) <GET https://media.ipsapps.org/shu/osa/bible/latin/09-1SA-031.html> (referer: https://media.ipsapps.org/shu/osa/bible/latin/09-1SA-030.html)\n",
      "2025-05-04 13:44:12 [scrapy.core.engine] DEBUG: Crawled (200) <GET https://media.ipsapps.org/shu/osa/bible/latin/10-2SA-000.html> (referer: https://media.ipsapps.org/shu/osa/bible/latin/09-1SA-031.html)\n",
      "2025-05-04 13:44:12 [scrapy.core.engine] DEBUG: Crawled (200) <GET https://media.ipsapps.org/shu/osa/bible/latin/10-2SA-001.html> (referer: https://media.ipsapps.org/shu/osa/bible/latin/10-2SA-000.html)\n",
      "2025-05-04 13:44:13 [scrapy.core.engine] DEBUG: Crawled (200) <GET https://media.ipsapps.org/shu/osa/bible/latin/10-2SA-002.html> (referer: https://media.ipsapps.org/shu/osa/bible/latin/10-2SA-001.html)\n",
      "2025-05-04 13:44:13 [scrapy.core.engine] DEBUG: Crawled (200) <GET https://media.ipsapps.org/shu/osa/bible/latin/10-2SA-003.html> (referer: https://media.ipsapps.org/shu/osa/bible/latin/10-2SA-002.html)\n",
      "2025-05-04 13:44:13 [scrapy.core.engine] DEBUG: Crawled (200) <GET https://media.ipsapps.org/shu/osa/bible/latin/10-2SA-004.html> (referer: https://media.ipsapps.org/shu/osa/bible/latin/10-2SA-003.html)\n",
      "2025-05-04 13:44:14 [scrapy.core.engine] DEBUG: Crawled (200) <GET https://media.ipsapps.org/shu/osa/bible/latin/10-2SA-005.html> (referer: https://media.ipsapps.org/shu/osa/bible/latin/10-2SA-004.html)\n",
      "2025-05-04 13:44:14 [scrapy.core.engine] DEBUG: Crawled (200) <GET https://media.ipsapps.org/shu/osa/bible/latin/10-2SA-006.html> (referer: https://media.ipsapps.org/shu/osa/bible/latin/10-2SA-005.html)\n",
      "2025-05-04 13:44:15 [scrapy.core.engine] DEBUG: Crawled (200) <GET https://media.ipsapps.org/shu/osa/bible/latin/10-2SA-007.html> (referer: https://media.ipsapps.org/shu/osa/bible/latin/10-2SA-006.html)\n",
      "2025-05-04 13:44:15 [scrapy.core.engine] DEBUG: Crawled (200) <GET https://media.ipsapps.org/shu/osa/bible/latin/10-2SA-008.html> (referer: https://media.ipsapps.org/shu/osa/bible/latin/10-2SA-007.html)\n",
      "2025-05-04 13:44:15 [scrapy.core.engine] DEBUG: Crawled (200) <GET https://media.ipsapps.org/shu/osa/bible/latin/10-2SA-009.html> (referer: https://media.ipsapps.org/shu/osa/bible/latin/10-2SA-008.html)\n",
      "2025-05-04 13:44:16 [scrapy.core.engine] DEBUG: Crawled (200) <GET https://media.ipsapps.org/shu/osa/bible/latin/10-2SA-010.html> (referer: https://media.ipsapps.org/shu/osa/bible/latin/10-2SA-009.html)\n",
      "2025-05-04 13:44:16 [scrapy.core.engine] DEBUG: Crawled (200) <GET https://media.ipsapps.org/shu/osa/bible/latin/10-2SA-011.html> (referer: https://media.ipsapps.org/shu/osa/bible/latin/10-2SA-010.html)\n",
      "2025-05-04 13:44:17 [scrapy.core.engine] DEBUG: Crawled (200) <GET https://media.ipsapps.org/shu/osa/bible/latin/10-2SA-012.html> (referer: https://media.ipsapps.org/shu/osa/bible/latin/10-2SA-011.html)\n",
      "2025-05-04 13:44:17 [scrapy.core.engine] DEBUG: Crawled (200) <GET https://media.ipsapps.org/shu/osa/bible/latin/10-2SA-013.html> (referer: https://media.ipsapps.org/shu/osa/bible/latin/10-2SA-012.html)\n",
      "2025-05-04 13:44:18 [scrapy.core.engine] DEBUG: Crawled (200) <GET https://media.ipsapps.org/shu/osa/bible/latin/10-2SA-014.html> (referer: https://media.ipsapps.org/shu/osa/bible/latin/10-2SA-013.html)\n",
      "2025-05-04 13:44:18 [scrapy.core.engine] DEBUG: Crawled (200) <GET https://media.ipsapps.org/shu/osa/bible/latin/10-2SA-015.html> (referer: https://media.ipsapps.org/shu/osa/bible/latin/10-2SA-014.html)\n",
      "2025-05-04 13:44:18 [scrapy.core.engine] DEBUG: Crawled (200) <GET https://media.ipsapps.org/shu/osa/bible/latin/10-2SA-016.html> (referer: https://media.ipsapps.org/shu/osa/bible/latin/10-2SA-015.html)\n",
      "2025-05-04 13:44:19 [scrapy.core.engine] DEBUG: Crawled (200) <GET https://media.ipsapps.org/shu/osa/bible/latin/10-2SA-017.html> (referer: https://media.ipsapps.org/shu/osa/bible/latin/10-2SA-016.html)\n",
      "2025-05-04 13:44:19 [scrapy.core.engine] DEBUG: Crawled (200) <GET https://media.ipsapps.org/shu/osa/bible/latin/10-2SA-018.html> (referer: https://media.ipsapps.org/shu/osa/bible/latin/10-2SA-017.html)\n",
      "2025-05-04 13:44:20 [scrapy.core.engine] DEBUG: Crawled (200) <GET https://media.ipsapps.org/shu/osa/bible/latin/10-2SA-019.html> (referer: https://media.ipsapps.org/shu/osa/bible/latin/10-2SA-018.html)\n",
      "2025-05-04 13:44:20 [scrapy.core.engine] DEBUG: Crawled (200) <GET https://media.ipsapps.org/shu/osa/bible/latin/10-2SA-020.html> (referer: https://media.ipsapps.org/shu/osa/bible/latin/10-2SA-019.html)\n",
      "2025-05-04 13:44:21 [scrapy.core.engine] DEBUG: Crawled (200) <GET https://media.ipsapps.org/shu/osa/bible/latin/10-2SA-021.html> (referer: https://media.ipsapps.org/shu/osa/bible/latin/10-2SA-020.html)\n",
      "2025-05-04 13:44:21 [scrapy.core.engine] DEBUG: Crawled (200) <GET https://media.ipsapps.org/shu/osa/bible/latin/10-2SA-022.html> (referer: https://media.ipsapps.org/shu/osa/bible/latin/10-2SA-021.html)\n",
      "2025-05-04 13:44:21 [scrapy.core.engine] DEBUG: Crawled (200) <GET https://media.ipsapps.org/shu/osa/bible/latin/10-2SA-023.html> (referer: https://media.ipsapps.org/shu/osa/bible/latin/10-2SA-022.html)\n",
      "2025-05-04 13:44:22 [scrapy.core.engine] DEBUG: Crawled (200) <GET https://media.ipsapps.org/shu/osa/bible/latin/10-2SA-024.html> (referer: https://media.ipsapps.org/shu/osa/bible/latin/10-2SA-023.html)\n",
      "2025-05-04 13:44:22 [scrapy.core.engine] DEBUG: Crawled (200) <GET https://media.ipsapps.org/shu/osa/bible/latin/11-1KI-000.html> (referer: https://media.ipsapps.org/shu/osa/bible/latin/10-2SA-024.html)\n",
      "2025-05-04 13:44:23 [scrapy.core.engine] DEBUG: Crawled (200) <GET https://media.ipsapps.org/shu/osa/bible/latin/11-1KI-001.html> (referer: https://media.ipsapps.org/shu/osa/bible/latin/11-1KI-000.html)\n",
      "2025-05-04 13:44:23 [scrapy.core.engine] DEBUG: Crawled (200) <GET https://media.ipsapps.org/shu/osa/bible/latin/11-1KI-002.html> (referer: https://media.ipsapps.org/shu/osa/bible/latin/11-1KI-001.html)\n",
      "2025-05-04 13:44:24 [scrapy.core.engine] DEBUG: Crawled (200) <GET https://media.ipsapps.org/shu/osa/bible/latin/11-1KI-003.html> (referer: https://media.ipsapps.org/shu/osa/bible/latin/11-1KI-002.html)\n",
      "2025-05-04 13:44:24 [scrapy.core.engine] DEBUG: Crawled (200) <GET https://media.ipsapps.org/shu/osa/bible/latin/11-1KI-004.html> (referer: https://media.ipsapps.org/shu/osa/bible/latin/11-1KI-003.html)\n",
      "2025-05-04 13:44:24 [scrapy.core.engine] DEBUG: Crawled (200) <GET https://media.ipsapps.org/shu/osa/bible/latin/11-1KI-005.html> (referer: https://media.ipsapps.org/shu/osa/bible/latin/11-1KI-004.html)\n",
      "2025-05-04 13:44:25 [scrapy.core.engine] DEBUG: Crawled (200) <GET https://media.ipsapps.org/shu/osa/bible/latin/11-1KI-006.html> (referer: https://media.ipsapps.org/shu/osa/bible/latin/11-1KI-005.html)\n",
      "2025-05-04 13:44:25 [scrapy.core.engine] DEBUG: Crawled (200) <GET https://media.ipsapps.org/shu/osa/bible/latin/11-1KI-007.html> (referer: https://media.ipsapps.org/shu/osa/bible/latin/11-1KI-006.html)\n",
      "2025-05-04 13:44:26 [scrapy.core.engine] DEBUG: Crawled (200) <GET https://media.ipsapps.org/shu/osa/bible/latin/11-1KI-008.html> (referer: https://media.ipsapps.org/shu/osa/bible/latin/11-1KI-007.html)\n",
      "2025-05-04 13:44:26 [scrapy.core.engine] DEBUG: Crawled (200) <GET https://media.ipsapps.org/shu/osa/bible/latin/11-1KI-009.html> (referer: https://media.ipsapps.org/shu/osa/bible/latin/11-1KI-008.html)\n",
      "2025-05-04 13:44:27 [scrapy.core.engine] DEBUG: Crawled (200) <GET https://media.ipsapps.org/shu/osa/bible/latin/11-1KI-010.html> (referer: https://media.ipsapps.org/shu/osa/bible/latin/11-1KI-009.html)\n",
      "2025-05-04 13:44:27 [scrapy.core.engine] DEBUG: Crawled (200) <GET https://media.ipsapps.org/shu/osa/bible/latin/11-1KI-011.html> (referer: https://media.ipsapps.org/shu/osa/bible/latin/11-1KI-010.html)\n",
      "2025-05-04 13:44:28 [scrapy.core.engine] DEBUG: Crawled (200) <GET https://media.ipsapps.org/shu/osa/bible/latin/11-1KI-012.html> (referer: https://media.ipsapps.org/shu/osa/bible/latin/11-1KI-011.html)\n",
      "2025-05-04 13:44:28 [scrapy.extensions.logstats] INFO: Crawled 313 pages (at 148 pages/min), scraped 0 items (at 0 items/min)\n",
      "2025-05-04 13:44:28 [scrapy.core.engine] DEBUG: Crawled (200) <GET https://media.ipsapps.org/shu/osa/bible/latin/11-1KI-013.html> (referer: https://media.ipsapps.org/shu/osa/bible/latin/11-1KI-012.html)\n",
      "2025-05-04 13:44:28 [scrapy.core.engine] DEBUG: Crawled (200) <GET https://media.ipsapps.org/shu/osa/bible/latin/11-1KI-014.html> (referer: https://media.ipsapps.org/shu/osa/bible/latin/11-1KI-013.html)\n",
      "2025-05-04 13:44:29 [scrapy.core.engine] DEBUG: Crawled (200) <GET https://media.ipsapps.org/shu/osa/bible/latin/11-1KI-015.html> (referer: https://media.ipsapps.org/shu/osa/bible/latin/11-1KI-014.html)\n",
      "2025-05-04 13:44:29 [scrapy.core.engine] DEBUG: Crawled (200) <GET https://media.ipsapps.org/shu/osa/bible/latin/11-1KI-016.html> (referer: https://media.ipsapps.org/shu/osa/bible/latin/11-1KI-015.html)\n",
      "2025-05-04 13:44:30 [scrapy.core.engine] DEBUG: Crawled (200) <GET https://media.ipsapps.org/shu/osa/bible/latin/11-1KI-017.html> (referer: https://media.ipsapps.org/shu/osa/bible/latin/11-1KI-016.html)\n",
      "2025-05-04 13:44:30 [scrapy.core.engine] DEBUG: Crawled (200) <GET https://media.ipsapps.org/shu/osa/bible/latin/11-1KI-018.html> (referer: https://media.ipsapps.org/shu/osa/bible/latin/11-1KI-017.html)\n",
      "2025-05-04 13:44:31 [scrapy.core.engine] DEBUG: Crawled (200) <GET https://media.ipsapps.org/shu/osa/bible/latin/11-1KI-019.html> (referer: https://media.ipsapps.org/shu/osa/bible/latin/11-1KI-018.html)\n",
      "2025-05-04 13:44:31 [scrapy.core.engine] DEBUG: Crawled (200) <GET https://media.ipsapps.org/shu/osa/bible/latin/11-1KI-020.html> (referer: https://media.ipsapps.org/shu/osa/bible/latin/11-1KI-019.html)\n",
      "2025-05-04 13:44:32 [scrapy.core.engine] DEBUG: Crawled (200) <GET https://media.ipsapps.org/shu/osa/bible/latin/11-1KI-021.html> (referer: https://media.ipsapps.org/shu/osa/bible/latin/11-1KI-020.html)\n",
      "2025-05-04 13:44:32 [scrapy.core.engine] DEBUG: Crawled (200) <GET https://media.ipsapps.org/shu/osa/bible/latin/11-1KI-022.html> (referer: https://media.ipsapps.org/shu/osa/bible/latin/11-1KI-021.html)\n",
      "2025-05-04 13:44:32 [scrapy.core.engine] DEBUG: Crawled (200) <GET https://media.ipsapps.org/shu/osa/bible/latin/12-2KI-000.html> (referer: https://media.ipsapps.org/shu/osa/bible/latin/11-1KI-022.html)\n",
      "2025-05-04 13:44:33 [scrapy.core.engine] DEBUG: Crawled (200) <GET https://media.ipsapps.org/shu/osa/bible/latin/12-2KI-001.html> (referer: https://media.ipsapps.org/shu/osa/bible/latin/12-2KI-000.html)\n",
      "2025-05-04 13:44:33 [scrapy.core.engine] DEBUG: Crawled (200) <GET https://media.ipsapps.org/shu/osa/bible/latin/12-2KI-002.html> (referer: https://media.ipsapps.org/shu/osa/bible/latin/12-2KI-001.html)\n",
      "2025-05-04 13:44:34 [scrapy.core.engine] DEBUG: Crawled (200) <GET https://media.ipsapps.org/shu/osa/bible/latin/12-2KI-003.html> (referer: https://media.ipsapps.org/shu/osa/bible/latin/12-2KI-002.html)\n",
      "2025-05-04 13:44:34 [scrapy.core.engine] DEBUG: Crawled (200) <GET https://media.ipsapps.org/shu/osa/bible/latin/12-2KI-004.html> (referer: https://media.ipsapps.org/shu/osa/bible/latin/12-2KI-003.html)\n",
      "2025-05-04 13:44:34 [scrapy.core.engine] DEBUG: Crawled (200) <GET https://media.ipsapps.org/shu/osa/bible/latin/12-2KI-005.html> (referer: https://media.ipsapps.org/shu/osa/bible/latin/12-2KI-004.html)\n",
      "2025-05-04 13:44:35 [scrapy.core.engine] DEBUG: Crawled (200) <GET https://media.ipsapps.org/shu/osa/bible/latin/12-2KI-006.html> (referer: https://media.ipsapps.org/shu/osa/bible/latin/12-2KI-005.html)\n",
      "2025-05-04 13:44:35 [scrapy.core.engine] DEBUG: Crawled (200) <GET https://media.ipsapps.org/shu/osa/bible/latin/12-2KI-007.html> (referer: https://media.ipsapps.org/shu/osa/bible/latin/12-2KI-006.html)\n",
      "2025-05-04 13:44:36 [scrapy.core.engine] DEBUG: Crawled (200) <GET https://media.ipsapps.org/shu/osa/bible/latin/12-2KI-008.html> (referer: https://media.ipsapps.org/shu/osa/bible/latin/12-2KI-007.html)\n",
      "2025-05-04 13:44:36 [scrapy.core.engine] DEBUG: Crawled (200) <GET https://media.ipsapps.org/shu/osa/bible/latin/12-2KI-009.html> (referer: https://media.ipsapps.org/shu/osa/bible/latin/12-2KI-008.html)\n",
      "2025-05-04 13:44:37 [scrapy.core.engine] DEBUG: Crawled (200) <GET https://media.ipsapps.org/shu/osa/bible/latin/12-2KI-010.html> (referer: https://media.ipsapps.org/shu/osa/bible/latin/12-2KI-009.html)\n",
      "2025-05-04 13:44:37 [scrapy.core.engine] DEBUG: Crawled (200) <GET https://media.ipsapps.org/shu/osa/bible/latin/12-2KI-011.html> (referer: https://media.ipsapps.org/shu/osa/bible/latin/12-2KI-010.html)\n",
      "2025-05-04 13:44:38 [scrapy.core.engine] DEBUG: Crawled (200) <GET https://media.ipsapps.org/shu/osa/bible/latin/12-2KI-012.html> (referer: https://media.ipsapps.org/shu/osa/bible/latin/12-2KI-011.html)\n",
      "2025-05-04 13:44:39 [scrapy.core.engine] DEBUG: Crawled (200) <GET https://media.ipsapps.org/shu/osa/bible/latin/12-2KI-013.html> (referer: https://media.ipsapps.org/shu/osa/bible/latin/12-2KI-012.html)\n",
      "2025-05-04 13:44:40 [scrapy.core.engine] DEBUG: Crawled (200) <GET https://media.ipsapps.org/shu/osa/bible/latin/12-2KI-014.html> (referer: https://media.ipsapps.org/shu/osa/bible/latin/12-2KI-013.html)\n",
      "2025-05-04 13:44:40 [scrapy.core.engine] DEBUG: Crawled (200) <GET https://media.ipsapps.org/shu/osa/bible/latin/12-2KI-015.html> (referer: https://media.ipsapps.org/shu/osa/bible/latin/12-2KI-014.html)\n",
      "2025-05-04 13:44:41 [scrapy.core.engine] DEBUG: Crawled (200) <GET https://media.ipsapps.org/shu/osa/bible/latin/12-2KI-016.html> (referer: https://media.ipsapps.org/shu/osa/bible/latin/12-2KI-015.html)\n",
      "2025-05-04 13:44:42 [scrapy.core.engine] DEBUG: Crawled (200) <GET https://media.ipsapps.org/shu/osa/bible/latin/12-2KI-017.html> (referer: https://media.ipsapps.org/shu/osa/bible/latin/12-2KI-016.html)\n",
      "2025-05-04 13:44:42 [scrapy.core.engine] DEBUG: Crawled (200) <GET https://media.ipsapps.org/shu/osa/bible/latin/12-2KI-018.html> (referer: https://media.ipsapps.org/shu/osa/bible/latin/12-2KI-017.html)\n",
      "2025-05-04 13:44:43 [scrapy.core.engine] DEBUG: Crawled (200) <GET https://media.ipsapps.org/shu/osa/bible/latin/12-2KI-019.html> (referer: https://media.ipsapps.org/shu/osa/bible/latin/12-2KI-018.html)\n",
      "2025-05-04 13:44:43 [scrapy.core.engine] DEBUG: Crawled (200) <GET https://media.ipsapps.org/shu/osa/bible/latin/12-2KI-020.html> (referer: https://media.ipsapps.org/shu/osa/bible/latin/12-2KI-019.html)\n",
      "2025-05-04 13:44:44 [scrapy.core.engine] DEBUG: Crawled (200) <GET https://media.ipsapps.org/shu/osa/bible/latin/12-2KI-021.html> (referer: https://media.ipsapps.org/shu/osa/bible/latin/12-2KI-020.html)\n",
      "2025-05-04 13:44:45 [scrapy.core.engine] DEBUG: Crawled (200) <GET https://media.ipsapps.org/shu/osa/bible/latin/12-2KI-022.html> (referer: https://media.ipsapps.org/shu/osa/bible/latin/12-2KI-021.html)\n",
      "2025-05-04 13:44:45 [scrapy.core.engine] DEBUG: Crawled (200) <GET https://media.ipsapps.org/shu/osa/bible/latin/12-2KI-023.html> (referer: https://media.ipsapps.org/shu/osa/bible/latin/12-2KI-022.html)\n",
      "2025-05-04 13:44:46 [scrapy.core.engine] DEBUG: Crawled (200) <GET https://media.ipsapps.org/shu/osa/bible/latin/12-2KI-024.html> (referer: https://media.ipsapps.org/shu/osa/bible/latin/12-2KI-023.html)\n",
      "2025-05-04 13:44:46 [scrapy.core.engine] DEBUG: Crawled (200) <GET https://media.ipsapps.org/shu/osa/bible/latin/12-2KI-025.html> (referer: https://media.ipsapps.org/shu/osa/bible/latin/12-2KI-024.html)\n",
      "2025-05-04 13:44:47 [scrapy.core.engine] DEBUG: Crawled (200) <GET https://media.ipsapps.org/shu/osa/bible/latin/13-1CH-000.html> (referer: https://media.ipsapps.org/shu/osa/bible/latin/12-2KI-025.html)\n",
      "2025-05-04 13:44:47 [scrapy.core.engine] DEBUG: Crawled (200) <GET https://media.ipsapps.org/shu/osa/bible/latin/13-1CH-001.html> (referer: https://media.ipsapps.org/shu/osa/bible/latin/13-1CH-000.html)\n",
      "2025-05-04 13:44:48 [scrapy.core.engine] DEBUG: Crawled (200) <GET https://media.ipsapps.org/shu/osa/bible/latin/13-1CH-002.html> (referer: https://media.ipsapps.org/shu/osa/bible/latin/13-1CH-001.html)\n",
      "2025-05-04 13:44:48 [scrapy.core.engine] DEBUG: Crawled (200) <GET https://media.ipsapps.org/shu/osa/bible/latin/13-1CH-003.html> (referer: https://media.ipsapps.org/shu/osa/bible/latin/13-1CH-002.html)\n",
      "2025-05-04 13:44:49 [scrapy.core.engine] DEBUG: Crawled (200) <GET https://media.ipsapps.org/shu/osa/bible/latin/13-1CH-004.html> (referer: https://media.ipsapps.org/shu/osa/bible/latin/13-1CH-003.html)\n",
      "2025-05-04 13:44:50 [scrapy.core.engine] DEBUG: Crawled (200) <GET https://media.ipsapps.org/shu/osa/bible/latin/13-1CH-005.html> (referer: https://media.ipsapps.org/shu/osa/bible/latin/13-1CH-004.html)\n",
      "2025-05-04 13:44:50 [scrapy.core.engine] DEBUG: Crawled (200) <GET https://media.ipsapps.org/shu/osa/bible/latin/13-1CH-006.html> (referer: https://media.ipsapps.org/shu/osa/bible/latin/13-1CH-005.html)\n",
      "2025-05-04 13:44:51 [scrapy.core.engine] DEBUG: Crawled (200) <GET https://media.ipsapps.org/shu/osa/bible/latin/13-1CH-007.html> (referer: https://media.ipsapps.org/shu/osa/bible/latin/13-1CH-006.html)\n",
      "2025-05-04 13:44:51 [scrapy.core.engine] DEBUG: Crawled (200) <GET https://media.ipsapps.org/shu/osa/bible/latin/13-1CH-008.html> (referer: https://media.ipsapps.org/shu/osa/bible/latin/13-1CH-007.html)\n",
      "2025-05-04 13:44:52 [scrapy.core.engine] DEBUG: Crawled (200) <GET https://media.ipsapps.org/shu/osa/bible/latin/13-1CH-009.html> (referer: https://media.ipsapps.org/shu/osa/bible/latin/13-1CH-008.html)\n",
      "2025-05-04 13:44:52 [scrapy.core.engine] DEBUG: Crawled (200) <GET https://media.ipsapps.org/shu/osa/bible/latin/13-1CH-010.html> (referer: https://media.ipsapps.org/shu/osa/bible/latin/13-1CH-009.html)\n",
      "2025-05-04 13:44:53 [scrapy.core.engine] DEBUG: Crawled (200) <GET https://media.ipsapps.org/shu/osa/bible/latin/13-1CH-011.html> (referer: https://media.ipsapps.org/shu/osa/bible/latin/13-1CH-010.html)\n",
      "2025-05-04 13:44:53 [scrapy.core.engine] DEBUG: Crawled (200) <GET https://media.ipsapps.org/shu/osa/bible/latin/13-1CH-012.html> (referer: https://media.ipsapps.org/shu/osa/bible/latin/13-1CH-011.html)\n",
      "2025-05-04 13:44:54 [scrapy.core.engine] DEBUG: Crawled (200) <GET https://media.ipsapps.org/shu/osa/bible/latin/13-1CH-013.html> (referer: https://media.ipsapps.org/shu/osa/bible/latin/13-1CH-012.html)\n",
      "2025-05-04 13:44:54 [scrapy.core.engine] DEBUG: Crawled (200) <GET https://media.ipsapps.org/shu/osa/bible/latin/13-1CH-014.html> (referer: https://media.ipsapps.org/shu/osa/bible/latin/13-1CH-013.html)\n",
      "2025-05-04 13:44:55 [scrapy.core.engine] DEBUG: Crawled (200) <GET https://media.ipsapps.org/shu/osa/bible/latin/13-1CH-015.html> (referer: https://media.ipsapps.org/shu/osa/bible/latin/13-1CH-014.html)\n",
      "2025-05-04 13:44:55 [scrapy.core.engine] DEBUG: Crawled (200) <GET https://media.ipsapps.org/shu/osa/bible/latin/13-1CH-016.html> (referer: https://media.ipsapps.org/shu/osa/bible/latin/13-1CH-015.html)\n",
      "2025-05-04 13:44:56 [scrapy.core.engine] DEBUG: Crawled (200) <GET https://media.ipsapps.org/shu/osa/bible/latin/13-1CH-017.html> (referer: https://media.ipsapps.org/shu/osa/bible/latin/13-1CH-016.html)\n",
      "2025-05-04 13:44:56 [scrapy.core.engine] DEBUG: Crawled (200) <GET https://media.ipsapps.org/shu/osa/bible/latin/13-1CH-018.html> (referer: https://media.ipsapps.org/shu/osa/bible/latin/13-1CH-017.html)\n",
      "2025-05-04 13:44:56 [scrapy.core.engine] DEBUG: Crawled (200) <GET https://media.ipsapps.org/shu/osa/bible/latin/13-1CH-019.html> (referer: https://media.ipsapps.org/shu/osa/bible/latin/13-1CH-018.html)\n",
      "2025-05-04 13:44:57 [scrapy.core.engine] DEBUG: Crawled (200) <GET https://media.ipsapps.org/shu/osa/bible/latin/13-1CH-020.html> (referer: https://media.ipsapps.org/shu/osa/bible/latin/13-1CH-019.html)\n",
      "2025-05-04 13:44:57 [scrapy.core.engine] DEBUG: Crawled (200) <GET https://media.ipsapps.org/shu/osa/bible/latin/13-1CH-021.html> (referer: https://media.ipsapps.org/shu/osa/bible/latin/13-1CH-020.html)\n",
      "2025-05-04 13:44:58 [scrapy.core.engine] DEBUG: Crawled (200) <GET https://media.ipsapps.org/shu/osa/bible/latin/13-1CH-022.html> (referer: https://media.ipsapps.org/shu/osa/bible/latin/13-1CH-021.html)\n",
      "2025-05-04 13:44:58 [scrapy.core.engine] DEBUG: Crawled (200) <GET https://media.ipsapps.org/shu/osa/bible/latin/13-1CH-023.html> (referer: https://media.ipsapps.org/shu/osa/bible/latin/13-1CH-022.html)\n",
      "2025-05-04 13:44:59 [scrapy.core.engine] DEBUG: Crawled (200) <GET https://media.ipsapps.org/shu/osa/bible/latin/13-1CH-024.html> (referer: https://media.ipsapps.org/shu/osa/bible/latin/13-1CH-023.html)\n",
      "2025-05-04 13:44:59 [scrapy.core.engine] DEBUG: Crawled (200) <GET https://media.ipsapps.org/shu/osa/bible/latin/13-1CH-025.html> (referer: https://media.ipsapps.org/shu/osa/bible/latin/13-1CH-024.html)\n",
      "2025-05-04 13:44:59 [scrapy.core.engine] DEBUG: Crawled (200) <GET https://media.ipsapps.org/shu/osa/bible/latin/13-1CH-026.html> (referer: https://media.ipsapps.org/shu/osa/bible/latin/13-1CH-025.html)\n",
      "2025-05-04 13:45:00 [scrapy.core.engine] DEBUG: Crawled (200) <GET https://media.ipsapps.org/shu/osa/bible/latin/13-1CH-027.html> (referer: https://media.ipsapps.org/shu/osa/bible/latin/13-1CH-026.html)\n",
      "2025-05-04 13:45:00 [scrapy.core.engine] DEBUG: Crawled (200) <GET https://media.ipsapps.org/shu/osa/bible/latin/13-1CH-028.html> (referer: https://media.ipsapps.org/shu/osa/bible/latin/13-1CH-027.html)\n",
      "2025-05-04 13:45:01 [scrapy.core.engine] DEBUG: Crawled (200) <GET https://media.ipsapps.org/shu/osa/bible/latin/13-1CH-029.html> (referer: https://media.ipsapps.org/shu/osa/bible/latin/13-1CH-028.html)\n",
      "2025-05-04 13:45:02 [scrapy.core.engine] DEBUG: Crawled (200) <GET https://media.ipsapps.org/shu/osa/bible/latin/14-2CH-000.html> (referer: https://media.ipsapps.org/shu/osa/bible/latin/13-1CH-029.html)\n",
      "2025-05-04 13:45:03 [scrapy.core.engine] DEBUG: Crawled (200) <GET https://media.ipsapps.org/shu/osa/bible/latin/14-2CH-001.html> (referer: https://media.ipsapps.org/shu/osa/bible/latin/14-2CH-000.html)\n",
      "2025-05-04 13:45:04 [scrapy.core.engine] DEBUG: Crawled (200) <GET https://media.ipsapps.org/shu/osa/bible/latin/14-2CH-002.html> (referer: https://media.ipsapps.org/shu/osa/bible/latin/14-2CH-001.html)\n",
      "2025-05-04 13:45:05 [scrapy.core.engine] DEBUG: Crawled (200) <GET https://media.ipsapps.org/shu/osa/bible/latin/14-2CH-003.html> (referer: https://media.ipsapps.org/shu/osa/bible/latin/14-2CH-002.html)\n",
      "2025-05-04 13:45:06 [scrapy.core.engine] DEBUG: Crawled (200) <GET https://media.ipsapps.org/shu/osa/bible/latin/14-2CH-004.html> (referer: https://media.ipsapps.org/shu/osa/bible/latin/14-2CH-003.html)\n",
      "2025-05-04 13:45:07 [scrapy.core.engine] DEBUG: Crawled (200) <GET https://media.ipsapps.org/shu/osa/bible/latin/14-2CH-005.html> (referer: https://media.ipsapps.org/shu/osa/bible/latin/14-2CH-004.html)\n",
      "2025-05-04 13:45:08 [scrapy.core.engine] DEBUG: Crawled (200) <GET https://media.ipsapps.org/shu/osa/bible/latin/14-2CH-006.html> (referer: https://media.ipsapps.org/shu/osa/bible/latin/14-2CH-005.html)\n",
      "2025-05-04 13:45:09 [scrapy.core.engine] DEBUG: Crawled (200) <GET https://media.ipsapps.org/shu/osa/bible/latin/14-2CH-007.html> (referer: https://media.ipsapps.org/shu/osa/bible/latin/14-2CH-006.html)\n",
      "2025-05-04 13:45:10 [scrapy.core.engine] DEBUG: Crawled (200) <GET https://media.ipsapps.org/shu/osa/bible/latin/14-2CH-008.html> (referer: https://media.ipsapps.org/shu/osa/bible/latin/14-2CH-007.html)\n",
      "2025-05-04 13:45:11 [scrapy.core.engine] DEBUG: Crawled (200) <GET https://media.ipsapps.org/shu/osa/bible/latin/14-2CH-009.html> (referer: https://media.ipsapps.org/shu/osa/bible/latin/14-2CH-008.html)\n",
      "2025-05-04 13:45:12 [scrapy.core.engine] DEBUG: Crawled (200) <GET https://media.ipsapps.org/shu/osa/bible/latin/14-2CH-010.html> (referer: https://media.ipsapps.org/shu/osa/bible/latin/14-2CH-009.html)\n",
      "2025-05-04 13:45:13 [scrapy.core.engine] DEBUG: Crawled (200) <GET https://media.ipsapps.org/shu/osa/bible/latin/14-2CH-011.html> (referer: https://media.ipsapps.org/shu/osa/bible/latin/14-2CH-010.html)\n",
      "2025-05-04 13:45:13 [scrapy.core.engine] DEBUG: Crawled (200) <GET https://media.ipsapps.org/shu/osa/bible/latin/14-2CH-012.html> (referer: https://media.ipsapps.org/shu/osa/bible/latin/14-2CH-011.html)\n",
      "2025-05-04 13:45:14 [scrapy.core.engine] DEBUG: Crawled (200) <GET https://media.ipsapps.org/shu/osa/bible/latin/14-2CH-013.html> (referer: https://media.ipsapps.org/shu/osa/bible/latin/14-2CH-012.html)\n",
      "2025-05-04 13:45:15 [scrapy.core.engine] DEBUG: Crawled (200) <GET https://media.ipsapps.org/shu/osa/bible/latin/14-2CH-014.html> (referer: https://media.ipsapps.org/shu/osa/bible/latin/14-2CH-013.html)\n",
      "2025-05-04 13:45:16 [scrapy.core.engine] DEBUG: Crawled (200) <GET https://media.ipsapps.org/shu/osa/bible/latin/14-2CH-015.html> (referer: https://media.ipsapps.org/shu/osa/bible/latin/14-2CH-014.html)\n",
      "2025-05-04 13:45:17 [scrapy.core.engine] DEBUG: Crawled (200) <GET https://media.ipsapps.org/shu/osa/bible/latin/14-2CH-016.html> (referer: https://media.ipsapps.org/shu/osa/bible/latin/14-2CH-015.html)\n",
      "2025-05-04 13:45:18 [scrapy.core.engine] DEBUG: Crawled (200) <GET https://media.ipsapps.org/shu/osa/bible/latin/14-2CH-017.html> (referer: https://media.ipsapps.org/shu/osa/bible/latin/14-2CH-016.html)\n",
      "2025-05-04 13:45:19 [scrapy.core.engine] DEBUG: Crawled (200) <GET https://media.ipsapps.org/shu/osa/bible/latin/14-2CH-018.html> (referer: https://media.ipsapps.org/shu/osa/bible/latin/14-2CH-017.html)\n",
      "2025-05-04 13:45:20 [scrapy.core.engine] DEBUG: Crawled (200) <GET https://media.ipsapps.org/shu/osa/bible/latin/14-2CH-019.html> (referer: https://media.ipsapps.org/shu/osa/bible/latin/14-2CH-018.html)\n",
      "2025-05-04 13:45:21 [scrapy.core.engine] DEBUG: Crawled (200) <GET https://media.ipsapps.org/shu/osa/bible/latin/14-2CH-020.html> (referer: https://media.ipsapps.org/shu/osa/bible/latin/14-2CH-019.html)\n",
      "2025-05-04 13:45:21 [scrapy.core.engine] DEBUG: Crawled (200) <GET https://media.ipsapps.org/shu/osa/bible/latin/14-2CH-021.html> (referer: https://media.ipsapps.org/shu/osa/bible/latin/14-2CH-020.html)\n",
      "2025-05-04 13:45:23 [scrapy.core.engine] DEBUG: Crawled (200) <GET https://media.ipsapps.org/shu/osa/bible/latin/14-2CH-022.html> (referer: https://media.ipsapps.org/shu/osa/bible/latin/14-2CH-021.html)\n",
      "2025-05-04 13:45:24 [scrapy.core.engine] DEBUG: Crawled (200) <GET https://media.ipsapps.org/shu/osa/bible/latin/14-2CH-023.html> (referer: https://media.ipsapps.org/shu/osa/bible/latin/14-2CH-022.html)\n",
      "2025-05-04 13:45:25 [scrapy.core.engine] DEBUG: Crawled (200) <GET https://media.ipsapps.org/shu/osa/bible/latin/14-2CH-024.html> (referer: https://media.ipsapps.org/shu/osa/bible/latin/14-2CH-023.html)\n",
      "2025-05-04 13:45:26 [scrapy.core.engine] DEBUG: Crawled (200) <GET https://media.ipsapps.org/shu/osa/bible/latin/14-2CH-025.html> (referer: https://media.ipsapps.org/shu/osa/bible/latin/14-2CH-024.html)\n",
      "2025-05-04 13:45:27 [scrapy.core.engine] DEBUG: Crawled (200) <GET https://media.ipsapps.org/shu/osa/bible/latin/14-2CH-026.html> (referer: https://media.ipsapps.org/shu/osa/bible/latin/14-2CH-025.html)\n",
      "2025-05-04 13:45:28 [scrapy.core.engine] DEBUG: Crawled (200) <GET https://media.ipsapps.org/shu/osa/bible/latin/14-2CH-027.html> (referer: https://media.ipsapps.org/shu/osa/bible/latin/14-2CH-026.html)\n",
      "2025-05-04 13:45:28 [scrapy.extensions.logstats] INFO: Crawled 407 pages (at 94 pages/min), scraped 0 items (at 0 items/min)\n",
      "2025-05-04 13:45:28 [scrapy.core.engine] DEBUG: Crawled (200) <GET https://media.ipsapps.org/shu/osa/bible/latin/14-2CH-028.html> (referer: https://media.ipsapps.org/shu/osa/bible/latin/14-2CH-027.html)\n",
      "2025-05-04 13:45:29 [scrapy.core.engine] DEBUG: Crawled (200) <GET https://media.ipsapps.org/shu/osa/bible/latin/14-2CH-029.html> (referer: https://media.ipsapps.org/shu/osa/bible/latin/14-2CH-028.html)\n",
      "2025-05-04 13:45:30 [scrapy.core.engine] DEBUG: Crawled (200) <GET https://media.ipsapps.org/shu/osa/bible/latin/14-2CH-030.html> (referer: https://media.ipsapps.org/shu/osa/bible/latin/14-2CH-029.html)\n",
      "2025-05-04 13:45:31 [scrapy.core.engine] DEBUG: Crawled (200) <GET https://media.ipsapps.org/shu/osa/bible/latin/14-2CH-031.html> (referer: https://media.ipsapps.org/shu/osa/bible/latin/14-2CH-030.html)\n",
      "2025-05-04 13:45:31 [scrapy.core.engine] DEBUG: Crawled (200) <GET https://media.ipsapps.org/shu/osa/bible/latin/14-2CH-032.html> (referer: https://media.ipsapps.org/shu/osa/bible/latin/14-2CH-031.html)\n",
      "2025-05-04 13:45:32 [scrapy.core.engine] DEBUG: Crawled (200) <GET https://media.ipsapps.org/shu/osa/bible/latin/14-2CH-033.html> (referer: https://media.ipsapps.org/shu/osa/bible/latin/14-2CH-032.html)\n",
      "2025-05-04 13:45:33 [scrapy.core.engine] DEBUG: Crawled (200) <GET https://media.ipsapps.org/shu/osa/bible/latin/14-2CH-034.html> (referer: https://media.ipsapps.org/shu/osa/bible/latin/14-2CH-033.html)\n",
      "2025-05-04 13:45:34 [scrapy.core.engine] DEBUG: Crawled (200) <GET https://media.ipsapps.org/shu/osa/bible/latin/14-2CH-035.html> (referer: https://media.ipsapps.org/shu/osa/bible/latin/14-2CH-034.html)\n",
      "2025-05-04 13:45:35 [scrapy.core.engine] DEBUG: Crawled (200) <GET https://media.ipsapps.org/shu/osa/bible/latin/14-2CH-036.html> (referer: https://media.ipsapps.org/shu/osa/bible/latin/14-2CH-035.html)\n",
      "2025-05-04 13:45:36 [scrapy.core.engine] DEBUG: Crawled (200) <GET https://media.ipsapps.org/shu/osa/bible/latin/15-EZR-000.html> (referer: https://media.ipsapps.org/shu/osa/bible/latin/14-2CH-036.html)\n",
      "2025-05-04 13:45:37 [scrapy.core.engine] DEBUG: Crawled (200) <GET https://media.ipsapps.org/shu/osa/bible/latin/15-EZR-001.html> (referer: https://media.ipsapps.org/shu/osa/bible/latin/15-EZR-000.html)\n",
      "2025-05-04 13:45:37 [scrapy.core.engine] DEBUG: Crawled (200) <GET https://media.ipsapps.org/shu/osa/bible/latin/15-EZR-002.html> (referer: https://media.ipsapps.org/shu/osa/bible/latin/15-EZR-001.html)\n",
      "2025-05-04 13:45:38 [scrapy.core.engine] DEBUG: Crawled (200) <GET https://media.ipsapps.org/shu/osa/bible/latin/15-EZR-003.html> (referer: https://media.ipsapps.org/shu/osa/bible/latin/15-EZR-002.html)\n",
      "2025-05-04 13:45:39 [scrapy.core.engine] DEBUG: Crawled (200) <GET https://media.ipsapps.org/shu/osa/bible/latin/15-EZR-004.html> (referer: https://media.ipsapps.org/shu/osa/bible/latin/15-EZR-003.html)\n",
      "2025-05-04 13:45:40 [scrapy.core.engine] DEBUG: Crawled (200) <GET https://media.ipsapps.org/shu/osa/bible/latin/15-EZR-005.html> (referer: https://media.ipsapps.org/shu/osa/bible/latin/15-EZR-004.html)\n",
      "2025-05-04 13:45:40 [scrapy.core.engine] DEBUG: Crawled (200) <GET https://media.ipsapps.org/shu/osa/bible/latin/15-EZR-006.html> (referer: https://media.ipsapps.org/shu/osa/bible/latin/15-EZR-005.html)\n",
      "2025-05-04 13:45:41 [scrapy.core.engine] DEBUG: Crawled (200) <GET https://media.ipsapps.org/shu/osa/bible/latin/15-EZR-007.html> (referer: https://media.ipsapps.org/shu/osa/bible/latin/15-EZR-006.html)\n",
      "2025-05-04 13:45:42 [scrapy.core.engine] DEBUG: Crawled (200) <GET https://media.ipsapps.org/shu/osa/bible/latin/15-EZR-008.html> (referer: https://media.ipsapps.org/shu/osa/bible/latin/15-EZR-007.html)\n",
      "2025-05-04 13:45:43 [scrapy.core.engine] DEBUG: Crawled (200) <GET https://media.ipsapps.org/shu/osa/bible/latin/15-EZR-009.html> (referer: https://media.ipsapps.org/shu/osa/bible/latin/15-EZR-008.html)\n",
      "2025-05-04 13:45:44 [scrapy.core.engine] DEBUG: Crawled (200) <GET https://media.ipsapps.org/shu/osa/bible/latin/15-EZR-010.html> (referer: https://media.ipsapps.org/shu/osa/bible/latin/15-EZR-009.html)\n",
      "2025-05-04 13:45:45 [scrapy.core.engine] DEBUG: Crawled (200) <GET https://media.ipsapps.org/shu/osa/bible/latin/16-NEH-000.html> (referer: https://media.ipsapps.org/shu/osa/bible/latin/15-EZR-010.html)\n",
      "2025-05-04 13:45:46 [scrapy.core.engine] DEBUG: Crawled (200) <GET https://media.ipsapps.org/shu/osa/bible/latin/16-NEH-001.html> (referer: https://media.ipsapps.org/shu/osa/bible/latin/16-NEH-000.html)\n",
      "2025-05-04 13:45:47 [scrapy.core.engine] DEBUG: Crawled (200) <GET https://media.ipsapps.org/shu/osa/bible/latin/16-NEH-002.html> (referer: https://media.ipsapps.org/shu/osa/bible/latin/16-NEH-001.html)\n",
      "2025-05-04 13:45:48 [scrapy.core.engine] DEBUG: Crawled (200) <GET https://media.ipsapps.org/shu/osa/bible/latin/16-NEH-003.html> (referer: https://media.ipsapps.org/shu/osa/bible/latin/16-NEH-002.html)\n",
      "2025-05-04 13:45:49 [scrapy.core.engine] DEBUG: Crawled (200) <GET https://media.ipsapps.org/shu/osa/bible/latin/16-NEH-004.html> (referer: https://media.ipsapps.org/shu/osa/bible/latin/16-NEH-003.html)\n",
      "2025-05-04 13:45:50 [scrapy.core.engine] DEBUG: Crawled (200) <GET https://media.ipsapps.org/shu/osa/bible/latin/16-NEH-005.html> (referer: https://media.ipsapps.org/shu/osa/bible/latin/16-NEH-004.html)\n",
      "2025-05-04 13:45:51 [scrapy.core.engine] DEBUG: Crawled (200) <GET https://media.ipsapps.org/shu/osa/bible/latin/16-NEH-006.html> (referer: https://media.ipsapps.org/shu/osa/bible/latin/16-NEH-005.html)\n",
      "2025-05-04 13:45:52 [scrapy.core.engine] DEBUG: Crawled (200) <GET https://media.ipsapps.org/shu/osa/bible/latin/16-NEH-007.html> (referer: https://media.ipsapps.org/shu/osa/bible/latin/16-NEH-006.html)\n",
      "2025-05-04 13:45:53 [scrapy.core.engine] DEBUG: Crawled (200) <GET https://media.ipsapps.org/shu/osa/bible/latin/16-NEH-008.html> (referer: https://media.ipsapps.org/shu/osa/bible/latin/16-NEH-007.html)\n",
      "2025-05-04 13:45:54 [scrapy.core.engine] DEBUG: Crawled (200) <GET https://media.ipsapps.org/shu/osa/bible/latin/16-NEH-009.html> (referer: https://media.ipsapps.org/shu/osa/bible/latin/16-NEH-008.html)\n",
      "2025-05-04 13:45:55 [scrapy.core.engine] DEBUG: Crawled (200) <GET https://media.ipsapps.org/shu/osa/bible/latin/16-NEH-010.html> (referer: https://media.ipsapps.org/shu/osa/bible/latin/16-NEH-009.html)\n",
      "2025-05-04 13:45:56 [scrapy.core.engine] DEBUG: Crawled (200) <GET https://media.ipsapps.org/shu/osa/bible/latin/16-NEH-011.html> (referer: https://media.ipsapps.org/shu/osa/bible/latin/16-NEH-010.html)\n",
      "2025-05-04 13:45:56 [scrapy.core.engine] DEBUG: Crawled (200) <GET https://media.ipsapps.org/shu/osa/bible/latin/16-NEH-012.html> (referer: https://media.ipsapps.org/shu/osa/bible/latin/16-NEH-011.html)\n",
      "2025-05-04 13:45:57 [scrapy.core.engine] DEBUG: Crawled (200) <GET https://media.ipsapps.org/shu/osa/bible/latin/16-NEH-013.html> (referer: https://media.ipsapps.org/shu/osa/bible/latin/16-NEH-012.html)\n",
      "2025-05-04 13:45:58 [scrapy.core.engine] DEBUG: Crawled (200) <GET https://media.ipsapps.org/shu/osa/bible/latin/17-EST-000.html> (referer: https://media.ipsapps.org/shu/osa/bible/latin/16-NEH-013.html)\n",
      "2025-05-04 13:45:59 [scrapy.core.engine] DEBUG: Crawled (200) <GET https://media.ipsapps.org/shu/osa/bible/latin/17-EST-001.html> (referer: https://media.ipsapps.org/shu/osa/bible/latin/17-EST-000.html)\n",
      "2025-05-04 13:46:00 [scrapy.core.engine] DEBUG: Crawled (200) <GET https://media.ipsapps.org/shu/osa/bible/latin/17-EST-002.html> (referer: https://media.ipsapps.org/shu/osa/bible/latin/17-EST-001.html)\n",
      "2025-05-04 13:46:01 [scrapy.core.engine] DEBUG: Crawled (200) <GET https://media.ipsapps.org/shu/osa/bible/latin/17-EST-003.html> (referer: https://media.ipsapps.org/shu/osa/bible/latin/17-EST-002.html)\n",
      "2025-05-04 13:46:01 [scrapy.core.engine] DEBUG: Crawled (200) <GET https://media.ipsapps.org/shu/osa/bible/latin/17-EST-004.html> (referer: https://media.ipsapps.org/shu/osa/bible/latin/17-EST-003.html)\n",
      "2025-05-04 13:46:02 [scrapy.core.engine] DEBUG: Crawled (200) <GET https://media.ipsapps.org/shu/osa/bible/latin/17-EST-005.html> (referer: https://media.ipsapps.org/shu/osa/bible/latin/17-EST-004.html)\n",
      "2025-05-04 13:46:03 [scrapy.core.engine] DEBUG: Crawled (200) <GET https://media.ipsapps.org/shu/osa/bible/latin/17-EST-006.html> (referer: https://media.ipsapps.org/shu/osa/bible/latin/17-EST-005.html)\n",
      "2025-05-04 13:46:04 [scrapy.core.engine] DEBUG: Crawled (200) <GET https://media.ipsapps.org/shu/osa/bible/latin/17-EST-007.html> (referer: https://media.ipsapps.org/shu/osa/bible/latin/17-EST-006.html)\n",
      "2025-05-04 13:46:05 [scrapy.core.engine] DEBUG: Crawled (200) <GET https://media.ipsapps.org/shu/osa/bible/latin/17-EST-008.html> (referer: https://media.ipsapps.org/shu/osa/bible/latin/17-EST-007.html)\n",
      "2025-05-04 13:46:06 [scrapy.core.engine] DEBUG: Crawled (200) <GET https://media.ipsapps.org/shu/osa/bible/latin/17-EST-009.html> (referer: https://media.ipsapps.org/shu/osa/bible/latin/17-EST-008.html)\n",
      "2025-05-04 13:46:07 [scrapy.core.engine] DEBUG: Crawled (200) <GET https://media.ipsapps.org/shu/osa/bible/latin/17-EST-010.html> (referer: https://media.ipsapps.org/shu/osa/bible/latin/17-EST-009.html)\n",
      "2025-05-04 13:46:08 [scrapy.core.engine] DEBUG: Crawled (200) <GET https://media.ipsapps.org/shu/osa/bible/latin/18-JOB-000.html> (referer: https://media.ipsapps.org/shu/osa/bible/latin/17-EST-010.html)\n",
      "2025-05-04 13:46:09 [scrapy.core.engine] DEBUG: Crawled (200) <GET https://media.ipsapps.org/shu/osa/bible/latin/18-JOB-001.html> (referer: https://media.ipsapps.org/shu/osa/bible/latin/18-JOB-000.html)\n",
      "2025-05-04 13:46:10 [scrapy.core.engine] DEBUG: Crawled (200) <GET https://media.ipsapps.org/shu/osa/bible/latin/18-JOB-002.html> (referer: https://media.ipsapps.org/shu/osa/bible/latin/18-JOB-001.html)\n",
      "2025-05-04 13:46:11 [scrapy.core.engine] DEBUG: Crawled (200) <GET https://media.ipsapps.org/shu/osa/bible/latin/18-JOB-003.html> (referer: https://media.ipsapps.org/shu/osa/bible/latin/18-JOB-002.html)\n",
      "2025-05-04 13:46:12 [scrapy.core.engine] DEBUG: Crawled (200) <GET https://media.ipsapps.org/shu/osa/bible/latin/18-JOB-004.html> (referer: https://media.ipsapps.org/shu/osa/bible/latin/18-JOB-003.html)\n",
      "2025-05-04 13:46:13 [scrapy.core.engine] DEBUG: Crawled (200) <GET https://media.ipsapps.org/shu/osa/bible/latin/18-JOB-005.html> (referer: https://media.ipsapps.org/shu/osa/bible/latin/18-JOB-004.html)\n",
      "2025-05-04 13:46:13 [scrapy.core.engine] DEBUG: Crawled (200) <GET https://media.ipsapps.org/shu/osa/bible/latin/18-JOB-006.html> (referer: https://media.ipsapps.org/shu/osa/bible/latin/18-JOB-005.html)\n",
      "2025-05-04 13:46:14 [scrapy.core.engine] DEBUG: Crawled (200) <GET https://media.ipsapps.org/shu/osa/bible/latin/18-JOB-007.html> (referer: https://media.ipsapps.org/shu/osa/bible/latin/18-JOB-006.html)\n",
      "2025-05-04 13:46:15 [scrapy.core.engine] DEBUG: Crawled (200) <GET https://media.ipsapps.org/shu/osa/bible/latin/18-JOB-008.html> (referer: https://media.ipsapps.org/shu/osa/bible/latin/18-JOB-007.html)\n",
      "2025-05-04 13:46:16 [scrapy.core.engine] DEBUG: Crawled (200) <GET https://media.ipsapps.org/shu/osa/bible/latin/18-JOB-009.html> (referer: https://media.ipsapps.org/shu/osa/bible/latin/18-JOB-008.html)\n",
      "2025-05-04 13:46:17 [scrapy.core.engine] DEBUG: Crawled (200) <GET https://media.ipsapps.org/shu/osa/bible/latin/18-JOB-010.html> (referer: https://media.ipsapps.org/shu/osa/bible/latin/18-JOB-009.html)\n",
      "2025-05-04 13:46:17 [scrapy.core.engine] DEBUG: Crawled (200) <GET https://media.ipsapps.org/shu/osa/bible/latin/18-JOB-011.html> (referer: https://media.ipsapps.org/shu/osa/bible/latin/18-JOB-010.html)\n",
      "2025-05-04 13:46:18 [scrapy.core.engine] DEBUG: Crawled (200) <GET https://media.ipsapps.org/shu/osa/bible/latin/18-JOB-012.html> (referer: https://media.ipsapps.org/shu/osa/bible/latin/18-JOB-011.html)\n",
      "2025-05-04 13:46:20 [scrapy.core.engine] DEBUG: Crawled (200) <GET https://media.ipsapps.org/shu/osa/bible/latin/18-JOB-013.html> (referer: https://media.ipsapps.org/shu/osa/bible/latin/18-JOB-012.html)\n",
      "2025-05-04 13:46:21 [scrapy.core.engine] DEBUG: Crawled (200) <GET https://media.ipsapps.org/shu/osa/bible/latin/18-JOB-014.html> (referer: https://media.ipsapps.org/shu/osa/bible/latin/18-JOB-013.html)\n",
      "2025-05-04 13:46:22 [scrapy.core.engine] DEBUG: Crawled (200) <GET https://media.ipsapps.org/shu/osa/bible/latin/18-JOB-015.html> (referer: https://media.ipsapps.org/shu/osa/bible/latin/18-JOB-014.html)\n",
      "2025-05-04 13:46:22 [scrapy.core.engine] DEBUG: Crawled (200) <GET https://media.ipsapps.org/shu/osa/bible/latin/18-JOB-016.html> (referer: https://media.ipsapps.org/shu/osa/bible/latin/18-JOB-015.html)\n",
      "2025-05-04 13:46:23 [scrapy.core.engine] DEBUG: Crawled (200) <GET https://media.ipsapps.org/shu/osa/bible/latin/18-JOB-017.html> (referer: https://media.ipsapps.org/shu/osa/bible/latin/18-JOB-016.html)\n",
      "2025-05-04 13:46:24 [scrapy.core.engine] DEBUG: Crawled (200) <GET https://media.ipsapps.org/shu/osa/bible/latin/18-JOB-018.html> (referer: https://media.ipsapps.org/shu/osa/bible/latin/18-JOB-017.html)\n",
      "2025-05-04 13:46:25 [scrapy.core.engine] DEBUG: Crawled (200) <GET https://media.ipsapps.org/shu/osa/bible/latin/18-JOB-019.html> (referer: https://media.ipsapps.org/shu/osa/bible/latin/18-JOB-018.html)\n",
      "2025-05-04 13:46:26 [scrapy.core.engine] DEBUG: Crawled (200) <GET https://media.ipsapps.org/shu/osa/bible/latin/18-JOB-020.html> (referer: https://media.ipsapps.org/shu/osa/bible/latin/18-JOB-019.html)\n",
      "2025-05-04 13:46:27 [scrapy.core.engine] DEBUG: Crawled (200) <GET https://media.ipsapps.org/shu/osa/bible/latin/18-JOB-021.html> (referer: https://media.ipsapps.org/shu/osa/bible/latin/18-JOB-020.html)\n",
      "2025-05-04 13:46:28 [scrapy.extensions.logstats] INFO: Crawled 474 pages (at 67 pages/min), scraped 0 items (at 0 items/min)\n",
      "2025-05-04 13:46:28 [scrapy.core.engine] DEBUG: Crawled (200) <GET https://media.ipsapps.org/shu/osa/bible/latin/18-JOB-022.html> (referer: https://media.ipsapps.org/shu/osa/bible/latin/18-JOB-021.html)\n",
      "2025-05-04 13:46:29 [scrapy.core.engine] DEBUG: Crawled (200) <GET https://media.ipsapps.org/shu/osa/bible/latin/18-JOB-023.html> (referer: https://media.ipsapps.org/shu/osa/bible/latin/18-JOB-022.html)\n",
      "2025-05-04 13:46:30 [scrapy.core.engine] DEBUG: Crawled (200) <GET https://media.ipsapps.org/shu/osa/bible/latin/18-JOB-024.html> (referer: https://media.ipsapps.org/shu/osa/bible/latin/18-JOB-023.html)\n",
      "2025-05-04 13:46:31 [scrapy.core.engine] DEBUG: Crawled (200) <GET https://media.ipsapps.org/shu/osa/bible/latin/18-JOB-025.html> (referer: https://media.ipsapps.org/shu/osa/bible/latin/18-JOB-024.html)\n",
      "2025-05-04 13:46:32 [scrapy.core.engine] DEBUG: Crawled (200) <GET https://media.ipsapps.org/shu/osa/bible/latin/18-JOB-026.html> (referer: https://media.ipsapps.org/shu/osa/bible/latin/18-JOB-025.html)\n",
      "2025-05-04 13:46:32 [scrapy.core.engine] DEBUG: Crawled (200) <GET https://media.ipsapps.org/shu/osa/bible/latin/18-JOB-027.html> (referer: https://media.ipsapps.org/shu/osa/bible/latin/18-JOB-026.html)\n",
      "2025-05-04 13:46:34 [scrapy.core.engine] DEBUG: Crawled (200) <GET https://media.ipsapps.org/shu/osa/bible/latin/18-JOB-028.html> (referer: https://media.ipsapps.org/shu/osa/bible/latin/18-JOB-027.html)\n",
      "2025-05-04 13:46:34 [scrapy.core.engine] DEBUG: Crawled (200) <GET https://media.ipsapps.org/shu/osa/bible/latin/18-JOB-029.html> (referer: https://media.ipsapps.org/shu/osa/bible/latin/18-JOB-028.html)\n",
      "2025-05-04 13:46:36 [scrapy.core.engine] DEBUG: Crawled (200) <GET https://media.ipsapps.org/shu/osa/bible/latin/18-JOB-030.html> (referer: https://media.ipsapps.org/shu/osa/bible/latin/18-JOB-029.html)\n",
      "2025-05-04 13:46:37 [scrapy.core.engine] DEBUG: Crawled (200) <GET https://media.ipsapps.org/shu/osa/bible/latin/18-JOB-031.html> (referer: https://media.ipsapps.org/shu/osa/bible/latin/18-JOB-030.html)\n",
      "2025-05-04 13:46:38 [scrapy.core.engine] DEBUG: Crawled (200) <GET https://media.ipsapps.org/shu/osa/bible/latin/18-JOB-032.html> (referer: https://media.ipsapps.org/shu/osa/bible/latin/18-JOB-031.html)\n",
      "2025-05-04 13:46:38 [scrapy.core.engine] DEBUG: Crawled (200) <GET https://media.ipsapps.org/shu/osa/bible/latin/18-JOB-033.html> (referer: https://media.ipsapps.org/shu/osa/bible/latin/18-JOB-032.html)\n",
      "2025-05-04 13:46:40 [scrapy.core.engine] DEBUG: Crawled (200) <GET https://media.ipsapps.org/shu/osa/bible/latin/18-JOB-034.html> (referer: https://media.ipsapps.org/shu/osa/bible/latin/18-JOB-033.html)\n",
      "2025-05-04 13:46:40 [scrapy.core.engine] DEBUG: Crawled (200) <GET https://media.ipsapps.org/shu/osa/bible/latin/18-JOB-035.html> (referer: https://media.ipsapps.org/shu/osa/bible/latin/18-JOB-034.html)\n",
      "2025-05-04 13:46:41 [scrapy.core.engine] DEBUG: Crawled (200) <GET https://media.ipsapps.org/shu/osa/bible/latin/18-JOB-036.html> (referer: https://media.ipsapps.org/shu/osa/bible/latin/18-JOB-035.html)\n",
      "2025-05-04 13:46:42 [scrapy.core.engine] DEBUG: Crawled (200) <GET https://media.ipsapps.org/shu/osa/bible/latin/18-JOB-037.html> (referer: https://media.ipsapps.org/shu/osa/bible/latin/18-JOB-036.html)\n",
      "2025-05-04 13:46:43 [scrapy.core.engine] DEBUG: Crawled (200) <GET https://media.ipsapps.org/shu/osa/bible/latin/18-JOB-038.html> (referer: https://media.ipsapps.org/shu/osa/bible/latin/18-JOB-037.html)\n",
      "2025-05-04 13:46:44 [scrapy.core.engine] DEBUG: Crawled (200) <GET https://media.ipsapps.org/shu/osa/bible/latin/18-JOB-039.html> (referer: https://media.ipsapps.org/shu/osa/bible/latin/18-JOB-038.html)\n",
      "2025-05-04 13:46:46 [scrapy.core.engine] DEBUG: Crawled (200) <GET https://media.ipsapps.org/shu/osa/bible/latin/18-JOB-040.html> (referer: https://media.ipsapps.org/shu/osa/bible/latin/18-JOB-039.html)\n",
      "2025-05-04 13:46:46 [scrapy.core.engine] DEBUG: Crawled (200) <GET https://media.ipsapps.org/shu/osa/bible/latin/18-JOB-041.html> (referer: https://media.ipsapps.org/shu/osa/bible/latin/18-JOB-040.html)\n",
      "2025-05-04 13:46:47 [scrapy.core.engine] DEBUG: Crawled (200) <GET https://media.ipsapps.org/shu/osa/bible/latin/18-JOB-042.html> (referer: https://media.ipsapps.org/shu/osa/bible/latin/18-JOB-041.html)\n",
      "2025-05-04 13:46:48 [scrapy.core.engine] DEBUG: Crawled (200) <GET https://media.ipsapps.org/shu/osa/bible/latin/19-PSA-000.html> (referer: https://media.ipsapps.org/shu/osa/bible/latin/18-JOB-042.html)\n",
      "2025-05-04 13:46:49 [scrapy.core.engine] DEBUG: Crawled (200) <GET https://media.ipsapps.org/shu/osa/bible/latin/19-PSA-001.html> (referer: https://media.ipsapps.org/shu/osa/bible/latin/19-PSA-000.html)\n",
      "2025-05-04 13:46:49 [scrapy.core.engine] DEBUG: Crawled (200) <GET https://media.ipsapps.org/shu/osa/bible/latin/19-PSA-002.html> (referer: https://media.ipsapps.org/shu/osa/bible/latin/19-PSA-001.html)\n",
      "2025-05-04 13:46:50 [scrapy.core.engine] DEBUG: Crawled (200) <GET https://media.ipsapps.org/shu/osa/bible/latin/19-PSA-003.html> (referer: https://media.ipsapps.org/shu/osa/bible/latin/19-PSA-002.html)\n",
      "2025-05-04 13:46:51 [scrapy.core.engine] DEBUG: Crawled (200) <GET https://media.ipsapps.org/shu/osa/bible/latin/19-PSA-004.html> (referer: https://media.ipsapps.org/shu/osa/bible/latin/19-PSA-003.html)\n",
      "2025-05-04 13:46:52 [scrapy.core.engine] DEBUG: Crawled (200) <GET https://media.ipsapps.org/shu/osa/bible/latin/19-PSA-005.html> (referer: https://media.ipsapps.org/shu/osa/bible/latin/19-PSA-004.html)\n",
      "2025-05-04 13:46:52 [scrapy.core.engine] DEBUG: Crawled (200) <GET https://media.ipsapps.org/shu/osa/bible/latin/19-PSA-006.html> (referer: https://media.ipsapps.org/shu/osa/bible/latin/19-PSA-005.html)\n",
      "2025-05-04 13:46:53 [scrapy.core.engine] DEBUG: Crawled (200) <GET https://media.ipsapps.org/shu/osa/bible/latin/19-PSA-007.html> (referer: https://media.ipsapps.org/shu/osa/bible/latin/19-PSA-006.html)\n",
      "2025-05-04 13:46:54 [scrapy.core.engine] DEBUG: Crawled (200) <GET https://media.ipsapps.org/shu/osa/bible/latin/19-PSA-008.html> (referer: https://media.ipsapps.org/shu/osa/bible/latin/19-PSA-007.html)\n",
      "2025-05-04 13:46:55 [scrapy.core.engine] DEBUG: Crawled (200) <GET https://media.ipsapps.org/shu/osa/bible/latin/19-PSA-009.html> (referer: https://media.ipsapps.org/shu/osa/bible/latin/19-PSA-008.html)\n",
      "2025-05-04 13:46:56 [scrapy.core.engine] DEBUG: Crawled (200) <GET https://media.ipsapps.org/shu/osa/bible/latin/19-PSA-010.html> (referer: https://media.ipsapps.org/shu/osa/bible/latin/19-PSA-009.html)\n",
      "2025-05-04 13:46:57 [scrapy.core.engine] DEBUG: Crawled (200) <GET https://media.ipsapps.org/shu/osa/bible/latin/19-PSA-011.html> (referer: https://media.ipsapps.org/shu/osa/bible/latin/19-PSA-010.html)\n",
      "2025-05-04 13:46:57 [scrapy.core.engine] DEBUG: Crawled (200) <GET https://media.ipsapps.org/shu/osa/bible/latin/19-PSA-012.html> (referer: https://media.ipsapps.org/shu/osa/bible/latin/19-PSA-011.html)\n",
      "2025-05-04 13:46:58 [scrapy.core.engine] DEBUG: Crawled (200) <GET https://media.ipsapps.org/shu/osa/bible/latin/19-PSA-013.html> (referer: https://media.ipsapps.org/shu/osa/bible/latin/19-PSA-012.html)\n",
      "2025-05-04 13:46:59 [scrapy.core.engine] DEBUG: Crawled (200) <GET https://media.ipsapps.org/shu/osa/bible/latin/19-PSA-014.html> (referer: https://media.ipsapps.org/shu/osa/bible/latin/19-PSA-013.html)\n",
      "2025-05-04 13:46:59 [scrapy.core.engine] DEBUG: Crawled (200) <GET https://media.ipsapps.org/shu/osa/bible/latin/19-PSA-015.html> (referer: https://media.ipsapps.org/shu/osa/bible/latin/19-PSA-014.html)\n",
      "2025-05-04 13:47:00 [scrapy.core.engine] DEBUG: Crawled (200) <GET https://media.ipsapps.org/shu/osa/bible/latin/19-PSA-016.html> (referer: https://media.ipsapps.org/shu/osa/bible/latin/19-PSA-015.html)\n",
      "2025-05-04 13:47:01 [scrapy.core.engine] DEBUG: Crawled (200) <GET https://media.ipsapps.org/shu/osa/bible/latin/19-PSA-017.html> (referer: https://media.ipsapps.org/shu/osa/bible/latin/19-PSA-016.html)\n",
      "2025-05-04 13:47:02 [scrapy.core.engine] DEBUG: Crawled (200) <GET https://media.ipsapps.org/shu/osa/bible/latin/19-PSA-018.html> (referer: https://media.ipsapps.org/shu/osa/bible/latin/19-PSA-017.html)\n",
      "2025-05-04 13:47:03 [scrapy.core.engine] DEBUG: Crawled (200) <GET https://media.ipsapps.org/shu/osa/bible/latin/19-PSA-019.html> (referer: https://media.ipsapps.org/shu/osa/bible/latin/19-PSA-018.html)\n",
      "2025-05-04 13:47:04 [scrapy.core.engine] DEBUG: Crawled (200) <GET https://media.ipsapps.org/shu/osa/bible/latin/19-PSA-020.html> (referer: https://media.ipsapps.org/shu/osa/bible/latin/19-PSA-019.html)\n",
      "2025-05-04 13:47:05 [scrapy.core.engine] DEBUG: Crawled (200) <GET https://media.ipsapps.org/shu/osa/bible/latin/19-PSA-021.html> (referer: https://media.ipsapps.org/shu/osa/bible/latin/19-PSA-020.html)\n",
      "2025-05-04 13:47:06 [scrapy.core.engine] DEBUG: Crawled (200) <GET https://media.ipsapps.org/shu/osa/bible/latin/19-PSA-022.html> (referer: https://media.ipsapps.org/shu/osa/bible/latin/19-PSA-021.html)\n",
      "2025-05-04 13:47:07 [scrapy.core.engine] DEBUG: Crawled (200) <GET https://media.ipsapps.org/shu/osa/bible/latin/19-PSA-023.html> (referer: https://media.ipsapps.org/shu/osa/bible/latin/19-PSA-022.html)\n",
      "2025-05-04 13:47:08 [scrapy.core.engine] DEBUG: Crawled (200) <GET https://media.ipsapps.org/shu/osa/bible/latin/19-PSA-024.html> (referer: https://media.ipsapps.org/shu/osa/bible/latin/19-PSA-023.html)\n",
      "2025-05-04 13:47:08 [scrapy.core.engine] DEBUG: Crawled (200) <GET https://media.ipsapps.org/shu/osa/bible/latin/19-PSA-025.html> (referer: https://media.ipsapps.org/shu/osa/bible/latin/19-PSA-024.html)\n",
      "2025-05-04 13:47:09 [scrapy.core.engine] DEBUG: Crawled (200) <GET https://media.ipsapps.org/shu/osa/bible/latin/19-PSA-026.html> (referer: https://media.ipsapps.org/shu/osa/bible/latin/19-PSA-025.html)\n",
      "2025-05-04 13:47:10 [scrapy.core.engine] DEBUG: Crawled (200) <GET https://media.ipsapps.org/shu/osa/bible/latin/19-PSA-027.html> (referer: https://media.ipsapps.org/shu/osa/bible/latin/19-PSA-026.html)\n",
      "2025-05-04 13:47:11 [scrapy.core.engine] DEBUG: Crawled (200) <GET https://media.ipsapps.org/shu/osa/bible/latin/19-PSA-028.html> (referer: https://media.ipsapps.org/shu/osa/bible/latin/19-PSA-027.html)\n",
      "2025-05-04 13:47:12 [scrapy.core.engine] DEBUG: Crawled (200) <GET https://media.ipsapps.org/shu/osa/bible/latin/19-PSA-029.html> (referer: https://media.ipsapps.org/shu/osa/bible/latin/19-PSA-028.html)\n",
      "2025-05-04 13:47:12 [scrapy.core.engine] DEBUG: Crawled (200) <GET https://media.ipsapps.org/shu/osa/bible/latin/19-PSA-030.html> (referer: https://media.ipsapps.org/shu/osa/bible/latin/19-PSA-029.html)\n",
      "2025-05-04 13:47:13 [scrapy.core.engine] DEBUG: Crawled (200) <GET https://media.ipsapps.org/shu/osa/bible/latin/19-PSA-031.html> (referer: https://media.ipsapps.org/shu/osa/bible/latin/19-PSA-030.html)\n",
      "2025-05-04 13:47:14 [scrapy.core.engine] DEBUG: Crawled (200) <GET https://media.ipsapps.org/shu/osa/bible/latin/19-PSA-032.html> (referer: https://media.ipsapps.org/shu/osa/bible/latin/19-PSA-031.html)\n",
      "2025-05-04 13:47:15 [scrapy.core.engine] DEBUG: Crawled (200) <GET https://media.ipsapps.org/shu/osa/bible/latin/19-PSA-033.html> (referer: https://media.ipsapps.org/shu/osa/bible/latin/19-PSA-032.html)\n",
      "2025-05-04 13:47:16 [scrapy.core.engine] DEBUG: Crawled (200) <GET https://media.ipsapps.org/shu/osa/bible/latin/19-PSA-034.html> (referer: https://media.ipsapps.org/shu/osa/bible/latin/19-PSA-033.html)\n",
      "2025-05-04 13:47:17 [scrapy.core.engine] DEBUG: Crawled (200) <GET https://media.ipsapps.org/shu/osa/bible/latin/19-PSA-035.html> (referer: https://media.ipsapps.org/shu/osa/bible/latin/19-PSA-034.html)\n",
      "2025-05-04 13:47:18 [scrapy.core.engine] DEBUG: Crawled (200) <GET https://media.ipsapps.org/shu/osa/bible/latin/19-PSA-036.html> (referer: https://media.ipsapps.org/shu/osa/bible/latin/19-PSA-035.html)\n",
      "2025-05-04 13:47:19 [scrapy.core.engine] DEBUG: Crawled (200) <GET https://media.ipsapps.org/shu/osa/bible/latin/19-PSA-037.html> (referer: https://media.ipsapps.org/shu/osa/bible/latin/19-PSA-036.html)\n",
      "2025-05-04 13:47:20 [scrapy.core.engine] DEBUG: Crawled (200) <GET https://media.ipsapps.org/shu/osa/bible/latin/19-PSA-038.html> (referer: https://media.ipsapps.org/shu/osa/bible/latin/19-PSA-037.html)\n",
      "2025-05-04 13:47:21 [scrapy.core.engine] DEBUG: Crawled (200) <GET https://media.ipsapps.org/shu/osa/bible/latin/19-PSA-039.html> (referer: https://media.ipsapps.org/shu/osa/bible/latin/19-PSA-038.html)\n",
      "2025-05-04 13:47:22 [scrapy.core.engine] DEBUG: Crawled (200) <GET https://media.ipsapps.org/shu/osa/bible/latin/19-PSA-040.html> (referer: https://media.ipsapps.org/shu/osa/bible/latin/19-PSA-039.html)\n",
      "2025-05-04 13:47:23 [scrapy.core.engine] DEBUG: Crawled (200) <GET https://media.ipsapps.org/shu/osa/bible/latin/19-PSA-041.html> (referer: https://media.ipsapps.org/shu/osa/bible/latin/19-PSA-040.html)\n",
      "2025-05-04 13:47:23 [scrapy.core.engine] DEBUG: Crawled (200) <GET https://media.ipsapps.org/shu/osa/bible/latin/19-PSA-042.html> (referer: https://media.ipsapps.org/shu/osa/bible/latin/19-PSA-041.html)\n",
      "2025-05-04 13:47:24 [scrapy.core.engine] DEBUG: Crawled (200) <GET https://media.ipsapps.org/shu/osa/bible/latin/19-PSA-043.html> (referer: https://media.ipsapps.org/shu/osa/bible/latin/19-PSA-042.html)\n",
      "2025-05-04 13:47:25 [scrapy.core.engine] DEBUG: Crawled (200) <GET https://media.ipsapps.org/shu/osa/bible/latin/19-PSA-044.html> (referer: https://media.ipsapps.org/shu/osa/bible/latin/19-PSA-043.html)\n",
      "2025-05-04 13:47:26 [scrapy.core.engine] DEBUG: Crawled (200) <GET https://media.ipsapps.org/shu/osa/bible/latin/19-PSA-045.html> (referer: https://media.ipsapps.org/shu/osa/bible/latin/19-PSA-044.html)\n",
      "2025-05-04 13:47:27 [scrapy.core.engine] DEBUG: Crawled (200) <GET https://media.ipsapps.org/shu/osa/bible/latin/19-PSA-046.html> (referer: https://media.ipsapps.org/shu/osa/bible/latin/19-PSA-045.html)\n",
      "2025-05-04 13:47:28 [scrapy.extensions.logstats] INFO: Crawled 542 pages (at 68 pages/min), scraped 0 items (at 0 items/min)\n",
      "2025-05-04 13:47:28 [scrapy.core.engine] DEBUG: Crawled (200) <GET https://media.ipsapps.org/shu/osa/bible/latin/19-PSA-047.html> (referer: https://media.ipsapps.org/shu/osa/bible/latin/19-PSA-046.html)\n",
      "2025-05-04 13:47:29 [scrapy.core.engine] DEBUG: Crawled (200) <GET https://media.ipsapps.org/shu/osa/bible/latin/19-PSA-048.html> (referer: https://media.ipsapps.org/shu/osa/bible/latin/19-PSA-047.html)\n",
      "2025-05-04 13:47:30 [scrapy.core.engine] DEBUG: Crawled (200) <GET https://media.ipsapps.org/shu/osa/bible/latin/19-PSA-049.html> (referer: https://media.ipsapps.org/shu/osa/bible/latin/19-PSA-048.html)\n",
      "2025-05-04 13:47:31 [scrapy.core.engine] DEBUG: Crawled (200) <GET https://media.ipsapps.org/shu/osa/bible/latin/19-PSA-050.html> (referer: https://media.ipsapps.org/shu/osa/bible/latin/19-PSA-049.html)\n",
      "2025-05-04 13:47:32 [scrapy.core.engine] DEBUG: Crawled (200) <GET https://media.ipsapps.org/shu/osa/bible/latin/19-PSA-051.html> (referer: https://media.ipsapps.org/shu/osa/bible/latin/19-PSA-050.html)\n",
      "2025-05-04 13:47:32 [scrapy.core.engine] DEBUG: Crawled (200) <GET https://media.ipsapps.org/shu/osa/bible/latin/19-PSA-052.html> (referer: https://media.ipsapps.org/shu/osa/bible/latin/19-PSA-051.html)\n",
      "2025-05-04 13:47:33 [scrapy.core.engine] DEBUG: Crawled (200) <GET https://media.ipsapps.org/shu/osa/bible/latin/19-PSA-053.html> (referer: https://media.ipsapps.org/shu/osa/bible/latin/19-PSA-052.html)\n",
      "2025-05-04 13:47:34 [scrapy.core.engine] DEBUG: Crawled (200) <GET https://media.ipsapps.org/shu/osa/bible/latin/19-PSA-054.html> (referer: https://media.ipsapps.org/shu/osa/bible/latin/19-PSA-053.html)\n",
      "2025-05-04 13:47:35 [scrapy.core.engine] DEBUG: Crawled (200) <GET https://media.ipsapps.org/shu/osa/bible/latin/19-PSA-055.html> (referer: https://media.ipsapps.org/shu/osa/bible/latin/19-PSA-054.html)\n",
      "2025-05-04 13:47:35 [scrapy.core.engine] DEBUG: Crawled (200) <GET https://media.ipsapps.org/shu/osa/bible/latin/19-PSA-056.html> (referer: https://media.ipsapps.org/shu/osa/bible/latin/19-PSA-055.html)\n",
      "2025-05-04 13:47:36 [scrapy.core.engine] DEBUG: Crawled (200) <GET https://media.ipsapps.org/shu/osa/bible/latin/19-PSA-057.html> (referer: https://media.ipsapps.org/shu/osa/bible/latin/19-PSA-056.html)\n",
      "2025-05-04 13:47:37 [scrapy.core.engine] DEBUG: Crawled (200) <GET https://media.ipsapps.org/shu/osa/bible/latin/19-PSA-058.html> (referer: https://media.ipsapps.org/shu/osa/bible/latin/19-PSA-057.html)\n",
      "2025-05-04 13:47:37 [scrapy.core.engine] DEBUG: Crawled (200) <GET https://media.ipsapps.org/shu/osa/bible/latin/19-PSA-059.html> (referer: https://media.ipsapps.org/shu/osa/bible/latin/19-PSA-058.html)\n",
      "2025-05-04 13:47:38 [scrapy.core.engine] DEBUG: Crawled (200) <GET https://media.ipsapps.org/shu/osa/bible/latin/19-PSA-060.html> (referer: https://media.ipsapps.org/shu/osa/bible/latin/19-PSA-059.html)\n",
      "2025-05-04 13:47:39 [scrapy.core.engine] DEBUG: Crawled (200) <GET https://media.ipsapps.org/shu/osa/bible/latin/19-PSA-061.html> (referer: https://media.ipsapps.org/shu/osa/bible/latin/19-PSA-060.html)\n",
      "2025-05-04 13:47:40 [scrapy.core.engine] DEBUG: Crawled (200) <GET https://media.ipsapps.org/shu/osa/bible/latin/19-PSA-062.html> (referer: https://media.ipsapps.org/shu/osa/bible/latin/19-PSA-061.html)\n",
      "2025-05-04 13:47:40 [scrapy.core.engine] DEBUG: Crawled (200) <GET https://media.ipsapps.org/shu/osa/bible/latin/19-PSA-063.html> (referer: https://media.ipsapps.org/shu/osa/bible/latin/19-PSA-062.html)\n",
      "2025-05-04 13:47:41 [scrapy.core.engine] DEBUG: Crawled (200) <GET https://media.ipsapps.org/shu/osa/bible/latin/19-PSA-064.html> (referer: https://media.ipsapps.org/shu/osa/bible/latin/19-PSA-063.html)\n",
      "2025-05-04 13:47:42 [scrapy.core.engine] DEBUG: Crawled (200) <GET https://media.ipsapps.org/shu/osa/bible/latin/19-PSA-065.html> (referer: https://media.ipsapps.org/shu/osa/bible/latin/19-PSA-064.html)\n",
      "2025-05-04 13:47:43 [scrapy.core.engine] DEBUG: Crawled (200) <GET https://media.ipsapps.org/shu/osa/bible/latin/19-PSA-066.html> (referer: https://media.ipsapps.org/shu/osa/bible/latin/19-PSA-065.html)\n",
      "2025-05-04 13:47:44 [scrapy.core.engine] DEBUG: Crawled (200) <GET https://media.ipsapps.org/shu/osa/bible/latin/19-PSA-067.html> (referer: https://media.ipsapps.org/shu/osa/bible/latin/19-PSA-066.html)\n",
      "2025-05-04 13:47:45 [scrapy.core.engine] DEBUG: Crawled (200) <GET https://media.ipsapps.org/shu/osa/bible/latin/19-PSA-068.html> (referer: https://media.ipsapps.org/shu/osa/bible/latin/19-PSA-067.html)\n",
      "2025-05-04 13:47:46 [scrapy.core.engine] DEBUG: Crawled (200) <GET https://media.ipsapps.org/shu/osa/bible/latin/19-PSA-069.html> (referer: https://media.ipsapps.org/shu/osa/bible/latin/19-PSA-068.html)\n",
      "2025-05-04 13:47:46 [scrapy.core.engine] DEBUG: Crawled (200) <GET https://media.ipsapps.org/shu/osa/bible/latin/19-PSA-070.html> (referer: https://media.ipsapps.org/shu/osa/bible/latin/19-PSA-069.html)\n",
      "2025-05-04 13:47:47 [scrapy.core.engine] DEBUG: Crawled (200) <GET https://media.ipsapps.org/shu/osa/bible/latin/19-PSA-071.html> (referer: https://media.ipsapps.org/shu/osa/bible/latin/19-PSA-070.html)\n",
      "2025-05-04 13:47:48 [scrapy.core.engine] DEBUG: Crawled (200) <GET https://media.ipsapps.org/shu/osa/bible/latin/19-PSA-072.html> (referer: https://media.ipsapps.org/shu/osa/bible/latin/19-PSA-071.html)\n",
      "2025-05-04 13:47:49 [scrapy.core.engine] DEBUG: Crawled (200) <GET https://media.ipsapps.org/shu/osa/bible/latin/19-PSA-073.html> (referer: https://media.ipsapps.org/shu/osa/bible/latin/19-PSA-072.html)\n",
      "2025-05-04 13:47:49 [scrapy.core.engine] DEBUG: Crawled (200) <GET https://media.ipsapps.org/shu/osa/bible/latin/19-PSA-074.html> (referer: https://media.ipsapps.org/shu/osa/bible/latin/19-PSA-073.html)\n",
      "2025-05-04 13:47:50 [scrapy.core.engine] DEBUG: Crawled (200) <GET https://media.ipsapps.org/shu/osa/bible/latin/19-PSA-075.html> (referer: https://media.ipsapps.org/shu/osa/bible/latin/19-PSA-074.html)\n",
      "2025-05-04 13:47:51 [scrapy.core.engine] DEBUG: Crawled (200) <GET https://media.ipsapps.org/shu/osa/bible/latin/19-PSA-076.html> (referer: https://media.ipsapps.org/shu/osa/bible/latin/19-PSA-075.html)\n",
      "2025-05-04 13:47:52 [scrapy.core.engine] DEBUG: Crawled (200) <GET https://media.ipsapps.org/shu/osa/bible/latin/19-PSA-077.html> (referer: https://media.ipsapps.org/shu/osa/bible/latin/19-PSA-076.html)\n",
      "2025-05-04 13:47:53 [scrapy.core.engine] DEBUG: Crawled (200) <GET https://media.ipsapps.org/shu/osa/bible/latin/19-PSA-078.html> (referer: https://media.ipsapps.org/shu/osa/bible/latin/19-PSA-077.html)\n",
      "2025-05-04 13:47:54 [scrapy.core.engine] DEBUG: Crawled (200) <GET https://media.ipsapps.org/shu/osa/bible/latin/19-PSA-079.html> (referer: https://media.ipsapps.org/shu/osa/bible/latin/19-PSA-078.html)\n",
      "2025-05-04 13:47:54 [scrapy.core.engine] DEBUG: Crawled (200) <GET https://media.ipsapps.org/shu/osa/bible/latin/19-PSA-080.html> (referer: https://media.ipsapps.org/shu/osa/bible/latin/19-PSA-079.html)\n",
      "2025-05-04 13:47:55 [scrapy.core.engine] DEBUG: Crawled (200) <GET https://media.ipsapps.org/shu/osa/bible/latin/19-PSA-081.html> (referer: https://media.ipsapps.org/shu/osa/bible/latin/19-PSA-080.html)\n",
      "2025-05-04 13:47:56 [scrapy.core.engine] DEBUG: Crawled (200) <GET https://media.ipsapps.org/shu/osa/bible/latin/19-PSA-082.html> (referer: https://media.ipsapps.org/shu/osa/bible/latin/19-PSA-081.html)\n",
      "2025-05-04 13:47:56 [scrapy.core.engine] DEBUG: Crawled (200) <GET https://media.ipsapps.org/shu/osa/bible/latin/19-PSA-083.html> (referer: https://media.ipsapps.org/shu/osa/bible/latin/19-PSA-082.html)\n",
      "2025-05-04 13:47:57 [scrapy.core.engine] DEBUG: Crawled (200) <GET https://media.ipsapps.org/shu/osa/bible/latin/19-PSA-084.html> (referer: https://media.ipsapps.org/shu/osa/bible/latin/19-PSA-083.html)\n",
      "2025-05-04 13:47:58 [scrapy.core.engine] DEBUG: Crawled (200) <GET https://media.ipsapps.org/shu/osa/bible/latin/19-PSA-085.html> (referer: https://media.ipsapps.org/shu/osa/bible/latin/19-PSA-084.html)\n",
      "2025-05-04 13:47:59 [scrapy.core.engine] DEBUG: Crawled (200) <GET https://media.ipsapps.org/shu/osa/bible/latin/19-PSA-086.html> (referer: https://media.ipsapps.org/shu/osa/bible/latin/19-PSA-085.html)\n",
      "2025-05-04 13:47:59 [scrapy.core.engine] DEBUG: Crawled (200) <GET https://media.ipsapps.org/shu/osa/bible/latin/19-PSA-087.html> (referer: https://media.ipsapps.org/shu/osa/bible/latin/19-PSA-086.html)\n",
      "2025-05-04 13:48:00 [scrapy.core.engine] DEBUG: Crawled (200) <GET https://media.ipsapps.org/shu/osa/bible/latin/19-PSA-088.html> (referer: https://media.ipsapps.org/shu/osa/bible/latin/19-PSA-087.html)\n",
      "2025-05-04 13:48:01 [scrapy.core.engine] DEBUG: Crawled (200) <GET https://media.ipsapps.org/shu/osa/bible/latin/19-PSA-089.html> (referer: https://media.ipsapps.org/shu/osa/bible/latin/19-PSA-088.html)\n",
      "2025-05-04 13:48:02 [scrapy.core.engine] DEBUG: Crawled (200) <GET https://media.ipsapps.org/shu/osa/bible/latin/19-PSA-090.html> (referer: https://media.ipsapps.org/shu/osa/bible/latin/19-PSA-089.html)\n",
      "2025-05-04 13:48:02 [scrapy.core.engine] DEBUG: Crawled (200) <GET https://media.ipsapps.org/shu/osa/bible/latin/19-PSA-091.html> (referer: https://media.ipsapps.org/shu/osa/bible/latin/19-PSA-090.html)\n",
      "2025-05-04 13:48:03 [scrapy.core.engine] DEBUG: Crawled (200) <GET https://media.ipsapps.org/shu/osa/bible/latin/19-PSA-092.html> (referer: https://media.ipsapps.org/shu/osa/bible/latin/19-PSA-091.html)\n",
      "2025-05-04 13:48:04 [scrapy.core.engine] DEBUG: Crawled (200) <GET https://media.ipsapps.org/shu/osa/bible/latin/19-PSA-093.html> (referer: https://media.ipsapps.org/shu/osa/bible/latin/19-PSA-092.html)\n",
      "2025-05-04 13:48:05 [scrapy.core.engine] DEBUG: Crawled (200) <GET https://media.ipsapps.org/shu/osa/bible/latin/19-PSA-094.html> (referer: https://media.ipsapps.org/shu/osa/bible/latin/19-PSA-093.html)\n",
      "2025-05-04 13:48:06 [scrapy.core.engine] DEBUG: Crawled (200) <GET https://media.ipsapps.org/shu/osa/bible/latin/19-PSA-095.html> (referer: https://media.ipsapps.org/shu/osa/bible/latin/19-PSA-094.html)\n",
      "2025-05-04 13:48:06 [scrapy.core.engine] DEBUG: Crawled (200) <GET https://media.ipsapps.org/shu/osa/bible/latin/19-PSA-096.html> (referer: https://media.ipsapps.org/shu/osa/bible/latin/19-PSA-095.html)\n",
      "2025-05-04 13:48:07 [scrapy.core.engine] DEBUG: Crawled (200) <GET https://media.ipsapps.org/shu/osa/bible/latin/19-PSA-097.html> (referer: https://media.ipsapps.org/shu/osa/bible/latin/19-PSA-096.html)\n",
      "2025-05-04 13:48:08 [scrapy.core.engine] DEBUG: Crawled (200) <GET https://media.ipsapps.org/shu/osa/bible/latin/19-PSA-098.html> (referer: https://media.ipsapps.org/shu/osa/bible/latin/19-PSA-097.html)\n",
      "2025-05-04 13:48:08 [scrapy.core.engine] DEBUG: Crawled (200) <GET https://media.ipsapps.org/shu/osa/bible/latin/19-PSA-099.html> (referer: https://media.ipsapps.org/shu/osa/bible/latin/19-PSA-098.html)\n",
      "2025-05-04 13:48:09 [scrapy.core.engine] DEBUG: Crawled (200) <GET https://media.ipsapps.org/shu/osa/bible/latin/19-PSA-100.html> (referer: https://media.ipsapps.org/shu/osa/bible/latin/19-PSA-099.html)\n",
      "2025-05-04 13:48:10 [scrapy.core.engine] DEBUG: Crawled (200) <GET https://media.ipsapps.org/shu/osa/bible/latin/19-PSA-101.html> (referer: https://media.ipsapps.org/shu/osa/bible/latin/19-PSA-100.html)\n",
      "2025-05-04 13:48:11 [scrapy.core.engine] DEBUG: Crawled (200) <GET https://media.ipsapps.org/shu/osa/bible/latin/19-PSA-102.html> (referer: https://media.ipsapps.org/shu/osa/bible/latin/19-PSA-101.html)\n",
      "2025-05-04 13:48:11 [scrapy.core.engine] DEBUG: Crawled (200) <GET https://media.ipsapps.org/shu/osa/bible/latin/19-PSA-103.html> (referer: https://media.ipsapps.org/shu/osa/bible/latin/19-PSA-102.html)\n",
      "2025-05-04 13:48:12 [scrapy.core.engine] DEBUG: Crawled (200) <GET https://media.ipsapps.org/shu/osa/bible/latin/19-PSA-104.html> (referer: https://media.ipsapps.org/shu/osa/bible/latin/19-PSA-103.html)\n",
      "2025-05-04 13:48:13 [scrapy.core.engine] DEBUG: Crawled (200) <GET https://media.ipsapps.org/shu/osa/bible/latin/19-PSA-105.html> (referer: https://media.ipsapps.org/shu/osa/bible/latin/19-PSA-104.html)\n",
      "2025-05-04 13:48:14 [scrapy.core.engine] DEBUG: Crawled (200) <GET https://media.ipsapps.org/shu/osa/bible/latin/19-PSA-106.html> (referer: https://media.ipsapps.org/shu/osa/bible/latin/19-PSA-105.html)\n",
      "2025-05-04 13:48:15 [scrapy.core.engine] DEBUG: Crawled (200) <GET https://media.ipsapps.org/shu/osa/bible/latin/19-PSA-107.html> (referer: https://media.ipsapps.org/shu/osa/bible/latin/19-PSA-106.html)\n",
      "2025-05-04 13:48:16 [scrapy.core.engine] DEBUG: Crawled (200) <GET https://media.ipsapps.org/shu/osa/bible/latin/19-PSA-108.html> (referer: https://media.ipsapps.org/shu/osa/bible/latin/19-PSA-107.html)\n",
      "2025-05-04 13:48:17 [scrapy.core.engine] DEBUG: Crawled (200) <GET https://media.ipsapps.org/shu/osa/bible/latin/19-PSA-109.html> (referer: https://media.ipsapps.org/shu/osa/bible/latin/19-PSA-108.html)\n",
      "2025-05-04 13:48:17 [scrapy.core.engine] DEBUG: Crawled (200) <GET https://media.ipsapps.org/shu/osa/bible/latin/19-PSA-110.html> (referer: https://media.ipsapps.org/shu/osa/bible/latin/19-PSA-109.html)\n",
      "2025-05-04 13:48:18 [scrapy.core.engine] DEBUG: Crawled (200) <GET https://media.ipsapps.org/shu/osa/bible/latin/19-PSA-111.html> (referer: https://media.ipsapps.org/shu/osa/bible/latin/19-PSA-110.html)\n",
      "2025-05-04 13:48:19 [scrapy.core.engine] DEBUG: Crawled (200) <GET https://media.ipsapps.org/shu/osa/bible/latin/19-PSA-112.html> (referer: https://media.ipsapps.org/shu/osa/bible/latin/19-PSA-111.html)\n",
      "2025-05-04 13:48:19 [scrapy.core.engine] DEBUG: Crawled (200) <GET https://media.ipsapps.org/shu/osa/bible/latin/19-PSA-113.html> (referer: https://media.ipsapps.org/shu/osa/bible/latin/19-PSA-112.html)\n",
      "2025-05-04 13:48:20 [scrapy.core.engine] DEBUG: Crawled (200) <GET https://media.ipsapps.org/shu/osa/bible/latin/19-PSA-114.html> (referer: https://media.ipsapps.org/shu/osa/bible/latin/19-PSA-113.html)\n",
      "2025-05-04 13:48:21 [scrapy.core.engine] DEBUG: Crawled (200) <GET https://media.ipsapps.org/shu/osa/bible/latin/19-PSA-115.html> (referer: https://media.ipsapps.org/shu/osa/bible/latin/19-PSA-114.html)\n",
      "2025-05-04 13:48:22 [scrapy.core.engine] DEBUG: Crawled (200) <GET https://media.ipsapps.org/shu/osa/bible/latin/19-PSA-116.html> (referer: https://media.ipsapps.org/shu/osa/bible/latin/19-PSA-115.html)\n",
      "2025-05-04 13:48:23 [scrapy.core.engine] DEBUG: Crawled (200) <GET https://media.ipsapps.org/shu/osa/bible/latin/19-PSA-117.html> (referer: https://media.ipsapps.org/shu/osa/bible/latin/19-PSA-116.html)\n",
      "2025-05-04 13:48:23 [scrapy.core.engine] DEBUG: Crawled (200) <GET https://media.ipsapps.org/shu/osa/bible/latin/19-PSA-118.html> (referer: https://media.ipsapps.org/shu/osa/bible/latin/19-PSA-117.html)\n",
      "2025-05-04 13:48:25 [scrapy.core.engine] DEBUG: Crawled (200) <GET https://media.ipsapps.org/shu/osa/bible/latin/19-PSA-119.html> (referer: https://media.ipsapps.org/shu/osa/bible/latin/19-PSA-118.html)\n",
      "2025-05-04 13:48:26 [scrapy.core.engine] DEBUG: Crawled (200) <GET https://media.ipsapps.org/shu/osa/bible/latin/19-PSA-120.html> (referer: https://media.ipsapps.org/shu/osa/bible/latin/19-PSA-119.html)\n",
      "2025-05-04 13:48:27 [scrapy.core.engine] DEBUG: Crawled (200) <GET https://media.ipsapps.org/shu/osa/bible/latin/19-PSA-121.html> (referer: https://media.ipsapps.org/shu/osa/bible/latin/19-PSA-120.html)\n",
      "2025-05-04 13:48:28 [scrapy.core.engine] DEBUG: Crawled (200) <GET https://media.ipsapps.org/shu/osa/bible/latin/19-PSA-122.html> (referer: https://media.ipsapps.org/shu/osa/bible/latin/19-PSA-121.html)\n",
      "2025-05-04 13:48:28 [scrapy.extensions.logstats] INFO: Crawled 618 pages (at 76 pages/min), scraped 0 items (at 0 items/min)\n",
      "2025-05-04 13:48:28 [scrapy.core.engine] DEBUG: Crawled (200) <GET https://media.ipsapps.org/shu/osa/bible/latin/19-PSA-123.html> (referer: https://media.ipsapps.org/shu/osa/bible/latin/19-PSA-122.html)\n",
      "2025-05-04 13:48:29 [scrapy.core.engine] DEBUG: Crawled (200) <GET https://media.ipsapps.org/shu/osa/bible/latin/19-PSA-124.html> (referer: https://media.ipsapps.org/shu/osa/bible/latin/19-PSA-123.html)\n",
      "2025-05-04 13:48:30 [scrapy.core.engine] DEBUG: Crawled (200) <GET https://media.ipsapps.org/shu/osa/bible/latin/19-PSA-125.html> (referer: https://media.ipsapps.org/shu/osa/bible/latin/19-PSA-124.html)\n",
      "2025-05-04 13:48:31 [scrapy.core.engine] DEBUG: Crawled (200) <GET https://media.ipsapps.org/shu/osa/bible/latin/19-PSA-126.html> (referer: https://media.ipsapps.org/shu/osa/bible/latin/19-PSA-125.html)\n",
      "2025-05-04 13:48:32 [scrapy.core.engine] DEBUG: Crawled (200) <GET https://media.ipsapps.org/shu/osa/bible/latin/19-PSA-127.html> (referer: https://media.ipsapps.org/shu/osa/bible/latin/19-PSA-126.html)\n",
      "2025-05-04 13:48:33 [scrapy.core.engine] DEBUG: Crawled (200) <GET https://media.ipsapps.org/shu/osa/bible/latin/19-PSA-128.html> (referer: https://media.ipsapps.org/shu/osa/bible/latin/19-PSA-127.html)\n",
      "2025-05-04 13:48:33 [scrapy.core.engine] DEBUG: Crawled (200) <GET https://media.ipsapps.org/shu/osa/bible/latin/19-PSA-129.html> (referer: https://media.ipsapps.org/shu/osa/bible/latin/19-PSA-128.html)\n",
      "2025-05-04 13:48:34 [scrapy.core.engine] DEBUG: Crawled (200) <GET https://media.ipsapps.org/shu/osa/bible/latin/19-PSA-130.html> (referer: https://media.ipsapps.org/shu/osa/bible/latin/19-PSA-129.html)\n",
      "2025-05-04 13:48:35 [scrapy.core.engine] DEBUG: Crawled (200) <GET https://media.ipsapps.org/shu/osa/bible/latin/19-PSA-131.html> (referer: https://media.ipsapps.org/shu/osa/bible/latin/19-PSA-130.html)\n",
      "2025-05-04 13:48:36 [scrapy.core.engine] DEBUG: Crawled (200) <GET https://media.ipsapps.org/shu/osa/bible/latin/19-PSA-132.html> (referer: https://media.ipsapps.org/shu/osa/bible/latin/19-PSA-131.html)\n",
      "2025-05-04 13:48:36 [scrapy.core.engine] DEBUG: Crawled (200) <GET https://media.ipsapps.org/shu/osa/bible/latin/19-PSA-133.html> (referer: https://media.ipsapps.org/shu/osa/bible/latin/19-PSA-132.html)\n",
      "2025-05-04 13:48:37 [scrapy.core.engine] DEBUG: Crawled (200) <GET https://media.ipsapps.org/shu/osa/bible/latin/19-PSA-134.html> (referer: https://media.ipsapps.org/shu/osa/bible/latin/19-PSA-133.html)\n",
      "2025-05-04 13:48:38 [scrapy.core.engine] DEBUG: Crawled (200) <GET https://media.ipsapps.org/shu/osa/bible/latin/19-PSA-135.html> (referer: https://media.ipsapps.org/shu/osa/bible/latin/19-PSA-134.html)\n",
      "2025-05-04 13:48:39 [scrapy.core.engine] DEBUG: Crawled (200) <GET https://media.ipsapps.org/shu/osa/bible/latin/19-PSA-136.html> (referer: https://media.ipsapps.org/shu/osa/bible/latin/19-PSA-135.html)\n",
      "2025-05-04 13:48:40 [scrapy.core.engine] DEBUG: Crawled (200) <GET https://media.ipsapps.org/shu/osa/bible/latin/19-PSA-137.html> (referer: https://media.ipsapps.org/shu/osa/bible/latin/19-PSA-136.html)\n",
      "2025-05-04 13:48:41 [scrapy.core.engine] DEBUG: Crawled (200) <GET https://media.ipsapps.org/shu/osa/bible/latin/19-PSA-138.html> (referer: https://media.ipsapps.org/shu/osa/bible/latin/19-PSA-137.html)\n",
      "2025-05-04 13:48:42 [scrapy.core.engine] DEBUG: Crawled (200) <GET https://media.ipsapps.org/shu/osa/bible/latin/19-PSA-139.html> (referer: https://media.ipsapps.org/shu/osa/bible/latin/19-PSA-138.html)\n",
      "2025-05-04 13:48:42 [scrapy.core.engine] DEBUG: Crawled (200) <GET https://media.ipsapps.org/shu/osa/bible/latin/19-PSA-140.html> (referer: https://media.ipsapps.org/shu/osa/bible/latin/19-PSA-139.html)\n",
      "2025-05-04 13:48:43 [scrapy.core.engine] DEBUG: Crawled (200) <GET https://media.ipsapps.org/shu/osa/bible/latin/19-PSA-141.html> (referer: https://media.ipsapps.org/shu/osa/bible/latin/19-PSA-140.html)\n",
      "2025-05-04 13:48:44 [scrapy.core.engine] DEBUG: Crawled (200) <GET https://media.ipsapps.org/shu/osa/bible/latin/19-PSA-142.html> (referer: https://media.ipsapps.org/shu/osa/bible/latin/19-PSA-141.html)\n",
      "2025-05-04 13:48:45 [scrapy.core.engine] DEBUG: Crawled (200) <GET https://media.ipsapps.org/shu/osa/bible/latin/19-PSA-143.html> (referer: https://media.ipsapps.org/shu/osa/bible/latin/19-PSA-142.html)\n",
      "2025-05-04 13:48:46 [scrapy.core.engine] DEBUG: Crawled (200) <GET https://media.ipsapps.org/shu/osa/bible/latin/19-PSA-144.html> (referer: https://media.ipsapps.org/shu/osa/bible/latin/19-PSA-143.html)\n",
      "2025-05-04 13:48:46 [scrapy.core.engine] DEBUG: Crawled (200) <GET https://media.ipsapps.org/shu/osa/bible/latin/19-PSA-145.html> (referer: https://media.ipsapps.org/shu/osa/bible/latin/19-PSA-144.html)\n",
      "2025-05-04 13:48:47 [scrapy.core.engine] DEBUG: Crawled (200) <GET https://media.ipsapps.org/shu/osa/bible/latin/19-PSA-146.html> (referer: https://media.ipsapps.org/shu/osa/bible/latin/19-PSA-145.html)\n",
      "2025-05-04 13:48:48 [scrapy.core.engine] DEBUG: Crawled (200) <GET https://media.ipsapps.org/shu/osa/bible/latin/19-PSA-147.html> (referer: https://media.ipsapps.org/shu/osa/bible/latin/19-PSA-146.html)\n",
      "2025-05-04 13:48:49 [scrapy.core.engine] DEBUG: Crawled (200) <GET https://media.ipsapps.org/shu/osa/bible/latin/19-PSA-148.html> (referer: https://media.ipsapps.org/shu/osa/bible/latin/19-PSA-147.html)\n",
      "2025-05-04 13:48:49 [scrapy.core.engine] DEBUG: Crawled (200) <GET https://media.ipsapps.org/shu/osa/bible/latin/19-PSA-149.html> (referer: https://media.ipsapps.org/shu/osa/bible/latin/19-PSA-148.html)\n",
      "2025-05-04 13:48:50 [scrapy.core.engine] DEBUG: Crawled (200) <GET https://media.ipsapps.org/shu/osa/bible/latin/19-PSA-150.html> (referer: https://media.ipsapps.org/shu/osa/bible/latin/19-PSA-149.html)\n",
      "2025-05-04 13:48:51 [scrapy.core.engine] DEBUG: Crawled (200) <GET https://media.ipsapps.org/shu/osa/bible/latin/20-PRO-000.html> (referer: https://media.ipsapps.org/shu/osa/bible/latin/19-PSA-150.html)\n",
      "2025-05-04 13:48:52 [scrapy.core.engine] DEBUG: Crawled (200) <GET https://media.ipsapps.org/shu/osa/bible/latin/20-PRO-001.html> (referer: https://media.ipsapps.org/shu/osa/bible/latin/20-PRO-000.html)\n",
      "2025-05-04 13:48:53 [scrapy.core.engine] DEBUG: Crawled (200) <GET https://media.ipsapps.org/shu/osa/bible/latin/20-PRO-002.html> (referer: https://media.ipsapps.org/shu/osa/bible/latin/20-PRO-001.html)\n",
      "2025-05-04 13:48:54 [scrapy.core.engine] DEBUG: Crawled (200) <GET https://media.ipsapps.org/shu/osa/bible/latin/20-PRO-003.html> (referer: https://media.ipsapps.org/shu/osa/bible/latin/20-PRO-002.html)\n",
      "2025-05-04 13:48:55 [scrapy.core.engine] DEBUG: Crawled (200) <GET https://media.ipsapps.org/shu/osa/bible/latin/20-PRO-004.html> (referer: https://media.ipsapps.org/shu/osa/bible/latin/20-PRO-003.html)\n",
      "2025-05-04 13:48:56 [scrapy.core.engine] DEBUG: Crawled (200) <GET https://media.ipsapps.org/shu/osa/bible/latin/20-PRO-005.html> (referer: https://media.ipsapps.org/shu/osa/bible/latin/20-PRO-004.html)\n",
      "2025-05-04 13:48:57 [scrapy.core.engine] DEBUG: Crawled (200) <GET https://media.ipsapps.org/shu/osa/bible/latin/20-PRO-006.html> (referer: https://media.ipsapps.org/shu/osa/bible/latin/20-PRO-005.html)\n",
      "2025-05-04 13:48:58 [scrapy.core.engine] DEBUG: Crawled (200) <GET https://media.ipsapps.org/shu/osa/bible/latin/20-PRO-007.html> (referer: https://media.ipsapps.org/shu/osa/bible/latin/20-PRO-006.html)\n",
      "2025-05-04 13:48:59 [scrapy.core.engine] DEBUG: Crawled (200) <GET https://media.ipsapps.org/shu/osa/bible/latin/20-PRO-008.html> (referer: https://media.ipsapps.org/shu/osa/bible/latin/20-PRO-007.html)\n",
      "2025-05-04 13:49:00 [scrapy.core.engine] DEBUG: Crawled (200) <GET https://media.ipsapps.org/shu/osa/bible/latin/20-PRO-009.html> (referer: https://media.ipsapps.org/shu/osa/bible/latin/20-PRO-008.html)\n",
      "2025-05-04 13:49:01 [scrapy.core.engine] DEBUG: Crawled (200) <GET https://media.ipsapps.org/shu/osa/bible/latin/20-PRO-010.html> (referer: https://media.ipsapps.org/shu/osa/bible/latin/20-PRO-009.html)\n",
      "2025-05-04 13:49:02 [scrapy.core.engine] DEBUG: Crawled (200) <GET https://media.ipsapps.org/shu/osa/bible/latin/20-PRO-011.html> (referer: https://media.ipsapps.org/shu/osa/bible/latin/20-PRO-010.html)\n",
      "2025-05-04 13:49:03 [scrapy.core.engine] DEBUG: Crawled (200) <GET https://media.ipsapps.org/shu/osa/bible/latin/20-PRO-012.html> (referer: https://media.ipsapps.org/shu/osa/bible/latin/20-PRO-011.html)\n",
      "2025-05-04 13:49:03 [scrapy.core.engine] DEBUG: Crawled (200) <GET https://media.ipsapps.org/shu/osa/bible/latin/20-PRO-013.html> (referer: https://media.ipsapps.org/shu/osa/bible/latin/20-PRO-012.html)\n",
      "2025-05-04 13:49:04 [scrapy.core.engine] DEBUG: Crawled (200) <GET https://media.ipsapps.org/shu/osa/bible/latin/20-PRO-014.html> (referer: https://media.ipsapps.org/shu/osa/bible/latin/20-PRO-013.html)\n",
      "2025-05-04 13:49:06 [scrapy.core.engine] DEBUG: Crawled (200) <GET https://media.ipsapps.org/shu/osa/bible/latin/20-PRO-015.html> (referer: https://media.ipsapps.org/shu/osa/bible/latin/20-PRO-014.html)\n",
      "2025-05-04 13:49:06 [scrapy.core.engine] DEBUG: Crawled (200) <GET https://media.ipsapps.org/shu/osa/bible/latin/20-PRO-016.html> (referer: https://media.ipsapps.org/shu/osa/bible/latin/20-PRO-015.html)\n",
      "2025-05-04 13:49:08 [scrapy.core.engine] DEBUG: Crawled (200) <GET https://media.ipsapps.org/shu/osa/bible/latin/20-PRO-017.html> (referer: https://media.ipsapps.org/shu/osa/bible/latin/20-PRO-016.html)\n",
      "2025-05-04 13:49:09 [scrapy.core.engine] DEBUG: Crawled (200) <GET https://media.ipsapps.org/shu/osa/bible/latin/20-PRO-018.html> (referer: https://media.ipsapps.org/shu/osa/bible/latin/20-PRO-017.html)\n",
      "2025-05-04 13:49:10 [scrapy.core.engine] DEBUG: Crawled (200) <GET https://media.ipsapps.org/shu/osa/bible/latin/20-PRO-019.html> (referer: https://media.ipsapps.org/shu/osa/bible/latin/20-PRO-018.html)\n",
      "2025-05-04 13:49:10 [scrapy.core.engine] DEBUG: Crawled (200) <GET https://media.ipsapps.org/shu/osa/bible/latin/20-PRO-020.html> (referer: https://media.ipsapps.org/shu/osa/bible/latin/20-PRO-019.html)\n",
      "2025-05-04 13:49:11 [scrapy.core.engine] DEBUG: Crawled (200) <GET https://media.ipsapps.org/shu/osa/bible/latin/20-PRO-021.html> (referer: https://media.ipsapps.org/shu/osa/bible/latin/20-PRO-020.html)\n",
      "2025-05-04 13:49:12 [scrapy.core.engine] DEBUG: Crawled (200) <GET https://media.ipsapps.org/shu/osa/bible/latin/20-PRO-022.html> (referer: https://media.ipsapps.org/shu/osa/bible/latin/20-PRO-021.html)\n",
      "2025-05-04 13:49:13 [scrapy.core.engine] DEBUG: Crawled (200) <GET https://media.ipsapps.org/shu/osa/bible/latin/20-PRO-023.html> (referer: https://media.ipsapps.org/shu/osa/bible/latin/20-PRO-022.html)\n",
      "2025-05-04 13:49:13 [scrapy.core.engine] DEBUG: Crawled (200) <GET https://media.ipsapps.org/shu/osa/bible/latin/20-PRO-024.html> (referer: https://media.ipsapps.org/shu/osa/bible/latin/20-PRO-023.html)\n",
      "2025-05-04 13:49:14 [scrapy.core.engine] DEBUG: Crawled (200) <GET https://media.ipsapps.org/shu/osa/bible/latin/20-PRO-025.html> (referer: https://media.ipsapps.org/shu/osa/bible/latin/20-PRO-024.html)\n",
      "2025-05-04 13:49:15 [scrapy.core.engine] DEBUG: Crawled (200) <GET https://media.ipsapps.org/shu/osa/bible/latin/20-PRO-026.html> (referer: https://media.ipsapps.org/shu/osa/bible/latin/20-PRO-025.html)\n",
      "2025-05-04 13:49:16 [scrapy.core.engine] DEBUG: Crawled (200) <GET https://media.ipsapps.org/shu/osa/bible/latin/20-PRO-027.html> (referer: https://media.ipsapps.org/shu/osa/bible/latin/20-PRO-026.html)\n",
      "2025-05-04 13:49:17 [scrapy.core.engine] DEBUG: Crawled (200) <GET https://media.ipsapps.org/shu/osa/bible/latin/20-PRO-028.html> (referer: https://media.ipsapps.org/shu/osa/bible/latin/20-PRO-027.html)\n",
      "2025-05-04 13:49:18 [scrapy.core.engine] DEBUG: Crawled (200) <GET https://media.ipsapps.org/shu/osa/bible/latin/20-PRO-029.html> (referer: https://media.ipsapps.org/shu/osa/bible/latin/20-PRO-028.html)\n",
      "2025-05-04 13:49:19 [scrapy.core.engine] DEBUG: Crawled (200) <GET https://media.ipsapps.org/shu/osa/bible/latin/20-PRO-030.html> (referer: https://media.ipsapps.org/shu/osa/bible/latin/20-PRO-029.html)\n",
      "2025-05-04 13:49:20 [scrapy.core.engine] DEBUG: Crawled (200) <GET https://media.ipsapps.org/shu/osa/bible/latin/20-PRO-031.html> (referer: https://media.ipsapps.org/shu/osa/bible/latin/20-PRO-030.html)\n",
      "2025-05-04 13:49:20 [scrapy.core.engine] DEBUG: Crawled (200) <GET https://media.ipsapps.org/shu/osa/bible/latin/21-ECC-000.html> (referer: https://media.ipsapps.org/shu/osa/bible/latin/20-PRO-031.html)\n",
      "2025-05-04 13:49:21 [scrapy.core.engine] DEBUG: Crawled (200) <GET https://media.ipsapps.org/shu/osa/bible/latin/21-ECC-001.html> (referer: https://media.ipsapps.org/shu/osa/bible/latin/21-ECC-000.html)\n",
      "2025-05-04 13:49:22 [scrapy.core.engine] DEBUG: Crawled (200) <GET https://media.ipsapps.org/shu/osa/bible/latin/21-ECC-002.html> (referer: https://media.ipsapps.org/shu/osa/bible/latin/21-ECC-001.html)\n",
      "2025-05-04 13:49:23 [scrapy.core.engine] DEBUG: Crawled (200) <GET https://media.ipsapps.org/shu/osa/bible/latin/21-ECC-003.html> (referer: https://media.ipsapps.org/shu/osa/bible/latin/21-ECC-002.html)\n",
      "2025-05-04 13:49:23 [scrapy.core.engine] DEBUG: Crawled (200) <GET https://media.ipsapps.org/shu/osa/bible/latin/21-ECC-004.html> (referer: https://media.ipsapps.org/shu/osa/bible/latin/21-ECC-003.html)\n",
      "2025-05-04 13:49:24 [scrapy.core.engine] DEBUG: Crawled (200) <GET https://media.ipsapps.org/shu/osa/bible/latin/21-ECC-005.html> (referer: https://media.ipsapps.org/shu/osa/bible/latin/21-ECC-004.html)\n",
      "2025-05-04 13:49:25 [scrapy.core.engine] DEBUG: Crawled (200) <GET https://media.ipsapps.org/shu/osa/bible/latin/21-ECC-006.html> (referer: https://media.ipsapps.org/shu/osa/bible/latin/21-ECC-005.html)\n",
      "2025-05-04 13:49:26 [scrapy.core.engine] DEBUG: Crawled (200) <GET https://media.ipsapps.org/shu/osa/bible/latin/21-ECC-007.html> (referer: https://media.ipsapps.org/shu/osa/bible/latin/21-ECC-006.html)\n",
      "2025-05-04 13:49:27 [scrapy.core.engine] DEBUG: Crawled (200) <GET https://media.ipsapps.org/shu/osa/bible/latin/21-ECC-008.html> (referer: https://media.ipsapps.org/shu/osa/bible/latin/21-ECC-007.html)\n",
      "2025-05-04 13:49:28 [scrapy.extensions.logstats] INFO: Crawled 687 pages (at 69 pages/min), scraped 0 items (at 0 items/min)\n",
      "2025-05-04 13:49:28 [scrapy.core.engine] DEBUG: Crawled (200) <GET https://media.ipsapps.org/shu/osa/bible/latin/21-ECC-009.html> (referer: https://media.ipsapps.org/shu/osa/bible/latin/21-ECC-008.html)\n",
      "2025-05-04 13:49:29 [scrapy.core.engine] DEBUG: Crawled (200) <GET https://media.ipsapps.org/shu/osa/bible/latin/21-ECC-010.html> (referer: https://media.ipsapps.org/shu/osa/bible/latin/21-ECC-009.html)\n",
      "2025-05-04 13:49:30 [scrapy.core.engine] DEBUG: Crawled (200) <GET https://media.ipsapps.org/shu/osa/bible/latin/21-ECC-011.html> (referer: https://media.ipsapps.org/shu/osa/bible/latin/21-ECC-010.html)\n",
      "2025-05-04 13:49:31 [scrapy.core.engine] DEBUG: Crawled (200) <GET https://media.ipsapps.org/shu/osa/bible/latin/21-ECC-012.html> (referer: https://media.ipsapps.org/shu/osa/bible/latin/21-ECC-011.html)\n",
      "2025-05-04 13:49:31 [scrapy.core.engine] DEBUG: Crawled (200) <GET https://media.ipsapps.org/shu/osa/bible/latin/22-SNG-000.html> (referer: https://media.ipsapps.org/shu/osa/bible/latin/21-ECC-012.html)\n",
      "2025-05-04 13:49:32 [scrapy.core.engine] DEBUG: Crawled (200) <GET https://media.ipsapps.org/shu/osa/bible/latin/22-SNG-001.html> (referer: https://media.ipsapps.org/shu/osa/bible/latin/22-SNG-000.html)\n",
      "2025-05-04 13:49:33 [scrapy.core.engine] DEBUG: Crawled (200) <GET https://media.ipsapps.org/shu/osa/bible/latin/22-SNG-002.html> (referer: https://media.ipsapps.org/shu/osa/bible/latin/22-SNG-001.html)\n",
      "2025-05-04 13:49:33 [scrapy.core.engine] DEBUG: Crawled (200) <GET https://media.ipsapps.org/shu/osa/bible/latin/22-SNG-003.html> (referer: https://media.ipsapps.org/shu/osa/bible/latin/22-SNG-002.html)\n",
      "2025-05-04 13:49:35 [scrapy.core.engine] DEBUG: Crawled (200) <GET https://media.ipsapps.org/shu/osa/bible/latin/22-SNG-004.html> (referer: https://media.ipsapps.org/shu/osa/bible/latin/22-SNG-003.html)\n",
      "2025-05-04 13:49:35 [scrapy.core.engine] DEBUG: Crawled (200) <GET https://media.ipsapps.org/shu/osa/bible/latin/22-SNG-005.html> (referer: https://media.ipsapps.org/shu/osa/bible/latin/22-SNG-004.html)\n",
      "2025-05-04 13:49:36 [scrapy.core.engine] DEBUG: Crawled (200) <GET https://media.ipsapps.org/shu/osa/bible/latin/22-SNG-006.html> (referer: https://media.ipsapps.org/shu/osa/bible/latin/22-SNG-005.html)\n",
      "2025-05-04 13:49:37 [scrapy.core.engine] DEBUG: Crawled (200) <GET https://media.ipsapps.org/shu/osa/bible/latin/22-SNG-007.html> (referer: https://media.ipsapps.org/shu/osa/bible/latin/22-SNG-006.html)\n",
      "2025-05-04 13:49:38 [scrapy.core.engine] DEBUG: Crawled (200) <GET https://media.ipsapps.org/shu/osa/bible/latin/22-SNG-008.html> (referer: https://media.ipsapps.org/shu/osa/bible/latin/22-SNG-007.html)\n",
      "2025-05-04 13:49:38 [scrapy.core.engine] DEBUG: Crawled (200) <GET https://media.ipsapps.org/shu/osa/bible/latin/23-ISA-000.html> (referer: https://media.ipsapps.org/shu/osa/bible/latin/22-SNG-008.html)\n",
      "2025-05-04 13:49:39 [scrapy.core.engine] DEBUG: Crawled (200) <GET https://media.ipsapps.org/shu/osa/bible/latin/23-ISA-001.html> (referer: https://media.ipsapps.org/shu/osa/bible/latin/23-ISA-000.html)\n",
      "2025-05-04 13:49:40 [scrapy.core.engine] DEBUG: Crawled (200) <GET https://media.ipsapps.org/shu/osa/bible/latin/23-ISA-002.html> (referer: https://media.ipsapps.org/shu/osa/bible/latin/23-ISA-001.html)\n",
      "2025-05-04 13:49:41 [scrapy.core.engine] DEBUG: Crawled (200) <GET https://media.ipsapps.org/shu/osa/bible/latin/23-ISA-003.html> (referer: https://media.ipsapps.org/shu/osa/bible/latin/23-ISA-002.html)\n",
      "2025-05-04 13:49:41 [scrapy.core.engine] DEBUG: Crawled (200) <GET https://media.ipsapps.org/shu/osa/bible/latin/23-ISA-004.html> (referer: https://media.ipsapps.org/shu/osa/bible/latin/23-ISA-003.html)\n",
      "2025-05-04 13:49:42 [scrapy.core.engine] DEBUG: Crawled (200) <GET https://media.ipsapps.org/shu/osa/bible/latin/23-ISA-005.html> (referer: https://media.ipsapps.org/shu/osa/bible/latin/23-ISA-004.html)\n",
      "2025-05-04 13:49:43 [scrapy.core.engine] DEBUG: Crawled (200) <GET https://media.ipsapps.org/shu/osa/bible/latin/23-ISA-006.html> (referer: https://media.ipsapps.org/shu/osa/bible/latin/23-ISA-005.html)\n",
      "2025-05-04 13:49:44 [scrapy.core.engine] DEBUG: Crawled (200) <GET https://media.ipsapps.org/shu/osa/bible/latin/23-ISA-007.html> (referer: https://media.ipsapps.org/shu/osa/bible/latin/23-ISA-006.html)\n",
      "2025-05-04 13:49:45 [scrapy.core.engine] DEBUG: Crawled (200) <GET https://media.ipsapps.org/shu/osa/bible/latin/23-ISA-008.html> (referer: https://media.ipsapps.org/shu/osa/bible/latin/23-ISA-007.html)\n",
      "2025-05-04 13:49:46 [scrapy.core.engine] DEBUG: Crawled (200) <GET https://media.ipsapps.org/shu/osa/bible/latin/23-ISA-009.html> (referer: https://media.ipsapps.org/shu/osa/bible/latin/23-ISA-008.html)\n",
      "2025-05-04 13:49:47 [scrapy.core.engine] DEBUG: Crawled (200) <GET https://media.ipsapps.org/shu/osa/bible/latin/23-ISA-010.html> (referer: https://media.ipsapps.org/shu/osa/bible/latin/23-ISA-009.html)\n",
      "2025-05-04 13:49:48 [scrapy.core.engine] DEBUG: Crawled (200) <GET https://media.ipsapps.org/shu/osa/bible/latin/23-ISA-011.html> (referer: https://media.ipsapps.org/shu/osa/bible/latin/23-ISA-010.html)\n",
      "2025-05-04 13:49:49 [scrapy.core.engine] DEBUG: Crawled (200) <GET https://media.ipsapps.org/shu/osa/bible/latin/23-ISA-012.html> (referer: https://media.ipsapps.org/shu/osa/bible/latin/23-ISA-011.html)\n",
      "2025-05-04 13:49:50 [scrapy.core.engine] DEBUG: Crawled (200) <GET https://media.ipsapps.org/shu/osa/bible/latin/23-ISA-013.html> (referer: https://media.ipsapps.org/shu/osa/bible/latin/23-ISA-012.html)\n",
      "2025-05-04 13:49:50 [scrapy.core.engine] DEBUG: Crawled (200) <GET https://media.ipsapps.org/shu/osa/bible/latin/23-ISA-014.html> (referer: https://media.ipsapps.org/shu/osa/bible/latin/23-ISA-013.html)\n",
      "2025-05-04 13:49:51 [scrapy.core.engine] DEBUG: Crawled (200) <GET https://media.ipsapps.org/shu/osa/bible/latin/23-ISA-015.html> (referer: https://media.ipsapps.org/shu/osa/bible/latin/23-ISA-014.html)\n",
      "2025-05-04 13:49:52 [scrapy.core.engine] DEBUG: Crawled (200) <GET https://media.ipsapps.org/shu/osa/bible/latin/23-ISA-016.html> (referer: https://media.ipsapps.org/shu/osa/bible/latin/23-ISA-015.html)\n",
      "2025-05-04 13:49:53 [scrapy.core.engine] DEBUG: Crawled (200) <GET https://media.ipsapps.org/shu/osa/bible/latin/23-ISA-017.html> (referer: https://media.ipsapps.org/shu/osa/bible/latin/23-ISA-016.html)\n",
      "2025-05-04 13:49:54 [scrapy.core.engine] DEBUG: Crawled (200) <GET https://media.ipsapps.org/shu/osa/bible/latin/23-ISA-018.html> (referer: https://media.ipsapps.org/shu/osa/bible/latin/23-ISA-017.html)\n",
      "2025-05-04 13:49:54 [scrapy.core.engine] DEBUG: Crawled (200) <GET https://media.ipsapps.org/shu/osa/bible/latin/23-ISA-019.html> (referer: https://media.ipsapps.org/shu/osa/bible/latin/23-ISA-018.html)\n",
      "2025-05-04 13:49:55 [scrapy.core.engine] DEBUG: Crawled (200) <GET https://media.ipsapps.org/shu/osa/bible/latin/23-ISA-020.html> (referer: https://media.ipsapps.org/shu/osa/bible/latin/23-ISA-019.html)\n",
      "2025-05-04 13:49:56 [scrapy.core.engine] DEBUG: Crawled (200) <GET https://media.ipsapps.org/shu/osa/bible/latin/23-ISA-021.html> (referer: https://media.ipsapps.org/shu/osa/bible/latin/23-ISA-020.html)\n",
      "2025-05-04 13:49:57 [scrapy.core.engine] DEBUG: Crawled (200) <GET https://media.ipsapps.org/shu/osa/bible/latin/23-ISA-022.html> (referer: https://media.ipsapps.org/shu/osa/bible/latin/23-ISA-021.html)\n",
      "2025-05-04 13:49:58 [scrapy.core.engine] DEBUG: Crawled (200) <GET https://media.ipsapps.org/shu/osa/bible/latin/23-ISA-023.html> (referer: https://media.ipsapps.org/shu/osa/bible/latin/23-ISA-022.html)\n",
      "2025-05-04 13:49:58 [scrapy.core.engine] DEBUG: Crawled (200) <GET https://media.ipsapps.org/shu/osa/bible/latin/23-ISA-024.html> (referer: https://media.ipsapps.org/shu/osa/bible/latin/23-ISA-023.html)\n",
      "2025-05-04 13:49:59 [scrapy.core.engine] DEBUG: Crawled (200) <GET https://media.ipsapps.org/shu/osa/bible/latin/23-ISA-025.html> (referer: https://media.ipsapps.org/shu/osa/bible/latin/23-ISA-024.html)\n",
      "2025-05-04 13:50:00 [scrapy.core.engine] DEBUG: Crawled (200) <GET https://media.ipsapps.org/shu/osa/bible/latin/23-ISA-026.html> (referer: https://media.ipsapps.org/shu/osa/bible/latin/23-ISA-025.html)\n",
      "2025-05-04 13:50:01 [scrapy.core.engine] DEBUG: Crawled (200) <GET https://media.ipsapps.org/shu/osa/bible/latin/23-ISA-027.html> (referer: https://media.ipsapps.org/shu/osa/bible/latin/23-ISA-026.html)\n",
      "2025-05-04 13:50:02 [scrapy.core.engine] DEBUG: Crawled (200) <GET https://media.ipsapps.org/shu/osa/bible/latin/23-ISA-028.html> (referer: https://media.ipsapps.org/shu/osa/bible/latin/23-ISA-027.html)\n",
      "2025-05-04 13:50:03 [scrapy.core.engine] DEBUG: Crawled (200) <GET https://media.ipsapps.org/shu/osa/bible/latin/23-ISA-029.html> (referer: https://media.ipsapps.org/shu/osa/bible/latin/23-ISA-028.html)\n",
      "2025-05-04 13:50:04 [scrapy.core.engine] DEBUG: Crawled (200) <GET https://media.ipsapps.org/shu/osa/bible/latin/23-ISA-030.html> (referer: https://media.ipsapps.org/shu/osa/bible/latin/23-ISA-029.html)\n",
      "2025-05-04 13:50:04 [scrapy.core.engine] DEBUG: Crawled (200) <GET https://media.ipsapps.org/shu/osa/bible/latin/23-ISA-031.html> (referer: https://media.ipsapps.org/shu/osa/bible/latin/23-ISA-030.html)\n",
      "2025-05-04 13:50:05 [scrapy.core.engine] DEBUG: Crawled (200) <GET https://media.ipsapps.org/shu/osa/bible/latin/23-ISA-032.html> (referer: https://media.ipsapps.org/shu/osa/bible/latin/23-ISA-031.html)\n",
      "2025-05-04 13:50:06 [scrapy.core.engine] DEBUG: Crawled (200) <GET https://media.ipsapps.org/shu/osa/bible/latin/23-ISA-033.html> (referer: https://media.ipsapps.org/shu/osa/bible/latin/23-ISA-032.html)\n",
      "2025-05-04 13:50:07 [scrapy.core.engine] DEBUG: Crawled (200) <GET https://media.ipsapps.org/shu/osa/bible/latin/23-ISA-034.html> (referer: https://media.ipsapps.org/shu/osa/bible/latin/23-ISA-033.html)\n",
      "2025-05-04 13:50:07 [scrapy.core.engine] DEBUG: Crawled (200) <GET https://media.ipsapps.org/shu/osa/bible/latin/23-ISA-035.html> (referer: https://media.ipsapps.org/shu/osa/bible/latin/23-ISA-034.html)\n",
      "2025-05-04 13:50:08 [scrapy.core.engine] DEBUG: Crawled (200) <GET https://media.ipsapps.org/shu/osa/bible/latin/23-ISA-036.html> (referer: https://media.ipsapps.org/shu/osa/bible/latin/23-ISA-035.html)\n",
      "2025-05-04 13:50:09 [scrapy.core.engine] DEBUG: Crawled (200) <GET https://media.ipsapps.org/shu/osa/bible/latin/23-ISA-037.html> (referer: https://media.ipsapps.org/shu/osa/bible/latin/23-ISA-036.html)\n",
      "2025-05-04 13:50:10 [scrapy.core.engine] DEBUG: Crawled (200) <GET https://media.ipsapps.org/shu/osa/bible/latin/23-ISA-038.html> (referer: https://media.ipsapps.org/shu/osa/bible/latin/23-ISA-037.html)\n",
      "2025-05-04 13:50:11 [scrapy.core.engine] DEBUG: Crawled (200) <GET https://media.ipsapps.org/shu/osa/bible/latin/23-ISA-039.html> (referer: https://media.ipsapps.org/shu/osa/bible/latin/23-ISA-038.html)\n",
      "2025-05-04 13:50:12 [scrapy.core.engine] DEBUG: Crawled (200) <GET https://media.ipsapps.org/shu/osa/bible/latin/23-ISA-040.html> (referer: https://media.ipsapps.org/shu/osa/bible/latin/23-ISA-039.html)\n",
      "2025-05-04 13:50:12 [scrapy.core.engine] DEBUG: Crawled (200) <GET https://media.ipsapps.org/shu/osa/bible/latin/23-ISA-041.html> (referer: https://media.ipsapps.org/shu/osa/bible/latin/23-ISA-040.html)\n",
      "2025-05-04 13:50:13 [scrapy.core.engine] DEBUG: Crawled (200) <GET https://media.ipsapps.org/shu/osa/bible/latin/23-ISA-042.html> (referer: https://media.ipsapps.org/shu/osa/bible/latin/23-ISA-041.html)\n",
      "2025-05-04 13:50:14 [scrapy.core.engine] DEBUG: Crawled (200) <GET https://media.ipsapps.org/shu/osa/bible/latin/23-ISA-043.html> (referer: https://media.ipsapps.org/shu/osa/bible/latin/23-ISA-042.html)\n",
      "2025-05-04 13:50:15 [scrapy.core.engine] DEBUG: Crawled (200) <GET https://media.ipsapps.org/shu/osa/bible/latin/23-ISA-044.html> (referer: https://media.ipsapps.org/shu/osa/bible/latin/23-ISA-043.html)\n",
      "2025-05-04 13:50:16 [scrapy.core.engine] DEBUG: Crawled (200) <GET https://media.ipsapps.org/shu/osa/bible/latin/23-ISA-045.html> (referer: https://media.ipsapps.org/shu/osa/bible/latin/23-ISA-044.html)\n",
      "2025-05-04 13:50:17 [scrapy.core.engine] DEBUG: Crawled (200) <GET https://media.ipsapps.org/shu/osa/bible/latin/23-ISA-046.html> (referer: https://media.ipsapps.org/shu/osa/bible/latin/23-ISA-045.html)\n",
      "2025-05-04 13:50:17 [scrapy.core.engine] DEBUG: Crawled (200) <GET https://media.ipsapps.org/shu/osa/bible/latin/23-ISA-047.html> (referer: https://media.ipsapps.org/shu/osa/bible/latin/23-ISA-046.html)\n",
      "2025-05-04 13:50:18 [scrapy.core.engine] DEBUG: Crawled (200) <GET https://media.ipsapps.org/shu/osa/bible/latin/23-ISA-048.html> (referer: https://media.ipsapps.org/shu/osa/bible/latin/23-ISA-047.html)\n",
      "2025-05-04 13:50:19 [scrapy.core.engine] DEBUG: Crawled (200) <GET https://media.ipsapps.org/shu/osa/bible/latin/23-ISA-049.html> (referer: https://media.ipsapps.org/shu/osa/bible/latin/23-ISA-048.html)\n",
      "2025-05-04 13:50:20 [scrapy.core.engine] DEBUG: Crawled (200) <GET https://media.ipsapps.org/shu/osa/bible/latin/23-ISA-050.html> (referer: https://media.ipsapps.org/shu/osa/bible/latin/23-ISA-049.html)\n",
      "2025-05-04 13:50:20 [scrapy.core.engine] DEBUG: Crawled (200) <GET https://media.ipsapps.org/shu/osa/bible/latin/23-ISA-051.html> (referer: https://media.ipsapps.org/shu/osa/bible/latin/23-ISA-050.html)\n",
      "2025-05-04 13:50:21 [scrapy.core.engine] DEBUG: Crawled (200) <GET https://media.ipsapps.org/shu/osa/bible/latin/23-ISA-052.html> (referer: https://media.ipsapps.org/shu/osa/bible/latin/23-ISA-051.html)\n",
      "2025-05-04 13:50:22 [scrapy.core.engine] DEBUG: Crawled (200) <GET https://media.ipsapps.org/shu/osa/bible/latin/23-ISA-053.html> (referer: https://media.ipsapps.org/shu/osa/bible/latin/23-ISA-052.html)\n",
      "2025-05-04 13:50:23 [scrapy.core.engine] DEBUG: Crawled (200) <GET https://media.ipsapps.org/shu/osa/bible/latin/23-ISA-054.html> (referer: https://media.ipsapps.org/shu/osa/bible/latin/23-ISA-053.html)\n",
      "2025-05-04 13:50:23 [scrapy.core.engine] DEBUG: Crawled (200) <GET https://media.ipsapps.org/shu/osa/bible/latin/23-ISA-055.html> (referer: https://media.ipsapps.org/shu/osa/bible/latin/23-ISA-054.html)\n",
      "2025-05-04 13:50:24 [scrapy.core.engine] DEBUG: Crawled (200) <GET https://media.ipsapps.org/shu/osa/bible/latin/23-ISA-056.html> (referer: https://media.ipsapps.org/shu/osa/bible/latin/23-ISA-055.html)\n",
      "2025-05-04 13:50:25 [scrapy.core.engine] DEBUG: Crawled (200) <GET https://media.ipsapps.org/shu/osa/bible/latin/23-ISA-057.html> (referer: https://media.ipsapps.org/shu/osa/bible/latin/23-ISA-056.html)\n",
      "2025-05-04 13:50:26 [scrapy.core.engine] DEBUG: Crawled (200) <GET https://media.ipsapps.org/shu/osa/bible/latin/23-ISA-058.html> (referer: https://media.ipsapps.org/shu/osa/bible/latin/23-ISA-057.html)\n",
      "2025-05-04 13:50:26 [scrapy.core.engine] DEBUG: Crawled (200) <GET https://media.ipsapps.org/shu/osa/bible/latin/23-ISA-059.html> (referer: https://media.ipsapps.org/shu/osa/bible/latin/23-ISA-058.html)\n",
      "2025-05-04 13:50:27 [scrapy.core.engine] DEBUG: Crawled (200) <GET https://media.ipsapps.org/shu/osa/bible/latin/23-ISA-060.html> (referer: https://media.ipsapps.org/shu/osa/bible/latin/23-ISA-059.html)\n",
      "2025-05-04 13:50:28 [scrapy.core.engine] DEBUG: Crawled (200) <GET https://media.ipsapps.org/shu/osa/bible/latin/23-ISA-061.html> (referer: https://media.ipsapps.org/shu/osa/bible/latin/23-ISA-060.html)\n",
      "2025-05-04 13:50:28 [scrapy.extensions.logstats] INFO: Crawled 762 pages (at 75 pages/min), scraped 0 items (at 0 items/min)\n",
      "2025-05-04 13:50:28 [scrapy.core.engine] DEBUG: Crawled (200) <GET https://media.ipsapps.org/shu/osa/bible/latin/23-ISA-062.html> (referer: https://media.ipsapps.org/shu/osa/bible/latin/23-ISA-061.html)\n",
      "2025-05-04 13:50:29 [scrapy.core.engine] DEBUG: Crawled (200) <GET https://media.ipsapps.org/shu/osa/bible/latin/23-ISA-063.html> (referer: https://media.ipsapps.org/shu/osa/bible/latin/23-ISA-062.html)\n",
      "2025-05-04 13:50:30 [scrapy.core.engine] DEBUG: Crawled (200) <GET https://media.ipsapps.org/shu/osa/bible/latin/23-ISA-064.html> (referer: https://media.ipsapps.org/shu/osa/bible/latin/23-ISA-063.html)\n",
      "2025-05-04 13:50:31 [scrapy.core.engine] DEBUG: Crawled (200) <GET https://media.ipsapps.org/shu/osa/bible/latin/23-ISA-065.html> (referer: https://media.ipsapps.org/shu/osa/bible/latin/23-ISA-064.html)\n",
      "2025-05-04 13:50:31 [scrapy.core.engine] DEBUG: Crawled (200) <GET https://media.ipsapps.org/shu/osa/bible/latin/23-ISA-066.html> (referer: https://media.ipsapps.org/shu/osa/bible/latin/23-ISA-065.html)\n",
      "2025-05-04 13:50:32 [scrapy.core.engine] DEBUG: Crawled (200) <GET https://media.ipsapps.org/shu/osa/bible/latin/24-JER-000.html> (referer: https://media.ipsapps.org/shu/osa/bible/latin/23-ISA-066.html)\n",
      "2025-05-04 13:50:33 [scrapy.core.engine] DEBUG: Crawled (200) <GET https://media.ipsapps.org/shu/osa/bible/latin/24-JER-001.html> (referer: https://media.ipsapps.org/shu/osa/bible/latin/24-JER-000.html)\n",
      "2025-05-04 13:50:34 [scrapy.core.engine] DEBUG: Crawled (200) <GET https://media.ipsapps.org/shu/osa/bible/latin/24-JER-002.html> (referer: https://media.ipsapps.org/shu/osa/bible/latin/24-JER-001.html)\n",
      "2025-05-04 13:50:34 [scrapy.core.engine] DEBUG: Crawled (200) <GET https://media.ipsapps.org/shu/osa/bible/latin/24-JER-003.html> (referer: https://media.ipsapps.org/shu/osa/bible/latin/24-JER-002.html)\n",
      "2025-05-04 13:50:35 [scrapy.core.engine] DEBUG: Crawled (200) <GET https://media.ipsapps.org/shu/osa/bible/latin/24-JER-004.html> (referer: https://media.ipsapps.org/shu/osa/bible/latin/24-JER-003.html)\n",
      "2025-05-04 13:50:36 [scrapy.core.engine] DEBUG: Crawled (200) <GET https://media.ipsapps.org/shu/osa/bible/latin/24-JER-005.html> (referer: https://media.ipsapps.org/shu/osa/bible/latin/24-JER-004.html)\n",
      "2025-05-04 13:50:37 [scrapy.core.engine] DEBUG: Crawled (200) <GET https://media.ipsapps.org/shu/osa/bible/latin/24-JER-006.html> (referer: https://media.ipsapps.org/shu/osa/bible/latin/24-JER-005.html)\n",
      "2025-05-04 13:50:37 [scrapy.core.engine] DEBUG: Crawled (200) <GET https://media.ipsapps.org/shu/osa/bible/latin/24-JER-007.html> (referer: https://media.ipsapps.org/shu/osa/bible/latin/24-JER-006.html)\n",
      "2025-05-04 13:50:38 [scrapy.core.engine] DEBUG: Crawled (200) <GET https://media.ipsapps.org/shu/osa/bible/latin/24-JER-008.html> (referer: https://media.ipsapps.org/shu/osa/bible/latin/24-JER-007.html)\n",
      "2025-05-04 13:50:39 [scrapy.core.engine] DEBUG: Crawled (200) <GET https://media.ipsapps.org/shu/osa/bible/latin/24-JER-009.html> (referer: https://media.ipsapps.org/shu/osa/bible/latin/24-JER-008.html)\n",
      "2025-05-04 13:50:40 [scrapy.core.engine] DEBUG: Crawled (200) <GET https://media.ipsapps.org/shu/osa/bible/latin/24-JER-010.html> (referer: https://media.ipsapps.org/shu/osa/bible/latin/24-JER-009.html)\n",
      "2025-05-04 13:50:41 [scrapy.core.engine] DEBUG: Crawled (200) <GET https://media.ipsapps.org/shu/osa/bible/latin/24-JER-011.html> (referer: https://media.ipsapps.org/shu/osa/bible/latin/24-JER-010.html)\n",
      "2025-05-04 13:50:42 [scrapy.core.engine] DEBUG: Crawled (200) <GET https://media.ipsapps.org/shu/osa/bible/latin/24-JER-012.html> (referer: https://media.ipsapps.org/shu/osa/bible/latin/24-JER-011.html)\n",
      "2025-05-04 13:50:43 [scrapy.core.engine] DEBUG: Crawled (200) <GET https://media.ipsapps.org/shu/osa/bible/latin/24-JER-013.html> (referer: https://media.ipsapps.org/shu/osa/bible/latin/24-JER-012.html)\n",
      "2025-05-04 13:50:43 [scrapy.core.engine] DEBUG: Crawled (200) <GET https://media.ipsapps.org/shu/osa/bible/latin/24-JER-014.html> (referer: https://media.ipsapps.org/shu/osa/bible/latin/24-JER-013.html)\n",
      "2025-05-04 13:50:44 [scrapy.core.engine] DEBUG: Crawled (200) <GET https://media.ipsapps.org/shu/osa/bible/latin/24-JER-015.html> (referer: https://media.ipsapps.org/shu/osa/bible/latin/24-JER-014.html)\n",
      "2025-05-04 13:50:45 [scrapy.core.engine] DEBUG: Crawled (200) <GET https://media.ipsapps.org/shu/osa/bible/latin/24-JER-016.html> (referer: https://media.ipsapps.org/shu/osa/bible/latin/24-JER-015.html)\n",
      "2025-05-04 13:50:45 [scrapy.core.engine] DEBUG: Crawled (200) <GET https://media.ipsapps.org/shu/osa/bible/latin/24-JER-017.html> (referer: https://media.ipsapps.org/shu/osa/bible/latin/24-JER-016.html)\n",
      "2025-05-04 13:50:46 [scrapy.core.engine] DEBUG: Crawled (200) <GET https://media.ipsapps.org/shu/osa/bible/latin/24-JER-018.html> (referer: https://media.ipsapps.org/shu/osa/bible/latin/24-JER-017.html)\n",
      "2025-05-04 13:50:47 [scrapy.core.engine] DEBUG: Crawled (200) <GET https://media.ipsapps.org/shu/osa/bible/latin/24-JER-019.html> (referer: https://media.ipsapps.org/shu/osa/bible/latin/24-JER-018.html)\n",
      "2025-05-04 13:50:47 [scrapy.core.engine] DEBUG: Crawled (200) <GET https://media.ipsapps.org/shu/osa/bible/latin/24-JER-020.html> (referer: https://media.ipsapps.org/shu/osa/bible/latin/24-JER-019.html)\n",
      "2025-05-04 13:50:49 [scrapy.core.engine] DEBUG: Crawled (200) <GET https://media.ipsapps.org/shu/osa/bible/latin/24-JER-021.html> (referer: https://media.ipsapps.org/shu/osa/bible/latin/24-JER-020.html)\n",
      "2025-05-04 13:50:49 [scrapy.core.engine] DEBUG: Crawled (200) <GET https://media.ipsapps.org/shu/osa/bible/latin/24-JER-022.html> (referer: https://media.ipsapps.org/shu/osa/bible/latin/24-JER-021.html)\n",
      "2025-05-04 13:50:50 [scrapy.core.engine] DEBUG: Crawled (200) <GET https://media.ipsapps.org/shu/osa/bible/latin/24-JER-023.html> (referer: https://media.ipsapps.org/shu/osa/bible/latin/24-JER-022.html)\n",
      "2025-05-04 13:50:51 [scrapy.core.engine] DEBUG: Crawled (200) <GET https://media.ipsapps.org/shu/osa/bible/latin/24-JER-024.html> (referer: https://media.ipsapps.org/shu/osa/bible/latin/24-JER-023.html)\n",
      "2025-05-04 13:50:52 [scrapy.core.engine] DEBUG: Crawled (200) <GET https://media.ipsapps.org/shu/osa/bible/latin/24-JER-025.html> (referer: https://media.ipsapps.org/shu/osa/bible/latin/24-JER-024.html)\n",
      "2025-05-04 13:50:52 [scrapy.core.engine] DEBUG: Crawled (200) <GET https://media.ipsapps.org/shu/osa/bible/latin/24-JER-026.html> (referer: https://media.ipsapps.org/shu/osa/bible/latin/24-JER-025.html)\n",
      "2025-05-04 13:50:53 [scrapy.core.engine] DEBUG: Crawled (200) <GET https://media.ipsapps.org/shu/osa/bible/latin/24-JER-027.html> (referer: https://media.ipsapps.org/shu/osa/bible/latin/24-JER-026.html)\n",
      "2025-05-04 13:50:54 [scrapy.core.engine] DEBUG: Crawled (200) <GET https://media.ipsapps.org/shu/osa/bible/latin/24-JER-028.html> (referer: https://media.ipsapps.org/shu/osa/bible/latin/24-JER-027.html)\n",
      "2025-05-04 13:50:55 [scrapy.core.engine] DEBUG: Crawled (200) <GET https://media.ipsapps.org/shu/osa/bible/latin/24-JER-029.html> (referer: https://media.ipsapps.org/shu/osa/bible/latin/24-JER-028.html)\n",
      "2025-05-04 13:50:56 [scrapy.core.engine] DEBUG: Crawled (200) <GET https://media.ipsapps.org/shu/osa/bible/latin/24-JER-030.html> (referer: https://media.ipsapps.org/shu/osa/bible/latin/24-JER-029.html)\n",
      "2025-05-04 13:50:56 [scrapy.core.engine] DEBUG: Crawled (200) <GET https://media.ipsapps.org/shu/osa/bible/latin/24-JER-031.html> (referer: https://media.ipsapps.org/shu/osa/bible/latin/24-JER-030.html)\n",
      "2025-05-04 13:50:57 [scrapy.core.engine] DEBUG: Crawled (200) <GET https://media.ipsapps.org/shu/osa/bible/latin/24-JER-032.html> (referer: https://media.ipsapps.org/shu/osa/bible/latin/24-JER-031.html)\n",
      "2025-05-04 13:50:58 [scrapy.core.engine] DEBUG: Crawled (200) <GET https://media.ipsapps.org/shu/osa/bible/latin/24-JER-033.html> (referer: https://media.ipsapps.org/shu/osa/bible/latin/24-JER-032.html)\n",
      "2025-05-04 13:50:58 [scrapy.core.engine] DEBUG: Crawled (200) <GET https://media.ipsapps.org/shu/osa/bible/latin/24-JER-034.html> (referer: https://media.ipsapps.org/shu/osa/bible/latin/24-JER-033.html)\n",
      "2025-05-04 13:50:59 [scrapy.core.engine] DEBUG: Crawled (200) <GET https://media.ipsapps.org/shu/osa/bible/latin/24-JER-035.html> (referer: https://media.ipsapps.org/shu/osa/bible/latin/24-JER-034.html)\n",
      "2025-05-04 13:51:00 [scrapy.core.engine] DEBUG: Crawled (200) <GET https://media.ipsapps.org/shu/osa/bible/latin/24-JER-036.html> (referer: https://media.ipsapps.org/shu/osa/bible/latin/24-JER-035.html)\n",
      "2025-05-04 13:51:01 [scrapy.core.engine] DEBUG: Crawled (200) <GET https://media.ipsapps.org/shu/osa/bible/latin/24-JER-037.html> (referer: https://media.ipsapps.org/shu/osa/bible/latin/24-JER-036.html)\n",
      "2025-05-04 13:51:01 [scrapy.core.engine] DEBUG: Crawled (200) <GET https://media.ipsapps.org/shu/osa/bible/latin/24-JER-038.html> (referer: https://media.ipsapps.org/shu/osa/bible/latin/24-JER-037.html)\n",
      "2025-05-04 13:51:02 [scrapy.core.engine] DEBUG: Crawled (200) <GET https://media.ipsapps.org/shu/osa/bible/latin/24-JER-039.html> (referer: https://media.ipsapps.org/shu/osa/bible/latin/24-JER-038.html)\n",
      "2025-05-04 13:51:03 [scrapy.core.engine] DEBUG: Crawled (200) <GET https://media.ipsapps.org/shu/osa/bible/latin/24-JER-040.html> (referer: https://media.ipsapps.org/shu/osa/bible/latin/24-JER-039.html)\n",
      "2025-05-04 13:51:03 [scrapy.core.engine] DEBUG: Crawled (200) <GET https://media.ipsapps.org/shu/osa/bible/latin/24-JER-041.html> (referer: https://media.ipsapps.org/shu/osa/bible/latin/24-JER-040.html)\n",
      "2025-05-04 13:51:04 [scrapy.core.engine] DEBUG: Crawled (200) <GET https://media.ipsapps.org/shu/osa/bible/latin/24-JER-042.html> (referer: https://media.ipsapps.org/shu/osa/bible/latin/24-JER-041.html)\n",
      "2025-05-04 13:51:05 [scrapy.core.engine] DEBUG: Crawled (200) <GET https://media.ipsapps.org/shu/osa/bible/latin/24-JER-043.html> (referer: https://media.ipsapps.org/shu/osa/bible/latin/24-JER-042.html)\n",
      "2025-05-04 13:51:05 [scrapy.core.engine] DEBUG: Crawled (200) <GET https://media.ipsapps.org/shu/osa/bible/latin/24-JER-044.html> (referer: https://media.ipsapps.org/shu/osa/bible/latin/24-JER-043.html)\n",
      "2025-05-04 13:51:06 [scrapy.core.engine] DEBUG: Crawled (200) <GET https://media.ipsapps.org/shu/osa/bible/latin/24-JER-045.html> (referer: https://media.ipsapps.org/shu/osa/bible/latin/24-JER-044.html)\n",
      "2025-05-04 13:51:07 [scrapy.core.engine] DEBUG: Crawled (200) <GET https://media.ipsapps.org/shu/osa/bible/latin/24-JER-046.html> (referer: https://media.ipsapps.org/shu/osa/bible/latin/24-JER-045.html)\n",
      "2025-05-04 13:51:08 [scrapy.core.engine] DEBUG: Crawled (200) <GET https://media.ipsapps.org/shu/osa/bible/latin/24-JER-047.html> (referer: https://media.ipsapps.org/shu/osa/bible/latin/24-JER-046.html)\n",
      "2025-05-04 13:51:09 [scrapy.core.engine] DEBUG: Crawled (200) <GET https://media.ipsapps.org/shu/osa/bible/latin/24-JER-048.html> (referer: https://media.ipsapps.org/shu/osa/bible/latin/24-JER-047.html)\n",
      "2025-05-04 13:51:10 [scrapy.core.engine] DEBUG: Crawled (200) <GET https://media.ipsapps.org/shu/osa/bible/latin/24-JER-049.html> (referer: https://media.ipsapps.org/shu/osa/bible/latin/24-JER-048.html)\n",
      "2025-05-04 13:51:11 [scrapy.core.engine] DEBUG: Crawled (200) <GET https://media.ipsapps.org/shu/osa/bible/latin/24-JER-050.html> (referer: https://media.ipsapps.org/shu/osa/bible/latin/24-JER-049.html)\n",
      "2025-05-04 13:51:11 [scrapy.core.engine] DEBUG: Crawled (200) <GET https://media.ipsapps.org/shu/osa/bible/latin/24-JER-051.html> (referer: https://media.ipsapps.org/shu/osa/bible/latin/24-JER-050.html)\n",
      "2025-05-04 13:51:12 [scrapy.core.engine] DEBUG: Crawled (200) <GET https://media.ipsapps.org/shu/osa/bible/latin/24-JER-052.html> (referer: https://media.ipsapps.org/shu/osa/bible/latin/24-JER-051.html)\n",
      "2025-05-04 13:51:13 [scrapy.core.engine] DEBUG: Crawled (200) <GET https://media.ipsapps.org/shu/osa/bible/latin/25-LAM-000.html> (referer: https://media.ipsapps.org/shu/osa/bible/latin/24-JER-052.html)\n",
      "2025-05-04 13:51:14 [scrapy.core.engine] DEBUG: Crawled (200) <GET https://media.ipsapps.org/shu/osa/bible/latin/25-LAM-001.html> (referer: https://media.ipsapps.org/shu/osa/bible/latin/25-LAM-000.html)\n",
      "2025-05-04 13:51:14 [scrapy.core.engine] DEBUG: Crawled (200) <GET https://media.ipsapps.org/shu/osa/bible/latin/25-LAM-002.html> (referer: https://media.ipsapps.org/shu/osa/bible/latin/25-LAM-001.html)\n",
      "2025-05-04 13:51:15 [scrapy.core.engine] DEBUG: Crawled (200) <GET https://media.ipsapps.org/shu/osa/bible/latin/25-LAM-003.html> (referer: https://media.ipsapps.org/shu/osa/bible/latin/25-LAM-002.html)\n",
      "2025-05-04 13:51:16 [scrapy.core.engine] DEBUG: Crawled (200) <GET https://media.ipsapps.org/shu/osa/bible/latin/25-LAM-004.html> (referer: https://media.ipsapps.org/shu/osa/bible/latin/25-LAM-003.html)\n",
      "2025-05-04 13:51:17 [scrapy.core.engine] DEBUG: Crawled (200) <GET https://media.ipsapps.org/shu/osa/bible/latin/25-LAM-005.html> (referer: https://media.ipsapps.org/shu/osa/bible/latin/25-LAM-004.html)\n",
      "2025-05-04 13:51:17 [scrapy.core.engine] DEBUG: Crawled (200) <GET https://media.ipsapps.org/shu/osa/bible/latin/26-EZK-000.html> (referer: https://media.ipsapps.org/shu/osa/bible/latin/25-LAM-005.html)\n",
      "2025-05-04 13:51:18 [scrapy.core.engine] DEBUG: Crawled (200) <GET https://media.ipsapps.org/shu/osa/bible/latin/26-EZK-001.html> (referer: https://media.ipsapps.org/shu/osa/bible/latin/26-EZK-000.html)\n",
      "2025-05-04 13:51:19 [scrapy.core.engine] DEBUG: Crawled (200) <GET https://media.ipsapps.org/shu/osa/bible/latin/26-EZK-002.html> (referer: https://media.ipsapps.org/shu/osa/bible/latin/26-EZK-001.html)\n",
      "2025-05-04 13:51:20 [scrapy.core.engine] DEBUG: Crawled (200) <GET https://media.ipsapps.org/shu/osa/bible/latin/26-EZK-003.html> (referer: https://media.ipsapps.org/shu/osa/bible/latin/26-EZK-002.html)\n",
      "2025-05-04 13:51:20 [scrapy.core.engine] DEBUG: Crawled (200) <GET https://media.ipsapps.org/shu/osa/bible/latin/26-EZK-004.html> (referer: https://media.ipsapps.org/shu/osa/bible/latin/26-EZK-003.html)\n",
      "2025-05-04 13:51:21 [scrapy.core.engine] DEBUG: Crawled (200) <GET https://media.ipsapps.org/shu/osa/bible/latin/26-EZK-005.html> (referer: https://media.ipsapps.org/shu/osa/bible/latin/26-EZK-004.html)\n",
      "2025-05-04 13:51:22 [scrapy.core.engine] DEBUG: Crawled (200) <GET https://media.ipsapps.org/shu/osa/bible/latin/26-EZK-006.html> (referer: https://media.ipsapps.org/shu/osa/bible/latin/26-EZK-005.html)\n",
      "2025-05-04 13:51:23 [scrapy.core.engine] DEBUG: Crawled (200) <GET https://media.ipsapps.org/shu/osa/bible/latin/26-EZK-007.html> (referer: https://media.ipsapps.org/shu/osa/bible/latin/26-EZK-006.html)\n",
      "2025-05-04 13:51:24 [scrapy.core.engine] DEBUG: Crawled (200) <GET https://media.ipsapps.org/shu/osa/bible/latin/26-EZK-008.html> (referer: https://media.ipsapps.org/shu/osa/bible/latin/26-EZK-007.html)\n",
      "2025-05-04 13:51:25 [scrapy.core.engine] DEBUG: Crawled (200) <GET https://media.ipsapps.org/shu/osa/bible/latin/26-EZK-009.html> (referer: https://media.ipsapps.org/shu/osa/bible/latin/26-EZK-008.html)\n",
      "2025-05-04 13:51:26 [scrapy.core.engine] DEBUG: Crawled (200) <GET https://media.ipsapps.org/shu/osa/bible/latin/26-EZK-010.html> (referer: https://media.ipsapps.org/shu/osa/bible/latin/26-EZK-009.html)\n",
      "2025-05-04 13:51:27 [scrapy.core.engine] DEBUG: Crawled (200) <GET https://media.ipsapps.org/shu/osa/bible/latin/26-EZK-011.html> (referer: https://media.ipsapps.org/shu/osa/bible/latin/26-EZK-010.html)\n",
      "2025-05-04 13:51:28 [scrapy.core.engine] DEBUG: Crawled (200) <GET https://media.ipsapps.org/shu/osa/bible/latin/26-EZK-012.html> (referer: https://media.ipsapps.org/shu/osa/bible/latin/26-EZK-011.html)\n",
      "2025-05-04 13:51:28 [scrapy.extensions.logstats] INFO: Crawled 839 pages (at 77 pages/min), scraped 0 items (at 0 items/min)\n",
      "2025-05-04 13:51:29 [scrapy.core.engine] DEBUG: Crawled (200) <GET https://media.ipsapps.org/shu/osa/bible/latin/26-EZK-013.html> (referer: https://media.ipsapps.org/shu/osa/bible/latin/26-EZK-012.html)\n",
      "2025-05-04 13:51:29 [scrapy.core.engine] DEBUG: Crawled (200) <GET https://media.ipsapps.org/shu/osa/bible/latin/26-EZK-014.html> (referer: https://media.ipsapps.org/shu/osa/bible/latin/26-EZK-013.html)\n",
      "2025-05-04 13:51:30 [scrapy.core.engine] DEBUG: Crawled (200) <GET https://media.ipsapps.org/shu/osa/bible/latin/26-EZK-015.html> (referer: https://media.ipsapps.org/shu/osa/bible/latin/26-EZK-014.html)\n",
      "2025-05-04 13:51:31 [scrapy.core.engine] DEBUG: Crawled (200) <GET https://media.ipsapps.org/shu/osa/bible/latin/26-EZK-016.html> (referer: https://media.ipsapps.org/shu/osa/bible/latin/26-EZK-015.html)\n",
      "2025-05-04 13:51:32 [scrapy.core.engine] DEBUG: Crawled (200) <GET https://media.ipsapps.org/shu/osa/bible/latin/26-EZK-017.html> (referer: https://media.ipsapps.org/shu/osa/bible/latin/26-EZK-016.html)\n",
      "2025-05-04 13:51:32 [scrapy.core.engine] DEBUG: Crawled (200) <GET https://media.ipsapps.org/shu/osa/bible/latin/26-EZK-018.html> (referer: https://media.ipsapps.org/shu/osa/bible/latin/26-EZK-017.html)\n",
      "2025-05-04 13:51:33 [scrapy.core.engine] DEBUG: Crawled (200) <GET https://media.ipsapps.org/shu/osa/bible/latin/26-EZK-019.html> (referer: https://media.ipsapps.org/shu/osa/bible/latin/26-EZK-018.html)\n",
      "2025-05-04 13:51:34 [scrapy.core.engine] DEBUG: Crawled (200) <GET https://media.ipsapps.org/shu/osa/bible/latin/26-EZK-020.html> (referer: https://media.ipsapps.org/shu/osa/bible/latin/26-EZK-019.html)\n",
      "2025-05-04 13:51:35 [scrapy.core.engine] DEBUG: Crawled (200) <GET https://media.ipsapps.org/shu/osa/bible/latin/26-EZK-021.html> (referer: https://media.ipsapps.org/shu/osa/bible/latin/26-EZK-020.html)\n",
      "2025-05-04 13:51:36 [scrapy.core.engine] DEBUG: Crawled (200) <GET https://media.ipsapps.org/shu/osa/bible/latin/26-EZK-022.html> (referer: https://media.ipsapps.org/shu/osa/bible/latin/26-EZK-021.html)\n",
      "2025-05-04 13:51:36 [scrapy.core.engine] DEBUG: Crawled (200) <GET https://media.ipsapps.org/shu/osa/bible/latin/26-EZK-023.html> (referer: https://media.ipsapps.org/shu/osa/bible/latin/26-EZK-022.html)\n",
      "2025-05-04 13:51:37 [scrapy.core.engine] DEBUG: Crawled (200) <GET https://media.ipsapps.org/shu/osa/bible/latin/26-EZK-024.html> (referer: https://media.ipsapps.org/shu/osa/bible/latin/26-EZK-023.html)\n",
      "2025-05-04 13:51:38 [scrapy.core.engine] DEBUG: Crawled (200) <GET https://media.ipsapps.org/shu/osa/bible/latin/26-EZK-025.html> (referer: https://media.ipsapps.org/shu/osa/bible/latin/26-EZK-024.html)\n",
      "2025-05-04 13:51:39 [scrapy.core.engine] DEBUG: Crawled (200) <GET https://media.ipsapps.org/shu/osa/bible/latin/26-EZK-026.html> (referer: https://media.ipsapps.org/shu/osa/bible/latin/26-EZK-025.html)\n",
      "2025-05-04 13:51:40 [scrapy.core.engine] DEBUG: Crawled (200) <GET https://media.ipsapps.org/shu/osa/bible/latin/26-EZK-027.html> (referer: https://media.ipsapps.org/shu/osa/bible/latin/26-EZK-026.html)\n",
      "2025-05-04 13:51:41 [scrapy.core.engine] DEBUG: Crawled (200) <GET https://media.ipsapps.org/shu/osa/bible/latin/26-EZK-028.html> (referer: https://media.ipsapps.org/shu/osa/bible/latin/26-EZK-027.html)\n",
      "2025-05-04 13:51:42 [scrapy.core.engine] DEBUG: Crawled (200) <GET https://media.ipsapps.org/shu/osa/bible/latin/26-EZK-029.html> (referer: https://media.ipsapps.org/shu/osa/bible/latin/26-EZK-028.html)\n",
      "2025-05-04 13:51:42 [scrapy.core.engine] DEBUG: Crawled (200) <GET https://media.ipsapps.org/shu/osa/bible/latin/26-EZK-030.html> (referer: https://media.ipsapps.org/shu/osa/bible/latin/26-EZK-029.html)\n",
      "2025-05-04 13:51:43 [scrapy.core.engine] DEBUG: Crawled (200) <GET https://media.ipsapps.org/shu/osa/bible/latin/26-EZK-031.html> (referer: https://media.ipsapps.org/shu/osa/bible/latin/26-EZK-030.html)\n",
      "2025-05-04 13:51:44 [scrapy.core.engine] DEBUG: Crawled (200) <GET https://media.ipsapps.org/shu/osa/bible/latin/26-EZK-032.html> (referer: https://media.ipsapps.org/shu/osa/bible/latin/26-EZK-031.html)\n",
      "2025-05-04 13:51:45 [scrapy.core.engine] DEBUG: Crawled (200) <GET https://media.ipsapps.org/shu/osa/bible/latin/26-EZK-033.html> (referer: https://media.ipsapps.org/shu/osa/bible/latin/26-EZK-032.html)\n",
      "2025-05-04 13:51:45 [scrapy.core.engine] DEBUG: Crawled (200) <GET https://media.ipsapps.org/shu/osa/bible/latin/26-EZK-034.html> (referer: https://media.ipsapps.org/shu/osa/bible/latin/26-EZK-033.html)\n",
      "2025-05-04 13:51:46 [scrapy.core.engine] DEBUG: Crawled (200) <GET https://media.ipsapps.org/shu/osa/bible/latin/26-EZK-035.html> (referer: https://media.ipsapps.org/shu/osa/bible/latin/26-EZK-034.html)\n",
      "2025-05-04 13:51:47 [scrapy.core.engine] DEBUG: Crawled (200) <GET https://media.ipsapps.org/shu/osa/bible/latin/26-EZK-036.html> (referer: https://media.ipsapps.org/shu/osa/bible/latin/26-EZK-035.html)\n",
      "2025-05-04 13:51:47 [scrapy.core.engine] DEBUG: Crawled (200) <GET https://media.ipsapps.org/shu/osa/bible/latin/26-EZK-037.html> (referer: https://media.ipsapps.org/shu/osa/bible/latin/26-EZK-036.html)\n",
      "2025-05-04 13:51:48 [scrapy.core.engine] DEBUG: Crawled (200) <GET https://media.ipsapps.org/shu/osa/bible/latin/26-EZK-038.html> (referer: https://media.ipsapps.org/shu/osa/bible/latin/26-EZK-037.html)\n",
      "2025-05-04 13:51:49 [scrapy.core.engine] DEBUG: Crawled (200) <GET https://media.ipsapps.org/shu/osa/bible/latin/26-EZK-039.html> (referer: https://media.ipsapps.org/shu/osa/bible/latin/26-EZK-038.html)\n",
      "2025-05-04 13:51:50 [scrapy.core.engine] DEBUG: Crawled (200) <GET https://media.ipsapps.org/shu/osa/bible/latin/26-EZK-040.html> (referer: https://media.ipsapps.org/shu/osa/bible/latin/26-EZK-039.html)\n",
      "2025-05-04 13:51:50 [scrapy.core.engine] DEBUG: Crawled (200) <GET https://media.ipsapps.org/shu/osa/bible/latin/26-EZK-041.html> (referer: https://media.ipsapps.org/shu/osa/bible/latin/26-EZK-040.html)\n",
      "2025-05-04 13:51:51 [scrapy.core.engine] DEBUG: Crawled (200) <GET https://media.ipsapps.org/shu/osa/bible/latin/26-EZK-042.html> (referer: https://media.ipsapps.org/shu/osa/bible/latin/26-EZK-041.html)\n",
      "2025-05-04 13:51:52 [scrapy.core.engine] DEBUG: Crawled (200) <GET https://media.ipsapps.org/shu/osa/bible/latin/26-EZK-043.html> (referer: https://media.ipsapps.org/shu/osa/bible/latin/26-EZK-042.html)\n",
      "2025-05-04 13:51:53 [scrapy.core.engine] DEBUG: Crawled (200) <GET https://media.ipsapps.org/shu/osa/bible/latin/26-EZK-044.html> (referer: https://media.ipsapps.org/shu/osa/bible/latin/26-EZK-043.html)\n",
      "2025-05-04 13:51:54 [scrapy.core.engine] DEBUG: Crawled (200) <GET https://media.ipsapps.org/shu/osa/bible/latin/26-EZK-045.html> (referer: https://media.ipsapps.org/shu/osa/bible/latin/26-EZK-044.html)\n",
      "2025-05-04 13:51:54 [scrapy.core.engine] DEBUG: Crawled (200) <GET https://media.ipsapps.org/shu/osa/bible/latin/26-EZK-046.html> (referer: https://media.ipsapps.org/shu/osa/bible/latin/26-EZK-045.html)\n",
      "2025-05-04 13:51:55 [scrapy.core.engine] DEBUG: Crawled (200) <GET https://media.ipsapps.org/shu/osa/bible/latin/26-EZK-047.html> (referer: https://media.ipsapps.org/shu/osa/bible/latin/26-EZK-046.html)\n",
      "2025-05-04 13:51:56 [scrapy.core.engine] DEBUG: Crawled (200) <GET https://media.ipsapps.org/shu/osa/bible/latin/26-EZK-048.html> (referer: https://media.ipsapps.org/shu/osa/bible/latin/26-EZK-047.html)\n",
      "2025-05-04 13:51:57 [scrapy.core.engine] DEBUG: Crawled (200) <GET https://media.ipsapps.org/shu/osa/bible/latin/27-DAN-000.html> (referer: https://media.ipsapps.org/shu/osa/bible/latin/26-EZK-048.html)\n",
      "2025-05-04 13:51:57 [scrapy.core.engine] DEBUG: Crawled (200) <GET https://media.ipsapps.org/shu/osa/bible/latin/27-DAN-001.html> (referer: https://media.ipsapps.org/shu/osa/bible/latin/27-DAN-000.html)\n",
      "2025-05-04 13:51:58 [scrapy.core.engine] DEBUG: Crawled (200) <GET https://media.ipsapps.org/shu/osa/bible/latin/27-DAN-002.html> (referer: https://media.ipsapps.org/shu/osa/bible/latin/27-DAN-001.html)\n",
      "2025-05-04 13:51:59 [scrapy.core.engine] DEBUG: Crawled (200) <GET https://media.ipsapps.org/shu/osa/bible/latin/27-DAN-003.html> (referer: https://media.ipsapps.org/shu/osa/bible/latin/27-DAN-002.html)\n",
      "2025-05-04 13:52:00 [scrapy.core.engine] DEBUG: Crawled (200) <GET https://media.ipsapps.org/shu/osa/bible/latin/27-DAN-004.html> (referer: https://media.ipsapps.org/shu/osa/bible/latin/27-DAN-003.html)\n",
      "2025-05-04 13:52:01 [scrapy.core.engine] DEBUG: Crawled (200) <GET https://media.ipsapps.org/shu/osa/bible/latin/27-DAN-005.html> (referer: https://media.ipsapps.org/shu/osa/bible/latin/27-DAN-004.html)\n",
      "2025-05-04 13:52:02 [scrapy.core.engine] DEBUG: Crawled (200) <GET https://media.ipsapps.org/shu/osa/bible/latin/27-DAN-006.html> (referer: https://media.ipsapps.org/shu/osa/bible/latin/27-DAN-005.html)\n",
      "2025-05-04 13:52:02 [scrapy.core.engine] DEBUG: Crawled (200) <GET https://media.ipsapps.org/shu/osa/bible/latin/27-DAN-007.html> (referer: https://media.ipsapps.org/shu/osa/bible/latin/27-DAN-006.html)\n",
      "2025-05-04 13:52:04 [scrapy.core.engine] DEBUG: Crawled (200) <GET https://media.ipsapps.org/shu/osa/bible/latin/27-DAN-008.html> (referer: https://media.ipsapps.org/shu/osa/bible/latin/27-DAN-007.html)\n",
      "2025-05-04 13:52:05 [scrapy.core.engine] DEBUG: Crawled (200) <GET https://media.ipsapps.org/shu/osa/bible/latin/27-DAN-009.html> (referer: https://media.ipsapps.org/shu/osa/bible/latin/27-DAN-008.html)\n",
      "2025-05-04 13:52:06 [scrapy.core.engine] DEBUG: Crawled (200) <GET https://media.ipsapps.org/shu/osa/bible/latin/27-DAN-010.html> (referer: https://media.ipsapps.org/shu/osa/bible/latin/27-DAN-009.html)\n",
      "2025-05-04 13:52:06 [scrapy.core.engine] DEBUG: Crawled (200) <GET https://media.ipsapps.org/shu/osa/bible/latin/27-DAN-011.html> (referer: https://media.ipsapps.org/shu/osa/bible/latin/27-DAN-010.html)\n",
      "2025-05-04 13:52:07 [scrapy.core.engine] DEBUG: Crawled (200) <GET https://media.ipsapps.org/shu/osa/bible/latin/27-DAN-012.html> (referer: https://media.ipsapps.org/shu/osa/bible/latin/27-DAN-011.html)\n",
      "2025-05-04 13:52:08 [scrapy.core.engine] DEBUG: Crawled (200) <GET https://media.ipsapps.org/shu/osa/bible/latin/28-HOS-000.html> (referer: https://media.ipsapps.org/shu/osa/bible/latin/27-DAN-012.html)\n",
      "2025-05-04 13:52:08 [scrapy.core.engine] DEBUG: Crawled (200) <GET https://media.ipsapps.org/shu/osa/bible/latin/28-HOS-001.html> (referer: https://media.ipsapps.org/shu/osa/bible/latin/28-HOS-000.html)\n",
      "2025-05-04 13:52:09 [scrapy.core.engine] DEBUG: Crawled (200) <GET https://media.ipsapps.org/shu/osa/bible/latin/28-HOS-002.html> (referer: https://media.ipsapps.org/shu/osa/bible/latin/28-HOS-001.html)\n",
      "2025-05-04 13:52:10 [scrapy.core.engine] DEBUG: Crawled (200) <GET https://media.ipsapps.org/shu/osa/bible/latin/28-HOS-003.html> (referer: https://media.ipsapps.org/shu/osa/bible/latin/28-HOS-002.html)\n",
      "2025-05-04 13:52:10 [scrapy.core.engine] DEBUG: Crawled (200) <GET https://media.ipsapps.org/shu/osa/bible/latin/28-HOS-004.html> (referer: https://media.ipsapps.org/shu/osa/bible/latin/28-HOS-003.html)\n",
      "2025-05-04 13:52:11 [scrapy.core.engine] DEBUG: Crawled (200) <GET https://media.ipsapps.org/shu/osa/bible/latin/28-HOS-005.html> (referer: https://media.ipsapps.org/shu/osa/bible/latin/28-HOS-004.html)\n",
      "2025-05-04 13:52:12 [scrapy.core.engine] DEBUG: Crawled (200) <GET https://media.ipsapps.org/shu/osa/bible/latin/28-HOS-006.html> (referer: https://media.ipsapps.org/shu/osa/bible/latin/28-HOS-005.html)\n",
      "2025-05-04 13:52:13 [scrapy.core.engine] DEBUG: Crawled (200) <GET https://media.ipsapps.org/shu/osa/bible/latin/28-HOS-007.html> (referer: https://media.ipsapps.org/shu/osa/bible/latin/28-HOS-006.html)\n",
      "2025-05-04 13:52:14 [scrapy.core.engine] DEBUG: Crawled (200) <GET https://media.ipsapps.org/shu/osa/bible/latin/28-HOS-008.html> (referer: https://media.ipsapps.org/shu/osa/bible/latin/28-HOS-007.html)\n",
      "2025-05-04 13:52:14 [scrapy.core.engine] DEBUG: Crawled (200) <GET https://media.ipsapps.org/shu/osa/bible/latin/28-HOS-009.html> (referer: https://media.ipsapps.org/shu/osa/bible/latin/28-HOS-008.html)\n",
      "2025-05-04 13:52:16 [scrapy.core.engine] DEBUG: Crawled (200) <GET https://media.ipsapps.org/shu/osa/bible/latin/28-HOS-010.html> (referer: https://media.ipsapps.org/shu/osa/bible/latin/28-HOS-009.html)\n",
      "2025-05-04 13:52:16 [scrapy.core.engine] DEBUG: Crawled (200) <GET https://media.ipsapps.org/shu/osa/bible/latin/28-HOS-011.html> (referer: https://media.ipsapps.org/shu/osa/bible/latin/28-HOS-010.html)\n",
      "2025-05-04 13:52:17 [scrapy.core.engine] DEBUG: Crawled (200) <GET https://media.ipsapps.org/shu/osa/bible/latin/28-HOS-012.html> (referer: https://media.ipsapps.org/shu/osa/bible/latin/28-HOS-011.html)\n",
      "2025-05-04 13:52:18 [scrapy.core.engine] DEBUG: Crawled (200) <GET https://media.ipsapps.org/shu/osa/bible/latin/28-HOS-013.html> (referer: https://media.ipsapps.org/shu/osa/bible/latin/28-HOS-012.html)\n",
      "2025-05-04 13:52:18 [scrapy.core.engine] DEBUG: Crawled (200) <GET https://media.ipsapps.org/shu/osa/bible/latin/28-HOS-014.html> (referer: https://media.ipsapps.org/shu/osa/bible/latin/28-HOS-013.html)\n",
      "2025-05-04 13:52:19 [scrapy.core.engine] DEBUG: Crawled (200) <GET https://media.ipsapps.org/shu/osa/bible/latin/29-JOL-000.html> (referer: https://media.ipsapps.org/shu/osa/bible/latin/28-HOS-014.html)\n",
      "2025-05-04 13:52:20 [scrapy.core.engine] DEBUG: Crawled (200) <GET https://media.ipsapps.org/shu/osa/bible/latin/29-JOL-001.html> (referer: https://media.ipsapps.org/shu/osa/bible/latin/29-JOL-000.html)\n",
      "2025-05-04 13:52:20 [scrapy.core.engine] DEBUG: Crawled (200) <GET https://media.ipsapps.org/shu/osa/bible/latin/29-JOL-002.html> (referer: https://media.ipsapps.org/shu/osa/bible/latin/29-JOL-001.html)\n",
      "2025-05-04 13:52:22 [scrapy.core.engine] DEBUG: Crawled (200) <GET https://media.ipsapps.org/shu/osa/bible/latin/29-JOL-003.html> (referer: https://media.ipsapps.org/shu/osa/bible/latin/29-JOL-002.html)\n",
      "2025-05-04 13:52:22 [scrapy.core.engine] DEBUG: Crawled (200) <GET https://media.ipsapps.org/shu/osa/bible/latin/30-AMO-000.html> (referer: https://media.ipsapps.org/shu/osa/bible/latin/29-JOL-003.html)\n",
      "2025-05-04 13:52:23 [scrapy.core.engine] DEBUG: Crawled (200) <GET https://media.ipsapps.org/shu/osa/bible/latin/30-AMO-001.html> (referer: https://media.ipsapps.org/shu/osa/bible/latin/30-AMO-000.html)\n",
      "2025-05-04 13:52:24 [scrapy.core.engine] DEBUG: Crawled (200) <GET https://media.ipsapps.org/shu/osa/bible/latin/30-AMO-002.html> (referer: https://media.ipsapps.org/shu/osa/bible/latin/30-AMO-001.html)\n",
      "2025-05-04 13:52:24 [scrapy.core.engine] DEBUG: Crawled (200) <GET https://media.ipsapps.org/shu/osa/bible/latin/30-AMO-003.html> (referer: https://media.ipsapps.org/shu/osa/bible/latin/30-AMO-002.html)\n",
      "2025-05-04 13:52:25 [scrapy.core.engine] DEBUG: Crawled (200) <GET https://media.ipsapps.org/shu/osa/bible/latin/30-AMO-004.html> (referer: https://media.ipsapps.org/shu/osa/bible/latin/30-AMO-003.html)\n",
      "2025-05-04 13:52:26 [scrapy.core.engine] DEBUG: Crawled (200) <GET https://media.ipsapps.org/shu/osa/bible/latin/30-AMO-005.html> (referer: https://media.ipsapps.org/shu/osa/bible/latin/30-AMO-004.html)\n",
      "2025-05-04 13:52:26 [scrapy.core.engine] DEBUG: Crawled (200) <GET https://media.ipsapps.org/shu/osa/bible/latin/30-AMO-006.html> (referer: https://media.ipsapps.org/shu/osa/bible/latin/30-AMO-005.html)\n",
      "2025-05-04 13:52:27 [scrapy.core.engine] DEBUG: Crawled (200) <GET https://media.ipsapps.org/shu/osa/bible/latin/30-AMO-007.html> (referer: https://media.ipsapps.org/shu/osa/bible/latin/30-AMO-006.html)\n",
      "2025-05-04 13:52:28 [scrapy.core.engine] DEBUG: Crawled (200) <GET https://media.ipsapps.org/shu/osa/bible/latin/30-AMO-008.html> (referer: https://media.ipsapps.org/shu/osa/bible/latin/30-AMO-007.html)\n",
      "2025-05-04 13:52:28 [scrapy.extensions.logstats] INFO: Crawled 916 pages (at 77 pages/min), scraped 0 items (at 0 items/min)\n",
      "2025-05-04 13:52:29 [scrapy.core.engine] DEBUG: Crawled (200) <GET https://media.ipsapps.org/shu/osa/bible/latin/30-AMO-009.html> (referer: https://media.ipsapps.org/shu/osa/bible/latin/30-AMO-008.html)\n",
      "2025-05-04 13:52:29 [scrapy.core.engine] DEBUG: Crawled (200) <GET https://media.ipsapps.org/shu/osa/bible/latin/31-OBA-000.html> (referer: https://media.ipsapps.org/shu/osa/bible/latin/30-AMO-009.html)\n",
      "2025-05-04 13:52:30 [scrapy.core.engine] DEBUG: Crawled (200) <GET https://media.ipsapps.org/shu/osa/bible/latin/31-OBA-001.html> (referer: https://media.ipsapps.org/shu/osa/bible/latin/31-OBA-000.html)\n",
      "2025-05-04 13:52:31 [scrapy.core.engine] DEBUG: Crawled (200) <GET https://media.ipsapps.org/shu/osa/bible/latin/32-JON-000.html> (referer: https://media.ipsapps.org/shu/osa/bible/latin/31-OBA-001.html)\n",
      "2025-05-04 13:52:32 [scrapy.core.engine] DEBUG: Crawled (200) <GET https://media.ipsapps.org/shu/osa/bible/latin/32-JON-001.html> (referer: https://media.ipsapps.org/shu/osa/bible/latin/32-JON-000.html)\n",
      "2025-05-04 13:52:33 [scrapy.core.engine] DEBUG: Crawled (200) <GET https://media.ipsapps.org/shu/osa/bible/latin/32-JON-002.html> (referer: https://media.ipsapps.org/shu/osa/bible/latin/32-JON-001.html)\n",
      "2025-05-04 13:52:33 [scrapy.core.engine] DEBUG: Crawled (200) <GET https://media.ipsapps.org/shu/osa/bible/latin/32-JON-003.html> (referer: https://media.ipsapps.org/shu/osa/bible/latin/32-JON-002.html)\n",
      "2025-05-04 13:52:34 [scrapy.core.engine] DEBUG: Crawled (200) <GET https://media.ipsapps.org/shu/osa/bible/latin/32-JON-004.html> (referer: https://media.ipsapps.org/shu/osa/bible/latin/32-JON-003.html)\n",
      "2025-05-04 13:52:35 [scrapy.core.engine] DEBUG: Crawled (200) <GET https://media.ipsapps.org/shu/osa/bible/latin/33-MIC-000.html> (referer: https://media.ipsapps.org/shu/osa/bible/latin/32-JON-004.html)\n",
      "2025-05-04 13:52:36 [scrapy.core.engine] DEBUG: Crawled (200) <GET https://media.ipsapps.org/shu/osa/bible/latin/33-MIC-001.html> (referer: https://media.ipsapps.org/shu/osa/bible/latin/33-MIC-000.html)\n",
      "2025-05-04 13:52:37 [scrapy.core.engine] DEBUG: Crawled (200) <GET https://media.ipsapps.org/shu/osa/bible/latin/33-MIC-002.html> (referer: https://media.ipsapps.org/shu/osa/bible/latin/33-MIC-001.html)\n",
      "2025-05-04 13:52:38 [scrapy.core.engine] DEBUG: Crawled (200) <GET https://media.ipsapps.org/shu/osa/bible/latin/33-MIC-003.html> (referer: https://media.ipsapps.org/shu/osa/bible/latin/33-MIC-002.html)\n",
      "2025-05-04 13:52:39 [scrapy.core.engine] DEBUG: Crawled (200) <GET https://media.ipsapps.org/shu/osa/bible/latin/33-MIC-004.html> (referer: https://media.ipsapps.org/shu/osa/bible/latin/33-MIC-003.html)\n",
      "2025-05-04 13:52:40 [scrapy.core.engine] DEBUG: Crawled (200) <GET https://media.ipsapps.org/shu/osa/bible/latin/33-MIC-005.html> (referer: https://media.ipsapps.org/shu/osa/bible/latin/33-MIC-004.html)\n",
      "2025-05-04 13:52:40 [scrapy.core.engine] DEBUG: Crawled (200) <GET https://media.ipsapps.org/shu/osa/bible/latin/33-MIC-006.html> (referer: https://media.ipsapps.org/shu/osa/bible/latin/33-MIC-005.html)\n",
      "2025-05-04 13:52:41 [scrapy.core.engine] DEBUG: Crawled (200) <GET https://media.ipsapps.org/shu/osa/bible/latin/33-MIC-007.html> (referer: https://media.ipsapps.org/shu/osa/bible/latin/33-MIC-006.html)\n",
      "2025-05-04 13:52:41 [scrapy.core.engine] DEBUG: Crawled (200) <GET https://media.ipsapps.org/shu/osa/bible/latin/34-NAM-000.html> (referer: https://media.ipsapps.org/shu/osa/bible/latin/33-MIC-007.html)\n",
      "2025-05-04 13:52:42 [scrapy.core.engine] DEBUG: Crawled (200) <GET https://media.ipsapps.org/shu/osa/bible/latin/34-NAM-001.html> (referer: https://media.ipsapps.org/shu/osa/bible/latin/34-NAM-000.html)\n",
      "2025-05-04 13:52:43 [scrapy.core.engine] DEBUG: Crawled (200) <GET https://media.ipsapps.org/shu/osa/bible/latin/34-NAM-002.html> (referer: https://media.ipsapps.org/shu/osa/bible/latin/34-NAM-001.html)\n",
      "2025-05-04 13:52:44 [scrapy.core.engine] DEBUG: Crawled (200) <GET https://media.ipsapps.org/shu/osa/bible/latin/34-NAM-003.html> (referer: https://media.ipsapps.org/shu/osa/bible/latin/34-NAM-002.html)\n",
      "2025-05-04 13:52:44 [scrapy.core.engine] DEBUG: Crawled (200) <GET https://media.ipsapps.org/shu/osa/bible/latin/35-HAB-000.html> (referer: https://media.ipsapps.org/shu/osa/bible/latin/34-NAM-003.html)\n",
      "2025-05-04 13:52:45 [scrapy.core.engine] DEBUG: Crawled (200) <GET https://media.ipsapps.org/shu/osa/bible/latin/35-HAB-001.html> (referer: https://media.ipsapps.org/shu/osa/bible/latin/35-HAB-000.html)\n",
      "2025-05-04 13:52:47 [scrapy.core.engine] DEBUG: Crawled (200) <GET https://media.ipsapps.org/shu/osa/bible/latin/35-HAB-002.html> (referer: https://media.ipsapps.org/shu/osa/bible/latin/35-HAB-001.html)\n",
      "2025-05-04 13:52:47 [scrapy.core.engine] DEBUG: Crawled (200) <GET https://media.ipsapps.org/shu/osa/bible/latin/35-HAB-003.html> (referer: https://media.ipsapps.org/shu/osa/bible/latin/35-HAB-002.html)\n",
      "2025-05-04 13:52:48 [scrapy.core.engine] DEBUG: Crawled (200) <GET https://media.ipsapps.org/shu/osa/bible/latin/36-ZEP-000.html> (referer: https://media.ipsapps.org/shu/osa/bible/latin/35-HAB-003.html)\n",
      "2025-05-04 13:52:49 [scrapy.core.engine] DEBUG: Crawled (200) <GET https://media.ipsapps.org/shu/osa/bible/latin/36-ZEP-001.html> (referer: https://media.ipsapps.org/shu/osa/bible/latin/36-ZEP-000.html)\n",
      "2025-05-04 13:52:50 [scrapy.core.engine] DEBUG: Crawled (200) <GET https://media.ipsapps.org/shu/osa/bible/latin/36-ZEP-002.html> (referer: https://media.ipsapps.org/shu/osa/bible/latin/36-ZEP-001.html)\n",
      "2025-05-04 13:52:51 [scrapy.core.engine] DEBUG: Crawled (200) <GET https://media.ipsapps.org/shu/osa/bible/latin/36-ZEP-003.html> (referer: https://media.ipsapps.org/shu/osa/bible/latin/36-ZEP-002.html)\n",
      "2025-05-04 13:52:51 [scrapy.core.engine] DEBUG: Crawled (200) <GET https://media.ipsapps.org/shu/osa/bible/latin/37-HAG-000.html> (referer: https://media.ipsapps.org/shu/osa/bible/latin/36-ZEP-003.html)\n",
      "2025-05-04 13:52:52 [scrapy.core.engine] DEBUG: Crawled (200) <GET https://media.ipsapps.org/shu/osa/bible/latin/37-HAG-001.html> (referer: https://media.ipsapps.org/shu/osa/bible/latin/37-HAG-000.html)\n",
      "2025-05-04 13:52:52 [scrapy.core.engine] DEBUG: Crawled (200) <GET https://media.ipsapps.org/shu/osa/bible/latin/37-HAG-002.html> (referer: https://media.ipsapps.org/shu/osa/bible/latin/37-HAG-001.html)\n",
      "2025-05-04 13:52:53 [scrapy.core.engine] DEBUG: Crawled (200) <GET https://media.ipsapps.org/shu/osa/bible/latin/38-ZEC-000.html> (referer: https://media.ipsapps.org/shu/osa/bible/latin/37-HAG-002.html)\n",
      "2025-05-04 13:52:54 [scrapy.core.engine] DEBUG: Crawled (200) <GET https://media.ipsapps.org/shu/osa/bible/latin/38-ZEC-001.html> (referer: https://media.ipsapps.org/shu/osa/bible/latin/38-ZEC-000.html)\n",
      "2025-05-04 13:52:55 [scrapy.core.engine] DEBUG: Crawled (200) <GET https://media.ipsapps.org/shu/osa/bible/latin/38-ZEC-002.html> (referer: https://media.ipsapps.org/shu/osa/bible/latin/38-ZEC-001.html)\n",
      "2025-05-04 13:52:55 [scrapy.core.engine] DEBUG: Crawled (200) <GET https://media.ipsapps.org/shu/osa/bible/latin/38-ZEC-003.html> (referer: https://media.ipsapps.org/shu/osa/bible/latin/38-ZEC-002.html)\n",
      "2025-05-04 13:52:56 [scrapy.core.engine] DEBUG: Crawled (200) <GET https://media.ipsapps.org/shu/osa/bible/latin/38-ZEC-004.html> (referer: https://media.ipsapps.org/shu/osa/bible/latin/38-ZEC-003.html)\n",
      "2025-05-04 13:52:57 [scrapy.core.engine] DEBUG: Crawled (200) <GET https://media.ipsapps.org/shu/osa/bible/latin/38-ZEC-005.html> (referer: https://media.ipsapps.org/shu/osa/bible/latin/38-ZEC-004.html)\n",
      "2025-05-04 13:52:58 [scrapy.core.engine] DEBUG: Crawled (200) <GET https://media.ipsapps.org/shu/osa/bible/latin/38-ZEC-006.html> (referer: https://media.ipsapps.org/shu/osa/bible/latin/38-ZEC-005.html)\n",
      "2025-05-04 13:52:58 [scrapy.core.engine] DEBUG: Crawled (200) <GET https://media.ipsapps.org/shu/osa/bible/latin/38-ZEC-007.html> (referer: https://media.ipsapps.org/shu/osa/bible/latin/38-ZEC-006.html)\n",
      "2025-05-04 13:52:59 [scrapy.core.engine] DEBUG: Crawled (200) <GET https://media.ipsapps.org/shu/osa/bible/latin/38-ZEC-008.html> (referer: https://media.ipsapps.org/shu/osa/bible/latin/38-ZEC-007.html)\n",
      "2025-05-04 13:53:00 [scrapy.core.engine] DEBUG: Crawled (200) <GET https://media.ipsapps.org/shu/osa/bible/latin/38-ZEC-009.html> (referer: https://media.ipsapps.org/shu/osa/bible/latin/38-ZEC-008.html)\n",
      "2025-05-04 13:53:01 [scrapy.core.engine] DEBUG: Crawled (200) <GET https://media.ipsapps.org/shu/osa/bible/latin/38-ZEC-010.html> (referer: https://media.ipsapps.org/shu/osa/bible/latin/38-ZEC-009.html)\n",
      "2025-05-04 13:53:01 [scrapy.core.engine] DEBUG: Crawled (200) <GET https://media.ipsapps.org/shu/osa/bible/latin/38-ZEC-011.html> (referer: https://media.ipsapps.org/shu/osa/bible/latin/38-ZEC-010.html)\n",
      "2025-05-04 13:53:02 [scrapy.core.engine] DEBUG: Crawled (200) <GET https://media.ipsapps.org/shu/osa/bible/latin/38-ZEC-012.html> (referer: https://media.ipsapps.org/shu/osa/bible/latin/38-ZEC-011.html)\n",
      "2025-05-04 13:53:03 [scrapy.core.engine] DEBUG: Crawled (200) <GET https://media.ipsapps.org/shu/osa/bible/latin/38-ZEC-013.html> (referer: https://media.ipsapps.org/shu/osa/bible/latin/38-ZEC-012.html)\n",
      "2025-05-04 13:53:04 [scrapy.core.engine] DEBUG: Crawled (200) <GET https://media.ipsapps.org/shu/osa/bible/latin/38-ZEC-014.html> (referer: https://media.ipsapps.org/shu/osa/bible/latin/38-ZEC-013.html)\n",
      "2025-05-04 13:53:05 [scrapy.core.engine] DEBUG: Crawled (200) <GET https://media.ipsapps.org/shu/osa/bible/latin/39-MAL-000.html> (referer: https://media.ipsapps.org/shu/osa/bible/latin/38-ZEC-014.html)\n",
      "2025-05-04 13:53:06 [scrapy.core.engine] DEBUG: Crawled (200) <GET https://media.ipsapps.org/shu/osa/bible/latin/39-MAL-001.html> (referer: https://media.ipsapps.org/shu/osa/bible/latin/39-MAL-000.html)\n",
      "2025-05-04 13:53:07 [scrapy.core.engine] DEBUG: Crawled (200) <GET https://media.ipsapps.org/shu/osa/bible/latin/39-MAL-002.html> (referer: https://media.ipsapps.org/shu/osa/bible/latin/39-MAL-001.html)\n",
      "2025-05-04 13:53:08 [scrapy.core.engine] DEBUG: Crawled (200) <GET https://media.ipsapps.org/shu/osa/bible/latin/39-MAL-003.html> (referer: https://media.ipsapps.org/shu/osa/bible/latin/39-MAL-002.html)\n",
      "2025-05-04 13:53:08 [scrapy.core.engine] DEBUG: Crawled (200) <GET https://media.ipsapps.org/shu/osa/bible/latin/39-MAL-004.html> (referer: https://media.ipsapps.org/shu/osa/bible/latin/39-MAL-003.html)\n",
      "2025-05-04 13:53:09 [scrapy.core.engine] DEBUG: Crawled (200) <GET https://media.ipsapps.org/shu/osa/bible/latin/00-INT3-000.html> (referer: https://media.ipsapps.org/shu/osa/bible/latin/39-MAL-004.html)\n",
      "2025-05-04 13:53:10 [scrapy.core.engine] DEBUG: Crawled (200) <GET https://media.ipsapps.org/shu/osa/bible/latin/40-MAT-000.html> (referer: https://media.ipsapps.org/shu/osa/bible/latin/00-INT3-000.html)\n",
      "2025-05-04 13:53:11 [scrapy.core.engine] DEBUG: Crawled (200) <GET https://media.ipsapps.org/shu/osa/bible/latin/40-MAT-001.html> (referer: https://media.ipsapps.org/shu/osa/bible/latin/40-MAT-000.html)\n",
      "2025-05-04 13:53:12 [scrapy.core.engine] DEBUG: Crawled (200) <GET https://media.ipsapps.org/shu/osa/bible/latin/40-MAT-002.html> (referer: https://media.ipsapps.org/shu/osa/bible/latin/40-MAT-001.html)\n",
      "2025-05-04 13:53:12 [scrapy.core.engine] DEBUG: Crawled (200) <GET https://media.ipsapps.org/shu/osa/bible/latin/40-MAT-003.html> (referer: https://media.ipsapps.org/shu/osa/bible/latin/40-MAT-002.html)\n",
      "2025-05-04 13:53:14 [scrapy.core.engine] DEBUG: Crawled (200) <GET https://media.ipsapps.org/shu/osa/bible/latin/40-MAT-004.html> (referer: https://media.ipsapps.org/shu/osa/bible/latin/40-MAT-003.html)\n",
      "2025-05-04 13:53:15 [scrapy.core.engine] DEBUG: Crawled (200) <GET https://media.ipsapps.org/shu/osa/bible/latin/40-MAT-005.html> (referer: https://media.ipsapps.org/shu/osa/bible/latin/40-MAT-004.html)\n",
      "2025-05-04 13:53:16 [scrapy.core.engine] DEBUG: Crawled (200) <GET https://media.ipsapps.org/shu/osa/bible/latin/40-MAT-006.html> (referer: https://media.ipsapps.org/shu/osa/bible/latin/40-MAT-005.html)\n",
      "2025-05-04 13:53:17 [scrapy.core.engine] DEBUG: Crawled (200) <GET https://media.ipsapps.org/shu/osa/bible/latin/40-MAT-007.html> (referer: https://media.ipsapps.org/shu/osa/bible/latin/40-MAT-006.html)\n",
      "2025-05-04 13:53:18 [scrapy.core.engine] DEBUG: Crawled (200) <GET https://media.ipsapps.org/shu/osa/bible/latin/40-MAT-008.html> (referer: https://media.ipsapps.org/shu/osa/bible/latin/40-MAT-007.html)\n",
      "2025-05-04 13:53:18 [scrapy.core.engine] DEBUG: Crawled (200) <GET https://media.ipsapps.org/shu/osa/bible/latin/40-MAT-009.html> (referer: https://media.ipsapps.org/shu/osa/bible/latin/40-MAT-008.html)\n",
      "2025-05-04 13:53:19 [scrapy.core.engine] DEBUG: Crawled (200) <GET https://media.ipsapps.org/shu/osa/bible/latin/40-MAT-010.html> (referer: https://media.ipsapps.org/shu/osa/bible/latin/40-MAT-009.html)\n",
      "2025-05-04 13:53:20 [scrapy.core.engine] DEBUG: Crawled (200) <GET https://media.ipsapps.org/shu/osa/bible/latin/40-MAT-011.html> (referer: https://media.ipsapps.org/shu/osa/bible/latin/40-MAT-010.html)\n",
      "2025-05-04 13:53:21 [scrapy.core.engine] DEBUG: Crawled (200) <GET https://media.ipsapps.org/shu/osa/bible/latin/40-MAT-012.html> (referer: https://media.ipsapps.org/shu/osa/bible/latin/40-MAT-011.html)\n",
      "2025-05-04 13:53:21 [scrapy.core.engine] DEBUG: Crawled (200) <GET https://media.ipsapps.org/shu/osa/bible/latin/40-MAT-013.html> (referer: https://media.ipsapps.org/shu/osa/bible/latin/40-MAT-012.html)\n",
      "2025-05-04 13:53:22 [scrapy.core.engine] DEBUG: Crawled (200) <GET https://media.ipsapps.org/shu/osa/bible/latin/40-MAT-014.html> (referer: https://media.ipsapps.org/shu/osa/bible/latin/40-MAT-013.html)\n",
      "2025-05-04 13:53:23 [scrapy.core.engine] DEBUG: Crawled (200) <GET https://media.ipsapps.org/shu/osa/bible/latin/40-MAT-015.html> (referer: https://media.ipsapps.org/shu/osa/bible/latin/40-MAT-014.html)\n",
      "2025-05-04 13:53:24 [scrapy.core.engine] DEBUG: Crawled (200) <GET https://media.ipsapps.org/shu/osa/bible/latin/40-MAT-016.html> (referer: https://media.ipsapps.org/shu/osa/bible/latin/40-MAT-015.html)\n",
      "2025-05-04 13:53:24 [scrapy.core.engine] DEBUG: Crawled (200) <GET https://media.ipsapps.org/shu/osa/bible/latin/40-MAT-017.html> (referer: https://media.ipsapps.org/shu/osa/bible/latin/40-MAT-016.html)\n",
      "2025-05-04 13:53:25 [scrapy.core.engine] DEBUG: Crawled (200) <GET https://media.ipsapps.org/shu/osa/bible/latin/40-MAT-018.html> (referer: https://media.ipsapps.org/shu/osa/bible/latin/40-MAT-017.html)\n",
      "2025-05-04 13:53:26 [scrapy.core.engine] DEBUG: Crawled (200) <GET https://media.ipsapps.org/shu/osa/bible/latin/40-MAT-019.html> (referer: https://media.ipsapps.org/shu/osa/bible/latin/40-MAT-018.html)\n",
      "2025-05-04 13:53:27 [scrapy.core.engine] DEBUG: Crawled (200) <GET https://media.ipsapps.org/shu/osa/bible/latin/40-MAT-020.html> (referer: https://media.ipsapps.org/shu/osa/bible/latin/40-MAT-019.html)\n",
      "2025-05-04 13:53:28 [scrapy.core.engine] DEBUG: Crawled (200) <GET https://media.ipsapps.org/shu/osa/bible/latin/40-MAT-021.html> (referer: https://media.ipsapps.org/shu/osa/bible/latin/40-MAT-020.html)\n",
      "2025-05-04 13:53:28 [scrapy.extensions.logstats] INFO: Crawled 990 pages (at 74 pages/min), scraped 0 items (at 0 items/min)\n",
      "2025-05-04 13:53:29 [scrapy.core.engine] DEBUG: Crawled (200) <GET https://media.ipsapps.org/shu/osa/bible/latin/40-MAT-022.html> (referer: https://media.ipsapps.org/shu/osa/bible/latin/40-MAT-021.html)\n",
      "2025-05-04 13:53:30 [scrapy.core.engine] DEBUG: Crawled (200) <GET https://media.ipsapps.org/shu/osa/bible/latin/40-MAT-023.html> (referer: https://media.ipsapps.org/shu/osa/bible/latin/40-MAT-022.html)\n",
      "2025-05-04 13:53:31 [scrapy.core.engine] DEBUG: Crawled (200) <GET https://media.ipsapps.org/shu/osa/bible/latin/40-MAT-024.html> (referer: https://media.ipsapps.org/shu/osa/bible/latin/40-MAT-023.html)\n",
      "2025-05-04 13:53:32 [scrapy.core.engine] DEBUG: Crawled (200) <GET https://media.ipsapps.org/shu/osa/bible/latin/40-MAT-025.html> (referer: https://media.ipsapps.org/shu/osa/bible/latin/40-MAT-024.html)\n",
      "2025-05-04 13:53:33 [scrapy.core.engine] DEBUG: Crawled (200) <GET https://media.ipsapps.org/shu/osa/bible/latin/40-MAT-026.html> (referer: https://media.ipsapps.org/shu/osa/bible/latin/40-MAT-025.html)\n",
      "2025-05-04 13:53:33 [scrapy.core.engine] DEBUG: Crawled (200) <GET https://media.ipsapps.org/shu/osa/bible/latin/40-MAT-027.html> (referer: https://media.ipsapps.org/shu/osa/bible/latin/40-MAT-026.html)\n",
      "2025-05-04 13:53:34 [scrapy.core.engine] DEBUG: Crawled (200) <GET https://media.ipsapps.org/shu/osa/bible/latin/40-MAT-028.html> (referer: https://media.ipsapps.org/shu/osa/bible/latin/40-MAT-027.html)\n",
      "2025-05-04 13:53:35 [scrapy.core.engine] DEBUG: Crawled (200) <GET https://media.ipsapps.org/shu/osa/bible/latin/41-MRK-000.html> (referer: https://media.ipsapps.org/shu/osa/bible/latin/40-MAT-028.html)\n",
      "2025-05-04 13:53:35 [scrapy.core.engine] DEBUG: Crawled (200) <GET https://media.ipsapps.org/shu/osa/bible/latin/41-MRK-001.html> (referer: https://media.ipsapps.org/shu/osa/bible/latin/41-MRK-000.html)\n",
      "2025-05-04 13:53:36 [scrapy.core.engine] DEBUG: Crawled (200) <GET https://media.ipsapps.org/shu/osa/bible/latin/41-MRK-002.html> (referer: https://media.ipsapps.org/shu/osa/bible/latin/41-MRK-001.html)\n",
      "2025-05-04 13:53:38 [scrapy.core.engine] DEBUG: Crawled (200) <GET https://media.ipsapps.org/shu/osa/bible/latin/41-MRK-003.html> (referer: https://media.ipsapps.org/shu/osa/bible/latin/41-MRK-002.html)\n",
      "2025-05-04 13:53:39 [scrapy.core.engine] DEBUG: Crawled (200) <GET https://media.ipsapps.org/shu/osa/bible/latin/41-MRK-004.html> (referer: https://media.ipsapps.org/shu/osa/bible/latin/41-MRK-003.html)\n",
      "2025-05-04 13:53:39 [scrapy.core.engine] DEBUG: Crawled (200) <GET https://media.ipsapps.org/shu/osa/bible/latin/41-MRK-005.html> (referer: https://media.ipsapps.org/shu/osa/bible/latin/41-MRK-004.html)\n",
      "2025-05-04 13:53:40 [scrapy.core.engine] DEBUG: Crawled (200) <GET https://media.ipsapps.org/shu/osa/bible/latin/41-MRK-006.html> (referer: https://media.ipsapps.org/shu/osa/bible/latin/41-MRK-005.html)\n",
      "2025-05-04 13:53:41 [scrapy.core.engine] DEBUG: Crawled (200) <GET https://media.ipsapps.org/shu/osa/bible/latin/41-MRK-007.html> (referer: https://media.ipsapps.org/shu/osa/bible/latin/41-MRK-006.html)\n",
      "2025-05-04 13:53:41 [scrapy.core.engine] DEBUG: Crawled (200) <GET https://media.ipsapps.org/shu/osa/bible/latin/41-MRK-008.html> (referer: https://media.ipsapps.org/shu/osa/bible/latin/41-MRK-007.html)\n",
      "2025-05-04 13:53:42 [scrapy.core.engine] DEBUG: Crawled (200) <GET https://media.ipsapps.org/shu/osa/bible/latin/41-MRK-009.html> (referer: https://media.ipsapps.org/shu/osa/bible/latin/41-MRK-008.html)\n",
      "2025-05-04 13:53:42 [scrapy.core.engine] DEBUG: Crawled (200) <GET https://media.ipsapps.org/shu/osa/bible/latin/41-MRK-010.html> (referer: https://media.ipsapps.org/shu/osa/bible/latin/41-MRK-009.html)\n",
      "2025-05-04 13:53:43 [scrapy.core.engine] DEBUG: Crawled (200) <GET https://media.ipsapps.org/shu/osa/bible/latin/41-MRK-011.html> (referer: https://media.ipsapps.org/shu/osa/bible/latin/41-MRK-010.html)\n",
      "2025-05-04 13:53:44 [scrapy.core.engine] DEBUG: Crawled (200) <GET https://media.ipsapps.org/shu/osa/bible/latin/41-MRK-012.html> (referer: https://media.ipsapps.org/shu/osa/bible/latin/41-MRK-011.html)\n",
      "2025-05-04 13:53:46 [scrapy.core.engine] DEBUG: Crawled (200) <GET https://media.ipsapps.org/shu/osa/bible/latin/41-MRK-013.html> (referer: https://media.ipsapps.org/shu/osa/bible/latin/41-MRK-012.html)\n",
      "2025-05-04 13:53:46 [scrapy.core.engine] DEBUG: Crawled (200) <GET https://media.ipsapps.org/shu/osa/bible/latin/41-MRK-014.html> (referer: https://media.ipsapps.org/shu/osa/bible/latin/41-MRK-013.html)\n",
      "2025-05-04 13:53:47 [scrapy.core.engine] DEBUG: Crawled (200) <GET https://media.ipsapps.org/shu/osa/bible/latin/41-MRK-015.html> (referer: https://media.ipsapps.org/shu/osa/bible/latin/41-MRK-014.html)\n",
      "2025-05-04 13:53:48 [scrapy.core.engine] DEBUG: Crawled (200) <GET https://media.ipsapps.org/shu/osa/bible/latin/41-MRK-016.html> (referer: https://media.ipsapps.org/shu/osa/bible/latin/41-MRK-015.html)\n",
      "2025-05-04 13:53:48 [scrapy.core.engine] DEBUG: Crawled (200) <GET https://media.ipsapps.org/shu/osa/bible/latin/42-LUK-000.html> (referer: https://media.ipsapps.org/shu/osa/bible/latin/41-MRK-016.html)\n",
      "2025-05-04 13:53:49 [scrapy.core.engine] DEBUG: Crawled (200) <GET https://media.ipsapps.org/shu/osa/bible/latin/42-LUK-001.html> (referer: https://media.ipsapps.org/shu/osa/bible/latin/42-LUK-000.html)\n",
      "2025-05-04 13:53:50 [scrapy.core.engine] DEBUG: Crawled (200) <GET https://media.ipsapps.org/shu/osa/bible/latin/42-LUK-002.html> (referer: https://media.ipsapps.org/shu/osa/bible/latin/42-LUK-001.html)\n",
      "2025-05-04 13:53:50 [scrapy.core.engine] DEBUG: Crawled (200) <GET https://media.ipsapps.org/shu/osa/bible/latin/42-LUK-003.html> (referer: https://media.ipsapps.org/shu/osa/bible/latin/42-LUK-002.html)\n",
      "2025-05-04 13:53:51 [scrapy.core.engine] DEBUG: Crawled (200) <GET https://media.ipsapps.org/shu/osa/bible/latin/42-LUK-004.html> (referer: https://media.ipsapps.org/shu/osa/bible/latin/42-LUK-003.html)\n",
      "2025-05-04 13:53:52 [scrapy.core.engine] DEBUG: Crawled (200) <GET https://media.ipsapps.org/shu/osa/bible/latin/42-LUK-005.html> (referer: https://media.ipsapps.org/shu/osa/bible/latin/42-LUK-004.html)\n",
      "2025-05-04 13:53:53 [scrapy.core.engine] DEBUG: Crawled (200) <GET https://media.ipsapps.org/shu/osa/bible/latin/42-LUK-006.html> (referer: https://media.ipsapps.org/shu/osa/bible/latin/42-LUK-005.html)\n",
      "2025-05-04 13:53:53 [scrapy.core.engine] DEBUG: Crawled (200) <GET https://media.ipsapps.org/shu/osa/bible/latin/42-LUK-007.html> (referer: https://media.ipsapps.org/shu/osa/bible/latin/42-LUK-006.html)\n",
      "2025-05-04 13:53:54 [scrapy.core.engine] DEBUG: Crawled (200) <GET https://media.ipsapps.org/shu/osa/bible/latin/42-LUK-008.html> (referer: https://media.ipsapps.org/shu/osa/bible/latin/42-LUK-007.html)\n",
      "2025-05-04 13:53:54 [scrapy.core.engine] DEBUG: Crawled (200) <GET https://media.ipsapps.org/shu/osa/bible/latin/42-LUK-009.html> (referer: https://media.ipsapps.org/shu/osa/bible/latin/42-LUK-008.html)\n",
      "2025-05-04 13:53:55 [scrapy.core.engine] DEBUG: Crawled (200) <GET https://media.ipsapps.org/shu/osa/bible/latin/42-LUK-010.html> (referer: https://media.ipsapps.org/shu/osa/bible/latin/42-LUK-009.html)\n",
      "2025-05-04 13:53:56 [scrapy.core.engine] DEBUG: Crawled (200) <GET https://media.ipsapps.org/shu/osa/bible/latin/42-LUK-011.html> (referer: https://media.ipsapps.org/shu/osa/bible/latin/42-LUK-010.html)\n",
      "2025-05-04 13:53:57 [scrapy.core.engine] DEBUG: Crawled (200) <GET https://media.ipsapps.org/shu/osa/bible/latin/42-LUK-012.html> (referer: https://media.ipsapps.org/shu/osa/bible/latin/42-LUK-011.html)\n",
      "2025-05-04 13:53:58 [scrapy.core.engine] DEBUG: Crawled (200) <GET https://media.ipsapps.org/shu/osa/bible/latin/42-LUK-013.html> (referer: https://media.ipsapps.org/shu/osa/bible/latin/42-LUK-012.html)\n",
      "2025-05-04 13:53:59 [scrapy.core.engine] DEBUG: Crawled (200) <GET https://media.ipsapps.org/shu/osa/bible/latin/42-LUK-014.html> (referer: https://media.ipsapps.org/shu/osa/bible/latin/42-LUK-013.html)\n",
      "2025-05-04 13:53:59 [scrapy.core.engine] DEBUG: Crawled (200) <GET https://media.ipsapps.org/shu/osa/bible/latin/42-LUK-015.html> (referer: https://media.ipsapps.org/shu/osa/bible/latin/42-LUK-014.html)\n",
      "2025-05-04 13:54:00 [scrapy.core.engine] DEBUG: Crawled (200) <GET https://media.ipsapps.org/shu/osa/bible/latin/42-LUK-016.html> (referer: https://media.ipsapps.org/shu/osa/bible/latin/42-LUK-015.html)\n",
      "2025-05-04 13:54:01 [scrapy.core.engine] DEBUG: Crawled (200) <GET https://media.ipsapps.org/shu/osa/bible/latin/42-LUK-017.html> (referer: https://media.ipsapps.org/shu/osa/bible/latin/42-LUK-016.html)\n",
      "2025-05-04 13:54:01 [scrapy.core.engine] DEBUG: Crawled (200) <GET https://media.ipsapps.org/shu/osa/bible/latin/42-LUK-018.html> (referer: https://media.ipsapps.org/shu/osa/bible/latin/42-LUK-017.html)\n",
      "2025-05-04 13:54:02 [scrapy.core.engine] DEBUG: Crawled (200) <GET https://media.ipsapps.org/shu/osa/bible/latin/42-LUK-019.html> (referer: https://media.ipsapps.org/shu/osa/bible/latin/42-LUK-018.html)\n",
      "2025-05-04 13:54:03 [scrapy.core.engine] DEBUG: Crawled (200) <GET https://media.ipsapps.org/shu/osa/bible/latin/42-LUK-020.html> (referer: https://media.ipsapps.org/shu/osa/bible/latin/42-LUK-019.html)\n",
      "2025-05-04 13:54:04 [scrapy.core.engine] DEBUG: Crawled (200) <GET https://media.ipsapps.org/shu/osa/bible/latin/42-LUK-021.html> (referer: https://media.ipsapps.org/shu/osa/bible/latin/42-LUK-020.html)\n",
      "2025-05-04 13:54:05 [scrapy.core.engine] DEBUG: Crawled (200) <GET https://media.ipsapps.org/shu/osa/bible/latin/42-LUK-022.html> (referer: https://media.ipsapps.org/shu/osa/bible/latin/42-LUK-021.html)\n",
      "2025-05-04 13:54:05 [scrapy.core.engine] DEBUG: Crawled (200) <GET https://media.ipsapps.org/shu/osa/bible/latin/42-LUK-023.html> (referer: https://media.ipsapps.org/shu/osa/bible/latin/42-LUK-022.html)\n",
      "2025-05-04 13:54:06 [scrapy.core.engine] DEBUG: Crawled (200) <GET https://media.ipsapps.org/shu/osa/bible/latin/42-LUK-024.html> (referer: https://media.ipsapps.org/shu/osa/bible/latin/42-LUK-023.html)\n",
      "2025-05-04 13:54:07 [scrapy.core.engine] DEBUG: Crawled (200) <GET https://media.ipsapps.org/shu/osa/bible/latin/43-JHN-000.html> (referer: https://media.ipsapps.org/shu/osa/bible/latin/42-LUK-024.html)\n",
      "2025-05-04 13:54:07 [scrapy.core.engine] DEBUG: Crawled (200) <GET https://media.ipsapps.org/shu/osa/bible/latin/43-JHN-001.html> (referer: https://media.ipsapps.org/shu/osa/bible/latin/43-JHN-000.html)\n",
      "2025-05-04 13:54:08 [scrapy.core.engine] DEBUG: Crawled (200) <GET https://media.ipsapps.org/shu/osa/bible/latin/43-JHN-002.html> (referer: https://media.ipsapps.org/shu/osa/bible/latin/43-JHN-001.html)\n",
      "2025-05-04 13:54:09 [scrapy.core.engine] DEBUG: Crawled (200) <GET https://media.ipsapps.org/shu/osa/bible/latin/43-JHN-003.html> (referer: https://media.ipsapps.org/shu/osa/bible/latin/43-JHN-002.html)\n",
      "2025-05-04 13:54:09 [scrapy.core.engine] DEBUG: Crawled (200) <GET https://media.ipsapps.org/shu/osa/bible/latin/43-JHN-004.html> (referer: https://media.ipsapps.org/shu/osa/bible/latin/43-JHN-003.html)\n",
      "2025-05-04 13:54:10 [scrapy.core.engine] DEBUG: Crawled (200) <GET https://media.ipsapps.org/shu/osa/bible/latin/43-JHN-005.html> (referer: https://media.ipsapps.org/shu/osa/bible/latin/43-JHN-004.html)\n",
      "2025-05-04 13:54:11 [scrapy.core.engine] DEBUG: Crawled (200) <GET https://media.ipsapps.org/shu/osa/bible/latin/43-JHN-006.html> (referer: https://media.ipsapps.org/shu/osa/bible/latin/43-JHN-005.html)\n",
      "2025-05-04 13:54:11 [scrapy.core.engine] DEBUG: Crawled (200) <GET https://media.ipsapps.org/shu/osa/bible/latin/43-JHN-007.html> (referer: https://media.ipsapps.org/shu/osa/bible/latin/43-JHN-006.html)\n",
      "2025-05-04 13:54:12 [scrapy.core.engine] DEBUG: Crawled (200) <GET https://media.ipsapps.org/shu/osa/bible/latin/43-JHN-008.html> (referer: https://media.ipsapps.org/shu/osa/bible/latin/43-JHN-007.html)\n",
      "2025-05-04 13:54:13 [scrapy.core.engine] DEBUG: Crawled (200) <GET https://media.ipsapps.org/shu/osa/bible/latin/43-JHN-009.html> (referer: https://media.ipsapps.org/shu/osa/bible/latin/43-JHN-008.html)\n",
      "2025-05-04 13:54:13 [scrapy.core.engine] DEBUG: Crawled (200) <GET https://media.ipsapps.org/shu/osa/bible/latin/43-JHN-010.html> (referer: https://media.ipsapps.org/shu/osa/bible/latin/43-JHN-009.html)\n",
      "2025-05-04 13:54:14 [scrapy.core.engine] DEBUG: Crawled (200) <GET https://media.ipsapps.org/shu/osa/bible/latin/43-JHN-011.html> (referer: https://media.ipsapps.org/shu/osa/bible/latin/43-JHN-010.html)\n",
      "2025-05-04 13:54:15 [scrapy.core.engine] DEBUG: Crawled (200) <GET https://media.ipsapps.org/shu/osa/bible/latin/43-JHN-012.html> (referer: https://media.ipsapps.org/shu/osa/bible/latin/43-JHN-011.html)\n",
      "2025-05-04 13:54:16 [scrapy.core.engine] DEBUG: Crawled (200) <GET https://media.ipsapps.org/shu/osa/bible/latin/43-JHN-013.html> (referer: https://media.ipsapps.org/shu/osa/bible/latin/43-JHN-012.html)\n",
      "2025-05-04 13:54:16 [scrapy.core.engine] DEBUG: Crawled (200) <GET https://media.ipsapps.org/shu/osa/bible/latin/43-JHN-014.html> (referer: https://media.ipsapps.org/shu/osa/bible/latin/43-JHN-013.html)\n",
      "2025-05-04 13:54:17 [scrapy.core.engine] DEBUG: Crawled (200) <GET https://media.ipsapps.org/shu/osa/bible/latin/43-JHN-015.html> (referer: https://media.ipsapps.org/shu/osa/bible/latin/43-JHN-014.html)\n",
      "2025-05-04 13:54:18 [scrapy.core.engine] DEBUG: Crawled (200) <GET https://media.ipsapps.org/shu/osa/bible/latin/43-JHN-016.html> (referer: https://media.ipsapps.org/shu/osa/bible/latin/43-JHN-015.html)\n",
      "2025-05-04 13:54:19 [scrapy.core.engine] DEBUG: Crawled (200) <GET https://media.ipsapps.org/shu/osa/bible/latin/43-JHN-017.html> (referer: https://media.ipsapps.org/shu/osa/bible/latin/43-JHN-016.html)\n",
      "2025-05-04 13:54:19 [scrapy.core.engine] DEBUG: Crawled (200) <GET https://media.ipsapps.org/shu/osa/bible/latin/43-JHN-018.html> (referer: https://media.ipsapps.org/shu/osa/bible/latin/43-JHN-017.html)\n",
      "2025-05-04 13:54:20 [scrapy.core.engine] DEBUG: Crawled (200) <GET https://media.ipsapps.org/shu/osa/bible/latin/43-JHN-019.html> (referer: https://media.ipsapps.org/shu/osa/bible/latin/43-JHN-018.html)\n",
      "2025-05-04 13:54:21 [scrapy.core.engine] DEBUG: Crawled (200) <GET https://media.ipsapps.org/shu/osa/bible/latin/43-JHN-020.html> (referer: https://media.ipsapps.org/shu/osa/bible/latin/43-JHN-019.html)\n",
      "2025-05-04 13:54:21 [scrapy.core.engine] DEBUG: Crawled (200) <GET https://media.ipsapps.org/shu/osa/bible/latin/43-JHN-021.html> (referer: https://media.ipsapps.org/shu/osa/bible/latin/43-JHN-020.html)\n",
      "2025-05-04 13:54:22 [scrapy.core.engine] DEBUG: Crawled (200) <GET https://media.ipsapps.org/shu/osa/bible/latin/44-ACT-000.html> (referer: https://media.ipsapps.org/shu/osa/bible/latin/43-JHN-021.html)\n",
      "2025-05-04 13:54:23 [scrapy.core.engine] DEBUG: Crawled (200) <GET https://media.ipsapps.org/shu/osa/bible/latin/44-ACT-001.html> (referer: https://media.ipsapps.org/shu/osa/bible/latin/44-ACT-000.html)\n",
      "2025-05-04 13:54:23 [scrapy.core.engine] DEBUG: Crawled (200) <GET https://media.ipsapps.org/shu/osa/bible/latin/44-ACT-002.html> (referer: https://media.ipsapps.org/shu/osa/bible/latin/44-ACT-001.html)\n",
      "2025-05-04 13:54:24 [scrapy.core.engine] DEBUG: Crawled (200) <GET https://media.ipsapps.org/shu/osa/bible/latin/44-ACT-003.html> (referer: https://media.ipsapps.org/shu/osa/bible/latin/44-ACT-002.html)\n",
      "2025-05-04 13:54:24 [scrapy.core.engine] DEBUG: Crawled (200) <GET https://media.ipsapps.org/shu/osa/bible/latin/44-ACT-004.html> (referer: https://media.ipsapps.org/shu/osa/bible/latin/44-ACT-003.html)\n",
      "2025-05-04 13:54:25 [scrapy.core.engine] DEBUG: Crawled (200) <GET https://media.ipsapps.org/shu/osa/bible/latin/44-ACT-005.html> (referer: https://media.ipsapps.org/shu/osa/bible/latin/44-ACT-004.html)\n",
      "2025-05-04 13:54:26 [scrapy.core.engine] DEBUG: Crawled (200) <GET https://media.ipsapps.org/shu/osa/bible/latin/44-ACT-006.html> (referer: https://media.ipsapps.org/shu/osa/bible/latin/44-ACT-005.html)\n",
      "2025-05-04 13:54:27 [scrapy.core.engine] DEBUG: Crawled (200) <GET https://media.ipsapps.org/shu/osa/bible/latin/44-ACT-007.html> (referer: https://media.ipsapps.org/shu/osa/bible/latin/44-ACT-006.html)\n",
      "2025-05-04 13:54:27 [scrapy.core.engine] DEBUG: Crawled (200) <GET https://media.ipsapps.org/shu/osa/bible/latin/44-ACT-008.html> (referer: https://media.ipsapps.org/shu/osa/bible/latin/44-ACT-007.html)\n",
      "2025-05-04 13:54:28 [scrapy.extensions.logstats] INFO: Crawled 1070 pages (at 80 pages/min), scraped 0 items (at 0 items/min)\n",
      "2025-05-04 13:54:28 [scrapy.core.engine] DEBUG: Crawled (200) <GET https://media.ipsapps.org/shu/osa/bible/latin/44-ACT-009.html> (referer: https://media.ipsapps.org/shu/osa/bible/latin/44-ACT-008.html)\n",
      "2025-05-04 13:54:29 [scrapy.core.engine] DEBUG: Crawled (200) <GET https://media.ipsapps.org/shu/osa/bible/latin/44-ACT-010.html> (referer: https://media.ipsapps.org/shu/osa/bible/latin/44-ACT-009.html)\n",
      "2025-05-04 13:54:30 [scrapy.core.engine] DEBUG: Crawled (200) <GET https://media.ipsapps.org/shu/osa/bible/latin/44-ACT-011.html> (referer: https://media.ipsapps.org/shu/osa/bible/latin/44-ACT-010.html)\n",
      "2025-05-04 13:54:31 [scrapy.core.engine] DEBUG: Crawled (200) <GET https://media.ipsapps.org/shu/osa/bible/latin/44-ACT-012.html> (referer: https://media.ipsapps.org/shu/osa/bible/latin/44-ACT-011.html)\n",
      "2025-05-04 13:54:32 [scrapy.core.engine] DEBUG: Crawled (200) <GET https://media.ipsapps.org/shu/osa/bible/latin/44-ACT-013.html> (referer: https://media.ipsapps.org/shu/osa/bible/latin/44-ACT-012.html)\n",
      "2025-05-04 13:54:32 [scrapy.core.engine] DEBUG: Crawled (200) <GET https://media.ipsapps.org/shu/osa/bible/latin/44-ACT-014.html> (referer: https://media.ipsapps.org/shu/osa/bible/latin/44-ACT-013.html)\n",
      "2025-05-04 13:54:33 [scrapy.core.engine] DEBUG: Crawled (200) <GET https://media.ipsapps.org/shu/osa/bible/latin/44-ACT-015.html> (referer: https://media.ipsapps.org/shu/osa/bible/latin/44-ACT-014.html)\n",
      "2025-05-04 13:54:34 [scrapy.core.engine] DEBUG: Crawled (200) <GET https://media.ipsapps.org/shu/osa/bible/latin/44-ACT-016.html> (referer: https://media.ipsapps.org/shu/osa/bible/latin/44-ACT-015.html)\n",
      "2025-05-04 13:54:34 [scrapy.core.engine] DEBUG: Crawled (200) <GET https://media.ipsapps.org/shu/osa/bible/latin/44-ACT-017.html> (referer: https://media.ipsapps.org/shu/osa/bible/latin/44-ACT-016.html)\n",
      "2025-05-04 13:54:35 [scrapy.core.engine] DEBUG: Crawled (200) <GET https://media.ipsapps.org/shu/osa/bible/latin/44-ACT-018.html> (referer: https://media.ipsapps.org/shu/osa/bible/latin/44-ACT-017.html)\n",
      "2025-05-04 13:54:36 [scrapy.core.engine] DEBUG: Crawled (200) <GET https://media.ipsapps.org/shu/osa/bible/latin/44-ACT-019.html> (referer: https://media.ipsapps.org/shu/osa/bible/latin/44-ACT-018.html)\n",
      "2025-05-04 13:54:36 [scrapy.core.engine] DEBUG: Crawled (200) <GET https://media.ipsapps.org/shu/osa/bible/latin/44-ACT-020.html> (referer: https://media.ipsapps.org/shu/osa/bible/latin/44-ACT-019.html)\n",
      "2025-05-04 13:54:37 [scrapy.core.engine] DEBUG: Crawled (200) <GET https://media.ipsapps.org/shu/osa/bible/latin/44-ACT-021.html> (referer: https://media.ipsapps.org/shu/osa/bible/latin/44-ACT-020.html)\n",
      "2025-05-04 13:54:38 [scrapy.core.engine] DEBUG: Crawled (200) <GET https://media.ipsapps.org/shu/osa/bible/latin/44-ACT-022.html> (referer: https://media.ipsapps.org/shu/osa/bible/latin/44-ACT-021.html)\n",
      "2025-05-04 13:54:38 [scrapy.core.engine] DEBUG: Crawled (200) <GET https://media.ipsapps.org/shu/osa/bible/latin/44-ACT-023.html> (referer: https://media.ipsapps.org/shu/osa/bible/latin/44-ACT-022.html)\n",
      "2025-05-04 13:54:39 [scrapy.core.engine] DEBUG: Crawled (200) <GET https://media.ipsapps.org/shu/osa/bible/latin/44-ACT-024.html> (referer: https://media.ipsapps.org/shu/osa/bible/latin/44-ACT-023.html)\n",
      "2025-05-04 13:54:40 [scrapy.core.engine] DEBUG: Crawled (200) <GET https://media.ipsapps.org/shu/osa/bible/latin/44-ACT-025.html> (referer: https://media.ipsapps.org/shu/osa/bible/latin/44-ACT-024.html)\n",
      "2025-05-04 13:54:41 [scrapy.core.engine] DEBUG: Crawled (200) <GET https://media.ipsapps.org/shu/osa/bible/latin/44-ACT-026.html> (referer: https://media.ipsapps.org/shu/osa/bible/latin/44-ACT-025.html)\n",
      "2025-05-04 13:54:42 [scrapy.core.engine] DEBUG: Crawled (200) <GET https://media.ipsapps.org/shu/osa/bible/latin/44-ACT-027.html> (referer: https://media.ipsapps.org/shu/osa/bible/latin/44-ACT-026.html)\n",
      "2025-05-04 13:54:42 [scrapy.core.engine] DEBUG: Crawled (200) <GET https://media.ipsapps.org/shu/osa/bible/latin/44-ACT-028.html> (referer: https://media.ipsapps.org/shu/osa/bible/latin/44-ACT-027.html)\n",
      "2025-05-04 13:54:43 [scrapy.core.engine] DEBUG: Crawled (200) <GET https://media.ipsapps.org/shu/osa/bible/latin/45-ROM-000.html> (referer: https://media.ipsapps.org/shu/osa/bible/latin/44-ACT-028.html)\n",
      "2025-05-04 13:54:44 [scrapy.core.engine] DEBUG: Crawled (200) <GET https://media.ipsapps.org/shu/osa/bible/latin/45-ROM-001.html> (referer: https://media.ipsapps.org/shu/osa/bible/latin/45-ROM-000.html)\n",
      "2025-05-04 13:54:44 [scrapy.core.engine] DEBUG: Crawled (200) <GET https://media.ipsapps.org/shu/osa/bible/latin/45-ROM-002.html> (referer: https://media.ipsapps.org/shu/osa/bible/latin/45-ROM-001.html)\n",
      "2025-05-04 13:54:45 [scrapy.core.engine] DEBUG: Crawled (200) <GET https://media.ipsapps.org/shu/osa/bible/latin/45-ROM-003.html> (referer: https://media.ipsapps.org/shu/osa/bible/latin/45-ROM-002.html)\n",
      "2025-05-04 13:54:47 [scrapy.core.engine] DEBUG: Crawled (200) <GET https://media.ipsapps.org/shu/osa/bible/latin/45-ROM-004.html> (referer: https://media.ipsapps.org/shu/osa/bible/latin/45-ROM-003.html)\n",
      "2025-05-04 13:54:47 [scrapy.core.engine] DEBUG: Crawled (200) <GET https://media.ipsapps.org/shu/osa/bible/latin/45-ROM-005.html> (referer: https://media.ipsapps.org/shu/osa/bible/latin/45-ROM-004.html)\n",
      "2025-05-04 13:54:48 [scrapy.core.engine] DEBUG: Crawled (200) <GET https://media.ipsapps.org/shu/osa/bible/latin/45-ROM-006.html> (referer: https://media.ipsapps.org/shu/osa/bible/latin/45-ROM-005.html)\n",
      "2025-05-04 13:54:49 [scrapy.core.engine] DEBUG: Crawled (200) <GET https://media.ipsapps.org/shu/osa/bible/latin/45-ROM-007.html> (referer: https://media.ipsapps.org/shu/osa/bible/latin/45-ROM-006.html)\n",
      "2025-05-04 13:54:50 [scrapy.core.engine] DEBUG: Crawled (200) <GET https://media.ipsapps.org/shu/osa/bible/latin/45-ROM-008.html> (referer: https://media.ipsapps.org/shu/osa/bible/latin/45-ROM-007.html)\n",
      "2025-05-04 13:54:51 [scrapy.core.engine] DEBUG: Crawled (200) <GET https://media.ipsapps.org/shu/osa/bible/latin/45-ROM-009.html> (referer: https://media.ipsapps.org/shu/osa/bible/latin/45-ROM-008.html)\n",
      "2025-05-04 13:54:51 [scrapy.core.engine] DEBUG: Crawled (200) <GET https://media.ipsapps.org/shu/osa/bible/latin/45-ROM-010.html> (referer: https://media.ipsapps.org/shu/osa/bible/latin/45-ROM-009.html)\n",
      "2025-05-04 13:54:52 [scrapy.core.engine] DEBUG: Crawled (200) <GET https://media.ipsapps.org/shu/osa/bible/latin/45-ROM-011.html> (referer: https://media.ipsapps.org/shu/osa/bible/latin/45-ROM-010.html)\n",
      "2025-05-04 13:54:53 [scrapy.core.engine] DEBUG: Crawled (200) <GET https://media.ipsapps.org/shu/osa/bible/latin/45-ROM-012.html> (referer: https://media.ipsapps.org/shu/osa/bible/latin/45-ROM-011.html)\n",
      "2025-05-04 13:54:53 [scrapy.core.engine] DEBUG: Crawled (200) <GET https://media.ipsapps.org/shu/osa/bible/latin/45-ROM-013.html> (referer: https://media.ipsapps.org/shu/osa/bible/latin/45-ROM-012.html)\n",
      "2025-05-04 13:54:54 [scrapy.core.engine] DEBUG: Crawled (200) <GET https://media.ipsapps.org/shu/osa/bible/latin/45-ROM-014.html> (referer: https://media.ipsapps.org/shu/osa/bible/latin/45-ROM-013.html)\n",
      "2025-05-04 13:54:55 [scrapy.core.engine] DEBUG: Crawled (200) <GET https://media.ipsapps.org/shu/osa/bible/latin/45-ROM-015.html> (referer: https://media.ipsapps.org/shu/osa/bible/latin/45-ROM-014.html)\n",
      "2025-05-04 13:54:56 [scrapy.core.engine] DEBUG: Crawled (200) <GET https://media.ipsapps.org/shu/osa/bible/latin/45-ROM-016.html> (referer: https://media.ipsapps.org/shu/osa/bible/latin/45-ROM-015.html)\n",
      "2025-05-04 13:54:56 [scrapy.core.engine] DEBUG: Crawled (200) <GET https://media.ipsapps.org/shu/osa/bible/latin/46-1CO-000.html> (referer: https://media.ipsapps.org/shu/osa/bible/latin/45-ROM-016.html)\n",
      "2025-05-04 13:54:58 [scrapy.core.engine] DEBUG: Crawled (200) <GET https://media.ipsapps.org/shu/osa/bible/latin/46-1CO-001.html> (referer: https://media.ipsapps.org/shu/osa/bible/latin/46-1CO-000.html)\n",
      "2025-05-04 13:54:58 [scrapy.core.engine] DEBUG: Crawled (200) <GET https://media.ipsapps.org/shu/osa/bible/latin/46-1CO-002.html> (referer: https://media.ipsapps.org/shu/osa/bible/latin/46-1CO-001.html)\n",
      "2025-05-04 13:54:59 [scrapy.core.engine] DEBUG: Crawled (200) <GET https://media.ipsapps.org/shu/osa/bible/latin/46-1CO-003.html> (referer: https://media.ipsapps.org/shu/osa/bible/latin/46-1CO-002.html)\n",
      "2025-05-04 13:55:00 [scrapy.core.engine] DEBUG: Crawled (200) <GET https://media.ipsapps.org/shu/osa/bible/latin/46-1CO-004.html> (referer: https://media.ipsapps.org/shu/osa/bible/latin/46-1CO-003.html)\n",
      "2025-05-04 13:55:00 [scrapy.core.engine] DEBUG: Crawled (200) <GET https://media.ipsapps.org/shu/osa/bible/latin/46-1CO-005.html> (referer: https://media.ipsapps.org/shu/osa/bible/latin/46-1CO-004.html)\n",
      "2025-05-04 13:55:02 [scrapy.core.engine] DEBUG: Crawled (200) <GET https://media.ipsapps.org/shu/osa/bible/latin/46-1CO-006.html> (referer: https://media.ipsapps.org/shu/osa/bible/latin/46-1CO-005.html)\n",
      "2025-05-04 13:55:02 [scrapy.core.engine] DEBUG: Crawled (200) <GET https://media.ipsapps.org/shu/osa/bible/latin/46-1CO-007.html> (referer: https://media.ipsapps.org/shu/osa/bible/latin/46-1CO-006.html)\n",
      "2025-05-04 13:55:03 [scrapy.core.engine] DEBUG: Crawled (200) <GET https://media.ipsapps.org/shu/osa/bible/latin/46-1CO-008.html> (referer: https://media.ipsapps.org/shu/osa/bible/latin/46-1CO-007.html)\n",
      "2025-05-04 13:55:04 [scrapy.core.engine] DEBUG: Crawled (200) <GET https://media.ipsapps.org/shu/osa/bible/latin/46-1CO-009.html> (referer: https://media.ipsapps.org/shu/osa/bible/latin/46-1CO-008.html)\n",
      "2025-05-04 13:55:05 [scrapy.core.engine] DEBUG: Crawled (200) <GET https://media.ipsapps.org/shu/osa/bible/latin/46-1CO-010.html> (referer: https://media.ipsapps.org/shu/osa/bible/latin/46-1CO-009.html)\n",
      "2025-05-04 13:55:06 [scrapy.core.engine] DEBUG: Crawled (200) <GET https://media.ipsapps.org/shu/osa/bible/latin/46-1CO-011.html> (referer: https://media.ipsapps.org/shu/osa/bible/latin/46-1CO-010.html)\n",
      "2025-05-04 13:55:07 [scrapy.core.engine] DEBUG: Crawled (200) <GET https://media.ipsapps.org/shu/osa/bible/latin/46-1CO-012.html> (referer: https://media.ipsapps.org/shu/osa/bible/latin/46-1CO-011.html)\n",
      "2025-05-04 13:55:08 [scrapy.core.engine] DEBUG: Crawled (200) <GET https://media.ipsapps.org/shu/osa/bible/latin/46-1CO-013.html> (referer: https://media.ipsapps.org/shu/osa/bible/latin/46-1CO-012.html)\n",
      "2025-05-04 13:55:09 [scrapy.core.engine] DEBUG: Crawled (200) <GET https://media.ipsapps.org/shu/osa/bible/latin/46-1CO-014.html> (referer: https://media.ipsapps.org/shu/osa/bible/latin/46-1CO-013.html)\n",
      "2025-05-04 13:55:10 [scrapy.core.engine] DEBUG: Crawled (200) <GET https://media.ipsapps.org/shu/osa/bible/latin/46-1CO-015.html> (referer: https://media.ipsapps.org/shu/osa/bible/latin/46-1CO-014.html)\n",
      "2025-05-04 13:55:10 [scrapy.core.engine] DEBUG: Crawled (200) <GET https://media.ipsapps.org/shu/osa/bible/latin/46-1CO-016.html> (referer: https://media.ipsapps.org/shu/osa/bible/latin/46-1CO-015.html)\n",
      "2025-05-04 13:55:11 [scrapy.core.engine] DEBUG: Crawled (200) <GET https://media.ipsapps.org/shu/osa/bible/latin/47-2CO-000.html> (referer: https://media.ipsapps.org/shu/osa/bible/latin/46-1CO-016.html)\n",
      "2025-05-04 13:55:11 [scrapy.core.engine] DEBUG: Crawled (200) <GET https://media.ipsapps.org/shu/osa/bible/latin/47-2CO-001.html> (referer: https://media.ipsapps.org/shu/osa/bible/latin/47-2CO-000.html)\n",
      "2025-05-04 13:55:12 [scrapy.core.engine] DEBUG: Crawled (200) <GET https://media.ipsapps.org/shu/osa/bible/latin/47-2CO-002.html> (referer: https://media.ipsapps.org/shu/osa/bible/latin/47-2CO-001.html)\n",
      "2025-05-04 13:55:13 [scrapy.core.engine] DEBUG: Crawled (200) <GET https://media.ipsapps.org/shu/osa/bible/latin/47-2CO-003.html> (referer: https://media.ipsapps.org/shu/osa/bible/latin/47-2CO-002.html)\n",
      "2025-05-04 13:55:14 [scrapy.core.engine] DEBUG: Crawled (200) <GET https://media.ipsapps.org/shu/osa/bible/latin/47-2CO-004.html> (referer: https://media.ipsapps.org/shu/osa/bible/latin/47-2CO-003.html)\n",
      "2025-05-04 13:55:14 [scrapy.core.engine] DEBUG: Crawled (200) <GET https://media.ipsapps.org/shu/osa/bible/latin/47-2CO-005.html> (referer: https://media.ipsapps.org/shu/osa/bible/latin/47-2CO-004.html)\n",
      "2025-05-04 13:55:15 [scrapy.core.engine] DEBUG: Crawled (200) <GET https://media.ipsapps.org/shu/osa/bible/latin/47-2CO-006.html> (referer: https://media.ipsapps.org/shu/osa/bible/latin/47-2CO-005.html)\n",
      "2025-05-04 13:55:16 [scrapy.core.engine] DEBUG: Crawled (200) <GET https://media.ipsapps.org/shu/osa/bible/latin/47-2CO-007.html> (referer: https://media.ipsapps.org/shu/osa/bible/latin/47-2CO-006.html)\n",
      "2025-05-04 13:55:16 [scrapy.core.engine] DEBUG: Crawled (200) <GET https://media.ipsapps.org/shu/osa/bible/latin/47-2CO-008.html> (referer: https://media.ipsapps.org/shu/osa/bible/latin/47-2CO-007.html)\n",
      "2025-05-04 13:55:17 [scrapy.core.engine] DEBUG: Crawled (200) <GET https://media.ipsapps.org/shu/osa/bible/latin/47-2CO-009.html> (referer: https://media.ipsapps.org/shu/osa/bible/latin/47-2CO-008.html)\n",
      "2025-05-04 13:55:18 [scrapy.core.engine] DEBUG: Crawled (200) <GET https://media.ipsapps.org/shu/osa/bible/latin/47-2CO-010.html> (referer: https://media.ipsapps.org/shu/osa/bible/latin/47-2CO-009.html)\n",
      "2025-05-04 13:55:18 [scrapy.core.engine] DEBUG: Crawled (200) <GET https://media.ipsapps.org/shu/osa/bible/latin/47-2CO-011.html> (referer: https://media.ipsapps.org/shu/osa/bible/latin/47-2CO-010.html)\n",
      "2025-05-04 13:55:19 [scrapy.core.engine] DEBUG: Crawled (200) <GET https://media.ipsapps.org/shu/osa/bible/latin/47-2CO-012.html> (referer: https://media.ipsapps.org/shu/osa/bible/latin/47-2CO-011.html)\n",
      "2025-05-04 13:55:21 [scrapy.core.engine] DEBUG: Crawled (200) <GET https://media.ipsapps.org/shu/osa/bible/latin/47-2CO-013.html> (referer: https://media.ipsapps.org/shu/osa/bible/latin/47-2CO-012.html)\n",
      "2025-05-04 13:55:22 [scrapy.core.engine] DEBUG: Crawled (200) <GET https://media.ipsapps.org/shu/osa/bible/latin/48-GAL-000.html> (referer: https://media.ipsapps.org/shu/osa/bible/latin/47-2CO-013.html)\n",
      "2025-05-04 13:55:22 [scrapy.core.engine] DEBUG: Crawled (200) <GET https://media.ipsapps.org/shu/osa/bible/latin/48-GAL-001.html> (referer: https://media.ipsapps.org/shu/osa/bible/latin/48-GAL-000.html)\n",
      "2025-05-04 13:55:23 [scrapy.core.engine] DEBUG: Crawled (200) <GET https://media.ipsapps.org/shu/osa/bible/latin/48-GAL-002.html> (referer: https://media.ipsapps.org/shu/osa/bible/latin/48-GAL-001.html)\n",
      "2025-05-04 13:55:24 [scrapy.core.engine] DEBUG: Crawled (200) <GET https://media.ipsapps.org/shu/osa/bible/latin/48-GAL-003.html> (referer: https://media.ipsapps.org/shu/osa/bible/latin/48-GAL-002.html)\n",
      "2025-05-04 13:55:25 [scrapy.core.engine] DEBUG: Crawled (200) <GET https://media.ipsapps.org/shu/osa/bible/latin/48-GAL-004.html> (referer: https://media.ipsapps.org/shu/osa/bible/latin/48-GAL-003.html)\n",
      "2025-05-04 13:55:25 [scrapy.core.engine] DEBUG: Crawled (200) <GET https://media.ipsapps.org/shu/osa/bible/latin/48-GAL-005.html> (referer: https://media.ipsapps.org/shu/osa/bible/latin/48-GAL-004.html)\n",
      "2025-05-04 13:55:26 [scrapy.core.engine] DEBUG: Crawled (200) <GET https://media.ipsapps.org/shu/osa/bible/latin/48-GAL-006.html> (referer: https://media.ipsapps.org/shu/osa/bible/latin/48-GAL-005.html)\n",
      "2025-05-04 13:55:27 [scrapy.core.engine] DEBUG: Crawled (200) <GET https://media.ipsapps.org/shu/osa/bible/latin/49-EPH-000.html> (referer: https://media.ipsapps.org/shu/osa/bible/latin/48-GAL-006.html)\n",
      "2025-05-04 13:55:27 [scrapy.core.engine] DEBUG: Crawled (200) <GET https://media.ipsapps.org/shu/osa/bible/latin/49-EPH-001.html> (referer: https://media.ipsapps.org/shu/osa/bible/latin/49-EPH-000.html)\n",
      "2025-05-04 13:55:28 [scrapy.extensions.logstats] INFO: Crawled 1147 pages (at 77 pages/min), scraped 0 items (at 0 items/min)\n",
      "2025-05-04 13:55:28 [scrapy.core.engine] DEBUG: Crawled (200) <GET https://media.ipsapps.org/shu/osa/bible/latin/49-EPH-002.html> (referer: https://media.ipsapps.org/shu/osa/bible/latin/49-EPH-001.html)\n",
      "2025-05-04 13:55:29 [scrapy.core.engine] DEBUG: Crawled (200) <GET https://media.ipsapps.org/shu/osa/bible/latin/49-EPH-003.html> (referer: https://media.ipsapps.org/shu/osa/bible/latin/49-EPH-002.html)\n",
      "2025-05-04 13:55:29 [scrapy.core.engine] DEBUG: Crawled (200) <GET https://media.ipsapps.org/shu/osa/bible/latin/49-EPH-004.html> (referer: https://media.ipsapps.org/shu/osa/bible/latin/49-EPH-003.html)\n",
      "2025-05-04 13:55:30 [scrapy.core.engine] DEBUG: Crawled (200) <GET https://media.ipsapps.org/shu/osa/bible/latin/49-EPH-005.html> (referer: https://media.ipsapps.org/shu/osa/bible/latin/49-EPH-004.html)\n",
      "2025-05-04 13:55:31 [scrapy.core.engine] DEBUG: Crawled (200) <GET https://media.ipsapps.org/shu/osa/bible/latin/49-EPH-006.html> (referer: https://media.ipsapps.org/shu/osa/bible/latin/49-EPH-005.html)\n",
      "2025-05-04 13:55:32 [scrapy.core.engine] DEBUG: Crawled (200) <GET https://media.ipsapps.org/shu/osa/bible/latin/50-PHP-000.html> (referer: https://media.ipsapps.org/shu/osa/bible/latin/49-EPH-006.html)\n",
      "2025-05-04 13:55:32 [scrapy.core.engine] DEBUG: Crawled (200) <GET https://media.ipsapps.org/shu/osa/bible/latin/50-PHP-001.html> (referer: https://media.ipsapps.org/shu/osa/bible/latin/50-PHP-000.html)\n",
      "2025-05-04 13:55:33 [scrapy.core.engine] DEBUG: Crawled (200) <GET https://media.ipsapps.org/shu/osa/bible/latin/50-PHP-002.html> (referer: https://media.ipsapps.org/shu/osa/bible/latin/50-PHP-001.html)\n",
      "2025-05-04 13:55:34 [scrapy.core.engine] DEBUG: Crawled (200) <GET https://media.ipsapps.org/shu/osa/bible/latin/50-PHP-003.html> (referer: https://media.ipsapps.org/shu/osa/bible/latin/50-PHP-002.html)\n",
      "2025-05-04 13:55:34 [scrapy.core.engine] DEBUG: Crawled (200) <GET https://media.ipsapps.org/shu/osa/bible/latin/50-PHP-004.html> (referer: https://media.ipsapps.org/shu/osa/bible/latin/50-PHP-003.html)\n",
      "2025-05-04 13:55:35 [scrapy.core.engine] DEBUG: Crawled (200) <GET https://media.ipsapps.org/shu/osa/bible/latin/51-COL-000.html> (referer: https://media.ipsapps.org/shu/osa/bible/latin/50-PHP-004.html)\n",
      "2025-05-04 13:55:35 [scrapy.core.engine] DEBUG: Crawled (200) <GET https://media.ipsapps.org/shu/osa/bible/latin/51-COL-001.html> (referer: https://media.ipsapps.org/shu/osa/bible/latin/51-COL-000.html)\n",
      "2025-05-04 13:55:36 [scrapy.core.engine] DEBUG: Crawled (200) <GET https://media.ipsapps.org/shu/osa/bible/latin/51-COL-002.html> (referer: https://media.ipsapps.org/shu/osa/bible/latin/51-COL-001.html)\n",
      "2025-05-04 13:55:37 [scrapy.core.engine] DEBUG: Crawled (200) <GET https://media.ipsapps.org/shu/osa/bible/latin/51-COL-003.html> (referer: https://media.ipsapps.org/shu/osa/bible/latin/51-COL-002.html)\n",
      "2025-05-04 13:55:38 [scrapy.core.engine] DEBUG: Crawled (200) <GET https://media.ipsapps.org/shu/osa/bible/latin/51-COL-004.html> (referer: https://media.ipsapps.org/shu/osa/bible/latin/51-COL-003.html)\n",
      "2025-05-04 13:55:38 [scrapy.core.engine] DEBUG: Crawled (200) <GET https://media.ipsapps.org/shu/osa/bible/latin/52-1TH-000.html> (referer: https://media.ipsapps.org/shu/osa/bible/latin/51-COL-004.html)\n",
      "2025-05-04 13:55:39 [scrapy.core.engine] DEBUG: Crawled (200) <GET https://media.ipsapps.org/shu/osa/bible/latin/52-1TH-001.html> (referer: https://media.ipsapps.org/shu/osa/bible/latin/52-1TH-000.html)\n",
      "2025-05-04 13:55:40 [scrapy.core.engine] DEBUG: Crawled (200) <GET https://media.ipsapps.org/shu/osa/bible/latin/52-1TH-002.html> (referer: https://media.ipsapps.org/shu/osa/bible/latin/52-1TH-001.html)\n",
      "2025-05-04 13:55:40 [scrapy.core.engine] DEBUG: Crawled (200) <GET https://media.ipsapps.org/shu/osa/bible/latin/52-1TH-003.html> (referer: https://media.ipsapps.org/shu/osa/bible/latin/52-1TH-002.html)\n",
      "2025-05-04 13:55:41 [scrapy.core.engine] DEBUG: Crawled (200) <GET https://media.ipsapps.org/shu/osa/bible/latin/52-1TH-004.html> (referer: https://media.ipsapps.org/shu/osa/bible/latin/52-1TH-003.html)\n",
      "2025-05-04 13:55:42 [scrapy.core.engine] DEBUG: Crawled (200) <GET https://media.ipsapps.org/shu/osa/bible/latin/52-1TH-005.html> (referer: https://media.ipsapps.org/shu/osa/bible/latin/52-1TH-004.html)\n",
      "2025-05-04 13:55:43 [scrapy.core.engine] DEBUG: Crawled (200) <GET https://media.ipsapps.org/shu/osa/bible/latin/53-2TH-001.html> (referer: https://media.ipsapps.org/shu/osa/bible/latin/52-1TH-005.html)\n",
      "2025-05-04 13:55:44 [scrapy.core.engine] DEBUG: Crawled (200) <GET https://media.ipsapps.org/shu/osa/bible/latin/53-2TH-002.html> (referer: https://media.ipsapps.org/shu/osa/bible/latin/53-2TH-001.html)\n",
      "2025-05-04 13:55:44 [scrapy.core.engine] DEBUG: Crawled (200) <GET https://media.ipsapps.org/shu/osa/bible/latin/53-2TH-003.html> (referer: https://media.ipsapps.org/shu/osa/bible/latin/53-2TH-002.html)\n",
      "2025-05-04 13:55:45 [scrapy.core.engine] DEBUG: Crawled (200) <GET https://media.ipsapps.org/shu/osa/bible/latin/54-1TI-000.html> (referer: https://media.ipsapps.org/shu/osa/bible/latin/53-2TH-003.html)\n",
      "2025-05-04 13:55:46 [scrapy.core.engine] DEBUG: Crawled (200) <GET https://media.ipsapps.org/shu/osa/bible/latin/54-1TI-001.html> (referer: https://media.ipsapps.org/shu/osa/bible/latin/54-1TI-000.html)\n",
      "2025-05-04 13:55:46 [scrapy.core.engine] DEBUG: Crawled (200) <GET https://media.ipsapps.org/shu/osa/bible/latin/54-1TI-002.html> (referer: https://media.ipsapps.org/shu/osa/bible/latin/54-1TI-001.html)\n",
      "2025-05-04 13:55:47 [scrapy.core.engine] DEBUG: Crawled (200) <GET https://media.ipsapps.org/shu/osa/bible/latin/54-1TI-003.html> (referer: https://media.ipsapps.org/shu/osa/bible/latin/54-1TI-002.html)\n",
      "2025-05-04 13:55:48 [scrapy.core.engine] DEBUG: Crawled (200) <GET https://media.ipsapps.org/shu/osa/bible/latin/54-1TI-004.html> (referer: https://media.ipsapps.org/shu/osa/bible/latin/54-1TI-003.html)\n",
      "2025-05-04 13:55:49 [scrapy.core.engine] DEBUG: Crawled (200) <GET https://media.ipsapps.org/shu/osa/bible/latin/54-1TI-005.html> (referer: https://media.ipsapps.org/shu/osa/bible/latin/54-1TI-004.html)\n",
      "2025-05-04 13:55:50 [scrapy.core.engine] DEBUG: Crawled (200) <GET https://media.ipsapps.org/shu/osa/bible/latin/54-1TI-006.html> (referer: https://media.ipsapps.org/shu/osa/bible/latin/54-1TI-005.html)\n",
      "2025-05-04 13:55:50 [scrapy.core.engine] DEBUG: Crawled (200) <GET https://media.ipsapps.org/shu/osa/bible/latin/55-2TI-001.html> (referer: https://media.ipsapps.org/shu/osa/bible/latin/54-1TI-006.html)\n",
      "2025-05-04 13:55:51 [scrapy.core.engine] DEBUG: Crawled (200) <GET https://media.ipsapps.org/shu/osa/bible/latin/55-2TI-002.html> (referer: https://media.ipsapps.org/shu/osa/bible/latin/55-2TI-001.html)\n",
      "2025-05-04 13:55:52 [scrapy.core.engine] DEBUG: Crawled (200) <GET https://media.ipsapps.org/shu/osa/bible/latin/55-2TI-003.html> (referer: https://media.ipsapps.org/shu/osa/bible/latin/55-2TI-002.html)\n",
      "2025-05-04 13:55:52 [scrapy.core.engine] DEBUG: Crawled (200) <GET https://media.ipsapps.org/shu/osa/bible/latin/55-2TI-004.html> (referer: https://media.ipsapps.org/shu/osa/bible/latin/55-2TI-003.html)\n",
      "2025-05-04 13:55:53 [scrapy.core.engine] DEBUG: Crawled (200) <GET https://media.ipsapps.org/shu/osa/bible/latin/56-TIT-000.html> (referer: https://media.ipsapps.org/shu/osa/bible/latin/55-2TI-004.html)\n",
      "2025-05-04 13:55:53 [scrapy.core.engine] DEBUG: Crawled (200) <GET https://media.ipsapps.org/shu/osa/bible/latin/56-TIT-001.html> (referer: https://media.ipsapps.org/shu/osa/bible/latin/56-TIT-000.html)\n",
      "2025-05-04 13:55:54 [scrapy.core.engine] DEBUG: Crawled (200) <GET https://media.ipsapps.org/shu/osa/bible/latin/56-TIT-002.html> (referer: https://media.ipsapps.org/shu/osa/bible/latin/56-TIT-001.html)\n",
      "2025-05-04 13:55:55 [scrapy.core.engine] DEBUG: Crawled (200) <GET https://media.ipsapps.org/shu/osa/bible/latin/56-TIT-003.html> (referer: https://media.ipsapps.org/shu/osa/bible/latin/56-TIT-002.html)\n",
      "2025-05-04 13:55:56 [scrapy.core.engine] DEBUG: Crawled (200) <GET https://media.ipsapps.org/shu/osa/bible/latin/57-PHM-000.html> (referer: https://media.ipsapps.org/shu/osa/bible/latin/56-TIT-003.html)\n",
      "2025-05-04 13:55:56 [scrapy.core.engine] DEBUG: Crawled (200) <GET https://media.ipsapps.org/shu/osa/bible/latin/57-PHM-001.html> (referer: https://media.ipsapps.org/shu/osa/bible/latin/57-PHM-000.html)\n",
      "2025-05-04 13:55:57 [scrapy.core.engine] DEBUG: Crawled (200) <GET https://media.ipsapps.org/shu/osa/bible/latin/58-HEB-000.html> (referer: https://media.ipsapps.org/shu/osa/bible/latin/57-PHM-001.html)\n",
      "2025-05-04 13:55:58 [scrapy.core.engine] DEBUG: Crawled (200) <GET https://media.ipsapps.org/shu/osa/bible/latin/58-HEB-001.html> (referer: https://media.ipsapps.org/shu/osa/bible/latin/58-HEB-000.html)\n",
      "2025-05-04 13:55:59 [scrapy.core.engine] DEBUG: Crawled (200) <GET https://media.ipsapps.org/shu/osa/bible/latin/58-HEB-002.html> (referer: https://media.ipsapps.org/shu/osa/bible/latin/58-HEB-001.html)\n",
      "2025-05-04 13:55:59 [scrapy.core.engine] DEBUG: Crawled (200) <GET https://media.ipsapps.org/shu/osa/bible/latin/58-HEB-003.html> (referer: https://media.ipsapps.org/shu/osa/bible/latin/58-HEB-002.html)\n",
      "2025-05-04 13:56:00 [scrapy.core.engine] DEBUG: Crawled (200) <GET https://media.ipsapps.org/shu/osa/bible/latin/58-HEB-004.html> (referer: https://media.ipsapps.org/shu/osa/bible/latin/58-HEB-003.html)\n",
      "2025-05-04 13:56:01 [scrapy.core.engine] DEBUG: Crawled (200) <GET https://media.ipsapps.org/shu/osa/bible/latin/58-HEB-005.html> (referer: https://media.ipsapps.org/shu/osa/bible/latin/58-HEB-004.html)\n",
      "2025-05-04 13:56:02 [scrapy.core.engine] DEBUG: Crawled (200) <GET https://media.ipsapps.org/shu/osa/bible/latin/58-HEB-006.html> (referer: https://media.ipsapps.org/shu/osa/bible/latin/58-HEB-005.html)\n",
      "2025-05-04 13:56:03 [scrapy.core.engine] DEBUG: Crawled (200) <GET https://media.ipsapps.org/shu/osa/bible/latin/58-HEB-007.html> (referer: https://media.ipsapps.org/shu/osa/bible/latin/58-HEB-006.html)\n",
      "2025-05-04 13:56:04 [scrapy.core.engine] DEBUG: Crawled (200) <GET https://media.ipsapps.org/shu/osa/bible/latin/58-HEB-008.html> (referer: https://media.ipsapps.org/shu/osa/bible/latin/58-HEB-007.html)\n",
      "2025-05-04 13:56:04 [scrapy.core.engine] DEBUG: Crawled (200) <GET https://media.ipsapps.org/shu/osa/bible/latin/58-HEB-009.html> (referer: https://media.ipsapps.org/shu/osa/bible/latin/58-HEB-008.html)\n",
      "2025-05-04 13:56:05 [scrapy.core.engine] DEBUG: Crawled (200) <GET https://media.ipsapps.org/shu/osa/bible/latin/58-HEB-010.html> (referer: https://media.ipsapps.org/shu/osa/bible/latin/58-HEB-009.html)\n",
      "2025-05-04 13:56:05 [scrapy.core.engine] DEBUG: Crawled (200) <GET https://media.ipsapps.org/shu/osa/bible/latin/58-HEB-011.html> (referer: https://media.ipsapps.org/shu/osa/bible/latin/58-HEB-010.html)\n",
      "2025-05-04 13:56:06 [scrapy.core.engine] DEBUG: Crawled (200) <GET https://media.ipsapps.org/shu/osa/bible/latin/58-HEB-012.html> (referer: https://media.ipsapps.org/shu/osa/bible/latin/58-HEB-011.html)\n",
      "2025-05-04 13:56:07 [scrapy.core.engine] DEBUG: Crawled (200) <GET https://media.ipsapps.org/shu/osa/bible/latin/58-HEB-013.html> (referer: https://media.ipsapps.org/shu/osa/bible/latin/58-HEB-012.html)\n",
      "2025-05-04 13:56:07 [scrapy.core.engine] DEBUG: Crawled (200) <GET https://media.ipsapps.org/shu/osa/bible/latin/59-JAS-000.html> (referer: https://media.ipsapps.org/shu/osa/bible/latin/58-HEB-013.html)\n",
      "2025-05-04 13:56:08 [scrapy.core.engine] DEBUG: Crawled (200) <GET https://media.ipsapps.org/shu/osa/bible/latin/59-JAS-001.html> (referer: https://media.ipsapps.org/shu/osa/bible/latin/59-JAS-000.html)\n",
      "2025-05-04 13:56:09 [scrapy.core.engine] DEBUG: Crawled (200) <GET https://media.ipsapps.org/shu/osa/bible/latin/59-JAS-002.html> (referer: https://media.ipsapps.org/shu/osa/bible/latin/59-JAS-001.html)\n",
      "2025-05-04 13:56:10 [scrapy.core.engine] DEBUG: Crawled (200) <GET https://media.ipsapps.org/shu/osa/bible/latin/59-JAS-003.html> (referer: https://media.ipsapps.org/shu/osa/bible/latin/59-JAS-002.html)\n",
      "2025-05-04 13:56:10 [scrapy.core.engine] DEBUG: Crawled (200) <GET https://media.ipsapps.org/shu/osa/bible/latin/59-JAS-004.html> (referer: https://media.ipsapps.org/shu/osa/bible/latin/59-JAS-003.html)\n",
      "2025-05-04 13:56:11 [scrapy.core.engine] DEBUG: Crawled (200) <GET https://media.ipsapps.org/shu/osa/bible/latin/59-JAS-005.html> (referer: https://media.ipsapps.org/shu/osa/bible/latin/59-JAS-004.html)\n",
      "2025-05-04 13:56:12 [scrapy.core.engine] DEBUG: Crawled (200) <GET https://media.ipsapps.org/shu/osa/bible/latin/60-1PE-000.html> (referer: https://media.ipsapps.org/shu/osa/bible/latin/59-JAS-005.html)\n",
      "2025-05-04 13:56:12 [scrapy.core.engine] DEBUG: Crawled (200) <GET https://media.ipsapps.org/shu/osa/bible/latin/60-1PE-001.html> (referer: https://media.ipsapps.org/shu/osa/bible/latin/60-1PE-000.html)\n",
      "2025-05-04 13:56:13 [scrapy.core.engine] DEBUG: Crawled (200) <GET https://media.ipsapps.org/shu/osa/bible/latin/60-1PE-002.html> (referer: https://media.ipsapps.org/shu/osa/bible/latin/60-1PE-001.html)\n",
      "2025-05-04 13:56:14 [scrapy.core.engine] DEBUG: Crawled (200) <GET https://media.ipsapps.org/shu/osa/bible/latin/60-1PE-003.html> (referer: https://media.ipsapps.org/shu/osa/bible/latin/60-1PE-002.html)\n",
      "2025-05-04 13:56:14 [scrapy.core.engine] DEBUG: Crawled (200) <GET https://media.ipsapps.org/shu/osa/bible/latin/60-1PE-004.html> (referer: https://media.ipsapps.org/shu/osa/bible/latin/60-1PE-003.html)\n",
      "2025-05-04 13:56:15 [scrapy.core.engine] DEBUG: Crawled (200) <GET https://media.ipsapps.org/shu/osa/bible/latin/60-1PE-005.html> (referer: https://media.ipsapps.org/shu/osa/bible/latin/60-1PE-004.html)\n",
      "2025-05-04 13:56:16 [scrapy.core.engine] DEBUG: Crawled (200) <GET https://media.ipsapps.org/shu/osa/bible/latin/61-2PE-000.html> (referer: https://media.ipsapps.org/shu/osa/bible/latin/60-1PE-005.html)\n",
      "2025-05-04 13:56:16 [scrapy.core.engine] DEBUG: Crawled (200) <GET https://media.ipsapps.org/shu/osa/bible/latin/61-2PE-001.html> (referer: https://media.ipsapps.org/shu/osa/bible/latin/61-2PE-000.html)\n",
      "2025-05-04 13:56:17 [scrapy.core.engine] DEBUG: Crawled (200) <GET https://media.ipsapps.org/shu/osa/bible/latin/61-2PE-002.html> (referer: https://media.ipsapps.org/shu/osa/bible/latin/61-2PE-001.html)\n",
      "2025-05-04 13:56:18 [scrapy.core.engine] DEBUG: Crawled (200) <GET https://media.ipsapps.org/shu/osa/bible/latin/61-2PE-003.html> (referer: https://media.ipsapps.org/shu/osa/bible/latin/61-2PE-002.html)\n",
      "2025-05-04 13:56:18 [scrapy.core.engine] DEBUG: Crawled (200) <GET https://media.ipsapps.org/shu/osa/bible/latin/62-1JN-000.html> (referer: https://media.ipsapps.org/shu/osa/bible/latin/61-2PE-003.html)\n",
      "2025-05-04 13:56:19 [scrapy.core.engine] DEBUG: Crawled (200) <GET https://media.ipsapps.org/shu/osa/bible/latin/62-1JN-001.html> (referer: https://media.ipsapps.org/shu/osa/bible/latin/62-1JN-000.html)\n",
      "2025-05-04 13:56:20 [scrapy.core.engine] DEBUG: Crawled (200) <GET https://media.ipsapps.org/shu/osa/bible/latin/62-1JN-002.html> (referer: https://media.ipsapps.org/shu/osa/bible/latin/62-1JN-001.html)\n",
      "2025-05-04 13:56:20 [scrapy.core.engine] DEBUG: Crawled (200) <GET https://media.ipsapps.org/shu/osa/bible/latin/62-1JN-003.html> (referer: https://media.ipsapps.org/shu/osa/bible/latin/62-1JN-002.html)\n",
      "2025-05-04 13:56:21 [scrapy.core.engine] DEBUG: Crawled (200) <GET https://media.ipsapps.org/shu/osa/bible/latin/62-1JN-004.html> (referer: https://media.ipsapps.org/shu/osa/bible/latin/62-1JN-003.html)\n",
      "2025-05-04 13:56:22 [scrapy.core.engine] DEBUG: Crawled (200) <GET https://media.ipsapps.org/shu/osa/bible/latin/62-1JN-005.html> (referer: https://media.ipsapps.org/shu/osa/bible/latin/62-1JN-004.html)\n",
      "2025-05-04 13:56:22 [scrapy.core.engine] DEBUG: Crawled (200) <GET https://media.ipsapps.org/shu/osa/bible/latin/63-2JN-001.html> (referer: https://media.ipsapps.org/shu/osa/bible/latin/62-1JN-005.html)\n",
      "2025-05-04 13:56:23 [scrapy.core.engine] DEBUG: Crawled (200) <GET https://media.ipsapps.org/shu/osa/bible/latin/64-3JN-001.html> (referer: https://media.ipsapps.org/shu/osa/bible/latin/63-2JN-001.html)\n",
      "2025-05-04 13:56:23 [scrapy.core.engine] DEBUG: Crawled (200) <GET https://media.ipsapps.org/shu/osa/bible/latin/65-JUD-000.html> (referer: https://media.ipsapps.org/shu/osa/bible/latin/64-3JN-001.html)\n",
      "2025-05-04 13:56:24 [scrapy.core.engine] DEBUG: Crawled (200) <GET https://media.ipsapps.org/shu/osa/bible/latin/65-JUD-001.html> (referer: https://media.ipsapps.org/shu/osa/bible/latin/65-JUD-000.html)\n",
      "2025-05-04 13:56:25 [scrapy.core.engine] DEBUG: Crawled (200) <GET https://media.ipsapps.org/shu/osa/bible/latin/66-REV-000.html> (referer: https://media.ipsapps.org/shu/osa/bible/latin/65-JUD-001.html)\n",
      "2025-05-04 13:56:26 [scrapy.core.engine] DEBUG: Crawled (200) <GET https://media.ipsapps.org/shu/osa/bible/latin/66-REV-001.html> (referer: https://media.ipsapps.org/shu/osa/bible/latin/66-REV-000.html)\n",
      "2025-05-04 13:56:26 [scrapy.core.engine] DEBUG: Crawled (200) <GET https://media.ipsapps.org/shu/osa/bible/latin/66-REV-002.html> (referer: https://media.ipsapps.org/shu/osa/bible/latin/66-REV-001.html)\n",
      "2025-05-04 13:56:27 [scrapy.core.engine] DEBUG: Crawled (200) <GET https://media.ipsapps.org/shu/osa/bible/latin/66-REV-003.html> (referer: https://media.ipsapps.org/shu/osa/bible/latin/66-REV-002.html)\n",
      "2025-05-04 13:56:28 [scrapy.extensions.logstats] INFO: Crawled 1232 pages (at 85 pages/min), scraped 0 items (at 0 items/min)\n",
      "2025-05-04 13:56:28 [scrapy.core.engine] DEBUG: Crawled (200) <GET https://media.ipsapps.org/shu/osa/bible/latin/66-REV-004.html> (referer: https://media.ipsapps.org/shu/osa/bible/latin/66-REV-003.html)\n",
      "2025-05-04 13:56:29 [scrapy.core.engine] DEBUG: Crawled (200) <GET https://media.ipsapps.org/shu/osa/bible/latin/66-REV-005.html> (referer: https://media.ipsapps.org/shu/osa/bible/latin/66-REV-004.html)\n",
      "2025-05-04 13:56:29 [scrapy.core.engine] DEBUG: Crawled (200) <GET https://media.ipsapps.org/shu/osa/bible/latin/66-REV-006.html> (referer: https://media.ipsapps.org/shu/osa/bible/latin/66-REV-005.html)\n",
      "2025-05-04 13:56:30 [scrapy.core.engine] DEBUG: Crawled (200) <GET https://media.ipsapps.org/shu/osa/bible/latin/66-REV-007.html> (referer: https://media.ipsapps.org/shu/osa/bible/latin/66-REV-006.html)\n",
      "2025-05-04 13:56:31 [scrapy.core.engine] DEBUG: Crawled (200) <GET https://media.ipsapps.org/shu/osa/bible/latin/66-REV-008.html> (referer: https://media.ipsapps.org/shu/osa/bible/latin/66-REV-007.html)\n",
      "2025-05-04 13:56:32 [scrapy.core.engine] DEBUG: Crawled (200) <GET https://media.ipsapps.org/shu/osa/bible/latin/66-REV-009.html> (referer: https://media.ipsapps.org/shu/osa/bible/latin/66-REV-008.html)\n",
      "2025-05-04 13:56:32 [scrapy.core.engine] DEBUG: Crawled (200) <GET https://media.ipsapps.org/shu/osa/bible/latin/66-REV-010.html> (referer: https://media.ipsapps.org/shu/osa/bible/latin/66-REV-009.html)\n",
      "2025-05-04 13:56:33 [scrapy.core.engine] DEBUG: Crawled (200) <GET https://media.ipsapps.org/shu/osa/bible/latin/66-REV-011.html> (referer: https://media.ipsapps.org/shu/osa/bible/latin/66-REV-010.html)\n",
      "2025-05-04 13:56:34 [scrapy.core.engine] DEBUG: Crawled (200) <GET https://media.ipsapps.org/shu/osa/bible/latin/66-REV-012.html> (referer: https://media.ipsapps.org/shu/osa/bible/latin/66-REV-011.html)\n",
      "2025-05-04 13:56:35 [scrapy.core.engine] DEBUG: Crawled (200) <GET https://media.ipsapps.org/shu/osa/bible/latin/66-REV-013.html> (referer: https://media.ipsapps.org/shu/osa/bible/latin/66-REV-012.html)\n",
      "2025-05-04 13:56:35 [scrapy.core.engine] DEBUG: Crawled (200) <GET https://media.ipsapps.org/shu/osa/bible/latin/66-REV-014.html> (referer: https://media.ipsapps.org/shu/osa/bible/latin/66-REV-013.html)\n",
      "2025-05-04 13:56:37 [scrapy.core.engine] DEBUG: Crawled (200) <GET https://media.ipsapps.org/shu/osa/bible/latin/66-REV-015.html> (referer: https://media.ipsapps.org/shu/osa/bible/latin/66-REV-014.html)\n",
      "2025-05-04 13:56:37 [scrapy.core.engine] DEBUG: Crawled (200) <GET https://media.ipsapps.org/shu/osa/bible/latin/66-REV-016.html> (referer: https://media.ipsapps.org/shu/osa/bible/latin/66-REV-015.html)\n",
      "2025-05-04 13:56:38 [scrapy.core.engine] DEBUG: Crawled (200) <GET https://media.ipsapps.org/shu/osa/bible/latin/66-REV-017.html> (referer: https://media.ipsapps.org/shu/osa/bible/latin/66-REV-016.html)\n",
      "2025-05-04 13:56:39 [scrapy.core.engine] DEBUG: Crawled (200) <GET https://media.ipsapps.org/shu/osa/bible/latin/66-REV-018.html> (referer: https://media.ipsapps.org/shu/osa/bible/latin/66-REV-017.html)\n",
      "2025-05-04 13:56:39 [scrapy.core.engine] DEBUG: Crawled (200) <GET https://media.ipsapps.org/shu/osa/bible/latin/66-REV-019.html> (referer: https://media.ipsapps.org/shu/osa/bible/latin/66-REV-018.html)\n",
      "2025-05-04 13:56:40 [scrapy.core.engine] DEBUG: Crawled (200) <GET https://media.ipsapps.org/shu/osa/bible/latin/66-REV-020.html> (referer: https://media.ipsapps.org/shu/osa/bible/latin/66-REV-019.html)\n",
      "2025-05-04 13:56:41 [scrapy.core.engine] DEBUG: Crawled (200) <GET https://media.ipsapps.org/shu/osa/bible/latin/66-REV-021.html> (referer: https://media.ipsapps.org/shu/osa/bible/latin/66-REV-020.html)\n",
      "2025-05-04 13:56:41 [scrapy.core.engine] DEBUG: Crawled (200) <GET https://media.ipsapps.org/shu/osa/bible/latin/66-REV-022.html> (referer: https://media.ipsapps.org/shu/osa/bible/latin/66-REV-021.html)\n",
      "2025-05-04 13:56:42 [scrapy.core.engine] DEBUG: Crawled (200) <GET https://media.ipsapps.org/shu/osa/bible/latin/00-BAK-001.html> (referer: https://media.ipsapps.org/shu/osa/bible/latin/66-REV-022.html)\n",
      "2025-05-04 13:56:43 [scrapy.core.engine] DEBUG: Crawled (200) <GET https://media.ipsapps.org/shu/osa/bible/latin/00-GLO-001.html> (referer: https://media.ipsapps.org/shu/osa/bible/latin/00-BAK-001.html)\n",
      "2025-05-04 13:56:44 [scrapy.core.engine] DEBUG: Crawled (200) <GET https://media.ipsapps.org/shu/osa/bible/latin/00-XXA-001.html> (referer: https://media.ipsapps.org/shu/osa/bible/latin/00-GLO-001.html)\n",
      "2025-05-04 13:56:44 [scrapy.core.engine] DEBUG: Crawled (200) <GET https://media.ipsapps.org/shu/osa/bible/latin/00-XXA-002.html> (referer: https://media.ipsapps.org/shu/osa/bible/latin/00-XXA-001.html)\n",
      "2025-05-04 13:56:45 [scrapy.core.engine] DEBUG: Crawled (200) <GET https://media.ipsapps.org/shu/osa/bible/latin/00-XXA-003.html> (referer: https://media.ipsapps.org/shu/osa/bible/latin/00-XXA-002.html)\n",
      "2025-05-04 13:56:46 [scrapy.core.engine] DEBUG: Crawled (200) <GET https://media.ipsapps.org/shu/osa/bible/latin/00-XXA-004.html> (referer: https://media.ipsapps.org/shu/osa/bible/latin/00-XXA-003.html)\n",
      "2025-05-04 13:56:46 [scrapy.core.engine] DEBUG: Crawled (200) <GET https://media.ipsapps.org/shu/osa/bible/latin/00-XXA-005.html> (referer: https://media.ipsapps.org/shu/osa/bible/latin/00-XXA-004.html)\n",
      "2025-05-04 13:56:47 [scrapy.core.engine] DEBUG: Crawled (200) <GET https://media.ipsapps.org/shu/osa/bible/latin/00-XXA-006.html> (referer: https://media.ipsapps.org/shu/osa/bible/latin/00-XXA-005.html)\n",
      "2025-05-04 13:56:48 [scrapy.core.engine] DEBUG: Crawled (200) <GET https://media.ipsapps.org/shu/osa/bible/latin/> (referer: https://media.ipsapps.org/shu/osa/bible/latin/00-XXA-006.html)\n",
      "2025-05-04 13:56:48 [scrapy.core.scraper] ERROR: Spider error processing <GET https://media.ipsapps.org/shu/osa/bible/latin/> (referer: https://media.ipsapps.org/shu/osa/bible/latin/00-XXA-006.html)\n",
      "Traceback (most recent call last):\n",
      "  File \"/home/koubra/.envIA/lib/python3.12/site-packages/scrapy/utils/defer.py\", line 327, in iter_errback\n",
      "    yield next(it)\n",
      "          ^^^^^^^^\n",
      "  File \"/home/koubra/.envIA/lib/python3.12/site-packages/scrapy/utils/python.py\", line 368, in __next__\n",
      "    return next(self.data)\n",
      "           ^^^^^^^^^^^^^^^\n",
      "  File \"/home/koubra/.envIA/lib/python3.12/site-packages/scrapy/utils/python.py\", line 368, in __next__\n",
      "    return next(self.data)\n",
      "           ^^^^^^^^^^^^^^^\n",
      "  File \"/home/koubra/.envIA/lib/python3.12/site-packages/scrapy/core/spidermw.py\", line 106, in process_sync\n",
      "    yield from iterable\n",
      "  File \"/home/koubra/.envIA/lib/python3.12/site-packages/scrapy/spidermiddlewares/referer.py\", line 379, in <genexpr>\n",
      "    return (self._set_referer(r, response) for r in result)\n",
      "           ^^^^^^^^^^^^^^^^^^^^^^^^^^^^^^^^^^^^^^^^^^^^^^^^\n",
      "  File \"/home/koubra/.envIA/lib/python3.12/site-packages/scrapy/core/spidermw.py\", line 106, in process_sync\n",
      "    yield from iterable\n",
      "  File \"/home/koubra/.envIA/lib/python3.12/site-packages/scrapy/spidermiddlewares/urllength.py\", line 57, in <genexpr>\n",
      "    return (r for r in result if self._filter(r, spider))\n",
      "           ^^^^^^^^^^^^^^^^^^^^^^^^^^^^^^^^^^^^^^^^^^^^^^\n",
      "  File \"/home/koubra/.envIA/lib/python3.12/site-packages/scrapy/core/spidermw.py\", line 106, in process_sync\n",
      "    yield from iterable\n",
      "  File \"/home/koubra/.envIA/lib/python3.12/site-packages/scrapy/spidermiddlewares/depth.py\", line 54, in <genexpr>\n",
      "    return (r for r in result if self._filter(r, response, spider))\n",
      "           ^^^^^^^^^^^^^^^^^^^^^^^^^^^^^^^^^^^^^^^^^^^^^^^^^^^^^^^^\n",
      "  File \"/home/koubra/.envIA/lib/python3.12/site-packages/scrapy/core/spidermw.py\", line 106, in process_sync\n",
      "    yield from iterable\n",
      "  File \"/tmp/ipykernel_25670/2103100461.py\", line 16, in parse\n",
      "    num_page_suivant = response.xpath('//span[@class=\"button\"]/a/@href').extract()[2]\n",
      "                     ~~~~~~~~~~~~~~~~~~~~~~~~~~~~~~~~~~~~~~~~~~~~~~~~~~~~~~~~~~~^^^\n",
      "IndexError: list index out of range\n",
      "2025-05-04 13:56:48 [scrapy.core.engine] INFO: Closing spider (finished)\n",
      "2025-05-04 13:56:48 [scrapy.statscollectors] INFO: Dumping Scrapy stats:\n",
      "{'downloader/request_bytes': 409415,\n",
      " 'downloader/request_count': 1260,\n",
      " 'downloader/request_method_count/GET': 1260,\n",
      " 'downloader/response_bytes': 7252225,\n",
      " 'downloader/response_count': 1260,\n",
      " 'downloader/response_status_count/200': 1260,\n",
      " 'dupefilter/filtered': 69,\n",
      " 'elapsed_time_seconds': 859.749617,\n",
      " 'finish_reason': 'finished',\n",
      " 'finish_time': datetime.datetime(2025, 5, 4, 12, 56, 48, 152952, tzinfo=datetime.timezone.utc),\n",
      " 'httpcompression/response_bytes': 22644536,\n",
      " 'httpcompression/response_count': 1260,\n",
      " 'items_per_minute': None,\n",
      " 'log_count/DEBUG': 1262,\n",
      " 'log_count/ERROR': 1,\n",
      " 'log_count/INFO': 24,\n",
      " 'memusage/max': 115933184,\n",
      " 'memusage/startup': 115470336,\n",
      " 'request_depth_max': 1259,\n",
      " 'response_received_count': 1260,\n",
      " 'responses_per_minute': None,\n",
      " 'scheduler/dequeued': 1260,\n",
      " 'scheduler/dequeued/memory': 1260,\n",
      " 'scheduler/enqueued': 1260,\n",
      " 'scheduler/enqueued/memory': 1260,\n",
      " 'spider_exceptions/IndexError': 1,\n",
      " 'start_time': datetime.datetime(2025, 5, 4, 12, 42, 28, 403335, tzinfo=datetime.timezone.utc)}\n",
      "2025-05-04 13:56:48 [scrapy.core.engine] INFO: Spider closed (finished)\n"
     ]
    }
   ],
   "source": [
    "# Ici nous allons ecrire un code qui permet de recuperer toutes les pages du site web avec les methodes d'en haut\n",
    "import scrapy, re\n",
    "from scrapy.crawler import CrawlerProcess\n",
    "\n",
    "\n",
    "class DCspider( scrapy.Spider ):  \n",
    "\n",
    "    name = \"dcspider\"\n",
    "\n",
    "    def start_requests( self ):    \n",
    "        urls = \"https://media.ipsapps.org/shu/osa/bible/latin/01-GEN-001.html\"\n",
    "        yield scrapy.Request( url = urls, callback = self.parse )\n",
    "\n",
    "        \n",
    "    def parse( self, response ): \n",
    "        num_page_suivant = response.xpath('//span[@class=\"button\"]/a/@href').extract()[2]  \n",
    "        link = \"https://media.ipsapps.org/shu/osa/bible/latin/\" + num_page_suivant\n",
    "        titres = response.xpath('//div[contains(@id,\"Ts\")]/text()').extract()\n",
    "\n",
    "        text = response.css('div#content div.txs ::text').extract() # Pour récupérer le texte de la page\n",
    "        text = [t.strip() for t in text if t.strip()] # Pour enlever les espaces vides et les sauts de ligne ainsi que les balises html\n",
    "        titres = [t.strip() for t in titres if t.strip()]\n",
    "        #print(\"----------\", num_page_suivant, \"-----------------\")\n",
    "        if len(text) == 0:\n",
    "            yield response.follow( url = link, callback = self.parse )\n",
    "\n",
    "        for t in text: # je parcours ma liste pour supprimer les entetes cad les titres du chapitre\n",
    "            if t in titres:\n",
    "                text.remove(t)\n",
    "\n",
    "        # Ecrivons une expression reguliere pour supprimer les numeros couplet  des versets\n",
    "        #regex = re.compile(r\"[0-9]+.[0-9]+\")\n",
    "        regex = r\"\\d{1,2}‑\\d{1,2}\"\n",
    "\n",
    "\n",
    "        for l in text:\n",
    "            l = l.replace(\"«\", \"\")\n",
    "            l = l.replace(\"»\", \"\")\n",
    "            l = l.replace(\"<\", \"\")\n",
    "            l = l.replace(\">\", \"\")\n",
    "            l = l.replace(\"*\", \"\")\n",
    "            #print(l)\n",
    "\n",
    "            if l.isnumeric() == True:\n",
    "                l = l.replace(l, \"\\n\")\n",
    "            l = re.sub(regex, \"\\n\\n\", l)\n",
    "            with open('arabe_tchad3.txt', 'a+') as file :\n",
    "                    file.write(l)\n",
    "        #print(text)\n",
    "        yield response.follow( url = link, callback = self.parse )\n",
    "\n",
    "\n",
    "process = CrawlerProcess() # Voila la derniere partie qui demarre le robot\n",
    "process.crawl(DCspider)\n",
    "process.start()\n"
   ]
  },
  {
   "cell_type": "code",
   "execution_count": 8,
   "metadata": {},
   "outputs": [
    {
     "name": "stdout",
     "output_type": "stream",
     "text": [
      "['Bariiʼa wa Chamaʼ humman kubaaraat al‑aayilaat al‑saakniin fi Ayyaluun.', 'Wa humman bas al‑tarado sukkaan Gaat.\\n\\nWa awlaad Bariiʼa humman Akhyu wa Chaachakh wa Yarimuut wa Zabadya wa Araad wa Adaar wa Mikaayiil wa Yichfa wa Yuuha.', '\\n\\n Wa awlaad Alifaaʼal humman Zabadya wa Machullam wa Hizkhi wa Haabar wa Yichmaraay wa Yizliiya wa Yubaab.\\n\\nWa awlaad Chimʼi humman Yakhiim wa Zikri wa Zabdi wa Aliʼinaay wa Siltaay wa Aliyiil wa Adaaya wa Baraaya wa Chimrat.\\n\\nWa awlaad Chaachakh humman Yichfaan wa Ibaar wa Aliyiil wa Abduun wa Zikri wa Hanaan wa Hananya wa Ilaam wa Antuutiya wa Yifadya wa Fanuwiil.\\n\\nWa awlaad Yaruuhaam humman Chamachraay wa Chaharya wa Atalya wa Yaʼrachya wa Iliiya wa Zikri.']\n",
      "['Bariiʼa wa Chamaʼ humman kubaaraat al‑aayilaat al‑saakniin fi Ayyaluun.', 'Wa humman bas al‑tarado sukkaan Gaat.14‑16Wa awlaad Bariiʼa humman Akhyu wa Chaachakh wa Yarimuut wa Zabadya wa Araad wa Adaar wa Mikaayiil wa Yichfa wa Yuuha.', '17‑18 Wa awlaad Alifaaʼal humman Zabadya wa Machullam wa Hizkhi wa Haabar wa Yichmaraay wa Yizliiya wa Yubaab.19‑21Wa awlaad Chimʼi humman Yakhiim wa Zikri wa Zabdi wa Aliʼinaay wa Siltaay wa Aliyiil wa Adaaya wa Baraaya wa Chimrat.22‑25Wa awlaad Chaachakh humman Yichfaan wa Ibaar wa Aliyiil wa Abduun wa Zikri wa Hanaan wa Hananya wa Ilaam wa Antuutiya wa Yifadya wa Fanuwiil.26‑27Wa awlaad Yaruuhaam humman Chamachraay wa Chaharya wa Atalya wa Yaʼrachya wa Iliiya wa Zikri.']\n"
     ]
    },
    {
     "data": {
      "text/plain": [
       "'with open(\\'arabe_tchad.txt\\', \\'r\\') as file:\\n    lines = file.readlines()\\n    for line in lines:\\n            linee = re.sub(regex, r\\'\\n\\n\\', line)\\n            print(linee)\\n            with open(\\'arabe_tchad2.txt\\', \\'a+\\') as file :\\n                file.write(re.sub(regex, \"\\n\\n\", line))'"
      ]
     },
     "execution_count": 8,
     "metadata": {},
     "output_type": "execute_result"
    }
   ],
   "source": [
    "import re\n",
    "#regex = re.compile(r\"[0-9]+.[0-9]+\")\n",
    "regex = r\"\\d{1,2}‑\\d{1,2}\"\n",
    "\n",
    "\"\"\"def chercher_format(liste):\n",
    "    for chaine in liste:\n",
    "        print(chaine)\n",
    "        parties = chaine.split('‑')\n",
    "        print(parties)\n",
    "        if len(parties) == 2 and all(partie.isdigit() for partie in parties):\n",
    "            print(\"ok\")\n",
    "            if 1 <= len(parties[0]) <= 2 and 1 <= len(parties[1]) <= 2:\n",
    "                liste = liste.replace(chaine, \"\\n\\n\")\n",
    "    return liste\"\"\"\n",
    "# Exemple d'utilisation\n",
    "\n",
    "text = [\"Bariiʼa wa Chamaʼ humman kubaaraat al‑aayilaat al‑saakniin fi Ayyaluun.\",\"Wa humman bas al‑tarado sukkaan Gaat.14‑16Wa awlaad Bariiʼa humman Akhyu wa Chaachakh wa Yarimuut wa Zabadya wa Araad wa Adaar wa Mikaayiil wa Yichfa wa Yuuha.\",\"17‑18 Wa awlaad Alifaaʼal humman Zabadya wa Machullam wa Hizkhi wa Haabar wa Yichmaraay wa Yizliiya wa Yubaab.19‑21Wa awlaad Chimʼi humman Yakhiim wa Zikri wa Zabdi wa Aliʼinaay wa Siltaay wa Aliyiil wa Adaaya wa Baraaya wa Chimrat.22‑25Wa awlaad Chaachakh humman Yichfaan wa Ibaar wa Aliyiil wa Abduun wa Zikri wa Hanaan wa Hananya wa Ilaam wa Antuutiya wa Yifadya wa Fanuwiil.26‑27Wa awlaad Yaruuhaam humman Chamachraay wa Chaharya wa Atalya wa Yaʼrachya wa Iliiya wa Zikri.\"]\n",
    "liste = []\n",
    "for i in text:\n",
    "    i = re.sub(regex, r'\\n\\n', i)\n",
    "    liste.append(i)\n",
    "print(liste)\n",
    "#text = chercher_format(text)\n",
    "print(text)\n",
    "\"\"\"with open('arabe_tchad.txt', 'r') as file:\n",
    "    lines = file.readlines()\n",
    "    for line in lines:\n",
    "            linee = re.sub(regex, r'\\n\\n', line)\n",
    "            print(linee)\n",
    "            with open('arabe_tchad2.txt', 'a+') as file :\n",
    "                file.write(re.sub(regex, \"\\n\\n\", line))\"\"\"\n",
    "\n",
    "\n"
   ]
  },
  {
   "cell_type": "markdown",
   "metadata": {},
   "source": [
    " # Pour le français"
   ]
  },
  {
   "cell_type": "code",
   "execution_count": null,
   "metadata": {},
   "outputs": [
    {
     "name": "stderr",
     "output_type": "stream",
     "text": [
      "2025-03-26 15:24:34 [urllib3.connectionpool] DEBUG: Starting new HTTPS connection (1): www.biblegateway.com:443\n",
      "2025-03-26 15:24:35 [urllib3.connectionpool] DEBUG: https://www.biblegateway.com:443 \"GET /passage/?search=Gen%C3%A8se%201&version=LSG HTTP/1.1\" 200 None\n"
     ]
    },
    {
     "name": "stdout",
     "output_type": "stream",
     "text": [
      "https://www.biblegateway.com/passage/?search=Gen%C3%A8se%202&version=LSG\n",
      "https://www.biblegateway.com/passage/?search=Gen%C3%A8se%202&version=LSG\n",
      "Au commencement, Dieu créa les cieux et la terre.\n",
      "La terre était informe et vide: il y avait des ténèbres à la surface de l'abîme, et l'esprit de Dieu se mouvait au-dessus des eaux.\n",
      "Dieu dit: Que la lumière soit! Et la lumière fut.\n",
      "Dieu vit que la lumière était bonne; et Dieu sépara la lumière d'avec les ténèbres.\n",
      "Dieu appela la lumière jour, et il appela les ténèbres nuit. Ainsi, il y eut un soir, et il y eut un matin: ce fut le premier jour.\n",
      "Dieu dit: Qu'il y ait une étendue entre les eaux, et qu'elle sépare les eaux d'avec les eaux.\n",
      "Et Dieu fit l'étendue, et il sépara les eaux qui sont au-dessous de l'étendue d'avec les eaux qui sont au-dessus de l'étendue. Et cela fut ainsi.\n",
      "Dieu appela l'étendue ciel. Ainsi, il y eut un soir, et il y eut un matin: ce fut le second jour.\n",
      "Dieu dit: Que les eaux qui sont au-dessous du ciel se rassemblent en un seul lieu, et que le sec paraisse. Et cela fut ainsi.\n",
      "Dieu appela le sec terre, et il appela l'amas des eaux mers. Dieu vit que cela était bon.\n",
      "Puis Dieu dit: Que la terre produise de la verdure, de l'herbe portant de la semence, des arbres fruitiers donnant du fruit selon leur espèce et ayant en eux leur semence sur la terre. Et cela fut ainsi.\n",
      "La terre produisit de la verdure, de l'herbe portant de la semence selon son espèce, et des arbres donnant du fruit et ayant en eux leur semence selon leur espèce. Dieu vit que cela était bon.\n",
      "Ainsi, il y eut un soir, et il y eut un matin: ce fut le troisième jour.\n",
      "Dieu dit: Qu'il y ait des luminaires dans l'étendue du ciel, pour séparer le jour d'avec la nuit; que ce soient des signes pour marquer les époques, les jours et les années;\n",
      "et qu'ils servent de luminaires dans l'étendue du ciel, pour éclairer la terre. Et cela fut ainsi.\n",
      "Dieu fit les deux grands luminaires, le plus grand luminaire pour présider au jour, et le plus petit luminaire pour présider à la nuit; il fit aussi les étoiles.\n",
      "Dieu les plaça dans l'étendue du ciel, pour éclairer la terre,\n",
      "pour présider au jour et à la nuit, et pour séparer la lumière d'avec les ténèbres. Dieu vit que cela était bon.\n",
      "Ainsi, il y eut un soir, et il y eut un matin: ce fut le quatrième jour.\n",
      "Dieu dit: Que les eaux produisent en abondance des animaux vivants, et que des oiseaux volent sur la terre vers l'étendue du ciel.\n",
      "Dieu créa les grands poissons et tous les animaux vivants qui se meuvent, et que les eaux produisirent en abondance selon leur espèce; il créa aussi tout oiseau ailé selon son espèce. Dieu vit que cela était bon.\n",
      "Dieu les bénit, en disant: Soyez féconds, multipliez, et remplissez les eaux des mers; et que les oiseaux multiplient sur la terre.\n",
      "Ainsi, il y eut un soir, et il y eut un matin: ce fut le cinquième jour.\n",
      "Dieu dit: Que la terre produise des animaux vivants selon leur espèce, du bétail, des reptiles et des animaux terrestres, selon leur espèce. Et cela fut ainsi.\n",
      "Dieu fit les animaux de la terre selon leur espèce, le bétail selon son espèce, et tous les reptiles de la terre selon leur espèce. Dieu vit que cela était bon.\n",
      "Puis Dieu dit: Faisons l'homme à notre image, selon notre ressemblance, et qu'il domine sur les poissons de la mer, sur les oiseaux du ciel, sur le bétail, sur toute la terre, et sur tous les reptiles qui rampent sur la terre.\n",
      "Dieu créa l'homme à son image, il le créa à l'image de Dieu, il créa l'homme et la femme.\n",
      "Dieu les bénit, et Dieu leur dit: Soyez féconds, multipliez, remplissez la terre, et l'assujettissez; et dominez sur les poissons de la mer, sur les oiseaux du ciel, et sur tout animal qui se meut sur la terre.\n",
      "Et Dieu dit: Voici, je vous donne toute herbe portant de la semence et qui est à la surface de toute la terre, et tout arbre ayant en lui du fruit d'arbre et portant de la semence: ce sera votre nourriture.\n",
      "Et à tout animal de la terre, à tout oiseau du ciel, et à tout ce qui se meut sur la terre, ayant en soi un souffle de vie, je donne toute herbe verte pour nourriture. Et cela fut ainsi.\n",
      "Dieu vit tout ce qu'il avait fait et voici, cela était très bon. Ainsi, il y eut un soir, et il y eut un matin: ce fut le sixième jour.\n"
     ]
    }
   ],
   "source": [
    "from scrapy import Selector\n",
    "import requests\n",
    "\n",
    "url = \"https://www.biblegateway.com/passage/?search=Gen%C3%A8se%201&version=LSG\"\n",
    "html = requests.get(url).content   \n",
    "sel = Selector(text=html) \n",
    "#text = sel.css('div.version-LSG result-text-style-normal text-html  p ::text').extract()  //class=\"version-LSG result-text-style-normal text-html\"\n",
    "text = sel.xpath('//div[contains(@class,\"version-LSG result-text-style-normal text-html\")]/p//text()').extract()\n",
    "next_link = sel.xpath('//a[@class=\"next-link\"]/@href').extract()\n",
    "\n",
    "link = \"https://www.biblegateway.com\" + next_link[0] # Pour le prochain lien\n",
    "print(link)\n",
    "print(\"https://www.biblegateway.com/passage/?search=Gen%C3%A8se%202&version=LSG\")\n",
    "\n",
    "for i in range(1, len(text),2):\n",
    "    print(text[i])\n",
    "\n",
    "    \n"
   ]
  },
  {
   "cell_type": "code",
   "execution_count": 1,
   "metadata": {},
   "outputs": [
    {
     "name": "stderr",
     "output_type": "stream",
     "text": [
      "2025-05-04 14:10:56 [scrapy.utils.log] INFO: Scrapy 2.12.0 started (bot: scrapybot)\n",
      "2025-05-04 14:10:56 [scrapy.utils.log] INFO: Versions: lxml 5.3.1.0, libxml2 2.12.9, cssselect 1.3.0, parsel 1.10.0, w3lib 2.3.1, Twisted 24.11.0, Python 3.12.3 (main, Feb  4 2025, 14:48:35) [GCC 13.3.0], pyOpenSSL 25.0.0 (OpenSSL 3.4.1 11 Feb 2025), cryptography 44.0.2, Platform Linux-6.11.0-17-generic-x86_64-with-glibc2.39\n",
      "2025-05-04 14:10:56 [scrapy.addons] INFO: Enabled addons:\n",
      "[]\n",
      "2025-05-04 14:10:56 [scrapy.utils.log] DEBUG: Using reactor: twisted.internet.epollreactor.EPollReactor\n",
      "2025-05-04 14:10:56 [scrapy.extensions.telnet] INFO: Telnet Password: 42c8a7e46a00c9a0\n",
      "2025-05-04 14:10:56 [scrapy.middleware] INFO: Enabled extensions:\n",
      "['scrapy.extensions.corestats.CoreStats',\n",
      " 'scrapy.extensions.telnet.TelnetConsole',\n",
      " 'scrapy.extensions.memusage.MemoryUsage',\n",
      " 'scrapy.extensions.logstats.LogStats']\n",
      "2025-05-04 14:10:56 [scrapy.crawler] INFO: Overridden settings:\n",
      "{}\n",
      "2025-05-04 14:10:57 [scrapy.middleware] INFO: Enabled downloader middlewares:\n",
      "['scrapy.downloadermiddlewares.offsite.OffsiteMiddleware',\n",
      " 'scrapy.downloadermiddlewares.httpauth.HttpAuthMiddleware',\n",
      " 'scrapy.downloadermiddlewares.downloadtimeout.DownloadTimeoutMiddleware',\n",
      " 'scrapy.downloadermiddlewares.defaultheaders.DefaultHeadersMiddleware',\n",
      " 'scrapy.downloadermiddlewares.useragent.UserAgentMiddleware',\n",
      " 'scrapy.downloadermiddlewares.retry.RetryMiddleware',\n",
      " 'scrapy.downloadermiddlewares.redirect.MetaRefreshMiddleware',\n",
      " 'scrapy.downloadermiddlewares.httpcompression.HttpCompressionMiddleware',\n",
      " 'scrapy.downloadermiddlewares.redirect.RedirectMiddleware',\n",
      " 'scrapy.downloadermiddlewares.cookies.CookiesMiddleware',\n",
      " 'scrapy.downloadermiddlewares.httpproxy.HttpProxyMiddleware',\n",
      " 'scrapy.downloadermiddlewares.stats.DownloaderStats']\n",
      "2025-05-04 14:10:57 [scrapy.middleware] INFO: Enabled spider middlewares:\n",
      "['scrapy.spidermiddlewares.httperror.HttpErrorMiddleware',\n",
      " 'scrapy.spidermiddlewares.referer.RefererMiddleware',\n",
      " 'scrapy.spidermiddlewares.urllength.UrlLengthMiddleware',\n",
      " 'scrapy.spidermiddlewares.depth.DepthMiddleware']\n",
      "2025-05-04 14:10:57 [scrapy.middleware] INFO: Enabled item pipelines:\n",
      "[]\n",
      "2025-05-04 14:10:57 [scrapy.core.engine] INFO: Spider opened\n",
      "2025-05-04 14:10:57 [scrapy.extensions.logstats] INFO: Crawled 0 pages (at 0 pages/min), scraped 0 items (at 0 items/min)\n",
      "2025-05-04 14:10:57 [scrapy.extensions.telnet] INFO: Telnet console listening on 127.0.0.1:6025\n",
      "2025-05-04 14:10:58 [scrapy.core.engine] DEBUG: Crawled (200) <GET https://www.biblegateway.com/passage/?search=Gen%C3%A8se%201&version=LSG> (referer: None)\n"
     ]
    },
    {
     "name": "stdout",
     "output_type": "stream",
     "text": [
      "--------------- ['/passage/?search=Gen%C3%A8se%202&version=LSG'] -----------------\n"
     ]
    },
    {
     "name": "stderr",
     "output_type": "stream",
     "text": [
      "2025-05-04 14:10:59 [scrapy.core.engine] DEBUG: Crawled (200) <GET https://www.biblegateway.com/passage/?search=Gen%C3%A8se%202&version=LSG> (referer: https://www.biblegateway.com/passage/?search=Gen%C3%A8se%201&version=LSG)\n"
     ]
    },
    {
     "name": "stdout",
     "output_type": "stream",
     "text": [
      "--------------- ['/passage/?search=Gen%C3%A8se%203&version=LSG'] -----------------\n"
     ]
    },
    {
     "name": "stderr",
     "output_type": "stream",
     "text": [
      "2025-05-04 14:11:00 [scrapy.core.engine] DEBUG: Crawled (200) <GET https://www.biblegateway.com/passage/?search=Gen%C3%A8se%203&version=LSG> (referer: https://www.biblegateway.com/passage/?search=Gen%C3%A8se%202&version=LSG)\n"
     ]
    },
    {
     "name": "stdout",
     "output_type": "stream",
     "text": [
      "--------------- ['/passage/?search=Gen%C3%A8se%204&version=LSG'] -----------------\n"
     ]
    },
    {
     "name": "stderr",
     "output_type": "stream",
     "text": [
      "2025-05-04 14:11:01 [scrapy.core.engine] DEBUG: Crawled (200) <GET https://www.biblegateway.com/passage/?search=Gen%C3%A8se%204&version=LSG> (referer: https://www.biblegateway.com/passage/?search=Gen%C3%A8se%203&version=LSG)\n"
     ]
    },
    {
     "name": "stdout",
     "output_type": "stream",
     "text": [
      "--------------- ['/passage/?search=Gen%C3%A8se%205&version=LSG'] -----------------\n"
     ]
    },
    {
     "name": "stderr",
     "output_type": "stream",
     "text": [
      "2025-05-04 14:11:01 [scrapy.core.engine] DEBUG: Crawled (200) <GET https://www.biblegateway.com/passage/?search=Gen%C3%A8se%205&version=LSG> (referer: https://www.biblegateway.com/passage/?search=Gen%C3%A8se%204&version=LSG)\n"
     ]
    },
    {
     "name": "stdout",
     "output_type": "stream",
     "text": [
      "--------------- ['/passage/?search=Gen%C3%A8se%206&version=LSG'] -----------------\n"
     ]
    },
    {
     "name": "stderr",
     "output_type": "stream",
     "text": [
      "2025-05-04 14:11:02 [scrapy.core.engine] DEBUG: Crawled (200) <GET https://www.biblegateway.com/passage/?search=Gen%C3%A8se%206&version=LSG> (referer: https://www.biblegateway.com/passage/?search=Gen%C3%A8se%205&version=LSG)\n"
     ]
    },
    {
     "name": "stdout",
     "output_type": "stream",
     "text": [
      "--------------- ['/passage/?search=Gen%C3%A8se%207&version=LSG'] -----------------\n"
     ]
    },
    {
     "name": "stderr",
     "output_type": "stream",
     "text": [
      "2025-05-04 14:11:03 [scrapy.core.engine] DEBUG: Crawled (200) <GET https://www.biblegateway.com/passage/?search=Gen%C3%A8se%207&version=LSG> (referer: https://www.biblegateway.com/passage/?search=Gen%C3%A8se%206&version=LSG)\n"
     ]
    },
    {
     "name": "stdout",
     "output_type": "stream",
     "text": [
      "--------------- ['/passage/?search=Gen%C3%A8se%208&version=LSG'] -----------------\n"
     ]
    },
    {
     "name": "stderr",
     "output_type": "stream",
     "text": [
      "2025-05-04 14:11:03 [scrapy.core.engine] DEBUG: Crawled (200) <GET https://www.biblegateway.com/passage/?search=Gen%C3%A8se%208&version=LSG> (referer: https://www.biblegateway.com/passage/?search=Gen%C3%A8se%207&version=LSG)\n"
     ]
    },
    {
     "name": "stdout",
     "output_type": "stream",
     "text": [
      "--------------- ['/passage/?search=Gen%C3%A8se%209&version=LSG'] -----------------\n"
     ]
    },
    {
     "name": "stderr",
     "output_type": "stream",
     "text": [
      "2025-05-04 14:11:05 [scrapy.core.engine] DEBUG: Crawled (200) <GET https://www.biblegateway.com/passage/?search=Gen%C3%A8se%209&version=LSG> (referer: https://www.biblegateway.com/passage/?search=Gen%C3%A8se%208&version=LSG)\n"
     ]
    },
    {
     "name": "stdout",
     "output_type": "stream",
     "text": [
      "--------------- ['/passage/?search=Gen%C3%A8se%2010&version=LSG'] -----------------\n"
     ]
    },
    {
     "name": "stderr",
     "output_type": "stream",
     "text": [
      "2025-05-04 14:11:05 [scrapy.core.engine] DEBUG: Crawled (200) <GET https://www.biblegateway.com/passage/?search=Gen%C3%A8se%2010&version=LSG> (referer: https://www.biblegateway.com/passage/?search=Gen%C3%A8se%209&version=LSG)\n"
     ]
    },
    {
     "name": "stdout",
     "output_type": "stream",
     "text": [
      "--------------- ['/passage/?search=Gen%C3%A8se%2011&version=LSG'] -----------------\n"
     ]
    },
    {
     "name": "stderr",
     "output_type": "stream",
     "text": [
      "2025-05-04 14:11:06 [scrapy.core.engine] DEBUG: Crawled (200) <GET https://www.biblegateway.com/passage/?search=Gen%C3%A8se%2011&version=LSG> (referer: https://www.biblegateway.com/passage/?search=Gen%C3%A8se%2010&version=LSG)\n"
     ]
    },
    {
     "name": "stdout",
     "output_type": "stream",
     "text": [
      "--------------- ['/passage/?search=Gen%C3%A8se%2012&version=LSG'] -----------------\n"
     ]
    },
    {
     "name": "stderr",
     "output_type": "stream",
     "text": [
      "2025-05-04 14:11:07 [scrapy.core.engine] DEBUG: Crawled (200) <GET https://www.biblegateway.com/passage/?search=Gen%C3%A8se%2012&version=LSG> (referer: https://www.biblegateway.com/passage/?search=Gen%C3%A8se%2011&version=LSG)\n"
     ]
    },
    {
     "name": "stdout",
     "output_type": "stream",
     "text": [
      "--------------- ['/passage/?search=Gen%C3%A8se%2013&version=LSG'] -----------------\n"
     ]
    },
    {
     "name": "stderr",
     "output_type": "stream",
     "text": [
      "2025-05-04 14:11:07 [scrapy.core.engine] DEBUG: Crawled (200) <GET https://www.biblegateway.com/passage/?search=Gen%C3%A8se%2013&version=LSG> (referer: https://www.biblegateway.com/passage/?search=Gen%C3%A8se%2012&version=LSG)\n"
     ]
    },
    {
     "name": "stdout",
     "output_type": "stream",
     "text": [
      "--------------- ['/passage/?search=Gen%C3%A8se%2014&version=LSG'] -----------------\n"
     ]
    },
    {
     "name": "stderr",
     "output_type": "stream",
     "text": [
      "2025-05-04 14:11:08 [scrapy.core.engine] DEBUG: Crawled (200) <GET https://www.biblegateway.com/passage/?search=Gen%C3%A8se%2014&version=LSG> (referer: https://www.biblegateway.com/passage/?search=Gen%C3%A8se%2013&version=LSG)\n"
     ]
    },
    {
     "name": "stdout",
     "output_type": "stream",
     "text": [
      "--------------- ['/passage/?search=Gen%C3%A8se%2015&version=LSG'] -----------------\n"
     ]
    },
    {
     "name": "stderr",
     "output_type": "stream",
     "text": [
      "2025-05-04 14:11:10 [scrapy.core.engine] DEBUG: Crawled (200) <GET https://www.biblegateway.com/passage/?search=Gen%C3%A8se%2015&version=LSG> (referer: https://www.biblegateway.com/passage/?search=Gen%C3%A8se%2014&version=LSG)\n"
     ]
    },
    {
     "name": "stdout",
     "output_type": "stream",
     "text": [
      "--------------- ['/passage/?search=Gen%C3%A8se%2016&version=LSG'] -----------------\n"
     ]
    },
    {
     "name": "stderr",
     "output_type": "stream",
     "text": [
      "2025-05-04 14:11:11 [scrapy.core.engine] DEBUG: Crawled (200) <GET https://www.biblegateway.com/passage/?search=Gen%C3%A8se%2016&version=LSG> (referer: https://www.biblegateway.com/passage/?search=Gen%C3%A8se%2015&version=LSG)\n"
     ]
    },
    {
     "name": "stdout",
     "output_type": "stream",
     "text": [
      "--------------- ['/passage/?search=Gen%C3%A8se%2017&version=LSG'] -----------------\n"
     ]
    },
    {
     "name": "stderr",
     "output_type": "stream",
     "text": [
      "2025-05-04 14:11:12 [scrapy.core.engine] DEBUG: Crawled (200) <GET https://www.biblegateway.com/passage/?search=Gen%C3%A8se%2017&version=LSG> (referer: https://www.biblegateway.com/passage/?search=Gen%C3%A8se%2016&version=LSG)\n"
     ]
    },
    {
     "name": "stdout",
     "output_type": "stream",
     "text": [
      "--------------- ['/passage/?search=Gen%C3%A8se%2018&version=LSG'] -----------------\n"
     ]
    },
    {
     "name": "stderr",
     "output_type": "stream",
     "text": [
      "2025-05-04 14:11:13 [scrapy.core.engine] DEBUG: Crawled (200) <GET https://www.biblegateway.com/passage/?search=Gen%C3%A8se%2018&version=LSG> (referer: https://www.biblegateway.com/passage/?search=Gen%C3%A8se%2017&version=LSG)\n"
     ]
    },
    {
     "name": "stdout",
     "output_type": "stream",
     "text": [
      "--------------- ['/passage/?search=Gen%C3%A8se%2019&version=LSG'] -----------------\n"
     ]
    },
    {
     "name": "stderr",
     "output_type": "stream",
     "text": [
      "2025-05-04 14:11:14 [scrapy.core.engine] DEBUG: Crawled (200) <GET https://www.biblegateway.com/passage/?search=Gen%C3%A8se%2019&version=LSG> (referer: https://www.biblegateway.com/passage/?search=Gen%C3%A8se%2018&version=LSG)\n"
     ]
    },
    {
     "name": "stdout",
     "output_type": "stream",
     "text": [
      "--------------- ['/passage/?search=Gen%C3%A8se%2020&version=LSG'] -----------------\n"
     ]
    },
    {
     "name": "stderr",
     "output_type": "stream",
     "text": [
      "2025-05-04 14:11:14 [scrapy.core.engine] DEBUG: Crawled (200) <GET https://www.biblegateway.com/passage/?search=Gen%C3%A8se%2020&version=LSG> (referer: https://www.biblegateway.com/passage/?search=Gen%C3%A8se%2019&version=LSG)\n"
     ]
    },
    {
     "name": "stdout",
     "output_type": "stream",
     "text": [
      "--------------- ['/passage/?search=Gen%C3%A8se%2021&version=LSG'] -----------------\n"
     ]
    },
    {
     "name": "stderr",
     "output_type": "stream",
     "text": [
      "2025-05-04 14:11:15 [scrapy.core.engine] DEBUG: Crawled (200) <GET https://www.biblegateway.com/passage/?search=Gen%C3%A8se%2021&version=LSG> (referer: https://www.biblegateway.com/passage/?search=Gen%C3%A8se%2020&version=LSG)\n"
     ]
    },
    {
     "name": "stdout",
     "output_type": "stream",
     "text": [
      "--------------- ['/passage/?search=Gen%C3%A8se%2022&version=LSG'] -----------------\n"
     ]
    },
    {
     "name": "stderr",
     "output_type": "stream",
     "text": [
      "2025-05-04 14:11:16 [scrapy.core.engine] DEBUG: Crawled (200) <GET https://www.biblegateway.com/passage/?search=Gen%C3%A8se%2022&version=LSG> (referer: https://www.biblegateway.com/passage/?search=Gen%C3%A8se%2021&version=LSG)\n"
     ]
    },
    {
     "name": "stdout",
     "output_type": "stream",
     "text": [
      "--------------- ['/passage/?search=Gen%C3%A8se%2023&version=LSG'] -----------------\n"
     ]
    },
    {
     "name": "stderr",
     "output_type": "stream",
     "text": [
      "2025-05-04 14:11:17 [scrapy.core.engine] DEBUG: Crawled (200) <GET https://www.biblegateway.com/passage/?search=Gen%C3%A8se%2023&version=LSG> (referer: https://www.biblegateway.com/passage/?search=Gen%C3%A8se%2022&version=LSG)\n"
     ]
    },
    {
     "name": "stdout",
     "output_type": "stream",
     "text": [
      "--------------- ['/passage/?search=Gen%C3%A8se%2024&version=LSG'] -----------------\n"
     ]
    },
    {
     "name": "stderr",
     "output_type": "stream",
     "text": [
      "2025-05-04 14:11:18 [scrapy.core.engine] DEBUG: Crawled (200) <GET https://www.biblegateway.com/passage/?search=Gen%C3%A8se%2024&version=LSG> (referer: https://www.biblegateway.com/passage/?search=Gen%C3%A8se%2023&version=LSG)\n"
     ]
    },
    {
     "name": "stdout",
     "output_type": "stream",
     "text": [
      "--------------- ['/passage/?search=Gen%C3%A8se%2025&version=LSG'] -----------------\n"
     ]
    },
    {
     "name": "stderr",
     "output_type": "stream",
     "text": [
      "2025-05-04 14:11:18 [scrapy.core.engine] DEBUG: Crawled (200) <GET https://www.biblegateway.com/passage/?search=Gen%C3%A8se%2025&version=LSG> (referer: https://www.biblegateway.com/passage/?search=Gen%C3%A8se%2024&version=LSG)\n"
     ]
    },
    {
     "name": "stdout",
     "output_type": "stream",
     "text": [
      "--------------- ['/passage/?search=Gen%C3%A8se%2026&version=LSG'] -----------------\n"
     ]
    },
    {
     "name": "stderr",
     "output_type": "stream",
     "text": [
      "2025-05-04 14:11:19 [scrapy.core.engine] DEBUG: Crawled (200) <GET https://www.biblegateway.com/passage/?search=Gen%C3%A8se%2026&version=LSG> (referer: https://www.biblegateway.com/passage/?search=Gen%C3%A8se%2025&version=LSG)\n"
     ]
    },
    {
     "name": "stdout",
     "output_type": "stream",
     "text": [
      "--------------- ['/passage/?search=Gen%C3%A8se%2027&version=LSG'] -----------------\n"
     ]
    },
    {
     "name": "stderr",
     "output_type": "stream",
     "text": [
      "2025-05-04 14:11:20 [scrapy.core.engine] DEBUG: Crawled (200) <GET https://www.biblegateway.com/passage/?search=Gen%C3%A8se%2027&version=LSG> (referer: https://www.biblegateway.com/passage/?search=Gen%C3%A8se%2026&version=LSG)\n"
     ]
    },
    {
     "name": "stdout",
     "output_type": "stream",
     "text": [
      "--------------- ['/passage/?search=Gen%C3%A8se%2028&version=LSG'] -----------------\n"
     ]
    },
    {
     "name": "stderr",
     "output_type": "stream",
     "text": [
      "2025-05-04 14:11:20 [scrapy.core.engine] DEBUG: Crawled (200) <GET https://www.biblegateway.com/passage/?search=Gen%C3%A8se%2028&version=LSG> (referer: https://www.biblegateway.com/passage/?search=Gen%C3%A8se%2027&version=LSG)\n"
     ]
    },
    {
     "name": "stdout",
     "output_type": "stream",
     "text": [
      "--------------- ['/passage/?search=Gen%C3%A8se%2029&version=LSG'] -----------------\n"
     ]
    },
    {
     "name": "stderr",
     "output_type": "stream",
     "text": [
      "2025-05-04 14:11:21 [scrapy.core.engine] DEBUG: Crawled (200) <GET https://www.biblegateway.com/passage/?search=Gen%C3%A8se%2029&version=LSG> (referer: https://www.biblegateway.com/passage/?search=Gen%C3%A8se%2028&version=LSG)\n"
     ]
    },
    {
     "name": "stdout",
     "output_type": "stream",
     "text": [
      "--------------- ['/passage/?search=Gen%C3%A8se%2030&version=LSG'] -----------------\n"
     ]
    },
    {
     "name": "stderr",
     "output_type": "stream",
     "text": [
      "2025-05-04 14:11:22 [scrapy.core.engine] DEBUG: Crawled (200) <GET https://www.biblegateway.com/passage/?search=Gen%C3%A8se%2030&version=LSG> (referer: https://www.biblegateway.com/passage/?search=Gen%C3%A8se%2029&version=LSG)\n"
     ]
    },
    {
     "name": "stdout",
     "output_type": "stream",
     "text": [
      "--------------- ['/passage/?search=Gen%C3%A8se%2031&version=LSG'] -----------------\n"
     ]
    },
    {
     "name": "stderr",
     "output_type": "stream",
     "text": [
      "2025-05-04 14:11:22 [scrapy.core.engine] DEBUG: Crawled (200) <GET https://www.biblegateway.com/passage/?search=Gen%C3%A8se%2031&version=LSG> (referer: https://www.biblegateway.com/passage/?search=Gen%C3%A8se%2030&version=LSG)\n"
     ]
    },
    {
     "name": "stdout",
     "output_type": "stream",
     "text": [
      "--------------- ['/passage/?search=Gen%C3%A8se%2032&version=LSG'] -----------------\n"
     ]
    },
    {
     "name": "stderr",
     "output_type": "stream",
     "text": [
      "2025-05-04 14:11:23 [scrapy.core.engine] DEBUG: Crawled (200) <GET https://www.biblegateway.com/passage/?search=Gen%C3%A8se%2032&version=LSG> (referer: https://www.biblegateway.com/passage/?search=Gen%C3%A8se%2031&version=LSG)\n"
     ]
    },
    {
     "name": "stdout",
     "output_type": "stream",
     "text": [
      "--------------- ['/passage/?search=Gen%C3%A8se%2033&version=LSG'] -----------------\n"
     ]
    },
    {
     "name": "stderr",
     "output_type": "stream",
     "text": [
      "2025-05-04 14:11:24 [scrapy.core.engine] DEBUG: Crawled (200) <GET https://www.biblegateway.com/passage/?search=Gen%C3%A8se%2033&version=LSG> (referer: https://www.biblegateway.com/passage/?search=Gen%C3%A8se%2032&version=LSG)\n"
     ]
    },
    {
     "name": "stdout",
     "output_type": "stream",
     "text": [
      "--------------- ['/passage/?search=Gen%C3%A8se%2034&version=LSG'] -----------------\n"
     ]
    },
    {
     "name": "stderr",
     "output_type": "stream",
     "text": [
      "2025-05-04 14:11:24 [scrapy.core.engine] DEBUG: Crawled (200) <GET https://www.biblegateway.com/passage/?search=Gen%C3%A8se%2034&version=LSG> (referer: https://www.biblegateway.com/passage/?search=Gen%C3%A8se%2033&version=LSG)\n"
     ]
    },
    {
     "name": "stdout",
     "output_type": "stream",
     "text": [
      "--------------- ['/passage/?search=Gen%C3%A8se%2035&version=LSG'] -----------------\n"
     ]
    },
    {
     "name": "stderr",
     "output_type": "stream",
     "text": [
      "2025-05-04 14:11:25 [scrapy.core.engine] DEBUG: Crawled (200) <GET https://www.biblegateway.com/passage/?search=Gen%C3%A8se%2035&version=LSG> (referer: https://www.biblegateway.com/passage/?search=Gen%C3%A8se%2034&version=LSG)\n"
     ]
    },
    {
     "name": "stdout",
     "output_type": "stream",
     "text": [
      "--------------- ['/passage/?search=Gen%C3%A8se%2036&version=LSG'] -----------------\n"
     ]
    },
    {
     "name": "stderr",
     "output_type": "stream",
     "text": [
      "2025-05-04 14:11:26 [scrapy.core.engine] DEBUG: Crawled (200) <GET https://www.biblegateway.com/passage/?search=Gen%C3%A8se%2036&version=LSG> (referer: https://www.biblegateway.com/passage/?search=Gen%C3%A8se%2035&version=LSG)\n"
     ]
    },
    {
     "name": "stdout",
     "output_type": "stream",
     "text": [
      "--------------- ['/passage/?search=Gen%C3%A8se%2037&version=LSG'] -----------------\n"
     ]
    },
    {
     "name": "stderr",
     "output_type": "stream",
     "text": [
      "2025-05-04 14:11:27 [scrapy.core.engine] DEBUG: Crawled (200) <GET https://www.biblegateway.com/passage/?search=Gen%C3%A8se%2037&version=LSG> (referer: https://www.biblegateway.com/passage/?search=Gen%C3%A8se%2036&version=LSG)\n"
     ]
    },
    {
     "name": "stdout",
     "output_type": "stream",
     "text": [
      "--------------- ['/passage/?search=Gen%C3%A8se%2038&version=LSG'] -----------------\n"
     ]
    },
    {
     "name": "stderr",
     "output_type": "stream",
     "text": [
      "2025-05-04 14:11:27 [scrapy.core.engine] DEBUG: Crawled (200) <GET https://www.biblegateway.com/passage/?search=Gen%C3%A8se%2038&version=LSG> (referer: https://www.biblegateway.com/passage/?search=Gen%C3%A8se%2037&version=LSG)\n"
     ]
    },
    {
     "name": "stdout",
     "output_type": "stream",
     "text": [
      "--------------- ['/passage/?search=Gen%C3%A8se%2039&version=LSG'] -----------------\n"
     ]
    },
    {
     "name": "stderr",
     "output_type": "stream",
     "text": [
      "2025-05-04 14:11:28 [scrapy.core.engine] DEBUG: Crawled (200) <GET https://www.biblegateway.com/passage/?search=Gen%C3%A8se%2039&version=LSG> (referer: https://www.biblegateway.com/passage/?search=Gen%C3%A8se%2038&version=LSG)\n"
     ]
    },
    {
     "name": "stdout",
     "output_type": "stream",
     "text": [
      "--------------- ['/passage/?search=Gen%C3%A8se%2040&version=LSG'] -----------------\n"
     ]
    },
    {
     "name": "stderr",
     "output_type": "stream",
     "text": [
      "2025-05-04 14:11:30 [scrapy.core.engine] DEBUG: Crawled (200) <GET https://www.biblegateway.com/passage/?search=Gen%C3%A8se%2040&version=LSG> (referer: https://www.biblegateway.com/passage/?search=Gen%C3%A8se%2039&version=LSG)\n"
     ]
    },
    {
     "name": "stdout",
     "output_type": "stream",
     "text": [
      "--------------- ['/passage/?search=Gen%C3%A8se%2041&version=LSG'] -----------------\n"
     ]
    },
    {
     "name": "stderr",
     "output_type": "stream",
     "text": [
      "2025-05-04 14:11:32 [scrapy.core.engine] DEBUG: Crawled (200) <GET https://www.biblegateway.com/passage/?search=Gen%C3%A8se%2041&version=LSG> (referer: https://www.biblegateway.com/passage/?search=Gen%C3%A8se%2040&version=LSG)\n"
     ]
    },
    {
     "name": "stdout",
     "output_type": "stream",
     "text": [
      "--------------- ['/passage/?search=Gen%C3%A8se%2042&version=LSG'] -----------------\n"
     ]
    },
    {
     "name": "stderr",
     "output_type": "stream",
     "text": [
      "2025-05-04 14:11:35 [scrapy.core.engine] DEBUG: Crawled (200) <GET https://www.biblegateway.com/passage/?search=Gen%C3%A8se%2042&version=LSG> (referer: https://www.biblegateway.com/passage/?search=Gen%C3%A8se%2041&version=LSG)\n"
     ]
    },
    {
     "name": "stdout",
     "output_type": "stream",
     "text": [
      "--------------- ['/passage/?search=Gen%C3%A8se%2043&version=LSG'] -----------------\n"
     ]
    },
    {
     "name": "stderr",
     "output_type": "stream",
     "text": [
      "2025-05-04 14:11:36 [scrapy.core.engine] DEBUG: Crawled (200) <GET https://www.biblegateway.com/passage/?search=Gen%C3%A8se%2043&version=LSG> (referer: https://www.biblegateway.com/passage/?search=Gen%C3%A8se%2042&version=LSG)\n"
     ]
    },
    {
     "name": "stdout",
     "output_type": "stream",
     "text": [
      "--------------- ['/passage/?search=Gen%C3%A8se%2044&version=LSG'] -----------------\n"
     ]
    },
    {
     "name": "stderr",
     "output_type": "stream",
     "text": [
      "2025-05-04 14:11:38 [scrapy.core.engine] DEBUG: Crawled (200) <GET https://www.biblegateway.com/passage/?search=Gen%C3%A8se%2044&version=LSG> (referer: https://www.biblegateway.com/passage/?search=Gen%C3%A8se%2043&version=LSG)\n"
     ]
    },
    {
     "name": "stdout",
     "output_type": "stream",
     "text": [
      "--------------- ['/passage/?search=Gen%C3%A8se%2045&version=LSG'] -----------------\n"
     ]
    },
    {
     "name": "stderr",
     "output_type": "stream",
     "text": [
      "2025-05-04 14:11:39 [scrapy.core.engine] DEBUG: Crawled (200) <GET https://www.biblegateway.com/passage/?search=Gen%C3%A8se%2045&version=LSG> (referer: https://www.biblegateway.com/passage/?search=Gen%C3%A8se%2044&version=LSG)\n"
     ]
    },
    {
     "name": "stdout",
     "output_type": "stream",
     "text": [
      "--------------- ['/passage/?search=Gen%C3%A8se%2046&version=LSG'] -----------------\n"
     ]
    },
    {
     "name": "stderr",
     "output_type": "stream",
     "text": [
      "2025-05-04 14:11:40 [scrapy.core.engine] DEBUG: Crawled (200) <GET https://www.biblegateway.com/passage/?search=Gen%C3%A8se%2046&version=LSG> (referer: https://www.biblegateway.com/passage/?search=Gen%C3%A8se%2045&version=LSG)\n"
     ]
    },
    {
     "name": "stdout",
     "output_type": "stream",
     "text": [
      "--------------- ['/passage/?search=Gen%C3%A8se%2047&version=LSG'] -----------------\n"
     ]
    },
    {
     "name": "stderr",
     "output_type": "stream",
     "text": [
      "2025-05-04 14:11:41 [scrapy.core.engine] DEBUG: Crawled (200) <GET https://www.biblegateway.com/passage/?search=Gen%C3%A8se%2047&version=LSG> (referer: https://www.biblegateway.com/passage/?search=Gen%C3%A8se%2046&version=LSG)\n"
     ]
    },
    {
     "name": "stdout",
     "output_type": "stream",
     "text": [
      "--------------- ['/passage/?search=Gen%C3%A8se%2048&version=LSG'] -----------------\n"
     ]
    },
    {
     "name": "stderr",
     "output_type": "stream",
     "text": [
      "2025-05-04 14:11:42 [scrapy.core.engine] DEBUG: Crawled (200) <GET https://www.biblegateway.com/passage/?search=Gen%C3%A8se%2048&version=LSG> (referer: https://www.biblegateway.com/passage/?search=Gen%C3%A8se%2047&version=LSG)\n"
     ]
    },
    {
     "name": "stdout",
     "output_type": "stream",
     "text": [
      "--------------- ['/passage/?search=Gen%C3%A8se%2049&version=LSG'] -----------------\n"
     ]
    },
    {
     "name": "stderr",
     "output_type": "stream",
     "text": [
      "2025-05-04 14:11:42 [scrapy.core.engine] DEBUG: Crawled (200) <GET https://www.biblegateway.com/passage/?search=Gen%C3%A8se%2049&version=LSG> (referer: https://www.biblegateway.com/passage/?search=Gen%C3%A8se%2048&version=LSG)\n"
     ]
    },
    {
     "name": "stdout",
     "output_type": "stream",
     "text": [
      "--------------- ['/passage/?search=Gen%C3%A8se%2050&version=LSG'] -----------------\n"
     ]
    },
    {
     "name": "stderr",
     "output_type": "stream",
     "text": [
      "2025-05-04 14:11:43 [scrapy.core.engine] DEBUG: Crawled (200) <GET https://www.biblegateway.com/passage/?search=Gen%C3%A8se%2050&version=LSG> (referer: https://www.biblegateway.com/passage/?search=Gen%C3%A8se%2049&version=LSG)\n"
     ]
    },
    {
     "name": "stdout",
     "output_type": "stream",
     "text": [
      "--------------- ['/passage/?search=Exode%201&version=LSG'] -----------------\n"
     ]
    },
    {
     "name": "stderr",
     "output_type": "stream",
     "text": [
      "2025-05-04 14:11:44 [scrapy.core.engine] DEBUG: Crawled (200) <GET https://www.biblegateway.com/passage/?search=Exode%201&version=LSG> (referer: https://www.biblegateway.com/passage/?search=Gen%C3%A8se%2050&version=LSG)\n"
     ]
    },
    {
     "name": "stdout",
     "output_type": "stream",
     "text": [
      "--------------- ['/passage/?search=Exode%202&version=LSG'] -----------------\n"
     ]
    },
    {
     "name": "stderr",
     "output_type": "stream",
     "text": [
      "2025-05-04 14:11:45 [scrapy.core.engine] DEBUG: Crawled (200) <GET https://www.biblegateway.com/passage/?search=Exode%202&version=LSG> (referer: https://www.biblegateway.com/passage/?search=Exode%201&version=LSG)\n"
     ]
    },
    {
     "name": "stdout",
     "output_type": "stream",
     "text": [
      "--------------- ['/passage/?search=Exode%203&version=LSG'] -----------------\n"
     ]
    },
    {
     "name": "stderr",
     "output_type": "stream",
     "text": [
      "2025-05-04 14:11:46 [scrapy.core.engine] DEBUG: Crawled (200) <GET https://www.biblegateway.com/passage/?search=Exode%203&version=LSG> (referer: https://www.biblegateway.com/passage/?search=Exode%202&version=LSG)\n"
     ]
    },
    {
     "name": "stdout",
     "output_type": "stream",
     "text": [
      "--------------- ['/passage/?search=Exode%204&version=LSG'] -----------------\n"
     ]
    },
    {
     "name": "stderr",
     "output_type": "stream",
     "text": [
      "2025-05-04 14:11:47 [scrapy.core.engine] DEBUG: Crawled (200) <GET https://www.biblegateway.com/passage/?search=Exode%204&version=LSG> (referer: https://www.biblegateway.com/passage/?search=Exode%203&version=LSG)\n"
     ]
    },
    {
     "name": "stdout",
     "output_type": "stream",
     "text": [
      "--------------- ['/passage/?search=Exode%205&version=LSG'] -----------------\n"
     ]
    },
    {
     "name": "stderr",
     "output_type": "stream",
     "text": [
      "2025-05-04 14:11:48 [scrapy.core.engine] DEBUG: Crawled (200) <GET https://www.biblegateway.com/passage/?search=Exode%205&version=LSG> (referer: https://www.biblegateway.com/passage/?search=Exode%204&version=LSG)\n"
     ]
    },
    {
     "name": "stdout",
     "output_type": "stream",
     "text": [
      "--------------- ['/passage/?search=Exode%206&version=LSG'] -----------------\n"
     ]
    },
    {
     "name": "stderr",
     "output_type": "stream",
     "text": [
      "2025-05-04 14:11:49 [scrapy.core.engine] DEBUG: Crawled (200) <GET https://www.biblegateway.com/passage/?search=Exode%206&version=LSG> (referer: https://www.biblegateway.com/passage/?search=Exode%205&version=LSG)\n"
     ]
    },
    {
     "name": "stdout",
     "output_type": "stream",
     "text": [
      "--------------- ['/passage/?search=Exode%207&version=LSG'] -----------------\n"
     ]
    },
    {
     "name": "stderr",
     "output_type": "stream",
     "text": [
      "2025-05-04 14:11:50 [scrapy.core.engine] DEBUG: Crawled (200) <GET https://www.biblegateway.com/passage/?search=Exode%207&version=LSG> (referer: https://www.biblegateway.com/passage/?search=Exode%206&version=LSG)\n"
     ]
    },
    {
     "name": "stdout",
     "output_type": "stream",
     "text": [
      "--------------- ['/passage/?search=Exode%208&version=LSG'] -----------------\n"
     ]
    },
    {
     "name": "stderr",
     "output_type": "stream",
     "text": [
      "2025-05-04 14:11:51 [scrapy.core.engine] DEBUG: Crawled (200) <GET https://www.biblegateway.com/passage/?search=Exode%208&version=LSG> (referer: https://www.biblegateway.com/passage/?search=Exode%207&version=LSG)\n"
     ]
    },
    {
     "name": "stdout",
     "output_type": "stream",
     "text": [
      "--------------- ['/passage/?search=Exode%209&version=LSG'] -----------------\n"
     ]
    },
    {
     "name": "stderr",
     "output_type": "stream",
     "text": [
      "2025-05-04 14:11:52 [scrapy.core.engine] DEBUG: Crawled (200) <GET https://www.biblegateway.com/passage/?search=Exode%209&version=LSG> (referer: https://www.biblegateway.com/passage/?search=Exode%208&version=LSG)\n"
     ]
    },
    {
     "name": "stdout",
     "output_type": "stream",
     "text": [
      "--------------- ['/passage/?search=Exode%2010&version=LSG'] -----------------\n"
     ]
    },
    {
     "name": "stderr",
     "output_type": "stream",
     "text": [
      "2025-05-04 14:11:53 [scrapy.core.engine] DEBUG: Crawled (200) <GET https://www.biblegateway.com/passage/?search=Exode%2010&version=LSG> (referer: https://www.biblegateway.com/passage/?search=Exode%209&version=LSG)\n"
     ]
    },
    {
     "name": "stdout",
     "output_type": "stream",
     "text": [
      "--------------- ['/passage/?search=Exode%2011&version=LSG'] -----------------\n"
     ]
    },
    {
     "name": "stderr",
     "output_type": "stream",
     "text": [
      "2025-05-04 14:11:54 [scrapy.core.engine] DEBUG: Crawled (200) <GET https://www.biblegateway.com/passage/?search=Exode%2011&version=LSG> (referer: https://www.biblegateway.com/passage/?search=Exode%2010&version=LSG)\n"
     ]
    },
    {
     "name": "stdout",
     "output_type": "stream",
     "text": [
      "--------------- ['/passage/?search=Exode%2012&version=LSG'] -----------------\n"
     ]
    },
    {
     "name": "stderr",
     "output_type": "stream",
     "text": [
      "2025-05-04 14:11:55 [scrapy.core.engine] DEBUG: Crawled (200) <GET https://www.biblegateway.com/passage/?search=Exode%2012&version=LSG> (referer: https://www.biblegateway.com/passage/?search=Exode%2011&version=LSG)\n"
     ]
    },
    {
     "name": "stdout",
     "output_type": "stream",
     "text": [
      "--------------- ['/passage/?search=Exode%2013&version=LSG'] -----------------\n"
     ]
    },
    {
     "name": "stderr",
     "output_type": "stream",
     "text": [
      "2025-05-04 14:11:55 [scrapy.core.engine] DEBUG: Crawled (200) <GET https://www.biblegateway.com/passage/?search=Exode%2013&version=LSG> (referer: https://www.biblegateway.com/passage/?search=Exode%2012&version=LSG)\n"
     ]
    },
    {
     "name": "stdout",
     "output_type": "stream",
     "text": [
      "--------------- ['/passage/?search=Exode%2014&version=LSG'] -----------------\n"
     ]
    },
    {
     "name": "stderr",
     "output_type": "stream",
     "text": [
      "2025-05-04 14:11:56 [scrapy.core.engine] DEBUG: Crawled (200) <GET https://www.biblegateway.com/passage/?search=Exode%2014&version=LSG> (referer: https://www.biblegateway.com/passage/?search=Exode%2013&version=LSG)\n"
     ]
    },
    {
     "name": "stdout",
     "output_type": "stream",
     "text": [
      "--------------- ['/passage/?search=Exode%2015&version=LSG'] -----------------\n"
     ]
    },
    {
     "name": "stderr",
     "output_type": "stream",
     "text": [
      "2025-05-04 14:11:57 [scrapy.extensions.logstats] INFO: Crawled 64 pages (at 64 pages/min), scraped 0 items (at 0 items/min)\n",
      "2025-05-04 14:11:57 [scrapy.core.engine] DEBUG: Crawled (200) <GET https://www.biblegateway.com/passage/?search=Exode%2015&version=LSG> (referer: https://www.biblegateway.com/passage/?search=Exode%2014&version=LSG)\n"
     ]
    },
    {
     "name": "stdout",
     "output_type": "stream",
     "text": [
      "--------------- ['/passage/?search=Exode%2016&version=LSG'] -----------------\n"
     ]
    },
    {
     "name": "stderr",
     "output_type": "stream",
     "text": [
      "2025-05-04 14:11:58 [scrapy.core.engine] DEBUG: Crawled (200) <GET https://www.biblegateway.com/passage/?search=Exode%2016&version=LSG> (referer: https://www.biblegateway.com/passage/?search=Exode%2015&version=LSG)\n"
     ]
    },
    {
     "name": "stdout",
     "output_type": "stream",
     "text": [
      "--------------- ['/passage/?search=Exode%2017&version=LSG'] -----------------\n"
     ]
    },
    {
     "name": "stderr",
     "output_type": "stream",
     "text": [
      "2025-05-04 14:11:59 [scrapy.core.engine] DEBUG: Crawled (200) <GET https://www.biblegateway.com/passage/?search=Exode%2017&version=LSG> (referer: https://www.biblegateway.com/passage/?search=Exode%2016&version=LSG)\n"
     ]
    },
    {
     "name": "stdout",
     "output_type": "stream",
     "text": [
      "--------------- ['/passage/?search=Exode%2018&version=LSG'] -----------------\n"
     ]
    },
    {
     "name": "stderr",
     "output_type": "stream",
     "text": [
      "2025-05-04 14:11:59 [scrapy.core.engine] DEBUG: Crawled (200) <GET https://www.biblegateway.com/passage/?search=Exode%2018&version=LSG> (referer: https://www.biblegateway.com/passage/?search=Exode%2017&version=LSG)\n"
     ]
    },
    {
     "name": "stdout",
     "output_type": "stream",
     "text": [
      "--------------- ['/passage/?search=Exode%2019&version=LSG'] -----------------\n"
     ]
    },
    {
     "name": "stderr",
     "output_type": "stream",
     "text": [
      "2025-05-04 14:12:00 [scrapy.core.engine] DEBUG: Crawled (200) <GET https://www.biblegateway.com/passage/?search=Exode%2019&version=LSG> (referer: https://www.biblegateway.com/passage/?search=Exode%2018&version=LSG)\n"
     ]
    },
    {
     "name": "stdout",
     "output_type": "stream",
     "text": [
      "--------------- ['/passage/?search=Exode%2020&version=LSG'] -----------------\n"
     ]
    },
    {
     "name": "stderr",
     "output_type": "stream",
     "text": [
      "2025-05-04 14:12:01 [scrapy.core.engine] DEBUG: Crawled (200) <GET https://www.biblegateway.com/passage/?search=Exode%2020&version=LSG> (referer: https://www.biblegateway.com/passage/?search=Exode%2019&version=LSG)\n"
     ]
    },
    {
     "name": "stdout",
     "output_type": "stream",
     "text": [
      "--------------- ['/passage/?search=Exode%2021&version=LSG'] -----------------\n"
     ]
    },
    {
     "name": "stderr",
     "output_type": "stream",
     "text": [
      "2025-05-04 14:12:02 [scrapy.core.engine] DEBUG: Crawled (200) <GET https://www.biblegateway.com/passage/?search=Exode%2021&version=LSG> (referer: https://www.biblegateway.com/passage/?search=Exode%2020&version=LSG)\n"
     ]
    },
    {
     "name": "stdout",
     "output_type": "stream",
     "text": [
      "--------------- ['/passage/?search=Exode%2022&version=LSG'] -----------------\n"
     ]
    },
    {
     "name": "stderr",
     "output_type": "stream",
     "text": [
      "2025-05-04 14:12:03 [scrapy.core.engine] DEBUG: Crawled (200) <GET https://www.biblegateway.com/passage/?search=Exode%2022&version=LSG> (referer: https://www.biblegateway.com/passage/?search=Exode%2021&version=LSG)\n"
     ]
    },
    {
     "name": "stdout",
     "output_type": "stream",
     "text": [
      "--------------- ['/passage/?search=Exode%2023&version=LSG'] -----------------\n"
     ]
    },
    {
     "name": "stderr",
     "output_type": "stream",
     "text": [
      "2025-05-04 14:12:04 [scrapy.core.engine] DEBUG: Crawled (200) <GET https://www.biblegateway.com/passage/?search=Exode%2023&version=LSG> (referer: https://www.biblegateway.com/passage/?search=Exode%2022&version=LSG)\n"
     ]
    },
    {
     "name": "stdout",
     "output_type": "stream",
     "text": [
      "--------------- ['/passage/?search=Exode%2024&version=LSG'] -----------------\n"
     ]
    },
    {
     "name": "stderr",
     "output_type": "stream",
     "text": [
      "2025-05-04 14:12:04 [scrapy.core.engine] DEBUG: Crawled (200) <GET https://www.biblegateway.com/passage/?search=Exode%2024&version=LSG> (referer: https://www.biblegateway.com/passage/?search=Exode%2023&version=LSG)\n"
     ]
    },
    {
     "name": "stdout",
     "output_type": "stream",
     "text": [
      "--------------- ['/passage/?search=Exode%2025&version=LSG'] -----------------\n"
     ]
    },
    {
     "name": "stderr",
     "output_type": "stream",
     "text": [
      "2025-05-04 14:12:05 [scrapy.core.engine] DEBUG: Crawled (200) <GET https://www.biblegateway.com/passage/?search=Exode%2025&version=LSG> (referer: https://www.biblegateway.com/passage/?search=Exode%2024&version=LSG)\n"
     ]
    },
    {
     "name": "stdout",
     "output_type": "stream",
     "text": [
      "--------------- ['/passage/?search=Exode%2026&version=LSG'] -----------------\n"
     ]
    },
    {
     "name": "stderr",
     "output_type": "stream",
     "text": [
      "2025-05-04 14:12:06 [scrapy.core.engine] DEBUG: Crawled (200) <GET https://www.biblegateway.com/passage/?search=Exode%2026&version=LSG> (referer: https://www.biblegateway.com/passage/?search=Exode%2025&version=LSG)\n"
     ]
    },
    {
     "name": "stdout",
     "output_type": "stream",
     "text": [
      "--------------- ['/passage/?search=Exode%2027&version=LSG'] -----------------\n"
     ]
    },
    {
     "name": "stderr",
     "output_type": "stream",
     "text": [
      "2025-05-04 14:12:07 [scrapy.core.engine] DEBUG: Crawled (200) <GET https://www.biblegateway.com/passage/?search=Exode%2027&version=LSG> (referer: https://www.biblegateway.com/passage/?search=Exode%2026&version=LSG)\n"
     ]
    },
    {
     "name": "stdout",
     "output_type": "stream",
     "text": [
      "--------------- ['/passage/?search=Exode%2028&version=LSG'] -----------------\n"
     ]
    },
    {
     "name": "stderr",
     "output_type": "stream",
     "text": [
      "2025-05-04 14:12:08 [scrapy.core.engine] DEBUG: Crawled (200) <GET https://www.biblegateway.com/passage/?search=Exode%2028&version=LSG> (referer: https://www.biblegateway.com/passage/?search=Exode%2027&version=LSG)\n"
     ]
    },
    {
     "name": "stdout",
     "output_type": "stream",
     "text": [
      "--------------- ['/passage/?search=Exode%2029&version=LSG'] -----------------\n"
     ]
    },
    {
     "name": "stderr",
     "output_type": "stream",
     "text": [
      "2025-05-04 14:12:09 [scrapy.core.engine] DEBUG: Crawled (200) <GET https://www.biblegateway.com/passage/?search=Exode%2029&version=LSG> (referer: https://www.biblegateway.com/passage/?search=Exode%2028&version=LSG)\n"
     ]
    },
    {
     "name": "stdout",
     "output_type": "stream",
     "text": [
      "--------------- ['/passage/?search=Exode%2030&version=LSG'] -----------------\n"
     ]
    },
    {
     "name": "stderr",
     "output_type": "stream",
     "text": [
      "2025-05-04 14:12:09 [scrapy.core.engine] DEBUG: Crawled (200) <GET https://www.biblegateway.com/passage/?search=Exode%2030&version=LSG> (referer: https://www.biblegateway.com/passage/?search=Exode%2029&version=LSG)\n"
     ]
    },
    {
     "name": "stdout",
     "output_type": "stream",
     "text": [
      "--------------- ['/passage/?search=Exode%2031&version=LSG'] -----------------\n"
     ]
    },
    {
     "name": "stderr",
     "output_type": "stream",
     "text": [
      "2025-05-04 14:12:10 [scrapy.core.engine] DEBUG: Crawled (200) <GET https://www.biblegateway.com/passage/?search=Exode%2031&version=LSG> (referer: https://www.biblegateway.com/passage/?search=Exode%2030&version=LSG)\n"
     ]
    },
    {
     "name": "stdout",
     "output_type": "stream",
     "text": [
      "--------------- ['/passage/?search=Exode%2032&version=LSG'] -----------------\n"
     ]
    },
    {
     "name": "stderr",
     "output_type": "stream",
     "text": [
      "2025-05-04 14:12:11 [scrapy.core.engine] DEBUG: Crawled (200) <GET https://www.biblegateway.com/passage/?search=Exode%2032&version=LSG> (referer: https://www.biblegateway.com/passage/?search=Exode%2031&version=LSG)\n"
     ]
    },
    {
     "name": "stdout",
     "output_type": "stream",
     "text": [
      "--------------- ['/passage/?search=Exode%2033&version=LSG'] -----------------\n"
     ]
    },
    {
     "name": "stderr",
     "output_type": "stream",
     "text": [
      "2025-05-04 14:12:11 [scrapy.core.engine] DEBUG: Crawled (200) <GET https://www.biblegateway.com/passage/?search=Exode%2033&version=LSG> (referer: https://www.biblegateway.com/passage/?search=Exode%2032&version=LSG)\n"
     ]
    },
    {
     "name": "stdout",
     "output_type": "stream",
     "text": [
      "--------------- ['/passage/?search=Exode%2034&version=LSG'] -----------------\n"
     ]
    },
    {
     "name": "stderr",
     "output_type": "stream",
     "text": [
      "2025-05-04 14:12:12 [scrapy.core.engine] DEBUG: Crawled (200) <GET https://www.biblegateway.com/passage/?search=Exode%2034&version=LSG> (referer: https://www.biblegateway.com/passage/?search=Exode%2033&version=LSG)\n"
     ]
    },
    {
     "name": "stdout",
     "output_type": "stream",
     "text": [
      "--------------- ['/passage/?search=Exode%2035&version=LSG'] -----------------\n"
     ]
    },
    {
     "name": "stderr",
     "output_type": "stream",
     "text": [
      "2025-05-04 14:12:13 [scrapy.core.engine] DEBUG: Crawled (200) <GET https://www.biblegateway.com/passage/?search=Exode%2035&version=LSG> (referer: https://www.biblegateway.com/passage/?search=Exode%2034&version=LSG)\n"
     ]
    },
    {
     "name": "stdout",
     "output_type": "stream",
     "text": [
      "--------------- ['/passage/?search=Exode%2036&version=LSG'] -----------------\n"
     ]
    },
    {
     "name": "stderr",
     "output_type": "stream",
     "text": [
      "2025-05-04 14:12:13 [scrapy.core.engine] DEBUG: Crawled (200) <GET https://www.biblegateway.com/passage/?search=Exode%2036&version=LSG> (referer: https://www.biblegateway.com/passage/?search=Exode%2035&version=LSG)\n"
     ]
    },
    {
     "name": "stdout",
     "output_type": "stream",
     "text": [
      "--------------- ['/passage/?search=Exode%2037&version=LSG'] -----------------\n"
     ]
    },
    {
     "name": "stderr",
     "output_type": "stream",
     "text": [
      "2025-05-04 14:12:14 [scrapy.core.engine] DEBUG: Crawled (200) <GET https://www.biblegateway.com/passage/?search=Exode%2037&version=LSG> (referer: https://www.biblegateway.com/passage/?search=Exode%2036&version=LSG)\n"
     ]
    },
    {
     "name": "stdout",
     "output_type": "stream",
     "text": [
      "--------------- ['/passage/?search=Exode%2038&version=LSG'] -----------------\n"
     ]
    },
    {
     "name": "stderr",
     "output_type": "stream",
     "text": [
      "2025-05-04 14:12:15 [scrapy.core.engine] DEBUG: Crawled (200) <GET https://www.biblegateway.com/passage/?search=Exode%2038&version=LSG> (referer: https://www.biblegateway.com/passage/?search=Exode%2037&version=LSG)\n"
     ]
    },
    {
     "name": "stdout",
     "output_type": "stream",
     "text": [
      "--------------- ['/passage/?search=Exode%2039&version=LSG'] -----------------\n"
     ]
    },
    {
     "name": "stderr",
     "output_type": "stream",
     "text": [
      "2025-05-04 14:12:16 [scrapy.core.engine] DEBUG: Crawled (200) <GET https://www.biblegateway.com/passage/?search=Exode%2039&version=LSG> (referer: https://www.biblegateway.com/passage/?search=Exode%2038&version=LSG)\n"
     ]
    },
    {
     "name": "stdout",
     "output_type": "stream",
     "text": [
      "--------------- ['/passage/?search=Exode%2040&version=LSG'] -----------------\n"
     ]
    },
    {
     "name": "stderr",
     "output_type": "stream",
     "text": [
      "2025-05-04 14:12:16 [scrapy.core.engine] DEBUG: Crawled (200) <GET https://www.biblegateway.com/passage/?search=Exode%2040&version=LSG> (referer: https://www.biblegateway.com/passage/?search=Exode%2039&version=LSG)\n"
     ]
    },
    {
     "name": "stdout",
     "output_type": "stream",
     "text": [
      "--------------- ['/passage/?search=L%C3%A9vitique%201&version=LSG'] -----------------\n"
     ]
    },
    {
     "name": "stderr",
     "output_type": "stream",
     "text": [
      "2025-05-04 14:12:17 [scrapy.core.engine] DEBUG: Crawled (200) <GET https://www.biblegateway.com/passage/?search=L%C3%A9vitique%201&version=LSG> (referer: https://www.biblegateway.com/passage/?search=Exode%2040&version=LSG)\n"
     ]
    },
    {
     "name": "stdout",
     "output_type": "stream",
     "text": [
      "--------------- ['/passage/?search=L%C3%A9vitique%202&version=LSG'] -----------------\n"
     ]
    },
    {
     "name": "stderr",
     "output_type": "stream",
     "text": [
      "2025-05-04 14:12:18 [scrapy.core.engine] DEBUG: Crawled (200) <GET https://www.biblegateway.com/passage/?search=L%C3%A9vitique%202&version=LSG> (referer: https://www.biblegateway.com/passage/?search=L%C3%A9vitique%201&version=LSG)\n"
     ]
    },
    {
     "name": "stdout",
     "output_type": "stream",
     "text": [
      "--------------- ['/passage/?search=L%C3%A9vitique%203&version=LSG'] -----------------\n"
     ]
    },
    {
     "name": "stderr",
     "output_type": "stream",
     "text": [
      "2025-05-04 14:12:18 [scrapy.core.engine] DEBUG: Crawled (200) <GET https://www.biblegateway.com/passage/?search=L%C3%A9vitique%203&version=LSG> (referer: https://www.biblegateway.com/passage/?search=L%C3%A9vitique%202&version=LSG)\n"
     ]
    },
    {
     "name": "stdout",
     "output_type": "stream",
     "text": [
      "--------------- ['/passage/?search=L%C3%A9vitique%204&version=LSG'] -----------------\n"
     ]
    },
    {
     "name": "stderr",
     "output_type": "stream",
     "text": [
      "2025-05-04 14:12:19 [scrapy.core.engine] DEBUG: Crawled (200) <GET https://www.biblegateway.com/passage/?search=L%C3%A9vitique%204&version=LSG> (referer: https://www.biblegateway.com/passage/?search=L%C3%A9vitique%203&version=LSG)\n"
     ]
    },
    {
     "name": "stdout",
     "output_type": "stream",
     "text": [
      "--------------- ['/passage/?search=L%C3%A9vitique%205&version=LSG'] -----------------\n"
     ]
    },
    {
     "name": "stderr",
     "output_type": "stream",
     "text": [
      "2025-05-04 14:12:20 [scrapy.core.engine] DEBUG: Crawled (200) <GET https://www.biblegateway.com/passage/?search=L%C3%A9vitique%205&version=LSG> (referer: https://www.biblegateway.com/passage/?search=L%C3%A9vitique%204&version=LSG)\n"
     ]
    },
    {
     "name": "stdout",
     "output_type": "stream",
     "text": [
      "--------------- ['/passage/?search=L%C3%A9vitique%206&version=LSG'] -----------------\n"
     ]
    },
    {
     "name": "stderr",
     "output_type": "stream",
     "text": [
      "2025-05-04 14:12:20 [scrapy.core.engine] DEBUG: Crawled (200) <GET https://www.biblegateway.com/passage/?search=L%C3%A9vitique%206&version=LSG> (referer: https://www.biblegateway.com/passage/?search=L%C3%A9vitique%205&version=LSG)\n"
     ]
    },
    {
     "name": "stdout",
     "output_type": "stream",
     "text": [
      "--------------- ['/passage/?search=L%C3%A9vitique%207&version=LSG'] -----------------\n"
     ]
    },
    {
     "name": "stderr",
     "output_type": "stream",
     "text": [
      "2025-05-04 14:12:21 [scrapy.core.engine] DEBUG: Crawled (200) <GET https://www.biblegateway.com/passage/?search=L%C3%A9vitique%207&version=LSG> (referer: https://www.biblegateway.com/passage/?search=L%C3%A9vitique%206&version=LSG)\n"
     ]
    },
    {
     "name": "stdout",
     "output_type": "stream",
     "text": [
      "--------------- ['/passage/?search=L%C3%A9vitique%208&version=LSG'] -----------------\n"
     ]
    },
    {
     "name": "stderr",
     "output_type": "stream",
     "text": [
      "2025-05-04 14:12:22 [scrapy.core.engine] DEBUG: Crawled (200) <GET https://www.biblegateway.com/passage/?search=L%C3%A9vitique%208&version=LSG> (referer: https://www.biblegateway.com/passage/?search=L%C3%A9vitique%207&version=LSG)\n"
     ]
    },
    {
     "name": "stdout",
     "output_type": "stream",
     "text": [
      "--------------- ['/passage/?search=L%C3%A9vitique%209&version=LSG'] -----------------\n"
     ]
    },
    {
     "name": "stderr",
     "output_type": "stream",
     "text": [
      "2025-05-04 14:12:22 [scrapy.core.engine] DEBUG: Crawled (200) <GET https://www.biblegateway.com/passage/?search=L%C3%A9vitique%209&version=LSG> (referer: https://www.biblegateway.com/passage/?search=L%C3%A9vitique%208&version=LSG)\n"
     ]
    },
    {
     "name": "stdout",
     "output_type": "stream",
     "text": [
      "--------------- ['/passage/?search=L%C3%A9vitique%2010&version=LSG'] -----------------\n"
     ]
    },
    {
     "name": "stderr",
     "output_type": "stream",
     "text": [
      "2025-05-04 14:12:23 [scrapy.core.engine] DEBUG: Crawled (200) <GET https://www.biblegateway.com/passage/?search=L%C3%A9vitique%2010&version=LSG> (referer: https://www.biblegateway.com/passage/?search=L%C3%A9vitique%209&version=LSG)\n"
     ]
    },
    {
     "name": "stdout",
     "output_type": "stream",
     "text": [
      "--------------- ['/passage/?search=L%C3%A9vitique%2011&version=LSG'] -----------------\n"
     ]
    },
    {
     "name": "stderr",
     "output_type": "stream",
     "text": [
      "2025-05-04 14:12:24 [scrapy.core.engine] DEBUG: Crawled (200) <GET https://www.biblegateway.com/passage/?search=L%C3%A9vitique%2011&version=LSG> (referer: https://www.biblegateway.com/passage/?search=L%C3%A9vitique%2010&version=LSG)\n"
     ]
    },
    {
     "name": "stdout",
     "output_type": "stream",
     "text": [
      "--------------- ['/passage/?search=L%C3%A9vitique%2012&version=LSG'] -----------------\n"
     ]
    },
    {
     "name": "stderr",
     "output_type": "stream",
     "text": [
      "2025-05-04 14:12:25 [scrapy.core.engine] DEBUG: Crawled (200) <GET https://www.biblegateway.com/passage/?search=L%C3%A9vitique%2012&version=LSG> (referer: https://www.biblegateway.com/passage/?search=L%C3%A9vitique%2011&version=LSG)\n"
     ]
    },
    {
     "name": "stdout",
     "output_type": "stream",
     "text": [
      "--------------- ['/passage/?search=L%C3%A9vitique%2013&version=LSG'] -----------------\n"
     ]
    },
    {
     "name": "stderr",
     "output_type": "stream",
     "text": [
      "2025-05-04 14:12:25 [scrapy.core.engine] DEBUG: Crawled (200) <GET https://www.biblegateway.com/passage/?search=L%C3%A9vitique%2013&version=LSG> (referer: https://www.biblegateway.com/passage/?search=L%C3%A9vitique%2012&version=LSG)\n"
     ]
    },
    {
     "name": "stdout",
     "output_type": "stream",
     "text": [
      "--------------- ['/passage/?search=L%C3%A9vitique%2014&version=LSG'] -----------------\n"
     ]
    },
    {
     "name": "stderr",
     "output_type": "stream",
     "text": [
      "2025-05-04 14:12:26 [scrapy.core.engine] DEBUG: Crawled (200) <GET https://www.biblegateway.com/passage/?search=L%C3%A9vitique%2014&version=LSG> (referer: https://www.biblegateway.com/passage/?search=L%C3%A9vitique%2013&version=LSG)\n"
     ]
    },
    {
     "name": "stdout",
     "output_type": "stream",
     "text": [
      "--------------- ['/passage/?search=L%C3%A9vitique%2015&version=LSG'] -----------------\n"
     ]
    },
    {
     "name": "stderr",
     "output_type": "stream",
     "text": [
      "2025-05-04 14:12:27 [scrapy.core.engine] DEBUG: Crawled (200) <GET https://www.biblegateway.com/passage/?search=L%C3%A9vitique%2015&version=LSG> (referer: https://www.biblegateway.com/passage/?search=L%C3%A9vitique%2014&version=LSG)\n"
     ]
    },
    {
     "name": "stdout",
     "output_type": "stream",
     "text": [
      "--------------- ['/passage/?search=L%C3%A9vitique%2016&version=LSG'] -----------------\n"
     ]
    },
    {
     "name": "stderr",
     "output_type": "stream",
     "text": [
      "2025-05-04 14:12:27 [scrapy.core.engine] DEBUG: Crawled (200) <GET https://www.biblegateway.com/passage/?search=L%C3%A9vitique%2016&version=LSG> (referer: https://www.biblegateway.com/passage/?search=L%C3%A9vitique%2015&version=LSG)\n"
     ]
    },
    {
     "name": "stdout",
     "output_type": "stream",
     "text": [
      "--------------- ['/passage/?search=L%C3%A9vitique%2017&version=LSG'] -----------------\n"
     ]
    },
    {
     "name": "stderr",
     "output_type": "stream",
     "text": [
      "2025-05-04 14:12:28 [scrapy.core.engine] DEBUG: Crawled (200) <GET https://www.biblegateway.com/passage/?search=L%C3%A9vitique%2017&version=LSG> (referer: https://www.biblegateway.com/passage/?search=L%C3%A9vitique%2016&version=LSG)\n"
     ]
    },
    {
     "name": "stdout",
     "output_type": "stream",
     "text": [
      "--------------- ['/passage/?search=L%C3%A9vitique%2018&version=LSG'] -----------------\n"
     ]
    },
    {
     "name": "stderr",
     "output_type": "stream",
     "text": [
      "2025-05-04 14:12:29 [scrapy.core.engine] DEBUG: Crawled (200) <GET https://www.biblegateway.com/passage/?search=L%C3%A9vitique%2018&version=LSG> (referer: https://www.biblegateway.com/passage/?search=L%C3%A9vitique%2017&version=LSG)\n"
     ]
    },
    {
     "name": "stdout",
     "output_type": "stream",
     "text": [
      "--------------- ['/passage/?search=L%C3%A9vitique%2019&version=LSG'] -----------------\n"
     ]
    },
    {
     "name": "stderr",
     "output_type": "stream",
     "text": [
      "2025-05-04 14:12:29 [scrapy.core.engine] DEBUG: Crawled (200) <GET https://www.biblegateway.com/passage/?search=L%C3%A9vitique%2019&version=LSG> (referer: https://www.biblegateway.com/passage/?search=L%C3%A9vitique%2018&version=LSG)\n"
     ]
    },
    {
     "name": "stdout",
     "output_type": "stream",
     "text": [
      "--------------- ['/passage/?search=L%C3%A9vitique%2020&version=LSG'] -----------------\n"
     ]
    },
    {
     "name": "stderr",
     "output_type": "stream",
     "text": [
      "2025-05-04 14:12:30 [scrapy.core.engine] DEBUG: Crawled (200) <GET https://www.biblegateway.com/passage/?search=L%C3%A9vitique%2020&version=LSG> (referer: https://www.biblegateway.com/passage/?search=L%C3%A9vitique%2019&version=LSG)\n"
     ]
    },
    {
     "name": "stdout",
     "output_type": "stream",
     "text": [
      "--------------- ['/passage/?search=L%C3%A9vitique%2021&version=LSG'] -----------------\n"
     ]
    },
    {
     "name": "stderr",
     "output_type": "stream",
     "text": [
      "2025-05-04 14:12:31 [scrapy.core.engine] DEBUG: Crawled (200) <GET https://www.biblegateway.com/passage/?search=L%C3%A9vitique%2021&version=LSG> (referer: https://www.biblegateway.com/passage/?search=L%C3%A9vitique%2020&version=LSG)\n"
     ]
    },
    {
     "name": "stdout",
     "output_type": "stream",
     "text": [
      "--------------- ['/passage/?search=L%C3%A9vitique%2022&version=LSG'] -----------------\n"
     ]
    },
    {
     "name": "stderr",
     "output_type": "stream",
     "text": [
      "2025-05-04 14:12:32 [scrapy.core.engine] DEBUG: Crawled (200) <GET https://www.biblegateway.com/passage/?search=L%C3%A9vitique%2022&version=LSG> (referer: https://www.biblegateway.com/passage/?search=L%C3%A9vitique%2021&version=LSG)\n"
     ]
    },
    {
     "name": "stdout",
     "output_type": "stream",
     "text": [
      "--------------- ['/passage/?search=L%C3%A9vitique%2023&version=LSG'] -----------------\n"
     ]
    },
    {
     "name": "stderr",
     "output_type": "stream",
     "text": [
      "2025-05-04 14:12:32 [scrapy.core.engine] DEBUG: Crawled (200) <GET https://www.biblegateway.com/passage/?search=L%C3%A9vitique%2023&version=LSG> (referer: https://www.biblegateway.com/passage/?search=L%C3%A9vitique%2022&version=LSG)\n"
     ]
    },
    {
     "name": "stdout",
     "output_type": "stream",
     "text": [
      "--------------- ['/passage/?search=L%C3%A9vitique%2024&version=LSG'] -----------------\n"
     ]
    },
    {
     "name": "stderr",
     "output_type": "stream",
     "text": [
      "2025-05-04 14:12:34 [scrapy.core.engine] DEBUG: Crawled (200) <GET https://www.biblegateway.com/passage/?search=L%C3%A9vitique%2024&version=LSG> (referer: https://www.biblegateway.com/passage/?search=L%C3%A9vitique%2023&version=LSG)\n"
     ]
    },
    {
     "name": "stdout",
     "output_type": "stream",
     "text": [
      "--------------- ['/passage/?search=L%C3%A9vitique%2025&version=LSG'] -----------------\n"
     ]
    },
    {
     "name": "stderr",
     "output_type": "stream",
     "text": [
      "2025-05-04 14:12:34 [scrapy.core.engine] DEBUG: Crawled (200) <GET https://www.biblegateway.com/passage/?search=L%C3%A9vitique%2025&version=LSG> (referer: https://www.biblegateway.com/passage/?search=L%C3%A9vitique%2024&version=LSG)\n"
     ]
    },
    {
     "name": "stdout",
     "output_type": "stream",
     "text": [
      "--------------- ['/passage/?search=L%C3%A9vitique%2026&version=LSG'] -----------------\n"
     ]
    },
    {
     "name": "stderr",
     "output_type": "stream",
     "text": [
      "2025-05-04 14:12:35 [scrapy.core.engine] DEBUG: Crawled (200) <GET https://www.biblegateway.com/passage/?search=L%C3%A9vitique%2026&version=LSG> (referer: https://www.biblegateway.com/passage/?search=L%C3%A9vitique%2025&version=LSG)\n"
     ]
    },
    {
     "name": "stdout",
     "output_type": "stream",
     "text": [
      "--------------- ['/passage/?search=L%C3%A9vitique%2027&version=LSG'] -----------------\n"
     ]
    },
    {
     "name": "stderr",
     "output_type": "stream",
     "text": [
      "2025-05-04 14:12:36 [scrapy.core.engine] DEBUG: Crawled (200) <GET https://www.biblegateway.com/passage/?search=L%C3%A9vitique%2027&version=LSG> (referer: https://www.biblegateway.com/passage/?search=L%C3%A9vitique%2026&version=LSG)\n"
     ]
    },
    {
     "name": "stdout",
     "output_type": "stream",
     "text": [
      "--------------- ['/passage/?search=Nombres%201&version=LSG'] -----------------\n"
     ]
    },
    {
     "name": "stderr",
     "output_type": "stream",
     "text": [
      "2025-05-04 14:12:36 [scrapy.core.engine] DEBUG: Crawled (200) <GET https://www.biblegateway.com/passage/?search=Nombres%201&version=LSG> (referer: https://www.biblegateway.com/passage/?search=L%C3%A9vitique%2027&version=LSG)\n"
     ]
    },
    {
     "name": "stdout",
     "output_type": "stream",
     "text": [
      "--------------- ['/passage/?search=Nombres%202&version=LSG'] -----------------\n"
     ]
    },
    {
     "name": "stderr",
     "output_type": "stream",
     "text": [
      "2025-05-04 14:12:37 [scrapy.core.engine] DEBUG: Crawled (200) <GET https://www.biblegateway.com/passage/?search=Nombres%202&version=LSG> (referer: https://www.biblegateway.com/passage/?search=Nombres%201&version=LSG)\n"
     ]
    },
    {
     "name": "stdout",
     "output_type": "stream",
     "text": [
      "--------------- ['/passage/?search=Nombres%203&version=LSG'] -----------------\n"
     ]
    },
    {
     "name": "stderr",
     "output_type": "stream",
     "text": [
      "2025-05-04 14:12:38 [scrapy.core.engine] DEBUG: Crawled (200) <GET https://www.biblegateway.com/passage/?search=Nombres%203&version=LSG> (referer: https://www.biblegateway.com/passage/?search=Nombres%202&version=LSG)\n"
     ]
    },
    {
     "name": "stdout",
     "output_type": "stream",
     "text": [
      "--------------- ['/passage/?search=Nombres%204&version=LSG'] -----------------\n"
     ]
    },
    {
     "name": "stderr",
     "output_type": "stream",
     "text": [
      "2025-05-04 14:12:38 [scrapy.core.engine] DEBUG: Crawled (200) <GET https://www.biblegateway.com/passage/?search=Nombres%204&version=LSG> (referer: https://www.biblegateway.com/passage/?search=Nombres%203&version=LSG)\n"
     ]
    },
    {
     "name": "stdout",
     "output_type": "stream",
     "text": [
      "--------------- ['/passage/?search=Nombres%205&version=LSG'] -----------------\n"
     ]
    },
    {
     "name": "stderr",
     "output_type": "stream",
     "text": [
      "2025-05-04 14:12:39 [scrapy.core.engine] DEBUG: Crawled (200) <GET https://www.biblegateway.com/passage/?search=Nombres%205&version=LSG> (referer: https://www.biblegateway.com/passage/?search=Nombres%204&version=LSG)\n"
     ]
    },
    {
     "name": "stdout",
     "output_type": "stream",
     "text": [
      "--------------- ['/passage/?search=Nombres%206&version=LSG'] -----------------\n"
     ]
    },
    {
     "name": "stderr",
     "output_type": "stream",
     "text": [
      "2025-05-04 14:12:40 [scrapy.core.engine] DEBUG: Crawled (200) <GET https://www.biblegateway.com/passage/?search=Nombres%206&version=LSG> (referer: https://www.biblegateway.com/passage/?search=Nombres%205&version=LSG)\n"
     ]
    },
    {
     "name": "stdout",
     "output_type": "stream",
     "text": [
      "--------------- ['/passage/?search=Nombres%207&version=LSG'] -----------------\n"
     ]
    },
    {
     "name": "stderr",
     "output_type": "stream",
     "text": [
      "2025-05-04 14:12:40 [scrapy.core.engine] DEBUG: Crawled (200) <GET https://www.biblegateway.com/passage/?search=Nombres%207&version=LSG> (referer: https://www.biblegateway.com/passage/?search=Nombres%206&version=LSG)\n"
     ]
    },
    {
     "name": "stdout",
     "output_type": "stream",
     "text": [
      "--------------- ['/passage/?search=Nombres%208&version=LSG'] -----------------\n"
     ]
    },
    {
     "name": "stderr",
     "output_type": "stream",
     "text": [
      "2025-05-04 14:12:41 [scrapy.core.engine] DEBUG: Crawled (200) <GET https://www.biblegateway.com/passage/?search=Nombres%208&version=LSG> (referer: https://www.biblegateway.com/passage/?search=Nombres%207&version=LSG)\n"
     ]
    },
    {
     "name": "stdout",
     "output_type": "stream",
     "text": [
      "--------------- ['/passage/?search=Nombres%209&version=LSG'] -----------------\n"
     ]
    },
    {
     "name": "stderr",
     "output_type": "stream",
     "text": [
      "2025-05-04 14:12:42 [scrapy.core.engine] DEBUG: Crawled (200) <GET https://www.biblegateway.com/passage/?search=Nombres%209&version=LSG> (referer: https://www.biblegateway.com/passage/?search=Nombres%208&version=LSG)\n"
     ]
    },
    {
     "name": "stdout",
     "output_type": "stream",
     "text": [
      "--------------- ['/passage/?search=Nombres%2010&version=LSG'] -----------------\n"
     ]
    },
    {
     "name": "stderr",
     "output_type": "stream",
     "text": [
      "2025-05-04 14:12:43 [scrapy.core.engine] DEBUG: Crawled (200) <GET https://www.biblegateway.com/passage/?search=Nombres%2010&version=LSG> (referer: https://www.biblegateway.com/passage/?search=Nombres%209&version=LSG)\n"
     ]
    },
    {
     "name": "stdout",
     "output_type": "stream",
     "text": [
      "--------------- ['/passage/?search=Nombres%2011&version=LSG'] -----------------\n"
     ]
    },
    {
     "name": "stderr",
     "output_type": "stream",
     "text": [
      "2025-05-04 14:12:44 [scrapy.core.engine] DEBUG: Crawled (200) <GET https://www.biblegateway.com/passage/?search=Nombres%2011&version=LSG> (referer: https://www.biblegateway.com/passage/?search=Nombres%2010&version=LSG)\n"
     ]
    },
    {
     "name": "stdout",
     "output_type": "stream",
     "text": [
      "--------------- ['/passage/?search=Nombres%2012&version=LSG'] -----------------\n"
     ]
    },
    {
     "name": "stderr",
     "output_type": "stream",
     "text": [
      "2025-05-04 14:12:44 [scrapy.core.engine] DEBUG: Crawled (200) <GET https://www.biblegateway.com/passage/?search=Nombres%2012&version=LSG> (referer: https://www.biblegateway.com/passage/?search=Nombres%2011&version=LSG)\n"
     ]
    },
    {
     "name": "stdout",
     "output_type": "stream",
     "text": [
      "--------------- ['/passage/?search=Nombres%2013&version=LSG'] -----------------\n"
     ]
    },
    {
     "name": "stderr",
     "output_type": "stream",
     "text": [
      "2025-05-04 14:12:45 [scrapy.core.engine] DEBUG: Crawled (200) <GET https://www.biblegateway.com/passage/?search=Nombres%2013&version=LSG> (referer: https://www.biblegateway.com/passage/?search=Nombres%2012&version=LSG)\n"
     ]
    },
    {
     "name": "stdout",
     "output_type": "stream",
     "text": [
      "--------------- ['/passage/?search=Nombres%2014&version=LSG'] -----------------\n"
     ]
    },
    {
     "name": "stderr",
     "output_type": "stream",
     "text": [
      "2025-05-04 14:12:46 [scrapy.core.engine] DEBUG: Crawled (200) <GET https://www.biblegateway.com/passage/?search=Nombres%2014&version=LSG> (referer: https://www.biblegateway.com/passage/?search=Nombres%2013&version=LSG)\n"
     ]
    },
    {
     "name": "stdout",
     "output_type": "stream",
     "text": [
      "--------------- ['/passage/?search=Nombres%2015&version=LSG'] -----------------\n"
     ]
    },
    {
     "name": "stderr",
     "output_type": "stream",
     "text": [
      "2025-05-04 14:12:46 [scrapy.core.engine] DEBUG: Crawled (200) <GET https://www.biblegateway.com/passage/?search=Nombres%2015&version=LSG> (referer: https://www.biblegateway.com/passage/?search=Nombres%2014&version=LSG)\n"
     ]
    },
    {
     "name": "stdout",
     "output_type": "stream",
     "text": [
      "--------------- ['/passage/?search=Nombres%2016&version=LSG'] -----------------\n"
     ]
    },
    {
     "name": "stderr",
     "output_type": "stream",
     "text": [
      "2025-05-04 14:12:47 [scrapy.core.engine] DEBUG: Crawled (200) <GET https://www.biblegateway.com/passage/?search=Nombres%2016&version=LSG> (referer: https://www.biblegateway.com/passage/?search=Nombres%2015&version=LSG)\n"
     ]
    },
    {
     "name": "stdout",
     "output_type": "stream",
     "text": [
      "--------------- ['/passage/?search=Nombres%2017&version=LSG'] -----------------\n"
     ]
    },
    {
     "name": "stderr",
     "output_type": "stream",
     "text": [
      "2025-05-04 14:12:48 [scrapy.core.engine] DEBUG: Crawled (200) <GET https://www.biblegateway.com/passage/?search=Nombres%2017&version=LSG> (referer: https://www.biblegateway.com/passage/?search=Nombres%2016&version=LSG)\n"
     ]
    },
    {
     "name": "stdout",
     "output_type": "stream",
     "text": [
      "--------------- ['/passage/?search=Nombres%2018&version=LSG'] -----------------\n"
     ]
    },
    {
     "name": "stderr",
     "output_type": "stream",
     "text": [
      "2025-05-04 14:12:48 [scrapy.core.engine] DEBUG: Crawled (200) <GET https://www.biblegateway.com/passage/?search=Nombres%2018&version=LSG> (referer: https://www.biblegateway.com/passage/?search=Nombres%2017&version=LSG)\n"
     ]
    },
    {
     "name": "stdout",
     "output_type": "stream",
     "text": [
      "--------------- ['/passage/?search=Nombres%2019&version=LSG'] -----------------\n"
     ]
    },
    {
     "name": "stderr",
     "output_type": "stream",
     "text": [
      "2025-05-04 14:12:49 [scrapy.core.engine] DEBUG: Crawled (200) <GET https://www.biblegateway.com/passage/?search=Nombres%2019&version=LSG> (referer: https://www.biblegateway.com/passage/?search=Nombres%2018&version=LSG)\n"
     ]
    },
    {
     "name": "stdout",
     "output_type": "stream",
     "text": [
      "--------------- ['/passage/?search=Nombres%2020&version=LSG'] -----------------\n"
     ]
    },
    {
     "name": "stderr",
     "output_type": "stream",
     "text": [
      "2025-05-04 14:12:50 [scrapy.core.engine] DEBUG: Crawled (200) <GET https://www.biblegateway.com/passage/?search=Nombres%2020&version=LSG> (referer: https://www.biblegateway.com/passage/?search=Nombres%2019&version=LSG)\n"
     ]
    },
    {
     "name": "stdout",
     "output_type": "stream",
     "text": [
      "--------------- ['/passage/?search=Nombres%2021&version=LSG'] -----------------\n"
     ]
    },
    {
     "name": "stderr",
     "output_type": "stream",
     "text": [
      "2025-05-04 14:12:51 [scrapy.core.engine] DEBUG: Crawled (200) <GET https://www.biblegateway.com/passage/?search=Nombres%2021&version=LSG> (referer: https://www.biblegateway.com/passage/?search=Nombres%2020&version=LSG)\n"
     ]
    },
    {
     "name": "stdout",
     "output_type": "stream",
     "text": [
      "--------------- ['/passage/?search=Nombres%2022&version=LSG'] -----------------\n"
     ]
    },
    {
     "name": "stderr",
     "output_type": "stream",
     "text": [
      "2025-05-04 14:12:52 [scrapy.core.engine] DEBUG: Crawled (200) <GET https://www.biblegateway.com/passage/?search=Nombres%2022&version=LSG> (referer: https://www.biblegateway.com/passage/?search=Nombres%2021&version=LSG)\n"
     ]
    },
    {
     "name": "stdout",
     "output_type": "stream",
     "text": [
      "--------------- ['/passage/?search=Nombres%2023&version=LSG'] -----------------\n"
     ]
    },
    {
     "name": "stderr",
     "output_type": "stream",
     "text": [
      "2025-05-04 14:12:52 [scrapy.core.engine] DEBUG: Crawled (200) <GET https://www.biblegateway.com/passage/?search=Nombres%2023&version=LSG> (referer: https://www.biblegateway.com/passage/?search=Nombres%2022&version=LSG)\n"
     ]
    },
    {
     "name": "stdout",
     "output_type": "stream",
     "text": [
      "--------------- ['/passage/?search=Nombres%2024&version=LSG'] -----------------\n"
     ]
    },
    {
     "name": "stderr",
     "output_type": "stream",
     "text": [
      "2025-05-04 14:12:53 [scrapy.core.engine] DEBUG: Crawled (200) <GET https://www.biblegateway.com/passage/?search=Nombres%2024&version=LSG> (referer: https://www.biblegateway.com/passage/?search=Nombres%2023&version=LSG)\n"
     ]
    },
    {
     "name": "stdout",
     "output_type": "stream",
     "text": [
      "--------------- ['/passage/?search=Nombres%2025&version=LSG'] -----------------\n"
     ]
    },
    {
     "name": "stderr",
     "output_type": "stream",
     "text": [
      "2025-05-04 14:12:53 [scrapy.core.engine] DEBUG: Crawled (200) <GET https://www.biblegateway.com/passage/?search=Nombres%2025&version=LSG> (referer: https://www.biblegateway.com/passage/?search=Nombres%2024&version=LSG)\n"
     ]
    },
    {
     "name": "stdout",
     "output_type": "stream",
     "text": [
      "--------------- ['/passage/?search=Nombres%2026&version=LSG'] -----------------\n"
     ]
    },
    {
     "name": "stderr",
     "output_type": "stream",
     "text": [
      "2025-05-04 14:12:54 [scrapy.core.engine] DEBUG: Crawled (200) <GET https://www.biblegateway.com/passage/?search=Nombres%2026&version=LSG> (referer: https://www.biblegateway.com/passage/?search=Nombres%2025&version=LSG)\n"
     ]
    },
    {
     "name": "stdout",
     "output_type": "stream",
     "text": [
      "--------------- ['/passage/?search=Nombres%2027&version=LSG'] -----------------\n"
     ]
    },
    {
     "name": "stderr",
     "output_type": "stream",
     "text": [
      "2025-05-04 14:12:55 [scrapy.core.engine] DEBUG: Crawled (200) <GET https://www.biblegateway.com/passage/?search=Nombres%2027&version=LSG> (referer: https://www.biblegateway.com/passage/?search=Nombres%2026&version=LSG)\n"
     ]
    },
    {
     "name": "stdout",
     "output_type": "stream",
     "text": [
      "--------------- ['/passage/?search=Nombres%2028&version=LSG'] -----------------\n"
     ]
    },
    {
     "name": "stderr",
     "output_type": "stream",
     "text": [
      "2025-05-04 14:12:55 [scrapy.core.engine] DEBUG: Crawled (200) <GET https://www.biblegateway.com/passage/?search=Nombres%2028&version=LSG> (referer: https://www.biblegateway.com/passage/?search=Nombres%2027&version=LSG)\n"
     ]
    },
    {
     "name": "stdout",
     "output_type": "stream",
     "text": [
      "--------------- ['/passage/?search=Nombres%2029&version=LSG'] -----------------\n"
     ]
    },
    {
     "name": "stderr",
     "output_type": "stream",
     "text": [
      "2025-05-04 14:12:56 [scrapy.core.engine] DEBUG: Crawled (200) <GET https://www.biblegateway.com/passage/?search=Nombres%2029&version=LSG> (referer: https://www.biblegateway.com/passage/?search=Nombres%2028&version=LSG)\n"
     ]
    },
    {
     "name": "stdout",
     "output_type": "stream",
     "text": [
      "--------------- ['/passage/?search=Nombres%2030&version=LSG'] -----------------\n"
     ]
    },
    {
     "name": "stderr",
     "output_type": "stream",
     "text": [
      "2025-05-04 14:12:57 [scrapy.extensions.logstats] INFO: Crawled 146 pages (at 82 pages/min), scraped 0 items (at 0 items/min)\n",
      "2025-05-04 14:12:57 [scrapy.core.engine] DEBUG: Crawled (200) <GET https://www.biblegateway.com/passage/?search=Nombres%2030&version=LSG> (referer: https://www.biblegateway.com/passage/?search=Nombres%2029&version=LSG)\n"
     ]
    },
    {
     "name": "stdout",
     "output_type": "stream",
     "text": [
      "--------------- ['/passage/?search=Nombres%2031&version=LSG'] -----------------\n"
     ]
    },
    {
     "name": "stderr",
     "output_type": "stream",
     "text": [
      "2025-05-04 14:12:58 [scrapy.core.engine] DEBUG: Crawled (200) <GET https://www.biblegateway.com/passage/?search=Nombres%2031&version=LSG> (referer: https://www.biblegateway.com/passage/?search=Nombres%2030&version=LSG)\n"
     ]
    },
    {
     "name": "stdout",
     "output_type": "stream",
     "text": [
      "--------------- ['/passage/?search=Nombres%2032&version=LSG'] -----------------\n"
     ]
    },
    {
     "name": "stderr",
     "output_type": "stream",
     "text": [
      "2025-05-04 14:12:58 [scrapy.core.engine] DEBUG: Crawled (200) <GET https://www.biblegateway.com/passage/?search=Nombres%2032&version=LSG> (referer: https://www.biblegateway.com/passage/?search=Nombres%2031&version=LSG)\n"
     ]
    },
    {
     "name": "stdout",
     "output_type": "stream",
     "text": [
      "--------------- ['/passage/?search=Nombres%2033&version=LSG'] -----------------\n"
     ]
    },
    {
     "name": "stderr",
     "output_type": "stream",
     "text": [
      "2025-05-04 14:12:59 [scrapy.core.engine] DEBUG: Crawled (200) <GET https://www.biblegateway.com/passage/?search=Nombres%2033&version=LSG> (referer: https://www.biblegateway.com/passage/?search=Nombres%2032&version=LSG)\n"
     ]
    },
    {
     "name": "stdout",
     "output_type": "stream",
     "text": [
      "--------------- ['/passage/?search=Nombres%2034&version=LSG'] -----------------\n"
     ]
    },
    {
     "name": "stderr",
     "output_type": "stream",
     "text": [
      "2025-05-04 14:13:00 [scrapy.core.engine] DEBUG: Crawled (200) <GET https://www.biblegateway.com/passage/?search=Nombres%2034&version=LSG> (referer: https://www.biblegateway.com/passage/?search=Nombres%2033&version=LSG)\n"
     ]
    },
    {
     "name": "stdout",
     "output_type": "stream",
     "text": [
      "--------------- ['/passage/?search=Nombres%2035&version=LSG'] -----------------\n"
     ]
    },
    {
     "name": "stderr",
     "output_type": "stream",
     "text": [
      "2025-05-04 14:13:00 [scrapy.core.engine] DEBUG: Crawled (200) <GET https://www.biblegateway.com/passage/?search=Nombres%2035&version=LSG> (referer: https://www.biblegateway.com/passage/?search=Nombres%2034&version=LSG)\n"
     ]
    },
    {
     "name": "stdout",
     "output_type": "stream",
     "text": [
      "--------------- ['/passage/?search=Nombres%2036&version=LSG'] -----------------\n"
     ]
    },
    {
     "name": "stderr",
     "output_type": "stream",
     "text": [
      "2025-05-04 14:13:01 [scrapy.core.engine] DEBUG: Crawled (200) <GET https://www.biblegateway.com/passage/?search=Nombres%2036&version=LSG> (referer: https://www.biblegateway.com/passage/?search=Nombres%2035&version=LSG)\n"
     ]
    },
    {
     "name": "stdout",
     "output_type": "stream",
     "text": [
      "--------------- ['/passage/?search=Deut%C3%A9ronome%201&version=LSG'] -----------------\n"
     ]
    },
    {
     "name": "stderr",
     "output_type": "stream",
     "text": [
      "2025-05-04 14:13:02 [scrapy.core.engine] DEBUG: Crawled (200) <GET https://www.biblegateway.com/passage/?search=Deut%C3%A9ronome%201&version=LSG> (referer: https://www.biblegateway.com/passage/?search=Nombres%2036&version=LSG)\n"
     ]
    },
    {
     "name": "stdout",
     "output_type": "stream",
     "text": [
      "--------------- ['/passage/?search=Deut%C3%A9ronome%202&version=LSG'] -----------------\n"
     ]
    },
    {
     "name": "stderr",
     "output_type": "stream",
     "text": [
      "2025-05-04 14:13:03 [scrapy.core.engine] DEBUG: Crawled (200) <GET https://www.biblegateway.com/passage/?search=Deut%C3%A9ronome%202&version=LSG> (referer: https://www.biblegateway.com/passage/?search=Deut%C3%A9ronome%201&version=LSG)\n"
     ]
    },
    {
     "name": "stdout",
     "output_type": "stream",
     "text": [
      "--------------- ['/passage/?search=Deut%C3%A9ronome%203&version=LSG'] -----------------\n"
     ]
    },
    {
     "name": "stderr",
     "output_type": "stream",
     "text": [
      "2025-05-04 14:13:03 [scrapy.core.engine] DEBUG: Crawled (200) <GET https://www.biblegateway.com/passage/?search=Deut%C3%A9ronome%203&version=LSG> (referer: https://www.biblegateway.com/passage/?search=Deut%C3%A9ronome%202&version=LSG)\n"
     ]
    },
    {
     "name": "stdout",
     "output_type": "stream",
     "text": [
      "--------------- ['/passage/?search=Deut%C3%A9ronome%204&version=LSG'] -----------------\n"
     ]
    },
    {
     "name": "stderr",
     "output_type": "stream",
     "text": [
      "2025-05-04 14:13:04 [scrapy.core.engine] DEBUG: Crawled (200) <GET https://www.biblegateway.com/passage/?search=Deut%C3%A9ronome%204&version=LSG> (referer: https://www.biblegateway.com/passage/?search=Deut%C3%A9ronome%203&version=LSG)\n"
     ]
    },
    {
     "name": "stdout",
     "output_type": "stream",
     "text": [
      "--------------- ['/passage/?search=Deut%C3%A9ronome%205&version=LSG'] -----------------\n"
     ]
    },
    {
     "name": "stderr",
     "output_type": "stream",
     "text": [
      "2025-05-04 14:13:05 [scrapy.core.engine] DEBUG: Crawled (200) <GET https://www.biblegateway.com/passage/?search=Deut%C3%A9ronome%205&version=LSG> (referer: https://www.biblegateway.com/passage/?search=Deut%C3%A9ronome%204&version=LSG)\n"
     ]
    },
    {
     "name": "stdout",
     "output_type": "stream",
     "text": [
      "--------------- ['/passage/?search=Deut%C3%A9ronome%206&version=LSG'] -----------------\n"
     ]
    },
    {
     "name": "stderr",
     "output_type": "stream",
     "text": [
      "2025-05-04 14:13:05 [scrapy.core.engine] DEBUG: Crawled (200) <GET https://www.biblegateway.com/passage/?search=Deut%C3%A9ronome%206&version=LSG> (referer: https://www.biblegateway.com/passage/?search=Deut%C3%A9ronome%205&version=LSG)\n"
     ]
    },
    {
     "name": "stdout",
     "output_type": "stream",
     "text": [
      "--------------- ['/passage/?search=Deut%C3%A9ronome%207&version=LSG'] -----------------\n"
     ]
    },
    {
     "name": "stderr",
     "output_type": "stream",
     "text": [
      "2025-05-04 14:13:06 [scrapy.core.engine] DEBUG: Crawled (200) <GET https://www.biblegateway.com/passage/?search=Deut%C3%A9ronome%207&version=LSG> (referer: https://www.biblegateway.com/passage/?search=Deut%C3%A9ronome%206&version=LSG)\n"
     ]
    },
    {
     "name": "stdout",
     "output_type": "stream",
     "text": [
      "--------------- ['/passage/?search=Deut%C3%A9ronome%208&version=LSG'] -----------------\n"
     ]
    },
    {
     "name": "stderr",
     "output_type": "stream",
     "text": [
      "2025-05-04 14:13:06 [scrapy.core.engine] DEBUG: Crawled (200) <GET https://www.biblegateway.com/passage/?search=Deut%C3%A9ronome%208&version=LSG> (referer: https://www.biblegateway.com/passage/?search=Deut%C3%A9ronome%207&version=LSG)\n"
     ]
    },
    {
     "name": "stdout",
     "output_type": "stream",
     "text": [
      "--------------- ['/passage/?search=Deut%C3%A9ronome%209&version=LSG'] -----------------\n"
     ]
    },
    {
     "name": "stderr",
     "output_type": "stream",
     "text": [
      "2025-05-04 14:13:07 [scrapy.core.engine] DEBUG: Crawled (200) <GET https://www.biblegateway.com/passage/?search=Deut%C3%A9ronome%209&version=LSG> (referer: https://www.biblegateway.com/passage/?search=Deut%C3%A9ronome%208&version=LSG)\n"
     ]
    },
    {
     "name": "stdout",
     "output_type": "stream",
     "text": [
      "--------------- ['/passage/?search=Deut%C3%A9ronome%2010&version=LSG'] -----------------\n"
     ]
    },
    {
     "name": "stderr",
     "output_type": "stream",
     "text": [
      "2025-05-04 14:13:08 [scrapy.core.engine] DEBUG: Crawled (200) <GET https://www.biblegateway.com/passage/?search=Deut%C3%A9ronome%2010&version=LSG> (referer: https://www.biblegateway.com/passage/?search=Deut%C3%A9ronome%209&version=LSG)\n"
     ]
    },
    {
     "name": "stdout",
     "output_type": "stream",
     "text": [
      "--------------- ['/passage/?search=Deut%C3%A9ronome%2011&version=LSG'] -----------------\n"
     ]
    },
    {
     "name": "stderr",
     "output_type": "stream",
     "text": [
      "2025-05-04 14:13:08 [scrapy.core.engine] DEBUG: Crawled (200) <GET https://www.biblegateway.com/passage/?search=Deut%C3%A9ronome%2011&version=LSG> (referer: https://www.biblegateway.com/passage/?search=Deut%C3%A9ronome%2010&version=LSG)\n"
     ]
    },
    {
     "name": "stdout",
     "output_type": "stream",
     "text": [
      "--------------- ['/passage/?search=Deut%C3%A9ronome%2012&version=LSG'] -----------------\n"
     ]
    },
    {
     "name": "stderr",
     "output_type": "stream",
     "text": [
      "2025-05-04 14:13:09 [scrapy.core.engine] DEBUG: Crawled (200) <GET https://www.biblegateway.com/passage/?search=Deut%C3%A9ronome%2012&version=LSG> (referer: https://www.biblegateway.com/passage/?search=Deut%C3%A9ronome%2011&version=LSG)\n"
     ]
    },
    {
     "name": "stdout",
     "output_type": "stream",
     "text": [
      "--------------- ['/passage/?search=Deut%C3%A9ronome%2013&version=LSG'] -----------------\n"
     ]
    },
    {
     "name": "stderr",
     "output_type": "stream",
     "text": [
      "2025-05-04 14:13:10 [scrapy.core.engine] DEBUG: Crawled (200) <GET https://www.biblegateway.com/passage/?search=Deut%C3%A9ronome%2013&version=LSG> (referer: https://www.biblegateway.com/passage/?search=Deut%C3%A9ronome%2012&version=LSG)\n"
     ]
    },
    {
     "name": "stdout",
     "output_type": "stream",
     "text": [
      "--------------- ['/passage/?search=Deut%C3%A9ronome%2014&version=LSG'] -----------------\n"
     ]
    },
    {
     "name": "stderr",
     "output_type": "stream",
     "text": [
      "2025-05-04 14:13:11 [scrapy.core.engine] DEBUG: Crawled (200) <GET https://www.biblegateway.com/passage/?search=Deut%C3%A9ronome%2014&version=LSG> (referer: https://www.biblegateway.com/passage/?search=Deut%C3%A9ronome%2013&version=LSG)\n"
     ]
    },
    {
     "name": "stdout",
     "output_type": "stream",
     "text": [
      "--------------- ['/passage/?search=Deut%C3%A9ronome%2015&version=LSG'] -----------------\n"
     ]
    },
    {
     "name": "stderr",
     "output_type": "stream",
     "text": [
      "2025-05-04 14:13:12 [scrapy.core.engine] DEBUG: Crawled (200) <GET https://www.biblegateway.com/passage/?search=Deut%C3%A9ronome%2015&version=LSG> (referer: https://www.biblegateway.com/passage/?search=Deut%C3%A9ronome%2014&version=LSG)\n"
     ]
    },
    {
     "name": "stdout",
     "output_type": "stream",
     "text": [
      "--------------- ['/passage/?search=Deut%C3%A9ronome%2016&version=LSG'] -----------------\n"
     ]
    },
    {
     "name": "stderr",
     "output_type": "stream",
     "text": [
      "2025-05-04 14:13:12 [scrapy.core.engine] DEBUG: Crawled (200) <GET https://www.biblegateway.com/passage/?search=Deut%C3%A9ronome%2016&version=LSG> (referer: https://www.biblegateway.com/passage/?search=Deut%C3%A9ronome%2015&version=LSG)\n"
     ]
    },
    {
     "name": "stdout",
     "output_type": "stream",
     "text": [
      "--------------- ['/passage/?search=Deut%C3%A9ronome%2017&version=LSG'] -----------------\n"
     ]
    },
    {
     "name": "stderr",
     "output_type": "stream",
     "text": [
      "2025-05-04 14:13:13 [scrapy.core.engine] DEBUG: Crawled (200) <GET https://www.biblegateway.com/passage/?search=Deut%C3%A9ronome%2017&version=LSG> (referer: https://www.biblegateway.com/passage/?search=Deut%C3%A9ronome%2016&version=LSG)\n"
     ]
    },
    {
     "name": "stdout",
     "output_type": "stream",
     "text": [
      "--------------- ['/passage/?search=Deut%C3%A9ronome%2018&version=LSG'] -----------------\n"
     ]
    },
    {
     "name": "stderr",
     "output_type": "stream",
     "text": [
      "2025-05-04 14:13:13 [scrapy.core.engine] DEBUG: Crawled (200) <GET https://www.biblegateway.com/passage/?search=Deut%C3%A9ronome%2018&version=LSG> (referer: https://www.biblegateway.com/passage/?search=Deut%C3%A9ronome%2017&version=LSG)\n"
     ]
    },
    {
     "name": "stdout",
     "output_type": "stream",
     "text": [
      "--------------- ['/passage/?search=Deut%C3%A9ronome%2019&version=LSG'] -----------------\n"
     ]
    },
    {
     "name": "stderr",
     "output_type": "stream",
     "text": [
      "2025-05-04 14:13:14 [scrapy.core.engine] DEBUG: Crawled (200) <GET https://www.biblegateway.com/passage/?search=Deut%C3%A9ronome%2019&version=LSG> (referer: https://www.biblegateway.com/passage/?search=Deut%C3%A9ronome%2018&version=LSG)\n"
     ]
    },
    {
     "name": "stdout",
     "output_type": "stream",
     "text": [
      "--------------- ['/passage/?search=Deut%C3%A9ronome%2020&version=LSG'] -----------------\n"
     ]
    },
    {
     "name": "stderr",
     "output_type": "stream",
     "text": [
      "2025-05-04 14:13:15 [scrapy.core.engine] DEBUG: Crawled (200) <GET https://www.biblegateway.com/passage/?search=Deut%C3%A9ronome%2020&version=LSG> (referer: https://www.biblegateway.com/passage/?search=Deut%C3%A9ronome%2019&version=LSG)\n"
     ]
    },
    {
     "name": "stdout",
     "output_type": "stream",
     "text": [
      "--------------- ['/passage/?search=Deut%C3%A9ronome%2021&version=LSG'] -----------------\n"
     ]
    },
    {
     "name": "stderr",
     "output_type": "stream",
     "text": [
      "2025-05-04 14:13:16 [scrapy.core.engine] DEBUG: Crawled (200) <GET https://www.biblegateway.com/passage/?search=Deut%C3%A9ronome%2021&version=LSG> (referer: https://www.biblegateway.com/passage/?search=Deut%C3%A9ronome%2020&version=LSG)\n"
     ]
    },
    {
     "name": "stdout",
     "output_type": "stream",
     "text": [
      "--------------- ['/passage/?search=Deut%C3%A9ronome%2022&version=LSG'] -----------------\n"
     ]
    },
    {
     "name": "stderr",
     "output_type": "stream",
     "text": [
      "2025-05-04 14:13:16 [scrapy.core.engine] DEBUG: Crawled (200) <GET https://www.biblegateway.com/passage/?search=Deut%C3%A9ronome%2022&version=LSG> (referer: https://www.biblegateway.com/passage/?search=Deut%C3%A9ronome%2021&version=LSG)\n"
     ]
    },
    {
     "name": "stdout",
     "output_type": "stream",
     "text": [
      "--------------- ['/passage/?search=Deut%C3%A9ronome%2023&version=LSG'] -----------------\n"
     ]
    },
    {
     "name": "stderr",
     "output_type": "stream",
     "text": [
      "2025-05-04 14:13:17 [scrapy.core.engine] DEBUG: Crawled (200) <GET https://www.biblegateway.com/passage/?search=Deut%C3%A9ronome%2023&version=LSG> (referer: https://www.biblegateway.com/passage/?search=Deut%C3%A9ronome%2022&version=LSG)\n"
     ]
    },
    {
     "name": "stdout",
     "output_type": "stream",
     "text": [
      "--------------- ['/passage/?search=Deut%C3%A9ronome%2024&version=LSG'] -----------------\n"
     ]
    },
    {
     "name": "stderr",
     "output_type": "stream",
     "text": [
      "2025-05-04 14:13:18 [scrapy.core.engine] DEBUG: Crawled (200) <GET https://www.biblegateway.com/passage/?search=Deut%C3%A9ronome%2024&version=LSG> (referer: https://www.biblegateway.com/passage/?search=Deut%C3%A9ronome%2023&version=LSG)\n"
     ]
    },
    {
     "name": "stdout",
     "output_type": "stream",
     "text": [
      "--------------- ['/passage/?search=Deut%C3%A9ronome%2025&version=LSG'] -----------------\n"
     ]
    },
    {
     "name": "stderr",
     "output_type": "stream",
     "text": [
      "2025-05-04 14:13:18 [scrapy.core.engine] DEBUG: Crawled (200) <GET https://www.biblegateway.com/passage/?search=Deut%C3%A9ronome%2025&version=LSG> (referer: https://www.biblegateway.com/passage/?search=Deut%C3%A9ronome%2024&version=LSG)\n"
     ]
    },
    {
     "name": "stdout",
     "output_type": "stream",
     "text": [
      "--------------- ['/passage/?search=Deut%C3%A9ronome%2026&version=LSG'] -----------------\n"
     ]
    },
    {
     "name": "stderr",
     "output_type": "stream",
     "text": [
      "2025-05-04 14:13:19 [scrapy.core.engine] DEBUG: Crawled (200) <GET https://www.biblegateway.com/passage/?search=Deut%C3%A9ronome%2026&version=LSG> (referer: https://www.biblegateway.com/passage/?search=Deut%C3%A9ronome%2025&version=LSG)\n"
     ]
    },
    {
     "name": "stdout",
     "output_type": "stream",
     "text": [
      "--------------- ['/passage/?search=Deut%C3%A9ronome%2027&version=LSG'] -----------------\n"
     ]
    },
    {
     "name": "stderr",
     "output_type": "stream",
     "text": [
      "2025-05-04 14:13:20 [scrapy.core.engine] DEBUG: Crawled (200) <GET https://www.biblegateway.com/passage/?search=Deut%C3%A9ronome%2027&version=LSG> (referer: https://www.biblegateway.com/passage/?search=Deut%C3%A9ronome%2026&version=LSG)\n"
     ]
    },
    {
     "name": "stdout",
     "output_type": "stream",
     "text": [
      "--------------- ['/passage/?search=Deut%C3%A9ronome%2028&version=LSG'] -----------------\n"
     ]
    },
    {
     "name": "stderr",
     "output_type": "stream",
     "text": [
      "2025-05-04 14:13:20 [scrapy.core.engine] DEBUG: Crawled (200) <GET https://www.biblegateway.com/passage/?search=Deut%C3%A9ronome%2028&version=LSG> (referer: https://www.biblegateway.com/passage/?search=Deut%C3%A9ronome%2027&version=LSG)\n"
     ]
    },
    {
     "name": "stdout",
     "output_type": "stream",
     "text": [
      "--------------- ['/passage/?search=Deut%C3%A9ronome%2029&version=LSG'] -----------------\n"
     ]
    },
    {
     "name": "stderr",
     "output_type": "stream",
     "text": [
      "2025-05-04 14:13:21 [scrapy.core.engine] DEBUG: Crawled (200) <GET https://www.biblegateway.com/passage/?search=Deut%C3%A9ronome%2029&version=LSG> (referer: https://www.biblegateway.com/passage/?search=Deut%C3%A9ronome%2028&version=LSG)\n"
     ]
    },
    {
     "name": "stdout",
     "output_type": "stream",
     "text": [
      "--------------- ['/passage/?search=Deut%C3%A9ronome%2030&version=LSG'] -----------------\n"
     ]
    },
    {
     "name": "stderr",
     "output_type": "stream",
     "text": [
      "2025-05-04 14:13:22 [scrapy.core.engine] DEBUG: Crawled (200) <GET https://www.biblegateway.com/passage/?search=Deut%C3%A9ronome%2030&version=LSG> (referer: https://www.biblegateway.com/passage/?search=Deut%C3%A9ronome%2029&version=LSG)\n"
     ]
    },
    {
     "name": "stdout",
     "output_type": "stream",
     "text": [
      "--------------- ['/passage/?search=Deut%C3%A9ronome%2031&version=LSG'] -----------------\n"
     ]
    },
    {
     "name": "stderr",
     "output_type": "stream",
     "text": [
      "2025-05-04 14:13:22 [scrapy.core.engine] DEBUG: Crawled (200) <GET https://www.biblegateway.com/passage/?search=Deut%C3%A9ronome%2031&version=LSG> (referer: https://www.biblegateway.com/passage/?search=Deut%C3%A9ronome%2030&version=LSG)\n"
     ]
    },
    {
     "name": "stdout",
     "output_type": "stream",
     "text": [
      "--------------- ['/passage/?search=Deut%C3%A9ronome%2032&version=LSG'] -----------------\n"
     ]
    },
    {
     "name": "stderr",
     "output_type": "stream",
     "text": [
      "2025-05-04 14:13:23 [scrapy.core.engine] DEBUG: Crawled (200) <GET https://www.biblegateway.com/passage/?search=Deut%C3%A9ronome%2032&version=LSG> (referer: https://www.biblegateway.com/passage/?search=Deut%C3%A9ronome%2031&version=LSG)\n"
     ]
    },
    {
     "name": "stdout",
     "output_type": "stream",
     "text": [
      "--------------- ['/passage/?search=Deut%C3%A9ronome%2033&version=LSG'] -----------------\n"
     ]
    },
    {
     "name": "stderr",
     "output_type": "stream",
     "text": [
      "2025-05-04 14:13:24 [scrapy.core.engine] DEBUG: Crawled (200) <GET https://www.biblegateway.com/passage/?search=Deut%C3%A9ronome%2033&version=LSG> (referer: https://www.biblegateway.com/passage/?search=Deut%C3%A9ronome%2032&version=LSG)\n"
     ]
    },
    {
     "name": "stdout",
     "output_type": "stream",
     "text": [
      "--------------- ['/passage/?search=Deut%C3%A9ronome%2034&version=LSG'] -----------------\n"
     ]
    },
    {
     "name": "stderr",
     "output_type": "stream",
     "text": [
      "2025-05-04 14:13:24 [scrapy.core.engine] DEBUG: Crawled (200) <GET https://www.biblegateway.com/passage/?search=Deut%C3%A9ronome%2034&version=LSG> (referer: https://www.biblegateway.com/passage/?search=Deut%C3%A9ronome%2033&version=LSG)\n"
     ]
    },
    {
     "name": "stdout",
     "output_type": "stream",
     "text": [
      "--------------- ['/passage/?search=Josu%C3%A9%201&version=LSG'] -----------------\n"
     ]
    },
    {
     "name": "stderr",
     "output_type": "stream",
     "text": [
      "2025-05-04 14:13:25 [scrapy.core.engine] DEBUG: Crawled (200) <GET https://www.biblegateway.com/passage/?search=Josu%C3%A9%201&version=LSG> (referer: https://www.biblegateway.com/passage/?search=Deut%C3%A9ronome%2034&version=LSG)\n"
     ]
    },
    {
     "name": "stdout",
     "output_type": "stream",
     "text": [
      "--------------- ['/passage/?search=Josu%C3%A9%202&version=LSG'] -----------------\n"
     ]
    },
    {
     "name": "stderr",
     "output_type": "stream",
     "text": [
      "2025-05-04 14:13:26 [scrapy.core.engine] DEBUG: Crawled (200) <GET https://www.biblegateway.com/passage/?search=Josu%C3%A9%202&version=LSG> (referer: https://www.biblegateway.com/passage/?search=Josu%C3%A9%201&version=LSG)\n"
     ]
    },
    {
     "name": "stdout",
     "output_type": "stream",
     "text": [
      "--------------- ['/passage/?search=Josu%C3%A9%203&version=LSG'] -----------------\n"
     ]
    },
    {
     "name": "stderr",
     "output_type": "stream",
     "text": [
      "2025-05-04 14:13:27 [scrapy.core.engine] DEBUG: Crawled (200) <GET https://www.biblegateway.com/passage/?search=Josu%C3%A9%203&version=LSG> (referer: https://www.biblegateway.com/passage/?search=Josu%C3%A9%202&version=LSG)\n"
     ]
    },
    {
     "name": "stdout",
     "output_type": "stream",
     "text": [
      "--------------- ['/passage/?search=Josu%C3%A9%204&version=LSG'] -----------------\n"
     ]
    },
    {
     "name": "stderr",
     "output_type": "stream",
     "text": [
      "2025-05-04 14:13:28 [scrapy.core.engine] DEBUG: Crawled (200) <GET https://www.biblegateway.com/passage/?search=Josu%C3%A9%204&version=LSG> (referer: https://www.biblegateway.com/passage/?search=Josu%C3%A9%203&version=LSG)\n"
     ]
    },
    {
     "name": "stdout",
     "output_type": "stream",
     "text": [
      "--------------- ['/passage/?search=Josu%C3%A9%205&version=LSG'] -----------------\n"
     ]
    },
    {
     "name": "stderr",
     "output_type": "stream",
     "text": [
      "2025-05-04 14:13:28 [scrapy.core.engine] DEBUG: Crawled (200) <GET https://www.biblegateway.com/passage/?search=Josu%C3%A9%205&version=LSG> (referer: https://www.biblegateway.com/passage/?search=Josu%C3%A9%204&version=LSG)\n"
     ]
    },
    {
     "name": "stdout",
     "output_type": "stream",
     "text": [
      "--------------- ['/passage/?search=Josu%C3%A9%206&version=LSG'] -----------------\n"
     ]
    },
    {
     "name": "stderr",
     "output_type": "stream",
     "text": [
      "2025-05-04 14:13:29 [scrapy.core.engine] DEBUG: Crawled (200) <GET https://www.biblegateway.com/passage/?search=Josu%C3%A9%206&version=LSG> (referer: https://www.biblegateway.com/passage/?search=Josu%C3%A9%205&version=LSG)\n"
     ]
    },
    {
     "name": "stdout",
     "output_type": "stream",
     "text": [
      "--------------- ['/passage/?search=Josu%C3%A9%207&version=LSG'] -----------------\n"
     ]
    },
    {
     "name": "stderr",
     "output_type": "stream",
     "text": [
      "2025-05-04 14:13:30 [scrapy.core.engine] DEBUG: Crawled (200) <GET https://www.biblegateway.com/passage/?search=Josu%C3%A9%207&version=LSG> (referer: https://www.biblegateway.com/passage/?search=Josu%C3%A9%206&version=LSG)\n"
     ]
    },
    {
     "name": "stdout",
     "output_type": "stream",
     "text": [
      "--------------- ['/passage/?search=Josu%C3%A9%208&version=LSG'] -----------------\n"
     ]
    },
    {
     "name": "stderr",
     "output_type": "stream",
     "text": [
      "2025-05-04 14:13:31 [scrapy.core.engine] DEBUG: Crawled (200) <GET https://www.biblegateway.com/passage/?search=Josu%C3%A9%208&version=LSG> (referer: https://www.biblegateway.com/passage/?search=Josu%C3%A9%207&version=LSG)\n"
     ]
    },
    {
     "name": "stdout",
     "output_type": "stream",
     "text": [
      "--------------- ['/passage/?search=Josu%C3%A9%209&version=LSG'] -----------------\n"
     ]
    },
    {
     "name": "stderr",
     "output_type": "stream",
     "text": [
      "2025-05-04 14:13:31 [scrapy.core.engine] DEBUG: Crawled (200) <GET https://www.biblegateway.com/passage/?search=Josu%C3%A9%209&version=LSG> (referer: https://www.biblegateway.com/passage/?search=Josu%C3%A9%208&version=LSG)\n"
     ]
    },
    {
     "name": "stdout",
     "output_type": "stream",
     "text": [
      "--------------- ['/passage/?search=Josu%C3%A9%2010&version=LSG'] -----------------\n"
     ]
    },
    {
     "name": "stderr",
     "output_type": "stream",
     "text": [
      "2025-05-04 14:13:32 [scrapy.core.engine] DEBUG: Crawled (200) <GET https://www.biblegateway.com/passage/?search=Josu%C3%A9%2010&version=LSG> (referer: https://www.biblegateway.com/passage/?search=Josu%C3%A9%209&version=LSG)\n"
     ]
    },
    {
     "name": "stdout",
     "output_type": "stream",
     "text": [
      "--------------- ['/passage/?search=Josu%C3%A9%2011&version=LSG'] -----------------\n"
     ]
    },
    {
     "name": "stderr",
     "output_type": "stream",
     "text": [
      "2025-05-04 14:13:33 [scrapy.core.engine] DEBUG: Crawled (200) <GET https://www.biblegateway.com/passage/?search=Josu%C3%A9%2011&version=LSG> (referer: https://www.biblegateway.com/passage/?search=Josu%C3%A9%2010&version=LSG)\n"
     ]
    },
    {
     "name": "stdout",
     "output_type": "stream",
     "text": [
      "--------------- ['/passage/?search=Josu%C3%A9%2012&version=LSG'] -----------------\n"
     ]
    },
    {
     "name": "stderr",
     "output_type": "stream",
     "text": [
      "2025-05-04 14:13:34 [scrapy.core.engine] DEBUG: Crawled (200) <GET https://www.biblegateway.com/passage/?search=Josu%C3%A9%2012&version=LSG> (referer: https://www.biblegateway.com/passage/?search=Josu%C3%A9%2011&version=LSG)\n"
     ]
    },
    {
     "name": "stdout",
     "output_type": "stream",
     "text": [
      "--------------- ['/passage/?search=Josu%C3%A9%2013&version=LSG'] -----------------\n"
     ]
    },
    {
     "name": "stderr",
     "output_type": "stream",
     "text": [
      "2025-05-04 14:13:35 [scrapy.core.engine] DEBUG: Crawled (200) <GET https://www.biblegateway.com/passage/?search=Josu%C3%A9%2013&version=LSG> (referer: https://www.biblegateway.com/passage/?search=Josu%C3%A9%2012&version=LSG)\n"
     ]
    },
    {
     "name": "stdout",
     "output_type": "stream",
     "text": [
      "--------------- ['/passage/?search=Josu%C3%A9%2014&version=LSG'] -----------------\n"
     ]
    },
    {
     "name": "stderr",
     "output_type": "stream",
     "text": [
      "2025-05-04 14:13:36 [scrapy.core.engine] DEBUG: Crawled (200) <GET https://www.biblegateway.com/passage/?search=Josu%C3%A9%2014&version=LSG> (referer: https://www.biblegateway.com/passage/?search=Josu%C3%A9%2013&version=LSG)\n"
     ]
    },
    {
     "name": "stdout",
     "output_type": "stream",
     "text": [
      "--------------- ['/passage/?search=Josu%C3%A9%2015&version=LSG'] -----------------\n"
     ]
    },
    {
     "name": "stderr",
     "output_type": "stream",
     "text": [
      "2025-05-04 14:13:36 [scrapy.core.engine] DEBUG: Crawled (200) <GET https://www.biblegateway.com/passage/?search=Josu%C3%A9%2015&version=LSG> (referer: https://www.biblegateway.com/passage/?search=Josu%C3%A9%2014&version=LSG)\n"
     ]
    },
    {
     "name": "stdout",
     "output_type": "stream",
     "text": [
      "--------------- ['/passage/?search=Josu%C3%A9%2016&version=LSG'] -----------------\n"
     ]
    },
    {
     "name": "stderr",
     "output_type": "stream",
     "text": [
      "2025-05-04 14:13:37 [scrapy.core.engine] DEBUG: Crawled (200) <GET https://www.biblegateway.com/passage/?search=Josu%C3%A9%2016&version=LSG> (referer: https://www.biblegateway.com/passage/?search=Josu%C3%A9%2015&version=LSG)\n"
     ]
    },
    {
     "name": "stdout",
     "output_type": "stream",
     "text": [
      "--------------- ['/passage/?search=Josu%C3%A9%2017&version=LSG'] -----------------\n"
     ]
    },
    {
     "name": "stderr",
     "output_type": "stream",
     "text": [
      "2025-05-04 14:13:38 [scrapy.core.engine] DEBUG: Crawled (200) <GET https://www.biblegateway.com/passage/?search=Josu%C3%A9%2017&version=LSG> (referer: https://www.biblegateway.com/passage/?search=Josu%C3%A9%2016&version=LSG)\n"
     ]
    },
    {
     "name": "stdout",
     "output_type": "stream",
     "text": [
      "--------------- ['/passage/?search=Josu%C3%A9%2018&version=LSG'] -----------------\n"
     ]
    },
    {
     "name": "stderr",
     "output_type": "stream",
     "text": [
      "2025-05-04 14:13:39 [scrapy.core.engine] DEBUG: Crawled (200) <GET https://www.biblegateway.com/passage/?search=Josu%C3%A9%2018&version=LSG> (referer: https://www.biblegateway.com/passage/?search=Josu%C3%A9%2017&version=LSG)\n"
     ]
    },
    {
     "name": "stdout",
     "output_type": "stream",
     "text": [
      "--------------- ['/passage/?search=Josu%C3%A9%2019&version=LSG'] -----------------\n"
     ]
    },
    {
     "name": "stderr",
     "output_type": "stream",
     "text": [
      "2025-05-04 14:13:40 [scrapy.core.engine] DEBUG: Crawled (200) <GET https://www.biblegateway.com/passage/?search=Josu%C3%A9%2019&version=LSG> (referer: https://www.biblegateway.com/passage/?search=Josu%C3%A9%2018&version=LSG)\n"
     ]
    },
    {
     "name": "stdout",
     "output_type": "stream",
     "text": [
      "--------------- ['/passage/?search=Josu%C3%A9%2020&version=LSG'] -----------------\n"
     ]
    },
    {
     "name": "stderr",
     "output_type": "stream",
     "text": [
      "2025-05-04 14:13:41 [scrapy.core.engine] DEBUG: Crawled (200) <GET https://www.biblegateway.com/passage/?search=Josu%C3%A9%2020&version=LSG> (referer: https://www.biblegateway.com/passage/?search=Josu%C3%A9%2019&version=LSG)\n"
     ]
    },
    {
     "name": "stdout",
     "output_type": "stream",
     "text": [
      "--------------- ['/passage/?search=Josu%C3%A9%2021&version=LSG'] -----------------\n"
     ]
    },
    {
     "name": "stderr",
     "output_type": "stream",
     "text": [
      "2025-05-04 14:13:41 [scrapy.core.engine] DEBUG: Crawled (200) <GET https://www.biblegateway.com/passage/?search=Josu%C3%A9%2021&version=LSG> (referer: https://www.biblegateway.com/passage/?search=Josu%C3%A9%2020&version=LSG)\n"
     ]
    },
    {
     "name": "stdout",
     "output_type": "stream",
     "text": [
      "--------------- ['/passage/?search=Josu%C3%A9%2022&version=LSG'] -----------------\n"
     ]
    },
    {
     "name": "stderr",
     "output_type": "stream",
     "text": [
      "2025-05-04 14:13:42 [scrapy.core.engine] DEBUG: Crawled (200) <GET https://www.biblegateway.com/passage/?search=Josu%C3%A9%2022&version=LSG> (referer: https://www.biblegateway.com/passage/?search=Josu%C3%A9%2021&version=LSG)\n"
     ]
    },
    {
     "name": "stdout",
     "output_type": "stream",
     "text": [
      "--------------- ['/passage/?search=Josu%C3%A9%2023&version=LSG'] -----------------\n"
     ]
    },
    {
     "name": "stderr",
     "output_type": "stream",
     "text": [
      "2025-05-04 14:13:43 [scrapy.core.engine] DEBUG: Crawled (200) <GET https://www.biblegateway.com/passage/?search=Josu%C3%A9%2023&version=LSG> (referer: https://www.biblegateway.com/passage/?search=Josu%C3%A9%2022&version=LSG)\n"
     ]
    },
    {
     "name": "stdout",
     "output_type": "stream",
     "text": [
      "--------------- ['/passage/?search=Josu%C3%A9%2024&version=LSG'] -----------------\n"
     ]
    },
    {
     "name": "stderr",
     "output_type": "stream",
     "text": [
      "2025-05-04 14:13:44 [scrapy.core.engine] DEBUG: Crawled (200) <GET https://www.biblegateway.com/passage/?search=Josu%C3%A9%2024&version=LSG> (referer: https://www.biblegateway.com/passage/?search=Josu%C3%A9%2023&version=LSG)\n"
     ]
    },
    {
     "name": "stdout",
     "output_type": "stream",
     "text": [
      "--------------- ['/passage/?search=Juges%201&version=LSG'] -----------------\n"
     ]
    },
    {
     "name": "stderr",
     "output_type": "stream",
     "text": [
      "2025-05-04 14:13:44 [scrapy.core.engine] DEBUG: Crawled (200) <GET https://www.biblegateway.com/passage/?search=Juges%201&version=LSG> (referer: https://www.biblegateway.com/passage/?search=Josu%C3%A9%2024&version=LSG)\n"
     ]
    },
    {
     "name": "stdout",
     "output_type": "stream",
     "text": [
      "--------------- ['/passage/?search=Juges%202&version=LSG'] -----------------\n"
     ]
    },
    {
     "name": "stderr",
     "output_type": "stream",
     "text": [
      "2025-05-04 14:13:45 [scrapy.core.engine] DEBUG: Crawled (200) <GET https://www.biblegateway.com/passage/?search=Juges%202&version=LSG> (referer: https://www.biblegateway.com/passage/?search=Juges%201&version=LSG)\n"
     ]
    },
    {
     "name": "stdout",
     "output_type": "stream",
     "text": [
      "--------------- ['/passage/?search=Juges%203&version=LSG'] -----------------\n"
     ]
    },
    {
     "name": "stderr",
     "output_type": "stream",
     "text": [
      "2025-05-04 14:13:46 [scrapy.core.engine] DEBUG: Crawled (200) <GET https://www.biblegateway.com/passage/?search=Juges%203&version=LSG> (referer: https://www.biblegateway.com/passage/?search=Juges%202&version=LSG)\n"
     ]
    },
    {
     "name": "stdout",
     "output_type": "stream",
     "text": [
      "--------------- ['/passage/?search=Juges%204&version=LSG'] -----------------\n"
     ]
    },
    {
     "name": "stderr",
     "output_type": "stream",
     "text": [
      "2025-05-04 14:13:47 [scrapy.core.engine] DEBUG: Crawled (200) <GET https://www.biblegateway.com/passage/?search=Juges%204&version=LSG> (referer: https://www.biblegateway.com/passage/?search=Juges%203&version=LSG)\n"
     ]
    },
    {
     "name": "stdout",
     "output_type": "stream",
     "text": [
      "--------------- ['/passage/?search=Juges%205&version=LSG'] -----------------\n"
     ]
    },
    {
     "name": "stderr",
     "output_type": "stream",
     "text": [
      "2025-05-04 14:13:47 [scrapy.core.engine] DEBUG: Crawled (200) <GET https://www.biblegateway.com/passage/?search=Juges%205&version=LSG> (referer: https://www.biblegateway.com/passage/?search=Juges%204&version=LSG)\n"
     ]
    },
    {
     "name": "stdout",
     "output_type": "stream",
     "text": [
      "--------------- ['/passage/?search=Juges%206&version=LSG'] -----------------\n"
     ]
    },
    {
     "name": "stderr",
     "output_type": "stream",
     "text": [
      "2025-05-04 14:13:48 [scrapy.core.engine] DEBUG: Crawled (200) <GET https://www.biblegateway.com/passage/?search=Juges%206&version=LSG> (referer: https://www.biblegateway.com/passage/?search=Juges%205&version=LSG)\n"
     ]
    },
    {
     "name": "stdout",
     "output_type": "stream",
     "text": [
      "--------------- ['/passage/?search=Juges%207&version=LSG'] -----------------\n"
     ]
    },
    {
     "name": "stderr",
     "output_type": "stream",
     "text": [
      "2025-05-04 14:13:48 [scrapy.core.engine] DEBUG: Crawled (200) <GET https://www.biblegateway.com/passage/?search=Juges%207&version=LSG> (referer: https://www.biblegateway.com/passage/?search=Juges%206&version=LSG)\n"
     ]
    },
    {
     "name": "stdout",
     "output_type": "stream",
     "text": [
      "--------------- ['/passage/?search=Juges%208&version=LSG'] -----------------\n"
     ]
    },
    {
     "name": "stderr",
     "output_type": "stream",
     "text": [
      "2025-05-04 14:13:49 [scrapy.core.engine] DEBUG: Crawled (200) <GET https://www.biblegateway.com/passage/?search=Juges%208&version=LSG> (referer: https://www.biblegateway.com/passage/?search=Juges%207&version=LSG)\n"
     ]
    },
    {
     "name": "stdout",
     "output_type": "stream",
     "text": [
      "--------------- ['/passage/?search=Juges%209&version=LSG'] -----------------\n"
     ]
    },
    {
     "name": "stderr",
     "output_type": "stream",
     "text": [
      "2025-05-04 14:13:50 [scrapy.core.engine] DEBUG: Crawled (200) <GET https://www.biblegateway.com/passage/?search=Juges%209&version=LSG> (referer: https://www.biblegateway.com/passage/?search=Juges%208&version=LSG)\n"
     ]
    },
    {
     "name": "stdout",
     "output_type": "stream",
     "text": [
      "--------------- ['/passage/?search=Juges%2010&version=LSG'] -----------------\n"
     ]
    },
    {
     "name": "stderr",
     "output_type": "stream",
     "text": [
      "2025-05-04 14:13:50 [scrapy.core.engine] DEBUG: Crawled (200) <GET https://www.biblegateway.com/passage/?search=Juges%2010&version=LSG> (referer: https://www.biblegateway.com/passage/?search=Juges%209&version=LSG)\n"
     ]
    },
    {
     "name": "stdout",
     "output_type": "stream",
     "text": [
      "--------------- ['/passage/?search=Juges%2011&version=LSG'] -----------------\n"
     ]
    },
    {
     "name": "stderr",
     "output_type": "stream",
     "text": [
      "2025-05-04 14:13:51 [scrapy.core.engine] DEBUG: Crawled (200) <GET https://www.biblegateway.com/passage/?search=Juges%2011&version=LSG> (referer: https://www.biblegateway.com/passage/?search=Juges%2010&version=LSG)\n"
     ]
    },
    {
     "name": "stdout",
     "output_type": "stream",
     "text": [
      "--------------- ['/passage/?search=Juges%2012&version=LSG'] -----------------\n"
     ]
    },
    {
     "name": "stderr",
     "output_type": "stream",
     "text": [
      "2025-05-04 14:13:52 [scrapy.core.engine] DEBUG: Crawled (200) <GET https://www.biblegateway.com/passage/?search=Juges%2012&version=LSG> (referer: https://www.biblegateway.com/passage/?search=Juges%2011&version=LSG)\n"
     ]
    },
    {
     "name": "stdout",
     "output_type": "stream",
     "text": [
      "--------------- ['/passage/?search=Juges%2013&version=LSG'] -----------------\n"
     ]
    },
    {
     "name": "stderr",
     "output_type": "stream",
     "text": [
      "2025-05-04 14:13:52 [scrapy.core.engine] DEBUG: Crawled (200) <GET https://www.biblegateway.com/passage/?search=Juges%2013&version=LSG> (referer: https://www.biblegateway.com/passage/?search=Juges%2012&version=LSG)\n"
     ]
    },
    {
     "name": "stdout",
     "output_type": "stream",
     "text": [
      "--------------- ['/passage/?search=Juges%2014&version=LSG'] -----------------\n"
     ]
    },
    {
     "name": "stderr",
     "output_type": "stream",
     "text": [
      "2025-05-04 14:13:53 [scrapy.core.engine] DEBUG: Crawled (200) <GET https://www.biblegateway.com/passage/?search=Juges%2014&version=LSG> (referer: https://www.biblegateway.com/passage/?search=Juges%2013&version=LSG)\n"
     ]
    },
    {
     "name": "stdout",
     "output_type": "stream",
     "text": [
      "--------------- ['/passage/?search=Juges%2015&version=LSG'] -----------------\n"
     ]
    },
    {
     "name": "stderr",
     "output_type": "stream",
     "text": [
      "2025-05-04 14:13:54 [scrapy.core.engine] DEBUG: Crawled (200) <GET https://www.biblegateway.com/passage/?search=Juges%2015&version=LSG> (referer: https://www.biblegateway.com/passage/?search=Juges%2014&version=LSG)\n"
     ]
    },
    {
     "name": "stdout",
     "output_type": "stream",
     "text": [
      "--------------- ['/passage/?search=Juges%2016&version=LSG'] -----------------\n"
     ]
    },
    {
     "name": "stderr",
     "output_type": "stream",
     "text": [
      "2025-05-04 14:13:55 [scrapy.core.engine] DEBUG: Crawled (200) <GET https://www.biblegateway.com/passage/?search=Juges%2016&version=LSG> (referer: https://www.biblegateway.com/passage/?search=Juges%2015&version=LSG)\n"
     ]
    },
    {
     "name": "stdout",
     "output_type": "stream",
     "text": [
      "--------------- ['/passage/?search=Juges%2017&version=LSG'] -----------------\n"
     ]
    },
    {
     "name": "stderr",
     "output_type": "stream",
     "text": [
      "2025-05-04 14:13:56 [scrapy.core.engine] DEBUG: Crawled (200) <GET https://www.biblegateway.com/passage/?search=Juges%2017&version=LSG> (referer: https://www.biblegateway.com/passage/?search=Juges%2016&version=LSG)\n"
     ]
    },
    {
     "name": "stdout",
     "output_type": "stream",
     "text": [
      "--------------- ['/passage/?search=Juges%2018&version=LSG'] -----------------\n"
     ]
    },
    {
     "name": "stderr",
     "output_type": "stream",
     "text": [
      "2025-05-04 14:13:57 [scrapy.core.engine] DEBUG: Crawled (200) <GET https://www.biblegateway.com/passage/?search=Juges%2018&version=LSG> (referer: https://www.biblegateway.com/passage/?search=Juges%2017&version=LSG)\n",
      "2025-05-04 14:13:57 [scrapy.extensions.logstats] INFO: Crawled 229 pages (at 83 pages/min), scraped 0 items (at 0 items/min)\n"
     ]
    },
    {
     "name": "stdout",
     "output_type": "stream",
     "text": [
      "--------------- ['/passage/?search=Juges%2019&version=LSG'] -----------------\n"
     ]
    },
    {
     "name": "stderr",
     "output_type": "stream",
     "text": [
      "2025-05-04 14:13:57 [scrapy.core.engine] DEBUG: Crawled (200) <GET https://www.biblegateway.com/passage/?search=Juges%2019&version=LSG> (referer: https://www.biblegateway.com/passage/?search=Juges%2018&version=LSG)\n"
     ]
    },
    {
     "name": "stdout",
     "output_type": "stream",
     "text": [
      "--------------- ['/passage/?search=Juges%2020&version=LSG'] -----------------\n"
     ]
    },
    {
     "name": "stderr",
     "output_type": "stream",
     "text": [
      "2025-05-04 14:13:58 [scrapy.core.engine] DEBUG: Crawled (200) <GET https://www.biblegateway.com/passage/?search=Juges%2020&version=LSG> (referer: https://www.biblegateway.com/passage/?search=Juges%2019&version=LSG)\n"
     ]
    },
    {
     "name": "stdout",
     "output_type": "stream",
     "text": [
      "--------------- ['/passage/?search=Juges%2021&version=LSG'] -----------------\n"
     ]
    },
    {
     "name": "stderr",
     "output_type": "stream",
     "text": [
      "2025-05-04 14:13:59 [scrapy.core.engine] DEBUG: Crawled (200) <GET https://www.biblegateway.com/passage/?search=Juges%2021&version=LSG> (referer: https://www.biblegateway.com/passage/?search=Juges%2020&version=LSG)\n"
     ]
    },
    {
     "name": "stdout",
     "output_type": "stream",
     "text": [
      "--------------- ['/passage/?search=Ruth%201&version=LSG'] -----------------\n"
     ]
    },
    {
     "name": "stderr",
     "output_type": "stream",
     "text": [
      "2025-05-04 14:13:59 [scrapy.core.engine] DEBUG: Crawled (200) <GET https://www.biblegateway.com/passage/?search=Ruth%201&version=LSG> (referer: https://www.biblegateway.com/passage/?search=Juges%2021&version=LSG)\n"
     ]
    },
    {
     "name": "stdout",
     "output_type": "stream",
     "text": [
      "--------------- ['/passage/?search=Ruth%202&version=LSG'] -----------------\n"
     ]
    },
    {
     "name": "stderr",
     "output_type": "stream",
     "text": [
      "2025-05-04 14:14:00 [scrapy.core.engine] DEBUG: Crawled (200) <GET https://www.biblegateway.com/passage/?search=Ruth%202&version=LSG> (referer: https://www.biblegateway.com/passage/?search=Ruth%201&version=LSG)\n"
     ]
    },
    {
     "name": "stdout",
     "output_type": "stream",
     "text": [
      "--------------- ['/passage/?search=Ruth%203&version=LSG'] -----------------\n"
     ]
    },
    {
     "name": "stderr",
     "output_type": "stream",
     "text": [
      "2025-05-04 14:14:01 [scrapy.core.engine] DEBUG: Crawled (200) <GET https://www.biblegateway.com/passage/?search=Ruth%203&version=LSG> (referer: https://www.biblegateway.com/passage/?search=Ruth%202&version=LSG)\n"
     ]
    },
    {
     "name": "stdout",
     "output_type": "stream",
     "text": [
      "--------------- ['/passage/?search=Ruth%204&version=LSG'] -----------------\n"
     ]
    },
    {
     "name": "stderr",
     "output_type": "stream",
     "text": [
      "2025-05-04 14:14:01 [scrapy.core.engine] DEBUG: Crawled (200) <GET https://www.biblegateway.com/passage/?search=Ruth%204&version=LSG> (referer: https://www.biblegateway.com/passage/?search=Ruth%203&version=LSG)\n"
     ]
    },
    {
     "name": "stdout",
     "output_type": "stream",
     "text": [
      "--------------- ['/passage/?search=1%20Samuel%201&version=LSG'] -----------------\n"
     ]
    },
    {
     "name": "stderr",
     "output_type": "stream",
     "text": [
      "2025-05-04 14:14:02 [scrapy.core.engine] DEBUG: Crawled (200) <GET https://www.biblegateway.com/passage/?search=1%20Samuel%201&version=LSG> (referer: https://www.biblegateway.com/passage/?search=Ruth%204&version=LSG)\n"
     ]
    },
    {
     "name": "stdout",
     "output_type": "stream",
     "text": [
      "--------------- ['/passage/?search=1%20Samuel%202&version=LSG'] -----------------\n"
     ]
    },
    {
     "name": "stderr",
     "output_type": "stream",
     "text": [
      "2025-05-04 14:14:03 [scrapy.core.engine] DEBUG: Crawled (200) <GET https://www.biblegateway.com/passage/?search=1%20Samuel%202&version=LSG> (referer: https://www.biblegateway.com/passage/?search=1%20Samuel%201&version=LSG)\n"
     ]
    },
    {
     "name": "stdout",
     "output_type": "stream",
     "text": [
      "--------------- ['/passage/?search=1%20Samuel%203&version=LSG'] -----------------\n"
     ]
    },
    {
     "name": "stderr",
     "output_type": "stream",
     "text": [
      "2025-05-04 14:14:04 [scrapy.core.engine] DEBUG: Crawled (200) <GET https://www.biblegateway.com/passage/?search=1%20Samuel%203&version=LSG> (referer: https://www.biblegateway.com/passage/?search=1%20Samuel%202&version=LSG)\n"
     ]
    },
    {
     "name": "stdout",
     "output_type": "stream",
     "text": [
      "--------------- ['/passage/?search=1%20Samuel%204&version=LSG'] -----------------\n"
     ]
    },
    {
     "name": "stderr",
     "output_type": "stream",
     "text": [
      "2025-05-04 14:14:04 [scrapy.core.engine] DEBUG: Crawled (200) <GET https://www.biblegateway.com/passage/?search=1%20Samuel%204&version=LSG> (referer: https://www.biblegateway.com/passage/?search=1%20Samuel%203&version=LSG)\n"
     ]
    },
    {
     "name": "stdout",
     "output_type": "stream",
     "text": [
      "--------------- ['/passage/?search=1%20Samuel%205&version=LSG'] -----------------\n"
     ]
    },
    {
     "name": "stderr",
     "output_type": "stream",
     "text": [
      "2025-05-04 14:14:05 [scrapy.core.engine] DEBUG: Crawled (200) <GET https://www.biblegateway.com/passage/?search=1%20Samuel%205&version=LSG> (referer: https://www.biblegateway.com/passage/?search=1%20Samuel%204&version=LSG)\n"
     ]
    },
    {
     "name": "stdout",
     "output_type": "stream",
     "text": [
      "--------------- ['/passage/?search=1%20Samuel%206&version=LSG'] -----------------\n"
     ]
    },
    {
     "name": "stderr",
     "output_type": "stream",
     "text": [
      "2025-05-04 14:14:06 [scrapy.core.engine] DEBUG: Crawled (200) <GET https://www.biblegateway.com/passage/?search=1%20Samuel%206&version=LSG> (referer: https://www.biblegateway.com/passage/?search=1%20Samuel%205&version=LSG)\n"
     ]
    },
    {
     "name": "stdout",
     "output_type": "stream",
     "text": [
      "--------------- ['/passage/?search=1%20Samuel%207&version=LSG'] -----------------\n"
     ]
    },
    {
     "name": "stderr",
     "output_type": "stream",
     "text": [
      "2025-05-04 14:14:07 [scrapy.core.engine] DEBUG: Crawled (200) <GET https://www.biblegateway.com/passage/?search=1%20Samuel%207&version=LSG> (referer: https://www.biblegateway.com/passage/?search=1%20Samuel%206&version=LSG)\n"
     ]
    },
    {
     "name": "stdout",
     "output_type": "stream",
     "text": [
      "--------------- ['/passage/?search=1%20Samuel%208&version=LSG'] -----------------\n"
     ]
    },
    {
     "name": "stderr",
     "output_type": "stream",
     "text": [
      "2025-05-04 14:14:07 [scrapy.core.engine] DEBUG: Crawled (200) <GET https://www.biblegateway.com/passage/?search=1%20Samuel%208&version=LSG> (referer: https://www.biblegateway.com/passage/?search=1%20Samuel%207&version=LSG)\n"
     ]
    },
    {
     "name": "stdout",
     "output_type": "stream",
     "text": [
      "--------------- ['/passage/?search=1%20Samuel%209&version=LSG'] -----------------\n"
     ]
    },
    {
     "name": "stderr",
     "output_type": "stream",
     "text": [
      "2025-05-04 14:14:08 [scrapy.core.engine] DEBUG: Crawled (200) <GET https://www.biblegateway.com/passage/?search=1%20Samuel%209&version=LSG> (referer: https://www.biblegateway.com/passage/?search=1%20Samuel%208&version=LSG)\n"
     ]
    },
    {
     "name": "stdout",
     "output_type": "stream",
     "text": [
      "--------------- ['/passage/?search=1%20Samuel%2010&version=LSG'] -----------------\n"
     ]
    },
    {
     "name": "stderr",
     "output_type": "stream",
     "text": [
      "2025-05-04 14:14:09 [scrapy.core.engine] DEBUG: Crawled (200) <GET https://www.biblegateway.com/passage/?search=1%20Samuel%2010&version=LSG> (referer: https://www.biblegateway.com/passage/?search=1%20Samuel%209&version=LSG)\n"
     ]
    },
    {
     "name": "stdout",
     "output_type": "stream",
     "text": [
      "--------------- ['/passage/?search=1%20Samuel%2011&version=LSG'] -----------------\n"
     ]
    },
    {
     "name": "stderr",
     "output_type": "stream",
     "text": [
      "2025-05-04 14:14:10 [scrapy.core.engine] DEBUG: Crawled (200) <GET https://www.biblegateway.com/passage/?search=1%20Samuel%2011&version=LSG> (referer: https://www.biblegateway.com/passage/?search=1%20Samuel%2010&version=LSG)\n"
     ]
    },
    {
     "name": "stdout",
     "output_type": "stream",
     "text": [
      "--------------- ['/passage/?search=1%20Samuel%2012&version=LSG'] -----------------\n"
     ]
    },
    {
     "name": "stderr",
     "output_type": "stream",
     "text": [
      "2025-05-04 14:14:10 [scrapy.core.engine] DEBUG: Crawled (200) <GET https://www.biblegateway.com/passage/?search=1%20Samuel%2012&version=LSG> (referer: https://www.biblegateway.com/passage/?search=1%20Samuel%2011&version=LSG)\n"
     ]
    },
    {
     "name": "stdout",
     "output_type": "stream",
     "text": [
      "--------------- ['/passage/?search=1%20Samuel%2013&version=LSG'] -----------------\n"
     ]
    },
    {
     "name": "stderr",
     "output_type": "stream",
     "text": [
      "2025-05-04 14:14:11 [scrapy.core.engine] DEBUG: Crawled (200) <GET https://www.biblegateway.com/passage/?search=1%20Samuel%2013&version=LSG> (referer: https://www.biblegateway.com/passage/?search=1%20Samuel%2012&version=LSG)\n"
     ]
    },
    {
     "name": "stdout",
     "output_type": "stream",
     "text": [
      "--------------- ['/passage/?search=1%20Samuel%2014&version=LSG'] -----------------\n"
     ]
    },
    {
     "name": "stderr",
     "output_type": "stream",
     "text": [
      "2025-05-04 14:14:12 [scrapy.core.engine] DEBUG: Crawled (200) <GET https://www.biblegateway.com/passage/?search=1%20Samuel%2014&version=LSG> (referer: https://www.biblegateway.com/passage/?search=1%20Samuel%2013&version=LSG)\n"
     ]
    },
    {
     "name": "stdout",
     "output_type": "stream",
     "text": [
      "--------------- ['/passage/?search=1%20Samuel%2015&version=LSG'] -----------------\n"
     ]
    },
    {
     "name": "stderr",
     "output_type": "stream",
     "text": [
      "2025-05-04 14:14:12 [scrapy.core.engine] DEBUG: Crawled (200) <GET https://www.biblegateway.com/passage/?search=1%20Samuel%2015&version=LSG> (referer: https://www.biblegateway.com/passage/?search=1%20Samuel%2014&version=LSG)\n"
     ]
    },
    {
     "name": "stdout",
     "output_type": "stream",
     "text": [
      "--------------- ['/passage/?search=1%20Samuel%2016&version=LSG'] -----------------\n"
     ]
    },
    {
     "name": "stderr",
     "output_type": "stream",
     "text": [
      "2025-05-04 14:14:13 [scrapy.core.engine] DEBUG: Crawled (200) <GET https://www.biblegateway.com/passage/?search=1%20Samuel%2016&version=LSG> (referer: https://www.biblegateway.com/passage/?search=1%20Samuel%2015&version=LSG)\n"
     ]
    },
    {
     "name": "stdout",
     "output_type": "stream",
     "text": [
      "--------------- ['/passage/?search=1%20Samuel%2017&version=LSG'] -----------------\n"
     ]
    },
    {
     "name": "stderr",
     "output_type": "stream",
     "text": [
      "2025-05-04 14:14:14 [scrapy.core.engine] DEBUG: Crawled (200) <GET https://www.biblegateway.com/passage/?search=1%20Samuel%2017&version=LSG> (referer: https://www.biblegateway.com/passage/?search=1%20Samuel%2016&version=LSG)\n"
     ]
    },
    {
     "name": "stdout",
     "output_type": "stream",
     "text": [
      "--------------- ['/passage/?search=1%20Samuel%2018&version=LSG'] -----------------\n"
     ]
    },
    {
     "name": "stderr",
     "output_type": "stream",
     "text": [
      "2025-05-04 14:14:15 [scrapy.core.engine] DEBUG: Crawled (200) <GET https://www.biblegateway.com/passage/?search=1%20Samuel%2018&version=LSG> (referer: https://www.biblegateway.com/passage/?search=1%20Samuel%2017&version=LSG)\n"
     ]
    },
    {
     "name": "stdout",
     "output_type": "stream",
     "text": [
      "--------------- ['/passage/?search=1%20Samuel%2019&version=LSG'] -----------------\n"
     ]
    },
    {
     "name": "stderr",
     "output_type": "stream",
     "text": [
      "2025-05-04 14:14:16 [scrapy.core.engine] DEBUG: Crawled (200) <GET https://www.biblegateway.com/passage/?search=1%20Samuel%2019&version=LSG> (referer: https://www.biblegateway.com/passage/?search=1%20Samuel%2018&version=LSG)\n"
     ]
    },
    {
     "name": "stdout",
     "output_type": "stream",
     "text": [
      "--------------- ['/passage/?search=1%20Samuel%2020&version=LSG'] -----------------\n"
     ]
    },
    {
     "name": "stderr",
     "output_type": "stream",
     "text": [
      "2025-05-04 14:14:17 [scrapy.core.engine] DEBUG: Crawled (200) <GET https://www.biblegateway.com/passage/?search=1%20Samuel%2020&version=LSG> (referer: https://www.biblegateway.com/passage/?search=1%20Samuel%2019&version=LSG)\n"
     ]
    },
    {
     "name": "stdout",
     "output_type": "stream",
     "text": [
      "--------------- ['/passage/?search=1%20Samuel%2021&version=LSG'] -----------------\n"
     ]
    },
    {
     "name": "stderr",
     "output_type": "stream",
     "text": [
      "2025-05-04 14:14:18 [scrapy.core.engine] DEBUG: Crawled (200) <GET https://www.biblegateway.com/passage/?search=1%20Samuel%2021&version=LSG> (referer: https://www.biblegateway.com/passage/?search=1%20Samuel%2020&version=LSG)\n"
     ]
    },
    {
     "name": "stdout",
     "output_type": "stream",
     "text": [
      "--------------- ['/passage/?search=1%20Samuel%2022&version=LSG'] -----------------\n"
     ]
    },
    {
     "name": "stderr",
     "output_type": "stream",
     "text": [
      "2025-05-04 14:14:19 [scrapy.core.engine] DEBUG: Crawled (200) <GET https://www.biblegateway.com/passage/?search=1%20Samuel%2022&version=LSG> (referer: https://www.biblegateway.com/passage/?search=1%20Samuel%2021&version=LSG)\n"
     ]
    },
    {
     "name": "stdout",
     "output_type": "stream",
     "text": [
      "--------------- ['/passage/?search=1%20Samuel%2023&version=LSG'] -----------------\n"
     ]
    },
    {
     "name": "stderr",
     "output_type": "stream",
     "text": [
      "2025-05-04 14:14:19 [scrapy.core.engine] DEBUG: Crawled (200) <GET https://www.biblegateway.com/passage/?search=1%20Samuel%2023&version=LSG> (referer: https://www.biblegateway.com/passage/?search=1%20Samuel%2022&version=LSG)\n"
     ]
    },
    {
     "name": "stdout",
     "output_type": "stream",
     "text": [
      "--------------- ['/passage/?search=1%20Samuel%2024&version=LSG'] -----------------\n"
     ]
    },
    {
     "name": "stderr",
     "output_type": "stream",
     "text": [
      "2025-05-04 14:14:20 [scrapy.core.engine] DEBUG: Crawled (200) <GET https://www.biblegateway.com/passage/?search=1%20Samuel%2024&version=LSG> (referer: https://www.biblegateway.com/passage/?search=1%20Samuel%2023&version=LSG)\n"
     ]
    },
    {
     "name": "stdout",
     "output_type": "stream",
     "text": [
      "--------------- ['/passage/?search=1%20Samuel%2025&version=LSG'] -----------------\n"
     ]
    },
    {
     "name": "stderr",
     "output_type": "stream",
     "text": [
      "2025-05-04 14:14:21 [scrapy.core.engine] DEBUG: Crawled (200) <GET https://www.biblegateway.com/passage/?search=1%20Samuel%2025&version=LSG> (referer: https://www.biblegateway.com/passage/?search=1%20Samuel%2024&version=LSG)\n"
     ]
    },
    {
     "name": "stdout",
     "output_type": "stream",
     "text": [
      "--------------- ['/passage/?search=1%20Samuel%2026&version=LSG'] -----------------\n"
     ]
    },
    {
     "name": "stderr",
     "output_type": "stream",
     "text": [
      "2025-05-04 14:14:22 [scrapy.core.engine] DEBUG: Crawled (200) <GET https://www.biblegateway.com/passage/?search=1%20Samuel%2026&version=LSG> (referer: https://www.biblegateway.com/passage/?search=1%20Samuel%2025&version=LSG)\n"
     ]
    },
    {
     "name": "stdout",
     "output_type": "stream",
     "text": [
      "--------------- ['/passage/?search=1%20Samuel%2027&version=LSG'] -----------------\n"
     ]
    },
    {
     "name": "stderr",
     "output_type": "stream",
     "text": [
      "2025-05-04 14:14:23 [scrapy.core.engine] DEBUG: Crawled (200) <GET https://www.biblegateway.com/passage/?search=1%20Samuel%2027&version=LSG> (referer: https://www.biblegateway.com/passage/?search=1%20Samuel%2026&version=LSG)\n"
     ]
    },
    {
     "name": "stdout",
     "output_type": "stream",
     "text": [
      "--------------- ['/passage/?search=1%20Samuel%2028&version=LSG'] -----------------\n"
     ]
    },
    {
     "name": "stderr",
     "output_type": "stream",
     "text": [
      "2025-05-04 14:14:24 [scrapy.core.engine] DEBUG: Crawled (200) <GET https://www.biblegateway.com/passage/?search=1%20Samuel%2028&version=LSG> (referer: https://www.biblegateway.com/passage/?search=1%20Samuel%2027&version=LSG)\n"
     ]
    },
    {
     "name": "stdout",
     "output_type": "stream",
     "text": [
      "--------------- ['/passage/?search=1%20Samuel%2029&version=LSG'] -----------------\n"
     ]
    },
    {
     "name": "stderr",
     "output_type": "stream",
     "text": [
      "2025-05-04 14:14:24 [scrapy.core.engine] DEBUG: Crawled (200) <GET https://www.biblegateway.com/passage/?search=1%20Samuel%2029&version=LSG> (referer: https://www.biblegateway.com/passage/?search=1%20Samuel%2028&version=LSG)\n"
     ]
    },
    {
     "name": "stdout",
     "output_type": "stream",
     "text": [
      "--------------- ['/passage/?search=1%20Samuel%2030&version=LSG'] -----------------\n"
     ]
    },
    {
     "name": "stderr",
     "output_type": "stream",
     "text": [
      "2025-05-04 14:14:25 [scrapy.core.engine] DEBUG: Crawled (200) <GET https://www.biblegateway.com/passage/?search=1%20Samuel%2030&version=LSG> (referer: https://www.biblegateway.com/passage/?search=1%20Samuel%2029&version=LSG)\n"
     ]
    },
    {
     "name": "stdout",
     "output_type": "stream",
     "text": [
      "--------------- ['/passage/?search=1%20Samuel%2031&version=LSG'] -----------------\n"
     ]
    },
    {
     "name": "stderr",
     "output_type": "stream",
     "text": [
      "2025-05-04 14:14:26 [scrapy.core.engine] DEBUG: Crawled (200) <GET https://www.biblegateway.com/passage/?search=1%20Samuel%2031&version=LSG> (referer: https://www.biblegateway.com/passage/?search=1%20Samuel%2030&version=LSG)\n"
     ]
    },
    {
     "name": "stdout",
     "output_type": "stream",
     "text": [
      "--------------- ['/passage/?search=2%20Samuel%201&version=LSG'] -----------------\n"
     ]
    },
    {
     "name": "stderr",
     "output_type": "stream",
     "text": [
      "2025-05-04 14:14:27 [scrapy.core.engine] DEBUG: Crawled (200) <GET https://www.biblegateway.com/passage/?search=2%20Samuel%201&version=LSG> (referer: https://www.biblegateway.com/passage/?search=1%20Samuel%2031&version=LSG)\n"
     ]
    },
    {
     "name": "stdout",
     "output_type": "stream",
     "text": [
      "--------------- ['/passage/?search=2%20Samuel%202&version=LSG'] -----------------\n"
     ]
    },
    {
     "name": "stderr",
     "output_type": "stream",
     "text": [
      "2025-05-04 14:14:28 [scrapy.core.engine] DEBUG: Crawled (200) <GET https://www.biblegateway.com/passage/?search=2%20Samuel%202&version=LSG> (referer: https://www.biblegateway.com/passage/?search=2%20Samuel%201&version=LSG)\n"
     ]
    },
    {
     "name": "stdout",
     "output_type": "stream",
     "text": [
      "--------------- ['/passage/?search=2%20Samuel%203&version=LSG'] -----------------\n"
     ]
    },
    {
     "name": "stderr",
     "output_type": "stream",
     "text": [
      "2025-05-04 14:14:28 [scrapy.core.engine] DEBUG: Crawled (200) <GET https://www.biblegateway.com/passage/?search=2%20Samuel%203&version=LSG> (referer: https://www.biblegateway.com/passage/?search=2%20Samuel%202&version=LSG)\n"
     ]
    },
    {
     "name": "stdout",
     "output_type": "stream",
     "text": [
      "--------------- ['/passage/?search=2%20Samuel%204&version=LSG'] -----------------\n"
     ]
    },
    {
     "name": "stderr",
     "output_type": "stream",
     "text": [
      "2025-05-04 14:14:29 [scrapy.core.engine] DEBUG: Crawled (200) <GET https://www.biblegateway.com/passage/?search=2%20Samuel%204&version=LSG> (referer: https://www.biblegateway.com/passage/?search=2%20Samuel%203&version=LSG)\n"
     ]
    },
    {
     "name": "stdout",
     "output_type": "stream",
     "text": [
      "--------------- ['/passage/?search=2%20Samuel%205&version=LSG'] -----------------\n"
     ]
    },
    {
     "name": "stderr",
     "output_type": "stream",
     "text": [
      "2025-05-04 14:14:30 [scrapy.core.engine] DEBUG: Crawled (200) <GET https://www.biblegateway.com/passage/?search=2%20Samuel%205&version=LSG> (referer: https://www.biblegateway.com/passage/?search=2%20Samuel%204&version=LSG)\n"
     ]
    },
    {
     "name": "stdout",
     "output_type": "stream",
     "text": [
      "--------------- ['/passage/?search=2%20Samuel%206&version=LSG'] -----------------\n"
     ]
    },
    {
     "name": "stderr",
     "output_type": "stream",
     "text": [
      "2025-05-04 14:14:31 [scrapy.core.engine] DEBUG: Crawled (200) <GET https://www.biblegateway.com/passage/?search=2%20Samuel%206&version=LSG> (referer: https://www.biblegateway.com/passage/?search=2%20Samuel%205&version=LSG)\n"
     ]
    },
    {
     "name": "stdout",
     "output_type": "stream",
     "text": [
      "--------------- ['/passage/?search=2%20Samuel%207&version=LSG'] -----------------\n"
     ]
    },
    {
     "name": "stderr",
     "output_type": "stream",
     "text": [
      "2025-05-04 14:14:32 [scrapy.core.engine] DEBUG: Crawled (200) <GET https://www.biblegateway.com/passage/?search=2%20Samuel%207&version=LSG> (referer: https://www.biblegateway.com/passage/?search=2%20Samuel%206&version=LSG)\n"
     ]
    },
    {
     "name": "stdout",
     "output_type": "stream",
     "text": [
      "--------------- ['/passage/?search=2%20Samuel%208&version=LSG'] -----------------\n"
     ]
    },
    {
     "name": "stderr",
     "output_type": "stream",
     "text": [
      "2025-05-04 14:14:32 [scrapy.core.engine] DEBUG: Crawled (200) <GET https://www.biblegateway.com/passage/?search=2%20Samuel%208&version=LSG> (referer: https://www.biblegateway.com/passage/?search=2%20Samuel%207&version=LSG)\n"
     ]
    },
    {
     "name": "stdout",
     "output_type": "stream",
     "text": [
      "--------------- ['/passage/?search=2%20Samuel%209&version=LSG'] -----------------\n"
     ]
    },
    {
     "name": "stderr",
     "output_type": "stream",
     "text": [
      "2025-05-04 14:14:33 [scrapy.core.engine] DEBUG: Crawled (200) <GET https://www.biblegateway.com/passage/?search=2%20Samuel%209&version=LSG> (referer: https://www.biblegateway.com/passage/?search=2%20Samuel%208&version=LSG)\n"
     ]
    },
    {
     "name": "stdout",
     "output_type": "stream",
     "text": [
      "--------------- ['/passage/?search=2%20Samuel%2010&version=LSG'] -----------------\n"
     ]
    },
    {
     "name": "stderr",
     "output_type": "stream",
     "text": [
      "2025-05-04 14:14:34 [scrapy.core.engine] DEBUG: Crawled (200) <GET https://www.biblegateway.com/passage/?search=2%20Samuel%2010&version=LSG> (referer: https://www.biblegateway.com/passage/?search=2%20Samuel%209&version=LSG)\n"
     ]
    },
    {
     "name": "stdout",
     "output_type": "stream",
     "text": [
      "--------------- ['/passage/?search=2%20Samuel%2011&version=LSG'] -----------------\n"
     ]
    },
    {
     "name": "stderr",
     "output_type": "stream",
     "text": [
      "2025-05-04 14:14:35 [scrapy.core.engine] DEBUG: Crawled (200) <GET https://www.biblegateway.com/passage/?search=2%20Samuel%2011&version=LSG> (referer: https://www.biblegateway.com/passage/?search=2%20Samuel%2010&version=LSG)\n"
     ]
    },
    {
     "name": "stdout",
     "output_type": "stream",
     "text": [
      "--------------- ['/passage/?search=2%20Samuel%2012&version=LSG'] -----------------\n"
     ]
    },
    {
     "name": "stderr",
     "output_type": "stream",
     "text": [
      "2025-05-04 14:14:35 [scrapy.core.engine] DEBUG: Crawled (200) <GET https://www.biblegateway.com/passage/?search=2%20Samuel%2012&version=LSG> (referer: https://www.biblegateway.com/passage/?search=2%20Samuel%2011&version=LSG)\n"
     ]
    },
    {
     "name": "stdout",
     "output_type": "stream",
     "text": [
      "--------------- ['/passage/?search=2%20Samuel%2013&version=LSG'] -----------------\n"
     ]
    },
    {
     "name": "stderr",
     "output_type": "stream",
     "text": [
      "2025-05-04 14:14:36 [scrapy.core.engine] DEBUG: Crawled (200) <GET https://www.biblegateway.com/passage/?search=2%20Samuel%2013&version=LSG> (referer: https://www.biblegateway.com/passage/?search=2%20Samuel%2012&version=LSG)\n"
     ]
    },
    {
     "name": "stdout",
     "output_type": "stream",
     "text": [
      "--------------- ['/passage/?search=2%20Samuel%2014&version=LSG'] -----------------\n"
     ]
    },
    {
     "name": "stderr",
     "output_type": "stream",
     "text": [
      "2025-05-04 14:14:37 [scrapy.core.engine] DEBUG: Crawled (200) <GET https://www.biblegateway.com/passage/?search=2%20Samuel%2014&version=LSG> (referer: https://www.biblegateway.com/passage/?search=2%20Samuel%2013&version=LSG)\n"
     ]
    },
    {
     "name": "stdout",
     "output_type": "stream",
     "text": [
      "--------------- ['/passage/?search=2%20Samuel%2015&version=LSG'] -----------------\n"
     ]
    },
    {
     "name": "stderr",
     "output_type": "stream",
     "text": [
      "2025-05-04 14:14:37 [scrapy.core.engine] DEBUG: Crawled (200) <GET https://www.biblegateway.com/passage/?search=2%20Samuel%2015&version=LSG> (referer: https://www.biblegateway.com/passage/?search=2%20Samuel%2014&version=LSG)\n"
     ]
    },
    {
     "name": "stdout",
     "output_type": "stream",
     "text": [
      "--------------- ['/passage/?search=2%20Samuel%2016&version=LSG'] -----------------\n"
     ]
    },
    {
     "name": "stderr",
     "output_type": "stream",
     "text": [
      "2025-05-04 14:14:38 [scrapy.core.engine] DEBUG: Crawled (200) <GET https://www.biblegateway.com/passage/?search=2%20Samuel%2016&version=LSG> (referer: https://www.biblegateway.com/passage/?search=2%20Samuel%2015&version=LSG)\n"
     ]
    },
    {
     "name": "stdout",
     "output_type": "stream",
     "text": [
      "--------------- ['/passage/?search=2%20Samuel%2017&version=LSG'] -----------------\n"
     ]
    },
    {
     "name": "stderr",
     "output_type": "stream",
     "text": [
      "2025-05-04 14:14:39 [scrapy.core.engine] DEBUG: Crawled (200) <GET https://www.biblegateway.com/passage/?search=2%20Samuel%2017&version=LSG> (referer: https://www.biblegateway.com/passage/?search=2%20Samuel%2016&version=LSG)\n"
     ]
    },
    {
     "name": "stdout",
     "output_type": "stream",
     "text": [
      "--------------- ['/passage/?search=2%20Samuel%2018&version=LSG'] -----------------\n"
     ]
    },
    {
     "name": "stderr",
     "output_type": "stream",
     "text": [
      "2025-05-04 14:14:40 [scrapy.core.engine] DEBUG: Crawled (200) <GET https://www.biblegateway.com/passage/?search=2%20Samuel%2018&version=LSG> (referer: https://www.biblegateway.com/passage/?search=2%20Samuel%2017&version=LSG)\n"
     ]
    },
    {
     "name": "stdout",
     "output_type": "stream",
     "text": [
      "--------------- ['/passage/?search=2%20Samuel%2019&version=LSG'] -----------------\n"
     ]
    },
    {
     "name": "stderr",
     "output_type": "stream",
     "text": [
      "2025-05-04 14:14:40 [scrapy.core.engine] DEBUG: Crawled (200) <GET https://www.biblegateway.com/passage/?search=2%20Samuel%2019&version=LSG> (referer: https://www.biblegateway.com/passage/?search=2%20Samuel%2018&version=LSG)\n"
     ]
    },
    {
     "name": "stdout",
     "output_type": "stream",
     "text": [
      "--------------- ['/passage/?search=2%20Samuel%2020&version=LSG'] -----------------\n"
     ]
    },
    {
     "name": "stderr",
     "output_type": "stream",
     "text": [
      "2025-05-04 14:14:41 [scrapy.core.engine] DEBUG: Crawled (200) <GET https://www.biblegateway.com/passage/?search=2%20Samuel%2020&version=LSG> (referer: https://www.biblegateway.com/passage/?search=2%20Samuel%2019&version=LSG)\n"
     ]
    },
    {
     "name": "stdout",
     "output_type": "stream",
     "text": [
      "--------------- ['/passage/?search=2%20Samuel%2021&version=LSG'] -----------------\n"
     ]
    },
    {
     "name": "stderr",
     "output_type": "stream",
     "text": [
      "2025-05-04 14:14:42 [scrapy.core.engine] DEBUG: Crawled (200) <GET https://www.biblegateway.com/passage/?search=2%20Samuel%2021&version=LSG> (referer: https://www.biblegateway.com/passage/?search=2%20Samuel%2020&version=LSG)\n"
     ]
    },
    {
     "name": "stdout",
     "output_type": "stream",
     "text": [
      "--------------- ['/passage/?search=2%20Samuel%2022&version=LSG'] -----------------\n"
     ]
    },
    {
     "name": "stderr",
     "output_type": "stream",
     "text": [
      "2025-05-04 14:14:42 [scrapy.core.engine] DEBUG: Crawled (200) <GET https://www.biblegateway.com/passage/?search=2%20Samuel%2022&version=LSG> (referer: https://www.biblegateway.com/passage/?search=2%20Samuel%2021&version=LSG)\n"
     ]
    },
    {
     "name": "stdout",
     "output_type": "stream",
     "text": [
      "--------------- ['/passage/?search=2%20Samuel%2023&version=LSG'] -----------------\n"
     ]
    },
    {
     "name": "stderr",
     "output_type": "stream",
     "text": [
      "2025-05-04 14:14:43 [scrapy.core.engine] DEBUG: Crawled (200) <GET https://www.biblegateway.com/passage/?search=2%20Samuel%2023&version=LSG> (referer: https://www.biblegateway.com/passage/?search=2%20Samuel%2022&version=LSG)\n"
     ]
    },
    {
     "name": "stdout",
     "output_type": "stream",
     "text": [
      "--------------- ['/passage/?search=2%20Samuel%2024&version=LSG'] -----------------\n"
     ]
    },
    {
     "name": "stderr",
     "output_type": "stream",
     "text": [
      "2025-05-04 14:14:44 [scrapy.core.engine] DEBUG: Crawled (200) <GET https://www.biblegateway.com/passage/?search=2%20Samuel%2024&version=LSG> (referer: https://www.biblegateway.com/passage/?search=2%20Samuel%2023&version=LSG)\n"
     ]
    },
    {
     "name": "stdout",
     "output_type": "stream",
     "text": [
      "--------------- ['/passage/?search=1%20Rois%201&version=LSG'] -----------------\n"
     ]
    },
    {
     "name": "stderr",
     "output_type": "stream",
     "text": [
      "2025-05-04 14:14:45 [scrapy.core.engine] DEBUG: Crawled (200) <GET https://www.biblegateway.com/passage/?search=1%20Rois%201&version=LSG> (referer: https://www.biblegateway.com/passage/?search=2%20Samuel%2024&version=LSG)\n"
     ]
    },
    {
     "name": "stdout",
     "output_type": "stream",
     "text": [
      "--------------- ['/passage/?search=1%20Rois%202&version=LSG'] -----------------\n"
     ]
    },
    {
     "name": "stderr",
     "output_type": "stream",
     "text": [
      "2025-05-04 14:14:45 [scrapy.core.engine] DEBUG: Crawled (200) <GET https://www.biblegateway.com/passage/?search=1%20Rois%202&version=LSG> (referer: https://www.biblegateway.com/passage/?search=1%20Rois%201&version=LSG)\n"
     ]
    },
    {
     "name": "stdout",
     "output_type": "stream",
     "text": [
      "--------------- ['/passage/?search=1%20Rois%203&version=LSG'] -----------------\n"
     ]
    },
    {
     "name": "stderr",
     "output_type": "stream",
     "text": [
      "2025-05-04 14:14:46 [scrapy.core.engine] DEBUG: Crawled (200) <GET https://www.biblegateway.com/passage/?search=1%20Rois%203&version=LSG> (referer: https://www.biblegateway.com/passage/?search=1%20Rois%202&version=LSG)\n"
     ]
    },
    {
     "name": "stdout",
     "output_type": "stream",
     "text": [
      "--------------- ['/passage/?search=1%20Rois%204&version=LSG'] -----------------\n"
     ]
    },
    {
     "name": "stderr",
     "output_type": "stream",
     "text": [
      "2025-05-04 14:14:47 [scrapy.core.engine] DEBUG: Crawled (200) <GET https://www.biblegateway.com/passage/?search=1%20Rois%204&version=LSG> (referer: https://www.biblegateway.com/passage/?search=1%20Rois%203&version=LSG)\n"
     ]
    },
    {
     "name": "stdout",
     "output_type": "stream",
     "text": [
      "--------------- ['/passage/?search=1%20Rois%205&version=LSG'] -----------------\n"
     ]
    },
    {
     "name": "stderr",
     "output_type": "stream",
     "text": [
      "2025-05-04 14:14:47 [scrapy.core.engine] DEBUG: Crawled (200) <GET https://www.biblegateway.com/passage/?search=1%20Rois%205&version=LSG> (referer: https://www.biblegateway.com/passage/?search=1%20Rois%204&version=LSG)\n"
     ]
    },
    {
     "name": "stdout",
     "output_type": "stream",
     "text": [
      "--------------- ['/passage/?search=1%20Rois%206&version=LSG'] -----------------\n"
     ]
    },
    {
     "name": "stderr",
     "output_type": "stream",
     "text": [
      "2025-05-04 14:14:48 [scrapy.core.engine] DEBUG: Crawled (200) <GET https://www.biblegateway.com/passage/?search=1%20Rois%206&version=LSG> (referer: https://www.biblegateway.com/passage/?search=1%20Rois%205&version=LSG)\n"
     ]
    },
    {
     "name": "stdout",
     "output_type": "stream",
     "text": [
      "--------------- ['/passage/?search=1%20Rois%207&version=LSG'] -----------------\n"
     ]
    },
    {
     "name": "stderr",
     "output_type": "stream",
     "text": [
      "2025-05-04 14:14:49 [scrapy.core.engine] DEBUG: Crawled (200) <GET https://www.biblegateway.com/passage/?search=1%20Rois%207&version=LSG> (referer: https://www.biblegateway.com/passage/?search=1%20Rois%206&version=LSG)\n"
     ]
    },
    {
     "name": "stdout",
     "output_type": "stream",
     "text": [
      "--------------- ['/passage/?search=1%20Rois%208&version=LSG'] -----------------\n"
     ]
    },
    {
     "name": "stderr",
     "output_type": "stream",
     "text": [
      "2025-05-04 14:14:50 [scrapy.core.engine] DEBUG: Crawled (200) <GET https://www.biblegateway.com/passage/?search=1%20Rois%208&version=LSG> (referer: https://www.biblegateway.com/passage/?search=1%20Rois%207&version=LSG)\n"
     ]
    },
    {
     "name": "stdout",
     "output_type": "stream",
     "text": [
      "--------------- ['/passage/?search=1%20Rois%209&version=LSG'] -----------------\n"
     ]
    },
    {
     "name": "stderr",
     "output_type": "stream",
     "text": [
      "2025-05-04 14:14:51 [scrapy.core.engine] DEBUG: Crawled (200) <GET https://www.biblegateway.com/passage/?search=1%20Rois%209&version=LSG> (referer: https://www.biblegateway.com/passage/?search=1%20Rois%208&version=LSG)\n"
     ]
    },
    {
     "name": "stdout",
     "output_type": "stream",
     "text": [
      "--------------- ['/passage/?search=1%20Rois%2010&version=LSG'] -----------------\n"
     ]
    },
    {
     "name": "stderr",
     "output_type": "stream",
     "text": [
      "2025-05-04 14:14:51 [scrapy.core.engine] DEBUG: Crawled (200) <GET https://www.biblegateway.com/passage/?search=1%20Rois%2010&version=LSG> (referer: https://www.biblegateway.com/passage/?search=1%20Rois%209&version=LSG)\n"
     ]
    },
    {
     "name": "stdout",
     "output_type": "stream",
     "text": [
      "--------------- ['/passage/?search=1%20Rois%2011&version=LSG'] -----------------\n"
     ]
    },
    {
     "name": "stderr",
     "output_type": "stream",
     "text": [
      "2025-05-04 14:14:52 [scrapy.core.engine] DEBUG: Crawled (200) <GET https://www.biblegateway.com/passage/?search=1%20Rois%2011&version=LSG> (referer: https://www.biblegateway.com/passage/?search=1%20Rois%2010&version=LSG)\n"
     ]
    },
    {
     "name": "stdout",
     "output_type": "stream",
     "text": [
      "--------------- ['/passage/?search=1%20Rois%2012&version=LSG'] -----------------\n"
     ]
    },
    {
     "name": "stderr",
     "output_type": "stream",
     "text": [
      "2025-05-04 14:14:53 [scrapy.core.engine] DEBUG: Crawled (200) <GET https://www.biblegateway.com/passage/?search=1%20Rois%2012&version=LSG> (referer: https://www.biblegateway.com/passage/?search=1%20Rois%2011&version=LSG)\n"
     ]
    },
    {
     "name": "stdout",
     "output_type": "stream",
     "text": [
      "--------------- ['/passage/?search=1%20Rois%2013&version=LSG'] -----------------\n"
     ]
    },
    {
     "name": "stderr",
     "output_type": "stream",
     "text": [
      "2025-05-04 14:14:53 [scrapy.core.engine] DEBUG: Crawled (200) <GET https://www.biblegateway.com/passage/?search=1%20Rois%2013&version=LSG> (referer: https://www.biblegateway.com/passage/?search=1%20Rois%2012&version=LSG)\n"
     ]
    },
    {
     "name": "stdout",
     "output_type": "stream",
     "text": [
      "--------------- ['/passage/?search=1%20Rois%2014&version=LSG'] -----------------\n"
     ]
    },
    {
     "name": "stderr",
     "output_type": "stream",
     "text": [
      "2025-05-04 14:14:54 [scrapy.core.engine] DEBUG: Crawled (200) <GET https://www.biblegateway.com/passage/?search=1%20Rois%2014&version=LSG> (referer: https://www.biblegateway.com/passage/?search=1%20Rois%2013&version=LSG)\n"
     ]
    },
    {
     "name": "stdout",
     "output_type": "stream",
     "text": [
      "--------------- ['/passage/?search=1%20Rois%2015&version=LSG'] -----------------\n"
     ]
    },
    {
     "name": "stderr",
     "output_type": "stream",
     "text": [
      "2025-05-04 14:14:54 [scrapy.core.engine] DEBUG: Crawled (200) <GET https://www.biblegateway.com/passage/?search=1%20Rois%2015&version=LSG> (referer: https://www.biblegateway.com/passage/?search=1%20Rois%2014&version=LSG)\n"
     ]
    },
    {
     "name": "stdout",
     "output_type": "stream",
     "text": [
      "--------------- ['/passage/?search=1%20Rois%2016&version=LSG'] -----------------\n"
     ]
    },
    {
     "name": "stderr",
     "output_type": "stream",
     "text": [
      "2025-05-04 14:14:55 [scrapy.core.engine] DEBUG: Crawled (200) <GET https://www.biblegateway.com/passage/?search=1%20Rois%2016&version=LSG> (referer: https://www.biblegateway.com/passage/?search=1%20Rois%2015&version=LSG)\n"
     ]
    },
    {
     "name": "stdout",
     "output_type": "stream",
     "text": [
      "--------------- ['/passage/?search=1%20Rois%2017&version=LSG'] -----------------\n"
     ]
    },
    {
     "name": "stderr",
     "output_type": "stream",
     "text": [
      "2025-05-04 14:14:56 [scrapy.core.engine] DEBUG: Crawled (200) <GET https://www.biblegateway.com/passage/?search=1%20Rois%2017&version=LSG> (referer: https://www.biblegateway.com/passage/?search=1%20Rois%2016&version=LSG)\n"
     ]
    },
    {
     "name": "stdout",
     "output_type": "stream",
     "text": [
      "--------------- ['/passage/?search=1%20Rois%2018&version=LSG'] -----------------\n"
     ]
    },
    {
     "name": "stderr",
     "output_type": "stream",
     "text": [
      "2025-05-04 14:14:57 [scrapy.extensions.logstats] INFO: Crawled 308 pages (at 79 pages/min), scraped 0 items (at 0 items/min)\n",
      "2025-05-04 14:14:57 [scrapy.core.engine] DEBUG: Crawled (200) <GET https://www.biblegateway.com/passage/?search=1%20Rois%2018&version=LSG> (referer: https://www.biblegateway.com/passage/?search=1%20Rois%2017&version=LSG)\n"
     ]
    },
    {
     "name": "stdout",
     "output_type": "stream",
     "text": [
      "--------------- ['/passage/?search=1%20Rois%2019&version=LSG'] -----------------\n"
     ]
    },
    {
     "name": "stderr",
     "output_type": "stream",
     "text": [
      "2025-05-04 14:14:57 [scrapy.core.engine] DEBUG: Crawled (200) <GET https://www.biblegateway.com/passage/?search=1%20Rois%2019&version=LSG> (referer: https://www.biblegateway.com/passage/?search=1%20Rois%2018&version=LSG)\n"
     ]
    },
    {
     "name": "stdout",
     "output_type": "stream",
     "text": [
      "--------------- ['/passage/?search=1%20Rois%2020&version=LSG'] -----------------\n"
     ]
    },
    {
     "name": "stderr",
     "output_type": "stream",
     "text": [
      "2025-05-04 14:14:58 [scrapy.core.engine] DEBUG: Crawled (200) <GET https://www.biblegateway.com/passage/?search=1%20Rois%2020&version=LSG> (referer: https://www.biblegateway.com/passage/?search=1%20Rois%2019&version=LSG)\n"
     ]
    },
    {
     "name": "stdout",
     "output_type": "stream",
     "text": [
      "--------------- ['/passage/?search=1%20Rois%2021&version=LSG'] -----------------\n"
     ]
    },
    {
     "name": "stderr",
     "output_type": "stream",
     "text": [
      "2025-05-04 14:14:58 [scrapy.core.engine] DEBUG: Crawled (200) <GET https://www.biblegateway.com/passage/?search=1%20Rois%2021&version=LSG> (referer: https://www.biblegateway.com/passage/?search=1%20Rois%2020&version=LSG)\n"
     ]
    },
    {
     "name": "stdout",
     "output_type": "stream",
     "text": [
      "--------------- ['/passage/?search=1%20Rois%2022&version=LSG'] -----------------\n"
     ]
    },
    {
     "name": "stderr",
     "output_type": "stream",
     "text": [
      "2025-05-04 14:14:59 [scrapy.core.engine] DEBUG: Crawled (200) <GET https://www.biblegateway.com/passage/?search=1%20Rois%2022&version=LSG> (referer: https://www.biblegateway.com/passage/?search=1%20Rois%2021&version=LSG)\n"
     ]
    },
    {
     "name": "stdout",
     "output_type": "stream",
     "text": [
      "--------------- ['/passage/?search=2%20Rois%201&version=LSG'] -----------------\n"
     ]
    },
    {
     "name": "stderr",
     "output_type": "stream",
     "text": [
      "2025-05-04 14:15:01 [scrapy.core.engine] DEBUG: Crawled (200) <GET https://www.biblegateway.com/passage/?search=2%20Rois%201&version=LSG> (referer: https://www.biblegateway.com/passage/?search=1%20Rois%2022&version=LSG)\n"
     ]
    },
    {
     "name": "stdout",
     "output_type": "stream",
     "text": [
      "--------------- ['/passage/?search=2%20Rois%202&version=LSG'] -----------------\n"
     ]
    },
    {
     "name": "stderr",
     "output_type": "stream",
     "text": [
      "2025-05-04 14:15:01 [scrapy.core.engine] DEBUG: Crawled (200) <GET https://www.biblegateway.com/passage/?search=2%20Rois%202&version=LSG> (referer: https://www.biblegateway.com/passage/?search=2%20Rois%201&version=LSG)\n"
     ]
    },
    {
     "name": "stdout",
     "output_type": "stream",
     "text": [
      "--------------- ['/passage/?search=2%20Rois%203&version=LSG'] -----------------\n"
     ]
    },
    {
     "name": "stderr",
     "output_type": "stream",
     "text": [
      "2025-05-04 14:15:02 [scrapy.core.engine] DEBUG: Crawled (200) <GET https://www.biblegateway.com/passage/?search=2%20Rois%203&version=LSG> (referer: https://www.biblegateway.com/passage/?search=2%20Rois%202&version=LSG)\n"
     ]
    },
    {
     "name": "stdout",
     "output_type": "stream",
     "text": [
      "--------------- ['/passage/?search=2%20Rois%204&version=LSG'] -----------------\n"
     ]
    },
    {
     "name": "stderr",
     "output_type": "stream",
     "text": [
      "2025-05-04 14:15:03 [scrapy.core.engine] DEBUG: Crawled (200) <GET https://www.biblegateway.com/passage/?search=2%20Rois%204&version=LSG> (referer: https://www.biblegateway.com/passage/?search=2%20Rois%203&version=LSG)\n"
     ]
    },
    {
     "name": "stdout",
     "output_type": "stream",
     "text": [
      "--------------- ['/passage/?search=2%20Rois%205&version=LSG'] -----------------\n"
     ]
    },
    {
     "name": "stderr",
     "output_type": "stream",
     "text": [
      "2025-05-04 14:15:04 [scrapy.core.engine] DEBUG: Crawled (200) <GET https://www.biblegateway.com/passage/?search=2%20Rois%205&version=LSG> (referer: https://www.biblegateway.com/passage/?search=2%20Rois%204&version=LSG)\n"
     ]
    },
    {
     "name": "stdout",
     "output_type": "stream",
     "text": [
      "--------------- ['/passage/?search=2%20Rois%206&version=LSG'] -----------------\n"
     ]
    },
    {
     "name": "stderr",
     "output_type": "stream",
     "text": [
      "2025-05-04 14:15:04 [scrapy.core.engine] DEBUG: Crawled (200) <GET https://www.biblegateway.com/passage/?search=2%20Rois%206&version=LSG> (referer: https://www.biblegateway.com/passage/?search=2%20Rois%205&version=LSG)\n"
     ]
    },
    {
     "name": "stdout",
     "output_type": "stream",
     "text": [
      "--------------- ['/passage/?search=2%20Rois%207&version=LSG'] -----------------\n"
     ]
    },
    {
     "name": "stderr",
     "output_type": "stream",
     "text": [
      "2025-05-04 14:15:05 [scrapy.core.engine] DEBUG: Crawled (200) <GET https://www.biblegateway.com/passage/?search=2%20Rois%207&version=LSG> (referer: https://www.biblegateway.com/passage/?search=2%20Rois%206&version=LSG)\n"
     ]
    },
    {
     "name": "stdout",
     "output_type": "stream",
     "text": [
      "--------------- ['/passage/?search=2%20Rois%208&version=LSG'] -----------------\n"
     ]
    },
    {
     "name": "stderr",
     "output_type": "stream",
     "text": [
      "2025-05-04 14:15:06 [scrapy.core.engine] DEBUG: Crawled (200) <GET https://www.biblegateway.com/passage/?search=2%20Rois%208&version=LSG> (referer: https://www.biblegateway.com/passage/?search=2%20Rois%207&version=LSG)\n"
     ]
    },
    {
     "name": "stdout",
     "output_type": "stream",
     "text": [
      "--------------- ['/passage/?search=2%20Rois%209&version=LSG'] -----------------\n"
     ]
    },
    {
     "name": "stderr",
     "output_type": "stream",
     "text": [
      "2025-05-04 14:15:07 [scrapy.core.engine] DEBUG: Crawled (200) <GET https://www.biblegateway.com/passage/?search=2%20Rois%209&version=LSG> (referer: https://www.biblegateway.com/passage/?search=2%20Rois%208&version=LSG)\n"
     ]
    },
    {
     "name": "stdout",
     "output_type": "stream",
     "text": [
      "--------------- ['/passage/?search=2%20Rois%2010&version=LSG'] -----------------\n"
     ]
    },
    {
     "name": "stderr",
     "output_type": "stream",
     "text": [
      "2025-05-04 14:15:08 [scrapy.core.engine] DEBUG: Crawled (200) <GET https://www.biblegateway.com/passage/?search=2%20Rois%2010&version=LSG> (referer: https://www.biblegateway.com/passage/?search=2%20Rois%209&version=LSG)\n"
     ]
    },
    {
     "name": "stdout",
     "output_type": "stream",
     "text": [
      "--------------- ['/passage/?search=2%20Rois%2011&version=LSG'] -----------------\n"
     ]
    },
    {
     "name": "stderr",
     "output_type": "stream",
     "text": [
      "2025-05-04 14:15:08 [scrapy.core.engine] DEBUG: Crawled (200) <GET https://www.biblegateway.com/passage/?search=2%20Rois%2011&version=LSG> (referer: https://www.biblegateway.com/passage/?search=2%20Rois%2010&version=LSG)\n"
     ]
    },
    {
     "name": "stdout",
     "output_type": "stream",
     "text": [
      "--------------- ['/passage/?search=2%20Rois%2012&version=LSG'] -----------------\n"
     ]
    },
    {
     "name": "stderr",
     "output_type": "stream",
     "text": [
      "2025-05-04 14:15:09 [scrapy.core.engine] DEBUG: Crawled (200) <GET https://www.biblegateway.com/passage/?search=2%20Rois%2012&version=LSG> (referer: https://www.biblegateway.com/passage/?search=2%20Rois%2011&version=LSG)\n"
     ]
    },
    {
     "name": "stdout",
     "output_type": "stream",
     "text": [
      "--------------- ['/passage/?search=2%20Rois%2013&version=LSG'] -----------------\n"
     ]
    },
    {
     "name": "stderr",
     "output_type": "stream",
     "text": [
      "2025-05-04 14:15:10 [scrapy.core.engine] DEBUG: Crawled (200) <GET https://www.biblegateway.com/passage/?search=2%20Rois%2013&version=LSG> (referer: https://www.biblegateway.com/passage/?search=2%20Rois%2012&version=LSG)\n"
     ]
    },
    {
     "name": "stdout",
     "output_type": "stream",
     "text": [
      "--------------- ['/passage/?search=2%20Rois%2014&version=LSG'] -----------------\n"
     ]
    },
    {
     "name": "stderr",
     "output_type": "stream",
     "text": [
      "2025-05-04 14:15:11 [scrapy.core.engine] DEBUG: Crawled (200) <GET https://www.biblegateway.com/passage/?search=2%20Rois%2014&version=LSG> (referer: https://www.biblegateway.com/passage/?search=2%20Rois%2013&version=LSG)\n"
     ]
    },
    {
     "name": "stdout",
     "output_type": "stream",
     "text": [
      "--------------- ['/passage/?search=2%20Rois%2015&version=LSG'] -----------------\n"
     ]
    },
    {
     "name": "stderr",
     "output_type": "stream",
     "text": [
      "2025-05-04 14:15:11 [scrapy.core.engine] DEBUG: Crawled (200) <GET https://www.biblegateway.com/passage/?search=2%20Rois%2015&version=LSG> (referer: https://www.biblegateway.com/passage/?search=2%20Rois%2014&version=LSG)\n"
     ]
    },
    {
     "name": "stdout",
     "output_type": "stream",
     "text": [
      "--------------- ['/passage/?search=2%20Rois%2016&version=LSG'] -----------------\n"
     ]
    },
    {
     "name": "stderr",
     "output_type": "stream",
     "text": [
      "2025-05-04 14:15:12 [scrapy.core.engine] DEBUG: Crawled (200) <GET https://www.biblegateway.com/passage/?search=2%20Rois%2016&version=LSG> (referer: https://www.biblegateway.com/passage/?search=2%20Rois%2015&version=LSG)\n"
     ]
    },
    {
     "name": "stdout",
     "output_type": "stream",
     "text": [
      "--------------- ['/passage/?search=2%20Rois%2017&version=LSG'] -----------------\n"
     ]
    },
    {
     "name": "stderr",
     "output_type": "stream",
     "text": [
      "2025-05-04 14:15:13 [scrapy.core.engine] DEBUG: Crawled (200) <GET https://www.biblegateway.com/passage/?search=2%20Rois%2017&version=LSG> (referer: https://www.biblegateway.com/passage/?search=2%20Rois%2016&version=LSG)\n"
     ]
    },
    {
     "name": "stdout",
     "output_type": "stream",
     "text": [
      "--------------- ['/passage/?search=2%20Rois%2018&version=LSG'] -----------------\n"
     ]
    },
    {
     "name": "stderr",
     "output_type": "stream",
     "text": [
      "2025-05-04 14:15:14 [scrapy.core.engine] DEBUG: Crawled (200) <GET https://www.biblegateway.com/passage/?search=2%20Rois%2018&version=LSG> (referer: https://www.biblegateway.com/passage/?search=2%20Rois%2017&version=LSG)\n"
     ]
    },
    {
     "name": "stdout",
     "output_type": "stream",
     "text": [
      "--------------- ['/passage/?search=2%20Rois%2019&version=LSG'] -----------------\n"
     ]
    },
    {
     "name": "stderr",
     "output_type": "stream",
     "text": [
      "2025-05-04 14:15:14 [scrapy.core.engine] DEBUG: Crawled (200) <GET https://www.biblegateway.com/passage/?search=2%20Rois%2019&version=LSG> (referer: https://www.biblegateway.com/passage/?search=2%20Rois%2018&version=LSG)\n"
     ]
    },
    {
     "name": "stdout",
     "output_type": "stream",
     "text": [
      "--------------- ['/passage/?search=2%20Rois%2020&version=LSG'] -----------------\n"
     ]
    },
    {
     "name": "stderr",
     "output_type": "stream",
     "text": [
      "2025-05-04 14:15:15 [scrapy.core.engine] DEBUG: Crawled (200) <GET https://www.biblegateway.com/passage/?search=2%20Rois%2020&version=LSG> (referer: https://www.biblegateway.com/passage/?search=2%20Rois%2019&version=LSG)\n"
     ]
    },
    {
     "name": "stdout",
     "output_type": "stream",
     "text": [
      "--------------- ['/passage/?search=2%20Rois%2021&version=LSG'] -----------------\n"
     ]
    },
    {
     "name": "stderr",
     "output_type": "stream",
     "text": [
      "2025-05-04 14:15:16 [scrapy.core.engine] DEBUG: Crawled (200) <GET https://www.biblegateway.com/passage/?search=2%20Rois%2021&version=LSG> (referer: https://www.biblegateway.com/passage/?search=2%20Rois%2020&version=LSG)\n"
     ]
    },
    {
     "name": "stdout",
     "output_type": "stream",
     "text": [
      "--------------- ['/passage/?search=2%20Rois%2022&version=LSG'] -----------------\n"
     ]
    },
    {
     "name": "stderr",
     "output_type": "stream",
     "text": [
      "2025-05-04 14:15:16 [scrapy.core.engine] DEBUG: Crawled (200) <GET https://www.biblegateway.com/passage/?search=2%20Rois%2022&version=LSG> (referer: https://www.biblegateway.com/passage/?search=2%20Rois%2021&version=LSG)\n"
     ]
    },
    {
     "name": "stdout",
     "output_type": "stream",
     "text": [
      "--------------- ['/passage/?search=2%20Rois%2023&version=LSG'] -----------------\n"
     ]
    },
    {
     "name": "stderr",
     "output_type": "stream",
     "text": [
      "2025-05-04 14:15:17 [scrapy.core.engine] DEBUG: Crawled (200) <GET https://www.biblegateway.com/passage/?search=2%20Rois%2023&version=LSG> (referer: https://www.biblegateway.com/passage/?search=2%20Rois%2022&version=LSG)\n"
     ]
    },
    {
     "name": "stdout",
     "output_type": "stream",
     "text": [
      "--------------- ['/passage/?search=2%20Rois%2024&version=LSG'] -----------------\n"
     ]
    },
    {
     "name": "stderr",
     "output_type": "stream",
     "text": [
      "2025-05-04 14:15:18 [scrapy.core.engine] DEBUG: Crawled (200) <GET https://www.biblegateway.com/passage/?search=2%20Rois%2024&version=LSG> (referer: https://www.biblegateway.com/passage/?search=2%20Rois%2023&version=LSG)\n"
     ]
    },
    {
     "name": "stdout",
     "output_type": "stream",
     "text": [
      "--------------- ['/passage/?search=2%20Rois%2025&version=LSG'] -----------------\n"
     ]
    },
    {
     "name": "stderr",
     "output_type": "stream",
     "text": [
      "2025-05-04 14:15:19 [scrapy.core.engine] DEBUG: Crawled (200) <GET https://www.biblegateway.com/passage/?search=2%20Rois%2025&version=LSG> (referer: https://www.biblegateway.com/passage/?search=2%20Rois%2024&version=LSG)\n"
     ]
    },
    {
     "name": "stdout",
     "output_type": "stream",
     "text": [
      "--------------- ['/passage/?search=1%20Chroniques%201&version=LSG'] -----------------\n"
     ]
    },
    {
     "name": "stderr",
     "output_type": "stream",
     "text": [
      "2025-05-04 14:15:20 [scrapy.core.engine] DEBUG: Crawled (200) <GET https://www.biblegateway.com/passage/?search=1%20Chroniques%201&version=LSG> (referer: https://www.biblegateway.com/passage/?search=2%20Rois%2025&version=LSG)\n"
     ]
    },
    {
     "name": "stdout",
     "output_type": "stream",
     "text": [
      "--------------- ['/passage/?search=1%20Chroniques%202&version=LSG'] -----------------\n"
     ]
    },
    {
     "name": "stderr",
     "output_type": "stream",
     "text": [
      "2025-05-04 14:15:20 [scrapy.core.engine] DEBUG: Crawled (200) <GET https://www.biblegateway.com/passage/?search=1%20Chroniques%202&version=LSG> (referer: https://www.biblegateway.com/passage/?search=1%20Chroniques%201&version=LSG)\n"
     ]
    },
    {
     "name": "stdout",
     "output_type": "stream",
     "text": [
      "--------------- ['/passage/?search=1%20Chroniques%203&version=LSG'] -----------------\n"
     ]
    },
    {
     "name": "stderr",
     "output_type": "stream",
     "text": [
      "2025-05-04 14:15:21 [scrapy.core.engine] DEBUG: Crawled (200) <GET https://www.biblegateway.com/passage/?search=1%20Chroniques%203&version=LSG> (referer: https://www.biblegateway.com/passage/?search=1%20Chroniques%202&version=LSG)\n"
     ]
    },
    {
     "name": "stdout",
     "output_type": "stream",
     "text": [
      "--------------- ['/passage/?search=1%20Chroniques%204&version=LSG'] -----------------\n"
     ]
    },
    {
     "name": "stderr",
     "output_type": "stream",
     "text": [
      "2025-05-04 14:15:22 [scrapy.core.engine] DEBUG: Crawled (200) <GET https://www.biblegateway.com/passage/?search=1%20Chroniques%204&version=LSG> (referer: https://www.biblegateway.com/passage/?search=1%20Chroniques%203&version=LSG)\n"
     ]
    },
    {
     "name": "stdout",
     "output_type": "stream",
     "text": [
      "--------------- ['/passage/?search=1%20Chroniques%205&version=LSG'] -----------------\n"
     ]
    },
    {
     "name": "stderr",
     "output_type": "stream",
     "text": [
      "2025-05-04 14:15:23 [scrapy.core.engine] DEBUG: Crawled (200) <GET https://www.biblegateway.com/passage/?search=1%20Chroniques%205&version=LSG> (referer: https://www.biblegateway.com/passage/?search=1%20Chroniques%204&version=LSG)\n"
     ]
    },
    {
     "name": "stdout",
     "output_type": "stream",
     "text": [
      "--------------- ['/passage/?search=1%20Chroniques%206&version=LSG'] -----------------\n"
     ]
    },
    {
     "name": "stderr",
     "output_type": "stream",
     "text": [
      "2025-05-04 14:15:23 [scrapy.core.engine] DEBUG: Crawled (200) <GET https://www.biblegateway.com/passage/?search=1%20Chroniques%206&version=LSG> (referer: https://www.biblegateway.com/passage/?search=1%20Chroniques%205&version=LSG)\n"
     ]
    },
    {
     "name": "stdout",
     "output_type": "stream",
     "text": [
      "--------------- ['/passage/?search=1%20Chroniques%207&version=LSG'] -----------------\n"
     ]
    },
    {
     "name": "stderr",
     "output_type": "stream",
     "text": [
      "2025-05-04 14:15:24 [scrapy.core.engine] DEBUG: Crawled (200) <GET https://www.biblegateway.com/passage/?search=1%20Chroniques%207&version=LSG> (referer: https://www.biblegateway.com/passage/?search=1%20Chroniques%206&version=LSG)\n"
     ]
    },
    {
     "name": "stdout",
     "output_type": "stream",
     "text": [
      "--------------- ['/passage/?search=1%20Chroniques%208&version=LSG'] -----------------\n"
     ]
    },
    {
     "name": "stderr",
     "output_type": "stream",
     "text": [
      "2025-05-04 14:15:25 [scrapy.core.engine] DEBUG: Crawled (200) <GET https://www.biblegateway.com/passage/?search=1%20Chroniques%208&version=LSG> (referer: https://www.biblegateway.com/passage/?search=1%20Chroniques%207&version=LSG)\n"
     ]
    },
    {
     "name": "stdout",
     "output_type": "stream",
     "text": [
      "--------------- ['/passage/?search=1%20Chroniques%209&version=LSG'] -----------------\n"
     ]
    },
    {
     "name": "stderr",
     "output_type": "stream",
     "text": [
      "2025-05-04 14:15:25 [scrapy.core.engine] DEBUG: Crawled (200) <GET https://www.biblegateway.com/passage/?search=1%20Chroniques%209&version=LSG> (referer: https://www.biblegateway.com/passage/?search=1%20Chroniques%208&version=LSG)\n"
     ]
    },
    {
     "name": "stdout",
     "output_type": "stream",
     "text": [
      "--------------- ['/passage/?search=1%20Chroniques%2010&version=LSG'] -----------------\n"
     ]
    },
    {
     "name": "stderr",
     "output_type": "stream",
     "text": [
      "2025-05-04 14:15:26 [scrapy.core.engine] DEBUG: Crawled (200) <GET https://www.biblegateway.com/passage/?search=1%20Chroniques%2010&version=LSG> (referer: https://www.biblegateway.com/passage/?search=1%20Chroniques%209&version=LSG)\n"
     ]
    },
    {
     "name": "stdout",
     "output_type": "stream",
     "text": [
      "--------------- ['/passage/?search=1%20Chroniques%2011&version=LSG'] -----------------\n"
     ]
    },
    {
     "name": "stderr",
     "output_type": "stream",
     "text": [
      "2025-05-04 14:15:27 [scrapy.core.engine] DEBUG: Crawled (200) <GET https://www.biblegateway.com/passage/?search=1%20Chroniques%2011&version=LSG> (referer: https://www.biblegateway.com/passage/?search=1%20Chroniques%2010&version=LSG)\n"
     ]
    },
    {
     "name": "stdout",
     "output_type": "stream",
     "text": [
      "--------------- ['/passage/?search=1%20Chroniques%2012&version=LSG'] -----------------\n"
     ]
    },
    {
     "name": "stderr",
     "output_type": "stream",
     "text": [
      "2025-05-04 14:15:27 [scrapy.core.engine] DEBUG: Crawled (200) <GET https://www.biblegateway.com/passage/?search=1%20Chroniques%2012&version=LSG> (referer: https://www.biblegateway.com/passage/?search=1%20Chroniques%2011&version=LSG)\n"
     ]
    },
    {
     "name": "stdout",
     "output_type": "stream",
     "text": [
      "--------------- ['/passage/?search=1%20Chroniques%2013&version=LSG'] -----------------\n"
     ]
    },
    {
     "name": "stderr",
     "output_type": "stream",
     "text": [
      "2025-05-04 14:15:28 [scrapy.core.engine] DEBUG: Crawled (200) <GET https://www.biblegateway.com/passage/?search=1%20Chroniques%2013&version=LSG> (referer: https://www.biblegateway.com/passage/?search=1%20Chroniques%2012&version=LSG)\n"
     ]
    },
    {
     "name": "stdout",
     "output_type": "stream",
     "text": [
      "--------------- ['/passage/?search=1%20Chroniques%2014&version=LSG'] -----------------\n"
     ]
    },
    {
     "name": "stderr",
     "output_type": "stream",
     "text": [
      "2025-05-04 14:15:28 [scrapy.core.engine] DEBUG: Crawled (200) <GET https://www.biblegateway.com/passage/?search=1%20Chroniques%2014&version=LSG> (referer: https://www.biblegateway.com/passage/?search=1%20Chroniques%2013&version=LSG)\n"
     ]
    },
    {
     "name": "stdout",
     "output_type": "stream",
     "text": [
      "--------------- ['/passage/?search=1%20Chroniques%2015&version=LSG'] -----------------\n"
     ]
    },
    {
     "name": "stderr",
     "output_type": "stream",
     "text": [
      "2025-05-04 14:15:29 [scrapy.core.engine] DEBUG: Crawled (200) <GET https://www.biblegateway.com/passage/?search=1%20Chroniques%2015&version=LSG> (referer: https://www.biblegateway.com/passage/?search=1%20Chroniques%2014&version=LSG)\n"
     ]
    },
    {
     "name": "stdout",
     "output_type": "stream",
     "text": [
      "--------------- ['/passage/?search=1%20Chroniques%2016&version=LSG'] -----------------\n"
     ]
    },
    {
     "name": "stderr",
     "output_type": "stream",
     "text": [
      "2025-05-04 14:15:30 [scrapy.core.engine] DEBUG: Crawled (200) <GET https://www.biblegateway.com/passage/?search=1%20Chroniques%2016&version=LSG> (referer: https://www.biblegateway.com/passage/?search=1%20Chroniques%2015&version=LSG)\n"
     ]
    },
    {
     "name": "stdout",
     "output_type": "stream",
     "text": [
      "--------------- ['/passage/?search=1%20Chroniques%2017&version=LSG'] -----------------\n"
     ]
    },
    {
     "name": "stderr",
     "output_type": "stream",
     "text": [
      "2025-05-04 14:15:30 [scrapy.core.engine] DEBUG: Crawled (200) <GET https://www.biblegateway.com/passage/?search=1%20Chroniques%2017&version=LSG> (referer: https://www.biblegateway.com/passage/?search=1%20Chroniques%2016&version=LSG)\n"
     ]
    },
    {
     "name": "stdout",
     "output_type": "stream",
     "text": [
      "--------------- ['/passage/?search=1%20Chroniques%2018&version=LSG'] -----------------\n"
     ]
    },
    {
     "name": "stderr",
     "output_type": "stream",
     "text": [
      "2025-05-04 14:15:31 [scrapy.core.engine] DEBUG: Crawled (200) <GET https://www.biblegateway.com/passage/?search=1%20Chroniques%2018&version=LSG> (referer: https://www.biblegateway.com/passage/?search=1%20Chroniques%2017&version=LSG)\n"
     ]
    },
    {
     "name": "stdout",
     "output_type": "stream",
     "text": [
      "--------------- ['/passage/?search=1%20Chroniques%2019&version=LSG'] -----------------\n"
     ]
    },
    {
     "name": "stderr",
     "output_type": "stream",
     "text": [
      "2025-05-04 14:15:31 [scrapy.core.engine] DEBUG: Crawled (200) <GET https://www.biblegateway.com/passage/?search=1%20Chroniques%2019&version=LSG> (referer: https://www.biblegateway.com/passage/?search=1%20Chroniques%2018&version=LSG)\n"
     ]
    },
    {
     "name": "stdout",
     "output_type": "stream",
     "text": [
      "--------------- ['/passage/?search=1%20Chroniques%2020&version=LSG'] -----------------\n"
     ]
    },
    {
     "name": "stderr",
     "output_type": "stream",
     "text": [
      "2025-05-04 14:15:32 [scrapy.core.engine] DEBUG: Crawled (200) <GET https://www.biblegateway.com/passage/?search=1%20Chroniques%2020&version=LSG> (referer: https://www.biblegateway.com/passage/?search=1%20Chroniques%2019&version=LSG)\n"
     ]
    },
    {
     "name": "stdout",
     "output_type": "stream",
     "text": [
      "--------------- ['/passage/?search=1%20Chroniques%2021&version=LSG'] -----------------\n"
     ]
    },
    {
     "name": "stderr",
     "output_type": "stream",
     "text": [
      "2025-05-04 14:15:33 [scrapy.core.engine] DEBUG: Crawled (200) <GET https://www.biblegateway.com/passage/?search=1%20Chroniques%2021&version=LSG> (referer: https://www.biblegateway.com/passage/?search=1%20Chroniques%2020&version=LSG)\n"
     ]
    },
    {
     "name": "stdout",
     "output_type": "stream",
     "text": [
      "--------------- ['/passage/?search=1%20Chroniques%2022&version=LSG'] -----------------\n"
     ]
    },
    {
     "name": "stderr",
     "output_type": "stream",
     "text": [
      "2025-05-04 14:15:33 [scrapy.core.engine] DEBUG: Crawled (200) <GET https://www.biblegateway.com/passage/?search=1%20Chroniques%2022&version=LSG> (referer: https://www.biblegateway.com/passage/?search=1%20Chroniques%2021&version=LSG)\n"
     ]
    },
    {
     "name": "stdout",
     "output_type": "stream",
     "text": [
      "--------------- ['/passage/?search=1%20Chroniques%2023&version=LSG'] -----------------\n"
     ]
    },
    {
     "name": "stderr",
     "output_type": "stream",
     "text": [
      "2025-05-04 14:15:34 [scrapy.core.engine] DEBUG: Crawled (200) <GET https://www.biblegateway.com/passage/?search=1%20Chroniques%2023&version=LSG> (referer: https://www.biblegateway.com/passage/?search=1%20Chroniques%2022&version=LSG)\n"
     ]
    },
    {
     "name": "stdout",
     "output_type": "stream",
     "text": [
      "--------------- ['/passage/?search=1%20Chroniques%2024&version=LSG'] -----------------\n"
     ]
    },
    {
     "name": "stderr",
     "output_type": "stream",
     "text": [
      "2025-05-04 14:15:35 [scrapy.core.engine] DEBUG: Crawled (200) <GET https://www.biblegateway.com/passage/?search=1%20Chroniques%2024&version=LSG> (referer: https://www.biblegateway.com/passage/?search=1%20Chroniques%2023&version=LSG)\n"
     ]
    },
    {
     "name": "stdout",
     "output_type": "stream",
     "text": [
      "--------------- ['/passage/?search=1%20Chroniques%2025&version=LSG'] -----------------\n"
     ]
    },
    {
     "name": "stderr",
     "output_type": "stream",
     "text": [
      "2025-05-04 14:15:35 [scrapy.core.engine] DEBUG: Crawled (200) <GET https://www.biblegateway.com/passage/?search=1%20Chroniques%2025&version=LSG> (referer: https://www.biblegateway.com/passage/?search=1%20Chroniques%2024&version=LSG)\n"
     ]
    },
    {
     "name": "stdout",
     "output_type": "stream",
     "text": [
      "--------------- ['/passage/?search=1%20Chroniques%2026&version=LSG'] -----------------\n"
     ]
    },
    {
     "name": "stderr",
     "output_type": "stream",
     "text": [
      "2025-05-04 14:15:37 [scrapy.core.engine] DEBUG: Crawled (200) <GET https://www.biblegateway.com/passage/?search=1%20Chroniques%2026&version=LSG> (referer: https://www.biblegateway.com/passage/?search=1%20Chroniques%2025&version=LSG)\n"
     ]
    },
    {
     "name": "stdout",
     "output_type": "stream",
     "text": [
      "--------------- ['/passage/?search=1%20Chroniques%2027&version=LSG'] -----------------\n"
     ]
    },
    {
     "name": "stderr",
     "output_type": "stream",
     "text": [
      "2025-05-04 14:15:37 [scrapy.core.engine] DEBUG: Crawled (200) <GET https://www.biblegateway.com/passage/?search=1%20Chroniques%2027&version=LSG> (referer: https://www.biblegateway.com/passage/?search=1%20Chroniques%2026&version=LSG)\n"
     ]
    },
    {
     "name": "stdout",
     "output_type": "stream",
     "text": [
      "--------------- ['/passage/?search=1%20Chroniques%2028&version=LSG'] -----------------\n"
     ]
    },
    {
     "name": "stderr",
     "output_type": "stream",
     "text": [
      "2025-05-04 14:15:38 [scrapy.core.engine] DEBUG: Crawled (200) <GET https://www.biblegateway.com/passage/?search=1%20Chroniques%2028&version=LSG> (referer: https://www.biblegateway.com/passage/?search=1%20Chroniques%2027&version=LSG)\n"
     ]
    },
    {
     "name": "stdout",
     "output_type": "stream",
     "text": [
      "--------------- ['/passage/?search=1%20Chroniques%2029&version=LSG'] -----------------\n"
     ]
    },
    {
     "name": "stderr",
     "output_type": "stream",
     "text": [
      "2025-05-04 14:15:39 [scrapy.core.engine] DEBUG: Crawled (200) <GET https://www.biblegateway.com/passage/?search=1%20Chroniques%2029&version=LSG> (referer: https://www.biblegateway.com/passage/?search=1%20Chroniques%2028&version=LSG)\n"
     ]
    },
    {
     "name": "stdout",
     "output_type": "stream",
     "text": [
      "--------------- ['/passage/?search=2%20Chroniques%201&version=LSG'] -----------------\n"
     ]
    },
    {
     "name": "stderr",
     "output_type": "stream",
     "text": [
      "2025-05-04 14:15:39 [scrapy.core.engine] DEBUG: Crawled (200) <GET https://www.biblegateway.com/passage/?search=2%20Chroniques%201&version=LSG> (referer: https://www.biblegateway.com/passage/?search=1%20Chroniques%2029&version=LSG)\n"
     ]
    },
    {
     "name": "stdout",
     "output_type": "stream",
     "text": [
      "--------------- ['/passage/?search=2%20Chroniques%202&version=LSG'] -----------------\n"
     ]
    },
    {
     "name": "stderr",
     "output_type": "stream",
     "text": [
      "2025-05-04 14:15:40 [scrapy.core.engine] DEBUG: Crawled (200) <GET https://www.biblegateway.com/passage/?search=2%20Chroniques%202&version=LSG> (referer: https://www.biblegateway.com/passage/?search=2%20Chroniques%201&version=LSG)\n"
     ]
    },
    {
     "name": "stdout",
     "output_type": "stream",
     "text": [
      "--------------- ['/passage/?search=2%20Chroniques%203&version=LSG'] -----------------\n"
     ]
    },
    {
     "name": "stderr",
     "output_type": "stream",
     "text": [
      "2025-05-04 14:15:41 [scrapy.core.engine] DEBUG: Crawled (200) <GET https://www.biblegateway.com/passage/?search=2%20Chroniques%203&version=LSG> (referer: https://www.biblegateway.com/passage/?search=2%20Chroniques%202&version=LSG)\n"
     ]
    },
    {
     "name": "stdout",
     "output_type": "stream",
     "text": [
      "--------------- ['/passage/?search=2%20Chroniques%204&version=LSG'] -----------------\n"
     ]
    },
    {
     "name": "stderr",
     "output_type": "stream",
     "text": [
      "2025-05-04 14:15:41 [scrapy.core.engine] DEBUG: Crawled (200) <GET https://www.biblegateway.com/passage/?search=2%20Chroniques%204&version=LSG> (referer: https://www.biblegateway.com/passage/?search=2%20Chroniques%203&version=LSG)\n"
     ]
    },
    {
     "name": "stdout",
     "output_type": "stream",
     "text": [
      "--------------- ['/passage/?search=2%20Chroniques%205&version=LSG'] -----------------\n"
     ]
    },
    {
     "name": "stderr",
     "output_type": "stream",
     "text": [
      "2025-05-04 14:15:42 [scrapy.core.engine] DEBUG: Crawled (200) <GET https://www.biblegateway.com/passage/?search=2%20Chroniques%205&version=LSG> (referer: https://www.biblegateway.com/passage/?search=2%20Chroniques%204&version=LSG)\n"
     ]
    },
    {
     "name": "stdout",
     "output_type": "stream",
     "text": [
      "--------------- ['/passage/?search=2%20Chroniques%206&version=LSG'] -----------------\n"
     ]
    },
    {
     "name": "stderr",
     "output_type": "stream",
     "text": [
      "2025-05-04 14:15:42 [scrapy.core.engine] DEBUG: Crawled (200) <GET https://www.biblegateway.com/passage/?search=2%20Chroniques%206&version=LSG> (referer: https://www.biblegateway.com/passage/?search=2%20Chroniques%205&version=LSG)\n"
     ]
    },
    {
     "name": "stdout",
     "output_type": "stream",
     "text": [
      "--------------- ['/passage/?search=2%20Chroniques%207&version=LSG'] -----------------\n"
     ]
    },
    {
     "name": "stderr",
     "output_type": "stream",
     "text": [
      "2025-05-04 14:15:43 [scrapy.core.engine] DEBUG: Crawled (200) <GET https://www.biblegateway.com/passage/?search=2%20Chroniques%207&version=LSG> (referer: https://www.biblegateway.com/passage/?search=2%20Chroniques%206&version=LSG)\n"
     ]
    },
    {
     "name": "stdout",
     "output_type": "stream",
     "text": [
      "--------------- ['/passage/?search=2%20Chroniques%208&version=LSG'] -----------------\n"
     ]
    },
    {
     "name": "stderr",
     "output_type": "stream",
     "text": [
      "2025-05-04 14:15:44 [scrapy.core.engine] DEBUG: Crawled (200) <GET https://www.biblegateway.com/passage/?search=2%20Chroniques%208&version=LSG> (referer: https://www.biblegateway.com/passage/?search=2%20Chroniques%207&version=LSG)\n"
     ]
    },
    {
     "name": "stdout",
     "output_type": "stream",
     "text": [
      "--------------- ['/passage/?search=2%20Chroniques%209&version=LSG'] -----------------\n"
     ]
    },
    {
     "name": "stderr",
     "output_type": "stream",
     "text": [
      "2025-05-04 14:15:45 [scrapy.core.engine] DEBUG: Crawled (200) <GET https://www.biblegateway.com/passage/?search=2%20Chroniques%209&version=LSG> (referer: https://www.biblegateway.com/passage/?search=2%20Chroniques%208&version=LSG)\n"
     ]
    },
    {
     "name": "stdout",
     "output_type": "stream",
     "text": [
      "--------------- ['/passage/?search=2%20Chroniques%2010&version=LSG'] -----------------\n"
     ]
    },
    {
     "name": "stderr",
     "output_type": "stream",
     "text": [
      "2025-05-04 14:15:45 [scrapy.core.engine] DEBUG: Crawled (200) <GET https://www.biblegateway.com/passage/?search=2%20Chroniques%2010&version=LSG> (referer: https://www.biblegateway.com/passage/?search=2%20Chroniques%209&version=LSG)\n"
     ]
    },
    {
     "name": "stdout",
     "output_type": "stream",
     "text": [
      "--------------- ['/passage/?search=2%20Chroniques%2011&version=LSG'] -----------------\n"
     ]
    },
    {
     "name": "stderr",
     "output_type": "stream",
     "text": [
      "2025-05-04 14:15:46 [scrapy.core.engine] DEBUG: Crawled (200) <GET https://www.biblegateway.com/passage/?search=2%20Chroniques%2011&version=LSG> (referer: https://www.biblegateway.com/passage/?search=2%20Chroniques%2010&version=LSG)\n"
     ]
    },
    {
     "name": "stdout",
     "output_type": "stream",
     "text": [
      "--------------- ['/passage/?search=2%20Chroniques%2012&version=LSG'] -----------------\n"
     ]
    },
    {
     "name": "stderr",
     "output_type": "stream",
     "text": [
      "2025-05-04 14:15:47 [scrapy.core.engine] DEBUG: Crawled (200) <GET https://www.biblegateway.com/passage/?search=2%20Chroniques%2012&version=LSG> (referer: https://www.biblegateway.com/passage/?search=2%20Chroniques%2011&version=LSG)\n"
     ]
    },
    {
     "name": "stdout",
     "output_type": "stream",
     "text": [
      "--------------- ['/passage/?search=2%20Chroniques%2013&version=LSG'] -----------------\n"
     ]
    },
    {
     "name": "stderr",
     "output_type": "stream",
     "text": [
      "2025-05-04 14:15:47 [scrapy.core.engine] DEBUG: Crawled (200) <GET https://www.biblegateway.com/passage/?search=2%20Chroniques%2013&version=LSG> (referer: https://www.biblegateway.com/passage/?search=2%20Chroniques%2012&version=LSG)\n"
     ]
    },
    {
     "name": "stdout",
     "output_type": "stream",
     "text": [
      "--------------- ['/passage/?search=2%20Chroniques%2014&version=LSG'] -----------------\n"
     ]
    },
    {
     "name": "stderr",
     "output_type": "stream",
     "text": [
      "2025-05-04 14:15:48 [scrapy.core.engine] DEBUG: Crawled (200) <GET https://www.biblegateway.com/passage/?search=2%20Chroniques%2014&version=LSG> (referer: https://www.biblegateway.com/passage/?search=2%20Chroniques%2013&version=LSG)\n"
     ]
    },
    {
     "name": "stdout",
     "output_type": "stream",
     "text": [
      "--------------- ['/passage/?search=2%20Chroniques%2015&version=LSG'] -----------------\n"
     ]
    },
    {
     "name": "stderr",
     "output_type": "stream",
     "text": [
      "2025-05-04 14:15:49 [scrapy.core.engine] DEBUG: Crawled (200) <GET https://www.biblegateway.com/passage/?search=2%20Chroniques%2015&version=LSG> (referer: https://www.biblegateway.com/passage/?search=2%20Chroniques%2014&version=LSG)\n"
     ]
    },
    {
     "name": "stdout",
     "output_type": "stream",
     "text": [
      "--------------- ['/passage/?search=2%20Chroniques%2016&version=LSG'] -----------------\n"
     ]
    },
    {
     "name": "stderr",
     "output_type": "stream",
     "text": [
      "2025-05-04 14:15:50 [scrapy.core.engine] DEBUG: Crawled (200) <GET https://www.biblegateway.com/passage/?search=2%20Chroniques%2016&version=LSG> (referer: https://www.biblegateway.com/passage/?search=2%20Chroniques%2015&version=LSG)\n"
     ]
    },
    {
     "name": "stdout",
     "output_type": "stream",
     "text": [
      "--------------- ['/passage/?search=2%20Chroniques%2017&version=LSG'] -----------------\n"
     ]
    },
    {
     "name": "stderr",
     "output_type": "stream",
     "text": [
      "2025-05-04 14:15:51 [scrapy.core.engine] DEBUG: Crawled (200) <GET https://www.biblegateway.com/passage/?search=2%20Chroniques%2017&version=LSG> (referer: https://www.biblegateway.com/passage/?search=2%20Chroniques%2016&version=LSG)\n"
     ]
    },
    {
     "name": "stdout",
     "output_type": "stream",
     "text": [
      "--------------- ['/passage/?search=2%20Chroniques%2018&version=LSG'] -----------------\n"
     ]
    },
    {
     "name": "stderr",
     "output_type": "stream",
     "text": [
      "2025-05-04 14:15:51 [scrapy.core.engine] DEBUG: Crawled (200) <GET https://www.biblegateway.com/passage/?search=2%20Chroniques%2018&version=LSG> (referer: https://www.biblegateway.com/passage/?search=2%20Chroniques%2017&version=LSG)\n"
     ]
    },
    {
     "name": "stdout",
     "output_type": "stream",
     "text": [
      "--------------- ['/passage/?search=2%20Chroniques%2019&version=LSG'] -----------------\n"
     ]
    },
    {
     "name": "stderr",
     "output_type": "stream",
     "text": [
      "2025-05-04 14:15:52 [scrapy.core.engine] DEBUG: Crawled (200) <GET https://www.biblegateway.com/passage/?search=2%20Chroniques%2019&version=LSG> (referer: https://www.biblegateway.com/passage/?search=2%20Chroniques%2018&version=LSG)\n"
     ]
    },
    {
     "name": "stdout",
     "output_type": "stream",
     "text": [
      "--------------- ['/passage/?search=2%20Chroniques%2020&version=LSG'] -----------------\n"
     ]
    },
    {
     "name": "stderr",
     "output_type": "stream",
     "text": [
      "2025-05-04 14:15:53 [scrapy.core.engine] DEBUG: Crawled (200) <GET https://www.biblegateway.com/passage/?search=2%20Chroniques%2020&version=LSG> (referer: https://www.biblegateway.com/passage/?search=2%20Chroniques%2019&version=LSG)\n"
     ]
    },
    {
     "name": "stdout",
     "output_type": "stream",
     "text": [
      "--------------- ['/passage/?search=2%20Chroniques%2021&version=LSG'] -----------------\n"
     ]
    },
    {
     "name": "stderr",
     "output_type": "stream",
     "text": [
      "2025-05-04 14:15:54 [scrapy.core.engine] DEBUG: Crawled (200) <GET https://www.biblegateway.com/passage/?search=2%20Chroniques%2021&version=LSG> (referer: https://www.biblegateway.com/passage/?search=2%20Chroniques%2020&version=LSG)\n"
     ]
    },
    {
     "name": "stdout",
     "output_type": "stream",
     "text": [
      "--------------- ['/passage/?search=2%20Chroniques%2022&version=LSG'] -----------------\n"
     ]
    },
    {
     "name": "stderr",
     "output_type": "stream",
     "text": [
      "2025-05-04 14:15:54 [scrapy.core.engine] DEBUG: Crawled (200) <GET https://www.biblegateway.com/passage/?search=2%20Chroniques%2022&version=LSG> (referer: https://www.biblegateway.com/passage/?search=2%20Chroniques%2021&version=LSG)\n"
     ]
    },
    {
     "name": "stdout",
     "output_type": "stream",
     "text": [
      "--------------- ['/passage/?search=2%20Chroniques%2023&version=LSG'] -----------------\n"
     ]
    },
    {
     "name": "stderr",
     "output_type": "stream",
     "text": [
      "2025-05-04 14:15:55 [scrapy.core.engine] DEBUG: Crawled (200) <GET https://www.biblegateway.com/passage/?search=2%20Chroniques%2023&version=LSG> (referer: https://www.biblegateway.com/passage/?search=2%20Chroniques%2022&version=LSG)\n"
     ]
    },
    {
     "name": "stdout",
     "output_type": "stream",
     "text": [
      "--------------- ['/passage/?search=2%20Chroniques%2024&version=LSG'] -----------------\n"
     ]
    },
    {
     "name": "stderr",
     "output_type": "stream",
     "text": [
      "2025-05-04 14:15:56 [scrapy.core.engine] DEBUG: Crawled (200) <GET https://www.biblegateway.com/passage/?search=2%20Chroniques%2024&version=LSG> (referer: https://www.biblegateway.com/passage/?search=2%20Chroniques%2023&version=LSG)\n"
     ]
    },
    {
     "name": "stdout",
     "output_type": "stream",
     "text": [
      "--------------- ['/passage/?search=2%20Chroniques%2025&version=LSG'] -----------------\n"
     ]
    },
    {
     "name": "stderr",
     "output_type": "stream",
     "text": [
      "2025-05-04 14:15:57 [scrapy.extensions.logstats] INFO: Crawled 391 pages (at 83 pages/min), scraped 0 items (at 0 items/min)\n",
      "2025-05-04 14:15:57 [scrapy.core.engine] DEBUG: Crawled (200) <GET https://www.biblegateway.com/passage/?search=2%20Chroniques%2025&version=LSG> (referer: https://www.biblegateway.com/passage/?search=2%20Chroniques%2024&version=LSG)\n"
     ]
    },
    {
     "name": "stdout",
     "output_type": "stream",
     "text": [
      "--------------- ['/passage/?search=2%20Chroniques%2026&version=LSG'] -----------------\n"
     ]
    },
    {
     "name": "stderr",
     "output_type": "stream",
     "text": [
      "2025-05-04 14:15:58 [scrapy.core.engine] DEBUG: Crawled (200) <GET https://www.biblegateway.com/passage/?search=2%20Chroniques%2026&version=LSG> (referer: https://www.biblegateway.com/passage/?search=2%20Chroniques%2025&version=LSG)\n"
     ]
    },
    {
     "name": "stdout",
     "output_type": "stream",
     "text": [
      "--------------- ['/passage/?search=2%20Chroniques%2027&version=LSG'] -----------------\n"
     ]
    },
    {
     "name": "stderr",
     "output_type": "stream",
     "text": [
      "2025-05-04 14:15:59 [scrapy.core.engine] DEBUG: Crawled (200) <GET https://www.biblegateway.com/passage/?search=2%20Chroniques%2027&version=LSG> (referer: https://www.biblegateway.com/passage/?search=2%20Chroniques%2026&version=LSG)\n"
     ]
    },
    {
     "name": "stdout",
     "output_type": "stream",
     "text": [
      "--------------- ['/passage/?search=2%20Chroniques%2028&version=LSG'] -----------------\n"
     ]
    },
    {
     "name": "stderr",
     "output_type": "stream",
     "text": [
      "2025-05-04 14:16:00 [scrapy.core.engine] DEBUG: Crawled (200) <GET https://www.biblegateway.com/passage/?search=2%20Chroniques%2028&version=LSG> (referer: https://www.biblegateway.com/passage/?search=2%20Chroniques%2027&version=LSG)\n"
     ]
    },
    {
     "name": "stdout",
     "output_type": "stream",
     "text": [
      "--------------- ['/passage/?search=2%20Chroniques%2029&version=LSG'] -----------------\n"
     ]
    },
    {
     "name": "stderr",
     "output_type": "stream",
     "text": [
      "2025-05-04 14:16:00 [scrapy.core.engine] DEBUG: Crawled (200) <GET https://www.biblegateway.com/passage/?search=2%20Chroniques%2029&version=LSG> (referer: https://www.biblegateway.com/passage/?search=2%20Chroniques%2028&version=LSG)\n"
     ]
    },
    {
     "name": "stdout",
     "output_type": "stream",
     "text": [
      "--------------- ['/passage/?search=2%20Chroniques%2030&version=LSG'] -----------------\n"
     ]
    },
    {
     "name": "stderr",
     "output_type": "stream",
     "text": [
      "2025-05-04 14:16:01 [scrapy.core.engine] DEBUG: Crawled (200) <GET https://www.biblegateway.com/passage/?search=2%20Chroniques%2030&version=LSG> (referer: https://www.biblegateway.com/passage/?search=2%20Chroniques%2029&version=LSG)\n"
     ]
    },
    {
     "name": "stdout",
     "output_type": "stream",
     "text": [
      "--------------- ['/passage/?search=2%20Chroniques%2031&version=LSG'] -----------------\n"
     ]
    },
    {
     "name": "stderr",
     "output_type": "stream",
     "text": [
      "2025-05-04 14:16:02 [scrapy.core.engine] DEBUG: Crawled (200) <GET https://www.biblegateway.com/passage/?search=2%20Chroniques%2031&version=LSG> (referer: https://www.biblegateway.com/passage/?search=2%20Chroniques%2030&version=LSG)\n"
     ]
    },
    {
     "name": "stdout",
     "output_type": "stream",
     "text": [
      "--------------- ['/passage/?search=2%20Chroniques%2032&version=LSG'] -----------------\n"
     ]
    },
    {
     "name": "stderr",
     "output_type": "stream",
     "text": [
      "2025-05-04 14:16:03 [scrapy.core.engine] DEBUG: Crawled (200) <GET https://www.biblegateway.com/passage/?search=2%20Chroniques%2032&version=LSG> (referer: https://www.biblegateway.com/passage/?search=2%20Chroniques%2031&version=LSG)\n"
     ]
    },
    {
     "name": "stdout",
     "output_type": "stream",
     "text": [
      "--------------- ['/passage/?search=2%20Chroniques%2033&version=LSG'] -----------------\n"
     ]
    },
    {
     "name": "stderr",
     "output_type": "stream",
     "text": [
      "2025-05-04 14:16:04 [scrapy.core.engine] DEBUG: Crawled (200) <GET https://www.biblegateway.com/passage/?search=2%20Chroniques%2033&version=LSG> (referer: https://www.biblegateway.com/passage/?search=2%20Chroniques%2032&version=LSG)\n"
     ]
    },
    {
     "name": "stdout",
     "output_type": "stream",
     "text": [
      "--------------- ['/passage/?search=2%20Chroniques%2034&version=LSG'] -----------------\n"
     ]
    },
    {
     "name": "stderr",
     "output_type": "stream",
     "text": [
      "2025-05-04 14:16:04 [scrapy.core.engine] DEBUG: Crawled (200) <GET https://www.biblegateway.com/passage/?search=2%20Chroniques%2034&version=LSG> (referer: https://www.biblegateway.com/passage/?search=2%20Chroniques%2033&version=LSG)\n"
     ]
    },
    {
     "name": "stdout",
     "output_type": "stream",
     "text": [
      "--------------- ['/passage/?search=2%20Chroniques%2035&version=LSG'] -----------------\n"
     ]
    },
    {
     "name": "stderr",
     "output_type": "stream",
     "text": [
      "2025-05-04 14:16:05 [scrapy.core.engine] DEBUG: Crawled (200) <GET https://www.biblegateway.com/passage/?search=2%20Chroniques%2035&version=LSG> (referer: https://www.biblegateway.com/passage/?search=2%20Chroniques%2034&version=LSG)\n"
     ]
    },
    {
     "name": "stdout",
     "output_type": "stream",
     "text": [
      "--------------- ['/passage/?search=2%20Chroniques%2036&version=LSG'] -----------------\n"
     ]
    },
    {
     "name": "stderr",
     "output_type": "stream",
     "text": [
      "2025-05-04 14:16:05 [scrapy.core.engine] DEBUG: Crawled (200) <GET https://www.biblegateway.com/passage/?search=2%20Chroniques%2036&version=LSG> (referer: https://www.biblegateway.com/passage/?search=2%20Chroniques%2035&version=LSG)\n"
     ]
    },
    {
     "name": "stdout",
     "output_type": "stream",
     "text": [
      "--------------- ['/passage/?search=Esdras%201&version=LSG'] -----------------\n"
     ]
    },
    {
     "name": "stderr",
     "output_type": "stream",
     "text": [
      "2025-05-04 14:16:06 [scrapy.core.engine] DEBUG: Crawled (200) <GET https://www.biblegateway.com/passage/?search=Esdras%201&version=LSG> (referer: https://www.biblegateway.com/passage/?search=2%20Chroniques%2036&version=LSG)\n"
     ]
    },
    {
     "name": "stdout",
     "output_type": "stream",
     "text": [
      "--------------- ['/passage/?search=Esdras%202&version=LSG'] -----------------\n"
     ]
    },
    {
     "name": "stderr",
     "output_type": "stream",
     "text": [
      "2025-05-04 14:16:07 [scrapy.core.engine] DEBUG: Crawled (200) <GET https://www.biblegateway.com/passage/?search=Esdras%202&version=LSG> (referer: https://www.biblegateway.com/passage/?search=Esdras%201&version=LSG)\n"
     ]
    },
    {
     "name": "stdout",
     "output_type": "stream",
     "text": [
      "--------------- ['/passage/?search=Esdras%203&version=LSG'] -----------------\n"
     ]
    },
    {
     "name": "stderr",
     "output_type": "stream",
     "text": [
      "2025-05-04 14:16:07 [scrapy.core.engine] DEBUG: Crawled (200) <GET https://www.biblegateway.com/passage/?search=Esdras%203&version=LSG> (referer: https://www.biblegateway.com/passage/?search=Esdras%202&version=LSG)\n"
     ]
    },
    {
     "name": "stdout",
     "output_type": "stream",
     "text": [
      "--------------- ['/passage/?search=Esdras%204&version=LSG'] -----------------\n"
     ]
    },
    {
     "name": "stderr",
     "output_type": "stream",
     "text": [
      "2025-05-04 14:16:08 [scrapy.core.engine] DEBUG: Crawled (200) <GET https://www.biblegateway.com/passage/?search=Esdras%204&version=LSG> (referer: https://www.biblegateway.com/passage/?search=Esdras%203&version=LSG)\n"
     ]
    },
    {
     "name": "stdout",
     "output_type": "stream",
     "text": [
      "--------------- ['/passage/?search=Esdras%205&version=LSG'] -----------------\n"
     ]
    },
    {
     "name": "stderr",
     "output_type": "stream",
     "text": [
      "2025-05-04 14:16:09 [scrapy.core.engine] DEBUG: Crawled (200) <GET https://www.biblegateway.com/passage/?search=Esdras%205&version=LSG> (referer: https://www.biblegateway.com/passage/?search=Esdras%204&version=LSG)\n"
     ]
    },
    {
     "name": "stdout",
     "output_type": "stream",
     "text": [
      "--------------- ['/passage/?search=Esdras%206&version=LSG'] -----------------\n"
     ]
    },
    {
     "name": "stderr",
     "output_type": "stream",
     "text": [
      "2025-05-04 14:16:09 [scrapy.core.engine] DEBUG: Crawled (200) <GET https://www.biblegateway.com/passage/?search=Esdras%206&version=LSG> (referer: https://www.biblegateway.com/passage/?search=Esdras%205&version=LSG)\n"
     ]
    },
    {
     "name": "stdout",
     "output_type": "stream",
     "text": [
      "--------------- ['/passage/?search=Esdras%207&version=LSG'] -----------------\n"
     ]
    },
    {
     "name": "stderr",
     "output_type": "stream",
     "text": [
      "2025-05-04 14:16:10 [scrapy.core.engine] DEBUG: Crawled (200) <GET https://www.biblegateway.com/passage/?search=Esdras%207&version=LSG> (referer: https://www.biblegateway.com/passage/?search=Esdras%206&version=LSG)\n"
     ]
    },
    {
     "name": "stdout",
     "output_type": "stream",
     "text": [
      "--------------- ['/passage/?search=Esdras%208&version=LSG'] -----------------\n"
     ]
    },
    {
     "name": "stderr",
     "output_type": "stream",
     "text": [
      "2025-05-04 14:16:11 [scrapy.core.engine] DEBUG: Crawled (200) <GET https://www.biblegateway.com/passage/?search=Esdras%208&version=LSG> (referer: https://www.biblegateway.com/passage/?search=Esdras%207&version=LSG)\n"
     ]
    },
    {
     "name": "stdout",
     "output_type": "stream",
     "text": [
      "--------------- ['/passage/?search=Esdras%209&version=LSG'] -----------------\n"
     ]
    },
    {
     "name": "stderr",
     "output_type": "stream",
     "text": [
      "2025-05-04 14:16:12 [scrapy.core.engine] DEBUG: Crawled (200) <GET https://www.biblegateway.com/passage/?search=Esdras%209&version=LSG> (referer: https://www.biblegateway.com/passage/?search=Esdras%208&version=LSG)\n"
     ]
    },
    {
     "name": "stdout",
     "output_type": "stream",
     "text": [
      "--------------- ['/passage/?search=Esdras%2010&version=LSG'] -----------------\n"
     ]
    },
    {
     "name": "stderr",
     "output_type": "stream",
     "text": [
      "2025-05-04 14:16:13 [scrapy.core.engine] DEBUG: Crawled (200) <GET https://www.biblegateway.com/passage/?search=Esdras%2010&version=LSG> (referer: https://www.biblegateway.com/passage/?search=Esdras%209&version=LSG)\n"
     ]
    },
    {
     "name": "stdout",
     "output_type": "stream",
     "text": [
      "--------------- ['/passage/?search=N%C3%A9h%C3%A9mie%201&version=LSG'] -----------------\n"
     ]
    },
    {
     "name": "stderr",
     "output_type": "stream",
     "text": [
      "2025-05-04 14:16:13 [scrapy.core.engine] DEBUG: Crawled (200) <GET https://www.biblegateway.com/passage/?search=N%C3%A9h%C3%A9mie%201&version=LSG> (referer: https://www.biblegateway.com/passage/?search=Esdras%2010&version=LSG)\n"
     ]
    },
    {
     "name": "stdout",
     "output_type": "stream",
     "text": [
      "--------------- ['/passage/?search=N%C3%A9h%C3%A9mie%202&version=LSG'] -----------------\n"
     ]
    },
    {
     "name": "stderr",
     "output_type": "stream",
     "text": [
      "2025-05-04 14:16:14 [scrapy.core.engine] DEBUG: Crawled (200) <GET https://www.biblegateway.com/passage/?search=N%C3%A9h%C3%A9mie%202&version=LSG> (referer: https://www.biblegateway.com/passage/?search=N%C3%A9h%C3%A9mie%201&version=LSG)\n"
     ]
    },
    {
     "name": "stdout",
     "output_type": "stream",
     "text": [
      "--------------- ['/passage/?search=N%C3%A9h%C3%A9mie%203&version=LSG'] -----------------\n"
     ]
    },
    {
     "name": "stderr",
     "output_type": "stream",
     "text": [
      "2025-05-04 14:16:15 [scrapy.core.engine] DEBUG: Crawled (200) <GET https://www.biblegateway.com/passage/?search=N%C3%A9h%C3%A9mie%203&version=LSG> (referer: https://www.biblegateway.com/passage/?search=N%C3%A9h%C3%A9mie%202&version=LSG)\n"
     ]
    },
    {
     "name": "stdout",
     "output_type": "stream",
     "text": [
      "--------------- ['/passage/?search=N%C3%A9h%C3%A9mie%204&version=LSG'] -----------------\n"
     ]
    },
    {
     "name": "stderr",
     "output_type": "stream",
     "text": [
      "2025-05-04 14:16:16 [scrapy.core.engine] DEBUG: Crawled (200) <GET https://www.biblegateway.com/passage/?search=N%C3%A9h%C3%A9mie%204&version=LSG> (referer: https://www.biblegateway.com/passage/?search=N%C3%A9h%C3%A9mie%203&version=LSG)\n"
     ]
    },
    {
     "name": "stdout",
     "output_type": "stream",
     "text": [
      "--------------- ['/passage/?search=N%C3%A9h%C3%A9mie%205&version=LSG'] -----------------\n"
     ]
    },
    {
     "name": "stderr",
     "output_type": "stream",
     "text": [
      "2025-05-04 14:16:16 [scrapy.core.engine] DEBUG: Crawled (200) <GET https://www.biblegateway.com/passage/?search=N%C3%A9h%C3%A9mie%205&version=LSG> (referer: https://www.biblegateway.com/passage/?search=N%C3%A9h%C3%A9mie%204&version=LSG)\n"
     ]
    },
    {
     "name": "stdout",
     "output_type": "stream",
     "text": [
      "--------------- ['/passage/?search=N%C3%A9h%C3%A9mie%206&version=LSG'] -----------------\n"
     ]
    },
    {
     "name": "stderr",
     "output_type": "stream",
     "text": [
      "2025-05-04 14:16:17 [scrapy.core.engine] DEBUG: Crawled (200) <GET https://www.biblegateway.com/passage/?search=N%C3%A9h%C3%A9mie%206&version=LSG> (referer: https://www.biblegateway.com/passage/?search=N%C3%A9h%C3%A9mie%205&version=LSG)\n"
     ]
    },
    {
     "name": "stdout",
     "output_type": "stream",
     "text": [
      "--------------- ['/passage/?search=N%C3%A9h%C3%A9mie%207&version=LSG'] -----------------\n"
     ]
    },
    {
     "name": "stderr",
     "output_type": "stream",
     "text": [
      "2025-05-04 14:16:18 [scrapy.core.engine] DEBUG: Crawled (200) <GET https://www.biblegateway.com/passage/?search=N%C3%A9h%C3%A9mie%207&version=LSG> (referer: https://www.biblegateway.com/passage/?search=N%C3%A9h%C3%A9mie%206&version=LSG)\n"
     ]
    },
    {
     "name": "stdout",
     "output_type": "stream",
     "text": [
      "--------------- ['/passage/?search=N%C3%A9h%C3%A9mie%208&version=LSG'] -----------------\n"
     ]
    },
    {
     "name": "stderr",
     "output_type": "stream",
     "text": [
      "2025-05-04 14:16:18 [scrapy.core.engine] DEBUG: Crawled (200) <GET https://www.biblegateway.com/passage/?search=N%C3%A9h%C3%A9mie%208&version=LSG> (referer: https://www.biblegateway.com/passage/?search=N%C3%A9h%C3%A9mie%207&version=LSG)\n"
     ]
    },
    {
     "name": "stdout",
     "output_type": "stream",
     "text": [
      "--------------- ['/passage/?search=N%C3%A9h%C3%A9mie%209&version=LSG'] -----------------\n"
     ]
    },
    {
     "name": "stderr",
     "output_type": "stream",
     "text": [
      "2025-05-04 14:16:19 [scrapy.core.engine] DEBUG: Crawled (200) <GET https://www.biblegateway.com/passage/?search=N%C3%A9h%C3%A9mie%209&version=LSG> (referer: https://www.biblegateway.com/passage/?search=N%C3%A9h%C3%A9mie%208&version=LSG)\n"
     ]
    },
    {
     "name": "stdout",
     "output_type": "stream",
     "text": [
      "--------------- ['/passage/?search=N%C3%A9h%C3%A9mie%2010&version=LSG'] -----------------\n"
     ]
    },
    {
     "name": "stderr",
     "output_type": "stream",
     "text": [
      "2025-05-04 14:16:20 [scrapy.core.engine] DEBUG: Crawled (200) <GET https://www.biblegateway.com/passage/?search=N%C3%A9h%C3%A9mie%2010&version=LSG> (referer: https://www.biblegateway.com/passage/?search=N%C3%A9h%C3%A9mie%209&version=LSG)\n"
     ]
    },
    {
     "name": "stdout",
     "output_type": "stream",
     "text": [
      "--------------- ['/passage/?search=N%C3%A9h%C3%A9mie%2011&version=LSG'] -----------------\n"
     ]
    },
    {
     "name": "stderr",
     "output_type": "stream",
     "text": [
      "2025-05-04 14:16:21 [scrapy.core.engine] DEBUG: Crawled (200) <GET https://www.biblegateway.com/passage/?search=N%C3%A9h%C3%A9mie%2011&version=LSG> (referer: https://www.biblegateway.com/passage/?search=N%C3%A9h%C3%A9mie%2010&version=LSG)\n"
     ]
    },
    {
     "name": "stdout",
     "output_type": "stream",
     "text": [
      "--------------- ['/passage/?search=N%C3%A9h%C3%A9mie%2012&version=LSG'] -----------------\n"
     ]
    },
    {
     "name": "stderr",
     "output_type": "stream",
     "text": [
      "2025-05-04 14:16:22 [scrapy.core.engine] DEBUG: Crawled (200) <GET https://www.biblegateway.com/passage/?search=N%C3%A9h%C3%A9mie%2012&version=LSG> (referer: https://www.biblegateway.com/passage/?search=N%C3%A9h%C3%A9mie%2011&version=LSG)\n"
     ]
    },
    {
     "name": "stdout",
     "output_type": "stream",
     "text": [
      "--------------- ['/passage/?search=N%C3%A9h%C3%A9mie%2013&version=LSG'] -----------------\n"
     ]
    },
    {
     "name": "stderr",
     "output_type": "stream",
     "text": [
      "2025-05-04 14:16:23 [scrapy.core.engine] DEBUG: Crawled (200) <GET https://www.biblegateway.com/passage/?search=N%C3%A9h%C3%A9mie%2013&version=LSG> (referer: https://www.biblegateway.com/passage/?search=N%C3%A9h%C3%A9mie%2012&version=LSG)\n"
     ]
    },
    {
     "name": "stdout",
     "output_type": "stream",
     "text": [
      "--------------- ['/passage/?search=Esther%201&version=LSG'] -----------------\n"
     ]
    },
    {
     "name": "stderr",
     "output_type": "stream",
     "text": [
      "2025-05-04 14:16:23 [scrapy.core.engine] DEBUG: Crawled (200) <GET https://www.biblegateway.com/passage/?search=Esther%201&version=LSG> (referer: https://www.biblegateway.com/passage/?search=N%C3%A9h%C3%A9mie%2013&version=LSG)\n"
     ]
    },
    {
     "name": "stdout",
     "output_type": "stream",
     "text": [
      "--------------- ['/passage/?search=Esther%202&version=LSG'] -----------------\n"
     ]
    },
    {
     "name": "stderr",
     "output_type": "stream",
     "text": [
      "2025-05-04 14:16:24 [scrapy.core.engine] DEBUG: Crawled (200) <GET https://www.biblegateway.com/passage/?search=Esther%202&version=LSG> (referer: https://www.biblegateway.com/passage/?search=Esther%201&version=LSG)\n"
     ]
    },
    {
     "name": "stdout",
     "output_type": "stream",
     "text": [
      "--------------- ['/passage/?search=Esther%203&version=LSG'] -----------------\n"
     ]
    },
    {
     "name": "stderr",
     "output_type": "stream",
     "text": [
      "2025-05-04 14:16:25 [scrapy.core.engine] DEBUG: Crawled (200) <GET https://www.biblegateway.com/passage/?search=Esther%203&version=LSG> (referer: https://www.biblegateway.com/passage/?search=Esther%202&version=LSG)\n"
     ]
    },
    {
     "name": "stdout",
     "output_type": "stream",
     "text": [
      "--------------- ['/passage/?search=Esther%204&version=LSG'] -----------------\n"
     ]
    },
    {
     "name": "stderr",
     "output_type": "stream",
     "text": [
      "2025-05-04 14:16:25 [scrapy.core.engine] DEBUG: Crawled (200) <GET https://www.biblegateway.com/passage/?search=Esther%204&version=LSG> (referer: https://www.biblegateway.com/passage/?search=Esther%203&version=LSG)\n"
     ]
    },
    {
     "name": "stdout",
     "output_type": "stream",
     "text": [
      "--------------- ['/passage/?search=Esther%205&version=LSG'] -----------------\n"
     ]
    },
    {
     "name": "stderr",
     "output_type": "stream",
     "text": [
      "2025-05-04 14:16:26 [scrapy.core.engine] DEBUG: Crawled (200) <GET https://www.biblegateway.com/passage/?search=Esther%205&version=LSG> (referer: https://www.biblegateway.com/passage/?search=Esther%204&version=LSG)\n"
     ]
    },
    {
     "name": "stdout",
     "output_type": "stream",
     "text": [
      "--------------- ['/passage/?search=Esther%206&version=LSG'] -----------------\n"
     ]
    },
    {
     "name": "stderr",
     "output_type": "stream",
     "text": [
      "2025-05-04 14:16:27 [scrapy.core.engine] DEBUG: Crawled (200) <GET https://www.biblegateway.com/passage/?search=Esther%206&version=LSG> (referer: https://www.biblegateway.com/passage/?search=Esther%205&version=LSG)\n"
     ]
    },
    {
     "name": "stdout",
     "output_type": "stream",
     "text": [
      "--------------- ['/passage/?search=Esther%207&version=LSG'] -----------------\n"
     ]
    },
    {
     "name": "stderr",
     "output_type": "stream",
     "text": [
      "2025-05-04 14:16:27 [scrapy.core.engine] DEBUG: Crawled (200) <GET https://www.biblegateway.com/passage/?search=Esther%207&version=LSG> (referer: https://www.biblegateway.com/passage/?search=Esther%206&version=LSG)\n"
     ]
    },
    {
     "name": "stdout",
     "output_type": "stream",
     "text": [
      "--------------- ['/passage/?search=Esther%208&version=LSG'] -----------------\n"
     ]
    },
    {
     "name": "stderr",
     "output_type": "stream",
     "text": [
      "2025-05-04 14:16:28 [scrapy.core.engine] DEBUG: Crawled (200) <GET https://www.biblegateway.com/passage/?search=Esther%208&version=LSG> (referer: https://www.biblegateway.com/passage/?search=Esther%207&version=LSG)\n"
     ]
    },
    {
     "name": "stdout",
     "output_type": "stream",
     "text": [
      "--------------- ['/passage/?search=Esther%209&version=LSG'] -----------------\n"
     ]
    },
    {
     "name": "stderr",
     "output_type": "stream",
     "text": [
      "2025-05-04 14:16:28 [scrapy.core.engine] DEBUG: Crawled (200) <GET https://www.biblegateway.com/passage/?search=Esther%209&version=LSG> (referer: https://www.biblegateway.com/passage/?search=Esther%208&version=LSG)\n"
     ]
    },
    {
     "name": "stdout",
     "output_type": "stream",
     "text": [
      "--------------- ['/passage/?search=Esther%2010&version=LSG'] -----------------\n"
     ]
    },
    {
     "name": "stderr",
     "output_type": "stream",
     "text": [
      "2025-05-04 14:16:29 [scrapy.core.engine] DEBUG: Crawled (200) <GET https://www.biblegateway.com/passage/?search=Esther%2010&version=LSG> (referer: https://www.biblegateway.com/passage/?search=Esther%209&version=LSG)\n"
     ]
    },
    {
     "name": "stdout",
     "output_type": "stream",
     "text": [
      "--------------- ['/passage/?search=Job%201&version=LSG'] -----------------\n"
     ]
    },
    {
     "name": "stderr",
     "output_type": "stream",
     "text": [
      "2025-05-04 14:16:30 [scrapy.core.engine] DEBUG: Crawled (200) <GET https://www.biblegateway.com/passage/?search=Job%201&version=LSG> (referer: https://www.biblegateway.com/passage/?search=Esther%2010&version=LSG)\n"
     ]
    },
    {
     "name": "stdout",
     "output_type": "stream",
     "text": [
      "--------------- ['/passage/?search=Job%202&version=LSG'] -----------------\n"
     ]
    },
    {
     "name": "stderr",
     "output_type": "stream",
     "text": [
      "2025-05-04 14:16:30 [scrapy.core.engine] DEBUG: Crawled (200) <GET https://www.biblegateway.com/passage/?search=Job%202&version=LSG> (referer: https://www.biblegateway.com/passage/?search=Job%201&version=LSG)\n"
     ]
    },
    {
     "name": "stdout",
     "output_type": "stream",
     "text": [
      "--------------- ['/passage/?search=Job%203&version=LSG'] -----------------\n"
     ]
    },
    {
     "name": "stderr",
     "output_type": "stream",
     "text": [
      "2025-05-04 14:16:31 [scrapy.core.engine] DEBUG: Crawled (200) <GET https://www.biblegateway.com/passage/?search=Job%203&version=LSG> (referer: https://www.biblegateway.com/passage/?search=Job%202&version=LSG)\n"
     ]
    },
    {
     "name": "stdout",
     "output_type": "stream",
     "text": [
      "--------------- ['/passage/?search=Job%204&version=LSG'] -----------------\n"
     ]
    },
    {
     "name": "stderr",
     "output_type": "stream",
     "text": [
      "2025-05-04 14:16:32 [scrapy.core.engine] DEBUG: Crawled (200) <GET https://www.biblegateway.com/passage/?search=Job%204&version=LSG> (referer: https://www.biblegateway.com/passage/?search=Job%203&version=LSG)\n"
     ]
    },
    {
     "name": "stdout",
     "output_type": "stream",
     "text": [
      "--------------- ['/passage/?search=Job%205&version=LSG'] -----------------\n"
     ]
    },
    {
     "name": "stderr",
     "output_type": "stream",
     "text": [
      "2025-05-04 14:16:32 [scrapy.core.engine] DEBUG: Crawled (200) <GET https://www.biblegateway.com/passage/?search=Job%205&version=LSG> (referer: https://www.biblegateway.com/passage/?search=Job%204&version=LSG)\n"
     ]
    },
    {
     "name": "stdout",
     "output_type": "stream",
     "text": [
      "--------------- ['/passage/?search=Job%206&version=LSG'] -----------------\n"
     ]
    },
    {
     "name": "stderr",
     "output_type": "stream",
     "text": [
      "2025-05-04 14:16:33 [scrapy.core.engine] DEBUG: Crawled (200) <GET https://www.biblegateway.com/passage/?search=Job%206&version=LSG> (referer: https://www.biblegateway.com/passage/?search=Job%205&version=LSG)\n"
     ]
    },
    {
     "name": "stdout",
     "output_type": "stream",
     "text": [
      "--------------- ['/passage/?search=Job%207&version=LSG'] -----------------\n"
     ]
    },
    {
     "name": "stderr",
     "output_type": "stream",
     "text": [
      "2025-05-04 14:16:34 [scrapy.core.engine] DEBUG: Crawled (200) <GET https://www.biblegateway.com/passage/?search=Job%207&version=LSG> (referer: https://www.biblegateway.com/passage/?search=Job%206&version=LSG)\n"
     ]
    },
    {
     "name": "stdout",
     "output_type": "stream",
     "text": [
      "--------------- ['/passage/?search=Job%208&version=LSG'] -----------------\n"
     ]
    },
    {
     "name": "stderr",
     "output_type": "stream",
     "text": [
      "2025-05-04 14:16:34 [scrapy.core.engine] DEBUG: Crawled (200) <GET https://www.biblegateway.com/passage/?search=Job%208&version=LSG> (referer: https://www.biblegateway.com/passage/?search=Job%207&version=LSG)\n"
     ]
    },
    {
     "name": "stdout",
     "output_type": "stream",
     "text": [
      "--------------- ['/passage/?search=Job%209&version=LSG'] -----------------\n"
     ]
    },
    {
     "name": "stderr",
     "output_type": "stream",
     "text": [
      "2025-05-04 14:16:35 [scrapy.core.engine] DEBUG: Crawled (200) <GET https://www.biblegateway.com/passage/?search=Job%209&version=LSG> (referer: https://www.biblegateway.com/passage/?search=Job%208&version=LSG)\n"
     ]
    },
    {
     "name": "stdout",
     "output_type": "stream",
     "text": [
      "--------------- ['/passage/?search=Job%2010&version=LSG'] -----------------\n"
     ]
    },
    {
     "name": "stderr",
     "output_type": "stream",
     "text": [
      "2025-05-04 14:16:35 [scrapy.core.engine] DEBUG: Crawled (200) <GET https://www.biblegateway.com/passage/?search=Job%2010&version=LSG> (referer: https://www.biblegateway.com/passage/?search=Job%209&version=LSG)\n"
     ]
    },
    {
     "name": "stdout",
     "output_type": "stream",
     "text": [
      "--------------- ['/passage/?search=Job%2011&version=LSG'] -----------------\n"
     ]
    },
    {
     "name": "stderr",
     "output_type": "stream",
     "text": [
      "2025-05-04 14:16:36 [scrapy.core.engine] DEBUG: Crawled (200) <GET https://www.biblegateway.com/passage/?search=Job%2011&version=LSG> (referer: https://www.biblegateway.com/passage/?search=Job%2010&version=LSG)\n"
     ]
    },
    {
     "name": "stdout",
     "output_type": "stream",
     "text": [
      "--------------- ['/passage/?search=Job%2012&version=LSG'] -----------------\n"
     ]
    },
    {
     "name": "stderr",
     "output_type": "stream",
     "text": [
      "2025-05-04 14:16:37 [scrapy.core.engine] DEBUG: Crawled (200) <GET https://www.biblegateway.com/passage/?search=Job%2012&version=LSG> (referer: https://www.biblegateway.com/passage/?search=Job%2011&version=LSG)\n"
     ]
    },
    {
     "name": "stdout",
     "output_type": "stream",
     "text": [
      "--------------- ['/passage/?search=Job%2013&version=LSG'] -----------------\n"
     ]
    },
    {
     "name": "stderr",
     "output_type": "stream",
     "text": [
      "2025-05-04 14:16:37 [scrapy.core.engine] DEBUG: Crawled (200) <GET https://www.biblegateway.com/passage/?search=Job%2013&version=LSG> (referer: https://www.biblegateway.com/passage/?search=Job%2012&version=LSG)\n"
     ]
    },
    {
     "name": "stdout",
     "output_type": "stream",
     "text": [
      "--------------- ['/passage/?search=Job%2014&version=LSG'] -----------------\n"
     ]
    },
    {
     "name": "stderr",
     "output_type": "stream",
     "text": [
      "2025-05-04 14:16:38 [scrapy.core.engine] DEBUG: Crawled (200) <GET https://www.biblegateway.com/passage/?search=Job%2014&version=LSG> (referer: https://www.biblegateway.com/passage/?search=Job%2013&version=LSG)\n"
     ]
    },
    {
     "name": "stdout",
     "output_type": "stream",
     "text": [
      "--------------- ['/passage/?search=Job%2015&version=LSG'] -----------------\n"
     ]
    },
    {
     "name": "stderr",
     "output_type": "stream",
     "text": [
      "2025-05-04 14:16:38 [scrapy.core.engine] DEBUG: Crawled (200) <GET https://www.biblegateway.com/passage/?search=Job%2015&version=LSG> (referer: https://www.biblegateway.com/passage/?search=Job%2014&version=LSG)\n"
     ]
    },
    {
     "name": "stdout",
     "output_type": "stream",
     "text": [
      "--------------- ['/passage/?search=Job%2016&version=LSG'] -----------------\n"
     ]
    },
    {
     "name": "stderr",
     "output_type": "stream",
     "text": [
      "2025-05-04 14:16:39 [scrapy.core.engine] DEBUG: Crawled (200) <GET https://www.biblegateway.com/passage/?search=Job%2016&version=LSG> (referer: https://www.biblegateway.com/passage/?search=Job%2015&version=LSG)\n"
     ]
    },
    {
     "name": "stdout",
     "output_type": "stream",
     "text": [
      "--------------- ['/passage/?search=Job%2017&version=LSG'] -----------------\n"
     ]
    },
    {
     "name": "stderr",
     "output_type": "stream",
     "text": [
      "2025-05-04 14:16:40 [scrapy.core.engine] DEBUG: Crawled (200) <GET https://www.biblegateway.com/passage/?search=Job%2017&version=LSG> (referer: https://www.biblegateway.com/passage/?search=Job%2016&version=LSG)\n"
     ]
    },
    {
     "name": "stdout",
     "output_type": "stream",
     "text": [
      "--------------- ['/passage/?search=Job%2018&version=LSG'] -----------------\n"
     ]
    },
    {
     "name": "stderr",
     "output_type": "stream",
     "text": [
      "2025-05-04 14:16:41 [scrapy.core.engine] DEBUG: Crawled (200) <GET https://www.biblegateway.com/passage/?search=Job%2018&version=LSG> (referer: https://www.biblegateway.com/passage/?search=Job%2017&version=LSG)\n"
     ]
    },
    {
     "name": "stdout",
     "output_type": "stream",
     "text": [
      "--------------- ['/passage/?search=Job%2019&version=LSG'] -----------------\n"
     ]
    },
    {
     "name": "stderr",
     "output_type": "stream",
     "text": [
      "2025-05-04 14:16:41 [scrapy.core.engine] DEBUG: Crawled (200) <GET https://www.biblegateway.com/passage/?search=Job%2019&version=LSG> (referer: https://www.biblegateway.com/passage/?search=Job%2018&version=LSG)\n"
     ]
    },
    {
     "name": "stdout",
     "output_type": "stream",
     "text": [
      "--------------- ['/passage/?search=Job%2020&version=LSG'] -----------------\n"
     ]
    },
    {
     "name": "stderr",
     "output_type": "stream",
     "text": [
      "2025-05-04 14:16:42 [scrapy.core.engine] DEBUG: Crawled (200) <GET https://www.biblegateway.com/passage/?search=Job%2020&version=LSG> (referer: https://www.biblegateway.com/passage/?search=Job%2019&version=LSG)\n"
     ]
    },
    {
     "name": "stdout",
     "output_type": "stream",
     "text": [
      "--------------- ['/passage/?search=Job%2021&version=LSG'] -----------------\n"
     ]
    },
    {
     "name": "stderr",
     "output_type": "stream",
     "text": [
      "2025-05-04 14:16:43 [scrapy.core.engine] DEBUG: Crawled (200) <GET https://www.biblegateway.com/passage/?search=Job%2021&version=LSG> (referer: https://www.biblegateway.com/passage/?search=Job%2020&version=LSG)\n"
     ]
    },
    {
     "name": "stdout",
     "output_type": "stream",
     "text": [
      "--------------- ['/passage/?search=Job%2022&version=LSG'] -----------------\n"
     ]
    },
    {
     "name": "stderr",
     "output_type": "stream",
     "text": [
      "2025-05-04 14:16:44 [scrapy.core.engine] DEBUG: Crawled (200) <GET https://www.biblegateway.com/passage/?search=Job%2022&version=LSG> (referer: https://www.biblegateway.com/passage/?search=Job%2021&version=LSG)\n"
     ]
    },
    {
     "name": "stdout",
     "output_type": "stream",
     "text": [
      "--------------- ['/passage/?search=Job%2023&version=LSG'] -----------------\n"
     ]
    },
    {
     "name": "stderr",
     "output_type": "stream",
     "text": [
      "2025-05-04 14:16:45 [scrapy.core.engine] DEBUG: Crawled (200) <GET https://www.biblegateway.com/passage/?search=Job%2023&version=LSG> (referer: https://www.biblegateway.com/passage/?search=Job%2022&version=LSG)\n"
     ]
    },
    {
     "name": "stdout",
     "output_type": "stream",
     "text": [
      "--------------- ['/passage/?search=Job%2024&version=LSG'] -----------------\n"
     ]
    },
    {
     "name": "stderr",
     "output_type": "stream",
     "text": [
      "2025-05-04 14:16:45 [scrapy.core.engine] DEBUG: Crawled (200) <GET https://www.biblegateway.com/passage/?search=Job%2024&version=LSG> (referer: https://www.biblegateway.com/passage/?search=Job%2023&version=LSG)\n"
     ]
    },
    {
     "name": "stdout",
     "output_type": "stream",
     "text": [
      "--------------- ['/passage/?search=Job%2025&version=LSG'] -----------------\n"
     ]
    },
    {
     "name": "stderr",
     "output_type": "stream",
     "text": [
      "2025-05-04 14:16:46 [scrapy.core.engine] DEBUG: Crawled (200) <GET https://www.biblegateway.com/passage/?search=Job%2025&version=LSG> (referer: https://www.biblegateway.com/passage/?search=Job%2024&version=LSG)\n"
     ]
    },
    {
     "name": "stdout",
     "output_type": "stream",
     "text": [
      "--------------- ['/passage/?search=Job%2026&version=LSG'] -----------------\n"
     ]
    },
    {
     "name": "stderr",
     "output_type": "stream",
     "text": [
      "2025-05-04 14:16:47 [scrapy.core.engine] DEBUG: Crawled (200) <GET https://www.biblegateway.com/passage/?search=Job%2026&version=LSG> (referer: https://www.biblegateway.com/passage/?search=Job%2025&version=LSG)\n"
     ]
    },
    {
     "name": "stdout",
     "output_type": "stream",
     "text": [
      "--------------- ['/passage/?search=Job%2027&version=LSG'] -----------------\n"
     ]
    },
    {
     "name": "stderr",
     "output_type": "stream",
     "text": [
      "2025-05-04 14:16:47 [scrapy.core.engine] DEBUG: Crawled (200) <GET https://www.biblegateway.com/passage/?search=Job%2027&version=LSG> (referer: https://www.biblegateway.com/passage/?search=Job%2026&version=LSG)\n"
     ]
    },
    {
     "name": "stdout",
     "output_type": "stream",
     "text": [
      "--------------- ['/passage/?search=Job%2028&version=LSG'] -----------------\n"
     ]
    },
    {
     "name": "stderr",
     "output_type": "stream",
     "text": [
      "2025-05-04 14:16:48 [scrapy.core.engine] DEBUG: Crawled (200) <GET https://www.biblegateway.com/passage/?search=Job%2028&version=LSG> (referer: https://www.biblegateway.com/passage/?search=Job%2027&version=LSG)\n"
     ]
    },
    {
     "name": "stdout",
     "output_type": "stream",
     "text": [
      "--------------- ['/passage/?search=Job%2029&version=LSG'] -----------------\n"
     ]
    },
    {
     "name": "stderr",
     "output_type": "stream",
     "text": [
      "2025-05-04 14:16:49 [scrapy.core.engine] DEBUG: Crawled (200) <GET https://www.biblegateway.com/passage/?search=Job%2029&version=LSG> (referer: https://www.biblegateway.com/passage/?search=Job%2028&version=LSG)\n"
     ]
    },
    {
     "name": "stdout",
     "output_type": "stream",
     "text": [
      "--------------- ['/passage/?search=Job%2030&version=LSG'] -----------------\n"
     ]
    },
    {
     "name": "stderr",
     "output_type": "stream",
     "text": [
      "2025-05-04 14:16:49 [scrapy.core.engine] DEBUG: Crawled (200) <GET https://www.biblegateway.com/passage/?search=Job%2030&version=LSG> (referer: https://www.biblegateway.com/passage/?search=Job%2029&version=LSG)\n"
     ]
    },
    {
     "name": "stdout",
     "output_type": "stream",
     "text": [
      "--------------- ['/passage/?search=Job%2031&version=LSG'] -----------------\n"
     ]
    },
    {
     "name": "stderr",
     "output_type": "stream",
     "text": [
      "2025-05-04 14:16:50 [scrapy.core.engine] DEBUG: Crawled (200) <GET https://www.biblegateway.com/passage/?search=Job%2031&version=LSG> (referer: https://www.biblegateway.com/passage/?search=Job%2030&version=LSG)\n"
     ]
    },
    {
     "name": "stdout",
     "output_type": "stream",
     "text": [
      "--------------- ['/passage/?search=Job%2032&version=LSG'] -----------------\n"
     ]
    },
    {
     "name": "stderr",
     "output_type": "stream",
     "text": [
      "2025-05-04 14:16:50 [scrapy.core.engine] DEBUG: Crawled (200) <GET https://www.biblegateway.com/passage/?search=Job%2032&version=LSG> (referer: https://www.biblegateway.com/passage/?search=Job%2031&version=LSG)\n"
     ]
    },
    {
     "name": "stdout",
     "output_type": "stream",
     "text": [
      "--------------- ['/passage/?search=Job%2033&version=LSG'] -----------------\n"
     ]
    },
    {
     "name": "stderr",
     "output_type": "stream",
     "text": [
      "2025-05-04 14:16:51 [scrapy.core.engine] DEBUG: Crawled (200) <GET https://www.biblegateway.com/passage/?search=Job%2033&version=LSG> (referer: https://www.biblegateway.com/passage/?search=Job%2032&version=LSG)\n"
     ]
    },
    {
     "name": "stdout",
     "output_type": "stream",
     "text": [
      "--------------- ['/passage/?search=Job%2034&version=LSG'] -----------------\n"
     ]
    },
    {
     "name": "stderr",
     "output_type": "stream",
     "text": [
      "2025-05-04 14:16:52 [scrapy.core.engine] DEBUG: Crawled (200) <GET https://www.biblegateway.com/passage/?search=Job%2034&version=LSG> (referer: https://www.biblegateway.com/passage/?search=Job%2033&version=LSG)\n"
     ]
    },
    {
     "name": "stdout",
     "output_type": "stream",
     "text": [
      "--------------- ['/passage/?search=Job%2035&version=LSG'] -----------------\n"
     ]
    },
    {
     "name": "stderr",
     "output_type": "stream",
     "text": [
      "2025-05-04 14:16:52 [scrapy.core.engine] DEBUG: Crawled (200) <GET https://www.biblegateway.com/passage/?search=Job%2035&version=LSG> (referer: https://www.biblegateway.com/passage/?search=Job%2034&version=LSG)\n"
     ]
    },
    {
     "name": "stdout",
     "output_type": "stream",
     "text": [
      "--------------- ['/passage/?search=Job%2036&version=LSG'] -----------------\n"
     ]
    },
    {
     "name": "stderr",
     "output_type": "stream",
     "text": [
      "2025-05-04 14:16:53 [scrapy.core.engine] DEBUG: Crawled (200) <GET https://www.biblegateway.com/passage/?search=Job%2036&version=LSG> (referer: https://www.biblegateway.com/passage/?search=Job%2035&version=LSG)\n"
     ]
    },
    {
     "name": "stdout",
     "output_type": "stream",
     "text": [
      "--------------- ['/passage/?search=Job%2037&version=LSG'] -----------------\n"
     ]
    },
    {
     "name": "stderr",
     "output_type": "stream",
     "text": [
      "2025-05-04 14:16:54 [scrapy.core.engine] DEBUG: Crawled (200) <GET https://www.biblegateway.com/passage/?search=Job%2037&version=LSG> (referer: https://www.biblegateway.com/passage/?search=Job%2036&version=LSG)\n"
     ]
    },
    {
     "name": "stdout",
     "output_type": "stream",
     "text": [
      "--------------- ['/passage/?search=Job%2038&version=LSG'] -----------------\n"
     ]
    },
    {
     "name": "stderr",
     "output_type": "stream",
     "text": [
      "2025-05-04 14:16:55 [scrapy.core.engine] DEBUG: Crawled (200) <GET https://www.biblegateway.com/passage/?search=Job%2038&version=LSG> (referer: https://www.biblegateway.com/passage/?search=Job%2037&version=LSG)\n"
     ]
    },
    {
     "name": "stdout",
     "output_type": "stream",
     "text": [
      "--------------- ['/passage/?search=Job%2039&version=LSG'] -----------------\n"
     ]
    },
    {
     "name": "stderr",
     "output_type": "stream",
     "text": [
      "2025-05-04 14:16:55 [scrapy.core.engine] DEBUG: Crawled (200) <GET https://www.biblegateway.com/passage/?search=Job%2039&version=LSG> (referer: https://www.biblegateway.com/passage/?search=Job%2038&version=LSG)\n"
     ]
    },
    {
     "name": "stdout",
     "output_type": "stream",
     "text": [
      "--------------- ['/passage/?search=Job%2040&version=LSG'] -----------------\n"
     ]
    },
    {
     "name": "stderr",
     "output_type": "stream",
     "text": [
      "2025-05-04 14:16:56 [scrapy.core.engine] DEBUG: Crawled (200) <GET https://www.biblegateway.com/passage/?search=Job%2040&version=LSG> (referer: https://www.biblegateway.com/passage/?search=Job%2039&version=LSG)\n"
     ]
    },
    {
     "name": "stdout",
     "output_type": "stream",
     "text": [
      "--------------- ['/passage/?search=Job%2041&version=LSG'] -----------------\n"
     ]
    },
    {
     "name": "stderr",
     "output_type": "stream",
     "text": [
      "2025-05-04 14:16:57 [scrapy.extensions.logstats] INFO: Crawled 476 pages (at 85 pages/min), scraped 0 items (at 0 items/min)\n",
      "2025-05-04 14:16:57 [scrapy.core.engine] DEBUG: Crawled (200) <GET https://www.biblegateway.com/passage/?search=Job%2041&version=LSG> (referer: https://www.biblegateway.com/passage/?search=Job%2040&version=LSG)\n"
     ]
    },
    {
     "name": "stdout",
     "output_type": "stream",
     "text": [
      "--------------- ['/passage/?search=Job%2042&version=LSG'] -----------------\n"
     ]
    },
    {
     "name": "stderr",
     "output_type": "stream",
     "text": [
      "2025-05-04 14:16:58 [scrapy.core.engine] DEBUG: Crawled (200) <GET https://www.biblegateway.com/passage/?search=Job%2042&version=LSG> (referer: https://www.biblegateway.com/passage/?search=Job%2041&version=LSG)\n"
     ]
    },
    {
     "name": "stdout",
     "output_type": "stream",
     "text": [
      "--------------- ['/passage/?search=Psaumes%201&version=LSG'] -----------------\n"
     ]
    },
    {
     "name": "stderr",
     "output_type": "stream",
     "text": [
      "2025-05-04 14:16:59 [scrapy.core.engine] DEBUG: Crawled (200) <GET https://www.biblegateway.com/passage/?search=Psaumes%201&version=LSG> (referer: https://www.biblegateway.com/passage/?search=Job%2042&version=LSG)\n"
     ]
    },
    {
     "name": "stdout",
     "output_type": "stream",
     "text": [
      "--------------- ['/passage/?search=Psaumes%202&version=LSG'] -----------------\n"
     ]
    },
    {
     "name": "stderr",
     "output_type": "stream",
     "text": [
      "2025-05-04 14:16:59 [scrapy.core.engine] DEBUG: Crawled (200) <GET https://www.biblegateway.com/passage/?search=Psaumes%202&version=LSG> (referer: https://www.biblegateway.com/passage/?search=Psaumes%201&version=LSG)\n"
     ]
    },
    {
     "name": "stdout",
     "output_type": "stream",
     "text": [
      "--------------- ['/passage/?search=Psaumes%203&version=LSG'] -----------------\n"
     ]
    },
    {
     "name": "stderr",
     "output_type": "stream",
     "text": [
      "2025-05-04 14:17:00 [scrapy.core.engine] DEBUG: Crawled (200) <GET https://www.biblegateway.com/passage/?search=Psaumes%203&version=LSG> (referer: https://www.biblegateway.com/passage/?search=Psaumes%202&version=LSG)\n"
     ]
    },
    {
     "name": "stdout",
     "output_type": "stream",
     "text": [
      "--------------- ['/passage/?search=Psaumes%204&version=LSG'] -----------------\n"
     ]
    },
    {
     "name": "stderr",
     "output_type": "stream",
     "text": [
      "2025-05-04 14:17:00 [scrapy.core.engine] DEBUG: Crawled (200) <GET https://www.biblegateway.com/passage/?search=Psaumes%204&version=LSG> (referer: https://www.biblegateway.com/passage/?search=Psaumes%203&version=LSG)\n"
     ]
    },
    {
     "name": "stdout",
     "output_type": "stream",
     "text": [
      "--------------- ['/passage/?search=Psaumes%205&version=LSG'] -----------------\n"
     ]
    },
    {
     "name": "stderr",
     "output_type": "stream",
     "text": [
      "2025-05-04 14:17:01 [scrapy.core.engine] DEBUG: Crawled (200) <GET https://www.biblegateway.com/passage/?search=Psaumes%205&version=LSG> (referer: https://www.biblegateway.com/passage/?search=Psaumes%204&version=LSG)\n"
     ]
    },
    {
     "name": "stdout",
     "output_type": "stream",
     "text": [
      "--------------- ['/passage/?search=Psaumes%206&version=LSG'] -----------------\n"
     ]
    },
    {
     "name": "stderr",
     "output_type": "stream",
     "text": [
      "2025-05-04 14:17:02 [scrapy.core.engine] DEBUG: Crawled (200) <GET https://www.biblegateway.com/passage/?search=Psaumes%206&version=LSG> (referer: https://www.biblegateway.com/passage/?search=Psaumes%205&version=LSG)\n"
     ]
    },
    {
     "name": "stdout",
     "output_type": "stream",
     "text": [
      "--------------- ['/passage/?search=Psaumes%207&version=LSG'] -----------------\n"
     ]
    },
    {
     "name": "stderr",
     "output_type": "stream",
     "text": [
      "2025-05-04 14:17:03 [scrapy.core.engine] DEBUG: Crawled (200) <GET https://www.biblegateway.com/passage/?search=Psaumes%207&version=LSG> (referer: https://www.biblegateway.com/passage/?search=Psaumes%206&version=LSG)\n"
     ]
    },
    {
     "name": "stdout",
     "output_type": "stream",
     "text": [
      "--------------- ['/passage/?search=Psaumes%208&version=LSG'] -----------------\n"
     ]
    },
    {
     "name": "stderr",
     "output_type": "stream",
     "text": [
      "2025-05-04 14:17:03 [scrapy.core.engine] DEBUG: Crawled (200) <GET https://www.biblegateway.com/passage/?search=Psaumes%208&version=LSG> (referer: https://www.biblegateway.com/passage/?search=Psaumes%207&version=LSG)\n"
     ]
    },
    {
     "name": "stdout",
     "output_type": "stream",
     "text": [
      "--------------- ['/passage/?search=Psaumes%209&version=LSG'] -----------------\n"
     ]
    },
    {
     "name": "stderr",
     "output_type": "stream",
     "text": [
      "2025-05-04 14:17:04 [scrapy.core.engine] DEBUG: Crawled (200) <GET https://www.biblegateway.com/passage/?search=Psaumes%209&version=LSG> (referer: https://www.biblegateway.com/passage/?search=Psaumes%208&version=LSG)\n"
     ]
    },
    {
     "name": "stdout",
     "output_type": "stream",
     "text": [
      "--------------- ['/passage/?search=Psaumes%2010&version=LSG'] -----------------\n"
     ]
    },
    {
     "name": "stderr",
     "output_type": "stream",
     "text": [
      "2025-05-04 14:17:05 [scrapy.core.engine] DEBUG: Crawled (200) <GET https://www.biblegateway.com/passage/?search=Psaumes%2010&version=LSG> (referer: https://www.biblegateway.com/passage/?search=Psaumes%209&version=LSG)\n"
     ]
    },
    {
     "name": "stdout",
     "output_type": "stream",
     "text": [
      "--------------- ['/passage/?search=Psaumes%2011&version=LSG'] -----------------\n"
     ]
    },
    {
     "name": "stderr",
     "output_type": "stream",
     "text": [
      "2025-05-04 14:17:05 [scrapy.core.engine] DEBUG: Crawled (200) <GET https://www.biblegateway.com/passage/?search=Psaumes%2011&version=LSG> (referer: https://www.biblegateway.com/passage/?search=Psaumes%2010&version=LSG)\n"
     ]
    },
    {
     "name": "stdout",
     "output_type": "stream",
     "text": [
      "--------------- ['/passage/?search=Psaumes%2012&version=LSG'] -----------------\n"
     ]
    },
    {
     "name": "stderr",
     "output_type": "stream",
     "text": [
      "2025-05-04 14:17:06 [scrapy.core.engine] DEBUG: Crawled (200) <GET https://www.biblegateway.com/passage/?search=Psaumes%2012&version=LSG> (referer: https://www.biblegateway.com/passage/?search=Psaumes%2011&version=LSG)\n"
     ]
    },
    {
     "name": "stdout",
     "output_type": "stream",
     "text": [
      "--------------- ['/passage/?search=Psaumes%2013&version=LSG'] -----------------\n"
     ]
    },
    {
     "name": "stderr",
     "output_type": "stream",
     "text": [
      "2025-05-04 14:17:07 [scrapy.core.engine] DEBUG: Crawled (200) <GET https://www.biblegateway.com/passage/?search=Psaumes%2013&version=LSG> (referer: https://www.biblegateway.com/passage/?search=Psaumes%2012&version=LSG)\n"
     ]
    },
    {
     "name": "stdout",
     "output_type": "stream",
     "text": [
      "--------------- ['/passage/?search=Psaumes%2014&version=LSG'] -----------------\n"
     ]
    },
    {
     "name": "stderr",
     "output_type": "stream",
     "text": [
      "2025-05-04 14:17:07 [scrapy.core.engine] DEBUG: Crawled (200) <GET https://www.biblegateway.com/passage/?search=Psaumes%2014&version=LSG> (referer: https://www.biblegateway.com/passage/?search=Psaumes%2013&version=LSG)\n"
     ]
    },
    {
     "name": "stdout",
     "output_type": "stream",
     "text": [
      "--------------- ['/passage/?search=Psaumes%2015&version=LSG'] -----------------\n"
     ]
    },
    {
     "name": "stderr",
     "output_type": "stream",
     "text": [
      "2025-05-04 14:17:08 [scrapy.core.engine] DEBUG: Crawled (200) <GET https://www.biblegateway.com/passage/?search=Psaumes%2015&version=LSG> (referer: https://www.biblegateway.com/passage/?search=Psaumes%2014&version=LSG)\n"
     ]
    },
    {
     "name": "stdout",
     "output_type": "stream",
     "text": [
      "--------------- ['/passage/?search=Psaumes%2016&version=LSG'] -----------------\n"
     ]
    },
    {
     "name": "stderr",
     "output_type": "stream",
     "text": [
      "2025-05-04 14:17:09 [scrapy.core.engine] DEBUG: Crawled (200) <GET https://www.biblegateway.com/passage/?search=Psaumes%2016&version=LSG> (referer: https://www.biblegateway.com/passage/?search=Psaumes%2015&version=LSG)\n"
     ]
    },
    {
     "name": "stdout",
     "output_type": "stream",
     "text": [
      "--------------- ['/passage/?search=Psaumes%2017&version=LSG'] -----------------\n"
     ]
    },
    {
     "name": "stderr",
     "output_type": "stream",
     "text": [
      "2025-05-04 14:17:10 [scrapy.core.engine] DEBUG: Crawled (200) <GET https://www.biblegateway.com/passage/?search=Psaumes%2017&version=LSG> (referer: https://www.biblegateway.com/passage/?search=Psaumes%2016&version=LSG)\n"
     ]
    },
    {
     "name": "stdout",
     "output_type": "stream",
     "text": [
      "--------------- ['/passage/?search=Psaumes%2018&version=LSG'] -----------------\n"
     ]
    },
    {
     "name": "stderr",
     "output_type": "stream",
     "text": [
      "2025-05-04 14:17:11 [scrapy.core.engine] DEBUG: Crawled (200) <GET https://www.biblegateway.com/passage/?search=Psaumes%2018&version=LSG> (referer: https://www.biblegateway.com/passage/?search=Psaumes%2017&version=LSG)\n"
     ]
    },
    {
     "name": "stdout",
     "output_type": "stream",
     "text": [
      "--------------- ['/passage/?search=Psaumes%2019&version=LSG'] -----------------\n"
     ]
    },
    {
     "name": "stderr",
     "output_type": "stream",
     "text": [
      "2025-05-04 14:17:12 [scrapy.core.engine] DEBUG: Crawled (200) <GET https://www.biblegateway.com/passage/?search=Psaumes%2019&version=LSG> (referer: https://www.biblegateway.com/passage/?search=Psaumes%2018&version=LSG)\n"
     ]
    },
    {
     "name": "stdout",
     "output_type": "stream",
     "text": [
      "--------------- ['/passage/?search=Psaumes%2020&version=LSG'] -----------------\n"
     ]
    },
    {
     "name": "stderr",
     "output_type": "stream",
     "text": [
      "2025-05-04 14:17:13 [scrapy.core.engine] DEBUG: Crawled (200) <GET https://www.biblegateway.com/passage/?search=Psaumes%2020&version=LSG> (referer: https://www.biblegateway.com/passage/?search=Psaumes%2019&version=LSG)\n"
     ]
    },
    {
     "name": "stdout",
     "output_type": "stream",
     "text": [
      "--------------- ['/passage/?search=Psaumes%2021&version=LSG'] -----------------\n"
     ]
    },
    {
     "name": "stderr",
     "output_type": "stream",
     "text": [
      "2025-05-04 14:17:13 [scrapy.core.engine] DEBUG: Crawled (200) <GET https://www.biblegateway.com/passage/?search=Psaumes%2021&version=LSG> (referer: https://www.biblegateway.com/passage/?search=Psaumes%2020&version=LSG)\n"
     ]
    },
    {
     "name": "stdout",
     "output_type": "stream",
     "text": [
      "--------------- ['/passage/?search=Psaumes%2022&version=LSG'] -----------------\n"
     ]
    },
    {
     "name": "stderr",
     "output_type": "stream",
     "text": [
      "2025-05-04 14:17:14 [scrapy.core.engine] DEBUG: Crawled (200) <GET https://www.biblegateway.com/passage/?search=Psaumes%2022&version=LSG> (referer: https://www.biblegateway.com/passage/?search=Psaumes%2021&version=LSG)\n"
     ]
    },
    {
     "name": "stdout",
     "output_type": "stream",
     "text": [
      "--------------- ['/passage/?search=Psaumes%2023&version=LSG'] -----------------\n"
     ]
    },
    {
     "name": "stderr",
     "output_type": "stream",
     "text": [
      "2025-05-04 14:17:15 [scrapy.core.engine] DEBUG: Crawled (200) <GET https://www.biblegateway.com/passage/?search=Psaumes%2023&version=LSG> (referer: https://www.biblegateway.com/passage/?search=Psaumes%2022&version=LSG)\n"
     ]
    },
    {
     "name": "stdout",
     "output_type": "stream",
     "text": [
      "--------------- ['/passage/?search=Psaumes%2024&version=LSG'] -----------------\n"
     ]
    },
    {
     "name": "stderr",
     "output_type": "stream",
     "text": [
      "2025-05-04 14:17:15 [scrapy.core.engine] DEBUG: Crawled (200) <GET https://www.biblegateway.com/passage/?search=Psaumes%2024&version=LSG> (referer: https://www.biblegateway.com/passage/?search=Psaumes%2023&version=LSG)\n"
     ]
    },
    {
     "name": "stdout",
     "output_type": "stream",
     "text": [
      "--------------- ['/passage/?search=Psaumes%2025&version=LSG'] -----------------\n"
     ]
    },
    {
     "name": "stderr",
     "output_type": "stream",
     "text": [
      "2025-05-04 14:17:16 [scrapy.core.engine] DEBUG: Crawled (200) <GET https://www.biblegateway.com/passage/?search=Psaumes%2025&version=LSG> (referer: https://www.biblegateway.com/passage/?search=Psaumes%2024&version=LSG)\n"
     ]
    },
    {
     "name": "stdout",
     "output_type": "stream",
     "text": [
      "--------------- ['/passage/?search=Psaumes%2026&version=LSG'] -----------------\n"
     ]
    },
    {
     "name": "stderr",
     "output_type": "stream",
     "text": [
      "2025-05-04 14:17:16 [scrapy.core.engine] DEBUG: Crawled (200) <GET https://www.biblegateway.com/passage/?search=Psaumes%2026&version=LSG> (referer: https://www.biblegateway.com/passage/?search=Psaumes%2025&version=LSG)\n"
     ]
    },
    {
     "name": "stdout",
     "output_type": "stream",
     "text": [
      "--------------- ['/passage/?search=Psaumes%2027&version=LSG'] -----------------\n"
     ]
    },
    {
     "name": "stderr",
     "output_type": "stream",
     "text": [
      "2025-05-04 14:17:17 [scrapy.core.engine] DEBUG: Crawled (200) <GET https://www.biblegateway.com/passage/?search=Psaumes%2027&version=LSG> (referer: https://www.biblegateway.com/passage/?search=Psaumes%2026&version=LSG)\n"
     ]
    },
    {
     "name": "stdout",
     "output_type": "stream",
     "text": [
      "--------------- ['/passage/?search=Psaumes%2028&version=LSG'] -----------------\n"
     ]
    },
    {
     "name": "stderr",
     "output_type": "stream",
     "text": [
      "2025-05-04 14:17:18 [scrapy.core.engine] DEBUG: Crawled (200) <GET https://www.biblegateway.com/passage/?search=Psaumes%2028&version=LSG> (referer: https://www.biblegateway.com/passage/?search=Psaumes%2027&version=LSG)\n"
     ]
    },
    {
     "name": "stdout",
     "output_type": "stream",
     "text": [
      "--------------- ['/passage/?search=Psaumes%2029&version=LSG'] -----------------\n"
     ]
    },
    {
     "name": "stderr",
     "output_type": "stream",
     "text": [
      "2025-05-04 14:17:18 [scrapy.core.engine] DEBUG: Crawled (200) <GET https://www.biblegateway.com/passage/?search=Psaumes%2029&version=LSG> (referer: https://www.biblegateway.com/passage/?search=Psaumes%2028&version=LSG)\n"
     ]
    },
    {
     "name": "stdout",
     "output_type": "stream",
     "text": [
      "--------------- ['/passage/?search=Psaumes%2030&version=LSG'] -----------------\n"
     ]
    },
    {
     "name": "stderr",
     "output_type": "stream",
     "text": [
      "2025-05-04 14:17:19 [scrapy.core.engine] DEBUG: Crawled (200) <GET https://www.biblegateway.com/passage/?search=Psaumes%2030&version=LSG> (referer: https://www.biblegateway.com/passage/?search=Psaumes%2029&version=LSG)\n"
     ]
    },
    {
     "name": "stdout",
     "output_type": "stream",
     "text": [
      "--------------- ['/passage/?search=Psaumes%2031&version=LSG'] -----------------\n"
     ]
    },
    {
     "name": "stderr",
     "output_type": "stream",
     "text": [
      "2025-05-04 14:17:20 [scrapy.core.engine] DEBUG: Crawled (200) <GET https://www.biblegateway.com/passage/?search=Psaumes%2031&version=LSG> (referer: https://www.biblegateway.com/passage/?search=Psaumes%2030&version=LSG)\n"
     ]
    },
    {
     "name": "stdout",
     "output_type": "stream",
     "text": [
      "--------------- ['/passage/?search=Psaumes%2032&version=LSG'] -----------------\n"
     ]
    },
    {
     "name": "stderr",
     "output_type": "stream",
     "text": [
      "2025-05-04 14:17:20 [scrapy.core.engine] DEBUG: Crawled (200) <GET https://www.biblegateway.com/passage/?search=Psaumes%2032&version=LSG> (referer: https://www.biblegateway.com/passage/?search=Psaumes%2031&version=LSG)\n"
     ]
    },
    {
     "name": "stdout",
     "output_type": "stream",
     "text": [
      "--------------- ['/passage/?search=Psaumes%2033&version=LSG'] -----------------\n"
     ]
    },
    {
     "name": "stderr",
     "output_type": "stream",
     "text": [
      "2025-05-04 14:17:21 [scrapy.core.engine] DEBUG: Crawled (200) <GET https://www.biblegateway.com/passage/?search=Psaumes%2033&version=LSG> (referer: https://www.biblegateway.com/passage/?search=Psaumes%2032&version=LSG)\n"
     ]
    },
    {
     "name": "stdout",
     "output_type": "stream",
     "text": [
      "--------------- ['/passage/?search=Psaumes%2034&version=LSG'] -----------------\n"
     ]
    },
    {
     "name": "stderr",
     "output_type": "stream",
     "text": [
      "2025-05-04 14:17:22 [scrapy.core.engine] DEBUG: Crawled (200) <GET https://www.biblegateway.com/passage/?search=Psaumes%2034&version=LSG> (referer: https://www.biblegateway.com/passage/?search=Psaumes%2033&version=LSG)\n"
     ]
    },
    {
     "name": "stdout",
     "output_type": "stream",
     "text": [
      "--------------- ['/passage/?search=Psaumes%2035&version=LSG'] -----------------\n"
     ]
    },
    {
     "name": "stderr",
     "output_type": "stream",
     "text": [
      "2025-05-04 14:17:22 [scrapy.core.engine] DEBUG: Crawled (200) <GET https://www.biblegateway.com/passage/?search=Psaumes%2035&version=LSG> (referer: https://www.biblegateway.com/passage/?search=Psaumes%2034&version=LSG)\n"
     ]
    },
    {
     "name": "stdout",
     "output_type": "stream",
     "text": [
      "--------------- ['/passage/?search=Psaumes%2036&version=LSG'] -----------------\n"
     ]
    },
    {
     "name": "stderr",
     "output_type": "stream",
     "text": [
      "2025-05-04 14:17:23 [scrapy.core.engine] DEBUG: Crawled (200) <GET https://www.biblegateway.com/passage/?search=Psaumes%2036&version=LSG> (referer: https://www.biblegateway.com/passage/?search=Psaumes%2035&version=LSG)\n"
     ]
    },
    {
     "name": "stdout",
     "output_type": "stream",
     "text": [
      "--------------- ['/passage/?search=Psaumes%2037&version=LSG'] -----------------\n"
     ]
    },
    {
     "name": "stderr",
     "output_type": "stream",
     "text": [
      "2025-05-04 14:17:23 [scrapy.core.engine] DEBUG: Crawled (200) <GET https://www.biblegateway.com/passage/?search=Psaumes%2037&version=LSG> (referer: https://www.biblegateway.com/passage/?search=Psaumes%2036&version=LSG)\n"
     ]
    },
    {
     "name": "stdout",
     "output_type": "stream",
     "text": [
      "--------------- ['/passage/?search=Psaumes%2038&version=LSG'] -----------------\n"
     ]
    },
    {
     "name": "stderr",
     "output_type": "stream",
     "text": [
      "2025-05-04 14:17:24 [scrapy.core.engine] DEBUG: Crawled (200) <GET https://www.biblegateway.com/passage/?search=Psaumes%2038&version=LSG> (referer: https://www.biblegateway.com/passage/?search=Psaumes%2037&version=LSG)\n"
     ]
    },
    {
     "name": "stdout",
     "output_type": "stream",
     "text": [
      "--------------- ['/passage/?search=Psaumes%2039&version=LSG'] -----------------\n"
     ]
    },
    {
     "name": "stderr",
     "output_type": "stream",
     "text": [
      "2025-05-04 14:17:25 [scrapy.core.engine] DEBUG: Crawled (200) <GET https://www.biblegateway.com/passage/?search=Psaumes%2039&version=LSG> (referer: https://www.biblegateway.com/passage/?search=Psaumes%2038&version=LSG)\n"
     ]
    },
    {
     "name": "stdout",
     "output_type": "stream",
     "text": [
      "--------------- ['/passage/?search=Psaumes%2040&version=LSG'] -----------------\n"
     ]
    },
    {
     "name": "stderr",
     "output_type": "stream",
     "text": [
      "2025-05-04 14:17:25 [scrapy.core.engine] DEBUG: Crawled (200) <GET https://www.biblegateway.com/passage/?search=Psaumes%2040&version=LSG> (referer: https://www.biblegateway.com/passage/?search=Psaumes%2039&version=LSG)\n"
     ]
    },
    {
     "name": "stdout",
     "output_type": "stream",
     "text": [
      "--------------- ['/passage/?search=Psaumes%2041&version=LSG'] -----------------\n"
     ]
    },
    {
     "name": "stderr",
     "output_type": "stream",
     "text": [
      "2025-05-04 14:17:26 [scrapy.core.engine] DEBUG: Crawled (200) <GET https://www.biblegateway.com/passage/?search=Psaumes%2041&version=LSG> (referer: https://www.biblegateway.com/passage/?search=Psaumes%2040&version=LSG)\n"
     ]
    },
    {
     "name": "stdout",
     "output_type": "stream",
     "text": [
      "--------------- ['/passage/?search=Psaumes%2042&version=LSG'] -----------------\n"
     ]
    },
    {
     "name": "stderr",
     "output_type": "stream",
     "text": [
      "2025-05-04 14:17:27 [scrapy.core.engine] DEBUG: Crawled (200) <GET https://www.biblegateway.com/passage/?search=Psaumes%2042&version=LSG> (referer: https://www.biblegateway.com/passage/?search=Psaumes%2041&version=LSG)\n"
     ]
    },
    {
     "name": "stdout",
     "output_type": "stream",
     "text": [
      "--------------- ['/passage/?search=Psaumes%2043&version=LSG'] -----------------\n"
     ]
    },
    {
     "name": "stderr",
     "output_type": "stream",
     "text": [
      "2025-05-04 14:17:27 [scrapy.core.engine] DEBUG: Crawled (200) <GET https://www.biblegateway.com/passage/?search=Psaumes%2043&version=LSG> (referer: https://www.biblegateway.com/passage/?search=Psaumes%2042&version=LSG)\n"
     ]
    },
    {
     "name": "stdout",
     "output_type": "stream",
     "text": [
      "--------------- ['/passage/?search=Psaumes%2044&version=LSG'] -----------------\n"
     ]
    },
    {
     "name": "stderr",
     "output_type": "stream",
     "text": [
      "2025-05-04 14:17:28 [scrapy.core.engine] DEBUG: Crawled (200) <GET https://www.biblegateway.com/passage/?search=Psaumes%2044&version=LSG> (referer: https://www.biblegateway.com/passage/?search=Psaumes%2043&version=LSG)\n"
     ]
    },
    {
     "name": "stdout",
     "output_type": "stream",
     "text": [
      "--------------- ['/passage/?search=Psaumes%2045&version=LSG'] -----------------\n"
     ]
    },
    {
     "name": "stderr",
     "output_type": "stream",
     "text": [
      "2025-05-04 14:17:29 [scrapy.core.engine] DEBUG: Crawled (200) <GET https://www.biblegateway.com/passage/?search=Psaumes%2045&version=LSG> (referer: https://www.biblegateway.com/passage/?search=Psaumes%2044&version=LSG)\n"
     ]
    },
    {
     "name": "stdout",
     "output_type": "stream",
     "text": [
      "--------------- ['/passage/?search=Psaumes%2046&version=LSG'] -----------------\n"
     ]
    },
    {
     "name": "stderr",
     "output_type": "stream",
     "text": [
      "2025-05-04 14:17:30 [scrapy.core.engine] DEBUG: Crawled (200) <GET https://www.biblegateway.com/passage/?search=Psaumes%2046&version=LSG> (referer: https://www.biblegateway.com/passage/?search=Psaumes%2045&version=LSG)\n"
     ]
    },
    {
     "name": "stdout",
     "output_type": "stream",
     "text": [
      "--------------- ['/passage/?search=Psaumes%2047&version=LSG'] -----------------\n"
     ]
    },
    {
     "name": "stderr",
     "output_type": "stream",
     "text": [
      "2025-05-04 14:17:31 [scrapy.core.engine] DEBUG: Crawled (200) <GET https://www.biblegateway.com/passage/?search=Psaumes%2047&version=LSG> (referer: https://www.biblegateway.com/passage/?search=Psaumes%2046&version=LSG)\n"
     ]
    },
    {
     "name": "stdout",
     "output_type": "stream",
     "text": [
      "--------------- ['/passage/?search=Psaumes%2048&version=LSG'] -----------------\n"
     ]
    },
    {
     "name": "stderr",
     "output_type": "stream",
     "text": [
      "2025-05-04 14:17:31 [scrapy.core.engine] DEBUG: Crawled (200) <GET https://www.biblegateway.com/passage/?search=Psaumes%2048&version=LSG> (referer: https://www.biblegateway.com/passage/?search=Psaumes%2047&version=LSG)\n"
     ]
    },
    {
     "name": "stdout",
     "output_type": "stream",
     "text": [
      "--------------- ['/passage/?search=Psaumes%2049&version=LSG'] -----------------\n"
     ]
    },
    {
     "name": "stderr",
     "output_type": "stream",
     "text": [
      "2025-05-04 14:17:32 [scrapy.core.engine] DEBUG: Crawled (200) <GET https://www.biblegateway.com/passage/?search=Psaumes%2049&version=LSG> (referer: https://www.biblegateway.com/passage/?search=Psaumes%2048&version=LSG)\n"
     ]
    },
    {
     "name": "stdout",
     "output_type": "stream",
     "text": [
      "--------------- ['/passage/?search=Psaumes%2050&version=LSG'] -----------------\n"
     ]
    },
    {
     "name": "stderr",
     "output_type": "stream",
     "text": [
      "2025-05-04 14:17:32 [scrapy.core.engine] DEBUG: Crawled (200) <GET https://www.biblegateway.com/passage/?search=Psaumes%2050&version=LSG> (referer: https://www.biblegateway.com/passage/?search=Psaumes%2049&version=LSG)\n"
     ]
    },
    {
     "name": "stdout",
     "output_type": "stream",
     "text": [
      "--------------- ['/passage/?search=Psaumes%2051&version=LSG'] -----------------\n"
     ]
    },
    {
     "name": "stderr",
     "output_type": "stream",
     "text": [
      "2025-05-04 14:17:33 [scrapy.core.engine] DEBUG: Crawled (200) <GET https://www.biblegateway.com/passage/?search=Psaumes%2051&version=LSG> (referer: https://www.biblegateway.com/passage/?search=Psaumes%2050&version=LSG)\n"
     ]
    },
    {
     "name": "stdout",
     "output_type": "stream",
     "text": [
      "--------------- ['/passage/?search=Psaumes%2052&version=LSG'] -----------------\n"
     ]
    },
    {
     "name": "stderr",
     "output_type": "stream",
     "text": [
      "2025-05-04 14:17:34 [scrapy.core.engine] DEBUG: Crawled (200) <GET https://www.biblegateway.com/passage/?search=Psaumes%2052&version=LSG> (referer: https://www.biblegateway.com/passage/?search=Psaumes%2051&version=LSG)\n"
     ]
    },
    {
     "name": "stdout",
     "output_type": "stream",
     "text": [
      "--------------- ['/passage/?search=Psaumes%2053&version=LSG'] -----------------\n"
     ]
    },
    {
     "name": "stderr",
     "output_type": "stream",
     "text": [
      "2025-05-04 14:17:34 [scrapy.core.engine] DEBUG: Crawled (200) <GET https://www.biblegateway.com/passage/?search=Psaumes%2053&version=LSG> (referer: https://www.biblegateway.com/passage/?search=Psaumes%2052&version=LSG)\n"
     ]
    },
    {
     "name": "stdout",
     "output_type": "stream",
     "text": [
      "--------------- ['/passage/?search=Psaumes%2054&version=LSG'] -----------------\n"
     ]
    },
    {
     "name": "stderr",
     "output_type": "stream",
     "text": [
      "2025-05-04 14:17:35 [scrapy.core.engine] DEBUG: Crawled (200) <GET https://www.biblegateway.com/passage/?search=Psaumes%2054&version=LSG> (referer: https://www.biblegateway.com/passage/?search=Psaumes%2053&version=LSG)\n"
     ]
    },
    {
     "name": "stdout",
     "output_type": "stream",
     "text": [
      "--------------- ['/passage/?search=Psaumes%2055&version=LSG'] -----------------\n"
     ]
    },
    {
     "name": "stderr",
     "output_type": "stream",
     "text": [
      "2025-05-04 14:17:36 [scrapy.core.engine] DEBUG: Crawled (200) <GET https://www.biblegateway.com/passage/?search=Psaumes%2055&version=LSG> (referer: https://www.biblegateway.com/passage/?search=Psaumes%2054&version=LSG)\n"
     ]
    },
    {
     "name": "stdout",
     "output_type": "stream",
     "text": [
      "--------------- ['/passage/?search=Psaumes%2056&version=LSG'] -----------------\n"
     ]
    },
    {
     "name": "stderr",
     "output_type": "stream",
     "text": [
      "2025-05-04 14:17:36 [scrapy.core.engine] DEBUG: Crawled (200) <GET https://www.biblegateway.com/passage/?search=Psaumes%2056&version=LSG> (referer: https://www.biblegateway.com/passage/?search=Psaumes%2055&version=LSG)\n"
     ]
    },
    {
     "name": "stdout",
     "output_type": "stream",
     "text": [
      "--------------- ['/passage/?search=Psaumes%2057&version=LSG'] -----------------\n"
     ]
    },
    {
     "name": "stderr",
     "output_type": "stream",
     "text": [
      "2025-05-04 14:17:37 [scrapy.core.engine] DEBUG: Crawled (200) <GET https://www.biblegateway.com/passage/?search=Psaumes%2057&version=LSG> (referer: https://www.biblegateway.com/passage/?search=Psaumes%2056&version=LSG)\n"
     ]
    },
    {
     "name": "stdout",
     "output_type": "stream",
     "text": [
      "--------------- ['/passage/?search=Psaumes%2058&version=LSG'] -----------------\n"
     ]
    },
    {
     "name": "stderr",
     "output_type": "stream",
     "text": [
      "2025-05-04 14:17:38 [scrapy.core.engine] DEBUG: Crawled (200) <GET https://www.biblegateway.com/passage/?search=Psaumes%2058&version=LSG> (referer: https://www.biblegateway.com/passage/?search=Psaumes%2057&version=LSG)\n"
     ]
    },
    {
     "name": "stdout",
     "output_type": "stream",
     "text": [
      "--------------- ['/passage/?search=Psaumes%2059&version=LSG'] -----------------\n"
     ]
    },
    {
     "name": "stderr",
     "output_type": "stream",
     "text": [
      "2025-05-04 14:17:39 [scrapy.core.engine] DEBUG: Crawled (200) <GET https://www.biblegateway.com/passage/?search=Psaumes%2059&version=LSG> (referer: https://www.biblegateway.com/passage/?search=Psaumes%2058&version=LSG)\n"
     ]
    },
    {
     "name": "stdout",
     "output_type": "stream",
     "text": [
      "--------------- ['/passage/?search=Psaumes%2060&version=LSG'] -----------------\n"
     ]
    },
    {
     "name": "stderr",
     "output_type": "stream",
     "text": [
      "2025-05-04 14:17:39 [scrapy.core.engine] DEBUG: Crawled (200) <GET https://www.biblegateway.com/passage/?search=Psaumes%2060&version=LSG> (referer: https://www.biblegateway.com/passage/?search=Psaumes%2059&version=LSG)\n"
     ]
    },
    {
     "name": "stdout",
     "output_type": "stream",
     "text": [
      "--------------- ['/passage/?search=Psaumes%2061&version=LSG'] -----------------\n"
     ]
    },
    {
     "name": "stderr",
     "output_type": "stream",
     "text": [
      "2025-05-04 14:17:40 [scrapy.core.engine] DEBUG: Crawled (200) <GET https://www.biblegateway.com/passage/?search=Psaumes%2061&version=LSG> (referer: https://www.biblegateway.com/passage/?search=Psaumes%2060&version=LSG)\n"
     ]
    },
    {
     "name": "stdout",
     "output_type": "stream",
     "text": [
      "--------------- ['/passage/?search=Psaumes%2062&version=LSG'] -----------------\n"
     ]
    },
    {
     "name": "stderr",
     "output_type": "stream",
     "text": [
      "2025-05-04 14:17:41 [scrapy.core.engine] DEBUG: Crawled (200) <GET https://www.biblegateway.com/passage/?search=Psaumes%2062&version=LSG> (referer: https://www.biblegateway.com/passage/?search=Psaumes%2061&version=LSG)\n"
     ]
    },
    {
     "name": "stdout",
     "output_type": "stream",
     "text": [
      "--------------- ['/passage/?search=Psaumes%2063&version=LSG'] -----------------\n"
     ]
    },
    {
     "name": "stderr",
     "output_type": "stream",
     "text": [
      "2025-05-04 14:17:42 [scrapy.core.engine] DEBUG: Crawled (200) <GET https://www.biblegateway.com/passage/?search=Psaumes%2063&version=LSG> (referer: https://www.biblegateway.com/passage/?search=Psaumes%2062&version=LSG)\n"
     ]
    },
    {
     "name": "stdout",
     "output_type": "stream",
     "text": [
      "--------------- ['/passage/?search=Psaumes%2064&version=LSG'] -----------------\n"
     ]
    },
    {
     "name": "stderr",
     "output_type": "stream",
     "text": [
      "2025-05-04 14:17:42 [scrapy.core.engine] DEBUG: Crawled (200) <GET https://www.biblegateway.com/passage/?search=Psaumes%2064&version=LSG> (referer: https://www.biblegateway.com/passage/?search=Psaumes%2063&version=LSG)\n"
     ]
    },
    {
     "name": "stdout",
     "output_type": "stream",
     "text": [
      "--------------- ['/passage/?search=Psaumes%2065&version=LSG'] -----------------\n"
     ]
    },
    {
     "name": "stderr",
     "output_type": "stream",
     "text": [
      "2025-05-04 14:17:43 [scrapy.core.engine] DEBUG: Crawled (200) <GET https://www.biblegateway.com/passage/?search=Psaumes%2065&version=LSG> (referer: https://www.biblegateway.com/passage/?search=Psaumes%2064&version=LSG)\n"
     ]
    },
    {
     "name": "stdout",
     "output_type": "stream",
     "text": [
      "--------------- ['/passage/?search=Psaumes%2066&version=LSG'] -----------------\n"
     ]
    },
    {
     "name": "stderr",
     "output_type": "stream",
     "text": [
      "2025-05-04 14:17:44 [scrapy.core.engine] DEBUG: Crawled (200) <GET https://www.biblegateway.com/passage/?search=Psaumes%2066&version=LSG> (referer: https://www.biblegateway.com/passage/?search=Psaumes%2065&version=LSG)\n"
     ]
    },
    {
     "name": "stdout",
     "output_type": "stream",
     "text": [
      "--------------- ['/passage/?search=Psaumes%2067&version=LSG'] -----------------\n"
     ]
    },
    {
     "name": "stderr",
     "output_type": "stream",
     "text": [
      "2025-05-04 14:17:44 [scrapy.core.engine] DEBUG: Crawled (200) <GET https://www.biblegateway.com/passage/?search=Psaumes%2067&version=LSG> (referer: https://www.biblegateway.com/passage/?search=Psaumes%2066&version=LSG)\n"
     ]
    },
    {
     "name": "stdout",
     "output_type": "stream",
     "text": [
      "--------------- ['/passage/?search=Psaumes%2068&version=LSG'] -----------------\n"
     ]
    },
    {
     "name": "stderr",
     "output_type": "stream",
     "text": [
      "2025-05-04 14:17:45 [scrapy.core.engine] DEBUG: Crawled (200) <GET https://www.biblegateway.com/passage/?search=Psaumes%2068&version=LSG> (referer: https://www.biblegateway.com/passage/?search=Psaumes%2067&version=LSG)\n"
     ]
    },
    {
     "name": "stdout",
     "output_type": "stream",
     "text": [
      "--------------- ['/passage/?search=Psaumes%2069&version=LSG'] -----------------\n"
     ]
    },
    {
     "name": "stderr",
     "output_type": "stream",
     "text": [
      "2025-05-04 14:17:45 [scrapy.core.engine] DEBUG: Crawled (200) <GET https://www.biblegateway.com/passage/?search=Psaumes%2069&version=LSG> (referer: https://www.biblegateway.com/passage/?search=Psaumes%2068&version=LSG)\n"
     ]
    },
    {
     "name": "stdout",
     "output_type": "stream",
     "text": [
      "--------------- ['/passage/?search=Psaumes%2070&version=LSG'] -----------------\n"
     ]
    },
    {
     "name": "stderr",
     "output_type": "stream",
     "text": [
      "2025-05-04 14:17:46 [scrapy.core.engine] DEBUG: Crawled (200) <GET https://www.biblegateway.com/passage/?search=Psaumes%2070&version=LSG> (referer: https://www.biblegateway.com/passage/?search=Psaumes%2069&version=LSG)\n"
     ]
    },
    {
     "name": "stdout",
     "output_type": "stream",
     "text": [
      "--------------- ['/passage/?search=Psaumes%2071&version=LSG'] -----------------\n"
     ]
    },
    {
     "name": "stderr",
     "output_type": "stream",
     "text": [
      "2025-05-04 14:17:47 [scrapy.core.engine] DEBUG: Crawled (200) <GET https://www.biblegateway.com/passage/?search=Psaumes%2071&version=LSG> (referer: https://www.biblegateway.com/passage/?search=Psaumes%2070&version=LSG)\n"
     ]
    },
    {
     "name": "stdout",
     "output_type": "stream",
     "text": [
      "--------------- ['/passage/?search=Psaumes%2072&version=LSG'] -----------------\n"
     ]
    },
    {
     "name": "stderr",
     "output_type": "stream",
     "text": [
      "2025-05-04 14:17:48 [scrapy.core.engine] DEBUG: Crawled (200) <GET https://www.biblegateway.com/passage/?search=Psaumes%2072&version=LSG> (referer: https://www.biblegateway.com/passage/?search=Psaumes%2071&version=LSG)\n"
     ]
    },
    {
     "name": "stdout",
     "output_type": "stream",
     "text": [
      "--------------- ['/passage/?search=Psaumes%2073&version=LSG'] -----------------\n"
     ]
    },
    {
     "name": "stderr",
     "output_type": "stream",
     "text": [
      "2025-05-04 14:17:48 [scrapy.core.engine] DEBUG: Crawled (200) <GET https://www.biblegateway.com/passage/?search=Psaumes%2073&version=LSG> (referer: https://www.biblegateway.com/passage/?search=Psaumes%2072&version=LSG)\n"
     ]
    },
    {
     "name": "stdout",
     "output_type": "stream",
     "text": [
      "--------------- ['/passage/?search=Psaumes%2074&version=LSG'] -----------------\n"
     ]
    },
    {
     "name": "stderr",
     "output_type": "stream",
     "text": [
      "2025-05-04 14:17:49 [scrapy.core.engine] DEBUG: Crawled (200) <GET https://www.biblegateway.com/passage/?search=Psaumes%2074&version=LSG> (referer: https://www.biblegateway.com/passage/?search=Psaumes%2073&version=LSG)\n"
     ]
    },
    {
     "name": "stdout",
     "output_type": "stream",
     "text": [
      "--------------- ['/passage/?search=Psaumes%2075&version=LSG'] -----------------\n"
     ]
    },
    {
     "name": "stderr",
     "output_type": "stream",
     "text": [
      "2025-05-04 14:17:50 [scrapy.core.engine] DEBUG: Crawled (200) <GET https://www.biblegateway.com/passage/?search=Psaumes%2075&version=LSG> (referer: https://www.biblegateway.com/passage/?search=Psaumes%2074&version=LSG)\n"
     ]
    },
    {
     "name": "stdout",
     "output_type": "stream",
     "text": [
      "--------------- ['/passage/?search=Psaumes%2076&version=LSG'] -----------------\n"
     ]
    },
    {
     "name": "stderr",
     "output_type": "stream",
     "text": [
      "2025-05-04 14:17:50 [scrapy.core.engine] DEBUG: Crawled (200) <GET https://www.biblegateway.com/passage/?search=Psaumes%2076&version=LSG> (referer: https://www.biblegateway.com/passage/?search=Psaumes%2075&version=LSG)\n"
     ]
    },
    {
     "name": "stdout",
     "output_type": "stream",
     "text": [
      "--------------- ['/passage/?search=Psaumes%2077&version=LSG'] -----------------\n"
     ]
    },
    {
     "name": "stderr",
     "output_type": "stream",
     "text": [
      "2025-05-04 14:17:51 [scrapy.core.engine] DEBUG: Crawled (200) <GET https://www.biblegateway.com/passage/?search=Psaumes%2077&version=LSG> (referer: https://www.biblegateway.com/passage/?search=Psaumes%2076&version=LSG)\n"
     ]
    },
    {
     "name": "stdout",
     "output_type": "stream",
     "text": [
      "--------------- ['/passage/?search=Psaumes%2078&version=LSG'] -----------------\n"
     ]
    },
    {
     "name": "stderr",
     "output_type": "stream",
     "text": [
      "2025-05-04 14:17:52 [scrapy.core.engine] DEBUG: Crawled (200) <GET https://www.biblegateway.com/passage/?search=Psaumes%2078&version=LSG> (referer: https://www.biblegateway.com/passage/?search=Psaumes%2077&version=LSG)\n"
     ]
    },
    {
     "name": "stdout",
     "output_type": "stream",
     "text": [
      "--------------- ['/passage/?search=Psaumes%2079&version=LSG'] -----------------\n"
     ]
    },
    {
     "name": "stderr",
     "output_type": "stream",
     "text": [
      "2025-05-04 14:17:52 [scrapy.core.engine] DEBUG: Crawled (200) <GET https://www.biblegateway.com/passage/?search=Psaumes%2079&version=LSG> (referer: https://www.biblegateway.com/passage/?search=Psaumes%2078&version=LSG)\n"
     ]
    },
    {
     "name": "stdout",
     "output_type": "stream",
     "text": [
      "--------------- ['/passage/?search=Psaumes%2080&version=LSG'] -----------------\n"
     ]
    },
    {
     "name": "stderr",
     "output_type": "stream",
     "text": [
      "2025-05-04 14:17:53 [scrapy.core.engine] DEBUG: Crawled (200) <GET https://www.biblegateway.com/passage/?search=Psaumes%2080&version=LSG> (referer: https://www.biblegateway.com/passage/?search=Psaumes%2079&version=LSG)\n"
     ]
    },
    {
     "name": "stdout",
     "output_type": "stream",
     "text": [
      "--------------- ['/passage/?search=Psaumes%2081&version=LSG'] -----------------\n"
     ]
    },
    {
     "name": "stderr",
     "output_type": "stream",
     "text": [
      "2025-05-04 14:17:54 [scrapy.core.engine] DEBUG: Crawled (200) <GET https://www.biblegateway.com/passage/?search=Psaumes%2081&version=LSG> (referer: https://www.biblegateway.com/passage/?search=Psaumes%2080&version=LSG)\n"
     ]
    },
    {
     "name": "stdout",
     "output_type": "stream",
     "text": [
      "--------------- ['/passage/?search=Psaumes%2082&version=LSG'] -----------------\n"
     ]
    },
    {
     "name": "stderr",
     "output_type": "stream",
     "text": [
      "2025-05-04 14:17:54 [scrapy.core.engine] DEBUG: Crawled (200) <GET https://www.biblegateway.com/passage/?search=Psaumes%2082&version=LSG> (referer: https://www.biblegateway.com/passage/?search=Psaumes%2081&version=LSG)\n"
     ]
    },
    {
     "name": "stdout",
     "output_type": "stream",
     "text": [
      "--------------- ['/passage/?search=Psaumes%2083&version=LSG'] -----------------\n"
     ]
    },
    {
     "name": "stderr",
     "output_type": "stream",
     "text": [
      "2025-05-04 14:17:55 [scrapy.core.engine] DEBUG: Crawled (200) <GET https://www.biblegateway.com/passage/?search=Psaumes%2083&version=LSG> (referer: https://www.biblegateway.com/passage/?search=Psaumes%2082&version=LSG)\n"
     ]
    },
    {
     "name": "stdout",
     "output_type": "stream",
     "text": [
      "--------------- ['/passage/?search=Psaumes%2084&version=LSG'] -----------------\n"
     ]
    },
    {
     "name": "stderr",
     "output_type": "stream",
     "text": [
      "2025-05-04 14:17:56 [scrapy.core.engine] DEBUG: Crawled (200) <GET https://www.biblegateway.com/passage/?search=Psaumes%2084&version=LSG> (referer: https://www.biblegateway.com/passage/?search=Psaumes%2083&version=LSG)\n"
     ]
    },
    {
     "name": "stdout",
     "output_type": "stream",
     "text": [
      "--------------- ['/passage/?search=Psaumes%2085&version=LSG'] -----------------\n"
     ]
    },
    {
     "name": "stderr",
     "output_type": "stream",
     "text": [
      "2025-05-04 14:17:56 [scrapy.core.engine] DEBUG: Crawled (200) <GET https://www.biblegateway.com/passage/?search=Psaumes%2085&version=LSG> (referer: https://www.biblegateway.com/passage/?search=Psaumes%2084&version=LSG)\n",
      "2025-05-04 14:17:57 [scrapy.extensions.logstats] INFO: Crawled 563 pages (at 87 pages/min), scraped 0 items (at 0 items/min)\n"
     ]
    },
    {
     "name": "stdout",
     "output_type": "stream",
     "text": [
      "--------------- ['/passage/?search=Psaumes%2086&version=LSG'] -----------------\n"
     ]
    },
    {
     "name": "stderr",
     "output_type": "stream",
     "text": [
      "2025-05-04 14:17:57 [scrapy.core.engine] DEBUG: Crawled (200) <GET https://www.biblegateway.com/passage/?search=Psaumes%2086&version=LSG> (referer: https://www.biblegateway.com/passage/?search=Psaumes%2085&version=LSG)\n"
     ]
    },
    {
     "name": "stdout",
     "output_type": "stream",
     "text": [
      "--------------- ['/passage/?search=Psaumes%2087&version=LSG'] -----------------\n"
     ]
    },
    {
     "name": "stderr",
     "output_type": "stream",
     "text": [
      "2025-05-04 14:17:57 [scrapy.core.engine] DEBUG: Crawled (200) <GET https://www.biblegateway.com/passage/?search=Psaumes%2087&version=LSG> (referer: https://www.biblegateway.com/passage/?search=Psaumes%2086&version=LSG)\n"
     ]
    },
    {
     "name": "stdout",
     "output_type": "stream",
     "text": [
      "--------------- ['/passage/?search=Psaumes%2088&version=LSG'] -----------------\n"
     ]
    },
    {
     "name": "stderr",
     "output_type": "stream",
     "text": [
      "2025-05-04 14:17:59 [scrapy.core.engine] DEBUG: Crawled (200) <GET https://www.biblegateway.com/passage/?search=Psaumes%2088&version=LSG> (referer: https://www.biblegateway.com/passage/?search=Psaumes%2087&version=LSG)\n"
     ]
    },
    {
     "name": "stdout",
     "output_type": "stream",
     "text": [
      "--------------- ['/passage/?search=Psaumes%2089&version=LSG'] -----------------\n"
     ]
    },
    {
     "name": "stderr",
     "output_type": "stream",
     "text": [
      "2025-05-04 14:18:00 [scrapy.core.engine] DEBUG: Crawled (200) <GET https://www.biblegateway.com/passage/?search=Psaumes%2089&version=LSG> (referer: https://www.biblegateway.com/passage/?search=Psaumes%2088&version=LSG)\n"
     ]
    },
    {
     "name": "stdout",
     "output_type": "stream",
     "text": [
      "--------------- ['/passage/?search=Psaumes%2090&version=LSG'] -----------------\n"
     ]
    },
    {
     "name": "stderr",
     "output_type": "stream",
     "text": [
      "2025-05-04 14:18:00 [scrapy.core.engine] DEBUG: Crawled (200) <GET https://www.biblegateway.com/passage/?search=Psaumes%2090&version=LSG> (referer: https://www.biblegateway.com/passage/?search=Psaumes%2089&version=LSG)\n"
     ]
    },
    {
     "name": "stdout",
     "output_type": "stream",
     "text": [
      "--------------- ['/passage/?search=Psaumes%2091&version=LSG'] -----------------\n"
     ]
    },
    {
     "name": "stderr",
     "output_type": "stream",
     "text": [
      "2025-05-04 14:18:01 [scrapy.core.engine] DEBUG: Crawled (200) <GET https://www.biblegateway.com/passage/?search=Psaumes%2091&version=LSG> (referer: https://www.biblegateway.com/passage/?search=Psaumes%2090&version=LSG)\n"
     ]
    },
    {
     "name": "stdout",
     "output_type": "stream",
     "text": [
      "--------------- ['/passage/?search=Psaumes%2092&version=LSG'] -----------------\n"
     ]
    },
    {
     "name": "stderr",
     "output_type": "stream",
     "text": [
      "2025-05-04 14:18:02 [scrapy.core.engine] DEBUG: Crawled (200) <GET https://www.biblegateway.com/passage/?search=Psaumes%2092&version=LSG> (referer: https://www.biblegateway.com/passage/?search=Psaumes%2091&version=LSG)\n"
     ]
    },
    {
     "name": "stdout",
     "output_type": "stream",
     "text": [
      "--------------- ['/passage/?search=Psaumes%2093&version=LSG'] -----------------\n"
     ]
    },
    {
     "name": "stderr",
     "output_type": "stream",
     "text": [
      "2025-05-04 14:18:03 [scrapy.core.engine] DEBUG: Crawled (200) <GET https://www.biblegateway.com/passage/?search=Psaumes%2093&version=LSG> (referer: https://www.biblegateway.com/passage/?search=Psaumes%2092&version=LSG)\n"
     ]
    },
    {
     "name": "stdout",
     "output_type": "stream",
     "text": [
      "--------------- ['/passage/?search=Psaumes%2094&version=LSG'] -----------------\n"
     ]
    },
    {
     "name": "stderr",
     "output_type": "stream",
     "text": [
      "2025-05-04 14:18:04 [scrapy.core.engine] DEBUG: Crawled (200) <GET https://www.biblegateway.com/passage/?search=Psaumes%2094&version=LSG> (referer: https://www.biblegateway.com/passage/?search=Psaumes%2093&version=LSG)\n"
     ]
    },
    {
     "name": "stdout",
     "output_type": "stream",
     "text": [
      "--------------- ['/passage/?search=Psaumes%2095&version=LSG'] -----------------\n"
     ]
    },
    {
     "name": "stderr",
     "output_type": "stream",
     "text": [
      "2025-05-04 14:18:04 [scrapy.core.engine] DEBUG: Crawled (200) <GET https://www.biblegateway.com/passage/?search=Psaumes%2095&version=LSG> (referer: https://www.biblegateway.com/passage/?search=Psaumes%2094&version=LSG)\n"
     ]
    },
    {
     "name": "stdout",
     "output_type": "stream",
     "text": [
      "--------------- ['/passage/?search=Psaumes%2096&version=LSG'] -----------------\n"
     ]
    },
    {
     "name": "stderr",
     "output_type": "stream",
     "text": [
      "2025-05-04 14:18:05 [scrapy.core.engine] DEBUG: Crawled (200) <GET https://www.biblegateway.com/passage/?search=Psaumes%2096&version=LSG> (referer: https://www.biblegateway.com/passage/?search=Psaumes%2095&version=LSG)\n"
     ]
    },
    {
     "name": "stdout",
     "output_type": "stream",
     "text": [
      "--------------- ['/passage/?search=Psaumes%2097&version=LSG'] -----------------\n"
     ]
    },
    {
     "name": "stderr",
     "output_type": "stream",
     "text": [
      "2025-05-04 14:18:06 [scrapy.core.engine] DEBUG: Crawled (200) <GET https://www.biblegateway.com/passage/?search=Psaumes%2097&version=LSG> (referer: https://www.biblegateway.com/passage/?search=Psaumes%2096&version=LSG)\n"
     ]
    },
    {
     "name": "stdout",
     "output_type": "stream",
     "text": [
      "--------------- ['/passage/?search=Psaumes%2098&version=LSG'] -----------------\n"
     ]
    },
    {
     "name": "stderr",
     "output_type": "stream",
     "text": [
      "2025-05-04 14:18:06 [scrapy.core.engine] DEBUG: Crawled (200) <GET https://www.biblegateway.com/passage/?search=Psaumes%2098&version=LSG> (referer: https://www.biblegateway.com/passage/?search=Psaumes%2097&version=LSG)\n"
     ]
    },
    {
     "name": "stdout",
     "output_type": "stream",
     "text": [
      "--------------- ['/passage/?search=Psaumes%2099&version=LSG'] -----------------\n"
     ]
    },
    {
     "name": "stderr",
     "output_type": "stream",
     "text": [
      "2025-05-04 14:18:07 [scrapy.core.engine] DEBUG: Crawled (200) <GET https://www.biblegateway.com/passage/?search=Psaumes%2099&version=LSG> (referer: https://www.biblegateway.com/passage/?search=Psaumes%2098&version=LSG)\n"
     ]
    },
    {
     "name": "stdout",
     "output_type": "stream",
     "text": [
      "--------------- ['/passage/?search=Psaumes%20100&version=LSG'] -----------------\n"
     ]
    },
    {
     "name": "stderr",
     "output_type": "stream",
     "text": [
      "2025-05-04 14:18:08 [scrapy.core.engine] DEBUG: Crawled (200) <GET https://www.biblegateway.com/passage/?search=Psaumes%20100&version=LSG> (referer: https://www.biblegateway.com/passage/?search=Psaumes%2099&version=LSG)\n"
     ]
    },
    {
     "name": "stdout",
     "output_type": "stream",
     "text": [
      "--------------- ['/passage/?search=Psaumes%20101&version=LSG'] -----------------\n"
     ]
    },
    {
     "name": "stderr",
     "output_type": "stream",
     "text": [
      "2025-05-04 14:18:09 [scrapy.core.engine] DEBUG: Crawled (200) <GET https://www.biblegateway.com/passage/?search=Psaumes%20101&version=LSG> (referer: https://www.biblegateway.com/passage/?search=Psaumes%20100&version=LSG)\n"
     ]
    },
    {
     "name": "stdout",
     "output_type": "stream",
     "text": [
      "--------------- ['/passage/?search=Psaumes%20102&version=LSG'] -----------------\n"
     ]
    },
    {
     "name": "stderr",
     "output_type": "stream",
     "text": [
      "2025-05-04 14:18:10 [scrapy.core.engine] DEBUG: Crawled (200) <GET https://www.biblegateway.com/passage/?search=Psaumes%20102&version=LSG> (referer: https://www.biblegateway.com/passage/?search=Psaumes%20101&version=LSG)\n"
     ]
    },
    {
     "name": "stdout",
     "output_type": "stream",
     "text": [
      "--------------- ['/passage/?search=Psaumes%20103&version=LSG'] -----------------\n"
     ]
    },
    {
     "name": "stderr",
     "output_type": "stream",
     "text": [
      "2025-05-04 14:18:10 [scrapy.core.engine] DEBUG: Crawled (200) <GET https://www.biblegateway.com/passage/?search=Psaumes%20103&version=LSG> (referer: https://www.biblegateway.com/passage/?search=Psaumes%20102&version=LSG)\n"
     ]
    },
    {
     "name": "stdout",
     "output_type": "stream",
     "text": [
      "--------------- ['/passage/?search=Psaumes%20104&version=LSG'] -----------------\n"
     ]
    },
    {
     "name": "stderr",
     "output_type": "stream",
     "text": [
      "2025-05-04 14:18:11 [scrapy.core.engine] DEBUG: Crawled (200) <GET https://www.biblegateway.com/passage/?search=Psaumes%20104&version=LSG> (referer: https://www.biblegateway.com/passage/?search=Psaumes%20103&version=LSG)\n"
     ]
    },
    {
     "name": "stdout",
     "output_type": "stream",
     "text": [
      "--------------- ['/passage/?search=Psaumes%20105&version=LSG'] -----------------\n"
     ]
    },
    {
     "name": "stderr",
     "output_type": "stream",
     "text": [
      "2025-05-04 14:18:12 [scrapy.core.engine] DEBUG: Crawled (200) <GET https://www.biblegateway.com/passage/?search=Psaumes%20105&version=LSG> (referer: https://www.biblegateway.com/passage/?search=Psaumes%20104&version=LSG)\n"
     ]
    },
    {
     "name": "stdout",
     "output_type": "stream",
     "text": [
      "--------------- ['/passage/?search=Psaumes%20106&version=LSG'] -----------------\n"
     ]
    },
    {
     "name": "stderr",
     "output_type": "stream",
     "text": [
      "2025-05-04 14:18:13 [scrapy.core.engine] DEBUG: Crawled (200) <GET https://www.biblegateway.com/passage/?search=Psaumes%20106&version=LSG> (referer: https://www.biblegateway.com/passage/?search=Psaumes%20105&version=LSG)\n"
     ]
    },
    {
     "name": "stdout",
     "output_type": "stream",
     "text": [
      "--------------- ['/passage/?search=Psaumes%20107&version=LSG'] -----------------\n"
     ]
    },
    {
     "name": "stderr",
     "output_type": "stream",
     "text": [
      "2025-05-04 14:18:14 [scrapy.core.engine] DEBUG: Crawled (200) <GET https://www.biblegateway.com/passage/?search=Psaumes%20107&version=LSG> (referer: https://www.biblegateway.com/passage/?search=Psaumes%20106&version=LSG)\n"
     ]
    },
    {
     "name": "stdout",
     "output_type": "stream",
     "text": [
      "--------------- ['/passage/?search=Psaumes%20108&version=LSG'] -----------------\n"
     ]
    },
    {
     "name": "stderr",
     "output_type": "stream",
     "text": [
      "2025-05-04 14:18:15 [scrapy.core.engine] DEBUG: Crawled (200) <GET https://www.biblegateway.com/passage/?search=Psaumes%20108&version=LSG> (referer: https://www.biblegateway.com/passage/?search=Psaumes%20107&version=LSG)\n"
     ]
    },
    {
     "name": "stdout",
     "output_type": "stream",
     "text": [
      "--------------- ['/passage/?search=Psaumes%20109&version=LSG'] -----------------\n"
     ]
    },
    {
     "name": "stderr",
     "output_type": "stream",
     "text": [
      "2025-05-04 14:18:15 [scrapy.core.engine] DEBUG: Crawled (200) <GET https://www.biblegateway.com/passage/?search=Psaumes%20109&version=LSG> (referer: https://www.biblegateway.com/passage/?search=Psaumes%20108&version=LSG)\n"
     ]
    },
    {
     "name": "stdout",
     "output_type": "stream",
     "text": [
      "--------------- ['/passage/?search=Psaumes%20110&version=LSG'] -----------------\n"
     ]
    },
    {
     "name": "stderr",
     "output_type": "stream",
     "text": [
      "2025-05-04 14:18:16 [scrapy.core.engine] DEBUG: Crawled (200) <GET https://www.biblegateway.com/passage/?search=Psaumes%20110&version=LSG> (referer: https://www.biblegateway.com/passage/?search=Psaumes%20109&version=LSG)\n"
     ]
    },
    {
     "name": "stdout",
     "output_type": "stream",
     "text": [
      "--------------- ['/passage/?search=Psaumes%20111&version=LSG'] -----------------\n"
     ]
    },
    {
     "name": "stderr",
     "output_type": "stream",
     "text": [
      "2025-05-04 14:18:16 [scrapy.core.engine] DEBUG: Crawled (200) <GET https://www.biblegateway.com/passage/?search=Psaumes%20111&version=LSG> (referer: https://www.biblegateway.com/passage/?search=Psaumes%20110&version=LSG)\n"
     ]
    },
    {
     "name": "stdout",
     "output_type": "stream",
     "text": [
      "--------------- ['/passage/?search=Psaumes%20112&version=LSG'] -----------------\n"
     ]
    },
    {
     "name": "stderr",
     "output_type": "stream",
     "text": [
      "2025-05-04 14:18:17 [scrapy.core.engine] DEBUG: Crawled (200) <GET https://www.biblegateway.com/passage/?search=Psaumes%20112&version=LSG> (referer: https://www.biblegateway.com/passage/?search=Psaumes%20111&version=LSG)\n"
     ]
    },
    {
     "name": "stdout",
     "output_type": "stream",
     "text": [
      "--------------- ['/passage/?search=Psaumes%20113&version=LSG'] -----------------\n"
     ]
    },
    {
     "name": "stderr",
     "output_type": "stream",
     "text": [
      "2025-05-04 14:18:18 [scrapy.core.engine] DEBUG: Crawled (200) <GET https://www.biblegateway.com/passage/?search=Psaumes%20113&version=LSG> (referer: https://www.biblegateway.com/passage/?search=Psaumes%20112&version=LSG)\n"
     ]
    },
    {
     "name": "stdout",
     "output_type": "stream",
     "text": [
      "--------------- ['/passage/?search=Psaumes%20114&version=LSG'] -----------------\n"
     ]
    },
    {
     "name": "stderr",
     "output_type": "stream",
     "text": [
      "2025-05-04 14:18:18 [scrapy.core.engine] DEBUG: Crawled (200) <GET https://www.biblegateway.com/passage/?search=Psaumes%20114&version=LSG> (referer: https://www.biblegateway.com/passage/?search=Psaumes%20113&version=LSG)\n"
     ]
    },
    {
     "name": "stdout",
     "output_type": "stream",
     "text": [
      "--------------- ['/passage/?search=Psaumes%20115&version=LSG'] -----------------\n"
     ]
    },
    {
     "name": "stderr",
     "output_type": "stream",
     "text": [
      "2025-05-04 14:18:19 [scrapy.core.engine] DEBUG: Crawled (200) <GET https://www.biblegateway.com/passage/?search=Psaumes%20115&version=LSG> (referer: https://www.biblegateway.com/passage/?search=Psaumes%20114&version=LSG)\n"
     ]
    },
    {
     "name": "stdout",
     "output_type": "stream",
     "text": [
      "--------------- ['/passage/?search=Psaumes%20116&version=LSG'] -----------------\n"
     ]
    },
    {
     "name": "stderr",
     "output_type": "stream",
     "text": [
      "2025-05-04 14:18:19 [scrapy.core.engine] DEBUG: Crawled (200) <GET https://www.biblegateway.com/passage/?search=Psaumes%20116&version=LSG> (referer: https://www.biblegateway.com/passage/?search=Psaumes%20115&version=LSG)\n"
     ]
    },
    {
     "name": "stdout",
     "output_type": "stream",
     "text": [
      "--------------- ['/passage/?search=Psaumes%20117&version=LSG'] -----------------\n"
     ]
    },
    {
     "name": "stderr",
     "output_type": "stream",
     "text": [
      "2025-05-04 14:18:20 [scrapy.core.engine] DEBUG: Crawled (200) <GET https://www.biblegateway.com/passage/?search=Psaumes%20117&version=LSG> (referer: https://www.biblegateway.com/passage/?search=Psaumes%20116&version=LSG)\n"
     ]
    },
    {
     "name": "stdout",
     "output_type": "stream",
     "text": [
      "--------------- ['/passage/?search=Psaumes%20118&version=LSG'] -----------------\n"
     ]
    },
    {
     "name": "stderr",
     "output_type": "stream",
     "text": [
      "2025-05-04 14:18:20 [scrapy.core.engine] DEBUG: Crawled (200) <GET https://www.biblegateway.com/passage/?search=Psaumes%20118&version=LSG> (referer: https://www.biblegateway.com/passage/?search=Psaumes%20117&version=LSG)\n"
     ]
    },
    {
     "name": "stdout",
     "output_type": "stream",
     "text": [
      "--------------- ['/passage/?search=Psaumes%20119&version=LSG'] -----------------\n"
     ]
    },
    {
     "name": "stderr",
     "output_type": "stream",
     "text": [
      "2025-05-04 14:18:21 [scrapy.core.engine] DEBUG: Crawled (200) <GET https://www.biblegateway.com/passage/?search=Psaumes%20119&version=LSG> (referer: https://www.biblegateway.com/passage/?search=Psaumes%20118&version=LSG)\n"
     ]
    },
    {
     "name": "stdout",
     "output_type": "stream",
     "text": [
      "--------------- ['/passage/?search=Psaumes%20120&version=LSG'] -----------------\n"
     ]
    },
    {
     "name": "stderr",
     "output_type": "stream",
     "text": [
      "2025-05-04 14:18:22 [scrapy.core.engine] DEBUG: Crawled (200) <GET https://www.biblegateway.com/passage/?search=Psaumes%20120&version=LSG> (referer: https://www.biblegateway.com/passage/?search=Psaumes%20119&version=LSG)\n"
     ]
    },
    {
     "name": "stdout",
     "output_type": "stream",
     "text": [
      "--------------- ['/passage/?search=Psaumes%20121&version=LSG'] -----------------\n"
     ]
    },
    {
     "name": "stderr",
     "output_type": "stream",
     "text": [
      "2025-05-04 14:18:23 [scrapy.core.engine] DEBUG: Crawled (200) <GET https://www.biblegateway.com/passage/?search=Psaumes%20121&version=LSG> (referer: https://www.biblegateway.com/passage/?search=Psaumes%20120&version=LSG)\n"
     ]
    },
    {
     "name": "stdout",
     "output_type": "stream",
     "text": [
      "--------------- ['/passage/?search=Psaumes%20122&version=LSG'] -----------------\n"
     ]
    },
    {
     "name": "stderr",
     "output_type": "stream",
     "text": [
      "2025-05-04 14:18:23 [scrapy.core.engine] DEBUG: Crawled (200) <GET https://www.biblegateway.com/passage/?search=Psaumes%20122&version=LSG> (referer: https://www.biblegateway.com/passage/?search=Psaumes%20121&version=LSG)\n"
     ]
    },
    {
     "name": "stdout",
     "output_type": "stream",
     "text": [
      "--------------- ['/passage/?search=Psaumes%20123&version=LSG'] -----------------\n"
     ]
    },
    {
     "name": "stderr",
     "output_type": "stream",
     "text": [
      "2025-05-04 14:18:24 [scrapy.core.engine] DEBUG: Crawled (200) <GET https://www.biblegateway.com/passage/?search=Psaumes%20123&version=LSG> (referer: https://www.biblegateway.com/passage/?search=Psaumes%20122&version=LSG)\n"
     ]
    },
    {
     "name": "stdout",
     "output_type": "stream",
     "text": [
      "--------------- ['/passage/?search=Psaumes%20124&version=LSG'] -----------------\n"
     ]
    },
    {
     "name": "stderr",
     "output_type": "stream",
     "text": [
      "2025-05-04 14:18:25 [scrapy.core.engine] DEBUG: Crawled (200) <GET https://www.biblegateway.com/passage/?search=Psaumes%20124&version=LSG> (referer: https://www.biblegateway.com/passage/?search=Psaumes%20123&version=LSG)\n"
     ]
    },
    {
     "name": "stdout",
     "output_type": "stream",
     "text": [
      "--------------- ['/passage/?search=Psaumes%20125&version=LSG'] -----------------\n"
     ]
    },
    {
     "name": "stderr",
     "output_type": "stream",
     "text": [
      "2025-05-04 14:18:26 [scrapy.core.engine] DEBUG: Crawled (200) <GET https://www.biblegateway.com/passage/?search=Psaumes%20125&version=LSG> (referer: https://www.biblegateway.com/passage/?search=Psaumes%20124&version=LSG)\n"
     ]
    },
    {
     "name": "stdout",
     "output_type": "stream",
     "text": [
      "--------------- ['/passage/?search=Psaumes%20126&version=LSG'] -----------------\n"
     ]
    },
    {
     "name": "stderr",
     "output_type": "stream",
     "text": [
      "2025-05-04 14:18:26 [scrapy.core.engine] DEBUG: Crawled (200) <GET https://www.biblegateway.com/passage/?search=Psaumes%20126&version=LSG> (referer: https://www.biblegateway.com/passage/?search=Psaumes%20125&version=LSG)\n"
     ]
    },
    {
     "name": "stdout",
     "output_type": "stream",
     "text": [
      "--------------- ['/passage/?search=Psaumes%20127&version=LSG'] -----------------\n"
     ]
    },
    {
     "name": "stderr",
     "output_type": "stream",
     "text": [
      "2025-05-04 14:18:27 [scrapy.core.engine] DEBUG: Crawled (200) <GET https://www.biblegateway.com/passage/?search=Psaumes%20127&version=LSG> (referer: https://www.biblegateway.com/passage/?search=Psaumes%20126&version=LSG)\n"
     ]
    },
    {
     "name": "stdout",
     "output_type": "stream",
     "text": [
      "--------------- ['/passage/?search=Psaumes%20128&version=LSG'] -----------------\n"
     ]
    },
    {
     "name": "stderr",
     "output_type": "stream",
     "text": [
      "2025-05-04 14:18:27 [scrapy.core.engine] DEBUG: Crawled (200) <GET https://www.biblegateway.com/passage/?search=Psaumes%20128&version=LSG> (referer: https://www.biblegateway.com/passage/?search=Psaumes%20127&version=LSG)\n"
     ]
    },
    {
     "name": "stdout",
     "output_type": "stream",
     "text": [
      "--------------- ['/passage/?search=Psaumes%20129&version=LSG'] -----------------\n"
     ]
    },
    {
     "name": "stderr",
     "output_type": "stream",
     "text": [
      "2025-05-04 14:18:28 [scrapy.core.engine] DEBUG: Crawled (200) <GET https://www.biblegateway.com/passage/?search=Psaumes%20129&version=LSG> (referer: https://www.biblegateway.com/passage/?search=Psaumes%20128&version=LSG)\n"
     ]
    },
    {
     "name": "stdout",
     "output_type": "stream",
     "text": [
      "--------------- ['/passage/?search=Psaumes%20130&version=LSG'] -----------------\n"
     ]
    },
    {
     "name": "stderr",
     "output_type": "stream",
     "text": [
      "2025-05-04 14:18:29 [scrapy.core.engine] DEBUG: Crawled (200) <GET https://www.biblegateway.com/passage/?search=Psaumes%20130&version=LSG> (referer: https://www.biblegateway.com/passage/?search=Psaumes%20129&version=LSG)\n"
     ]
    },
    {
     "name": "stdout",
     "output_type": "stream",
     "text": [
      "--------------- ['/passage/?search=Psaumes%20131&version=LSG'] -----------------\n"
     ]
    },
    {
     "name": "stderr",
     "output_type": "stream",
     "text": [
      "2025-05-04 14:18:29 [scrapy.core.engine] DEBUG: Crawled (200) <GET https://www.biblegateway.com/passage/?search=Psaumes%20131&version=LSG> (referer: https://www.biblegateway.com/passage/?search=Psaumes%20130&version=LSG)\n"
     ]
    },
    {
     "name": "stdout",
     "output_type": "stream",
     "text": [
      "--------------- ['/passage/?search=Psaumes%20132&version=LSG'] -----------------\n"
     ]
    },
    {
     "name": "stderr",
     "output_type": "stream",
     "text": [
      "2025-05-04 14:18:30 [scrapy.core.engine] DEBUG: Crawled (200) <GET https://www.biblegateway.com/passage/?search=Psaumes%20132&version=LSG> (referer: https://www.biblegateway.com/passage/?search=Psaumes%20131&version=LSG)\n"
     ]
    },
    {
     "name": "stdout",
     "output_type": "stream",
     "text": [
      "--------------- ['/passage/?search=Psaumes%20133&version=LSG'] -----------------\n"
     ]
    },
    {
     "name": "stderr",
     "output_type": "stream",
     "text": [
      "2025-05-04 14:18:31 [scrapy.core.engine] DEBUG: Crawled (200) <GET https://www.biblegateway.com/passage/?search=Psaumes%20133&version=LSG> (referer: https://www.biblegateway.com/passage/?search=Psaumes%20132&version=LSG)\n"
     ]
    },
    {
     "name": "stdout",
     "output_type": "stream",
     "text": [
      "--------------- ['/passage/?search=Psaumes%20134&version=LSG'] -----------------\n"
     ]
    },
    {
     "name": "stderr",
     "output_type": "stream",
     "text": [
      "2025-05-04 14:18:31 [scrapy.core.engine] DEBUG: Crawled (200) <GET https://www.biblegateway.com/passage/?search=Psaumes%20134&version=LSG> (referer: https://www.biblegateway.com/passage/?search=Psaumes%20133&version=LSG)\n"
     ]
    },
    {
     "name": "stdout",
     "output_type": "stream",
     "text": [
      "--------------- ['/passage/?search=Psaumes%20135&version=LSG'] -----------------\n"
     ]
    },
    {
     "name": "stderr",
     "output_type": "stream",
     "text": [
      "2025-05-04 14:18:32 [scrapy.core.engine] DEBUG: Crawled (200) <GET https://www.biblegateway.com/passage/?search=Psaumes%20135&version=LSG> (referer: https://www.biblegateway.com/passage/?search=Psaumes%20134&version=LSG)\n"
     ]
    },
    {
     "name": "stdout",
     "output_type": "stream",
     "text": [
      "--------------- ['/passage/?search=Psaumes%20136&version=LSG'] -----------------\n"
     ]
    },
    {
     "name": "stderr",
     "output_type": "stream",
     "text": [
      "2025-05-04 14:18:33 [scrapy.core.engine] DEBUG: Crawled (200) <GET https://www.biblegateway.com/passage/?search=Psaumes%20136&version=LSG> (referer: https://www.biblegateway.com/passage/?search=Psaumes%20135&version=LSG)\n"
     ]
    },
    {
     "name": "stdout",
     "output_type": "stream",
     "text": [
      "--------------- ['/passage/?search=Psaumes%20137&version=LSG'] -----------------\n"
     ]
    },
    {
     "name": "stderr",
     "output_type": "stream",
     "text": [
      "2025-05-04 14:18:34 [scrapy.core.engine] DEBUG: Crawled (200) <GET https://www.biblegateway.com/passage/?search=Psaumes%20137&version=LSG> (referer: https://www.biblegateway.com/passage/?search=Psaumes%20136&version=LSG)\n"
     ]
    },
    {
     "name": "stdout",
     "output_type": "stream",
     "text": [
      "--------------- ['/passage/?search=Psaumes%20138&version=LSG'] -----------------\n"
     ]
    },
    {
     "name": "stderr",
     "output_type": "stream",
     "text": [
      "2025-05-04 14:18:35 [scrapy.core.engine] DEBUG: Crawled (200) <GET https://www.biblegateway.com/passage/?search=Psaumes%20138&version=LSG> (referer: https://www.biblegateway.com/passage/?search=Psaumes%20137&version=LSG)\n"
     ]
    },
    {
     "name": "stdout",
     "output_type": "stream",
     "text": [
      "--------------- ['/passage/?search=Psaumes%20139&version=LSG'] -----------------\n"
     ]
    },
    {
     "name": "stderr",
     "output_type": "stream",
     "text": [
      "2025-05-04 14:18:35 [scrapy.core.engine] DEBUG: Crawled (200) <GET https://www.biblegateway.com/passage/?search=Psaumes%20139&version=LSG> (referer: https://www.biblegateway.com/passage/?search=Psaumes%20138&version=LSG)\n"
     ]
    },
    {
     "name": "stdout",
     "output_type": "stream",
     "text": [
      "--------------- ['/passage/?search=Psaumes%20140&version=LSG'] -----------------\n"
     ]
    },
    {
     "name": "stderr",
     "output_type": "stream",
     "text": [
      "2025-05-04 14:18:36 [scrapy.core.engine] DEBUG: Crawled (200) <GET https://www.biblegateway.com/passage/?search=Psaumes%20140&version=LSG> (referer: https://www.biblegateway.com/passage/?search=Psaumes%20139&version=LSG)\n"
     ]
    },
    {
     "name": "stdout",
     "output_type": "stream",
     "text": [
      "--------------- ['/passage/?search=Psaumes%20141&version=LSG'] -----------------\n"
     ]
    },
    {
     "name": "stderr",
     "output_type": "stream",
     "text": [
      "2025-05-04 14:18:37 [scrapy.core.engine] DEBUG: Crawled (200) <GET https://www.biblegateway.com/passage/?search=Psaumes%20141&version=LSG> (referer: https://www.biblegateway.com/passage/?search=Psaumes%20140&version=LSG)\n"
     ]
    },
    {
     "name": "stdout",
     "output_type": "stream",
     "text": [
      "--------------- ['/passage/?search=Psaumes%20142&version=LSG'] -----------------\n"
     ]
    },
    {
     "name": "stderr",
     "output_type": "stream",
     "text": [
      "2025-05-04 14:18:38 [scrapy.core.engine] DEBUG: Crawled (200) <GET https://www.biblegateway.com/passage/?search=Psaumes%20142&version=LSG> (referer: https://www.biblegateway.com/passage/?search=Psaumes%20141&version=LSG)\n"
     ]
    },
    {
     "name": "stdout",
     "output_type": "stream",
     "text": [
      "--------------- ['/passage/?search=Psaumes%20143&version=LSG'] -----------------\n"
     ]
    },
    {
     "name": "stderr",
     "output_type": "stream",
     "text": [
      "2025-05-04 14:18:38 [scrapy.core.engine] DEBUG: Crawled (200) <GET https://www.biblegateway.com/passage/?search=Psaumes%20143&version=LSG> (referer: https://www.biblegateway.com/passage/?search=Psaumes%20142&version=LSG)\n"
     ]
    },
    {
     "name": "stdout",
     "output_type": "stream",
     "text": [
      "--------------- ['/passage/?search=Psaumes%20144&version=LSG'] -----------------\n"
     ]
    },
    {
     "name": "stderr",
     "output_type": "stream",
     "text": [
      "2025-05-04 14:18:39 [scrapy.core.engine] DEBUG: Crawled (200) <GET https://www.biblegateway.com/passage/?search=Psaumes%20144&version=LSG> (referer: https://www.biblegateway.com/passage/?search=Psaumes%20143&version=LSG)\n"
     ]
    },
    {
     "name": "stdout",
     "output_type": "stream",
     "text": [
      "--------------- ['/passage/?search=Psaumes%20145&version=LSG'] -----------------\n"
     ]
    },
    {
     "name": "stderr",
     "output_type": "stream",
     "text": [
      "2025-05-04 14:18:40 [scrapy.core.engine] DEBUG: Crawled (200) <GET https://www.biblegateway.com/passage/?search=Psaumes%20145&version=LSG> (referer: https://www.biblegateway.com/passage/?search=Psaumes%20144&version=LSG)\n"
     ]
    },
    {
     "name": "stdout",
     "output_type": "stream",
     "text": [
      "--------------- ['/passage/?search=Psaumes%20146&version=LSG'] -----------------\n"
     ]
    },
    {
     "name": "stderr",
     "output_type": "stream",
     "text": [
      "2025-05-04 14:18:40 [scrapy.core.engine] DEBUG: Crawled (200) <GET https://www.biblegateway.com/passage/?search=Psaumes%20146&version=LSG> (referer: https://www.biblegateway.com/passage/?search=Psaumes%20145&version=LSG)\n"
     ]
    },
    {
     "name": "stdout",
     "output_type": "stream",
     "text": [
      "--------------- ['/passage/?search=Psaumes%20147&version=LSG'] -----------------\n"
     ]
    },
    {
     "name": "stderr",
     "output_type": "stream",
     "text": [
      "2025-05-04 14:18:41 [scrapy.core.engine] DEBUG: Crawled (200) <GET https://www.biblegateway.com/passage/?search=Psaumes%20147&version=LSG> (referer: https://www.biblegateway.com/passage/?search=Psaumes%20146&version=LSG)\n"
     ]
    },
    {
     "name": "stdout",
     "output_type": "stream",
     "text": [
      "--------------- ['/passage/?search=Psaumes%20148&version=LSG'] -----------------\n"
     ]
    },
    {
     "name": "stderr",
     "output_type": "stream",
     "text": [
      "2025-05-04 14:18:41 [scrapy.core.engine] DEBUG: Crawled (200) <GET https://www.biblegateway.com/passage/?search=Psaumes%20148&version=LSG> (referer: https://www.biblegateway.com/passage/?search=Psaumes%20147&version=LSG)\n"
     ]
    },
    {
     "name": "stdout",
     "output_type": "stream",
     "text": [
      "--------------- ['/passage/?search=Psaumes%20149&version=LSG'] -----------------\n"
     ]
    },
    {
     "name": "stderr",
     "output_type": "stream",
     "text": [
      "2025-05-04 14:18:42 [scrapy.core.engine] DEBUG: Crawled (200) <GET https://www.biblegateway.com/passage/?search=Psaumes%20149&version=LSG> (referer: https://www.biblegateway.com/passage/?search=Psaumes%20148&version=LSG)\n"
     ]
    },
    {
     "name": "stdout",
     "output_type": "stream",
     "text": [
      "--------------- ['/passage/?search=Psaumes%20150&version=LSG'] -----------------\n"
     ]
    },
    {
     "name": "stderr",
     "output_type": "stream",
     "text": [
      "2025-05-04 14:18:43 [scrapy.core.engine] DEBUG: Crawled (200) <GET https://www.biblegateway.com/passage/?search=Psaumes%20150&version=LSG> (referer: https://www.biblegateway.com/passage/?search=Psaumes%20149&version=LSG)\n"
     ]
    },
    {
     "name": "stdout",
     "output_type": "stream",
     "text": [
      "--------------- ['/passage/?search=Proverbes%201&version=LSG'] -----------------\n"
     ]
    },
    {
     "name": "stderr",
     "output_type": "stream",
     "text": [
      "2025-05-04 14:18:43 [scrapy.core.engine] DEBUG: Crawled (200) <GET https://www.biblegateway.com/passage/?search=Proverbes%201&version=LSG> (referer: https://www.biblegateway.com/passage/?search=Psaumes%20150&version=LSG)\n"
     ]
    },
    {
     "name": "stdout",
     "output_type": "stream",
     "text": [
      "--------------- ['/passage/?search=Proverbes%202&version=LSG'] -----------------\n"
     ]
    },
    {
     "name": "stderr",
     "output_type": "stream",
     "text": [
      "2025-05-04 14:18:44 [scrapy.core.engine] DEBUG: Crawled (200) <GET https://www.biblegateway.com/passage/?search=Proverbes%202&version=LSG> (referer: https://www.biblegateway.com/passage/?search=Proverbes%201&version=LSG)\n"
     ]
    },
    {
     "name": "stdout",
     "output_type": "stream",
     "text": [
      "--------------- ['/passage/?search=Proverbes%203&version=LSG'] -----------------\n"
     ]
    },
    {
     "name": "stderr",
     "output_type": "stream",
     "text": [
      "2025-05-04 14:18:45 [scrapy.core.engine] DEBUG: Crawled (200) <GET https://www.biblegateway.com/passage/?search=Proverbes%203&version=LSG> (referer: https://www.biblegateway.com/passage/?search=Proverbes%202&version=LSG)\n"
     ]
    },
    {
     "name": "stdout",
     "output_type": "stream",
     "text": [
      "--------------- ['/passage/?search=Proverbes%204&version=LSG'] -----------------\n"
     ]
    },
    {
     "name": "stderr",
     "output_type": "stream",
     "text": [
      "2025-05-04 14:18:45 [scrapy.core.engine] DEBUG: Crawled (200) <GET https://www.biblegateway.com/passage/?search=Proverbes%204&version=LSG> (referer: https://www.biblegateway.com/passage/?search=Proverbes%203&version=LSG)\n"
     ]
    },
    {
     "name": "stdout",
     "output_type": "stream",
     "text": [
      "--------------- ['/passage/?search=Proverbes%205&version=LSG'] -----------------\n"
     ]
    },
    {
     "name": "stderr",
     "output_type": "stream",
     "text": [
      "2025-05-04 14:18:46 [scrapy.core.engine] DEBUG: Crawled (200) <GET https://www.biblegateway.com/passage/?search=Proverbes%205&version=LSG> (referer: https://www.biblegateway.com/passage/?search=Proverbes%204&version=LSG)\n"
     ]
    },
    {
     "name": "stdout",
     "output_type": "stream",
     "text": [
      "--------------- ['/passage/?search=Proverbes%206&version=LSG'] -----------------\n"
     ]
    },
    {
     "name": "stderr",
     "output_type": "stream",
     "text": [
      "2025-05-04 14:18:46 [scrapy.core.engine] DEBUG: Crawled (200) <GET https://www.biblegateway.com/passage/?search=Proverbes%206&version=LSG> (referer: https://www.biblegateway.com/passage/?search=Proverbes%205&version=LSG)\n"
     ]
    },
    {
     "name": "stdout",
     "output_type": "stream",
     "text": [
      "--------------- ['/passage/?search=Proverbes%207&version=LSG'] -----------------\n"
     ]
    },
    {
     "name": "stderr",
     "output_type": "stream",
     "text": [
      "2025-05-04 14:18:47 [scrapy.core.engine] DEBUG: Crawled (200) <GET https://www.biblegateway.com/passage/?search=Proverbes%207&version=LSG> (referer: https://www.biblegateway.com/passage/?search=Proverbes%206&version=LSG)\n"
     ]
    },
    {
     "name": "stdout",
     "output_type": "stream",
     "text": [
      "--------------- ['/passage/?search=Proverbes%208&version=LSG'] -----------------\n"
     ]
    },
    {
     "name": "stderr",
     "output_type": "stream",
     "text": [
      "2025-05-04 14:18:48 [scrapy.core.engine] DEBUG: Crawled (200) <GET https://www.biblegateway.com/passage/?search=Proverbes%208&version=LSG> (referer: https://www.biblegateway.com/passage/?search=Proverbes%207&version=LSG)\n"
     ]
    },
    {
     "name": "stdout",
     "output_type": "stream",
     "text": [
      "--------------- ['/passage/?search=Proverbes%209&version=LSG'] -----------------\n"
     ]
    },
    {
     "name": "stderr",
     "output_type": "stream",
     "text": [
      "2025-05-04 14:18:49 [scrapy.core.engine] DEBUG: Crawled (200) <GET https://www.biblegateway.com/passage/?search=Proverbes%209&version=LSG> (referer: https://www.biblegateway.com/passage/?search=Proverbes%208&version=LSG)\n"
     ]
    },
    {
     "name": "stdout",
     "output_type": "stream",
     "text": [
      "--------------- ['/passage/?search=Proverbes%2010&version=LSG'] -----------------\n"
     ]
    },
    {
     "name": "stderr",
     "output_type": "stream",
     "text": [
      "2025-05-04 14:18:49 [scrapy.core.engine] DEBUG: Crawled (200) <GET https://www.biblegateway.com/passage/?search=Proverbes%2010&version=LSG> (referer: https://www.biblegateway.com/passage/?search=Proverbes%209&version=LSG)\n"
     ]
    },
    {
     "name": "stdout",
     "output_type": "stream",
     "text": [
      "--------------- ['/passage/?search=Proverbes%2011&version=LSG'] -----------------\n"
     ]
    },
    {
     "name": "stderr",
     "output_type": "stream",
     "text": [
      "2025-05-04 14:18:50 [scrapy.core.engine] DEBUG: Crawled (200) <GET https://www.biblegateway.com/passage/?search=Proverbes%2011&version=LSG> (referer: https://www.biblegateway.com/passage/?search=Proverbes%2010&version=LSG)\n"
     ]
    },
    {
     "name": "stdout",
     "output_type": "stream",
     "text": [
      "--------------- ['/passage/?search=Proverbes%2012&version=LSG'] -----------------\n"
     ]
    },
    {
     "name": "stderr",
     "output_type": "stream",
     "text": [
      "2025-05-04 14:18:50 [scrapy.core.engine] DEBUG: Crawled (200) <GET https://www.biblegateway.com/passage/?search=Proverbes%2012&version=LSG> (referer: https://www.biblegateway.com/passage/?search=Proverbes%2011&version=LSG)\n"
     ]
    },
    {
     "name": "stdout",
     "output_type": "stream",
     "text": [
      "--------------- ['/passage/?search=Proverbes%2013&version=LSG'] -----------------\n"
     ]
    },
    {
     "name": "stderr",
     "output_type": "stream",
     "text": [
      "2025-05-04 14:18:51 [scrapy.core.engine] DEBUG: Crawled (200) <GET https://www.biblegateway.com/passage/?search=Proverbes%2013&version=LSG> (referer: https://www.biblegateway.com/passage/?search=Proverbes%2012&version=LSG)\n"
     ]
    },
    {
     "name": "stdout",
     "output_type": "stream",
     "text": [
      "--------------- ['/passage/?search=Proverbes%2014&version=LSG'] -----------------\n"
     ]
    },
    {
     "name": "stderr",
     "output_type": "stream",
     "text": [
      "2025-05-04 14:18:52 [scrapy.core.engine] DEBUG: Crawled (200) <GET https://www.biblegateway.com/passage/?search=Proverbes%2014&version=LSG> (referer: https://www.biblegateway.com/passage/?search=Proverbes%2013&version=LSG)\n"
     ]
    },
    {
     "name": "stdout",
     "output_type": "stream",
     "text": [
      "--------------- ['/passage/?search=Proverbes%2015&version=LSG'] -----------------\n"
     ]
    },
    {
     "name": "stderr",
     "output_type": "stream",
     "text": [
      "2025-05-04 14:18:52 [scrapy.core.engine] DEBUG: Crawled (200) <GET https://www.biblegateway.com/passage/?search=Proverbes%2015&version=LSG> (referer: https://www.biblegateway.com/passage/?search=Proverbes%2014&version=LSG)\n"
     ]
    },
    {
     "name": "stdout",
     "output_type": "stream",
     "text": [
      "--------------- ['/passage/?search=Proverbes%2016&version=LSG'] -----------------\n"
     ]
    },
    {
     "name": "stderr",
     "output_type": "stream",
     "text": [
      "2025-05-04 14:18:53 [scrapy.core.engine] DEBUG: Crawled (200) <GET https://www.biblegateway.com/passage/?search=Proverbes%2016&version=LSG> (referer: https://www.biblegateway.com/passage/?search=Proverbes%2015&version=LSG)\n"
     ]
    },
    {
     "name": "stdout",
     "output_type": "stream",
     "text": [
      "--------------- ['/passage/?search=Proverbes%2017&version=LSG'] -----------------\n"
     ]
    },
    {
     "name": "stderr",
     "output_type": "stream",
     "text": [
      "2025-05-04 14:18:54 [scrapy.core.engine] DEBUG: Crawled (200) <GET https://www.biblegateway.com/passage/?search=Proverbes%2017&version=LSG> (referer: https://www.biblegateway.com/passage/?search=Proverbes%2016&version=LSG)\n"
     ]
    },
    {
     "name": "stdout",
     "output_type": "stream",
     "text": [
      "--------------- ['/passage/?search=Proverbes%2018&version=LSG'] -----------------\n"
     ]
    },
    {
     "name": "stderr",
     "output_type": "stream",
     "text": [
      "2025-05-04 14:18:55 [scrapy.core.engine] DEBUG: Crawled (200) <GET https://www.biblegateway.com/passage/?search=Proverbes%2018&version=LSG> (referer: https://www.biblegateway.com/passage/?search=Proverbes%2017&version=LSG)\n"
     ]
    },
    {
     "name": "stdout",
     "output_type": "stream",
     "text": [
      "--------------- ['/passage/?search=Proverbes%2019&version=LSG'] -----------------\n"
     ]
    },
    {
     "name": "stderr",
     "output_type": "stream",
     "text": [
      "2025-05-04 14:18:55 [scrapy.core.engine] DEBUG: Crawled (200) <GET https://www.biblegateway.com/passage/?search=Proverbes%2019&version=LSG> (referer: https://www.biblegateway.com/passage/?search=Proverbes%2018&version=LSG)\n"
     ]
    },
    {
     "name": "stdout",
     "output_type": "stream",
     "text": [
      "--------------- ['/passage/?search=Proverbes%2020&version=LSG'] -----------------\n"
     ]
    },
    {
     "name": "stderr",
     "output_type": "stream",
     "text": [
      "2025-05-04 14:18:56 [scrapy.core.engine] DEBUG: Crawled (200) <GET https://www.biblegateway.com/passage/?search=Proverbes%2020&version=LSG> (referer: https://www.biblegateway.com/passage/?search=Proverbes%2019&version=LSG)\n"
     ]
    },
    {
     "name": "stdout",
     "output_type": "stream",
     "text": [
      "--------------- ['/passage/?search=Proverbes%2021&version=LSG'] -----------------\n"
     ]
    },
    {
     "name": "stderr",
     "output_type": "stream",
     "text": [
      "2025-05-04 14:18:56 [scrapy.core.engine] DEBUG: Crawled (200) <GET https://www.biblegateway.com/passage/?search=Proverbes%2021&version=LSG> (referer: https://www.biblegateway.com/passage/?search=Proverbes%2020&version=LSG)\n",
      "2025-05-04 14:18:57 [scrapy.extensions.logstats] INFO: Crawled 649 pages (at 86 pages/min), scraped 0 items (at 0 items/min)\n"
     ]
    },
    {
     "name": "stdout",
     "output_type": "stream",
     "text": [
      "--------------- ['/passage/?search=Proverbes%2022&version=LSG'] -----------------\n"
     ]
    },
    {
     "name": "stderr",
     "output_type": "stream",
     "text": [
      "2025-05-04 14:18:57 [scrapy.core.engine] DEBUG: Crawled (200) <GET https://www.biblegateway.com/passage/?search=Proverbes%2022&version=LSG> (referer: https://www.biblegateway.com/passage/?search=Proverbes%2021&version=LSG)\n"
     ]
    },
    {
     "name": "stdout",
     "output_type": "stream",
     "text": [
      "--------------- ['/passage/?search=Proverbes%2023&version=LSG'] -----------------\n"
     ]
    },
    {
     "name": "stderr",
     "output_type": "stream",
     "text": [
      "2025-05-04 14:18:58 [scrapy.core.engine] DEBUG: Crawled (200) <GET https://www.biblegateway.com/passage/?search=Proverbes%2023&version=LSG> (referer: https://www.biblegateway.com/passage/?search=Proverbes%2022&version=LSG)\n"
     ]
    },
    {
     "name": "stdout",
     "output_type": "stream",
     "text": [
      "--------------- ['/passage/?search=Proverbes%2024&version=LSG'] -----------------\n"
     ]
    },
    {
     "name": "stderr",
     "output_type": "stream",
     "text": [
      "2025-05-04 14:18:58 [scrapy.core.engine] DEBUG: Crawled (200) <GET https://www.biblegateway.com/passage/?search=Proverbes%2024&version=LSG> (referer: https://www.biblegateway.com/passage/?search=Proverbes%2023&version=LSG)\n"
     ]
    },
    {
     "name": "stdout",
     "output_type": "stream",
     "text": [
      "--------------- ['/passage/?search=Proverbes%2025&version=LSG'] -----------------\n"
     ]
    },
    {
     "name": "stderr",
     "output_type": "stream",
     "text": [
      "2025-05-04 14:18:59 [scrapy.core.engine] DEBUG: Crawled (200) <GET https://www.biblegateway.com/passage/?search=Proverbes%2025&version=LSG> (referer: https://www.biblegateway.com/passage/?search=Proverbes%2024&version=LSG)\n"
     ]
    },
    {
     "name": "stdout",
     "output_type": "stream",
     "text": [
      "--------------- ['/passage/?search=Proverbes%2026&version=LSG'] -----------------\n"
     ]
    },
    {
     "name": "stderr",
     "output_type": "stream",
     "text": [
      "2025-05-04 14:19:00 [scrapy.core.engine] DEBUG: Crawled (200) <GET https://www.biblegateway.com/passage/?search=Proverbes%2026&version=LSG> (referer: https://www.biblegateway.com/passage/?search=Proverbes%2025&version=LSG)\n"
     ]
    },
    {
     "name": "stdout",
     "output_type": "stream",
     "text": [
      "--------------- ['/passage/?search=Proverbes%2027&version=LSG'] -----------------\n"
     ]
    },
    {
     "name": "stderr",
     "output_type": "stream",
     "text": [
      "2025-05-04 14:19:00 [scrapy.core.engine] DEBUG: Crawled (200) <GET https://www.biblegateway.com/passage/?search=Proverbes%2027&version=LSG> (referer: https://www.biblegateway.com/passage/?search=Proverbes%2026&version=LSG)\n"
     ]
    },
    {
     "name": "stdout",
     "output_type": "stream",
     "text": [
      "--------------- ['/passage/?search=Proverbes%2028&version=LSG'] -----------------\n"
     ]
    },
    {
     "name": "stderr",
     "output_type": "stream",
     "text": [
      "2025-05-04 14:19:01 [scrapy.core.engine] DEBUG: Crawled (200) <GET https://www.biblegateway.com/passage/?search=Proverbes%2028&version=LSG> (referer: https://www.biblegateway.com/passage/?search=Proverbes%2027&version=LSG)\n"
     ]
    },
    {
     "name": "stdout",
     "output_type": "stream",
     "text": [
      "--------------- ['/passage/?search=Proverbes%2029&version=LSG'] -----------------\n"
     ]
    },
    {
     "name": "stderr",
     "output_type": "stream",
     "text": [
      "2025-05-04 14:19:02 [scrapy.core.engine] DEBUG: Crawled (200) <GET https://www.biblegateway.com/passage/?search=Proverbes%2029&version=LSG> (referer: https://www.biblegateway.com/passage/?search=Proverbes%2028&version=LSG)\n"
     ]
    },
    {
     "name": "stdout",
     "output_type": "stream",
     "text": [
      "--------------- ['/passage/?search=Proverbes%2030&version=LSG'] -----------------\n"
     ]
    },
    {
     "name": "stderr",
     "output_type": "stream",
     "text": [
      "2025-05-04 14:19:03 [scrapy.core.engine] DEBUG: Crawled (200) <GET https://www.biblegateway.com/passage/?search=Proverbes%2030&version=LSG> (referer: https://www.biblegateway.com/passage/?search=Proverbes%2029&version=LSG)\n"
     ]
    },
    {
     "name": "stdout",
     "output_type": "stream",
     "text": [
      "--------------- ['/passage/?search=Proverbes%2031&version=LSG'] -----------------\n"
     ]
    },
    {
     "name": "stderr",
     "output_type": "stream",
     "text": [
      "2025-05-04 14:19:03 [scrapy.core.engine] DEBUG: Crawled (200) <GET https://www.biblegateway.com/passage/?search=Proverbes%2031&version=LSG> (referer: https://www.biblegateway.com/passage/?search=Proverbes%2030&version=LSG)\n"
     ]
    },
    {
     "name": "stdout",
     "output_type": "stream",
     "text": [
      "--------------- ['/passage/?search=Eccl%C3%A9siaste%201&version=LSG'] -----------------\n"
     ]
    },
    {
     "name": "stderr",
     "output_type": "stream",
     "text": [
      "2025-05-04 14:19:04 [scrapy.core.engine] DEBUG: Crawled (200) <GET https://www.biblegateway.com/passage/?search=Eccl%C3%A9siaste%201&version=LSG> (referer: https://www.biblegateway.com/passage/?search=Proverbes%2031&version=LSG)\n"
     ]
    },
    {
     "name": "stdout",
     "output_type": "stream",
     "text": [
      "--------------- ['/passage/?search=Eccl%C3%A9siaste%202&version=LSG'] -----------------\n"
     ]
    },
    {
     "name": "stderr",
     "output_type": "stream",
     "text": [
      "2025-05-04 14:19:05 [scrapy.core.engine] DEBUG: Crawled (200) <GET https://www.biblegateway.com/passage/?search=Eccl%C3%A9siaste%202&version=LSG> (referer: https://www.biblegateway.com/passage/?search=Eccl%C3%A9siaste%201&version=LSG)\n"
     ]
    },
    {
     "name": "stdout",
     "output_type": "stream",
     "text": [
      "--------------- ['/passage/?search=Eccl%C3%A9siaste%203&version=LSG'] -----------------\n"
     ]
    },
    {
     "name": "stderr",
     "output_type": "stream",
     "text": [
      "2025-05-04 14:19:05 [scrapy.core.engine] DEBUG: Crawled (200) <GET https://www.biblegateway.com/passage/?search=Eccl%C3%A9siaste%203&version=LSG> (referer: https://www.biblegateway.com/passage/?search=Eccl%C3%A9siaste%202&version=LSG)\n"
     ]
    },
    {
     "name": "stdout",
     "output_type": "stream",
     "text": [
      "--------------- ['/passage/?search=Eccl%C3%A9siaste%204&version=LSG'] -----------------\n"
     ]
    },
    {
     "name": "stderr",
     "output_type": "stream",
     "text": [
      "2025-05-04 14:19:06 [scrapy.core.engine] DEBUG: Crawled (200) <GET https://www.biblegateway.com/passage/?search=Eccl%C3%A9siaste%204&version=LSG> (referer: https://www.biblegateway.com/passage/?search=Eccl%C3%A9siaste%203&version=LSG)\n"
     ]
    },
    {
     "name": "stdout",
     "output_type": "stream",
     "text": [
      "--------------- ['/passage/?search=Eccl%C3%A9siaste%205&version=LSG'] -----------------\n"
     ]
    },
    {
     "name": "stderr",
     "output_type": "stream",
     "text": [
      "2025-05-04 14:19:07 [scrapy.core.engine] DEBUG: Crawled (200) <GET https://www.biblegateway.com/passage/?search=Eccl%C3%A9siaste%205&version=LSG> (referer: https://www.biblegateway.com/passage/?search=Eccl%C3%A9siaste%204&version=LSG)\n"
     ]
    },
    {
     "name": "stdout",
     "output_type": "stream",
     "text": [
      "--------------- ['/passage/?search=Eccl%C3%A9siaste%206&version=LSG'] -----------------\n"
     ]
    },
    {
     "name": "stderr",
     "output_type": "stream",
     "text": [
      "2025-05-04 14:19:07 [scrapy.core.engine] DEBUG: Crawled (200) <GET https://www.biblegateway.com/passage/?search=Eccl%C3%A9siaste%206&version=LSG> (referer: https://www.biblegateway.com/passage/?search=Eccl%C3%A9siaste%205&version=LSG)\n"
     ]
    },
    {
     "name": "stdout",
     "output_type": "stream",
     "text": [
      "--------------- ['/passage/?search=Eccl%C3%A9siaste%207&version=LSG'] -----------------\n"
     ]
    },
    {
     "name": "stderr",
     "output_type": "stream",
     "text": [
      "2025-05-04 14:19:08 [scrapy.core.engine] DEBUG: Crawled (200) <GET https://www.biblegateway.com/passage/?search=Eccl%C3%A9siaste%207&version=LSG> (referer: https://www.biblegateway.com/passage/?search=Eccl%C3%A9siaste%206&version=LSG)\n"
     ]
    },
    {
     "name": "stdout",
     "output_type": "stream",
     "text": [
      "--------------- ['/passage/?search=Eccl%C3%A9siaste%208&version=LSG'] -----------------\n"
     ]
    },
    {
     "name": "stderr",
     "output_type": "stream",
     "text": [
      "2025-05-04 14:19:09 [scrapy.core.engine] DEBUG: Crawled (200) <GET https://www.biblegateway.com/passage/?search=Eccl%C3%A9siaste%208&version=LSG> (referer: https://www.biblegateway.com/passage/?search=Eccl%C3%A9siaste%207&version=LSG)\n"
     ]
    },
    {
     "name": "stdout",
     "output_type": "stream",
     "text": [
      "--------------- ['/passage/?search=Eccl%C3%A9siaste%209&version=LSG'] -----------------\n"
     ]
    },
    {
     "name": "stderr",
     "output_type": "stream",
     "text": [
      "2025-05-04 14:19:09 [scrapy.core.engine] DEBUG: Crawled (200) <GET https://www.biblegateway.com/passage/?search=Eccl%C3%A9siaste%209&version=LSG> (referer: https://www.biblegateway.com/passage/?search=Eccl%C3%A9siaste%208&version=LSG)\n"
     ]
    },
    {
     "name": "stdout",
     "output_type": "stream",
     "text": [
      "--------------- ['/passage/?search=Eccl%C3%A9siaste%2010&version=LSG'] -----------------\n"
     ]
    },
    {
     "name": "stderr",
     "output_type": "stream",
     "text": [
      "2025-05-04 14:19:10 [scrapy.core.engine] DEBUG: Crawled (200) <GET https://www.biblegateway.com/passage/?search=Eccl%C3%A9siaste%2010&version=LSG> (referer: https://www.biblegateway.com/passage/?search=Eccl%C3%A9siaste%209&version=LSG)\n"
     ]
    },
    {
     "name": "stdout",
     "output_type": "stream",
     "text": [
      "--------------- ['/passage/?search=Eccl%C3%A9siaste%2011&version=LSG'] -----------------\n"
     ]
    },
    {
     "name": "stderr",
     "output_type": "stream",
     "text": [
      "2025-05-04 14:19:10 [scrapy.core.engine] DEBUG: Crawled (200) <GET https://www.biblegateway.com/passage/?search=Eccl%C3%A9siaste%2011&version=LSG> (referer: https://www.biblegateway.com/passage/?search=Eccl%C3%A9siaste%2010&version=LSG)\n"
     ]
    },
    {
     "name": "stdout",
     "output_type": "stream",
     "text": [
      "--------------- ['/passage/?search=Eccl%C3%A9siaste%2012&version=LSG'] -----------------\n"
     ]
    },
    {
     "name": "stderr",
     "output_type": "stream",
     "text": [
      "2025-05-04 14:19:11 [scrapy.core.engine] DEBUG: Crawled (200) <GET https://www.biblegateway.com/passage/?search=Eccl%C3%A9siaste%2012&version=LSG> (referer: https://www.biblegateway.com/passage/?search=Eccl%C3%A9siaste%2011&version=LSG)\n"
     ]
    },
    {
     "name": "stdout",
     "output_type": "stream",
     "text": [
      "--------------- ['/passage/?search=Cantique%20des%20Cantiques%201&version=LSG'] -----------------\n"
     ]
    },
    {
     "name": "stderr",
     "output_type": "stream",
     "text": [
      "2025-05-04 14:19:12 [scrapy.core.engine] DEBUG: Crawled (200) <GET https://www.biblegateway.com/passage/?search=Cantique%20des%20Cantiques%201&version=LSG> (referer: https://www.biblegateway.com/passage/?search=Eccl%C3%A9siaste%2012&version=LSG)\n"
     ]
    },
    {
     "name": "stdout",
     "output_type": "stream",
     "text": [
      "--------------- ['/passage/?search=Cantique%20des%20Cantiques%202&version=LSG'] -----------------\n"
     ]
    },
    {
     "name": "stderr",
     "output_type": "stream",
     "text": [
      "2025-05-04 14:19:12 [scrapy.core.engine] DEBUG: Crawled (200) <GET https://www.biblegateway.com/passage/?search=Cantique%20des%20Cantiques%202&version=LSG> (referer: https://www.biblegateway.com/passage/?search=Cantique%20des%20Cantiques%201&version=LSG)\n"
     ]
    },
    {
     "name": "stdout",
     "output_type": "stream",
     "text": [
      "--------------- ['/passage/?search=Cantique%20des%20Cantiques%203&version=LSG'] -----------------\n"
     ]
    },
    {
     "name": "stderr",
     "output_type": "stream",
     "text": [
      "2025-05-04 14:19:13 [scrapy.core.engine] DEBUG: Crawled (200) <GET https://www.biblegateway.com/passage/?search=Cantique%20des%20Cantiques%203&version=LSG> (referer: https://www.biblegateway.com/passage/?search=Cantique%20des%20Cantiques%202&version=LSG)\n"
     ]
    },
    {
     "name": "stdout",
     "output_type": "stream",
     "text": [
      "--------------- ['/passage/?search=Cantique%20des%20Cantiques%204&version=LSG'] -----------------\n"
     ]
    },
    {
     "name": "stderr",
     "output_type": "stream",
     "text": [
      "2025-05-04 14:19:14 [scrapy.core.engine] DEBUG: Crawled (200) <GET https://www.biblegateway.com/passage/?search=Cantique%20des%20Cantiques%204&version=LSG> (referer: https://www.biblegateway.com/passage/?search=Cantique%20des%20Cantiques%203&version=LSG)\n"
     ]
    },
    {
     "name": "stdout",
     "output_type": "stream",
     "text": [
      "--------------- ['/passage/?search=Cantique%20des%20Cantiques%205&version=LSG'] -----------------\n"
     ]
    },
    {
     "name": "stderr",
     "output_type": "stream",
     "text": [
      "2025-05-04 14:19:15 [scrapy.core.engine] DEBUG: Crawled (200) <GET https://www.biblegateway.com/passage/?search=Cantique%20des%20Cantiques%205&version=LSG> (referer: https://www.biblegateway.com/passage/?search=Cantique%20des%20Cantiques%204&version=LSG)\n"
     ]
    },
    {
     "name": "stdout",
     "output_type": "stream",
     "text": [
      "--------------- ['/passage/?search=Cantique%20des%20Cantiques%206&version=LSG'] -----------------\n"
     ]
    },
    {
     "name": "stderr",
     "output_type": "stream",
     "text": [
      "2025-05-04 14:19:17 [scrapy.core.engine] DEBUG: Crawled (200) <GET https://www.biblegateway.com/passage/?search=Cantique%20des%20Cantiques%206&version=LSG> (referer: https://www.biblegateway.com/passage/?search=Cantique%20des%20Cantiques%205&version=LSG)\n"
     ]
    },
    {
     "name": "stdout",
     "output_type": "stream",
     "text": [
      "--------------- ['/passage/?search=Cantique%20des%20Cantiques%207&version=LSG'] -----------------\n"
     ]
    },
    {
     "name": "stderr",
     "output_type": "stream",
     "text": [
      "2025-05-04 14:19:17 [scrapy.core.engine] DEBUG: Crawled (200) <GET https://www.biblegateway.com/passage/?search=Cantique%20des%20Cantiques%207&version=LSG> (referer: https://www.biblegateway.com/passage/?search=Cantique%20des%20Cantiques%206&version=LSG)\n"
     ]
    },
    {
     "name": "stdout",
     "output_type": "stream",
     "text": [
      "--------------- ['/passage/?search=Cantique%20des%20Cantiques%208&version=LSG'] -----------------\n"
     ]
    },
    {
     "name": "stderr",
     "output_type": "stream",
     "text": [
      "2025-05-04 14:19:18 [scrapy.core.engine] DEBUG: Crawled (200) <GET https://www.biblegateway.com/passage/?search=Cantique%20des%20Cantiques%208&version=LSG> (referer: https://www.biblegateway.com/passage/?search=Cantique%20des%20Cantiques%207&version=LSG)\n"
     ]
    },
    {
     "name": "stdout",
     "output_type": "stream",
     "text": [
      "--------------- ['/passage/?search=%C3%89sa%C3%AFe%201&version=LSG'] -----------------\n"
     ]
    },
    {
     "name": "stderr",
     "output_type": "stream",
     "text": [
      "2025-05-04 14:19:19 [scrapy.core.engine] DEBUG: Crawled (200) <GET https://www.biblegateway.com/passage/?search=%C3%89sa%C3%AFe%201&version=LSG> (referer: https://www.biblegateway.com/passage/?search=Cantique%20des%20Cantiques%208&version=LSG)\n"
     ]
    },
    {
     "name": "stdout",
     "output_type": "stream",
     "text": [
      "--------------- ['/passage/?search=%C3%89sa%C3%AFe%202&version=LSG'] -----------------\n"
     ]
    },
    {
     "name": "stderr",
     "output_type": "stream",
     "text": [
      "2025-05-04 14:19:19 [scrapy.core.engine] DEBUG: Crawled (200) <GET https://www.biblegateway.com/passage/?search=%C3%89sa%C3%AFe%202&version=LSG> (referer: https://www.biblegateway.com/passage/?search=%C3%89sa%C3%AFe%201&version=LSG)\n"
     ]
    },
    {
     "name": "stdout",
     "output_type": "stream",
     "text": [
      "--------------- ['/passage/?search=%C3%89sa%C3%AFe%203&version=LSG'] -----------------\n"
     ]
    },
    {
     "name": "stderr",
     "output_type": "stream",
     "text": [
      "2025-05-04 14:19:20 [scrapy.core.engine] DEBUG: Crawled (200) <GET https://www.biblegateway.com/passage/?search=%C3%89sa%C3%AFe%203&version=LSG> (referer: https://www.biblegateway.com/passage/?search=%C3%89sa%C3%AFe%202&version=LSG)\n"
     ]
    },
    {
     "name": "stdout",
     "output_type": "stream",
     "text": [
      "--------------- ['/passage/?search=%C3%89sa%C3%AFe%204&version=LSG'] -----------------\n"
     ]
    },
    {
     "name": "stderr",
     "output_type": "stream",
     "text": [
      "2025-05-04 14:19:21 [scrapy.core.engine] DEBUG: Crawled (200) <GET https://www.biblegateway.com/passage/?search=%C3%89sa%C3%AFe%204&version=LSG> (referer: https://www.biblegateway.com/passage/?search=%C3%89sa%C3%AFe%203&version=LSG)\n"
     ]
    },
    {
     "name": "stdout",
     "output_type": "stream",
     "text": [
      "--------------- ['/passage/?search=%C3%89sa%C3%AFe%205&version=LSG'] -----------------\n"
     ]
    },
    {
     "name": "stderr",
     "output_type": "stream",
     "text": [
      "2025-05-04 14:19:21 [scrapy.core.engine] DEBUG: Crawled (200) <GET https://www.biblegateway.com/passage/?search=%C3%89sa%C3%AFe%205&version=LSG> (referer: https://www.biblegateway.com/passage/?search=%C3%89sa%C3%AFe%204&version=LSG)\n"
     ]
    },
    {
     "name": "stdout",
     "output_type": "stream",
     "text": [
      "--------------- ['/passage/?search=%C3%89sa%C3%AFe%206&version=LSG'] -----------------\n"
     ]
    },
    {
     "name": "stderr",
     "output_type": "stream",
     "text": [
      "2025-05-04 14:19:22 [scrapy.core.engine] DEBUG: Crawled (200) <GET https://www.biblegateway.com/passage/?search=%C3%89sa%C3%AFe%206&version=LSG> (referer: https://www.biblegateway.com/passage/?search=%C3%89sa%C3%AFe%205&version=LSG)\n"
     ]
    },
    {
     "name": "stdout",
     "output_type": "stream",
     "text": [
      "--------------- ['/passage/?search=%C3%89sa%C3%AFe%207&version=LSG'] -----------------\n"
     ]
    },
    {
     "name": "stderr",
     "output_type": "stream",
     "text": [
      "2025-05-04 14:19:22 [scrapy.core.engine] DEBUG: Crawled (200) <GET https://www.biblegateway.com/passage/?search=%C3%89sa%C3%AFe%207&version=LSG> (referer: https://www.biblegateway.com/passage/?search=%C3%89sa%C3%AFe%206&version=LSG)\n"
     ]
    },
    {
     "name": "stdout",
     "output_type": "stream",
     "text": [
      "--------------- ['/passage/?search=%C3%89sa%C3%AFe%208&version=LSG'] -----------------\n"
     ]
    },
    {
     "name": "stderr",
     "output_type": "stream",
     "text": [
      "2025-05-04 14:19:23 [scrapy.core.engine] DEBUG: Crawled (200) <GET https://www.biblegateway.com/passage/?search=%C3%89sa%C3%AFe%208&version=LSG> (referer: https://www.biblegateway.com/passage/?search=%C3%89sa%C3%AFe%207&version=LSG)\n"
     ]
    },
    {
     "name": "stdout",
     "output_type": "stream",
     "text": [
      "--------------- ['/passage/?search=%C3%89sa%C3%AFe%209&version=LSG'] -----------------\n"
     ]
    },
    {
     "name": "stderr",
     "output_type": "stream",
     "text": [
      "2025-05-04 14:19:24 [scrapy.core.engine] DEBUG: Crawled (200) <GET https://www.biblegateway.com/passage/?search=%C3%89sa%C3%AFe%209&version=LSG> (referer: https://www.biblegateway.com/passage/?search=%C3%89sa%C3%AFe%208&version=LSG)\n"
     ]
    },
    {
     "name": "stdout",
     "output_type": "stream",
     "text": [
      "--------------- ['/passage/?search=%C3%89sa%C3%AFe%2010&version=LSG'] -----------------\n"
     ]
    },
    {
     "name": "stderr",
     "output_type": "stream",
     "text": [
      "2025-05-04 14:19:24 [scrapy.core.engine] DEBUG: Crawled (200) <GET https://www.biblegateway.com/passage/?search=%C3%89sa%C3%AFe%2010&version=LSG> (referer: https://www.biblegateway.com/passage/?search=%C3%89sa%C3%AFe%209&version=LSG)\n"
     ]
    },
    {
     "name": "stdout",
     "output_type": "stream",
     "text": [
      "--------------- ['/passage/?search=%C3%89sa%C3%AFe%2011&version=LSG'] -----------------\n"
     ]
    },
    {
     "name": "stderr",
     "output_type": "stream",
     "text": [
      "2025-05-04 14:19:25 [scrapy.core.engine] DEBUG: Crawled (200) <GET https://www.biblegateway.com/passage/?search=%C3%89sa%C3%AFe%2011&version=LSG> (referer: https://www.biblegateway.com/passage/?search=%C3%89sa%C3%AFe%2010&version=LSG)\n"
     ]
    },
    {
     "name": "stdout",
     "output_type": "stream",
     "text": [
      "--------------- ['/passage/?search=%C3%89sa%C3%AFe%2012&version=LSG'] -----------------\n"
     ]
    },
    {
     "name": "stderr",
     "output_type": "stream",
     "text": [
      "2025-05-04 14:19:26 [scrapy.core.engine] DEBUG: Crawled (200) <GET https://www.biblegateway.com/passage/?search=%C3%89sa%C3%AFe%2012&version=LSG> (referer: https://www.biblegateway.com/passage/?search=%C3%89sa%C3%AFe%2011&version=LSG)\n"
     ]
    },
    {
     "name": "stdout",
     "output_type": "stream",
     "text": [
      "--------------- ['/passage/?search=%C3%89sa%C3%AFe%2013&version=LSG'] -----------------\n"
     ]
    },
    {
     "name": "stderr",
     "output_type": "stream",
     "text": [
      "2025-05-04 14:19:26 [scrapy.core.engine] DEBUG: Crawled (200) <GET https://www.biblegateway.com/passage/?search=%C3%89sa%C3%AFe%2013&version=LSG> (referer: https://www.biblegateway.com/passage/?search=%C3%89sa%C3%AFe%2012&version=LSG)\n"
     ]
    },
    {
     "name": "stdout",
     "output_type": "stream",
     "text": [
      "--------------- ['/passage/?search=%C3%89sa%C3%AFe%2014&version=LSG'] -----------------\n"
     ]
    },
    {
     "name": "stderr",
     "output_type": "stream",
     "text": [
      "2025-05-04 14:19:27 [scrapy.core.engine] DEBUG: Crawled (200) <GET https://www.biblegateway.com/passage/?search=%C3%89sa%C3%AFe%2014&version=LSG> (referer: https://www.biblegateway.com/passage/?search=%C3%89sa%C3%AFe%2013&version=LSG)\n"
     ]
    },
    {
     "name": "stdout",
     "output_type": "stream",
     "text": [
      "--------------- ['/passage/?search=%C3%89sa%C3%AFe%2015&version=LSG'] -----------------\n"
     ]
    },
    {
     "name": "stderr",
     "output_type": "stream",
     "text": [
      "2025-05-04 14:19:28 [scrapy.core.engine] DEBUG: Crawled (200) <GET https://www.biblegateway.com/passage/?search=%C3%89sa%C3%AFe%2015&version=LSG> (referer: https://www.biblegateway.com/passage/?search=%C3%89sa%C3%AFe%2014&version=LSG)\n"
     ]
    },
    {
     "name": "stdout",
     "output_type": "stream",
     "text": [
      "--------------- ['/passage/?search=%C3%89sa%C3%AFe%2016&version=LSG'] -----------------\n"
     ]
    },
    {
     "name": "stderr",
     "output_type": "stream",
     "text": [
      "2025-05-04 14:19:29 [scrapy.core.engine] DEBUG: Crawled (200) <GET https://www.biblegateway.com/passage/?search=%C3%89sa%C3%AFe%2016&version=LSG> (referer: https://www.biblegateway.com/passage/?search=%C3%89sa%C3%AFe%2015&version=LSG)\n"
     ]
    },
    {
     "name": "stdout",
     "output_type": "stream",
     "text": [
      "--------------- ['/passage/?search=%C3%89sa%C3%AFe%2017&version=LSG'] -----------------\n"
     ]
    },
    {
     "name": "stderr",
     "output_type": "stream",
     "text": [
      "2025-05-04 14:19:30 [scrapy.core.engine] DEBUG: Crawled (200) <GET https://www.biblegateway.com/passage/?search=%C3%89sa%C3%AFe%2017&version=LSG> (referer: https://www.biblegateway.com/passage/?search=%C3%89sa%C3%AFe%2016&version=LSG)\n"
     ]
    },
    {
     "name": "stdout",
     "output_type": "stream",
     "text": [
      "--------------- ['/passage/?search=%C3%89sa%C3%AFe%2018&version=LSG'] -----------------\n"
     ]
    },
    {
     "name": "stderr",
     "output_type": "stream",
     "text": [
      "2025-05-04 14:19:30 [scrapy.core.engine] DEBUG: Crawled (200) <GET https://www.biblegateway.com/passage/?search=%C3%89sa%C3%AFe%2018&version=LSG> (referer: https://www.biblegateway.com/passage/?search=%C3%89sa%C3%AFe%2017&version=LSG)\n"
     ]
    },
    {
     "name": "stdout",
     "output_type": "stream",
     "text": [
      "--------------- ['/passage/?search=%C3%89sa%C3%AFe%2019&version=LSG'] -----------------\n"
     ]
    },
    {
     "name": "stderr",
     "output_type": "stream",
     "text": [
      "2025-05-04 14:19:31 [scrapy.core.engine] DEBUG: Crawled (200) <GET https://www.biblegateway.com/passage/?search=%C3%89sa%C3%AFe%2019&version=LSG> (referer: https://www.biblegateway.com/passage/?search=%C3%89sa%C3%AFe%2018&version=LSG)\n"
     ]
    },
    {
     "name": "stdout",
     "output_type": "stream",
     "text": [
      "--------------- ['/passage/?search=%C3%89sa%C3%AFe%2020&version=LSG'] -----------------\n"
     ]
    },
    {
     "name": "stderr",
     "output_type": "stream",
     "text": [
      "2025-05-04 14:19:32 [scrapy.core.engine] DEBUG: Crawled (200) <GET https://www.biblegateway.com/passage/?search=%C3%89sa%C3%AFe%2020&version=LSG> (referer: https://www.biblegateway.com/passage/?search=%C3%89sa%C3%AFe%2019&version=LSG)\n"
     ]
    },
    {
     "name": "stdout",
     "output_type": "stream",
     "text": [
      "--------------- ['/passage/?search=%C3%89sa%C3%AFe%2021&version=LSG'] -----------------\n"
     ]
    },
    {
     "name": "stderr",
     "output_type": "stream",
     "text": [
      "2025-05-04 14:19:33 [scrapy.core.engine] DEBUG: Crawled (200) <GET https://www.biblegateway.com/passage/?search=%C3%89sa%C3%AFe%2021&version=LSG> (referer: https://www.biblegateway.com/passage/?search=%C3%89sa%C3%AFe%2020&version=LSG)\n"
     ]
    },
    {
     "name": "stdout",
     "output_type": "stream",
     "text": [
      "--------------- ['/passage/?search=%C3%89sa%C3%AFe%2022&version=LSG'] -----------------\n"
     ]
    },
    {
     "name": "stderr",
     "output_type": "stream",
     "text": [
      "2025-05-04 14:19:34 [scrapy.core.engine] DEBUG: Crawled (200) <GET https://www.biblegateway.com/passage/?search=%C3%89sa%C3%AFe%2022&version=LSG> (referer: https://www.biblegateway.com/passage/?search=%C3%89sa%C3%AFe%2021&version=LSG)\n"
     ]
    },
    {
     "name": "stdout",
     "output_type": "stream",
     "text": [
      "--------------- ['/passage/?search=%C3%89sa%C3%AFe%2023&version=LSG'] -----------------\n"
     ]
    },
    {
     "name": "stderr",
     "output_type": "stream",
     "text": [
      "2025-05-04 14:19:35 [scrapy.core.engine] DEBUG: Crawled (200) <GET https://www.biblegateway.com/passage/?search=%C3%89sa%C3%AFe%2023&version=LSG> (referer: https://www.biblegateway.com/passage/?search=%C3%89sa%C3%AFe%2022&version=LSG)\n"
     ]
    },
    {
     "name": "stdout",
     "output_type": "stream",
     "text": [
      "--------------- ['/passage/?search=%C3%89sa%C3%AFe%2024&version=LSG'] -----------------\n"
     ]
    },
    {
     "name": "stderr",
     "output_type": "stream",
     "text": [
      "2025-05-04 14:19:36 [scrapy.core.engine] DEBUG: Crawled (200) <GET https://www.biblegateway.com/passage/?search=%C3%89sa%C3%AFe%2024&version=LSG> (referer: https://www.biblegateway.com/passage/?search=%C3%89sa%C3%AFe%2023&version=LSG)\n"
     ]
    },
    {
     "name": "stdout",
     "output_type": "stream",
     "text": [
      "--------------- ['/passage/?search=%C3%89sa%C3%AFe%2025&version=LSG'] -----------------\n"
     ]
    },
    {
     "name": "stderr",
     "output_type": "stream",
     "text": [
      "2025-05-04 14:19:37 [scrapy.core.engine] DEBUG: Crawled (200) <GET https://www.biblegateway.com/passage/?search=%C3%89sa%C3%AFe%2025&version=LSG> (referer: https://www.biblegateway.com/passage/?search=%C3%89sa%C3%AFe%2024&version=LSG)\n"
     ]
    },
    {
     "name": "stdout",
     "output_type": "stream",
     "text": [
      "--------------- ['/passage/?search=%C3%89sa%C3%AFe%2026&version=LSG'] -----------------\n"
     ]
    },
    {
     "name": "stderr",
     "output_type": "stream",
     "text": [
      "2025-05-04 14:19:38 [scrapy.core.engine] DEBUG: Crawled (200) <GET https://www.biblegateway.com/passage/?search=%C3%89sa%C3%AFe%2026&version=LSG> (referer: https://www.biblegateway.com/passage/?search=%C3%89sa%C3%AFe%2025&version=LSG)\n"
     ]
    },
    {
     "name": "stdout",
     "output_type": "stream",
     "text": [
      "--------------- ['/passage/?search=%C3%89sa%C3%AFe%2027&version=LSG'] -----------------\n"
     ]
    },
    {
     "name": "stderr",
     "output_type": "stream",
     "text": [
      "2025-05-04 14:19:39 [scrapy.core.engine] DEBUG: Crawled (200) <GET https://www.biblegateway.com/passage/?search=%C3%89sa%C3%AFe%2027&version=LSG> (referer: https://www.biblegateway.com/passage/?search=%C3%89sa%C3%AFe%2026&version=LSG)\n"
     ]
    },
    {
     "name": "stdout",
     "output_type": "stream",
     "text": [
      "--------------- ['/passage/?search=%C3%89sa%C3%AFe%2028&version=LSG'] -----------------\n"
     ]
    },
    {
     "name": "stderr",
     "output_type": "stream",
     "text": [
      "2025-05-04 14:19:40 [scrapy.core.engine] DEBUG: Crawled (200) <GET https://www.biblegateway.com/passage/?search=%C3%89sa%C3%AFe%2028&version=LSG> (referer: https://www.biblegateway.com/passage/?search=%C3%89sa%C3%AFe%2027&version=LSG)\n"
     ]
    },
    {
     "name": "stdout",
     "output_type": "stream",
     "text": [
      "--------------- ['/passage/?search=%C3%89sa%C3%AFe%2029&version=LSG'] -----------------\n"
     ]
    },
    {
     "name": "stderr",
     "output_type": "stream",
     "text": [
      "2025-05-04 14:19:40 [scrapy.core.engine] DEBUG: Crawled (200) <GET https://www.biblegateway.com/passage/?search=%C3%89sa%C3%AFe%2029&version=LSG> (referer: https://www.biblegateway.com/passage/?search=%C3%89sa%C3%AFe%2028&version=LSG)\n"
     ]
    },
    {
     "name": "stdout",
     "output_type": "stream",
     "text": [
      "--------------- ['/passage/?search=%C3%89sa%C3%AFe%2030&version=LSG'] -----------------\n"
     ]
    },
    {
     "name": "stderr",
     "output_type": "stream",
     "text": [
      "2025-05-04 14:19:41 [scrapy.core.engine] DEBUG: Crawled (200) <GET https://www.biblegateway.com/passage/?search=%C3%89sa%C3%AFe%2030&version=LSG> (referer: https://www.biblegateway.com/passage/?search=%C3%89sa%C3%AFe%2029&version=LSG)\n"
     ]
    },
    {
     "name": "stdout",
     "output_type": "stream",
     "text": [
      "--------------- ['/passage/?search=%C3%89sa%C3%AFe%2031&version=LSG'] -----------------\n"
     ]
    },
    {
     "name": "stderr",
     "output_type": "stream",
     "text": [
      "2025-05-04 14:19:42 [scrapy.core.engine] DEBUG: Crawled (200) <GET https://www.biblegateway.com/passage/?search=%C3%89sa%C3%AFe%2031&version=LSG> (referer: https://www.biblegateway.com/passage/?search=%C3%89sa%C3%AFe%2030&version=LSG)\n"
     ]
    },
    {
     "name": "stdout",
     "output_type": "stream",
     "text": [
      "--------------- ['/passage/?search=%C3%89sa%C3%AFe%2032&version=LSG'] -----------------\n"
     ]
    },
    {
     "name": "stderr",
     "output_type": "stream",
     "text": [
      "2025-05-04 14:19:42 [scrapy.core.engine] DEBUG: Crawled (200) <GET https://www.biblegateway.com/passage/?search=%C3%89sa%C3%AFe%2032&version=LSG> (referer: https://www.biblegateway.com/passage/?search=%C3%89sa%C3%AFe%2031&version=LSG)\n"
     ]
    },
    {
     "name": "stdout",
     "output_type": "stream",
     "text": [
      "--------------- ['/passage/?search=%C3%89sa%C3%AFe%2033&version=LSG'] -----------------\n"
     ]
    },
    {
     "name": "stderr",
     "output_type": "stream",
     "text": [
      "2025-05-04 14:19:43 [scrapy.core.engine] DEBUG: Crawled (200) <GET https://www.biblegateway.com/passage/?search=%C3%89sa%C3%AFe%2033&version=LSG> (referer: https://www.biblegateway.com/passage/?search=%C3%89sa%C3%AFe%2032&version=LSG)\n"
     ]
    },
    {
     "name": "stdout",
     "output_type": "stream",
     "text": [
      "--------------- ['/passage/?search=%C3%89sa%C3%AFe%2034&version=LSG'] -----------------\n"
     ]
    },
    {
     "name": "stderr",
     "output_type": "stream",
     "text": [
      "2025-05-04 14:19:44 [scrapy.core.engine] DEBUG: Crawled (200) <GET https://www.biblegateway.com/passage/?search=%C3%89sa%C3%AFe%2034&version=LSG> (referer: https://www.biblegateway.com/passage/?search=%C3%89sa%C3%AFe%2033&version=LSG)\n"
     ]
    },
    {
     "name": "stdout",
     "output_type": "stream",
     "text": [
      "--------------- ['/passage/?search=%C3%89sa%C3%AFe%2035&version=LSG'] -----------------\n"
     ]
    },
    {
     "name": "stderr",
     "output_type": "stream",
     "text": [
      "2025-05-04 14:19:44 [scrapy.core.engine] DEBUG: Crawled (200) <GET https://www.biblegateway.com/passage/?search=%C3%89sa%C3%AFe%2035&version=LSG> (referer: https://www.biblegateway.com/passage/?search=%C3%89sa%C3%AFe%2034&version=LSG)\n"
     ]
    },
    {
     "name": "stdout",
     "output_type": "stream",
     "text": [
      "--------------- ['/passage/?search=%C3%89sa%C3%AFe%2036&version=LSG'] -----------------\n"
     ]
    },
    {
     "name": "stderr",
     "output_type": "stream",
     "text": [
      "2025-05-04 14:19:45 [scrapy.core.engine] DEBUG: Crawled (200) <GET https://www.biblegateway.com/passage/?search=%C3%89sa%C3%AFe%2036&version=LSG> (referer: https://www.biblegateway.com/passage/?search=%C3%89sa%C3%AFe%2035&version=LSG)\n"
     ]
    },
    {
     "name": "stdout",
     "output_type": "stream",
     "text": [
      "--------------- ['/passage/?search=%C3%89sa%C3%AFe%2037&version=LSG'] -----------------\n"
     ]
    },
    {
     "name": "stderr",
     "output_type": "stream",
     "text": [
      "2025-05-04 14:19:46 [scrapy.core.engine] DEBUG: Crawled (200) <GET https://www.biblegateway.com/passage/?search=%C3%89sa%C3%AFe%2037&version=LSG> (referer: https://www.biblegateway.com/passage/?search=%C3%89sa%C3%AFe%2036&version=LSG)\n"
     ]
    },
    {
     "name": "stdout",
     "output_type": "stream",
     "text": [
      "--------------- ['/passage/?search=%C3%89sa%C3%AFe%2038&version=LSG'] -----------------\n"
     ]
    },
    {
     "name": "stderr",
     "output_type": "stream",
     "text": [
      "2025-05-04 14:19:46 [scrapy.core.engine] DEBUG: Crawled (200) <GET https://www.biblegateway.com/passage/?search=%C3%89sa%C3%AFe%2038&version=LSG> (referer: https://www.biblegateway.com/passage/?search=%C3%89sa%C3%AFe%2037&version=LSG)\n"
     ]
    },
    {
     "name": "stdout",
     "output_type": "stream",
     "text": [
      "--------------- ['/passage/?search=%C3%89sa%C3%AFe%2039&version=LSG'] -----------------\n"
     ]
    },
    {
     "name": "stderr",
     "output_type": "stream",
     "text": [
      "2025-05-04 14:19:47 [scrapy.core.engine] DEBUG: Crawled (200) <GET https://www.biblegateway.com/passage/?search=%C3%89sa%C3%AFe%2039&version=LSG> (referer: https://www.biblegateway.com/passage/?search=%C3%89sa%C3%AFe%2038&version=LSG)\n"
     ]
    },
    {
     "name": "stdout",
     "output_type": "stream",
     "text": [
      "--------------- ['/passage/?search=%C3%89sa%C3%AFe%2040&version=LSG'] -----------------\n"
     ]
    },
    {
     "name": "stderr",
     "output_type": "stream",
     "text": [
      "2025-05-04 14:19:48 [scrapy.core.engine] DEBUG: Crawled (200) <GET https://www.biblegateway.com/passage/?search=%C3%89sa%C3%AFe%2040&version=LSG> (referer: https://www.biblegateway.com/passage/?search=%C3%89sa%C3%AFe%2039&version=LSG)\n"
     ]
    },
    {
     "name": "stdout",
     "output_type": "stream",
     "text": [
      "--------------- ['/passage/?search=%C3%89sa%C3%AFe%2041&version=LSG'] -----------------\n"
     ]
    },
    {
     "name": "stderr",
     "output_type": "stream",
     "text": [
      "2025-05-04 14:19:48 [scrapy.core.engine] DEBUG: Crawled (200) <GET https://www.biblegateway.com/passage/?search=%C3%89sa%C3%AFe%2041&version=LSG> (referer: https://www.biblegateway.com/passage/?search=%C3%89sa%C3%AFe%2040&version=LSG)\n"
     ]
    },
    {
     "name": "stdout",
     "output_type": "stream",
     "text": [
      "--------------- ['/passage/?search=%C3%89sa%C3%AFe%2042&version=LSG'] -----------------\n"
     ]
    },
    {
     "name": "stderr",
     "output_type": "stream",
     "text": [
      "2025-05-04 14:19:49 [scrapy.core.engine] DEBUG: Crawled (200) <GET https://www.biblegateway.com/passage/?search=%C3%89sa%C3%AFe%2042&version=LSG> (referer: https://www.biblegateway.com/passage/?search=%C3%89sa%C3%AFe%2041&version=LSG)\n"
     ]
    },
    {
     "name": "stdout",
     "output_type": "stream",
     "text": [
      "--------------- ['/passage/?search=%C3%89sa%C3%AFe%2043&version=LSG'] -----------------\n"
     ]
    },
    {
     "name": "stderr",
     "output_type": "stream",
     "text": [
      "2025-05-04 14:19:50 [scrapy.core.engine] DEBUG: Crawled (200) <GET https://www.biblegateway.com/passage/?search=%C3%89sa%C3%AFe%2043&version=LSG> (referer: https://www.biblegateway.com/passage/?search=%C3%89sa%C3%AFe%2042&version=LSG)\n"
     ]
    },
    {
     "name": "stdout",
     "output_type": "stream",
     "text": [
      "--------------- ['/passage/?search=%C3%89sa%C3%AFe%2044&version=LSG'] -----------------\n"
     ]
    },
    {
     "name": "stderr",
     "output_type": "stream",
     "text": [
      "2025-05-04 14:19:51 [scrapy.core.engine] DEBUG: Crawled (200) <GET https://www.biblegateway.com/passage/?search=%C3%89sa%C3%AFe%2044&version=LSG> (referer: https://www.biblegateway.com/passage/?search=%C3%89sa%C3%AFe%2043&version=LSG)\n"
     ]
    },
    {
     "name": "stdout",
     "output_type": "stream",
     "text": [
      "--------------- ['/passage/?search=%C3%89sa%C3%AFe%2045&version=LSG'] -----------------\n"
     ]
    },
    {
     "name": "stderr",
     "output_type": "stream",
     "text": [
      "2025-05-04 14:19:51 [scrapy.core.engine] DEBUG: Crawled (200) <GET https://www.biblegateway.com/passage/?search=%C3%89sa%C3%AFe%2045&version=LSG> (referer: https://www.biblegateway.com/passage/?search=%C3%89sa%C3%AFe%2044&version=LSG)\n"
     ]
    },
    {
     "name": "stdout",
     "output_type": "stream",
     "text": [
      "--------------- ['/passage/?search=%C3%89sa%C3%AFe%2046&version=LSG'] -----------------\n"
     ]
    },
    {
     "name": "stderr",
     "output_type": "stream",
     "text": [
      "2025-05-04 14:19:52 [scrapy.core.engine] DEBUG: Crawled (200) <GET https://www.biblegateway.com/passage/?search=%C3%89sa%C3%AFe%2046&version=LSG> (referer: https://www.biblegateway.com/passage/?search=%C3%89sa%C3%AFe%2045&version=LSG)\n"
     ]
    },
    {
     "name": "stdout",
     "output_type": "stream",
     "text": [
      "--------------- ['/passage/?search=%C3%89sa%C3%AFe%2047&version=LSG'] -----------------\n"
     ]
    },
    {
     "name": "stderr",
     "output_type": "stream",
     "text": [
      "2025-05-04 14:19:53 [scrapy.core.engine] DEBUG: Crawled (200) <GET https://www.biblegateway.com/passage/?search=%C3%89sa%C3%AFe%2047&version=LSG> (referer: https://www.biblegateway.com/passage/?search=%C3%89sa%C3%AFe%2046&version=LSG)\n"
     ]
    },
    {
     "name": "stdout",
     "output_type": "stream",
     "text": [
      "--------------- ['/passage/?search=%C3%89sa%C3%AFe%2048&version=LSG'] -----------------\n"
     ]
    },
    {
     "name": "stderr",
     "output_type": "stream",
     "text": [
      "2025-05-04 14:19:53 [scrapy.core.engine] DEBUG: Crawled (200) <GET https://www.biblegateway.com/passage/?search=%C3%89sa%C3%AFe%2048&version=LSG> (referer: https://www.biblegateway.com/passage/?search=%C3%89sa%C3%AFe%2047&version=LSG)\n"
     ]
    },
    {
     "name": "stdout",
     "output_type": "stream",
     "text": [
      "--------------- ['/passage/?search=%C3%89sa%C3%AFe%2049&version=LSG'] -----------------\n"
     ]
    },
    {
     "name": "stderr",
     "output_type": "stream",
     "text": [
      "2025-05-04 14:19:54 [scrapy.core.engine] DEBUG: Crawled (200) <GET https://www.biblegateway.com/passage/?search=%C3%89sa%C3%AFe%2049&version=LSG> (referer: https://www.biblegateway.com/passage/?search=%C3%89sa%C3%AFe%2048&version=LSG)\n"
     ]
    },
    {
     "name": "stdout",
     "output_type": "stream",
     "text": [
      "--------------- ['/passage/?search=%C3%89sa%C3%AFe%2050&version=LSG'] -----------------\n"
     ]
    },
    {
     "name": "stderr",
     "output_type": "stream",
     "text": [
      "2025-05-04 14:19:55 [scrapy.core.engine] DEBUG: Crawled (200) <GET https://www.biblegateway.com/passage/?search=%C3%89sa%C3%AFe%2050&version=LSG> (referer: https://www.biblegateway.com/passage/?search=%C3%89sa%C3%AFe%2049&version=LSG)\n"
     ]
    },
    {
     "name": "stdout",
     "output_type": "stream",
     "text": [
      "--------------- ['/passage/?search=%C3%89sa%C3%AFe%2051&version=LSG'] -----------------\n"
     ]
    },
    {
     "name": "stderr",
     "output_type": "stream",
     "text": [
      "2025-05-04 14:19:56 [scrapy.core.engine] DEBUG: Crawled (200) <GET https://www.biblegateway.com/passage/?search=%C3%89sa%C3%AFe%2051&version=LSG> (referer: https://www.biblegateway.com/passage/?search=%C3%89sa%C3%AFe%2050&version=LSG)\n"
     ]
    },
    {
     "name": "stdout",
     "output_type": "stream",
     "text": [
      "--------------- ['/passage/?search=%C3%89sa%C3%AFe%2052&version=LSG'] -----------------\n"
     ]
    },
    {
     "name": "stderr",
     "output_type": "stream",
     "text": [
      "2025-05-04 14:19:56 [scrapy.core.engine] DEBUG: Crawled (200) <GET https://www.biblegateway.com/passage/?search=%C3%89sa%C3%AFe%2052&version=LSG> (referer: https://www.biblegateway.com/passage/?search=%C3%89sa%C3%AFe%2051&version=LSG)\n",
      "2025-05-04 14:19:57 [scrapy.extensions.logstats] INFO: Crawled 731 pages (at 82 pages/min), scraped 0 items (at 0 items/min)\n"
     ]
    },
    {
     "name": "stdout",
     "output_type": "stream",
     "text": [
      "--------------- ['/passage/?search=%C3%89sa%C3%AFe%2053&version=LSG'] -----------------\n"
     ]
    },
    {
     "name": "stderr",
     "output_type": "stream",
     "text": [
      "2025-05-04 14:19:57 [scrapy.core.engine] DEBUG: Crawled (200) <GET https://www.biblegateway.com/passage/?search=%C3%89sa%C3%AFe%2053&version=LSG> (referer: https://www.biblegateway.com/passage/?search=%C3%89sa%C3%AFe%2052&version=LSG)\n"
     ]
    },
    {
     "name": "stdout",
     "output_type": "stream",
     "text": [
      "--------------- ['/passage/?search=%C3%89sa%C3%AFe%2054&version=LSG'] -----------------\n"
     ]
    },
    {
     "name": "stderr",
     "output_type": "stream",
     "text": [
      "2025-05-04 14:19:58 [scrapy.core.engine] DEBUG: Crawled (200) <GET https://www.biblegateway.com/passage/?search=%C3%89sa%C3%AFe%2054&version=LSG> (referer: https://www.biblegateway.com/passage/?search=%C3%89sa%C3%AFe%2053&version=LSG)\n"
     ]
    },
    {
     "name": "stdout",
     "output_type": "stream",
     "text": [
      "--------------- ['/passage/?search=%C3%89sa%C3%AFe%2055&version=LSG'] -----------------\n"
     ]
    },
    {
     "name": "stderr",
     "output_type": "stream",
     "text": [
      "2025-05-04 14:19:59 [scrapy.core.engine] DEBUG: Crawled (200) <GET https://www.biblegateway.com/passage/?search=%C3%89sa%C3%AFe%2055&version=LSG> (referer: https://www.biblegateway.com/passage/?search=%C3%89sa%C3%AFe%2054&version=LSG)\n"
     ]
    },
    {
     "name": "stdout",
     "output_type": "stream",
     "text": [
      "--------------- ['/passage/?search=%C3%89sa%C3%AFe%2056&version=LSG'] -----------------\n"
     ]
    },
    {
     "name": "stderr",
     "output_type": "stream",
     "text": [
      "2025-05-04 14:19:59 [scrapy.core.engine] DEBUG: Crawled (200) <GET https://www.biblegateway.com/passage/?search=%C3%89sa%C3%AFe%2056&version=LSG> (referer: https://www.biblegateway.com/passage/?search=%C3%89sa%C3%AFe%2055&version=LSG)\n"
     ]
    },
    {
     "name": "stdout",
     "output_type": "stream",
     "text": [
      "--------------- ['/passage/?search=%C3%89sa%C3%AFe%2057&version=LSG'] -----------------\n"
     ]
    },
    {
     "name": "stderr",
     "output_type": "stream",
     "text": [
      "2025-05-04 14:20:00 [scrapy.core.engine] DEBUG: Crawled (200) <GET https://www.biblegateway.com/passage/?search=%C3%89sa%C3%AFe%2057&version=LSG> (referer: https://www.biblegateway.com/passage/?search=%C3%89sa%C3%AFe%2056&version=LSG)\n"
     ]
    },
    {
     "name": "stdout",
     "output_type": "stream",
     "text": [
      "--------------- ['/passage/?search=%C3%89sa%C3%AFe%2058&version=LSG'] -----------------\n"
     ]
    },
    {
     "name": "stderr",
     "output_type": "stream",
     "text": [
      "2025-05-04 14:20:00 [scrapy.core.engine] DEBUG: Crawled (200) <GET https://www.biblegateway.com/passage/?search=%C3%89sa%C3%AFe%2058&version=LSG> (referer: https://www.biblegateway.com/passage/?search=%C3%89sa%C3%AFe%2057&version=LSG)\n"
     ]
    },
    {
     "name": "stdout",
     "output_type": "stream",
     "text": [
      "--------------- ['/passage/?search=%C3%89sa%C3%AFe%2059&version=LSG'] -----------------\n"
     ]
    },
    {
     "name": "stderr",
     "output_type": "stream",
     "text": [
      "2025-05-04 14:20:01 [scrapy.core.engine] DEBUG: Crawled (200) <GET https://www.biblegateway.com/passage/?search=%C3%89sa%C3%AFe%2059&version=LSG> (referer: https://www.biblegateway.com/passage/?search=%C3%89sa%C3%AFe%2058&version=LSG)\n"
     ]
    },
    {
     "name": "stdout",
     "output_type": "stream",
     "text": [
      "--------------- ['/passage/?search=%C3%89sa%C3%AFe%2060&version=LSG'] -----------------\n"
     ]
    },
    {
     "name": "stderr",
     "output_type": "stream",
     "text": [
      "2025-05-04 14:20:02 [scrapy.core.engine] DEBUG: Crawled (200) <GET https://www.biblegateway.com/passage/?search=%C3%89sa%C3%AFe%2060&version=LSG> (referer: https://www.biblegateway.com/passage/?search=%C3%89sa%C3%AFe%2059&version=LSG)\n"
     ]
    },
    {
     "name": "stdout",
     "output_type": "stream",
     "text": [
      "--------------- ['/passage/?search=%C3%89sa%C3%AFe%2061&version=LSG'] -----------------\n"
     ]
    },
    {
     "name": "stderr",
     "output_type": "stream",
     "text": [
      "2025-05-04 14:20:02 [scrapy.core.engine] DEBUG: Crawled (200) <GET https://www.biblegateway.com/passage/?search=%C3%89sa%C3%AFe%2061&version=LSG> (referer: https://www.biblegateway.com/passage/?search=%C3%89sa%C3%AFe%2060&version=LSG)\n"
     ]
    },
    {
     "name": "stdout",
     "output_type": "stream",
     "text": [
      "--------------- ['/passage/?search=%C3%89sa%C3%AFe%2062&version=LSG'] -----------------\n"
     ]
    },
    {
     "name": "stderr",
     "output_type": "stream",
     "text": [
      "2025-05-04 14:20:03 [scrapy.core.engine] DEBUG: Crawled (200) <GET https://www.biblegateway.com/passage/?search=%C3%89sa%C3%AFe%2062&version=LSG> (referer: https://www.biblegateway.com/passage/?search=%C3%89sa%C3%AFe%2061&version=LSG)\n"
     ]
    },
    {
     "name": "stdout",
     "output_type": "stream",
     "text": [
      "--------------- ['/passage/?search=%C3%89sa%C3%AFe%2063&version=LSG'] -----------------\n"
     ]
    },
    {
     "name": "stderr",
     "output_type": "stream",
     "text": [
      "2025-05-04 14:20:04 [scrapy.core.engine] DEBUG: Crawled (200) <GET https://www.biblegateway.com/passage/?search=%C3%89sa%C3%AFe%2063&version=LSG> (referer: https://www.biblegateway.com/passage/?search=%C3%89sa%C3%AFe%2062&version=LSG)\n"
     ]
    },
    {
     "name": "stdout",
     "output_type": "stream",
     "text": [
      "--------------- ['/passage/?search=%C3%89sa%C3%AFe%2064&version=LSG'] -----------------\n"
     ]
    },
    {
     "name": "stderr",
     "output_type": "stream",
     "text": [
      "2025-05-04 14:20:05 [scrapy.core.engine] DEBUG: Crawled (200) <GET https://www.biblegateway.com/passage/?search=%C3%89sa%C3%AFe%2064&version=LSG> (referer: https://www.biblegateway.com/passage/?search=%C3%89sa%C3%AFe%2063&version=LSG)\n"
     ]
    },
    {
     "name": "stdout",
     "output_type": "stream",
     "text": [
      "--------------- ['/passage/?search=%C3%89sa%C3%AFe%2065&version=LSG'] -----------------\n"
     ]
    },
    {
     "name": "stderr",
     "output_type": "stream",
     "text": [
      "2025-05-04 14:20:05 [scrapy.core.engine] DEBUG: Crawled (200) <GET https://www.biblegateway.com/passage/?search=%C3%89sa%C3%AFe%2065&version=LSG> (referer: https://www.biblegateway.com/passage/?search=%C3%89sa%C3%AFe%2064&version=LSG)\n"
     ]
    },
    {
     "name": "stdout",
     "output_type": "stream",
     "text": [
      "--------------- ['/passage/?search=%C3%89sa%C3%AFe%2066&version=LSG'] -----------------\n"
     ]
    },
    {
     "name": "stderr",
     "output_type": "stream",
     "text": [
      "2025-05-04 14:20:06 [scrapy.core.engine] DEBUG: Crawled (200) <GET https://www.biblegateway.com/passage/?search=%C3%89sa%C3%AFe%2066&version=LSG> (referer: https://www.biblegateway.com/passage/?search=%C3%89sa%C3%AFe%2065&version=LSG)\n"
     ]
    },
    {
     "name": "stdout",
     "output_type": "stream",
     "text": [
      "--------------- ['/passage/?search=J%C3%A9r%C3%A9mie%201&version=LSG'] -----------------\n"
     ]
    },
    {
     "name": "stderr",
     "output_type": "stream",
     "text": [
      "2025-05-04 14:20:07 [scrapy.core.engine] DEBUG: Crawled (200) <GET https://www.biblegateway.com/passage/?search=J%C3%A9r%C3%A9mie%201&version=LSG> (referer: https://www.biblegateway.com/passage/?search=%C3%89sa%C3%AFe%2066&version=LSG)\n"
     ]
    },
    {
     "name": "stdout",
     "output_type": "stream",
     "text": [
      "--------------- ['/passage/?search=J%C3%A9r%C3%A9mie%202&version=LSG'] -----------------\n"
     ]
    },
    {
     "name": "stderr",
     "output_type": "stream",
     "text": [
      "2025-05-04 14:20:07 [scrapy.core.engine] DEBUG: Crawled (200) <GET https://www.biblegateway.com/passage/?search=J%C3%A9r%C3%A9mie%202&version=LSG> (referer: https://www.biblegateway.com/passage/?search=J%C3%A9r%C3%A9mie%201&version=LSG)\n"
     ]
    },
    {
     "name": "stdout",
     "output_type": "stream",
     "text": [
      "--------------- ['/passage/?search=J%C3%A9r%C3%A9mie%203&version=LSG'] -----------------\n"
     ]
    },
    {
     "name": "stderr",
     "output_type": "stream",
     "text": [
      "2025-05-04 14:20:08 [scrapy.core.engine] DEBUG: Crawled (200) <GET https://www.biblegateway.com/passage/?search=J%C3%A9r%C3%A9mie%203&version=LSG> (referer: https://www.biblegateway.com/passage/?search=J%C3%A9r%C3%A9mie%202&version=LSG)\n"
     ]
    },
    {
     "name": "stdout",
     "output_type": "stream",
     "text": [
      "--------------- ['/passage/?search=J%C3%A9r%C3%A9mie%204&version=LSG'] -----------------\n"
     ]
    },
    {
     "name": "stderr",
     "output_type": "stream",
     "text": [
      "2025-05-04 14:20:09 [scrapy.core.engine] DEBUG: Crawled (200) <GET https://www.biblegateway.com/passage/?search=J%C3%A9r%C3%A9mie%204&version=LSG> (referer: https://www.biblegateway.com/passage/?search=J%C3%A9r%C3%A9mie%203&version=LSG)\n"
     ]
    },
    {
     "name": "stdout",
     "output_type": "stream",
     "text": [
      "--------------- ['/passage/?search=J%C3%A9r%C3%A9mie%205&version=LSG'] -----------------\n"
     ]
    },
    {
     "name": "stderr",
     "output_type": "stream",
     "text": [
      "2025-05-04 14:20:10 [scrapy.core.engine] DEBUG: Crawled (200) <GET https://www.biblegateway.com/passage/?search=J%C3%A9r%C3%A9mie%205&version=LSG> (referer: https://www.biblegateway.com/passage/?search=J%C3%A9r%C3%A9mie%204&version=LSG)\n"
     ]
    },
    {
     "name": "stdout",
     "output_type": "stream",
     "text": [
      "--------------- ['/passage/?search=J%C3%A9r%C3%A9mie%206&version=LSG'] -----------------\n"
     ]
    },
    {
     "name": "stderr",
     "output_type": "stream",
     "text": [
      "2025-05-04 14:20:10 [scrapy.core.engine] DEBUG: Crawled (200) <GET https://www.biblegateway.com/passage/?search=J%C3%A9r%C3%A9mie%206&version=LSG> (referer: https://www.biblegateway.com/passage/?search=J%C3%A9r%C3%A9mie%205&version=LSG)\n"
     ]
    },
    {
     "name": "stdout",
     "output_type": "stream",
     "text": [
      "--------------- ['/passage/?search=J%C3%A9r%C3%A9mie%207&version=LSG'] -----------------\n"
     ]
    },
    {
     "name": "stderr",
     "output_type": "stream",
     "text": [
      "2025-05-04 14:20:11 [scrapy.core.engine] DEBUG: Crawled (200) <GET https://www.biblegateway.com/passage/?search=J%C3%A9r%C3%A9mie%207&version=LSG> (referer: https://www.biblegateway.com/passage/?search=J%C3%A9r%C3%A9mie%206&version=LSG)\n"
     ]
    },
    {
     "name": "stdout",
     "output_type": "stream",
     "text": [
      "--------------- ['/passage/?search=J%C3%A9r%C3%A9mie%208&version=LSG'] -----------------\n"
     ]
    },
    {
     "name": "stderr",
     "output_type": "stream",
     "text": [
      "2025-05-04 14:20:12 [scrapy.core.engine] DEBUG: Crawled (200) <GET https://www.biblegateway.com/passage/?search=J%C3%A9r%C3%A9mie%208&version=LSG> (referer: https://www.biblegateway.com/passage/?search=J%C3%A9r%C3%A9mie%207&version=LSG)\n"
     ]
    },
    {
     "name": "stdout",
     "output_type": "stream",
     "text": [
      "--------------- ['/passage/?search=J%C3%A9r%C3%A9mie%209&version=LSG'] -----------------\n"
     ]
    },
    {
     "name": "stderr",
     "output_type": "stream",
     "text": [
      "2025-05-04 14:20:13 [scrapy.core.engine] DEBUG: Crawled (200) <GET https://www.biblegateway.com/passage/?search=J%C3%A9r%C3%A9mie%209&version=LSG> (referer: https://www.biblegateway.com/passage/?search=J%C3%A9r%C3%A9mie%208&version=LSG)\n"
     ]
    },
    {
     "name": "stdout",
     "output_type": "stream",
     "text": [
      "--------------- ['/passage/?search=J%C3%A9r%C3%A9mie%2010&version=LSG'] -----------------\n"
     ]
    },
    {
     "name": "stderr",
     "output_type": "stream",
     "text": [
      "2025-05-04 14:20:14 [scrapy.core.engine] DEBUG: Crawled (200) <GET https://www.biblegateway.com/passage/?search=J%C3%A9r%C3%A9mie%2010&version=LSG> (referer: https://www.biblegateway.com/passage/?search=J%C3%A9r%C3%A9mie%209&version=LSG)\n"
     ]
    },
    {
     "name": "stdout",
     "output_type": "stream",
     "text": [
      "--------------- ['/passage/?search=J%C3%A9r%C3%A9mie%2011&version=LSG'] -----------------\n"
     ]
    },
    {
     "name": "stderr",
     "output_type": "stream",
     "text": [
      "2025-05-04 14:20:14 [scrapy.core.engine] DEBUG: Crawled (200) <GET https://www.biblegateway.com/passage/?search=J%C3%A9r%C3%A9mie%2011&version=LSG> (referer: https://www.biblegateway.com/passage/?search=J%C3%A9r%C3%A9mie%2010&version=LSG)\n"
     ]
    },
    {
     "name": "stdout",
     "output_type": "stream",
     "text": [
      "--------------- ['/passage/?search=J%C3%A9r%C3%A9mie%2012&version=LSG'] -----------------\n"
     ]
    },
    {
     "name": "stderr",
     "output_type": "stream",
     "text": [
      "2025-05-04 14:20:15 [scrapy.core.engine] DEBUG: Crawled (200) <GET https://www.biblegateway.com/passage/?search=J%C3%A9r%C3%A9mie%2012&version=LSG> (referer: https://www.biblegateway.com/passage/?search=J%C3%A9r%C3%A9mie%2011&version=LSG)\n"
     ]
    },
    {
     "name": "stdout",
     "output_type": "stream",
     "text": [
      "--------------- ['/passage/?search=J%C3%A9r%C3%A9mie%2013&version=LSG'] -----------------\n"
     ]
    },
    {
     "name": "stderr",
     "output_type": "stream",
     "text": [
      "2025-05-04 14:20:16 [scrapy.core.engine] DEBUG: Crawled (200) <GET https://www.biblegateway.com/passage/?search=J%C3%A9r%C3%A9mie%2013&version=LSG> (referer: https://www.biblegateway.com/passage/?search=J%C3%A9r%C3%A9mie%2012&version=LSG)\n"
     ]
    },
    {
     "name": "stdout",
     "output_type": "stream",
     "text": [
      "--------------- ['/passage/?search=J%C3%A9r%C3%A9mie%2014&version=LSG'] -----------------\n"
     ]
    },
    {
     "name": "stderr",
     "output_type": "stream",
     "text": [
      "2025-05-04 14:20:16 [scrapy.core.engine] DEBUG: Crawled (200) <GET https://www.biblegateway.com/passage/?search=J%C3%A9r%C3%A9mie%2014&version=LSG> (referer: https://www.biblegateway.com/passage/?search=J%C3%A9r%C3%A9mie%2013&version=LSG)\n"
     ]
    },
    {
     "name": "stdout",
     "output_type": "stream",
     "text": [
      "--------------- ['/passage/?search=J%C3%A9r%C3%A9mie%2015&version=LSG'] -----------------\n"
     ]
    },
    {
     "name": "stderr",
     "output_type": "stream",
     "text": [
      "2025-05-04 14:20:17 [scrapy.core.engine] DEBUG: Crawled (200) <GET https://www.biblegateway.com/passage/?search=J%C3%A9r%C3%A9mie%2015&version=LSG> (referer: https://www.biblegateway.com/passage/?search=J%C3%A9r%C3%A9mie%2014&version=LSG)\n"
     ]
    },
    {
     "name": "stdout",
     "output_type": "stream",
     "text": [
      "--------------- ['/passage/?search=J%C3%A9r%C3%A9mie%2016&version=LSG'] -----------------\n"
     ]
    },
    {
     "name": "stderr",
     "output_type": "stream",
     "text": [
      "2025-05-04 14:20:18 [scrapy.core.engine] DEBUG: Crawled (200) <GET https://www.biblegateway.com/passage/?search=J%C3%A9r%C3%A9mie%2016&version=LSG> (referer: https://www.biblegateway.com/passage/?search=J%C3%A9r%C3%A9mie%2015&version=LSG)\n"
     ]
    },
    {
     "name": "stdout",
     "output_type": "stream",
     "text": [
      "--------------- ['/passage/?search=J%C3%A9r%C3%A9mie%2017&version=LSG'] -----------------\n"
     ]
    },
    {
     "name": "stderr",
     "output_type": "stream",
     "text": [
      "2025-05-04 14:20:18 [scrapy.core.engine] DEBUG: Crawled (200) <GET https://www.biblegateway.com/passage/?search=J%C3%A9r%C3%A9mie%2017&version=LSG> (referer: https://www.biblegateway.com/passage/?search=J%C3%A9r%C3%A9mie%2016&version=LSG)\n"
     ]
    },
    {
     "name": "stdout",
     "output_type": "stream",
     "text": [
      "--------------- ['/passage/?search=J%C3%A9r%C3%A9mie%2018&version=LSG'] -----------------\n"
     ]
    },
    {
     "name": "stderr",
     "output_type": "stream",
     "text": [
      "2025-05-04 14:20:19 [scrapy.core.engine] DEBUG: Crawled (200) <GET https://www.biblegateway.com/passage/?search=J%C3%A9r%C3%A9mie%2018&version=LSG> (referer: https://www.biblegateway.com/passage/?search=J%C3%A9r%C3%A9mie%2017&version=LSG)\n"
     ]
    },
    {
     "name": "stdout",
     "output_type": "stream",
     "text": [
      "--------------- ['/passage/?search=J%C3%A9r%C3%A9mie%2019&version=LSG'] -----------------\n"
     ]
    },
    {
     "name": "stderr",
     "output_type": "stream",
     "text": [
      "2025-05-04 14:20:20 [scrapy.core.engine] DEBUG: Crawled (200) <GET https://www.biblegateway.com/passage/?search=J%C3%A9r%C3%A9mie%2019&version=LSG> (referer: https://www.biblegateway.com/passage/?search=J%C3%A9r%C3%A9mie%2018&version=LSG)\n"
     ]
    },
    {
     "name": "stdout",
     "output_type": "stream",
     "text": [
      "--------------- ['/passage/?search=J%C3%A9r%C3%A9mie%2020&version=LSG'] -----------------\n"
     ]
    },
    {
     "name": "stderr",
     "output_type": "stream",
     "text": [
      "2025-05-04 14:20:22 [scrapy.core.engine] DEBUG: Crawled (200) <GET https://www.biblegateway.com/passage/?search=J%C3%A9r%C3%A9mie%2020&version=LSG> (referer: https://www.biblegateway.com/passage/?search=J%C3%A9r%C3%A9mie%2019&version=LSG)\n"
     ]
    },
    {
     "name": "stdout",
     "output_type": "stream",
     "text": [
      "--------------- ['/passage/?search=J%C3%A9r%C3%A9mie%2021&version=LSG'] -----------------\n"
     ]
    },
    {
     "name": "stderr",
     "output_type": "stream",
     "text": [
      "2025-05-04 14:20:22 [scrapy.core.engine] DEBUG: Crawled (200) <GET https://www.biblegateway.com/passage/?search=J%C3%A9r%C3%A9mie%2021&version=LSG> (referer: https://www.biblegateway.com/passage/?search=J%C3%A9r%C3%A9mie%2020&version=LSG)\n"
     ]
    },
    {
     "name": "stdout",
     "output_type": "stream",
     "text": [
      "--------------- ['/passage/?search=J%C3%A9r%C3%A9mie%2022&version=LSG'] -----------------\n"
     ]
    },
    {
     "name": "stderr",
     "output_type": "stream",
     "text": [
      "2025-05-04 14:20:23 [scrapy.core.engine] DEBUG: Crawled (200) <GET https://www.biblegateway.com/passage/?search=J%C3%A9r%C3%A9mie%2022&version=LSG> (referer: https://www.biblegateway.com/passage/?search=J%C3%A9r%C3%A9mie%2021&version=LSG)\n"
     ]
    },
    {
     "name": "stdout",
     "output_type": "stream",
     "text": [
      "--------------- ['/passage/?search=J%C3%A9r%C3%A9mie%2023&version=LSG'] -----------------\n"
     ]
    },
    {
     "name": "stderr",
     "output_type": "stream",
     "text": [
      "2025-05-04 14:20:24 [scrapy.core.engine] DEBUG: Crawled (200) <GET https://www.biblegateway.com/passage/?search=J%C3%A9r%C3%A9mie%2023&version=LSG> (referer: https://www.biblegateway.com/passage/?search=J%C3%A9r%C3%A9mie%2022&version=LSG)\n"
     ]
    },
    {
     "name": "stdout",
     "output_type": "stream",
     "text": [
      "--------------- ['/passage/?search=J%C3%A9r%C3%A9mie%2024&version=LSG'] -----------------\n"
     ]
    },
    {
     "name": "stderr",
     "output_type": "stream",
     "text": [
      "2025-05-04 14:20:25 [scrapy.core.engine] DEBUG: Crawled (200) <GET https://www.biblegateway.com/passage/?search=J%C3%A9r%C3%A9mie%2024&version=LSG> (referer: https://www.biblegateway.com/passage/?search=J%C3%A9r%C3%A9mie%2023&version=LSG)\n"
     ]
    },
    {
     "name": "stdout",
     "output_type": "stream",
     "text": [
      "--------------- ['/passage/?search=J%C3%A9r%C3%A9mie%2025&version=LSG'] -----------------\n"
     ]
    },
    {
     "name": "stderr",
     "output_type": "stream",
     "text": [
      "2025-05-04 14:20:25 [scrapy.core.engine] DEBUG: Crawled (200) <GET https://www.biblegateway.com/passage/?search=J%C3%A9r%C3%A9mie%2025&version=LSG> (referer: https://www.biblegateway.com/passage/?search=J%C3%A9r%C3%A9mie%2024&version=LSG)\n"
     ]
    },
    {
     "name": "stdout",
     "output_type": "stream",
     "text": [
      "--------------- ['/passage/?search=J%C3%A9r%C3%A9mie%2026&version=LSG'] -----------------\n"
     ]
    },
    {
     "name": "stderr",
     "output_type": "stream",
     "text": [
      "2025-05-04 14:20:26 [scrapy.core.engine] DEBUG: Crawled (200) <GET https://www.biblegateway.com/passage/?search=J%C3%A9r%C3%A9mie%2026&version=LSG> (referer: https://www.biblegateway.com/passage/?search=J%C3%A9r%C3%A9mie%2025&version=LSG)\n"
     ]
    },
    {
     "name": "stdout",
     "output_type": "stream",
     "text": [
      "--------------- ['/passage/?search=J%C3%A9r%C3%A9mie%2027&version=LSG'] -----------------\n"
     ]
    },
    {
     "name": "stderr",
     "output_type": "stream",
     "text": [
      "2025-05-04 14:20:27 [scrapy.core.engine] DEBUG: Crawled (200) <GET https://www.biblegateway.com/passage/?search=J%C3%A9r%C3%A9mie%2027&version=LSG> (referer: https://www.biblegateway.com/passage/?search=J%C3%A9r%C3%A9mie%2026&version=LSG)\n"
     ]
    },
    {
     "name": "stdout",
     "output_type": "stream",
     "text": [
      "--------------- ['/passage/?search=J%C3%A9r%C3%A9mie%2028&version=LSG'] -----------------\n"
     ]
    },
    {
     "name": "stderr",
     "output_type": "stream",
     "text": [
      "2025-05-04 14:20:27 [scrapy.core.engine] DEBUG: Crawled (200) <GET https://www.biblegateway.com/passage/?search=J%C3%A9r%C3%A9mie%2028&version=LSG> (referer: https://www.biblegateway.com/passage/?search=J%C3%A9r%C3%A9mie%2027&version=LSG)\n"
     ]
    },
    {
     "name": "stdout",
     "output_type": "stream",
     "text": [
      "--------------- ['/passage/?search=J%C3%A9r%C3%A9mie%2029&version=LSG'] -----------------\n"
     ]
    },
    {
     "name": "stderr",
     "output_type": "stream",
     "text": [
      "2025-05-04 14:20:28 [scrapy.core.engine] DEBUG: Crawled (200) <GET https://www.biblegateway.com/passage/?search=J%C3%A9r%C3%A9mie%2029&version=LSG> (referer: https://www.biblegateway.com/passage/?search=J%C3%A9r%C3%A9mie%2028&version=LSG)\n"
     ]
    },
    {
     "name": "stdout",
     "output_type": "stream",
     "text": [
      "--------------- ['/passage/?search=J%C3%A9r%C3%A9mie%2030&version=LSG'] -----------------\n"
     ]
    },
    {
     "name": "stderr",
     "output_type": "stream",
     "text": [
      "2025-05-04 14:20:28 [scrapy.core.engine] DEBUG: Crawled (200) <GET https://www.biblegateway.com/passage/?search=J%C3%A9r%C3%A9mie%2030&version=LSG> (referer: https://www.biblegateway.com/passage/?search=J%C3%A9r%C3%A9mie%2029&version=LSG)\n"
     ]
    },
    {
     "name": "stdout",
     "output_type": "stream",
     "text": [
      "--------------- ['/passage/?search=J%C3%A9r%C3%A9mie%2031&version=LSG'] -----------------\n"
     ]
    },
    {
     "name": "stderr",
     "output_type": "stream",
     "text": [
      "2025-05-04 14:20:29 [scrapy.core.engine] DEBUG: Crawled (200) <GET https://www.biblegateway.com/passage/?search=J%C3%A9r%C3%A9mie%2031&version=LSG> (referer: https://www.biblegateway.com/passage/?search=J%C3%A9r%C3%A9mie%2030&version=LSG)\n"
     ]
    },
    {
     "name": "stdout",
     "output_type": "stream",
     "text": [
      "--------------- ['/passage/?search=J%C3%A9r%C3%A9mie%2032&version=LSG'] -----------------\n"
     ]
    },
    {
     "name": "stderr",
     "output_type": "stream",
     "text": [
      "2025-05-04 14:20:30 [scrapy.core.engine] DEBUG: Crawled (200) <GET https://www.biblegateway.com/passage/?search=J%C3%A9r%C3%A9mie%2032&version=LSG> (referer: https://www.biblegateway.com/passage/?search=J%C3%A9r%C3%A9mie%2031&version=LSG)\n"
     ]
    },
    {
     "name": "stdout",
     "output_type": "stream",
     "text": [
      "--------------- ['/passage/?search=J%C3%A9r%C3%A9mie%2033&version=LSG'] -----------------\n"
     ]
    },
    {
     "name": "stderr",
     "output_type": "stream",
     "text": [
      "2025-05-04 14:20:31 [scrapy.core.engine] DEBUG: Crawled (200) <GET https://www.biblegateway.com/passage/?search=J%C3%A9r%C3%A9mie%2033&version=LSG> (referer: https://www.biblegateway.com/passage/?search=J%C3%A9r%C3%A9mie%2032&version=LSG)\n"
     ]
    },
    {
     "name": "stdout",
     "output_type": "stream",
     "text": [
      "--------------- ['/passage/?search=J%C3%A9r%C3%A9mie%2034&version=LSG'] -----------------\n"
     ]
    },
    {
     "name": "stderr",
     "output_type": "stream",
     "text": [
      "2025-05-04 14:20:31 [scrapy.core.engine] DEBUG: Crawled (200) <GET https://www.biblegateway.com/passage/?search=J%C3%A9r%C3%A9mie%2034&version=LSG> (referer: https://www.biblegateway.com/passage/?search=J%C3%A9r%C3%A9mie%2033&version=LSG)\n"
     ]
    },
    {
     "name": "stdout",
     "output_type": "stream",
     "text": [
      "--------------- ['/passage/?search=J%C3%A9r%C3%A9mie%2035&version=LSG'] -----------------\n"
     ]
    },
    {
     "name": "stderr",
     "output_type": "stream",
     "text": [
      "2025-05-04 14:20:32 [scrapy.core.engine] DEBUG: Crawled (200) <GET https://www.biblegateway.com/passage/?search=J%C3%A9r%C3%A9mie%2035&version=LSG> (referer: https://www.biblegateway.com/passage/?search=J%C3%A9r%C3%A9mie%2034&version=LSG)\n"
     ]
    },
    {
     "name": "stdout",
     "output_type": "stream",
     "text": [
      "--------------- ['/passage/?search=J%C3%A9r%C3%A9mie%2036&version=LSG'] -----------------\n"
     ]
    },
    {
     "name": "stderr",
     "output_type": "stream",
     "text": [
      "2025-05-04 14:20:32 [scrapy.core.engine] DEBUG: Crawled (200) <GET https://www.biblegateway.com/passage/?search=J%C3%A9r%C3%A9mie%2036&version=LSG> (referer: https://www.biblegateway.com/passage/?search=J%C3%A9r%C3%A9mie%2035&version=LSG)\n"
     ]
    },
    {
     "name": "stdout",
     "output_type": "stream",
     "text": [
      "--------------- ['/passage/?search=J%C3%A9r%C3%A9mie%2037&version=LSG'] -----------------\n"
     ]
    },
    {
     "name": "stderr",
     "output_type": "stream",
     "text": [
      "2025-05-04 14:20:33 [scrapy.core.engine] DEBUG: Crawled (200) <GET https://www.biblegateway.com/passage/?search=J%C3%A9r%C3%A9mie%2037&version=LSG> (referer: https://www.biblegateway.com/passage/?search=J%C3%A9r%C3%A9mie%2036&version=LSG)\n"
     ]
    },
    {
     "name": "stdout",
     "output_type": "stream",
     "text": [
      "--------------- ['/passage/?search=J%C3%A9r%C3%A9mie%2038&version=LSG'] -----------------\n"
     ]
    },
    {
     "name": "stderr",
     "output_type": "stream",
     "text": [
      "2025-05-04 14:20:34 [scrapy.core.engine] DEBUG: Crawled (200) <GET https://www.biblegateway.com/passage/?search=J%C3%A9r%C3%A9mie%2038&version=LSG> (referer: https://www.biblegateway.com/passage/?search=J%C3%A9r%C3%A9mie%2037&version=LSG)\n"
     ]
    },
    {
     "name": "stdout",
     "output_type": "stream",
     "text": [
      "--------------- ['/passage/?search=J%C3%A9r%C3%A9mie%2039&version=LSG'] -----------------\n"
     ]
    },
    {
     "name": "stderr",
     "output_type": "stream",
     "text": [
      "2025-05-04 14:20:34 [scrapy.core.engine] DEBUG: Crawled (200) <GET https://www.biblegateway.com/passage/?search=J%C3%A9r%C3%A9mie%2039&version=LSG> (referer: https://www.biblegateway.com/passage/?search=J%C3%A9r%C3%A9mie%2038&version=LSG)\n"
     ]
    },
    {
     "name": "stdout",
     "output_type": "stream",
     "text": [
      "--------------- ['/passage/?search=J%C3%A9r%C3%A9mie%2040&version=LSG'] -----------------\n"
     ]
    },
    {
     "name": "stderr",
     "output_type": "stream",
     "text": [
      "2025-05-04 14:20:35 [scrapy.core.engine] DEBUG: Crawled (200) <GET https://www.biblegateway.com/passage/?search=J%C3%A9r%C3%A9mie%2040&version=LSG> (referer: https://www.biblegateway.com/passage/?search=J%C3%A9r%C3%A9mie%2039&version=LSG)\n"
     ]
    },
    {
     "name": "stdout",
     "output_type": "stream",
     "text": [
      "--------------- ['/passage/?search=J%C3%A9r%C3%A9mie%2041&version=LSG'] -----------------\n"
     ]
    },
    {
     "name": "stderr",
     "output_type": "stream",
     "text": [
      "2025-05-04 14:20:36 [scrapy.core.engine] DEBUG: Crawled (200) <GET https://www.biblegateway.com/passage/?search=J%C3%A9r%C3%A9mie%2041&version=LSG> (referer: https://www.biblegateway.com/passage/?search=J%C3%A9r%C3%A9mie%2040&version=LSG)\n"
     ]
    },
    {
     "name": "stdout",
     "output_type": "stream",
     "text": [
      "--------------- ['/passage/?search=J%C3%A9r%C3%A9mie%2042&version=LSG'] -----------------\n"
     ]
    },
    {
     "name": "stderr",
     "output_type": "stream",
     "text": [
      "2025-05-04 14:20:37 [scrapy.core.engine] DEBUG: Crawled (200) <GET https://www.biblegateway.com/passage/?search=J%C3%A9r%C3%A9mie%2042&version=LSG> (referer: https://www.biblegateway.com/passage/?search=J%C3%A9r%C3%A9mie%2041&version=LSG)\n"
     ]
    },
    {
     "name": "stdout",
     "output_type": "stream",
     "text": [
      "--------------- ['/passage/?search=J%C3%A9r%C3%A9mie%2043&version=LSG'] -----------------\n"
     ]
    },
    {
     "name": "stderr",
     "output_type": "stream",
     "text": [
      "2025-05-04 14:20:37 [scrapy.core.engine] DEBUG: Crawled (200) <GET https://www.biblegateway.com/passage/?search=J%C3%A9r%C3%A9mie%2043&version=LSG> (referer: https://www.biblegateway.com/passage/?search=J%C3%A9r%C3%A9mie%2042&version=LSG)\n"
     ]
    },
    {
     "name": "stdout",
     "output_type": "stream",
     "text": [
      "--------------- ['/passage/?search=J%C3%A9r%C3%A9mie%2044&version=LSG'] -----------------\n"
     ]
    },
    {
     "name": "stderr",
     "output_type": "stream",
     "text": [
      "2025-05-04 14:20:38 [scrapy.core.engine] DEBUG: Crawled (200) <GET https://www.biblegateway.com/passage/?search=J%C3%A9r%C3%A9mie%2044&version=LSG> (referer: https://www.biblegateway.com/passage/?search=J%C3%A9r%C3%A9mie%2043&version=LSG)\n"
     ]
    },
    {
     "name": "stdout",
     "output_type": "stream",
     "text": [
      "--------------- ['/passage/?search=J%C3%A9r%C3%A9mie%2045&version=LSG'] -----------------\n"
     ]
    },
    {
     "name": "stderr",
     "output_type": "stream",
     "text": [
      "2025-05-04 14:20:39 [scrapy.core.engine] DEBUG: Crawled (200) <GET https://www.biblegateway.com/passage/?search=J%C3%A9r%C3%A9mie%2045&version=LSG> (referer: https://www.biblegateway.com/passage/?search=J%C3%A9r%C3%A9mie%2044&version=LSG)\n"
     ]
    },
    {
     "name": "stdout",
     "output_type": "stream",
     "text": [
      "--------------- ['/passage/?search=J%C3%A9r%C3%A9mie%2046&version=LSG'] -----------------\n"
     ]
    },
    {
     "name": "stderr",
     "output_type": "stream",
     "text": [
      "2025-05-04 14:20:39 [scrapy.core.engine] DEBUG: Crawled (200) <GET https://www.biblegateway.com/passage/?search=J%C3%A9r%C3%A9mie%2046&version=LSG> (referer: https://www.biblegateway.com/passage/?search=J%C3%A9r%C3%A9mie%2045&version=LSG)\n"
     ]
    },
    {
     "name": "stdout",
     "output_type": "stream",
     "text": [
      "--------------- ['/passage/?search=J%C3%A9r%C3%A9mie%2047&version=LSG'] -----------------\n"
     ]
    },
    {
     "name": "stderr",
     "output_type": "stream",
     "text": [
      "2025-05-04 14:20:40 [scrapy.core.engine] DEBUG: Crawled (200) <GET https://www.biblegateway.com/passage/?search=J%C3%A9r%C3%A9mie%2047&version=LSG> (referer: https://www.biblegateway.com/passage/?search=J%C3%A9r%C3%A9mie%2046&version=LSG)\n"
     ]
    },
    {
     "name": "stdout",
     "output_type": "stream",
     "text": [
      "--------------- ['/passage/?search=J%C3%A9r%C3%A9mie%2048&version=LSG'] -----------------\n"
     ]
    },
    {
     "name": "stderr",
     "output_type": "stream",
     "text": [
      "2025-05-04 14:20:41 [scrapy.core.engine] DEBUG: Crawled (200) <GET https://www.biblegateway.com/passage/?search=J%C3%A9r%C3%A9mie%2048&version=LSG> (referer: https://www.biblegateway.com/passage/?search=J%C3%A9r%C3%A9mie%2047&version=LSG)\n"
     ]
    },
    {
     "name": "stdout",
     "output_type": "stream",
     "text": [
      "--------------- ['/passage/?search=J%C3%A9r%C3%A9mie%2049&version=LSG'] -----------------\n"
     ]
    },
    {
     "name": "stderr",
     "output_type": "stream",
     "text": [
      "2025-05-04 14:20:42 [scrapy.core.engine] DEBUG: Crawled (200) <GET https://www.biblegateway.com/passage/?search=J%C3%A9r%C3%A9mie%2049&version=LSG> (referer: https://www.biblegateway.com/passage/?search=J%C3%A9r%C3%A9mie%2048&version=LSG)\n"
     ]
    },
    {
     "name": "stdout",
     "output_type": "stream",
     "text": [
      "--------------- ['/passage/?search=J%C3%A9r%C3%A9mie%2050&version=LSG'] -----------------\n"
     ]
    },
    {
     "name": "stderr",
     "output_type": "stream",
     "text": [
      "2025-05-04 14:20:43 [scrapy.core.engine] DEBUG: Crawled (200) <GET https://www.biblegateway.com/passage/?search=J%C3%A9r%C3%A9mie%2050&version=LSG> (referer: https://www.biblegateway.com/passage/?search=J%C3%A9r%C3%A9mie%2049&version=LSG)\n"
     ]
    },
    {
     "name": "stdout",
     "output_type": "stream",
     "text": [
      "--------------- ['/passage/?search=J%C3%A9r%C3%A9mie%2051&version=LSG'] -----------------\n"
     ]
    },
    {
     "name": "stderr",
     "output_type": "stream",
     "text": [
      "2025-05-04 14:20:43 [scrapy.core.engine] DEBUG: Crawled (200) <GET https://www.biblegateway.com/passage/?search=J%C3%A9r%C3%A9mie%2051&version=LSG> (referer: https://www.biblegateway.com/passage/?search=J%C3%A9r%C3%A9mie%2050&version=LSG)\n"
     ]
    },
    {
     "name": "stdout",
     "output_type": "stream",
     "text": [
      "--------------- ['/passage/?search=J%C3%A9r%C3%A9mie%2052&version=LSG'] -----------------\n"
     ]
    },
    {
     "name": "stderr",
     "output_type": "stream",
     "text": [
      "2025-05-04 14:20:44 [scrapy.core.engine] DEBUG: Crawled (200) <GET https://www.biblegateway.com/passage/?search=J%C3%A9r%C3%A9mie%2052&version=LSG> (referer: https://www.biblegateway.com/passage/?search=J%C3%A9r%C3%A9mie%2051&version=LSG)\n"
     ]
    },
    {
     "name": "stdout",
     "output_type": "stream",
     "text": [
      "--------------- ['/passage/?search=Lamentations%201&version=LSG'] -----------------\n"
     ]
    },
    {
     "name": "stderr",
     "output_type": "stream",
     "text": [
      "2025-05-04 14:20:45 [scrapy.core.engine] DEBUG: Crawled (200) <GET https://www.biblegateway.com/passage/?search=Lamentations%201&version=LSG> (referer: https://www.biblegateway.com/passage/?search=J%C3%A9r%C3%A9mie%2052&version=LSG)\n"
     ]
    },
    {
     "name": "stdout",
     "output_type": "stream",
     "text": [
      "--------------- ['/passage/?search=Lamentations%202&version=LSG'] -----------------\n"
     ]
    },
    {
     "name": "stderr",
     "output_type": "stream",
     "text": [
      "2025-05-04 14:20:46 [scrapy.core.engine] DEBUG: Crawled (200) <GET https://www.biblegateway.com/passage/?search=Lamentations%202&version=LSG> (referer: https://www.biblegateway.com/passage/?search=Lamentations%201&version=LSG)\n"
     ]
    },
    {
     "name": "stdout",
     "output_type": "stream",
     "text": [
      "--------------- ['/passage/?search=Lamentations%203&version=LSG'] -----------------\n"
     ]
    },
    {
     "name": "stderr",
     "output_type": "stream",
     "text": [
      "2025-05-04 14:20:46 [scrapy.core.engine] DEBUG: Crawled (200) <GET https://www.biblegateway.com/passage/?search=Lamentations%203&version=LSG> (referer: https://www.biblegateway.com/passage/?search=Lamentations%202&version=LSG)\n"
     ]
    },
    {
     "name": "stdout",
     "output_type": "stream",
     "text": [
      "--------------- ['/passage/?search=Lamentations%204&version=LSG'] -----------------\n"
     ]
    },
    {
     "name": "stderr",
     "output_type": "stream",
     "text": [
      "2025-05-04 14:20:48 [scrapy.core.engine] DEBUG: Crawled (200) <GET https://www.biblegateway.com/passage/?search=Lamentations%204&version=LSG> (referer: https://www.biblegateway.com/passage/?search=Lamentations%203&version=LSG)\n"
     ]
    },
    {
     "name": "stdout",
     "output_type": "stream",
     "text": [
      "--------------- ['/passage/?search=Lamentations%205&version=LSG'] -----------------\n"
     ]
    },
    {
     "name": "stderr",
     "output_type": "stream",
     "text": [
      "2025-05-04 14:20:49 [scrapy.core.engine] DEBUG: Crawled (200) <GET https://www.biblegateway.com/passage/?search=Lamentations%205&version=LSG> (referer: https://www.biblegateway.com/passage/?search=Lamentations%204&version=LSG)\n"
     ]
    },
    {
     "name": "stdout",
     "output_type": "stream",
     "text": [
      "--------------- ['/passage/?search=%C3%89z%C3%A9chiel%201&version=LSG'] -----------------\n"
     ]
    },
    {
     "name": "stderr",
     "output_type": "stream",
     "text": [
      "2025-05-04 14:20:49 [scrapy.core.engine] DEBUG: Crawled (200) <GET https://www.biblegateway.com/passage/?search=%C3%89z%C3%A9chiel%201&version=LSG> (referer: https://www.biblegateway.com/passage/?search=Lamentations%205&version=LSG)\n"
     ]
    },
    {
     "name": "stdout",
     "output_type": "stream",
     "text": [
      "--------------- ['/passage/?search=%C3%89z%C3%A9chiel%202&version=LSG'] -----------------\n"
     ]
    },
    {
     "name": "stderr",
     "output_type": "stream",
     "text": [
      "2025-05-04 14:20:50 [scrapy.core.engine] DEBUG: Crawled (200) <GET https://www.biblegateway.com/passage/?search=%C3%89z%C3%A9chiel%202&version=LSG> (referer: https://www.biblegateway.com/passage/?search=%C3%89z%C3%A9chiel%201&version=LSG)\n"
     ]
    },
    {
     "name": "stdout",
     "output_type": "stream",
     "text": [
      "--------------- ['/passage/?search=%C3%89z%C3%A9chiel%203&version=LSG'] -----------------\n"
     ]
    },
    {
     "name": "stderr",
     "output_type": "stream",
     "text": [
      "2025-05-04 14:20:51 [scrapy.core.engine] DEBUG: Crawled (200) <GET https://www.biblegateway.com/passage/?search=%C3%89z%C3%A9chiel%203&version=LSG> (referer: https://www.biblegateway.com/passage/?search=%C3%89z%C3%A9chiel%202&version=LSG)\n"
     ]
    },
    {
     "name": "stdout",
     "output_type": "stream",
     "text": [
      "--------------- ['/passage/?search=%C3%89z%C3%A9chiel%204&version=LSG'] -----------------\n"
     ]
    },
    {
     "name": "stderr",
     "output_type": "stream",
     "text": [
      "2025-05-04 14:20:51 [scrapy.core.engine] DEBUG: Crawled (200) <GET https://www.biblegateway.com/passage/?search=%C3%89z%C3%A9chiel%204&version=LSG> (referer: https://www.biblegateway.com/passage/?search=%C3%89z%C3%A9chiel%203&version=LSG)\n"
     ]
    },
    {
     "name": "stdout",
     "output_type": "stream",
     "text": [
      "--------------- ['/passage/?search=%C3%89z%C3%A9chiel%205&version=LSG'] -----------------\n"
     ]
    },
    {
     "name": "stderr",
     "output_type": "stream",
     "text": [
      "2025-05-04 14:20:52 [scrapy.core.engine] DEBUG: Crawled (200) <GET https://www.biblegateway.com/passage/?search=%C3%89z%C3%A9chiel%205&version=LSG> (referer: https://www.biblegateway.com/passage/?search=%C3%89z%C3%A9chiel%204&version=LSG)\n"
     ]
    },
    {
     "name": "stdout",
     "output_type": "stream",
     "text": [
      "--------------- ['/passage/?search=%C3%89z%C3%A9chiel%206&version=LSG'] -----------------\n"
     ]
    },
    {
     "name": "stderr",
     "output_type": "stream",
     "text": [
      "2025-05-04 14:20:53 [scrapy.core.engine] DEBUG: Crawled (200) <GET https://www.biblegateway.com/passage/?search=%C3%89z%C3%A9chiel%206&version=LSG> (referer: https://www.biblegateway.com/passage/?search=%C3%89z%C3%A9chiel%205&version=LSG)\n"
     ]
    },
    {
     "name": "stdout",
     "output_type": "stream",
     "text": [
      "--------------- ['/passage/?search=%C3%89z%C3%A9chiel%207&version=LSG'] -----------------\n"
     ]
    },
    {
     "name": "stderr",
     "output_type": "stream",
     "text": [
      "2025-05-04 14:20:54 [scrapy.core.engine] DEBUG: Crawled (200) <GET https://www.biblegateway.com/passage/?search=%C3%89z%C3%A9chiel%207&version=LSG> (referer: https://www.biblegateway.com/passage/?search=%C3%89z%C3%A9chiel%206&version=LSG)\n"
     ]
    },
    {
     "name": "stdout",
     "output_type": "stream",
     "text": [
      "--------------- ['/passage/?search=%C3%89z%C3%A9chiel%208&version=LSG'] -----------------\n"
     ]
    },
    {
     "name": "stderr",
     "output_type": "stream",
     "text": [
      "2025-05-04 14:20:54 [scrapy.core.engine] DEBUG: Crawled (200) <GET https://www.biblegateway.com/passage/?search=%C3%89z%C3%A9chiel%208&version=LSG> (referer: https://www.biblegateway.com/passage/?search=%C3%89z%C3%A9chiel%207&version=LSG)\n"
     ]
    },
    {
     "name": "stdout",
     "output_type": "stream",
     "text": [
      "--------------- ['/passage/?search=%C3%89z%C3%A9chiel%209&version=LSG'] -----------------\n"
     ]
    },
    {
     "name": "stderr",
     "output_type": "stream",
     "text": [
      "2025-05-04 14:20:55 [scrapy.core.engine] DEBUG: Crawled (200) <GET https://www.biblegateway.com/passage/?search=%C3%89z%C3%A9chiel%209&version=LSG> (referer: https://www.biblegateway.com/passage/?search=%C3%89z%C3%A9chiel%208&version=LSG)\n"
     ]
    },
    {
     "name": "stdout",
     "output_type": "stream",
     "text": [
      "--------------- ['/passage/?search=%C3%89z%C3%A9chiel%2010&version=LSG'] -----------------\n"
     ]
    },
    {
     "name": "stderr",
     "output_type": "stream",
     "text": [
      "2025-05-04 14:20:56 [scrapy.core.engine] DEBUG: Crawled (200) <GET https://www.biblegateway.com/passage/?search=%C3%89z%C3%A9chiel%2010&version=LSG> (referer: https://www.biblegateway.com/passage/?search=%C3%89z%C3%A9chiel%209&version=LSG)\n"
     ]
    },
    {
     "name": "stdout",
     "output_type": "stream",
     "text": [
      "--------------- ['/passage/?search=%C3%89z%C3%A9chiel%2011&version=LSG'] -----------------\n"
     ]
    },
    {
     "name": "stderr",
     "output_type": "stream",
     "text": [
      "2025-05-04 14:20:57 [scrapy.core.engine] DEBUG: Crawled (200) <GET https://www.biblegateway.com/passage/?search=%C3%89z%C3%A9chiel%2011&version=LSG> (referer: https://www.biblegateway.com/passage/?search=%C3%89z%C3%A9chiel%2010&version=LSG)\n",
      "2025-05-04 14:20:57 [scrapy.extensions.logstats] INFO: Crawled 813 pages (at 82 pages/min), scraped 0 items (at 0 items/min)\n"
     ]
    },
    {
     "name": "stdout",
     "output_type": "stream",
     "text": [
      "--------------- ['/passage/?search=%C3%89z%C3%A9chiel%2012&version=LSG'] -----------------\n"
     ]
    },
    {
     "name": "stderr",
     "output_type": "stream",
     "text": [
      "2025-05-04 14:20:57 [scrapy.core.engine] DEBUG: Crawled (200) <GET https://www.biblegateway.com/passage/?search=%C3%89z%C3%A9chiel%2012&version=LSG> (referer: https://www.biblegateway.com/passage/?search=%C3%89z%C3%A9chiel%2011&version=LSG)\n"
     ]
    },
    {
     "name": "stdout",
     "output_type": "stream",
     "text": [
      "--------------- ['/passage/?search=%C3%89z%C3%A9chiel%2013&version=LSG'] -----------------\n"
     ]
    },
    {
     "name": "stderr",
     "output_type": "stream",
     "text": [
      "2025-05-04 14:20:58 [scrapy.core.engine] DEBUG: Crawled (200) <GET https://www.biblegateway.com/passage/?search=%C3%89z%C3%A9chiel%2013&version=LSG> (referer: https://www.biblegateway.com/passage/?search=%C3%89z%C3%A9chiel%2012&version=LSG)\n"
     ]
    },
    {
     "name": "stdout",
     "output_type": "stream",
     "text": [
      "--------------- ['/passage/?search=%C3%89z%C3%A9chiel%2014&version=LSG'] -----------------\n"
     ]
    },
    {
     "name": "stderr",
     "output_type": "stream",
     "text": [
      "2025-05-04 14:20:58 [scrapy.core.engine] DEBUG: Crawled (200) <GET https://www.biblegateway.com/passage/?search=%C3%89z%C3%A9chiel%2014&version=LSG> (referer: https://www.biblegateway.com/passage/?search=%C3%89z%C3%A9chiel%2013&version=LSG)\n"
     ]
    },
    {
     "name": "stdout",
     "output_type": "stream",
     "text": [
      "--------------- ['/passage/?search=%C3%89z%C3%A9chiel%2015&version=LSG'] -----------------\n"
     ]
    },
    {
     "name": "stderr",
     "output_type": "stream",
     "text": [
      "2025-05-04 14:20:59 [scrapy.core.engine] DEBUG: Crawled (200) <GET https://www.biblegateway.com/passage/?search=%C3%89z%C3%A9chiel%2015&version=LSG> (referer: https://www.biblegateway.com/passage/?search=%C3%89z%C3%A9chiel%2014&version=LSG)\n"
     ]
    },
    {
     "name": "stdout",
     "output_type": "stream",
     "text": [
      "--------------- ['/passage/?search=%C3%89z%C3%A9chiel%2016&version=LSG'] -----------------\n"
     ]
    },
    {
     "name": "stderr",
     "output_type": "stream",
     "text": [
      "2025-05-04 14:21:00 [scrapy.core.engine] DEBUG: Crawled (200) <GET https://www.biblegateway.com/passage/?search=%C3%89z%C3%A9chiel%2016&version=LSG> (referer: https://www.biblegateway.com/passage/?search=%C3%89z%C3%A9chiel%2015&version=LSG)\n"
     ]
    },
    {
     "name": "stdout",
     "output_type": "stream",
     "text": [
      "--------------- ['/passage/?search=%C3%89z%C3%A9chiel%2017&version=LSG'] -----------------\n"
     ]
    },
    {
     "name": "stderr",
     "output_type": "stream",
     "text": [
      "2025-05-04 14:21:00 [scrapy.core.engine] DEBUG: Crawled (200) <GET https://www.biblegateway.com/passage/?search=%C3%89z%C3%A9chiel%2017&version=LSG> (referer: https://www.biblegateway.com/passage/?search=%C3%89z%C3%A9chiel%2016&version=LSG)\n"
     ]
    },
    {
     "name": "stdout",
     "output_type": "stream",
     "text": [
      "--------------- ['/passage/?search=%C3%89z%C3%A9chiel%2018&version=LSG'] -----------------\n"
     ]
    },
    {
     "name": "stderr",
     "output_type": "stream",
     "text": [
      "2025-05-04 14:21:01 [scrapy.core.engine] DEBUG: Crawled (200) <GET https://www.biblegateway.com/passage/?search=%C3%89z%C3%A9chiel%2018&version=LSG> (referer: https://www.biblegateway.com/passage/?search=%C3%89z%C3%A9chiel%2017&version=LSG)\n"
     ]
    },
    {
     "name": "stdout",
     "output_type": "stream",
     "text": [
      "--------------- ['/passage/?search=%C3%89z%C3%A9chiel%2019&version=LSG'] -----------------\n"
     ]
    },
    {
     "name": "stderr",
     "output_type": "stream",
     "text": [
      "2025-05-04 14:21:02 [scrapy.core.engine] DEBUG: Crawled (200) <GET https://www.biblegateway.com/passage/?search=%C3%89z%C3%A9chiel%2019&version=LSG> (referer: https://www.biblegateway.com/passage/?search=%C3%89z%C3%A9chiel%2018&version=LSG)\n"
     ]
    },
    {
     "name": "stdout",
     "output_type": "stream",
     "text": [
      "--------------- ['/passage/?search=%C3%89z%C3%A9chiel%2020&version=LSG'] -----------------\n"
     ]
    },
    {
     "name": "stderr",
     "output_type": "stream",
     "text": [
      "2025-05-04 14:21:03 [scrapy.core.engine] DEBUG: Crawled (200) <GET https://www.biblegateway.com/passage/?search=%C3%89z%C3%A9chiel%2020&version=LSG> (referer: https://www.biblegateway.com/passage/?search=%C3%89z%C3%A9chiel%2019&version=LSG)\n"
     ]
    },
    {
     "name": "stdout",
     "output_type": "stream",
     "text": [
      "--------------- ['/passage/?search=%C3%89z%C3%A9chiel%2021&version=LSG'] -----------------\n"
     ]
    },
    {
     "name": "stderr",
     "output_type": "stream",
     "text": [
      "2025-05-04 14:21:03 [scrapy.core.engine] DEBUG: Crawled (200) <GET https://www.biblegateway.com/passage/?search=%C3%89z%C3%A9chiel%2021&version=LSG> (referer: https://www.biblegateway.com/passage/?search=%C3%89z%C3%A9chiel%2020&version=LSG)\n"
     ]
    },
    {
     "name": "stdout",
     "output_type": "stream",
     "text": [
      "--------------- ['/passage/?search=%C3%89z%C3%A9chiel%2022&version=LSG'] -----------------\n"
     ]
    },
    {
     "name": "stderr",
     "output_type": "stream",
     "text": [
      "2025-05-04 14:21:04 [scrapy.core.engine] DEBUG: Crawled (200) <GET https://www.biblegateway.com/passage/?search=%C3%89z%C3%A9chiel%2022&version=LSG> (referer: https://www.biblegateway.com/passage/?search=%C3%89z%C3%A9chiel%2021&version=LSG)\n"
     ]
    },
    {
     "name": "stdout",
     "output_type": "stream",
     "text": [
      "--------------- ['/passage/?search=%C3%89z%C3%A9chiel%2023&version=LSG'] -----------------\n"
     ]
    },
    {
     "name": "stderr",
     "output_type": "stream",
     "text": [
      "2025-05-04 14:21:05 [scrapy.core.engine] DEBUG: Crawled (200) <GET https://www.biblegateway.com/passage/?search=%C3%89z%C3%A9chiel%2023&version=LSG> (referer: https://www.biblegateway.com/passage/?search=%C3%89z%C3%A9chiel%2022&version=LSG)\n"
     ]
    },
    {
     "name": "stdout",
     "output_type": "stream",
     "text": [
      "--------------- ['/passage/?search=%C3%89z%C3%A9chiel%2024&version=LSG'] -----------------\n"
     ]
    },
    {
     "name": "stderr",
     "output_type": "stream",
     "text": [
      "2025-05-04 14:21:05 [scrapy.core.engine] DEBUG: Crawled (200) <GET https://www.biblegateway.com/passage/?search=%C3%89z%C3%A9chiel%2024&version=LSG> (referer: https://www.biblegateway.com/passage/?search=%C3%89z%C3%A9chiel%2023&version=LSG)\n"
     ]
    },
    {
     "name": "stdout",
     "output_type": "stream",
     "text": [
      "--------------- ['/passage/?search=%C3%89z%C3%A9chiel%2025&version=LSG'] -----------------\n"
     ]
    },
    {
     "name": "stderr",
     "output_type": "stream",
     "text": [
      "2025-05-04 14:21:06 [scrapy.core.engine] DEBUG: Crawled (200) <GET https://www.biblegateway.com/passage/?search=%C3%89z%C3%A9chiel%2025&version=LSG> (referer: https://www.biblegateway.com/passage/?search=%C3%89z%C3%A9chiel%2024&version=LSG)\n"
     ]
    },
    {
     "name": "stdout",
     "output_type": "stream",
     "text": [
      "--------------- ['/passage/?search=%C3%89z%C3%A9chiel%2026&version=LSG'] -----------------\n"
     ]
    },
    {
     "name": "stderr",
     "output_type": "stream",
     "text": [
      "2025-05-04 14:21:07 [scrapy.core.engine] DEBUG: Crawled (200) <GET https://www.biblegateway.com/passage/?search=%C3%89z%C3%A9chiel%2026&version=LSG> (referer: https://www.biblegateway.com/passage/?search=%C3%89z%C3%A9chiel%2025&version=LSG)\n"
     ]
    },
    {
     "name": "stdout",
     "output_type": "stream",
     "text": [
      "--------------- ['/passage/?search=%C3%89z%C3%A9chiel%2027&version=LSG'] -----------------\n"
     ]
    },
    {
     "name": "stderr",
     "output_type": "stream",
     "text": [
      "2025-05-04 14:21:07 [scrapy.core.engine] DEBUG: Crawled (200) <GET https://www.biblegateway.com/passage/?search=%C3%89z%C3%A9chiel%2027&version=LSG> (referer: https://www.biblegateway.com/passage/?search=%C3%89z%C3%A9chiel%2026&version=LSG)\n"
     ]
    },
    {
     "name": "stdout",
     "output_type": "stream",
     "text": [
      "--------------- ['/passage/?search=%C3%89z%C3%A9chiel%2028&version=LSG'] -----------------\n"
     ]
    },
    {
     "name": "stderr",
     "output_type": "stream",
     "text": [
      "2025-05-04 14:21:08 [scrapy.core.engine] DEBUG: Crawled (200) <GET https://www.biblegateway.com/passage/?search=%C3%89z%C3%A9chiel%2028&version=LSG> (referer: https://www.biblegateway.com/passage/?search=%C3%89z%C3%A9chiel%2027&version=LSG)\n"
     ]
    },
    {
     "name": "stdout",
     "output_type": "stream",
     "text": [
      "--------------- ['/passage/?search=%C3%89z%C3%A9chiel%2029&version=LSG'] -----------------\n"
     ]
    },
    {
     "name": "stderr",
     "output_type": "stream",
     "text": [
      "2025-05-04 14:21:09 [scrapy.core.engine] DEBUG: Crawled (200) <GET https://www.biblegateway.com/passage/?search=%C3%89z%C3%A9chiel%2029&version=LSG> (referer: https://www.biblegateway.com/passage/?search=%C3%89z%C3%A9chiel%2028&version=LSG)\n"
     ]
    },
    {
     "name": "stdout",
     "output_type": "stream",
     "text": [
      "--------------- ['/passage/?search=%C3%89z%C3%A9chiel%2030&version=LSG'] -----------------\n"
     ]
    },
    {
     "name": "stderr",
     "output_type": "stream",
     "text": [
      "2025-05-04 14:21:10 [scrapy.core.engine] DEBUG: Crawled (200) <GET https://www.biblegateway.com/passage/?search=%C3%89z%C3%A9chiel%2030&version=LSG> (referer: https://www.biblegateway.com/passage/?search=%C3%89z%C3%A9chiel%2029&version=LSG)\n"
     ]
    },
    {
     "name": "stdout",
     "output_type": "stream",
     "text": [
      "--------------- ['/passage/?search=%C3%89z%C3%A9chiel%2031&version=LSG'] -----------------\n"
     ]
    },
    {
     "name": "stderr",
     "output_type": "stream",
     "text": [
      "2025-05-04 14:21:10 [scrapy.core.engine] DEBUG: Crawled (200) <GET https://www.biblegateway.com/passage/?search=%C3%89z%C3%A9chiel%2031&version=LSG> (referer: https://www.biblegateway.com/passage/?search=%C3%89z%C3%A9chiel%2030&version=LSG)\n"
     ]
    },
    {
     "name": "stdout",
     "output_type": "stream",
     "text": [
      "--------------- ['/passage/?search=%C3%89z%C3%A9chiel%2032&version=LSG'] -----------------\n"
     ]
    },
    {
     "name": "stderr",
     "output_type": "stream",
     "text": [
      "2025-05-04 14:21:11 [scrapy.core.engine] DEBUG: Crawled (200) <GET https://www.biblegateway.com/passage/?search=%C3%89z%C3%A9chiel%2032&version=LSG> (referer: https://www.biblegateway.com/passage/?search=%C3%89z%C3%A9chiel%2031&version=LSG)\n"
     ]
    },
    {
     "name": "stdout",
     "output_type": "stream",
     "text": [
      "--------------- ['/passage/?search=%C3%89z%C3%A9chiel%2033&version=LSG'] -----------------\n"
     ]
    },
    {
     "name": "stderr",
     "output_type": "stream",
     "text": [
      "2025-05-04 14:21:12 [scrapy.core.engine] DEBUG: Crawled (200) <GET https://www.biblegateway.com/passage/?search=%C3%89z%C3%A9chiel%2033&version=LSG> (referer: https://www.biblegateway.com/passage/?search=%C3%89z%C3%A9chiel%2032&version=LSG)\n"
     ]
    },
    {
     "name": "stdout",
     "output_type": "stream",
     "text": [
      "--------------- ['/passage/?search=%C3%89z%C3%A9chiel%2034&version=LSG'] -----------------\n"
     ]
    },
    {
     "name": "stderr",
     "output_type": "stream",
     "text": [
      "2025-05-04 14:21:13 [scrapy.core.engine] DEBUG: Crawled (200) <GET https://www.biblegateway.com/passage/?search=%C3%89z%C3%A9chiel%2034&version=LSG> (referer: https://www.biblegateway.com/passage/?search=%C3%89z%C3%A9chiel%2033&version=LSG)\n"
     ]
    },
    {
     "name": "stdout",
     "output_type": "stream",
     "text": [
      "--------------- ['/passage/?search=%C3%89z%C3%A9chiel%2035&version=LSG'] -----------------\n"
     ]
    },
    {
     "name": "stderr",
     "output_type": "stream",
     "text": [
      "2025-05-04 14:21:13 [scrapy.core.engine] DEBUG: Crawled (200) <GET https://www.biblegateway.com/passage/?search=%C3%89z%C3%A9chiel%2035&version=LSG> (referer: https://www.biblegateway.com/passage/?search=%C3%89z%C3%A9chiel%2034&version=LSG)\n"
     ]
    },
    {
     "name": "stdout",
     "output_type": "stream",
     "text": [
      "--------------- ['/passage/?search=%C3%89z%C3%A9chiel%2036&version=LSG'] -----------------\n"
     ]
    },
    {
     "name": "stderr",
     "output_type": "stream",
     "text": [
      "2025-05-04 14:21:14 [scrapy.core.engine] DEBUG: Crawled (200) <GET https://www.biblegateway.com/passage/?search=%C3%89z%C3%A9chiel%2036&version=LSG> (referer: https://www.biblegateway.com/passage/?search=%C3%89z%C3%A9chiel%2035&version=LSG)\n"
     ]
    },
    {
     "name": "stdout",
     "output_type": "stream",
     "text": [
      "--------------- ['/passage/?search=%C3%89z%C3%A9chiel%2037&version=LSG'] -----------------\n"
     ]
    },
    {
     "name": "stderr",
     "output_type": "stream",
     "text": [
      "2025-05-04 14:21:15 [scrapy.core.engine] DEBUG: Crawled (200) <GET https://www.biblegateway.com/passage/?search=%C3%89z%C3%A9chiel%2037&version=LSG> (referer: https://www.biblegateway.com/passage/?search=%C3%89z%C3%A9chiel%2036&version=LSG)\n"
     ]
    },
    {
     "name": "stdout",
     "output_type": "stream",
     "text": [
      "--------------- ['/passage/?search=%C3%89z%C3%A9chiel%2038&version=LSG'] -----------------\n"
     ]
    },
    {
     "name": "stderr",
     "output_type": "stream",
     "text": [
      "2025-05-04 14:21:15 [scrapy.core.engine] DEBUG: Crawled (200) <GET https://www.biblegateway.com/passage/?search=%C3%89z%C3%A9chiel%2038&version=LSG> (referer: https://www.biblegateway.com/passage/?search=%C3%89z%C3%A9chiel%2037&version=LSG)\n"
     ]
    },
    {
     "name": "stdout",
     "output_type": "stream",
     "text": [
      "--------------- ['/passage/?search=%C3%89z%C3%A9chiel%2039&version=LSG'] -----------------\n"
     ]
    },
    {
     "name": "stderr",
     "output_type": "stream",
     "text": [
      "2025-05-04 14:21:16 [scrapy.core.engine] DEBUG: Crawled (200) <GET https://www.biblegateway.com/passage/?search=%C3%89z%C3%A9chiel%2039&version=LSG> (referer: https://www.biblegateway.com/passage/?search=%C3%89z%C3%A9chiel%2038&version=LSG)\n"
     ]
    },
    {
     "name": "stdout",
     "output_type": "stream",
     "text": [
      "--------------- ['/passage/?search=%C3%89z%C3%A9chiel%2040&version=LSG'] -----------------\n"
     ]
    },
    {
     "name": "stderr",
     "output_type": "stream",
     "text": [
      "2025-05-04 14:21:17 [scrapy.core.engine] DEBUG: Crawled (200) <GET https://www.biblegateway.com/passage/?search=%C3%89z%C3%A9chiel%2040&version=LSG> (referer: https://www.biblegateway.com/passage/?search=%C3%89z%C3%A9chiel%2039&version=LSG)\n"
     ]
    },
    {
     "name": "stdout",
     "output_type": "stream",
     "text": [
      "--------------- ['/passage/?search=%C3%89z%C3%A9chiel%2041&version=LSG'] -----------------\n"
     ]
    },
    {
     "name": "stderr",
     "output_type": "stream",
     "text": [
      "2025-05-04 14:21:18 [scrapy.core.engine] DEBUG: Crawled (200) <GET https://www.biblegateway.com/passage/?search=%C3%89z%C3%A9chiel%2041&version=LSG> (referer: https://www.biblegateway.com/passage/?search=%C3%89z%C3%A9chiel%2040&version=LSG)\n"
     ]
    },
    {
     "name": "stdout",
     "output_type": "stream",
     "text": [
      "--------------- ['/passage/?search=%C3%89z%C3%A9chiel%2042&version=LSG'] -----------------\n"
     ]
    },
    {
     "name": "stderr",
     "output_type": "stream",
     "text": [
      "2025-05-04 14:21:19 [scrapy.core.engine] DEBUG: Crawled (200) <GET https://www.biblegateway.com/passage/?search=%C3%89z%C3%A9chiel%2042&version=LSG> (referer: https://www.biblegateway.com/passage/?search=%C3%89z%C3%A9chiel%2041&version=LSG)\n"
     ]
    },
    {
     "name": "stdout",
     "output_type": "stream",
     "text": [
      "--------------- ['/passage/?search=%C3%89z%C3%A9chiel%2043&version=LSG'] -----------------\n"
     ]
    },
    {
     "name": "stderr",
     "output_type": "stream",
     "text": [
      "2025-05-04 14:21:19 [scrapy.core.engine] DEBUG: Crawled (200) <GET https://www.biblegateway.com/passage/?search=%C3%89z%C3%A9chiel%2043&version=LSG> (referer: https://www.biblegateway.com/passage/?search=%C3%89z%C3%A9chiel%2042&version=LSG)\n"
     ]
    },
    {
     "name": "stdout",
     "output_type": "stream",
     "text": [
      "--------------- ['/passage/?search=%C3%89z%C3%A9chiel%2044&version=LSG'] -----------------\n"
     ]
    },
    {
     "name": "stderr",
     "output_type": "stream",
     "text": [
      "2025-05-04 14:21:20 [scrapy.core.engine] DEBUG: Crawled (200) <GET https://www.biblegateway.com/passage/?search=%C3%89z%C3%A9chiel%2044&version=LSG> (referer: https://www.biblegateway.com/passage/?search=%C3%89z%C3%A9chiel%2043&version=LSG)\n"
     ]
    },
    {
     "name": "stdout",
     "output_type": "stream",
     "text": [
      "--------------- ['/passage/?search=%C3%89z%C3%A9chiel%2045&version=LSG'] -----------------\n"
     ]
    },
    {
     "name": "stderr",
     "output_type": "stream",
     "text": [
      "2025-05-04 14:21:21 [scrapy.core.engine] DEBUG: Crawled (200) <GET https://www.biblegateway.com/passage/?search=%C3%89z%C3%A9chiel%2045&version=LSG> (referer: https://www.biblegateway.com/passage/?search=%C3%89z%C3%A9chiel%2044&version=LSG)\n"
     ]
    },
    {
     "name": "stdout",
     "output_type": "stream",
     "text": [
      "--------------- ['/passage/?search=%C3%89z%C3%A9chiel%2046&version=LSG'] -----------------\n"
     ]
    },
    {
     "name": "stderr",
     "output_type": "stream",
     "text": [
      "2025-05-04 14:21:22 [scrapy.core.engine] DEBUG: Crawled (200) <GET https://www.biblegateway.com/passage/?search=%C3%89z%C3%A9chiel%2046&version=LSG> (referer: https://www.biblegateway.com/passage/?search=%C3%89z%C3%A9chiel%2045&version=LSG)\n"
     ]
    },
    {
     "name": "stdout",
     "output_type": "stream",
     "text": [
      "--------------- ['/passage/?search=%C3%89z%C3%A9chiel%2047&version=LSG'] -----------------\n"
     ]
    },
    {
     "name": "stderr",
     "output_type": "stream",
     "text": [
      "2025-05-04 14:21:23 [scrapy.core.engine] DEBUG: Crawled (200) <GET https://www.biblegateway.com/passage/?search=%C3%89z%C3%A9chiel%2047&version=LSG> (referer: https://www.biblegateway.com/passage/?search=%C3%89z%C3%A9chiel%2046&version=LSG)\n"
     ]
    },
    {
     "name": "stdout",
     "output_type": "stream",
     "text": [
      "--------------- ['/passage/?search=%C3%89z%C3%A9chiel%2048&version=LSG'] -----------------\n"
     ]
    },
    {
     "name": "stderr",
     "output_type": "stream",
     "text": [
      "2025-05-04 14:21:23 [scrapy.core.engine] DEBUG: Crawled (200) <GET https://www.biblegateway.com/passage/?search=%C3%89z%C3%A9chiel%2048&version=LSG> (referer: https://www.biblegateway.com/passage/?search=%C3%89z%C3%A9chiel%2047&version=LSG)\n"
     ]
    },
    {
     "name": "stdout",
     "output_type": "stream",
     "text": [
      "--------------- ['/passage/?search=Daniel%201&version=LSG'] -----------------\n"
     ]
    },
    {
     "name": "stderr",
     "output_type": "stream",
     "text": [
      "2025-05-04 14:21:24 [scrapy.core.engine] DEBUG: Crawled (200) <GET https://www.biblegateway.com/passage/?search=Daniel%201&version=LSG> (referer: https://www.biblegateway.com/passage/?search=%C3%89z%C3%A9chiel%2048&version=LSG)\n"
     ]
    },
    {
     "name": "stdout",
     "output_type": "stream",
     "text": [
      "--------------- ['/passage/?search=Daniel%202&version=LSG'] -----------------\n"
     ]
    },
    {
     "name": "stderr",
     "output_type": "stream",
     "text": [
      "2025-05-04 14:21:25 [scrapy.core.engine] DEBUG: Crawled (200) <GET https://www.biblegateway.com/passage/?search=Daniel%202&version=LSG> (referer: https://www.biblegateway.com/passage/?search=Daniel%201&version=LSG)\n"
     ]
    },
    {
     "name": "stdout",
     "output_type": "stream",
     "text": [
      "--------------- ['/passage/?search=Daniel%203&version=LSG'] -----------------\n"
     ]
    },
    {
     "name": "stderr",
     "output_type": "stream",
     "text": [
      "2025-05-04 14:21:25 [scrapy.core.engine] DEBUG: Crawled (200) <GET https://www.biblegateway.com/passage/?search=Daniel%203&version=LSG> (referer: https://www.biblegateway.com/passage/?search=Daniel%202&version=LSG)\n"
     ]
    },
    {
     "name": "stdout",
     "output_type": "stream",
     "text": [
      "--------------- ['/passage/?search=Daniel%204&version=LSG'] -----------------\n"
     ]
    },
    {
     "name": "stderr",
     "output_type": "stream",
     "text": [
      "2025-05-04 14:21:26 [scrapy.core.engine] DEBUG: Crawled (200) <GET https://www.biblegateway.com/passage/?search=Daniel%204&version=LSG> (referer: https://www.biblegateway.com/passage/?search=Daniel%203&version=LSG)\n"
     ]
    },
    {
     "name": "stdout",
     "output_type": "stream",
     "text": [
      "--------------- ['/passage/?search=Daniel%205&version=LSG'] -----------------\n"
     ]
    },
    {
     "name": "stderr",
     "output_type": "stream",
     "text": [
      "2025-05-04 14:21:28 [scrapy.core.engine] DEBUG: Crawled (200) <GET https://www.biblegateway.com/passage/?search=Daniel%205&version=LSG> (referer: https://www.biblegateway.com/passage/?search=Daniel%204&version=LSG)\n"
     ]
    },
    {
     "name": "stdout",
     "output_type": "stream",
     "text": [
      "--------------- ['/passage/?search=Daniel%206&version=LSG'] -----------------\n"
     ]
    },
    {
     "name": "stderr",
     "output_type": "stream",
     "text": [
      "2025-05-04 14:21:29 [scrapy.core.engine] DEBUG: Crawled (200) <GET https://www.biblegateway.com/passage/?search=Daniel%206&version=LSG> (referer: https://www.biblegateway.com/passage/?search=Daniel%205&version=LSG)\n"
     ]
    },
    {
     "name": "stdout",
     "output_type": "stream",
     "text": [
      "--------------- ['/passage/?search=Daniel%207&version=LSG'] -----------------\n"
     ]
    },
    {
     "name": "stderr",
     "output_type": "stream",
     "text": [
      "2025-05-04 14:21:30 [scrapy.core.engine] DEBUG: Crawled (200) <GET https://www.biblegateway.com/passage/?search=Daniel%207&version=LSG> (referer: https://www.biblegateway.com/passage/?search=Daniel%206&version=LSG)\n"
     ]
    },
    {
     "name": "stdout",
     "output_type": "stream",
     "text": [
      "--------------- ['/passage/?search=Daniel%208&version=LSG'] -----------------\n"
     ]
    },
    {
     "name": "stderr",
     "output_type": "stream",
     "text": [
      "2025-05-04 14:21:30 [scrapy.core.engine] DEBUG: Crawled (200) <GET https://www.biblegateway.com/passage/?search=Daniel%208&version=LSG> (referer: https://www.biblegateway.com/passage/?search=Daniel%207&version=LSG)\n"
     ]
    },
    {
     "name": "stdout",
     "output_type": "stream",
     "text": [
      "--------------- ['/passage/?search=Daniel%209&version=LSG'] -----------------\n"
     ]
    },
    {
     "name": "stderr",
     "output_type": "stream",
     "text": [
      "2025-05-04 14:21:31 [scrapy.core.engine] DEBUG: Crawled (200) <GET https://www.biblegateway.com/passage/?search=Daniel%209&version=LSG> (referer: https://www.biblegateway.com/passage/?search=Daniel%208&version=LSG)\n"
     ]
    },
    {
     "name": "stdout",
     "output_type": "stream",
     "text": [
      "--------------- ['/passage/?search=Daniel%2010&version=LSG'] -----------------\n"
     ]
    },
    {
     "name": "stderr",
     "output_type": "stream",
     "text": [
      "2025-05-04 14:21:32 [scrapy.core.engine] DEBUG: Crawled (200) <GET https://www.biblegateway.com/passage/?search=Daniel%2010&version=LSG> (referer: https://www.biblegateway.com/passage/?search=Daniel%209&version=LSG)\n"
     ]
    },
    {
     "name": "stdout",
     "output_type": "stream",
     "text": [
      "--------------- ['/passage/?search=Daniel%2011&version=LSG'] -----------------\n"
     ]
    },
    {
     "name": "stderr",
     "output_type": "stream",
     "text": [
      "2025-05-04 14:21:34 [scrapy.core.engine] DEBUG: Crawled (200) <GET https://www.biblegateway.com/passage/?search=Daniel%2011&version=LSG> (referer: https://www.biblegateway.com/passage/?search=Daniel%2010&version=LSG)\n"
     ]
    },
    {
     "name": "stdout",
     "output_type": "stream",
     "text": [
      "--------------- ['/passage/?search=Daniel%2012&version=LSG'] -----------------\n"
     ]
    },
    {
     "name": "stderr",
     "output_type": "stream",
     "text": [
      "2025-05-04 14:21:34 [scrapy.core.engine] DEBUG: Crawled (200) <GET https://www.biblegateway.com/passage/?search=Daniel%2012&version=LSG> (referer: https://www.biblegateway.com/passage/?search=Daniel%2011&version=LSG)\n"
     ]
    },
    {
     "name": "stdout",
     "output_type": "stream",
     "text": [
      "--------------- ['/passage/?search=Os%C3%A9e%201&version=LSG'] -----------------\n"
     ]
    },
    {
     "name": "stderr",
     "output_type": "stream",
     "text": [
      "2025-05-04 14:21:35 [scrapy.core.engine] DEBUG: Crawled (200) <GET https://www.biblegateway.com/passage/?search=Os%C3%A9e%201&version=LSG> (referer: https://www.biblegateway.com/passage/?search=Daniel%2012&version=LSG)\n"
     ]
    },
    {
     "name": "stdout",
     "output_type": "stream",
     "text": [
      "--------------- ['/passage/?search=Os%C3%A9e%202&version=LSG'] -----------------\n"
     ]
    },
    {
     "name": "stderr",
     "output_type": "stream",
     "text": [
      "2025-05-04 14:21:35 [scrapy.core.engine] DEBUG: Crawled (200) <GET https://www.biblegateway.com/passage/?search=Os%C3%A9e%202&version=LSG> (referer: https://www.biblegateway.com/passage/?search=Os%C3%A9e%201&version=LSG)\n"
     ]
    },
    {
     "name": "stdout",
     "output_type": "stream",
     "text": [
      "--------------- ['/passage/?search=Os%C3%A9e%203&version=LSG'] -----------------\n"
     ]
    },
    {
     "name": "stderr",
     "output_type": "stream",
     "text": [
      "2025-05-04 14:21:36 [scrapy.core.engine] DEBUG: Crawled (200) <GET https://www.biblegateway.com/passage/?search=Os%C3%A9e%203&version=LSG> (referer: https://www.biblegateway.com/passage/?search=Os%C3%A9e%202&version=LSG)\n"
     ]
    },
    {
     "name": "stdout",
     "output_type": "stream",
     "text": [
      "--------------- ['/passage/?search=Os%C3%A9e%204&version=LSG'] -----------------\n"
     ]
    },
    {
     "name": "stderr",
     "output_type": "stream",
     "text": [
      "2025-05-04 14:21:37 [scrapy.core.engine] DEBUG: Crawled (200) <GET https://www.biblegateway.com/passage/?search=Os%C3%A9e%204&version=LSG> (referer: https://www.biblegateway.com/passage/?search=Os%C3%A9e%203&version=LSG)\n"
     ]
    },
    {
     "name": "stdout",
     "output_type": "stream",
     "text": [
      "--------------- ['/passage/?search=Os%C3%A9e%205&version=LSG'] -----------------\n"
     ]
    },
    {
     "name": "stderr",
     "output_type": "stream",
     "text": [
      "2025-05-04 14:21:38 [scrapy.core.engine] DEBUG: Crawled (200) <GET https://www.biblegateway.com/passage/?search=Os%C3%A9e%205&version=LSG> (referer: https://www.biblegateway.com/passage/?search=Os%C3%A9e%204&version=LSG)\n"
     ]
    },
    {
     "name": "stdout",
     "output_type": "stream",
     "text": [
      "--------------- ['/passage/?search=Os%C3%A9e%206&version=LSG'] -----------------\n"
     ]
    },
    {
     "name": "stderr",
     "output_type": "stream",
     "text": [
      "2025-05-04 14:21:38 [scrapy.core.engine] DEBUG: Crawled (200) <GET https://www.biblegateway.com/passage/?search=Os%C3%A9e%206&version=LSG> (referer: https://www.biblegateway.com/passage/?search=Os%C3%A9e%205&version=LSG)\n"
     ]
    },
    {
     "name": "stdout",
     "output_type": "stream",
     "text": [
      "--------------- ['/passage/?search=Os%C3%A9e%207&version=LSG'] -----------------\n"
     ]
    },
    {
     "name": "stderr",
     "output_type": "stream",
     "text": [
      "2025-05-04 14:21:39 [scrapy.core.engine] DEBUG: Crawled (200) <GET https://www.biblegateway.com/passage/?search=Os%C3%A9e%207&version=LSG> (referer: https://www.biblegateway.com/passage/?search=Os%C3%A9e%206&version=LSG)\n"
     ]
    },
    {
     "name": "stdout",
     "output_type": "stream",
     "text": [
      "--------------- ['/passage/?search=Os%C3%A9e%208&version=LSG'] -----------------\n"
     ]
    },
    {
     "name": "stderr",
     "output_type": "stream",
     "text": [
      "2025-05-04 14:21:39 [scrapy.core.engine] DEBUG: Crawled (200) <GET https://www.biblegateway.com/passage/?search=Os%C3%A9e%208&version=LSG> (referer: https://www.biblegateway.com/passage/?search=Os%C3%A9e%207&version=LSG)\n"
     ]
    },
    {
     "name": "stdout",
     "output_type": "stream",
     "text": [
      "--------------- ['/passage/?search=Os%C3%A9e%209&version=LSG'] -----------------\n"
     ]
    },
    {
     "name": "stderr",
     "output_type": "stream",
     "text": [
      "2025-05-04 14:21:40 [scrapy.core.engine] DEBUG: Crawled (200) <GET https://www.biblegateway.com/passage/?search=Os%C3%A9e%209&version=LSG> (referer: https://www.biblegateway.com/passage/?search=Os%C3%A9e%208&version=LSG)\n"
     ]
    },
    {
     "name": "stdout",
     "output_type": "stream",
     "text": [
      "--------------- ['/passage/?search=Os%C3%A9e%2010&version=LSG'] -----------------\n"
     ]
    },
    {
     "name": "stderr",
     "output_type": "stream",
     "text": [
      "2025-05-04 14:21:41 [scrapy.core.engine] DEBUG: Crawled (200) <GET https://www.biblegateway.com/passage/?search=Os%C3%A9e%2010&version=LSG> (referer: https://www.biblegateway.com/passage/?search=Os%C3%A9e%209&version=LSG)\n"
     ]
    },
    {
     "name": "stdout",
     "output_type": "stream",
     "text": [
      "--------------- ['/passage/?search=Os%C3%A9e%2011&version=LSG'] -----------------\n"
     ]
    },
    {
     "name": "stderr",
     "output_type": "stream",
     "text": [
      "2025-05-04 14:21:42 [scrapy.core.engine] DEBUG: Crawled (200) <GET https://www.biblegateway.com/passage/?search=Os%C3%A9e%2011&version=LSG> (referer: https://www.biblegateway.com/passage/?search=Os%C3%A9e%2010&version=LSG)\n"
     ]
    },
    {
     "name": "stdout",
     "output_type": "stream",
     "text": [
      "--------------- ['/passage/?search=Os%C3%A9e%2012&version=LSG'] -----------------\n"
     ]
    },
    {
     "name": "stderr",
     "output_type": "stream",
     "text": [
      "2025-05-04 14:21:42 [scrapy.core.engine] DEBUG: Crawled (200) <GET https://www.biblegateway.com/passage/?search=Os%C3%A9e%2012&version=LSG> (referer: https://www.biblegateway.com/passage/?search=Os%C3%A9e%2011&version=LSG)\n"
     ]
    },
    {
     "name": "stdout",
     "output_type": "stream",
     "text": [
      "--------------- ['/passage/?search=Os%C3%A9e%2013&version=LSG'] -----------------\n"
     ]
    },
    {
     "name": "stderr",
     "output_type": "stream",
     "text": [
      "2025-05-04 14:21:43 [scrapy.core.engine] DEBUG: Crawled (200) <GET https://www.biblegateway.com/passage/?search=Os%C3%A9e%2013&version=LSG> (referer: https://www.biblegateway.com/passage/?search=Os%C3%A9e%2012&version=LSG)\n"
     ]
    },
    {
     "name": "stdout",
     "output_type": "stream",
     "text": [
      "--------------- ['/passage/?search=Os%C3%A9e%2014&version=LSG'] -----------------\n"
     ]
    },
    {
     "name": "stderr",
     "output_type": "stream",
     "text": [
      "2025-05-04 14:21:44 [scrapy.core.engine] DEBUG: Crawled (200) <GET https://www.biblegateway.com/passage/?search=Os%C3%A9e%2014&version=LSG> (referer: https://www.biblegateway.com/passage/?search=Os%C3%A9e%2013&version=LSG)\n"
     ]
    },
    {
     "name": "stdout",
     "output_type": "stream",
     "text": [
      "--------------- ['/passage/?search=Jo%C3%ABl%201&version=LSG'] -----------------\n"
     ]
    },
    {
     "name": "stderr",
     "output_type": "stream",
     "text": [
      "2025-05-04 14:21:45 [scrapy.core.engine] DEBUG: Crawled (200) <GET https://www.biblegateway.com/passage/?search=Jo%C3%ABl%201&version=LSG> (referer: https://www.biblegateway.com/passage/?search=Os%C3%A9e%2014&version=LSG)\n"
     ]
    },
    {
     "name": "stdout",
     "output_type": "stream",
     "text": [
      "--------------- ['/passage/?search=Jo%C3%ABl%202&version=LSG'] -----------------\n"
     ]
    },
    {
     "name": "stderr",
     "output_type": "stream",
     "text": [
      "2025-05-04 14:21:45 [scrapy.core.engine] DEBUG: Crawled (200) <GET https://www.biblegateway.com/passage/?search=Jo%C3%ABl%202&version=LSG> (referer: https://www.biblegateway.com/passage/?search=Jo%C3%ABl%201&version=LSG)\n"
     ]
    },
    {
     "name": "stdout",
     "output_type": "stream",
     "text": [
      "--------------- ['/passage/?search=Jo%C3%ABl%203&version=LSG'] -----------------\n"
     ]
    },
    {
     "name": "stderr",
     "output_type": "stream",
     "text": [
      "2025-05-04 14:21:46 [scrapy.core.engine] DEBUG: Crawled (200) <GET https://www.biblegateway.com/passage/?search=Jo%C3%ABl%203&version=LSG> (referer: https://www.biblegateway.com/passage/?search=Jo%C3%ABl%202&version=LSG)\n"
     ]
    },
    {
     "name": "stdout",
     "output_type": "stream",
     "text": [
      "--------------- ['/passage/?search=Amos%201&version=LSG'] -----------------\n"
     ]
    },
    {
     "name": "stderr",
     "output_type": "stream",
     "text": [
      "2025-05-04 14:21:47 [scrapy.core.engine] DEBUG: Crawled (200) <GET https://www.biblegateway.com/passage/?search=Amos%201&version=LSG> (referer: https://www.biblegateway.com/passage/?search=Jo%C3%ABl%203&version=LSG)\n"
     ]
    },
    {
     "name": "stdout",
     "output_type": "stream",
     "text": [
      "--------------- ['/passage/?search=Amos%202&version=LSG'] -----------------\n"
     ]
    },
    {
     "name": "stderr",
     "output_type": "stream",
     "text": [
      "2025-05-04 14:21:48 [scrapy.core.engine] DEBUG: Crawled (200) <GET https://www.biblegateway.com/passage/?search=Amos%202&version=LSG> (referer: https://www.biblegateway.com/passage/?search=Amos%201&version=LSG)\n"
     ]
    },
    {
     "name": "stdout",
     "output_type": "stream",
     "text": [
      "--------------- ['/passage/?search=Amos%203&version=LSG'] -----------------\n"
     ]
    },
    {
     "name": "stderr",
     "output_type": "stream",
     "text": [
      "2025-05-04 14:21:48 [scrapy.core.engine] DEBUG: Crawled (200) <GET https://www.biblegateway.com/passage/?search=Amos%203&version=LSG> (referer: https://www.biblegateway.com/passage/?search=Amos%202&version=LSG)\n"
     ]
    },
    {
     "name": "stdout",
     "output_type": "stream",
     "text": [
      "--------------- ['/passage/?search=Amos%204&version=LSG'] -----------------\n"
     ]
    },
    {
     "name": "stderr",
     "output_type": "stream",
     "text": [
      "2025-05-04 14:21:49 [scrapy.core.engine] DEBUG: Crawled (200) <GET https://www.biblegateway.com/passage/?search=Amos%204&version=LSG> (referer: https://www.biblegateway.com/passage/?search=Amos%203&version=LSG)\n"
     ]
    },
    {
     "name": "stdout",
     "output_type": "stream",
     "text": [
      "--------------- ['/passage/?search=Amos%205&version=LSG'] -----------------\n"
     ]
    },
    {
     "name": "stderr",
     "output_type": "stream",
     "text": [
      "2025-05-04 14:21:50 [scrapy.core.engine] DEBUG: Crawled (200) <GET https://www.biblegateway.com/passage/?search=Amos%205&version=LSG> (referer: https://www.biblegateway.com/passage/?search=Amos%204&version=LSG)\n"
     ]
    },
    {
     "name": "stdout",
     "output_type": "stream",
     "text": [
      "--------------- ['/passage/?search=Amos%206&version=LSG'] -----------------\n"
     ]
    },
    {
     "name": "stderr",
     "output_type": "stream",
     "text": [
      "2025-05-04 14:21:51 [scrapy.core.engine] DEBUG: Crawled (200) <GET https://www.biblegateway.com/passage/?search=Amos%206&version=LSG> (referer: https://www.biblegateway.com/passage/?search=Amos%205&version=LSG)\n"
     ]
    },
    {
     "name": "stdout",
     "output_type": "stream",
     "text": [
      "--------------- ['/passage/?search=Amos%207&version=LSG'] -----------------\n"
     ]
    },
    {
     "name": "stderr",
     "output_type": "stream",
     "text": [
      "2025-05-04 14:21:52 [scrapy.core.engine] DEBUG: Crawled (200) <GET https://www.biblegateway.com/passage/?search=Amos%207&version=LSG> (referer: https://www.biblegateway.com/passage/?search=Amos%206&version=LSG)\n"
     ]
    },
    {
     "name": "stdout",
     "output_type": "stream",
     "text": [
      "--------------- ['/passage/?search=Amos%208&version=LSG'] -----------------\n"
     ]
    },
    {
     "name": "stderr",
     "output_type": "stream",
     "text": [
      "2025-05-04 14:21:53 [scrapy.core.engine] DEBUG: Crawled (200) <GET https://www.biblegateway.com/passage/?search=Amos%208&version=LSG> (referer: https://www.biblegateway.com/passage/?search=Amos%207&version=LSG)\n"
     ]
    },
    {
     "name": "stdout",
     "output_type": "stream",
     "text": [
      "--------------- ['/passage/?search=Amos%209&version=LSG'] -----------------\n"
     ]
    },
    {
     "name": "stderr",
     "output_type": "stream",
     "text": [
      "2025-05-04 14:21:54 [scrapy.core.engine] DEBUG: Crawled (200) <GET https://www.biblegateway.com/passage/?search=Amos%209&version=LSG> (referer: https://www.biblegateway.com/passage/?search=Amos%208&version=LSG)\n"
     ]
    },
    {
     "name": "stdout",
     "output_type": "stream",
     "text": [
      "--------------- ['/passage/?search=Abdias%201&version=LSG'] -----------------\n"
     ]
    },
    {
     "name": "stderr",
     "output_type": "stream",
     "text": [
      "2025-05-04 14:21:54 [scrapy.core.engine] DEBUG: Crawled (200) <GET https://www.biblegateway.com/passage/?search=Abdias%201&version=LSG> (referer: https://www.biblegateway.com/passage/?search=Amos%209&version=LSG)\n"
     ]
    },
    {
     "name": "stdout",
     "output_type": "stream",
     "text": [
      "--------------- ['/passage/?search=Jonas%201&version=LSG'] -----------------\n"
     ]
    },
    {
     "name": "stderr",
     "output_type": "stream",
     "text": [
      "2025-05-04 14:21:55 [scrapy.core.engine] DEBUG: Crawled (200) <GET https://www.biblegateway.com/passage/?search=Jonas%201&version=LSG> (referer: https://www.biblegateway.com/passage/?search=Abdias%201&version=LSG)\n"
     ]
    },
    {
     "name": "stdout",
     "output_type": "stream",
     "text": [
      "--------------- ['/passage/?search=Jonas%202&version=LSG'] -----------------\n"
     ]
    },
    {
     "name": "stderr",
     "output_type": "stream",
     "text": [
      "2025-05-04 14:21:56 [scrapy.core.engine] DEBUG: Crawled (200) <GET https://www.biblegateway.com/passage/?search=Jonas%202&version=LSG> (referer: https://www.biblegateway.com/passage/?search=Jonas%201&version=LSG)\n"
     ]
    },
    {
     "name": "stdout",
     "output_type": "stream",
     "text": [
      "--------------- ['/passage/?search=Jonas%203&version=LSG'] -----------------\n"
     ]
    },
    {
     "name": "stderr",
     "output_type": "stream",
     "text": [
      "2025-05-04 14:21:57 [scrapy.core.engine] DEBUG: Crawled (200) <GET https://www.biblegateway.com/passage/?search=Jonas%203&version=LSG> (referer: https://www.biblegateway.com/passage/?search=Jonas%202&version=LSG)\n",
      "2025-05-04 14:21:57 [scrapy.extensions.logstats] INFO: Crawled 892 pages (at 79 pages/min), scraped 0 items (at 0 items/min)\n"
     ]
    },
    {
     "name": "stdout",
     "output_type": "stream",
     "text": [
      "--------------- ['/passage/?search=Jonas%204&version=LSG'] -----------------\n"
     ]
    },
    {
     "name": "stderr",
     "output_type": "stream",
     "text": [
      "2025-05-04 14:21:57 [scrapy.core.engine] DEBUG: Crawled (200) <GET https://www.biblegateway.com/passage/?search=Jonas%204&version=LSG> (referer: https://www.biblegateway.com/passage/?search=Jonas%203&version=LSG)\n"
     ]
    },
    {
     "name": "stdout",
     "output_type": "stream",
     "text": [
      "--------------- ['/passage/?search=Mich%C3%A9e%201&version=LSG'] -----------------\n"
     ]
    },
    {
     "name": "stderr",
     "output_type": "stream",
     "text": [
      "2025-05-04 14:21:58 [scrapy.core.engine] DEBUG: Crawled (200) <GET https://www.biblegateway.com/passage/?search=Mich%C3%A9e%201&version=LSG> (referer: https://www.biblegateway.com/passage/?search=Jonas%204&version=LSG)\n"
     ]
    },
    {
     "name": "stdout",
     "output_type": "stream",
     "text": [
      "--------------- ['/passage/?search=Mich%C3%A9e%202&version=LSG'] -----------------\n"
     ]
    },
    {
     "name": "stderr",
     "output_type": "stream",
     "text": [
      "2025-05-04 14:21:58 [scrapy.core.engine] DEBUG: Crawled (200) <GET https://www.biblegateway.com/passage/?search=Mich%C3%A9e%202&version=LSG> (referer: https://www.biblegateway.com/passage/?search=Mich%C3%A9e%201&version=LSG)\n"
     ]
    },
    {
     "name": "stdout",
     "output_type": "stream",
     "text": [
      "--------------- ['/passage/?search=Mich%C3%A9e%203&version=LSG'] -----------------\n"
     ]
    },
    {
     "name": "stderr",
     "output_type": "stream",
     "text": [
      "2025-05-04 14:21:59 [scrapy.core.engine] DEBUG: Crawled (200) <GET https://www.biblegateway.com/passage/?search=Mich%C3%A9e%203&version=LSG> (referer: https://www.biblegateway.com/passage/?search=Mich%C3%A9e%202&version=LSG)\n"
     ]
    },
    {
     "name": "stdout",
     "output_type": "stream",
     "text": [
      "--------------- ['/passage/?search=Mich%C3%A9e%204&version=LSG'] -----------------\n"
     ]
    },
    {
     "name": "stderr",
     "output_type": "stream",
     "text": [
      "2025-05-04 14:22:00 [scrapy.core.engine] DEBUG: Crawled (200) <GET https://www.biblegateway.com/passage/?search=Mich%C3%A9e%204&version=LSG> (referer: https://www.biblegateway.com/passage/?search=Mich%C3%A9e%203&version=LSG)\n"
     ]
    },
    {
     "name": "stdout",
     "output_type": "stream",
     "text": [
      "--------------- ['/passage/?search=Mich%C3%A9e%205&version=LSG'] -----------------\n"
     ]
    },
    {
     "name": "stderr",
     "output_type": "stream",
     "text": [
      "2025-05-04 14:22:00 [scrapy.core.engine] DEBUG: Crawled (200) <GET https://www.biblegateway.com/passage/?search=Mich%C3%A9e%205&version=LSG> (referer: https://www.biblegateway.com/passage/?search=Mich%C3%A9e%204&version=LSG)\n"
     ]
    },
    {
     "name": "stdout",
     "output_type": "stream",
     "text": [
      "--------------- ['/passage/?search=Mich%C3%A9e%206&version=LSG'] -----------------\n"
     ]
    },
    {
     "name": "stderr",
     "output_type": "stream",
     "text": [
      "2025-05-04 14:22:01 [scrapy.core.engine] DEBUG: Crawled (200) <GET https://www.biblegateway.com/passage/?search=Mich%C3%A9e%206&version=LSG> (referer: https://www.biblegateway.com/passage/?search=Mich%C3%A9e%205&version=LSG)\n"
     ]
    },
    {
     "name": "stdout",
     "output_type": "stream",
     "text": [
      "--------------- ['/passage/?search=Mich%C3%A9e%207&version=LSG'] -----------------\n"
     ]
    },
    {
     "name": "stderr",
     "output_type": "stream",
     "text": [
      "2025-05-04 14:22:02 [scrapy.core.engine] DEBUG: Crawled (200) <GET https://www.biblegateway.com/passage/?search=Mich%C3%A9e%207&version=LSG> (referer: https://www.biblegateway.com/passage/?search=Mich%C3%A9e%206&version=LSG)\n"
     ]
    },
    {
     "name": "stdout",
     "output_type": "stream",
     "text": [
      "--------------- ['/passage/?search=Nahum%201&version=LSG'] -----------------\n"
     ]
    },
    {
     "name": "stderr",
     "output_type": "stream",
     "text": [
      "2025-05-04 14:22:03 [scrapy.core.engine] DEBUG: Crawled (200) <GET https://www.biblegateway.com/passage/?search=Nahum%201&version=LSG> (referer: https://www.biblegateway.com/passage/?search=Mich%C3%A9e%207&version=LSG)\n"
     ]
    },
    {
     "name": "stdout",
     "output_type": "stream",
     "text": [
      "--------------- ['/passage/?search=Nahum%202&version=LSG'] -----------------\n"
     ]
    },
    {
     "name": "stderr",
     "output_type": "stream",
     "text": [
      "2025-05-04 14:22:03 [scrapy.core.engine] DEBUG: Crawled (200) <GET https://www.biblegateway.com/passage/?search=Nahum%202&version=LSG> (referer: https://www.biblegateway.com/passage/?search=Nahum%201&version=LSG)\n"
     ]
    },
    {
     "name": "stdout",
     "output_type": "stream",
     "text": [
      "--------------- ['/passage/?search=Nahum%203&version=LSG'] -----------------\n"
     ]
    },
    {
     "name": "stderr",
     "output_type": "stream",
     "text": [
      "2025-05-04 14:22:04 [scrapy.core.engine] DEBUG: Crawled (200) <GET https://www.biblegateway.com/passage/?search=Nahum%203&version=LSG> (referer: https://www.biblegateway.com/passage/?search=Nahum%202&version=LSG)\n"
     ]
    },
    {
     "name": "stdout",
     "output_type": "stream",
     "text": [
      "--------------- ['/passage/?search=Habacuc%201&version=LSG'] -----------------\n"
     ]
    },
    {
     "name": "stderr",
     "output_type": "stream",
     "text": [
      "2025-05-04 14:22:05 [scrapy.core.engine] DEBUG: Crawled (200) <GET https://www.biblegateway.com/passage/?search=Habacuc%201&version=LSG> (referer: https://www.biblegateway.com/passage/?search=Nahum%203&version=LSG)\n"
     ]
    },
    {
     "name": "stdout",
     "output_type": "stream",
     "text": [
      "--------------- ['/passage/?search=Habacuc%202&version=LSG'] -----------------\n"
     ]
    },
    {
     "name": "stderr",
     "output_type": "stream",
     "text": [
      "2025-05-04 14:22:06 [scrapy.core.engine] DEBUG: Crawled (200) <GET https://www.biblegateway.com/passage/?search=Habacuc%202&version=LSG> (referer: https://www.biblegateway.com/passage/?search=Habacuc%201&version=LSG)\n"
     ]
    },
    {
     "name": "stdout",
     "output_type": "stream",
     "text": [
      "--------------- ['/passage/?search=Habacuc%203&version=LSG'] -----------------\n"
     ]
    },
    {
     "name": "stderr",
     "output_type": "stream",
     "text": [
      "2025-05-04 14:22:07 [scrapy.core.engine] DEBUG: Crawled (200) <GET https://www.biblegateway.com/passage/?search=Habacuc%203&version=LSG> (referer: https://www.biblegateway.com/passage/?search=Habacuc%202&version=LSG)\n"
     ]
    },
    {
     "name": "stdout",
     "output_type": "stream",
     "text": [
      "--------------- ['/passage/?search=Sophonie%201&version=LSG'] -----------------\n"
     ]
    },
    {
     "name": "stderr",
     "output_type": "stream",
     "text": [
      "2025-05-04 14:22:07 [scrapy.core.engine] DEBUG: Crawled (200) <GET https://www.biblegateway.com/passage/?search=Sophonie%201&version=LSG> (referer: https://www.biblegateway.com/passage/?search=Habacuc%203&version=LSG)\n"
     ]
    },
    {
     "name": "stdout",
     "output_type": "stream",
     "text": [
      "--------------- ['/passage/?search=Sophonie%202&version=LSG'] -----------------\n"
     ]
    },
    {
     "name": "stderr",
     "output_type": "stream",
     "text": [
      "2025-05-04 14:22:08 [scrapy.core.engine] DEBUG: Crawled (200) <GET https://www.biblegateway.com/passage/?search=Sophonie%202&version=LSG> (referer: https://www.biblegateway.com/passage/?search=Sophonie%201&version=LSG)\n"
     ]
    },
    {
     "name": "stdout",
     "output_type": "stream",
     "text": [
      "--------------- ['/passage/?search=Sophonie%203&version=LSG'] -----------------\n"
     ]
    },
    {
     "name": "stderr",
     "output_type": "stream",
     "text": [
      "2025-05-04 14:22:09 [scrapy.core.engine] DEBUG: Crawled (200) <GET https://www.biblegateway.com/passage/?search=Sophonie%203&version=LSG> (referer: https://www.biblegateway.com/passage/?search=Sophonie%202&version=LSG)\n"
     ]
    },
    {
     "name": "stdout",
     "output_type": "stream",
     "text": [
      "--------------- ['/passage/?search=Agg%C3%A9e%201&version=LSG'] -----------------\n"
     ]
    },
    {
     "name": "stderr",
     "output_type": "stream",
     "text": [
      "2025-05-04 14:22:10 [scrapy.core.engine] DEBUG: Crawled (200) <GET https://www.biblegateway.com/passage/?search=Agg%C3%A9e%201&version=LSG> (referer: https://www.biblegateway.com/passage/?search=Sophonie%203&version=LSG)\n"
     ]
    },
    {
     "name": "stdout",
     "output_type": "stream",
     "text": [
      "--------------- ['/passage/?search=Agg%C3%A9e%202&version=LSG'] -----------------\n"
     ]
    },
    {
     "name": "stderr",
     "output_type": "stream",
     "text": [
      "2025-05-04 14:22:10 [scrapy.core.engine] DEBUG: Crawled (200) <GET https://www.biblegateway.com/passage/?search=Agg%C3%A9e%202&version=LSG> (referer: https://www.biblegateway.com/passage/?search=Agg%C3%A9e%201&version=LSG)\n"
     ]
    },
    {
     "name": "stdout",
     "output_type": "stream",
     "text": [
      "--------------- ['/passage/?search=Zacharie%201&version=LSG'] -----------------\n"
     ]
    },
    {
     "name": "stderr",
     "output_type": "stream",
     "text": [
      "2025-05-04 14:22:11 [scrapy.core.engine] DEBUG: Crawled (200) <GET https://www.biblegateway.com/passage/?search=Zacharie%201&version=LSG> (referer: https://www.biblegateway.com/passage/?search=Agg%C3%A9e%202&version=LSG)\n"
     ]
    },
    {
     "name": "stdout",
     "output_type": "stream",
     "text": [
      "--------------- ['/passage/?search=Zacharie%202&version=LSG'] -----------------\n"
     ]
    },
    {
     "name": "stderr",
     "output_type": "stream",
     "text": [
      "2025-05-04 14:22:12 [scrapy.core.engine] DEBUG: Crawled (200) <GET https://www.biblegateway.com/passage/?search=Zacharie%202&version=LSG> (referer: https://www.biblegateway.com/passage/?search=Zacharie%201&version=LSG)\n"
     ]
    },
    {
     "name": "stdout",
     "output_type": "stream",
     "text": [
      "--------------- ['/passage/?search=Zacharie%203&version=LSG'] -----------------\n"
     ]
    },
    {
     "name": "stderr",
     "output_type": "stream",
     "text": [
      "2025-05-04 14:22:12 [scrapy.core.engine] DEBUG: Crawled (200) <GET https://www.biblegateway.com/passage/?search=Zacharie%203&version=LSG> (referer: https://www.biblegateway.com/passage/?search=Zacharie%202&version=LSG)\n"
     ]
    },
    {
     "name": "stdout",
     "output_type": "stream",
     "text": [
      "--------------- ['/passage/?search=Zacharie%204&version=LSG'] -----------------\n"
     ]
    },
    {
     "name": "stderr",
     "output_type": "stream",
     "text": [
      "2025-05-04 14:22:13 [scrapy.core.engine] DEBUG: Crawled (200) <GET https://www.biblegateway.com/passage/?search=Zacharie%204&version=LSG> (referer: https://www.biblegateway.com/passage/?search=Zacharie%203&version=LSG)\n"
     ]
    },
    {
     "name": "stdout",
     "output_type": "stream",
     "text": [
      "--------------- ['/passage/?search=Zacharie%205&version=LSG'] -----------------\n"
     ]
    },
    {
     "name": "stderr",
     "output_type": "stream",
     "text": [
      "2025-05-04 14:22:13 [scrapy.core.engine] DEBUG: Crawled (200) <GET https://www.biblegateway.com/passage/?search=Zacharie%205&version=LSG> (referer: https://www.biblegateway.com/passage/?search=Zacharie%204&version=LSG)\n"
     ]
    },
    {
     "name": "stdout",
     "output_type": "stream",
     "text": [
      "--------------- ['/passage/?search=Zacharie%206&version=LSG'] -----------------\n"
     ]
    },
    {
     "name": "stderr",
     "output_type": "stream",
     "text": [
      "2025-05-04 14:22:14 [scrapy.core.engine] DEBUG: Crawled (200) <GET https://www.biblegateway.com/passage/?search=Zacharie%206&version=LSG> (referer: https://www.biblegateway.com/passage/?search=Zacharie%205&version=LSG)\n"
     ]
    },
    {
     "name": "stdout",
     "output_type": "stream",
     "text": [
      "--------------- ['/passage/?search=Zacharie%207&version=LSG'] -----------------\n"
     ]
    },
    {
     "name": "stderr",
     "output_type": "stream",
     "text": [
      "2025-05-04 14:22:15 [scrapy.core.engine] DEBUG: Crawled (200) <GET https://www.biblegateway.com/passage/?search=Zacharie%207&version=LSG> (referer: https://www.biblegateway.com/passage/?search=Zacharie%206&version=LSG)\n"
     ]
    },
    {
     "name": "stdout",
     "output_type": "stream",
     "text": [
      "--------------- ['/passage/?search=Zacharie%208&version=LSG'] -----------------\n"
     ]
    },
    {
     "name": "stderr",
     "output_type": "stream",
     "text": [
      "2025-05-04 14:22:16 [scrapy.core.engine] DEBUG: Crawled (200) <GET https://www.biblegateway.com/passage/?search=Zacharie%208&version=LSG> (referer: https://www.biblegateway.com/passage/?search=Zacharie%207&version=LSG)\n"
     ]
    },
    {
     "name": "stdout",
     "output_type": "stream",
     "text": [
      "--------------- ['/passage/?search=Zacharie%209&version=LSG'] -----------------\n"
     ]
    },
    {
     "name": "stderr",
     "output_type": "stream",
     "text": [
      "2025-05-04 14:22:17 [scrapy.core.engine] DEBUG: Crawled (200) <GET https://www.biblegateway.com/passage/?search=Zacharie%209&version=LSG> (referer: https://www.biblegateway.com/passage/?search=Zacharie%208&version=LSG)\n"
     ]
    },
    {
     "name": "stdout",
     "output_type": "stream",
     "text": [
      "--------------- ['/passage/?search=Zacharie%2010&version=LSG'] -----------------\n"
     ]
    },
    {
     "name": "stderr",
     "output_type": "stream",
     "text": [
      "2025-05-04 14:22:18 [scrapy.core.engine] DEBUG: Crawled (200) <GET https://www.biblegateway.com/passage/?search=Zacharie%2010&version=LSG> (referer: https://www.biblegateway.com/passage/?search=Zacharie%209&version=LSG)\n"
     ]
    },
    {
     "name": "stdout",
     "output_type": "stream",
     "text": [
      "--------------- ['/passage/?search=Zacharie%2011&version=LSG'] -----------------\n"
     ]
    },
    {
     "name": "stderr",
     "output_type": "stream",
     "text": [
      "2025-05-04 14:22:18 [scrapy.core.engine] DEBUG: Crawled (200) <GET https://www.biblegateway.com/passage/?search=Zacharie%2011&version=LSG> (referer: https://www.biblegateway.com/passage/?search=Zacharie%2010&version=LSG)\n"
     ]
    },
    {
     "name": "stdout",
     "output_type": "stream",
     "text": [
      "--------------- ['/passage/?search=Zacharie%2012&version=LSG'] -----------------\n"
     ]
    },
    {
     "name": "stderr",
     "output_type": "stream",
     "text": [
      "2025-05-04 14:22:19 [scrapy.core.engine] DEBUG: Crawled (200) <GET https://www.biblegateway.com/passage/?search=Zacharie%2012&version=LSG> (referer: https://www.biblegateway.com/passage/?search=Zacharie%2011&version=LSG)\n"
     ]
    },
    {
     "name": "stdout",
     "output_type": "stream",
     "text": [
      "--------------- ['/passage/?search=Zacharie%2013&version=LSG'] -----------------\n"
     ]
    },
    {
     "name": "stderr",
     "output_type": "stream",
     "text": [
      "2025-05-04 14:22:20 [scrapy.core.engine] DEBUG: Crawled (200) <GET https://www.biblegateway.com/passage/?search=Zacharie%2013&version=LSG> (referer: https://www.biblegateway.com/passage/?search=Zacharie%2012&version=LSG)\n"
     ]
    },
    {
     "name": "stdout",
     "output_type": "stream",
     "text": [
      "--------------- ['/passage/?search=Zacharie%2014&version=LSG'] -----------------\n"
     ]
    },
    {
     "name": "stderr",
     "output_type": "stream",
     "text": [
      "2025-05-04 14:22:21 [scrapy.core.engine] DEBUG: Crawled (200) <GET https://www.biblegateway.com/passage/?search=Zacharie%2014&version=LSG> (referer: https://www.biblegateway.com/passage/?search=Zacharie%2013&version=LSG)\n"
     ]
    },
    {
     "name": "stdout",
     "output_type": "stream",
     "text": [
      "--------------- ['/passage/?search=Malachie%201&version=LSG'] -----------------\n"
     ]
    },
    {
     "name": "stderr",
     "output_type": "stream",
     "text": [
      "2025-05-04 14:22:22 [scrapy.core.engine] DEBUG: Crawled (200) <GET https://www.biblegateway.com/passage/?search=Malachie%201&version=LSG> (referer: https://www.biblegateway.com/passage/?search=Zacharie%2014&version=LSG)\n"
     ]
    },
    {
     "name": "stdout",
     "output_type": "stream",
     "text": [
      "--------------- ['/passage/?search=Malachie%202&version=LSG'] -----------------\n"
     ]
    },
    {
     "name": "stderr",
     "output_type": "stream",
     "text": [
      "2025-05-04 14:22:22 [scrapy.core.engine] DEBUG: Crawled (200) <GET https://www.biblegateway.com/passage/?search=Malachie%202&version=LSG> (referer: https://www.biblegateway.com/passage/?search=Malachie%201&version=LSG)\n"
     ]
    },
    {
     "name": "stdout",
     "output_type": "stream",
     "text": [
      "--------------- ['/passage/?search=Malachie%203&version=LSG'] -----------------\n"
     ]
    },
    {
     "name": "stderr",
     "output_type": "stream",
     "text": [
      "2025-05-04 14:22:23 [scrapy.core.engine] DEBUG: Crawled (200) <GET https://www.biblegateway.com/passage/?search=Malachie%203&version=LSG> (referer: https://www.biblegateway.com/passage/?search=Malachie%202&version=LSG)\n"
     ]
    },
    {
     "name": "stdout",
     "output_type": "stream",
     "text": [
      "--------------- ['/passage/?search=Malachie%204&version=LSG'] -----------------\n"
     ]
    },
    {
     "name": "stderr",
     "output_type": "stream",
     "text": [
      "2025-05-04 14:22:23 [scrapy.core.engine] DEBUG: Crawled (200) <GET https://www.biblegateway.com/passage/?search=Malachie%204&version=LSG> (referer: https://www.biblegateway.com/passage/?search=Malachie%203&version=LSG)\n"
     ]
    },
    {
     "name": "stdout",
     "output_type": "stream",
     "text": [
      "--------------- ['/passage/?search=Matthieu%201&version=LSG'] -----------------\n"
     ]
    },
    {
     "name": "stderr",
     "output_type": "stream",
     "text": [
      "2025-05-04 14:22:24 [scrapy.core.engine] DEBUG: Crawled (200) <GET https://www.biblegateway.com/passage/?search=Matthieu%201&version=LSG> (referer: https://www.biblegateway.com/passage/?search=Malachie%204&version=LSG)\n"
     ]
    },
    {
     "name": "stdout",
     "output_type": "stream",
     "text": [
      "--------------- ['/passage/?search=Matthieu%202&version=LSG'] -----------------\n"
     ]
    },
    {
     "name": "stderr",
     "output_type": "stream",
     "text": [
      "2025-05-04 14:22:25 [scrapy.core.engine] DEBUG: Crawled (200) <GET https://www.biblegateway.com/passage/?search=Matthieu%202&version=LSG> (referer: https://www.biblegateway.com/passage/?search=Matthieu%201&version=LSG)\n"
     ]
    },
    {
     "name": "stdout",
     "output_type": "stream",
     "text": [
      "--------------- ['/passage/?search=Matthieu%203&version=LSG'] -----------------\n"
     ]
    },
    {
     "name": "stderr",
     "output_type": "stream",
     "text": [
      "2025-05-04 14:22:26 [scrapy.core.engine] DEBUG: Crawled (200) <GET https://www.biblegateway.com/passage/?search=Matthieu%203&version=LSG> (referer: https://www.biblegateway.com/passage/?search=Matthieu%202&version=LSG)\n"
     ]
    },
    {
     "name": "stdout",
     "output_type": "stream",
     "text": [
      "--------------- ['/passage/?search=Matthieu%204&version=LSG'] -----------------\n"
     ]
    },
    {
     "name": "stderr",
     "output_type": "stream",
     "text": [
      "2025-05-04 14:22:26 [scrapy.core.engine] DEBUG: Crawled (200) <GET https://www.biblegateway.com/passage/?search=Matthieu%204&version=LSG> (referer: https://www.biblegateway.com/passage/?search=Matthieu%203&version=LSG)\n"
     ]
    },
    {
     "name": "stdout",
     "output_type": "stream",
     "text": [
      "--------------- ['/passage/?search=Matthieu%205&version=LSG'] -----------------\n"
     ]
    },
    {
     "name": "stderr",
     "output_type": "stream",
     "text": [
      "2025-05-04 14:22:27 [scrapy.core.engine] DEBUG: Crawled (200) <GET https://www.biblegateway.com/passage/?search=Matthieu%205&version=LSG> (referer: https://www.biblegateway.com/passage/?search=Matthieu%204&version=LSG)\n"
     ]
    },
    {
     "name": "stdout",
     "output_type": "stream",
     "text": [
      "--------------- ['/passage/?search=Matthieu%206&version=LSG'] -----------------\n"
     ]
    },
    {
     "name": "stderr",
     "output_type": "stream",
     "text": [
      "2025-05-04 14:22:28 [scrapy.core.engine] DEBUG: Crawled (200) <GET https://www.biblegateway.com/passage/?search=Matthieu%206&version=LSG> (referer: https://www.biblegateway.com/passage/?search=Matthieu%205&version=LSG)\n"
     ]
    },
    {
     "name": "stdout",
     "output_type": "stream",
     "text": [
      "--------------- ['/passage/?search=Matthieu%207&version=LSG'] -----------------\n"
     ]
    },
    {
     "name": "stderr",
     "output_type": "stream",
     "text": [
      "2025-05-04 14:22:28 [scrapy.core.engine] DEBUG: Crawled (200) <GET https://www.biblegateway.com/passage/?search=Matthieu%207&version=LSG> (referer: https://www.biblegateway.com/passage/?search=Matthieu%206&version=LSG)\n"
     ]
    },
    {
     "name": "stdout",
     "output_type": "stream",
     "text": [
      "--------------- ['/passage/?search=Matthieu%208&version=LSG'] -----------------\n"
     ]
    },
    {
     "name": "stderr",
     "output_type": "stream",
     "text": [
      "2025-05-04 14:22:29 [scrapy.core.engine] DEBUG: Crawled (200) <GET https://www.biblegateway.com/passage/?search=Matthieu%208&version=LSG> (referer: https://www.biblegateway.com/passage/?search=Matthieu%207&version=LSG)\n"
     ]
    },
    {
     "name": "stdout",
     "output_type": "stream",
     "text": [
      "--------------- ['/passage/?search=Matthieu%209&version=LSG'] -----------------\n"
     ]
    },
    {
     "name": "stderr",
     "output_type": "stream",
     "text": [
      "2025-05-04 14:22:30 [scrapy.core.engine] DEBUG: Crawled (200) <GET https://www.biblegateway.com/passage/?search=Matthieu%209&version=LSG> (referer: https://www.biblegateway.com/passage/?search=Matthieu%208&version=LSG)\n"
     ]
    },
    {
     "name": "stdout",
     "output_type": "stream",
     "text": [
      "--------------- ['/passage/?search=Matthieu%2010&version=LSG'] -----------------\n"
     ]
    },
    {
     "name": "stderr",
     "output_type": "stream",
     "text": [
      "2025-05-04 14:22:30 [scrapy.core.engine] DEBUG: Crawled (200) <GET https://www.biblegateway.com/passage/?search=Matthieu%2010&version=LSG> (referer: https://www.biblegateway.com/passage/?search=Matthieu%209&version=LSG)\n"
     ]
    },
    {
     "name": "stdout",
     "output_type": "stream",
     "text": [
      "--------------- ['/passage/?search=Matthieu%2011&version=LSG'] -----------------\n"
     ]
    },
    {
     "name": "stderr",
     "output_type": "stream",
     "text": [
      "2025-05-04 14:22:31 [scrapy.core.engine] DEBUG: Crawled (200) <GET https://www.biblegateway.com/passage/?search=Matthieu%2011&version=LSG> (referer: https://www.biblegateway.com/passage/?search=Matthieu%2010&version=LSG)\n"
     ]
    },
    {
     "name": "stdout",
     "output_type": "stream",
     "text": [
      "--------------- ['/passage/?search=Matthieu%2012&version=LSG'] -----------------\n"
     ]
    },
    {
     "name": "stderr",
     "output_type": "stream",
     "text": [
      "2025-05-04 14:22:32 [scrapy.core.engine] DEBUG: Crawled (200) <GET https://www.biblegateway.com/passage/?search=Matthieu%2012&version=LSG> (referer: https://www.biblegateway.com/passage/?search=Matthieu%2011&version=LSG)\n"
     ]
    },
    {
     "name": "stdout",
     "output_type": "stream",
     "text": [
      "--------------- ['/passage/?search=Matthieu%2013&version=LSG'] -----------------\n"
     ]
    },
    {
     "name": "stderr",
     "output_type": "stream",
     "text": [
      "2025-05-04 14:22:32 [scrapy.core.engine] DEBUG: Crawled (200) <GET https://www.biblegateway.com/passage/?search=Matthieu%2013&version=LSG> (referer: https://www.biblegateway.com/passage/?search=Matthieu%2012&version=LSG)\n"
     ]
    },
    {
     "name": "stdout",
     "output_type": "stream",
     "text": [
      "--------------- ['/passage/?search=Matthieu%2014&version=LSG'] -----------------\n"
     ]
    },
    {
     "name": "stderr",
     "output_type": "stream",
     "text": [
      "2025-05-04 14:22:33 [scrapy.core.engine] DEBUG: Crawled (200) <GET https://www.biblegateway.com/passage/?search=Matthieu%2014&version=LSG> (referer: https://www.biblegateway.com/passage/?search=Matthieu%2013&version=LSG)\n"
     ]
    },
    {
     "name": "stdout",
     "output_type": "stream",
     "text": [
      "--------------- ['/passage/?search=Matthieu%2015&version=LSG'] -----------------\n"
     ]
    },
    {
     "name": "stderr",
     "output_type": "stream",
     "text": [
      "2025-05-04 14:22:34 [scrapy.core.engine] DEBUG: Crawled (200) <GET https://www.biblegateway.com/passage/?search=Matthieu%2015&version=LSG> (referer: https://www.biblegateway.com/passage/?search=Matthieu%2014&version=LSG)\n"
     ]
    },
    {
     "name": "stdout",
     "output_type": "stream",
     "text": [
      "--------------- ['/passage/?search=Matthieu%2016&version=LSG'] -----------------\n"
     ]
    },
    {
     "name": "stderr",
     "output_type": "stream",
     "text": [
      "2025-05-04 14:22:35 [scrapy.core.engine] DEBUG: Crawled (200) <GET https://www.biblegateway.com/passage/?search=Matthieu%2016&version=LSG> (referer: https://www.biblegateway.com/passage/?search=Matthieu%2015&version=LSG)\n"
     ]
    },
    {
     "name": "stdout",
     "output_type": "stream",
     "text": [
      "--------------- ['/passage/?search=Matthieu%2017&version=LSG'] -----------------\n"
     ]
    },
    {
     "name": "stderr",
     "output_type": "stream",
     "text": [
      "2025-05-04 14:22:36 [scrapy.core.engine] DEBUG: Crawled (200) <GET https://www.biblegateway.com/passage/?search=Matthieu%2017&version=LSG> (referer: https://www.biblegateway.com/passage/?search=Matthieu%2016&version=LSG)\n"
     ]
    },
    {
     "name": "stdout",
     "output_type": "stream",
     "text": [
      "--------------- ['/passage/?search=Matthieu%2018&version=LSG'] -----------------\n"
     ]
    },
    {
     "name": "stderr",
     "output_type": "stream",
     "text": [
      "2025-05-04 14:22:36 [scrapy.core.engine] DEBUG: Crawled (200) <GET https://www.biblegateway.com/passage/?search=Matthieu%2018&version=LSG> (referer: https://www.biblegateway.com/passage/?search=Matthieu%2017&version=LSG)\n"
     ]
    },
    {
     "name": "stdout",
     "output_type": "stream",
     "text": [
      "--------------- ['/passage/?search=Matthieu%2019&version=LSG'] -----------------\n"
     ]
    },
    {
     "name": "stderr",
     "output_type": "stream",
     "text": [
      "2025-05-04 14:22:37 [scrapy.core.engine] DEBUG: Crawled (200) <GET https://www.biblegateway.com/passage/?search=Matthieu%2019&version=LSG> (referer: https://www.biblegateway.com/passage/?search=Matthieu%2018&version=LSG)\n"
     ]
    },
    {
     "name": "stdout",
     "output_type": "stream",
     "text": [
      "--------------- ['/passage/?search=Matthieu%2020&version=LSG'] -----------------\n"
     ]
    },
    {
     "name": "stderr",
     "output_type": "stream",
     "text": [
      "2025-05-04 14:22:38 [scrapy.core.engine] DEBUG: Crawled (200) <GET https://www.biblegateway.com/passage/?search=Matthieu%2020&version=LSG> (referer: https://www.biblegateway.com/passage/?search=Matthieu%2019&version=LSG)\n"
     ]
    },
    {
     "name": "stdout",
     "output_type": "stream",
     "text": [
      "--------------- ['/passage/?search=Matthieu%2021&version=LSG'] -----------------\n"
     ]
    },
    {
     "name": "stderr",
     "output_type": "stream",
     "text": [
      "2025-05-04 14:22:39 [scrapy.core.engine] DEBUG: Crawled (200) <GET https://www.biblegateway.com/passage/?search=Matthieu%2021&version=LSG> (referer: https://www.biblegateway.com/passage/?search=Matthieu%2020&version=LSG)\n"
     ]
    },
    {
     "name": "stdout",
     "output_type": "stream",
     "text": [
      "--------------- ['/passage/?search=Matthieu%2022&version=LSG'] -----------------\n"
     ]
    },
    {
     "name": "stderr",
     "output_type": "stream",
     "text": [
      "2025-05-04 14:22:40 [scrapy.core.engine] DEBUG: Crawled (200) <GET https://www.biblegateway.com/passage/?search=Matthieu%2022&version=LSG> (referer: https://www.biblegateway.com/passage/?search=Matthieu%2021&version=LSG)\n"
     ]
    },
    {
     "name": "stdout",
     "output_type": "stream",
     "text": [
      "--------------- ['/passage/?search=Matthieu%2023&version=LSG'] -----------------\n"
     ]
    },
    {
     "name": "stderr",
     "output_type": "stream",
     "text": [
      "2025-05-04 14:22:41 [scrapy.core.engine] DEBUG: Crawled (200) <GET https://www.biblegateway.com/passage/?search=Matthieu%2023&version=LSG> (referer: https://www.biblegateway.com/passage/?search=Matthieu%2022&version=LSG)\n"
     ]
    },
    {
     "name": "stdout",
     "output_type": "stream",
     "text": [
      "--------------- ['/passage/?search=Matthieu%2024&version=LSG'] -----------------\n"
     ]
    },
    {
     "name": "stderr",
     "output_type": "stream",
     "text": [
      "2025-05-04 14:22:41 [scrapy.core.engine] DEBUG: Crawled (200) <GET https://www.biblegateway.com/passage/?search=Matthieu%2024&version=LSG> (referer: https://www.biblegateway.com/passage/?search=Matthieu%2023&version=LSG)\n"
     ]
    },
    {
     "name": "stdout",
     "output_type": "stream",
     "text": [
      "--------------- ['/passage/?search=Matthieu%2025&version=LSG'] -----------------\n"
     ]
    },
    {
     "name": "stderr",
     "output_type": "stream",
     "text": [
      "2025-05-04 14:22:42 [scrapy.core.engine] DEBUG: Crawled (200) <GET https://www.biblegateway.com/passage/?search=Matthieu%2025&version=LSG> (referer: https://www.biblegateway.com/passage/?search=Matthieu%2024&version=LSG)\n"
     ]
    },
    {
     "name": "stdout",
     "output_type": "stream",
     "text": [
      "--------------- ['/passage/?search=Matthieu%2026&version=LSG'] -----------------\n"
     ]
    },
    {
     "name": "stderr",
     "output_type": "stream",
     "text": [
      "2025-05-04 14:22:43 [scrapy.core.engine] DEBUG: Crawled (200) <GET https://www.biblegateway.com/passage/?search=Matthieu%2026&version=LSG> (referer: https://www.biblegateway.com/passage/?search=Matthieu%2025&version=LSG)\n"
     ]
    },
    {
     "name": "stdout",
     "output_type": "stream",
     "text": [
      "--------------- ['/passage/?search=Matthieu%2027&version=LSG'] -----------------\n"
     ]
    },
    {
     "name": "stderr",
     "output_type": "stream",
     "text": [
      "2025-05-04 14:22:44 [scrapy.core.engine] DEBUG: Crawled (200) <GET https://www.biblegateway.com/passage/?search=Matthieu%2027&version=LSG> (referer: https://www.biblegateway.com/passage/?search=Matthieu%2026&version=LSG)\n"
     ]
    },
    {
     "name": "stdout",
     "output_type": "stream",
     "text": [
      "--------------- ['/passage/?search=Matthieu%2028&version=LSG'] -----------------\n"
     ]
    },
    {
     "name": "stderr",
     "output_type": "stream",
     "text": [
      "2025-05-04 14:22:45 [scrapy.core.engine] DEBUG: Crawled (200) <GET https://www.biblegateway.com/passage/?search=Matthieu%2028&version=LSG> (referer: https://www.biblegateway.com/passage/?search=Matthieu%2027&version=LSG)\n"
     ]
    },
    {
     "name": "stdout",
     "output_type": "stream",
     "text": [
      "--------------- ['/passage/?search=Marc%201&version=LSG'] -----------------\n"
     ]
    },
    {
     "name": "stderr",
     "output_type": "stream",
     "text": [
      "2025-05-04 14:22:46 [scrapy.core.engine] DEBUG: Crawled (200) <GET https://www.biblegateway.com/passage/?search=Marc%201&version=LSG> (referer: https://www.biblegateway.com/passage/?search=Matthieu%2028&version=LSG)\n"
     ]
    },
    {
     "name": "stdout",
     "output_type": "stream",
     "text": [
      "--------------- ['/passage/?search=Marc%202&version=LSG'] -----------------\n"
     ]
    },
    {
     "name": "stderr",
     "output_type": "stream",
     "text": [
      "2025-05-04 14:22:47 [scrapy.core.engine] DEBUG: Crawled (200) <GET https://www.biblegateway.com/passage/?search=Marc%202&version=LSG> (referer: https://www.biblegateway.com/passage/?search=Marc%201&version=LSG)\n"
     ]
    },
    {
     "name": "stdout",
     "output_type": "stream",
     "text": [
      "--------------- ['/passage/?search=Marc%203&version=LSG'] -----------------\n"
     ]
    },
    {
     "name": "stderr",
     "output_type": "stream",
     "text": [
      "2025-05-04 14:22:47 [scrapy.core.engine] DEBUG: Crawled (200) <GET https://www.biblegateway.com/passage/?search=Marc%203&version=LSG> (referer: https://www.biblegateway.com/passage/?search=Marc%202&version=LSG)\n"
     ]
    },
    {
     "name": "stdout",
     "output_type": "stream",
     "text": [
      "--------------- ['/passage/?search=Marc%204&version=LSG'] -----------------\n"
     ]
    },
    {
     "name": "stderr",
     "output_type": "stream",
     "text": [
      "2025-05-04 14:22:48 [scrapy.core.engine] DEBUG: Crawled (200) <GET https://www.biblegateway.com/passage/?search=Marc%204&version=LSG> (referer: https://www.biblegateway.com/passage/?search=Marc%203&version=LSG)\n"
     ]
    },
    {
     "name": "stdout",
     "output_type": "stream",
     "text": [
      "--------------- ['/passage/?search=Marc%205&version=LSG'] -----------------\n"
     ]
    },
    {
     "name": "stderr",
     "output_type": "stream",
     "text": [
      "2025-05-04 14:22:49 [scrapy.core.engine] DEBUG: Crawled (200) <GET https://www.biblegateway.com/passage/?search=Marc%205&version=LSG> (referer: https://www.biblegateway.com/passage/?search=Marc%204&version=LSG)\n"
     ]
    },
    {
     "name": "stdout",
     "output_type": "stream",
     "text": [
      "--------------- ['/passage/?search=Marc%206&version=LSG'] -----------------\n"
     ]
    },
    {
     "name": "stderr",
     "output_type": "stream",
     "text": [
      "2025-05-04 14:22:50 [scrapy.core.engine] DEBUG: Crawled (200) <GET https://www.biblegateway.com/passage/?search=Marc%206&version=LSG> (referer: https://www.biblegateway.com/passage/?search=Marc%205&version=LSG)\n"
     ]
    },
    {
     "name": "stdout",
     "output_type": "stream",
     "text": [
      "--------------- ['/passage/?search=Marc%207&version=LSG'] -----------------\n"
     ]
    },
    {
     "name": "stderr",
     "output_type": "stream",
     "text": [
      "2025-05-04 14:22:50 [scrapy.core.engine] DEBUG: Crawled (200) <GET https://www.biblegateway.com/passage/?search=Marc%207&version=LSG> (referer: https://www.biblegateway.com/passage/?search=Marc%206&version=LSG)\n"
     ]
    },
    {
     "name": "stdout",
     "output_type": "stream",
     "text": [
      "--------------- ['/passage/?search=Marc%208&version=LSG'] -----------------\n"
     ]
    },
    {
     "name": "stderr",
     "output_type": "stream",
     "text": [
      "2025-05-04 14:22:51 [scrapy.core.engine] DEBUG: Crawled (200) <GET https://www.biblegateway.com/passage/?search=Marc%208&version=LSG> (referer: https://www.biblegateway.com/passage/?search=Marc%207&version=LSG)\n"
     ]
    },
    {
     "name": "stdout",
     "output_type": "stream",
     "text": [
      "--------------- ['/passage/?search=Marc%209&version=LSG'] -----------------\n"
     ]
    },
    {
     "name": "stderr",
     "output_type": "stream",
     "text": [
      "2025-05-04 14:22:52 [scrapy.core.engine] DEBUG: Crawled (200) <GET https://www.biblegateway.com/passage/?search=Marc%209&version=LSG> (referer: https://www.biblegateway.com/passage/?search=Marc%208&version=LSG)\n"
     ]
    },
    {
     "name": "stdout",
     "output_type": "stream",
     "text": [
      "--------------- ['/passage/?search=Marc%2010&version=LSG'] -----------------\n"
     ]
    },
    {
     "name": "stderr",
     "output_type": "stream",
     "text": [
      "2025-05-04 14:22:53 [scrapy.core.engine] DEBUG: Crawled (200) <GET https://www.biblegateway.com/passage/?search=Marc%2010&version=LSG> (referer: https://www.biblegateway.com/passage/?search=Marc%209&version=LSG)\n"
     ]
    },
    {
     "name": "stdout",
     "output_type": "stream",
     "text": [
      "--------------- ['/passage/?search=Marc%2011&version=LSG'] -----------------\n"
     ]
    },
    {
     "name": "stderr",
     "output_type": "stream",
     "text": [
      "2025-05-04 14:22:53 [scrapy.core.engine] DEBUG: Crawled (200) <GET https://www.biblegateway.com/passage/?search=Marc%2011&version=LSG> (referer: https://www.biblegateway.com/passage/?search=Marc%2010&version=LSG)\n"
     ]
    },
    {
     "name": "stdout",
     "output_type": "stream",
     "text": [
      "--------------- ['/passage/?search=Marc%2012&version=LSG'] -----------------\n"
     ]
    },
    {
     "name": "stderr",
     "output_type": "stream",
     "text": [
      "2025-05-04 14:22:54 [scrapy.core.engine] DEBUG: Crawled (200) <GET https://www.biblegateway.com/passage/?search=Marc%2012&version=LSG> (referer: https://www.biblegateway.com/passage/?search=Marc%2011&version=LSG)\n"
     ]
    },
    {
     "name": "stdout",
     "output_type": "stream",
     "text": [
      "--------------- ['/passage/?search=Marc%2013&version=LSG'] -----------------\n"
     ]
    },
    {
     "name": "stderr",
     "output_type": "stream",
     "text": [
      "2025-05-04 14:22:54 [scrapy.core.engine] DEBUG: Crawled (200) <GET https://www.biblegateway.com/passage/?search=Marc%2013&version=LSG> (referer: https://www.biblegateway.com/passage/?search=Marc%2012&version=LSG)\n"
     ]
    },
    {
     "name": "stdout",
     "output_type": "stream",
     "text": [
      "--------------- ['/passage/?search=Marc%2014&version=LSG'] -----------------\n"
     ]
    },
    {
     "name": "stderr",
     "output_type": "stream",
     "text": [
      "2025-05-04 14:22:55 [scrapy.core.engine] DEBUG: Crawled (200) <GET https://www.biblegateway.com/passage/?search=Marc%2014&version=LSG> (referer: https://www.biblegateway.com/passage/?search=Marc%2013&version=LSG)\n"
     ]
    },
    {
     "name": "stdout",
     "output_type": "stream",
     "text": [
      "--------------- ['/passage/?search=Marc%2015&version=LSG'] -----------------\n"
     ]
    },
    {
     "name": "stderr",
     "output_type": "stream",
     "text": [
      "2025-05-04 14:22:56 [scrapy.core.engine] DEBUG: Crawled (200) <GET https://www.biblegateway.com/passage/?search=Marc%2015&version=LSG> (referer: https://www.biblegateway.com/passage/?search=Marc%2014&version=LSG)\n"
     ]
    },
    {
     "name": "stdout",
     "output_type": "stream",
     "text": [
      "--------------- ['/passage/?search=Marc%2016&version=LSG'] -----------------\n"
     ]
    },
    {
     "name": "stderr",
     "output_type": "stream",
     "text": [
      "2025-05-04 14:22:56 [scrapy.core.engine] DEBUG: Crawled (200) <GET https://www.biblegateway.com/passage/?search=Marc%2016&version=LSG> (referer: https://www.biblegateway.com/passage/?search=Marc%2015&version=LSG)\n",
      "2025-05-04 14:22:57 [scrapy.extensions.logstats] INFO: Crawled 973 pages (at 81 pages/min), scraped 0 items (at 0 items/min)\n"
     ]
    },
    {
     "name": "stdout",
     "output_type": "stream",
     "text": [
      "--------------- ['/passage/?search=Luc%201&version=LSG'] -----------------\n"
     ]
    },
    {
     "name": "stderr",
     "output_type": "stream",
     "text": [
      "2025-05-04 14:22:57 [scrapy.core.engine] DEBUG: Crawled (200) <GET https://www.biblegateway.com/passage/?search=Luc%201&version=LSG> (referer: https://www.biblegateway.com/passage/?search=Marc%2016&version=LSG)\n"
     ]
    },
    {
     "name": "stdout",
     "output_type": "stream",
     "text": [
      "--------------- ['/passage/?search=Luc%202&version=LSG'] -----------------\n"
     ]
    },
    {
     "name": "stderr",
     "output_type": "stream",
     "text": [
      "2025-05-04 14:22:57 [scrapy.core.engine] DEBUG: Crawled (200) <GET https://www.biblegateway.com/passage/?search=Luc%202&version=LSG> (referer: https://www.biblegateway.com/passage/?search=Luc%201&version=LSG)\n"
     ]
    },
    {
     "name": "stdout",
     "output_type": "stream",
     "text": [
      "--------------- ['/passage/?search=Luc%203&version=LSG'] -----------------\n"
     ]
    },
    {
     "name": "stderr",
     "output_type": "stream",
     "text": [
      "2025-05-04 14:22:58 [scrapy.core.engine] DEBUG: Crawled (200) <GET https://www.biblegateway.com/passage/?search=Luc%203&version=LSG> (referer: https://www.biblegateway.com/passage/?search=Luc%202&version=LSG)\n"
     ]
    },
    {
     "name": "stdout",
     "output_type": "stream",
     "text": [
      "--------------- ['/passage/?search=Luc%204&version=LSG'] -----------------\n"
     ]
    },
    {
     "name": "stderr",
     "output_type": "stream",
     "text": [
      "2025-05-04 14:22:59 [scrapy.core.engine] DEBUG: Crawled (200) <GET https://www.biblegateway.com/passage/?search=Luc%204&version=LSG> (referer: https://www.biblegateway.com/passage/?search=Luc%203&version=LSG)\n"
     ]
    },
    {
     "name": "stdout",
     "output_type": "stream",
     "text": [
      "--------------- ['/passage/?search=Luc%205&version=LSG'] -----------------\n"
     ]
    },
    {
     "name": "stderr",
     "output_type": "stream",
     "text": [
      "2025-05-04 14:23:00 [scrapy.core.engine] DEBUG: Crawled (200) <GET https://www.biblegateway.com/passage/?search=Luc%205&version=LSG> (referer: https://www.biblegateway.com/passage/?search=Luc%204&version=LSG)\n"
     ]
    },
    {
     "name": "stdout",
     "output_type": "stream",
     "text": [
      "--------------- ['/passage/?search=Luc%206&version=LSG'] -----------------\n"
     ]
    },
    {
     "name": "stderr",
     "output_type": "stream",
     "text": [
      "2025-05-04 14:23:00 [scrapy.core.engine] DEBUG: Crawled (200) <GET https://www.biblegateway.com/passage/?search=Luc%206&version=LSG> (referer: https://www.biblegateway.com/passage/?search=Luc%205&version=LSG)\n"
     ]
    },
    {
     "name": "stdout",
     "output_type": "stream",
     "text": [
      "--------------- ['/passage/?search=Luc%207&version=LSG'] -----------------\n"
     ]
    },
    {
     "name": "stderr",
     "output_type": "stream",
     "text": [
      "2025-05-04 14:23:01 [scrapy.core.engine] DEBUG: Crawled (200) <GET https://www.biblegateway.com/passage/?search=Luc%207&version=LSG> (referer: https://www.biblegateway.com/passage/?search=Luc%206&version=LSG)\n"
     ]
    },
    {
     "name": "stdout",
     "output_type": "stream",
     "text": [
      "--------------- ['/passage/?search=Luc%208&version=LSG'] -----------------\n"
     ]
    },
    {
     "name": "stderr",
     "output_type": "stream",
     "text": [
      "2025-05-04 14:23:01 [scrapy.core.engine] DEBUG: Crawled (200) <GET https://www.biblegateway.com/passage/?search=Luc%208&version=LSG> (referer: https://www.biblegateway.com/passage/?search=Luc%207&version=LSG)\n"
     ]
    },
    {
     "name": "stdout",
     "output_type": "stream",
     "text": [
      "--------------- ['/passage/?search=Luc%209&version=LSG'] -----------------\n"
     ]
    },
    {
     "name": "stderr",
     "output_type": "stream",
     "text": [
      "2025-05-04 14:23:02 [scrapy.core.engine] DEBUG: Crawled (200) <GET https://www.biblegateway.com/passage/?search=Luc%209&version=LSG> (referer: https://www.biblegateway.com/passage/?search=Luc%208&version=LSG)\n"
     ]
    },
    {
     "name": "stdout",
     "output_type": "stream",
     "text": [
      "--------------- ['/passage/?search=Luc%2010&version=LSG'] -----------------\n"
     ]
    },
    {
     "name": "stderr",
     "output_type": "stream",
     "text": [
      "2025-05-04 14:23:03 [scrapy.core.engine] DEBUG: Crawled (200) <GET https://www.biblegateway.com/passage/?search=Luc%2010&version=LSG> (referer: https://www.biblegateway.com/passage/?search=Luc%209&version=LSG)\n"
     ]
    },
    {
     "name": "stdout",
     "output_type": "stream",
     "text": [
      "--------------- ['/passage/?search=Luc%2011&version=LSG'] -----------------\n"
     ]
    },
    {
     "name": "stderr",
     "output_type": "stream",
     "text": [
      "2025-05-04 14:23:03 [scrapy.core.engine] DEBUG: Crawled (200) <GET https://www.biblegateway.com/passage/?search=Luc%2011&version=LSG> (referer: https://www.biblegateway.com/passage/?search=Luc%2010&version=LSG)\n"
     ]
    },
    {
     "name": "stdout",
     "output_type": "stream",
     "text": [
      "--------------- ['/passage/?search=Luc%2012&version=LSG'] -----------------\n"
     ]
    },
    {
     "name": "stderr",
     "output_type": "stream",
     "text": [
      "2025-05-04 14:23:04 [scrapy.core.engine] DEBUG: Crawled (200) <GET https://www.biblegateway.com/passage/?search=Luc%2012&version=LSG> (referer: https://www.biblegateway.com/passage/?search=Luc%2011&version=LSG)\n"
     ]
    },
    {
     "name": "stdout",
     "output_type": "stream",
     "text": [
      "--------------- ['/passage/?search=Luc%2013&version=LSG'] -----------------\n"
     ]
    },
    {
     "name": "stderr",
     "output_type": "stream",
     "text": [
      "2025-05-04 14:23:05 [scrapy.core.engine] DEBUG: Crawled (200) <GET https://www.biblegateway.com/passage/?search=Luc%2013&version=LSG> (referer: https://www.biblegateway.com/passage/?search=Luc%2012&version=LSG)\n"
     ]
    },
    {
     "name": "stdout",
     "output_type": "stream",
     "text": [
      "--------------- ['/passage/?search=Luc%2014&version=LSG'] -----------------\n"
     ]
    },
    {
     "name": "stderr",
     "output_type": "stream",
     "text": [
      "2025-05-04 14:23:06 [scrapy.core.engine] DEBUG: Crawled (200) <GET https://www.biblegateway.com/passage/?search=Luc%2014&version=LSG> (referer: https://www.biblegateway.com/passage/?search=Luc%2013&version=LSG)\n"
     ]
    },
    {
     "name": "stdout",
     "output_type": "stream",
     "text": [
      "--------------- ['/passage/?search=Luc%2015&version=LSG'] -----------------\n"
     ]
    },
    {
     "name": "stderr",
     "output_type": "stream",
     "text": [
      "2025-05-04 14:23:06 [scrapy.core.engine] DEBUG: Crawled (200) <GET https://www.biblegateway.com/passage/?search=Luc%2015&version=LSG> (referer: https://www.biblegateway.com/passage/?search=Luc%2014&version=LSG)\n"
     ]
    },
    {
     "name": "stdout",
     "output_type": "stream",
     "text": [
      "--------------- ['/passage/?search=Luc%2016&version=LSG'] -----------------\n"
     ]
    },
    {
     "name": "stderr",
     "output_type": "stream",
     "text": [
      "2025-05-04 14:23:07 [scrapy.core.engine] DEBUG: Crawled (200) <GET https://www.biblegateway.com/passage/?search=Luc%2016&version=LSG> (referer: https://www.biblegateway.com/passage/?search=Luc%2015&version=LSG)\n"
     ]
    },
    {
     "name": "stdout",
     "output_type": "stream",
     "text": [
      "--------------- ['/passage/?search=Luc%2017&version=LSG'] -----------------\n"
     ]
    },
    {
     "name": "stderr",
     "output_type": "stream",
     "text": [
      "2025-05-04 14:23:08 [scrapy.core.engine] DEBUG: Crawled (200) <GET https://www.biblegateway.com/passage/?search=Luc%2017&version=LSG> (referer: https://www.biblegateway.com/passage/?search=Luc%2016&version=LSG)\n"
     ]
    },
    {
     "name": "stdout",
     "output_type": "stream",
     "text": [
      "--------------- ['/passage/?search=Luc%2018&version=LSG'] -----------------\n"
     ]
    },
    {
     "name": "stderr",
     "output_type": "stream",
     "text": [
      "2025-05-04 14:23:08 [scrapy.core.engine] DEBUG: Crawled (200) <GET https://www.biblegateway.com/passage/?search=Luc%2018&version=LSG> (referer: https://www.biblegateway.com/passage/?search=Luc%2017&version=LSG)\n"
     ]
    },
    {
     "name": "stdout",
     "output_type": "stream",
     "text": [
      "--------------- ['/passage/?search=Luc%2019&version=LSG'] -----------------\n"
     ]
    },
    {
     "name": "stderr",
     "output_type": "stream",
     "text": [
      "2025-05-04 14:23:09 [scrapy.core.engine] DEBUG: Crawled (200) <GET https://www.biblegateway.com/passage/?search=Luc%2019&version=LSG> (referer: https://www.biblegateway.com/passage/?search=Luc%2018&version=LSG)\n"
     ]
    },
    {
     "name": "stdout",
     "output_type": "stream",
     "text": [
      "--------------- ['/passage/?search=Luc%2020&version=LSG'] -----------------\n"
     ]
    },
    {
     "name": "stderr",
     "output_type": "stream",
     "text": [
      "2025-05-04 14:23:10 [scrapy.core.engine] DEBUG: Crawled (200) <GET https://www.biblegateway.com/passage/?search=Luc%2020&version=LSG> (referer: https://www.biblegateway.com/passage/?search=Luc%2019&version=LSG)\n"
     ]
    },
    {
     "name": "stdout",
     "output_type": "stream",
     "text": [
      "--------------- ['/passage/?search=Luc%2021&version=LSG'] -----------------\n"
     ]
    },
    {
     "name": "stderr",
     "output_type": "stream",
     "text": [
      "2025-05-04 14:23:10 [scrapy.core.engine] DEBUG: Crawled (200) <GET https://www.biblegateway.com/passage/?search=Luc%2021&version=LSG> (referer: https://www.biblegateway.com/passage/?search=Luc%2020&version=LSG)\n"
     ]
    },
    {
     "name": "stdout",
     "output_type": "stream",
     "text": [
      "--------------- ['/passage/?search=Luc%2022&version=LSG'] -----------------\n"
     ]
    },
    {
     "name": "stderr",
     "output_type": "stream",
     "text": [
      "2025-05-04 14:23:11 [scrapy.core.engine] DEBUG: Crawled (200) <GET https://www.biblegateway.com/passage/?search=Luc%2022&version=LSG> (referer: https://www.biblegateway.com/passage/?search=Luc%2021&version=LSG)\n"
     ]
    },
    {
     "name": "stdout",
     "output_type": "stream",
     "text": [
      "--------------- ['/passage/?search=Luc%2023&version=LSG'] -----------------\n"
     ]
    },
    {
     "name": "stderr",
     "output_type": "stream",
     "text": [
      "2025-05-04 14:23:12 [scrapy.core.engine] DEBUG: Crawled (200) <GET https://www.biblegateway.com/passage/?search=Luc%2023&version=LSG> (referer: https://www.biblegateway.com/passage/?search=Luc%2022&version=LSG)\n"
     ]
    },
    {
     "name": "stdout",
     "output_type": "stream",
     "text": [
      "--------------- ['/passage/?search=Luc%2024&version=LSG'] -----------------\n"
     ]
    },
    {
     "name": "stderr",
     "output_type": "stream",
     "text": [
      "2025-05-04 14:23:13 [scrapy.core.engine] DEBUG: Crawled (200) <GET https://www.biblegateway.com/passage/?search=Luc%2024&version=LSG> (referer: https://www.biblegateway.com/passage/?search=Luc%2023&version=LSG)\n"
     ]
    },
    {
     "name": "stdout",
     "output_type": "stream",
     "text": [
      "--------------- ['/passage/?search=Jean%201&version=LSG'] -----------------\n"
     ]
    },
    {
     "name": "stderr",
     "output_type": "stream",
     "text": [
      "2025-05-04 14:23:14 [scrapy.core.engine] DEBUG: Crawled (200) <GET https://www.biblegateway.com/passage/?search=Jean%201&version=LSG> (referer: https://www.biblegateway.com/passage/?search=Luc%2024&version=LSG)\n"
     ]
    },
    {
     "name": "stdout",
     "output_type": "stream",
     "text": [
      "--------------- ['/passage/?search=Jean%202&version=LSG'] -----------------\n"
     ]
    },
    {
     "name": "stderr",
     "output_type": "stream",
     "text": [
      "2025-05-04 14:23:14 [scrapy.core.engine] DEBUG: Crawled (200) <GET https://www.biblegateway.com/passage/?search=Jean%202&version=LSG> (referer: https://www.biblegateway.com/passage/?search=Jean%201&version=LSG)\n"
     ]
    },
    {
     "name": "stdout",
     "output_type": "stream",
     "text": [
      "--------------- ['/passage/?search=Jean%203&version=LSG'] -----------------\n"
     ]
    },
    {
     "name": "stderr",
     "output_type": "stream",
     "text": [
      "2025-05-04 14:23:15 [scrapy.core.engine] DEBUG: Crawled (200) <GET https://www.biblegateway.com/passage/?search=Jean%203&version=LSG> (referer: https://www.biblegateway.com/passage/?search=Jean%202&version=LSG)\n"
     ]
    },
    {
     "name": "stdout",
     "output_type": "stream",
     "text": [
      "--------------- ['/passage/?search=Jean%204&version=LSG'] -----------------\n"
     ]
    },
    {
     "name": "stderr",
     "output_type": "stream",
     "text": [
      "2025-05-04 14:23:16 [scrapy.core.engine] DEBUG: Crawled (200) <GET https://www.biblegateway.com/passage/?search=Jean%204&version=LSG> (referer: https://www.biblegateway.com/passage/?search=Jean%203&version=LSG)\n"
     ]
    },
    {
     "name": "stdout",
     "output_type": "stream",
     "text": [
      "--------------- ['/passage/?search=Jean%205&version=LSG'] -----------------\n"
     ]
    },
    {
     "name": "stderr",
     "output_type": "stream",
     "text": [
      "2025-05-04 14:23:16 [scrapy.core.engine] DEBUG: Crawled (200) <GET https://www.biblegateway.com/passage/?search=Jean%205&version=LSG> (referer: https://www.biblegateway.com/passage/?search=Jean%204&version=LSG)\n"
     ]
    },
    {
     "name": "stdout",
     "output_type": "stream",
     "text": [
      "--------------- ['/passage/?search=Jean%206&version=LSG'] -----------------\n"
     ]
    },
    {
     "name": "stderr",
     "output_type": "stream",
     "text": [
      "2025-05-04 14:23:17 [scrapy.core.engine] DEBUG: Crawled (200) <GET https://www.biblegateway.com/passage/?search=Jean%206&version=LSG> (referer: https://www.biblegateway.com/passage/?search=Jean%205&version=LSG)\n"
     ]
    },
    {
     "name": "stdout",
     "output_type": "stream",
     "text": [
      "--------------- ['/passage/?search=Jean%207&version=LSG'] -----------------\n"
     ]
    },
    {
     "name": "stderr",
     "output_type": "stream",
     "text": [
      "2025-05-04 14:23:17 [scrapy.core.engine] DEBUG: Crawled (200) <GET https://www.biblegateway.com/passage/?search=Jean%207&version=LSG> (referer: https://www.biblegateway.com/passage/?search=Jean%206&version=LSG)\n"
     ]
    },
    {
     "name": "stdout",
     "output_type": "stream",
     "text": [
      "--------------- ['/passage/?search=Jean%208&version=LSG'] -----------------\n"
     ]
    },
    {
     "name": "stderr",
     "output_type": "stream",
     "text": [
      "2025-05-04 14:23:18 [scrapy.core.engine] DEBUG: Crawled (200) <GET https://www.biblegateway.com/passage/?search=Jean%208&version=LSG> (referer: https://www.biblegateway.com/passage/?search=Jean%207&version=LSG)\n"
     ]
    },
    {
     "name": "stdout",
     "output_type": "stream",
     "text": [
      "--------------- ['/passage/?search=Jean%209&version=LSG'] -----------------\n"
     ]
    },
    {
     "name": "stderr",
     "output_type": "stream",
     "text": [
      "2025-05-04 14:23:19 [scrapy.core.engine] DEBUG: Crawled (200) <GET https://www.biblegateway.com/passage/?search=Jean%209&version=LSG> (referer: https://www.biblegateway.com/passage/?search=Jean%208&version=LSG)\n"
     ]
    },
    {
     "name": "stdout",
     "output_type": "stream",
     "text": [
      "--------------- ['/passage/?search=Jean%2010&version=LSG'] -----------------\n"
     ]
    },
    {
     "name": "stderr",
     "output_type": "stream",
     "text": [
      "2025-05-04 14:23:20 [scrapy.core.engine] DEBUG: Crawled (200) <GET https://www.biblegateway.com/passage/?search=Jean%2010&version=LSG> (referer: https://www.biblegateway.com/passage/?search=Jean%209&version=LSG)\n"
     ]
    },
    {
     "name": "stdout",
     "output_type": "stream",
     "text": [
      "--------------- ['/passage/?search=Jean%2011&version=LSG'] -----------------\n"
     ]
    },
    {
     "name": "stderr",
     "output_type": "stream",
     "text": [
      "2025-05-04 14:23:21 [scrapy.core.engine] DEBUG: Crawled (200) <GET https://www.biblegateway.com/passage/?search=Jean%2011&version=LSG> (referer: https://www.biblegateway.com/passage/?search=Jean%2010&version=LSG)\n"
     ]
    },
    {
     "name": "stdout",
     "output_type": "stream",
     "text": [
      "--------------- ['/passage/?search=Jean%2012&version=LSG'] -----------------\n"
     ]
    },
    {
     "name": "stderr",
     "output_type": "stream",
     "text": [
      "2025-05-04 14:23:22 [scrapy.core.engine] DEBUG: Crawled (200) <GET https://www.biblegateway.com/passage/?search=Jean%2012&version=LSG> (referer: https://www.biblegateway.com/passage/?search=Jean%2011&version=LSG)\n"
     ]
    },
    {
     "name": "stdout",
     "output_type": "stream",
     "text": [
      "--------------- ['/passage/?search=Jean%2013&version=LSG'] -----------------\n"
     ]
    },
    {
     "name": "stderr",
     "output_type": "stream",
     "text": [
      "2025-05-04 14:23:23 [scrapy.core.engine] DEBUG: Crawled (200) <GET https://www.biblegateway.com/passage/?search=Jean%2013&version=LSG> (referer: https://www.biblegateway.com/passage/?search=Jean%2012&version=LSG)\n"
     ]
    },
    {
     "name": "stdout",
     "output_type": "stream",
     "text": [
      "--------------- ['/passage/?search=Jean%2014&version=LSG'] -----------------\n"
     ]
    },
    {
     "name": "stderr",
     "output_type": "stream",
     "text": [
      "2025-05-04 14:23:23 [scrapy.core.engine] DEBUG: Crawled (200) <GET https://www.biblegateway.com/passage/?search=Jean%2014&version=LSG> (referer: https://www.biblegateway.com/passage/?search=Jean%2013&version=LSG)\n"
     ]
    },
    {
     "name": "stdout",
     "output_type": "stream",
     "text": [
      "--------------- ['/passage/?search=Jean%2015&version=LSG'] -----------------\n"
     ]
    },
    {
     "name": "stderr",
     "output_type": "stream",
     "text": [
      "2025-05-04 14:23:24 [scrapy.core.engine] DEBUG: Crawled (200) <GET https://www.biblegateway.com/passage/?search=Jean%2015&version=LSG> (referer: https://www.biblegateway.com/passage/?search=Jean%2014&version=LSG)\n"
     ]
    },
    {
     "name": "stdout",
     "output_type": "stream",
     "text": [
      "--------------- ['/passage/?search=Jean%2016&version=LSG'] -----------------\n"
     ]
    },
    {
     "name": "stderr",
     "output_type": "stream",
     "text": [
      "2025-05-04 14:23:25 [scrapy.core.engine] DEBUG: Crawled (200) <GET https://www.biblegateway.com/passage/?search=Jean%2016&version=LSG> (referer: https://www.biblegateway.com/passage/?search=Jean%2015&version=LSG)\n"
     ]
    },
    {
     "name": "stdout",
     "output_type": "stream",
     "text": [
      "--------------- ['/passage/?search=Jean%2017&version=LSG'] -----------------\n"
     ]
    },
    {
     "name": "stderr",
     "output_type": "stream",
     "text": [
      "2025-05-04 14:23:26 [scrapy.core.engine] DEBUG: Crawled (200) <GET https://www.biblegateway.com/passage/?search=Jean%2017&version=LSG> (referer: https://www.biblegateway.com/passage/?search=Jean%2016&version=LSG)\n"
     ]
    },
    {
     "name": "stdout",
     "output_type": "stream",
     "text": [
      "--------------- ['/passage/?search=Jean%2018&version=LSG'] -----------------\n"
     ]
    },
    {
     "name": "stderr",
     "output_type": "stream",
     "text": [
      "2025-05-04 14:23:27 [scrapy.core.engine] DEBUG: Crawled (200) <GET https://www.biblegateway.com/passage/?search=Jean%2018&version=LSG> (referer: https://www.biblegateway.com/passage/?search=Jean%2017&version=LSG)\n"
     ]
    },
    {
     "name": "stdout",
     "output_type": "stream",
     "text": [
      "--------------- ['/passage/?search=Jean%2019&version=LSG'] -----------------\n"
     ]
    },
    {
     "name": "stderr",
     "output_type": "stream",
     "text": [
      "2025-05-04 14:23:28 [scrapy.core.engine] DEBUG: Crawled (200) <GET https://www.biblegateway.com/passage/?search=Jean%2019&version=LSG> (referer: https://www.biblegateway.com/passage/?search=Jean%2018&version=LSG)\n"
     ]
    },
    {
     "name": "stdout",
     "output_type": "stream",
     "text": [
      "--------------- ['/passage/?search=Jean%2020&version=LSG'] -----------------\n"
     ]
    },
    {
     "name": "stderr",
     "output_type": "stream",
     "text": [
      "2025-05-04 14:23:29 [scrapy.core.engine] DEBUG: Crawled (200) <GET https://www.biblegateway.com/passage/?search=Jean%2020&version=LSG> (referer: https://www.biblegateway.com/passage/?search=Jean%2019&version=LSG)\n"
     ]
    },
    {
     "name": "stdout",
     "output_type": "stream",
     "text": [
      "--------------- ['/passage/?search=Jean%2021&version=LSG'] -----------------\n"
     ]
    },
    {
     "name": "stderr",
     "output_type": "stream",
     "text": [
      "2025-05-04 14:23:29 [scrapy.core.engine] DEBUG: Crawled (200) <GET https://www.biblegateway.com/passage/?search=Jean%2021&version=LSG> (referer: https://www.biblegateway.com/passage/?search=Jean%2020&version=LSG)\n"
     ]
    },
    {
     "name": "stdout",
     "output_type": "stream",
     "text": [
      "--------------- ['/passage/?search=Actes%201&version=LSG'] -----------------\n"
     ]
    },
    {
     "name": "stderr",
     "output_type": "stream",
     "text": [
      "2025-05-04 14:23:30 [scrapy.core.engine] DEBUG: Crawled (200) <GET https://www.biblegateway.com/passage/?search=Actes%201&version=LSG> (referer: https://www.biblegateway.com/passage/?search=Jean%2021&version=LSG)\n"
     ]
    },
    {
     "name": "stdout",
     "output_type": "stream",
     "text": [
      "--------------- ['/passage/?search=Actes%202&version=LSG'] -----------------\n"
     ]
    },
    {
     "name": "stderr",
     "output_type": "stream",
     "text": [
      "2025-05-04 14:23:31 [scrapy.core.engine] DEBUG: Crawled (200) <GET https://www.biblegateway.com/passage/?search=Actes%202&version=LSG> (referer: https://www.biblegateway.com/passage/?search=Actes%201&version=LSG)\n"
     ]
    },
    {
     "name": "stdout",
     "output_type": "stream",
     "text": [
      "--------------- ['/passage/?search=Actes%203&version=LSG'] -----------------\n"
     ]
    },
    {
     "name": "stderr",
     "output_type": "stream",
     "text": [
      "2025-05-04 14:23:32 [scrapy.core.engine] DEBUG: Crawled (200) <GET https://www.biblegateway.com/passage/?search=Actes%203&version=LSG> (referer: https://www.biblegateway.com/passage/?search=Actes%202&version=LSG)\n"
     ]
    },
    {
     "name": "stdout",
     "output_type": "stream",
     "text": [
      "--------------- ['/passage/?search=Actes%204&version=LSG'] -----------------\n"
     ]
    },
    {
     "name": "stderr",
     "output_type": "stream",
     "text": [
      "2025-05-04 14:23:32 [scrapy.core.engine] DEBUG: Crawled (200) <GET https://www.biblegateway.com/passage/?search=Actes%204&version=LSG> (referer: https://www.biblegateway.com/passage/?search=Actes%203&version=LSG)\n"
     ]
    },
    {
     "name": "stdout",
     "output_type": "stream",
     "text": [
      "--------------- ['/passage/?search=Actes%205&version=LSG'] -----------------\n"
     ]
    },
    {
     "name": "stderr",
     "output_type": "stream",
     "text": [
      "2025-05-04 14:23:33 [scrapy.core.engine] DEBUG: Crawled (200) <GET https://www.biblegateway.com/passage/?search=Actes%205&version=LSG> (referer: https://www.biblegateway.com/passage/?search=Actes%204&version=LSG)\n"
     ]
    },
    {
     "name": "stdout",
     "output_type": "stream",
     "text": [
      "--------------- ['/passage/?search=Actes%206&version=LSG'] -----------------\n"
     ]
    },
    {
     "name": "stderr",
     "output_type": "stream",
     "text": [
      "2025-05-04 14:23:34 [scrapy.core.engine] DEBUG: Crawled (200) <GET https://www.biblegateway.com/passage/?search=Actes%206&version=LSG> (referer: https://www.biblegateway.com/passage/?search=Actes%205&version=LSG)\n"
     ]
    },
    {
     "name": "stdout",
     "output_type": "stream",
     "text": [
      "--------------- ['/passage/?search=Actes%207&version=LSG'] -----------------\n"
     ]
    },
    {
     "name": "stderr",
     "output_type": "stream",
     "text": [
      "2025-05-04 14:23:35 [scrapy.core.engine] DEBUG: Crawled (200) <GET https://www.biblegateway.com/passage/?search=Actes%207&version=LSG> (referer: https://www.biblegateway.com/passage/?search=Actes%206&version=LSG)\n"
     ]
    },
    {
     "name": "stdout",
     "output_type": "stream",
     "text": [
      "--------------- ['/passage/?search=Actes%208&version=LSG'] -----------------\n"
     ]
    },
    {
     "name": "stderr",
     "output_type": "stream",
     "text": [
      "2025-05-04 14:23:35 [scrapy.core.engine] DEBUG: Crawled (200) <GET https://www.biblegateway.com/passage/?search=Actes%208&version=LSG> (referer: https://www.biblegateway.com/passage/?search=Actes%207&version=LSG)\n"
     ]
    },
    {
     "name": "stdout",
     "output_type": "stream",
     "text": [
      "--------------- ['/passage/?search=Actes%209&version=LSG'] -----------------\n"
     ]
    },
    {
     "name": "stderr",
     "output_type": "stream",
     "text": [
      "2025-05-04 14:23:36 [scrapy.core.engine] DEBUG: Crawled (200) <GET https://www.biblegateway.com/passage/?search=Actes%209&version=LSG> (referer: https://www.biblegateway.com/passage/?search=Actes%208&version=LSG)\n"
     ]
    },
    {
     "name": "stdout",
     "output_type": "stream",
     "text": [
      "--------------- ['/passage/?search=Actes%2010&version=LSG'] -----------------\n"
     ]
    },
    {
     "name": "stderr",
     "output_type": "stream",
     "text": [
      "2025-05-04 14:23:37 [scrapy.core.engine] DEBUG: Crawled (200) <GET https://www.biblegateway.com/passage/?search=Actes%2010&version=LSG> (referer: https://www.biblegateway.com/passage/?search=Actes%209&version=LSG)\n"
     ]
    },
    {
     "name": "stdout",
     "output_type": "stream",
     "text": [
      "--------------- ['/passage/?search=Actes%2011&version=LSG'] -----------------\n"
     ]
    },
    {
     "name": "stderr",
     "output_type": "stream",
     "text": [
      "2025-05-04 14:23:37 [scrapy.core.engine] DEBUG: Crawled (200) <GET https://www.biblegateway.com/passage/?search=Actes%2011&version=LSG> (referer: https://www.biblegateway.com/passage/?search=Actes%2010&version=LSG)\n"
     ]
    },
    {
     "name": "stdout",
     "output_type": "stream",
     "text": [
      "--------------- ['/passage/?search=Actes%2012&version=LSG'] -----------------\n"
     ]
    },
    {
     "name": "stderr",
     "output_type": "stream",
     "text": [
      "2025-05-04 14:23:38 [scrapy.core.engine] DEBUG: Crawled (200) <GET https://www.biblegateway.com/passage/?search=Actes%2012&version=LSG> (referer: https://www.biblegateway.com/passage/?search=Actes%2011&version=LSG)\n"
     ]
    },
    {
     "name": "stdout",
     "output_type": "stream",
     "text": [
      "--------------- ['/passage/?search=Actes%2013&version=LSG'] -----------------\n"
     ]
    },
    {
     "name": "stderr",
     "output_type": "stream",
     "text": [
      "2025-05-04 14:23:39 [scrapy.core.engine] DEBUG: Crawled (200) <GET https://www.biblegateway.com/passage/?search=Actes%2013&version=LSG> (referer: https://www.biblegateway.com/passage/?search=Actes%2012&version=LSG)\n"
     ]
    },
    {
     "name": "stdout",
     "output_type": "stream",
     "text": [
      "--------------- ['/passage/?search=Actes%2014&version=LSG'] -----------------\n"
     ]
    },
    {
     "name": "stderr",
     "output_type": "stream",
     "text": [
      "2025-05-04 14:23:39 [scrapy.core.engine] DEBUG: Crawled (200) <GET https://www.biblegateway.com/passage/?search=Actes%2014&version=LSG> (referer: https://www.biblegateway.com/passage/?search=Actes%2013&version=LSG)\n"
     ]
    },
    {
     "name": "stdout",
     "output_type": "stream",
     "text": [
      "--------------- ['/passage/?search=Actes%2015&version=LSG'] -----------------\n"
     ]
    },
    {
     "name": "stderr",
     "output_type": "stream",
     "text": [
      "2025-05-04 14:23:40 [scrapy.core.engine] DEBUG: Crawled (200) <GET https://www.biblegateway.com/passage/?search=Actes%2015&version=LSG> (referer: https://www.biblegateway.com/passage/?search=Actes%2014&version=LSG)\n"
     ]
    },
    {
     "name": "stdout",
     "output_type": "stream",
     "text": [
      "--------------- ['/passage/?search=Actes%2016&version=LSG'] -----------------\n"
     ]
    },
    {
     "name": "stderr",
     "output_type": "stream",
     "text": [
      "2025-05-04 14:23:41 [scrapy.core.engine] DEBUG: Crawled (200) <GET https://www.biblegateway.com/passage/?search=Actes%2016&version=LSG> (referer: https://www.biblegateway.com/passage/?search=Actes%2015&version=LSG)\n"
     ]
    },
    {
     "name": "stdout",
     "output_type": "stream",
     "text": [
      "--------------- ['/passage/?search=Actes%2017&version=LSG'] -----------------\n"
     ]
    },
    {
     "name": "stderr",
     "output_type": "stream",
     "text": [
      "2025-05-04 14:23:41 [scrapy.core.engine] DEBUG: Crawled (200) <GET https://www.biblegateway.com/passage/?search=Actes%2017&version=LSG> (referer: https://www.biblegateway.com/passage/?search=Actes%2016&version=LSG)\n"
     ]
    },
    {
     "name": "stdout",
     "output_type": "stream",
     "text": [
      "--------------- ['/passage/?search=Actes%2018&version=LSG'] -----------------\n"
     ]
    },
    {
     "name": "stderr",
     "output_type": "stream",
     "text": [
      "2025-05-04 14:23:42 [scrapy.core.engine] DEBUG: Crawled (200) <GET https://www.biblegateway.com/passage/?search=Actes%2018&version=LSG> (referer: https://www.biblegateway.com/passage/?search=Actes%2017&version=LSG)\n"
     ]
    },
    {
     "name": "stdout",
     "output_type": "stream",
     "text": [
      "--------------- ['/passage/?search=Actes%2019&version=LSG'] -----------------\n"
     ]
    },
    {
     "name": "stderr",
     "output_type": "stream",
     "text": [
      "2025-05-04 14:23:43 [scrapy.core.engine] DEBUG: Crawled (200) <GET https://www.biblegateway.com/passage/?search=Actes%2019&version=LSG> (referer: https://www.biblegateway.com/passage/?search=Actes%2018&version=LSG)\n"
     ]
    },
    {
     "name": "stdout",
     "output_type": "stream",
     "text": [
      "--------------- ['/passage/?search=Actes%2020&version=LSG'] -----------------\n"
     ]
    },
    {
     "name": "stderr",
     "output_type": "stream",
     "text": [
      "2025-05-04 14:23:43 [scrapy.core.engine] DEBUG: Crawled (200) <GET https://www.biblegateway.com/passage/?search=Actes%2020&version=LSG> (referer: https://www.biblegateway.com/passage/?search=Actes%2019&version=LSG)\n"
     ]
    },
    {
     "name": "stdout",
     "output_type": "stream",
     "text": [
      "--------------- ['/passage/?search=Actes%2021&version=LSG'] -----------------\n"
     ]
    },
    {
     "name": "stderr",
     "output_type": "stream",
     "text": [
      "2025-05-04 14:23:44 [scrapy.core.engine] DEBUG: Crawled (200) <GET https://www.biblegateway.com/passage/?search=Actes%2021&version=LSG> (referer: https://www.biblegateway.com/passage/?search=Actes%2020&version=LSG)\n"
     ]
    },
    {
     "name": "stdout",
     "output_type": "stream",
     "text": [
      "--------------- ['/passage/?search=Actes%2022&version=LSG'] -----------------\n"
     ]
    },
    {
     "name": "stderr",
     "output_type": "stream",
     "text": [
      "2025-05-04 14:23:44 [scrapy.core.engine] DEBUG: Crawled (200) <GET https://www.biblegateway.com/passage/?search=Actes%2022&version=LSG> (referer: https://www.biblegateway.com/passage/?search=Actes%2021&version=LSG)\n"
     ]
    },
    {
     "name": "stdout",
     "output_type": "stream",
     "text": [
      "--------------- ['/passage/?search=Actes%2023&version=LSG'] -----------------\n"
     ]
    },
    {
     "name": "stderr",
     "output_type": "stream",
     "text": [
      "2025-05-04 14:23:45 [scrapy.core.engine] DEBUG: Crawled (200) <GET https://www.biblegateway.com/passage/?search=Actes%2023&version=LSG> (referer: https://www.biblegateway.com/passage/?search=Actes%2022&version=LSG)\n"
     ]
    },
    {
     "name": "stdout",
     "output_type": "stream",
     "text": [
      "--------------- ['/passage/?search=Actes%2024&version=LSG'] -----------------\n"
     ]
    },
    {
     "name": "stderr",
     "output_type": "stream",
     "text": [
      "2025-05-04 14:23:46 [scrapy.core.engine] DEBUG: Crawled (200) <GET https://www.biblegateway.com/passage/?search=Actes%2024&version=LSG> (referer: https://www.biblegateway.com/passage/?search=Actes%2023&version=LSG)\n"
     ]
    },
    {
     "name": "stdout",
     "output_type": "stream",
     "text": [
      "--------------- ['/passage/?search=Actes%2025&version=LSG'] -----------------\n"
     ]
    },
    {
     "name": "stderr",
     "output_type": "stream",
     "text": [
      "2025-05-04 14:23:47 [scrapy.core.engine] DEBUG: Crawled (200) <GET https://www.biblegateway.com/passage/?search=Actes%2025&version=LSG> (referer: https://www.biblegateway.com/passage/?search=Actes%2024&version=LSG)\n"
     ]
    },
    {
     "name": "stdout",
     "output_type": "stream",
     "text": [
      "--------------- ['/passage/?search=Actes%2026&version=LSG'] -----------------\n"
     ]
    },
    {
     "name": "stderr",
     "output_type": "stream",
     "text": [
      "2025-05-04 14:23:48 [scrapy.core.engine] DEBUG: Crawled (200) <GET https://www.biblegateway.com/passage/?search=Actes%2026&version=LSG> (referer: https://www.biblegateway.com/passage/?search=Actes%2025&version=LSG)\n"
     ]
    },
    {
     "name": "stdout",
     "output_type": "stream",
     "text": [
      "--------------- ['/passage/?search=Actes%2027&version=LSG'] -----------------\n"
     ]
    },
    {
     "name": "stderr",
     "output_type": "stream",
     "text": [
      "2025-05-04 14:23:48 [scrapy.core.engine] DEBUG: Crawled (200) <GET https://www.biblegateway.com/passage/?search=Actes%2027&version=LSG> (referer: https://www.biblegateway.com/passage/?search=Actes%2026&version=LSG)\n"
     ]
    },
    {
     "name": "stdout",
     "output_type": "stream",
     "text": [
      "--------------- ['/passage/?search=Actes%2028&version=LSG'] -----------------\n"
     ]
    },
    {
     "name": "stderr",
     "output_type": "stream",
     "text": [
      "2025-05-04 14:23:49 [scrapy.core.engine] DEBUG: Crawled (200) <GET https://www.biblegateway.com/passage/?search=Actes%2028&version=LSG> (referer: https://www.biblegateway.com/passage/?search=Actes%2027&version=LSG)\n"
     ]
    },
    {
     "name": "stdout",
     "output_type": "stream",
     "text": [
      "--------------- ['/passage/?search=Romains%201&version=LSG'] -----------------\n"
     ]
    },
    {
     "name": "stderr",
     "output_type": "stream",
     "text": [
      "2025-05-04 14:23:50 [scrapy.core.engine] DEBUG: Crawled (200) <GET https://www.biblegateway.com/passage/?search=Romains%201&version=LSG> (referer: https://www.biblegateway.com/passage/?search=Actes%2028&version=LSG)\n"
     ]
    },
    {
     "name": "stdout",
     "output_type": "stream",
     "text": [
      "--------------- ['/passage/?search=Romains%202&version=LSG'] -----------------\n"
     ]
    },
    {
     "name": "stderr",
     "output_type": "stream",
     "text": [
      "2025-05-04 14:23:50 [scrapy.core.engine] DEBUG: Crawled (200) <GET https://www.biblegateway.com/passage/?search=Romains%202&version=LSG> (referer: https://www.biblegateway.com/passage/?search=Romains%201&version=LSG)\n"
     ]
    },
    {
     "name": "stdout",
     "output_type": "stream",
     "text": [
      "--------------- ['/passage/?search=Romains%203&version=LSG'] -----------------\n"
     ]
    },
    {
     "name": "stderr",
     "output_type": "stream",
     "text": [
      "2025-05-04 14:23:51 [scrapy.core.engine] DEBUG: Crawled (200) <GET https://www.biblegateway.com/passage/?search=Romains%203&version=LSG> (referer: https://www.biblegateway.com/passage/?search=Romains%202&version=LSG)\n"
     ]
    },
    {
     "name": "stdout",
     "output_type": "stream",
     "text": [
      "--------------- ['/passage/?search=Romains%204&version=LSG'] -----------------\n"
     ]
    },
    {
     "name": "stderr",
     "output_type": "stream",
     "text": [
      "2025-05-04 14:23:51 [scrapy.core.engine] DEBUG: Crawled (200) <GET https://www.biblegateway.com/passage/?search=Romains%204&version=LSG> (referer: https://www.biblegateway.com/passage/?search=Romains%203&version=LSG)\n"
     ]
    },
    {
     "name": "stdout",
     "output_type": "stream",
     "text": [
      "--------------- ['/passage/?search=Romains%205&version=LSG'] -----------------\n"
     ]
    },
    {
     "name": "stderr",
     "output_type": "stream",
     "text": [
      "2025-05-04 14:23:52 [scrapy.core.engine] DEBUG: Crawled (200) <GET https://www.biblegateway.com/passage/?search=Romains%205&version=LSG> (referer: https://www.biblegateway.com/passage/?search=Romains%204&version=LSG)\n"
     ]
    },
    {
     "name": "stdout",
     "output_type": "stream",
     "text": [
      "--------------- ['/passage/?search=Romains%206&version=LSG'] -----------------\n"
     ]
    },
    {
     "name": "stderr",
     "output_type": "stream",
     "text": [
      "2025-05-04 14:23:53 [scrapy.core.engine] DEBUG: Crawled (200) <GET https://www.biblegateway.com/passage/?search=Romains%206&version=LSG> (referer: https://www.biblegateway.com/passage/?search=Romains%205&version=LSG)\n"
     ]
    },
    {
     "name": "stdout",
     "output_type": "stream",
     "text": [
      "--------------- ['/passage/?search=Romains%207&version=LSG'] -----------------\n"
     ]
    },
    {
     "name": "stderr",
     "output_type": "stream",
     "text": [
      "2025-05-04 14:23:54 [scrapy.core.engine] DEBUG: Crawled (200) <GET https://www.biblegateway.com/passage/?search=Romains%207&version=LSG> (referer: https://www.biblegateway.com/passage/?search=Romains%206&version=LSG)\n"
     ]
    },
    {
     "name": "stdout",
     "output_type": "stream",
     "text": [
      "--------------- ['/passage/?search=Romains%208&version=LSG'] -----------------\n"
     ]
    },
    {
     "name": "stderr",
     "output_type": "stream",
     "text": [
      "2025-05-04 14:23:54 [scrapy.core.engine] DEBUG: Crawled (200) <GET https://www.biblegateway.com/passage/?search=Romains%208&version=LSG> (referer: https://www.biblegateway.com/passage/?search=Romains%207&version=LSG)\n"
     ]
    },
    {
     "name": "stdout",
     "output_type": "stream",
     "text": [
      "--------------- ['/passage/?search=Romains%209&version=LSG'] -----------------\n"
     ]
    },
    {
     "name": "stderr",
     "output_type": "stream",
     "text": [
      "2025-05-04 14:23:55 [scrapy.core.engine] DEBUG: Crawled (200) <GET https://www.biblegateway.com/passage/?search=Romains%209&version=LSG> (referer: https://www.biblegateway.com/passage/?search=Romains%208&version=LSG)\n"
     ]
    },
    {
     "name": "stdout",
     "output_type": "stream",
     "text": [
      "--------------- ['/passage/?search=Romains%2010&version=LSG'] -----------------\n"
     ]
    },
    {
     "name": "stderr",
     "output_type": "stream",
     "text": [
      "2025-05-04 14:23:55 [scrapy.core.engine] DEBUG: Crawled (200) <GET https://www.biblegateway.com/passage/?search=Romains%2010&version=LSG> (referer: https://www.biblegateway.com/passage/?search=Romains%209&version=LSG)\n"
     ]
    },
    {
     "name": "stdout",
     "output_type": "stream",
     "text": [
      "--------------- ['/passage/?search=Romains%2011&version=LSG'] -----------------\n"
     ]
    },
    {
     "name": "stderr",
     "output_type": "stream",
     "text": [
      "2025-05-04 14:23:56 [scrapy.core.engine] DEBUG: Crawled (200) <GET https://www.biblegateway.com/passage/?search=Romains%2011&version=LSG> (referer: https://www.biblegateway.com/passage/?search=Romains%2010&version=LSG)\n",
      "2025-05-04 14:23:57 [scrapy.extensions.logstats] INFO: Crawled 1057 pages (at 84 pages/min), scraped 0 items (at 0 items/min)\n"
     ]
    },
    {
     "name": "stdout",
     "output_type": "stream",
     "text": [
      "--------------- ['/passage/?search=Romains%2012&version=LSG'] -----------------\n"
     ]
    },
    {
     "name": "stderr",
     "output_type": "stream",
     "text": [
      "2025-05-04 14:23:57 [scrapy.core.engine] DEBUG: Crawled (200) <GET https://www.biblegateway.com/passage/?search=Romains%2012&version=LSG> (referer: https://www.biblegateway.com/passage/?search=Romains%2011&version=LSG)\n"
     ]
    },
    {
     "name": "stdout",
     "output_type": "stream",
     "text": [
      "--------------- ['/passage/?search=Romains%2013&version=LSG'] -----------------\n"
     ]
    },
    {
     "name": "stderr",
     "output_type": "stream",
     "text": [
      "2025-05-04 14:23:58 [scrapy.core.engine] DEBUG: Crawled (200) <GET https://www.biblegateway.com/passage/?search=Romains%2013&version=LSG> (referer: https://www.biblegateway.com/passage/?search=Romains%2012&version=LSG)\n"
     ]
    },
    {
     "name": "stdout",
     "output_type": "stream",
     "text": [
      "--------------- ['/passage/?search=Romains%2014&version=LSG'] -----------------\n"
     ]
    },
    {
     "name": "stderr",
     "output_type": "stream",
     "text": [
      "2025-05-04 14:23:58 [scrapy.core.engine] DEBUG: Crawled (200) <GET https://www.biblegateway.com/passage/?search=Romains%2014&version=LSG> (referer: https://www.biblegateway.com/passage/?search=Romains%2013&version=LSG)\n"
     ]
    },
    {
     "name": "stdout",
     "output_type": "stream",
     "text": [
      "--------------- ['/passage/?search=Romains%2015&version=LSG'] -----------------\n"
     ]
    },
    {
     "name": "stderr",
     "output_type": "stream",
     "text": [
      "2025-05-04 14:23:59 [scrapy.core.engine] DEBUG: Crawled (200) <GET https://www.biblegateway.com/passage/?search=Romains%2015&version=LSG> (referer: https://www.biblegateway.com/passage/?search=Romains%2014&version=LSG)\n"
     ]
    },
    {
     "name": "stdout",
     "output_type": "stream",
     "text": [
      "--------------- ['/passage/?search=Romains%2016&version=LSG'] -----------------\n"
     ]
    },
    {
     "name": "stderr",
     "output_type": "stream",
     "text": [
      "2025-05-04 14:24:00 [scrapy.core.engine] DEBUG: Crawled (200) <GET https://www.biblegateway.com/passage/?search=Romains%2016&version=LSG> (referer: https://www.biblegateway.com/passage/?search=Romains%2015&version=LSG)\n"
     ]
    },
    {
     "name": "stdout",
     "output_type": "stream",
     "text": [
      "--------------- ['/passage/?search=1%20Corinthiens%201&version=LSG'] -----------------\n"
     ]
    },
    {
     "name": "stderr",
     "output_type": "stream",
     "text": [
      "2025-05-04 14:24:01 [scrapy.core.engine] DEBUG: Crawled (200) <GET https://www.biblegateway.com/passage/?search=1%20Corinthiens%201&version=LSG> (referer: https://www.biblegateway.com/passage/?search=Romains%2016&version=LSG)\n"
     ]
    },
    {
     "name": "stdout",
     "output_type": "stream",
     "text": [
      "--------------- ['/passage/?search=1%20Corinthiens%202&version=LSG'] -----------------\n"
     ]
    },
    {
     "name": "stderr",
     "output_type": "stream",
     "text": [
      "2025-05-04 14:24:02 [scrapy.core.engine] DEBUG: Crawled (200) <GET https://www.biblegateway.com/passage/?search=1%20Corinthiens%202&version=LSG> (referer: https://www.biblegateway.com/passage/?search=1%20Corinthiens%201&version=LSG)\n"
     ]
    },
    {
     "name": "stdout",
     "output_type": "stream",
     "text": [
      "--------------- ['/passage/?search=1%20Corinthiens%203&version=LSG'] -----------------\n"
     ]
    },
    {
     "name": "stderr",
     "output_type": "stream",
     "text": [
      "2025-05-04 14:24:02 [scrapy.core.engine] DEBUG: Crawled (200) <GET https://www.biblegateway.com/passage/?search=1%20Corinthiens%203&version=LSG> (referer: https://www.biblegateway.com/passage/?search=1%20Corinthiens%202&version=LSG)\n"
     ]
    },
    {
     "name": "stdout",
     "output_type": "stream",
     "text": [
      "--------------- ['/passage/?search=1%20Corinthiens%204&version=LSG'] -----------------\n"
     ]
    },
    {
     "name": "stderr",
     "output_type": "stream",
     "text": [
      "2025-05-04 14:24:04 [scrapy.core.engine] DEBUG: Crawled (200) <GET https://www.biblegateway.com/passage/?search=1%20Corinthiens%204&version=LSG> (referer: https://www.biblegateway.com/passage/?search=1%20Corinthiens%203&version=LSG)\n"
     ]
    },
    {
     "name": "stdout",
     "output_type": "stream",
     "text": [
      "--------------- ['/passage/?search=1%20Corinthiens%205&version=LSG'] -----------------\n"
     ]
    },
    {
     "name": "stderr",
     "output_type": "stream",
     "text": [
      "2025-05-04 14:24:06 [scrapy.core.engine] DEBUG: Crawled (200) <GET https://www.biblegateway.com/passage/?search=1%20Corinthiens%205&version=LSG> (referer: https://www.biblegateway.com/passage/?search=1%20Corinthiens%204&version=LSG)\n"
     ]
    },
    {
     "name": "stdout",
     "output_type": "stream",
     "text": [
      "--------------- ['/passage/?search=1%20Corinthiens%206&version=LSG'] -----------------\n"
     ]
    },
    {
     "name": "stderr",
     "output_type": "stream",
     "text": [
      "2025-05-04 14:24:07 [scrapy.core.engine] DEBUG: Crawled (200) <GET https://www.biblegateway.com/passage/?search=1%20Corinthiens%206&version=LSG> (referer: https://www.biblegateway.com/passage/?search=1%20Corinthiens%205&version=LSG)\n"
     ]
    },
    {
     "name": "stdout",
     "output_type": "stream",
     "text": [
      "--------------- ['/passage/?search=1%20Corinthiens%207&version=LSG'] -----------------\n"
     ]
    },
    {
     "name": "stderr",
     "output_type": "stream",
     "text": [
      "2025-05-04 14:24:07 [scrapy.core.engine] DEBUG: Crawled (200) <GET https://www.biblegateway.com/passage/?search=1%20Corinthiens%207&version=LSG> (referer: https://www.biblegateway.com/passage/?search=1%20Corinthiens%206&version=LSG)\n"
     ]
    },
    {
     "name": "stdout",
     "output_type": "stream",
     "text": [
      "--------------- ['/passage/?search=1%20Corinthiens%208&version=LSG'] -----------------\n"
     ]
    },
    {
     "name": "stderr",
     "output_type": "stream",
     "text": [
      "2025-05-04 14:24:08 [scrapy.core.engine] DEBUG: Crawled (200) <GET https://www.biblegateway.com/passage/?search=1%20Corinthiens%208&version=LSG> (referer: https://www.biblegateway.com/passage/?search=1%20Corinthiens%207&version=LSG)\n"
     ]
    },
    {
     "name": "stdout",
     "output_type": "stream",
     "text": [
      "--------------- ['/passage/?search=1%20Corinthiens%209&version=LSG'] -----------------\n"
     ]
    },
    {
     "name": "stderr",
     "output_type": "stream",
     "text": [
      "2025-05-04 14:24:09 [scrapy.core.engine] DEBUG: Crawled (200) <GET https://www.biblegateway.com/passage/?search=1%20Corinthiens%209&version=LSG> (referer: https://www.biblegateway.com/passage/?search=1%20Corinthiens%208&version=LSG)\n"
     ]
    },
    {
     "name": "stdout",
     "output_type": "stream",
     "text": [
      "--------------- ['/passage/?search=1%20Corinthiens%2010&version=LSG'] -----------------\n"
     ]
    },
    {
     "name": "stderr",
     "output_type": "stream",
     "text": [
      "2025-05-04 14:24:10 [scrapy.core.engine] DEBUG: Crawled (200) <GET https://www.biblegateway.com/passage/?search=1%20Corinthiens%2010&version=LSG> (referer: https://www.biblegateway.com/passage/?search=1%20Corinthiens%209&version=LSG)\n"
     ]
    },
    {
     "name": "stdout",
     "output_type": "stream",
     "text": [
      "--------------- ['/passage/?search=1%20Corinthiens%2011&version=LSG'] -----------------\n"
     ]
    },
    {
     "name": "stderr",
     "output_type": "stream",
     "text": [
      "2025-05-04 14:24:11 [scrapy.core.engine] DEBUG: Crawled (200) <GET https://www.biblegateway.com/passage/?search=1%20Corinthiens%2011&version=LSG> (referer: https://www.biblegateway.com/passage/?search=1%20Corinthiens%2010&version=LSG)\n"
     ]
    },
    {
     "name": "stdout",
     "output_type": "stream",
     "text": [
      "--------------- ['/passage/?search=1%20Corinthiens%2012&version=LSG'] -----------------\n"
     ]
    },
    {
     "name": "stderr",
     "output_type": "stream",
     "text": [
      "2025-05-04 14:24:11 [scrapy.core.engine] DEBUG: Crawled (200) <GET https://www.biblegateway.com/passage/?search=1%20Corinthiens%2012&version=LSG> (referer: https://www.biblegateway.com/passage/?search=1%20Corinthiens%2011&version=LSG)\n"
     ]
    },
    {
     "name": "stdout",
     "output_type": "stream",
     "text": [
      "--------------- ['/passage/?search=1%20Corinthiens%2013&version=LSG'] -----------------\n"
     ]
    },
    {
     "name": "stderr",
     "output_type": "stream",
     "text": [
      "2025-05-04 14:24:12 [scrapy.core.engine] DEBUG: Crawled (200) <GET https://www.biblegateway.com/passage/?search=1%20Corinthiens%2013&version=LSG> (referer: https://www.biblegateway.com/passage/?search=1%20Corinthiens%2012&version=LSG)\n"
     ]
    },
    {
     "name": "stdout",
     "output_type": "stream",
     "text": [
      "--------------- ['/passage/?search=1%20Corinthiens%2014&version=LSG'] -----------------\n"
     ]
    },
    {
     "name": "stderr",
     "output_type": "stream",
     "text": [
      "2025-05-04 14:24:13 [scrapy.core.engine] DEBUG: Crawled (200) <GET https://www.biblegateway.com/passage/?search=1%20Corinthiens%2014&version=LSG> (referer: https://www.biblegateway.com/passage/?search=1%20Corinthiens%2013&version=LSG)\n"
     ]
    },
    {
     "name": "stdout",
     "output_type": "stream",
     "text": [
      "--------------- ['/passage/?search=1%20Corinthiens%2015&version=LSG'] -----------------\n"
     ]
    },
    {
     "name": "stderr",
     "output_type": "stream",
     "text": [
      "2025-05-04 14:24:13 [scrapy.core.engine] DEBUG: Crawled (200) <GET https://www.biblegateway.com/passage/?search=1%20Corinthiens%2015&version=LSG> (referer: https://www.biblegateway.com/passage/?search=1%20Corinthiens%2014&version=LSG)\n"
     ]
    },
    {
     "name": "stdout",
     "output_type": "stream",
     "text": [
      "--------------- ['/passage/?search=1%20Corinthiens%2016&version=LSG'] -----------------\n"
     ]
    },
    {
     "name": "stderr",
     "output_type": "stream",
     "text": [
      "2025-05-04 14:24:14 [scrapy.core.engine] DEBUG: Crawled (200) <GET https://www.biblegateway.com/passage/?search=1%20Corinthiens%2016&version=LSG> (referer: https://www.biblegateway.com/passage/?search=1%20Corinthiens%2015&version=LSG)\n"
     ]
    },
    {
     "name": "stdout",
     "output_type": "stream",
     "text": [
      "--------------- ['/passage/?search=2%20Corinthiens%201&version=LSG'] -----------------\n"
     ]
    },
    {
     "name": "stderr",
     "output_type": "stream",
     "text": [
      "2025-05-04 14:24:15 [scrapy.core.engine] DEBUG: Crawled (200) <GET https://www.biblegateway.com/passage/?search=2%20Corinthiens%201&version=LSG> (referer: https://www.biblegateway.com/passage/?search=1%20Corinthiens%2016&version=LSG)\n"
     ]
    },
    {
     "name": "stdout",
     "output_type": "stream",
     "text": [
      "--------------- ['/passage/?search=2%20Corinthiens%202&version=LSG'] -----------------\n"
     ]
    },
    {
     "name": "stderr",
     "output_type": "stream",
     "text": [
      "2025-05-04 14:24:16 [scrapy.core.engine] DEBUG: Crawled (200) <GET https://www.biblegateway.com/passage/?search=2%20Corinthiens%202&version=LSG> (referer: https://www.biblegateway.com/passage/?search=2%20Corinthiens%201&version=LSG)\n"
     ]
    },
    {
     "name": "stdout",
     "output_type": "stream",
     "text": [
      "--------------- ['/passage/?search=2%20Corinthiens%203&version=LSG'] -----------------\n"
     ]
    },
    {
     "name": "stderr",
     "output_type": "stream",
     "text": [
      "2025-05-04 14:24:17 [scrapy.core.engine] DEBUG: Crawled (200) <GET https://www.biblegateway.com/passage/?search=2%20Corinthiens%203&version=LSG> (referer: https://www.biblegateway.com/passage/?search=2%20Corinthiens%202&version=LSG)\n"
     ]
    },
    {
     "name": "stdout",
     "output_type": "stream",
     "text": [
      "--------------- ['/passage/?search=2%20Corinthiens%204&version=LSG'] -----------------\n"
     ]
    },
    {
     "name": "stderr",
     "output_type": "stream",
     "text": [
      "2025-05-04 14:24:17 [scrapy.core.engine] DEBUG: Crawled (200) <GET https://www.biblegateway.com/passage/?search=2%20Corinthiens%204&version=LSG> (referer: https://www.biblegateway.com/passage/?search=2%20Corinthiens%203&version=LSG)\n"
     ]
    },
    {
     "name": "stdout",
     "output_type": "stream",
     "text": [
      "--------------- ['/passage/?search=2%20Corinthiens%205&version=LSG'] -----------------\n"
     ]
    },
    {
     "name": "stderr",
     "output_type": "stream",
     "text": [
      "2025-05-04 14:24:18 [scrapy.core.engine] DEBUG: Crawled (200) <GET https://www.biblegateway.com/passage/?search=2%20Corinthiens%205&version=LSG> (referer: https://www.biblegateway.com/passage/?search=2%20Corinthiens%204&version=LSG)\n"
     ]
    },
    {
     "name": "stdout",
     "output_type": "stream",
     "text": [
      "--------------- ['/passage/?search=2%20Corinthiens%206&version=LSG'] -----------------\n"
     ]
    },
    {
     "name": "stderr",
     "output_type": "stream",
     "text": [
      "2025-05-04 14:24:19 [scrapy.core.engine] DEBUG: Crawled (200) <GET https://www.biblegateway.com/passage/?search=2%20Corinthiens%206&version=LSG> (referer: https://www.biblegateway.com/passage/?search=2%20Corinthiens%205&version=LSG)\n"
     ]
    },
    {
     "name": "stdout",
     "output_type": "stream",
     "text": [
      "--------------- ['/passage/?search=2%20Corinthiens%207&version=LSG'] -----------------\n"
     ]
    },
    {
     "name": "stderr",
     "output_type": "stream",
     "text": [
      "2025-05-04 14:24:19 [scrapy.core.engine] DEBUG: Crawled (200) <GET https://www.biblegateway.com/passage/?search=2%20Corinthiens%207&version=LSG> (referer: https://www.biblegateway.com/passage/?search=2%20Corinthiens%206&version=LSG)\n"
     ]
    },
    {
     "name": "stdout",
     "output_type": "stream",
     "text": [
      "--------------- ['/passage/?search=2%20Corinthiens%208&version=LSG'] -----------------\n"
     ]
    },
    {
     "name": "stderr",
     "output_type": "stream",
     "text": [
      "2025-05-04 14:24:20 [scrapy.core.engine] DEBUG: Crawled (200) <GET https://www.biblegateway.com/passage/?search=2%20Corinthiens%208&version=LSG> (referer: https://www.biblegateway.com/passage/?search=2%20Corinthiens%207&version=LSG)\n"
     ]
    },
    {
     "name": "stdout",
     "output_type": "stream",
     "text": [
      "--------------- ['/passage/?search=2%20Corinthiens%209&version=LSG'] -----------------\n"
     ]
    },
    {
     "name": "stderr",
     "output_type": "stream",
     "text": [
      "2025-05-04 14:24:21 [scrapy.core.engine] DEBUG: Crawled (200) <GET https://www.biblegateway.com/passage/?search=2%20Corinthiens%209&version=LSG> (referer: https://www.biblegateway.com/passage/?search=2%20Corinthiens%208&version=LSG)\n"
     ]
    },
    {
     "name": "stdout",
     "output_type": "stream",
     "text": [
      "--------------- ['/passage/?search=2%20Corinthiens%2010&version=LSG'] -----------------\n"
     ]
    },
    {
     "name": "stderr",
     "output_type": "stream",
     "text": [
      "2025-05-04 14:24:21 [scrapy.core.engine] DEBUG: Crawled (200) <GET https://www.biblegateway.com/passage/?search=2%20Corinthiens%2010&version=LSG> (referer: https://www.biblegateway.com/passage/?search=2%20Corinthiens%209&version=LSG)\n"
     ]
    },
    {
     "name": "stdout",
     "output_type": "stream",
     "text": [
      "--------------- ['/passage/?search=2%20Corinthiens%2011&version=LSG'] -----------------\n"
     ]
    },
    {
     "name": "stderr",
     "output_type": "stream",
     "text": [
      "2025-05-04 14:24:22 [scrapy.core.engine] DEBUG: Crawled (200) <GET https://www.biblegateway.com/passage/?search=2%20Corinthiens%2011&version=LSG> (referer: https://www.biblegateway.com/passage/?search=2%20Corinthiens%2010&version=LSG)\n"
     ]
    },
    {
     "name": "stdout",
     "output_type": "stream",
     "text": [
      "--------------- ['/passage/?search=2%20Corinthiens%2012&version=LSG'] -----------------\n"
     ]
    },
    {
     "name": "stderr",
     "output_type": "stream",
     "text": [
      "2025-05-04 14:24:22 [scrapy.core.engine] DEBUG: Crawled (200) <GET https://www.biblegateway.com/passage/?search=2%20Corinthiens%2012&version=LSG> (referer: https://www.biblegateway.com/passage/?search=2%20Corinthiens%2011&version=LSG)\n"
     ]
    },
    {
     "name": "stdout",
     "output_type": "stream",
     "text": [
      "--------------- ['/passage/?search=2%20Corinthiens%2013&version=LSG'] -----------------\n"
     ]
    },
    {
     "name": "stderr",
     "output_type": "stream",
     "text": [
      "2025-05-04 14:24:23 [scrapy.core.engine] DEBUG: Crawled (200) <GET https://www.biblegateway.com/passage/?search=2%20Corinthiens%2013&version=LSG> (referer: https://www.biblegateway.com/passage/?search=2%20Corinthiens%2012&version=LSG)\n"
     ]
    },
    {
     "name": "stdout",
     "output_type": "stream",
     "text": [
      "--------------- ['/passage/?search=Galates%201&version=LSG'] -----------------\n"
     ]
    },
    {
     "name": "stderr",
     "output_type": "stream",
     "text": [
      "2025-05-04 14:24:24 [scrapy.core.engine] DEBUG: Crawled (200) <GET https://www.biblegateway.com/passage/?search=Galates%201&version=LSG> (referer: https://www.biblegateway.com/passage/?search=2%20Corinthiens%2013&version=LSG)\n"
     ]
    },
    {
     "name": "stdout",
     "output_type": "stream",
     "text": [
      "--------------- ['/passage/?search=Galates%202&version=LSG'] -----------------\n"
     ]
    },
    {
     "name": "stderr",
     "output_type": "stream",
     "text": [
      "2025-05-04 14:24:25 [scrapy.core.engine] DEBUG: Crawled (200) <GET https://www.biblegateway.com/passage/?search=Galates%202&version=LSG> (referer: https://www.biblegateway.com/passage/?search=Galates%201&version=LSG)\n"
     ]
    },
    {
     "name": "stdout",
     "output_type": "stream",
     "text": [
      "--------------- ['/passage/?search=Galates%203&version=LSG'] -----------------\n"
     ]
    },
    {
     "name": "stderr",
     "output_type": "stream",
     "text": [
      "2025-05-04 14:24:26 [scrapy.core.engine] DEBUG: Crawled (200) <GET https://www.biblegateway.com/passage/?search=Galates%203&version=LSG> (referer: https://www.biblegateway.com/passage/?search=Galates%202&version=LSG)\n"
     ]
    },
    {
     "name": "stdout",
     "output_type": "stream",
     "text": [
      "--------------- ['/passage/?search=Galates%204&version=LSG'] -----------------\n"
     ]
    },
    {
     "name": "stderr",
     "output_type": "stream",
     "text": [
      "2025-05-04 14:24:26 [scrapy.core.engine] DEBUG: Crawled (200) <GET https://www.biblegateway.com/passage/?search=Galates%204&version=LSG> (referer: https://www.biblegateway.com/passage/?search=Galates%203&version=LSG)\n"
     ]
    },
    {
     "name": "stdout",
     "output_type": "stream",
     "text": [
      "--------------- ['/passage/?search=Galates%205&version=LSG'] -----------------\n"
     ]
    },
    {
     "name": "stderr",
     "output_type": "stream",
     "text": [
      "2025-05-04 14:24:27 [scrapy.core.engine] DEBUG: Crawled (200) <GET https://www.biblegateway.com/passage/?search=Galates%205&version=LSG> (referer: https://www.biblegateway.com/passage/?search=Galates%204&version=LSG)\n"
     ]
    },
    {
     "name": "stdout",
     "output_type": "stream",
     "text": [
      "--------------- ['/passage/?search=Galates%206&version=LSG'] -----------------\n"
     ]
    },
    {
     "name": "stderr",
     "output_type": "stream",
     "text": [
      "2025-05-04 14:24:28 [scrapy.core.engine] DEBUG: Crawled (200) <GET https://www.biblegateway.com/passage/?search=Galates%206&version=LSG> (referer: https://www.biblegateway.com/passage/?search=Galates%205&version=LSG)\n"
     ]
    },
    {
     "name": "stdout",
     "output_type": "stream",
     "text": [
      "--------------- ['/passage/?search=%C3%89ph%C3%A9siens%201&version=LSG'] -----------------\n"
     ]
    },
    {
     "name": "stderr",
     "output_type": "stream",
     "text": [
      "2025-05-04 14:24:28 [scrapy.core.engine] DEBUG: Crawled (200) <GET https://www.biblegateway.com/passage/?search=%C3%89ph%C3%A9siens%201&version=LSG> (referer: https://www.biblegateway.com/passage/?search=Galates%206&version=LSG)\n"
     ]
    },
    {
     "name": "stdout",
     "output_type": "stream",
     "text": [
      "--------------- ['/passage/?search=%C3%89ph%C3%A9siens%202&version=LSG'] -----------------\n"
     ]
    },
    {
     "name": "stderr",
     "output_type": "stream",
     "text": [
      "2025-05-04 14:24:29 [scrapy.core.engine] DEBUG: Crawled (200) <GET https://www.biblegateway.com/passage/?search=%C3%89ph%C3%A9siens%202&version=LSG> (referer: https://www.biblegateway.com/passage/?search=%C3%89ph%C3%A9siens%201&version=LSG)\n"
     ]
    },
    {
     "name": "stdout",
     "output_type": "stream",
     "text": [
      "--------------- ['/passage/?search=%C3%89ph%C3%A9siens%203&version=LSG'] -----------------\n"
     ]
    },
    {
     "name": "stderr",
     "output_type": "stream",
     "text": [
      "2025-05-04 14:24:30 [scrapy.core.engine] DEBUG: Crawled (200) <GET https://www.biblegateway.com/passage/?search=%C3%89ph%C3%A9siens%203&version=LSG> (referer: https://www.biblegateway.com/passage/?search=%C3%89ph%C3%A9siens%202&version=LSG)\n"
     ]
    },
    {
     "name": "stdout",
     "output_type": "stream",
     "text": [
      "--------------- ['/passage/?search=%C3%89ph%C3%A9siens%204&version=LSG'] -----------------\n"
     ]
    },
    {
     "name": "stderr",
     "output_type": "stream",
     "text": [
      "2025-05-04 14:24:30 [scrapy.core.engine] DEBUG: Crawled (200) <GET https://www.biblegateway.com/passage/?search=%C3%89ph%C3%A9siens%204&version=LSG> (referer: https://www.biblegateway.com/passage/?search=%C3%89ph%C3%A9siens%203&version=LSG)\n"
     ]
    },
    {
     "name": "stdout",
     "output_type": "stream",
     "text": [
      "--------------- ['/passage/?search=%C3%89ph%C3%A9siens%205&version=LSG'] -----------------\n"
     ]
    },
    {
     "name": "stderr",
     "output_type": "stream",
     "text": [
      "2025-05-04 14:24:31 [scrapy.core.engine] DEBUG: Crawled (200) <GET https://www.biblegateway.com/passage/?search=%C3%89ph%C3%A9siens%205&version=LSG> (referer: https://www.biblegateway.com/passage/?search=%C3%89ph%C3%A9siens%204&version=LSG)\n"
     ]
    },
    {
     "name": "stdout",
     "output_type": "stream",
     "text": [
      "--------------- ['/passage/?search=%C3%89ph%C3%A9siens%206&version=LSG'] -----------------\n"
     ]
    },
    {
     "name": "stderr",
     "output_type": "stream",
     "text": [
      "2025-05-04 14:24:32 [scrapy.core.engine] DEBUG: Crawled (200) <GET https://www.biblegateway.com/passage/?search=%C3%89ph%C3%A9siens%206&version=LSG> (referer: https://www.biblegateway.com/passage/?search=%C3%89ph%C3%A9siens%205&version=LSG)\n"
     ]
    },
    {
     "name": "stdout",
     "output_type": "stream",
     "text": [
      "--------------- ['/passage/?search=Philippiens%201&version=LSG'] -----------------\n"
     ]
    },
    {
     "name": "stderr",
     "output_type": "stream",
     "text": [
      "2025-05-04 14:24:33 [scrapy.core.engine] DEBUG: Crawled (200) <GET https://www.biblegateway.com/passage/?search=Philippiens%201&version=LSG> (referer: https://www.biblegateway.com/passage/?search=%C3%89ph%C3%A9siens%206&version=LSG)\n"
     ]
    },
    {
     "name": "stdout",
     "output_type": "stream",
     "text": [
      "--------------- ['/passage/?search=Philippiens%202&version=LSG'] -----------------\n"
     ]
    },
    {
     "name": "stderr",
     "output_type": "stream",
     "text": [
      "2025-05-04 14:24:33 [scrapy.core.engine] DEBUG: Crawled (200) <GET https://www.biblegateway.com/passage/?search=Philippiens%202&version=LSG> (referer: https://www.biblegateway.com/passage/?search=Philippiens%201&version=LSG)\n"
     ]
    },
    {
     "name": "stdout",
     "output_type": "stream",
     "text": [
      "--------------- ['/passage/?search=Philippiens%203&version=LSG'] -----------------\n"
     ]
    },
    {
     "name": "stderr",
     "output_type": "stream",
     "text": [
      "2025-05-04 14:24:34 [scrapy.core.engine] DEBUG: Crawled (200) <GET https://www.biblegateway.com/passage/?search=Philippiens%203&version=LSG> (referer: https://www.biblegateway.com/passage/?search=Philippiens%202&version=LSG)\n"
     ]
    },
    {
     "name": "stdout",
     "output_type": "stream",
     "text": [
      "--------------- ['/passage/?search=Philippiens%204&version=LSG'] -----------------\n"
     ]
    },
    {
     "name": "stderr",
     "output_type": "stream",
     "text": [
      "2025-05-04 14:24:34 [scrapy.core.engine] DEBUG: Crawled (200) <GET https://www.biblegateway.com/passage/?search=Philippiens%204&version=LSG> (referer: https://www.biblegateway.com/passage/?search=Philippiens%203&version=LSG)\n"
     ]
    },
    {
     "name": "stdout",
     "output_type": "stream",
     "text": [
      "--------------- ['/passage/?search=Colossiens%201&version=LSG'] -----------------\n"
     ]
    },
    {
     "name": "stderr",
     "output_type": "stream",
     "text": [
      "2025-05-04 14:24:35 [scrapy.core.engine] DEBUG: Crawled (200) <GET https://www.biblegateway.com/passage/?search=Colossiens%201&version=LSG> (referer: https://www.biblegateway.com/passage/?search=Philippiens%204&version=LSG)\n"
     ]
    },
    {
     "name": "stdout",
     "output_type": "stream",
     "text": [
      "--------------- ['/passage/?search=Colossiens%202&version=LSG'] -----------------\n"
     ]
    },
    {
     "name": "stderr",
     "output_type": "stream",
     "text": [
      "2025-05-04 14:24:36 [scrapy.core.engine] DEBUG: Crawled (200) <GET https://www.biblegateway.com/passage/?search=Colossiens%202&version=LSG> (referer: https://www.biblegateway.com/passage/?search=Colossiens%201&version=LSG)\n"
     ]
    },
    {
     "name": "stdout",
     "output_type": "stream",
     "text": [
      "--------------- ['/passage/?search=Colossiens%203&version=LSG'] -----------------\n"
     ]
    },
    {
     "name": "stderr",
     "output_type": "stream",
     "text": [
      "2025-05-04 14:24:36 [scrapy.core.engine] DEBUG: Crawled (200) <GET https://www.biblegateway.com/passage/?search=Colossiens%203&version=LSG> (referer: https://www.biblegateway.com/passage/?search=Colossiens%202&version=LSG)\n"
     ]
    },
    {
     "name": "stdout",
     "output_type": "stream",
     "text": [
      "--------------- ['/passage/?search=Colossiens%204&version=LSG'] -----------------\n"
     ]
    },
    {
     "name": "stderr",
     "output_type": "stream",
     "text": [
      "2025-05-04 14:24:37 [scrapy.core.engine] DEBUG: Crawled (200) <GET https://www.biblegateway.com/passage/?search=Colossiens%204&version=LSG> (referer: https://www.biblegateway.com/passage/?search=Colossiens%203&version=LSG)\n"
     ]
    },
    {
     "name": "stdout",
     "output_type": "stream",
     "text": [
      "--------------- ['/passage/?search=1%20Thessaloniciens%201&version=LSG'] -----------------\n"
     ]
    },
    {
     "name": "stderr",
     "output_type": "stream",
     "text": [
      "2025-05-04 14:24:37 [scrapy.core.engine] DEBUG: Crawled (200) <GET https://www.biblegateway.com/passage/?search=1%20Thessaloniciens%201&version=LSG> (referer: https://www.biblegateway.com/passage/?search=Colossiens%204&version=LSG)\n"
     ]
    },
    {
     "name": "stdout",
     "output_type": "stream",
     "text": [
      "--------------- ['/passage/?search=1%20Thessaloniciens%202&version=LSG'] -----------------\n"
     ]
    },
    {
     "name": "stderr",
     "output_type": "stream",
     "text": [
      "2025-05-04 14:24:38 [scrapy.core.engine] DEBUG: Crawled (200) <GET https://www.biblegateway.com/passage/?search=1%20Thessaloniciens%202&version=LSG> (referer: https://www.biblegateway.com/passage/?search=1%20Thessaloniciens%201&version=LSG)\n"
     ]
    },
    {
     "name": "stdout",
     "output_type": "stream",
     "text": [
      "--------------- ['/passage/?search=1%20Thessaloniciens%203&version=LSG'] -----------------\n"
     ]
    },
    {
     "name": "stderr",
     "output_type": "stream",
     "text": [
      "2025-05-04 14:24:39 [scrapy.core.engine] DEBUG: Crawled (200) <GET https://www.biblegateway.com/passage/?search=1%20Thessaloniciens%203&version=LSG> (referer: https://www.biblegateway.com/passage/?search=1%20Thessaloniciens%202&version=LSG)\n"
     ]
    },
    {
     "name": "stdout",
     "output_type": "stream",
     "text": [
      "--------------- ['/passage/?search=1%20Thessaloniciens%204&version=LSG'] -----------------\n"
     ]
    },
    {
     "name": "stderr",
     "output_type": "stream",
     "text": [
      "2025-05-04 14:24:39 [scrapy.core.engine] DEBUG: Crawled (200) <GET https://www.biblegateway.com/passage/?search=1%20Thessaloniciens%204&version=LSG> (referer: https://www.biblegateway.com/passage/?search=1%20Thessaloniciens%203&version=LSG)\n"
     ]
    },
    {
     "name": "stdout",
     "output_type": "stream",
     "text": [
      "--------------- ['/passage/?search=1%20Thessaloniciens%205&version=LSG'] -----------------\n"
     ]
    },
    {
     "name": "stderr",
     "output_type": "stream",
     "text": [
      "2025-05-04 14:24:40 [scrapy.core.engine] DEBUG: Crawled (200) <GET https://www.biblegateway.com/passage/?search=1%20Thessaloniciens%205&version=LSG> (referer: https://www.biblegateway.com/passage/?search=1%20Thessaloniciens%204&version=LSG)\n"
     ]
    },
    {
     "name": "stdout",
     "output_type": "stream",
     "text": [
      "--------------- ['/passage/?search=2%20Thessaloniciens%201&version=LSG'] -----------------\n"
     ]
    },
    {
     "name": "stderr",
     "output_type": "stream",
     "text": [
      "2025-05-04 14:24:41 [scrapy.core.engine] DEBUG: Crawled (200) <GET https://www.biblegateway.com/passage/?search=2%20Thessaloniciens%201&version=LSG> (referer: https://www.biblegateway.com/passage/?search=1%20Thessaloniciens%205&version=LSG)\n"
     ]
    },
    {
     "name": "stdout",
     "output_type": "stream",
     "text": [
      "--------------- ['/passage/?search=2%20Thessaloniciens%202&version=LSG'] -----------------\n"
     ]
    },
    {
     "name": "stderr",
     "output_type": "stream",
     "text": [
      "2025-05-04 14:24:41 [scrapy.core.engine] DEBUG: Crawled (200) <GET https://www.biblegateway.com/passage/?search=2%20Thessaloniciens%202&version=LSG> (referer: https://www.biblegateway.com/passage/?search=2%20Thessaloniciens%201&version=LSG)\n"
     ]
    },
    {
     "name": "stdout",
     "output_type": "stream",
     "text": [
      "--------------- ['/passage/?search=2%20Thessaloniciens%203&version=LSG'] -----------------\n"
     ]
    },
    {
     "name": "stderr",
     "output_type": "stream",
     "text": [
      "2025-05-04 14:24:42 [scrapy.core.engine] DEBUG: Crawled (200) <GET https://www.biblegateway.com/passage/?search=2%20Thessaloniciens%203&version=LSG> (referer: https://www.biblegateway.com/passage/?search=2%20Thessaloniciens%202&version=LSG)\n"
     ]
    },
    {
     "name": "stdout",
     "output_type": "stream",
     "text": [
      "--------------- ['/passage/?search=1%20Timoth%C3%A9e%201&version=LSG'] -----------------\n"
     ]
    },
    {
     "name": "stderr",
     "output_type": "stream",
     "text": [
      "2025-05-04 14:24:43 [scrapy.core.engine] DEBUG: Crawled (200) <GET https://www.biblegateway.com/passage/?search=1%20Timoth%C3%A9e%201&version=LSG> (referer: https://www.biblegateway.com/passage/?search=2%20Thessaloniciens%203&version=LSG)\n"
     ]
    },
    {
     "name": "stdout",
     "output_type": "stream",
     "text": [
      "--------------- ['/passage/?search=1%20Timoth%C3%A9e%202&version=LSG'] -----------------\n"
     ]
    },
    {
     "name": "stderr",
     "output_type": "stream",
     "text": [
      "2025-05-04 14:24:43 [scrapy.core.engine] DEBUG: Crawled (200) <GET https://www.biblegateway.com/passage/?search=1%20Timoth%C3%A9e%202&version=LSG> (referer: https://www.biblegateway.com/passage/?search=1%20Timoth%C3%A9e%201&version=LSG)\n"
     ]
    },
    {
     "name": "stdout",
     "output_type": "stream",
     "text": [
      "--------------- ['/passage/?search=1%20Timoth%C3%A9e%203&version=LSG'] -----------------\n"
     ]
    },
    {
     "name": "stderr",
     "output_type": "stream",
     "text": [
      "2025-05-04 14:24:44 [scrapy.core.engine] DEBUG: Crawled (200) <GET https://www.biblegateway.com/passage/?search=1%20Timoth%C3%A9e%203&version=LSG> (referer: https://www.biblegateway.com/passage/?search=1%20Timoth%C3%A9e%202&version=LSG)\n"
     ]
    },
    {
     "name": "stdout",
     "output_type": "stream",
     "text": [
      "--------------- ['/passage/?search=1%20Timoth%C3%A9e%204&version=LSG'] -----------------\n"
     ]
    },
    {
     "name": "stderr",
     "output_type": "stream",
     "text": [
      "2025-05-04 14:24:45 [scrapy.core.engine] DEBUG: Crawled (200) <GET https://www.biblegateway.com/passage/?search=1%20Timoth%C3%A9e%204&version=LSG> (referer: https://www.biblegateway.com/passage/?search=1%20Timoth%C3%A9e%203&version=LSG)\n"
     ]
    },
    {
     "name": "stdout",
     "output_type": "stream",
     "text": [
      "--------------- ['/passage/?search=1%20Timoth%C3%A9e%205&version=LSG'] -----------------\n"
     ]
    },
    {
     "name": "stderr",
     "output_type": "stream",
     "text": [
      "2025-05-04 14:24:45 [scrapy.core.engine] DEBUG: Crawled (200) <GET https://www.biblegateway.com/passage/?search=1%20Timoth%C3%A9e%205&version=LSG> (referer: https://www.biblegateway.com/passage/?search=1%20Timoth%C3%A9e%204&version=LSG)\n"
     ]
    },
    {
     "name": "stdout",
     "output_type": "stream",
     "text": [
      "--------------- ['/passage/?search=1%20Timoth%C3%A9e%206&version=LSG'] -----------------\n"
     ]
    },
    {
     "name": "stderr",
     "output_type": "stream",
     "text": [
      "2025-05-04 14:24:46 [scrapy.core.engine] DEBUG: Crawled (200) <GET https://www.biblegateway.com/passage/?search=1%20Timoth%C3%A9e%206&version=LSG> (referer: https://www.biblegateway.com/passage/?search=1%20Timoth%C3%A9e%205&version=LSG)\n"
     ]
    },
    {
     "name": "stdout",
     "output_type": "stream",
     "text": [
      "--------------- ['/passage/?search=2%20Timoth%C3%A9e%201&version=LSG'] -----------------\n"
     ]
    },
    {
     "name": "stderr",
     "output_type": "stream",
     "text": [
      "2025-05-04 14:24:47 [scrapy.core.engine] DEBUG: Crawled (200) <GET https://www.biblegateway.com/passage/?search=2%20Timoth%C3%A9e%201&version=LSG> (referer: https://www.biblegateway.com/passage/?search=1%20Timoth%C3%A9e%206&version=LSG)\n"
     ]
    },
    {
     "name": "stdout",
     "output_type": "stream",
     "text": [
      "--------------- ['/passage/?search=2%20Timoth%C3%A9e%202&version=LSG'] -----------------\n"
     ]
    },
    {
     "name": "stderr",
     "output_type": "stream",
     "text": [
      "2025-05-04 14:24:47 [scrapy.core.engine] DEBUG: Crawled (200) <GET https://www.biblegateway.com/passage/?search=2%20Timoth%C3%A9e%202&version=LSG> (referer: https://www.biblegateway.com/passage/?search=2%20Timoth%C3%A9e%201&version=LSG)\n"
     ]
    },
    {
     "name": "stdout",
     "output_type": "stream",
     "text": [
      "--------------- ['/passage/?search=2%20Timoth%C3%A9e%203&version=LSG'] -----------------\n"
     ]
    },
    {
     "name": "stderr",
     "output_type": "stream",
     "text": [
      "2025-05-04 14:24:48 [scrapy.core.engine] DEBUG: Crawled (200) <GET https://www.biblegateway.com/passage/?search=2%20Timoth%C3%A9e%203&version=LSG> (referer: https://www.biblegateway.com/passage/?search=2%20Timoth%C3%A9e%202&version=LSG)\n"
     ]
    },
    {
     "name": "stdout",
     "output_type": "stream",
     "text": [
      "--------------- ['/passage/?search=2%20Timoth%C3%A9e%204&version=LSG'] -----------------\n"
     ]
    },
    {
     "name": "stderr",
     "output_type": "stream",
     "text": [
      "2025-05-04 14:24:49 [scrapy.core.engine] DEBUG: Crawled (200) <GET https://www.biblegateway.com/passage/?search=2%20Timoth%C3%A9e%204&version=LSG> (referer: https://www.biblegateway.com/passage/?search=2%20Timoth%C3%A9e%203&version=LSG)\n"
     ]
    },
    {
     "name": "stdout",
     "output_type": "stream",
     "text": [
      "--------------- ['/passage/?search=Tite%201&version=LSG'] -----------------\n"
     ]
    },
    {
     "name": "stderr",
     "output_type": "stream",
     "text": [
      "2025-05-04 14:24:49 [scrapy.core.engine] DEBUG: Crawled (200) <GET https://www.biblegateway.com/passage/?search=Tite%201&version=LSG> (referer: https://www.biblegateway.com/passage/?search=2%20Timoth%C3%A9e%204&version=LSG)\n"
     ]
    },
    {
     "name": "stdout",
     "output_type": "stream",
     "text": [
      "--------------- ['/passage/?search=Tite%202&version=LSG'] -----------------\n"
     ]
    },
    {
     "name": "stderr",
     "output_type": "stream",
     "text": [
      "2025-05-04 14:24:50 [scrapy.core.engine] DEBUG: Crawled (200) <GET https://www.biblegateway.com/passage/?search=Tite%202&version=LSG> (referer: https://www.biblegateway.com/passage/?search=Tite%201&version=LSG)\n"
     ]
    },
    {
     "name": "stdout",
     "output_type": "stream",
     "text": [
      "--------------- ['/passage/?search=Tite%203&version=LSG'] -----------------\n"
     ]
    },
    {
     "name": "stderr",
     "output_type": "stream",
     "text": [
      "2025-05-04 14:24:51 [scrapy.core.engine] DEBUG: Crawled (200) <GET https://www.biblegateway.com/passage/?search=Tite%203&version=LSG> (referer: https://www.biblegateway.com/passage/?search=Tite%202&version=LSG)\n"
     ]
    },
    {
     "name": "stdout",
     "output_type": "stream",
     "text": [
      "--------------- ['/passage/?search=Phil%C3%A9mon%201&version=LSG'] -----------------\n"
     ]
    },
    {
     "name": "stderr",
     "output_type": "stream",
     "text": [
      "2025-05-04 14:24:51 [scrapy.core.engine] DEBUG: Crawled (200) <GET https://www.biblegateway.com/passage/?search=Phil%C3%A9mon%201&version=LSG> (referer: https://www.biblegateway.com/passage/?search=Tite%203&version=LSG)\n"
     ]
    },
    {
     "name": "stdout",
     "output_type": "stream",
     "text": [
      "--------------- ['/passage/?search=H%C3%A9breux%201&version=LSG'] -----------------\n"
     ]
    },
    {
     "name": "stderr",
     "output_type": "stream",
     "text": [
      "2025-05-04 14:24:52 [scrapy.core.engine] DEBUG: Crawled (200) <GET https://www.biblegateway.com/passage/?search=H%C3%A9breux%201&version=LSG> (referer: https://www.biblegateway.com/passage/?search=Phil%C3%A9mon%201&version=LSG)\n"
     ]
    },
    {
     "name": "stdout",
     "output_type": "stream",
     "text": [
      "--------------- ['/passage/?search=H%C3%A9breux%202&version=LSG'] -----------------\n"
     ]
    },
    {
     "name": "stderr",
     "output_type": "stream",
     "text": [
      "2025-05-04 14:24:53 [scrapy.core.engine] DEBUG: Crawled (200) <GET https://www.biblegateway.com/passage/?search=H%C3%A9breux%202&version=LSG> (referer: https://www.biblegateway.com/passage/?search=H%C3%A9breux%201&version=LSG)\n"
     ]
    },
    {
     "name": "stdout",
     "output_type": "stream",
     "text": [
      "--------------- ['/passage/?search=H%C3%A9breux%203&version=LSG'] -----------------\n"
     ]
    },
    {
     "name": "stderr",
     "output_type": "stream",
     "text": [
      "2025-05-04 14:24:54 [scrapy.core.engine] DEBUG: Crawled (200) <GET https://www.biblegateway.com/passage/?search=H%C3%A9breux%203&version=LSG> (referer: https://www.biblegateway.com/passage/?search=H%C3%A9breux%202&version=LSG)\n"
     ]
    },
    {
     "name": "stdout",
     "output_type": "stream",
     "text": [
      "--------------- ['/passage/?search=H%C3%A9breux%204&version=LSG'] -----------------\n"
     ]
    },
    {
     "name": "stderr",
     "output_type": "stream",
     "text": [
      "2025-05-04 14:24:55 [scrapy.core.engine] DEBUG: Crawled (200) <GET https://www.biblegateway.com/passage/?search=H%C3%A9breux%204&version=LSG> (referer: https://www.biblegateway.com/passage/?search=H%C3%A9breux%203&version=LSG)\n"
     ]
    },
    {
     "name": "stdout",
     "output_type": "stream",
     "text": [
      "--------------- ['/passage/?search=H%C3%A9breux%205&version=LSG'] -----------------\n"
     ]
    },
    {
     "name": "stderr",
     "output_type": "stream",
     "text": [
      "2025-05-04 14:24:56 [scrapy.core.engine] DEBUG: Crawled (200) <GET https://www.biblegateway.com/passage/?search=H%C3%A9breux%205&version=LSG> (referer: https://www.biblegateway.com/passage/?search=H%C3%A9breux%204&version=LSG)\n"
     ]
    },
    {
     "name": "stdout",
     "output_type": "stream",
     "text": [
      "--------------- ['/passage/?search=H%C3%A9breux%206&version=LSG'] -----------------\n"
     ]
    },
    {
     "name": "stderr",
     "output_type": "stream",
     "text": [
      "2025-05-04 14:24:56 [scrapy.core.engine] DEBUG: Crawled (200) <GET https://www.biblegateway.com/passage/?search=H%C3%A9breux%206&version=LSG> (referer: https://www.biblegateway.com/passage/?search=H%C3%A9breux%205&version=LSG)\n"
     ]
    },
    {
     "name": "stdout",
     "output_type": "stream",
     "text": [
      "--------------- ['/passage/?search=H%C3%A9breux%207&version=LSG'] -----------------\n"
     ]
    },
    {
     "name": "stderr",
     "output_type": "stream",
     "text": [
      "2025-05-04 14:24:57 [scrapy.extensions.logstats] INFO: Crawled 1139 pages (at 82 pages/min), scraped 0 items (at 0 items/min)\n",
      "2025-05-04 14:24:57 [scrapy.core.engine] DEBUG: Crawled (200) <GET https://www.biblegateway.com/passage/?search=H%C3%A9breux%207&version=LSG> (referer: https://www.biblegateway.com/passage/?search=H%C3%A9breux%206&version=LSG)\n"
     ]
    },
    {
     "name": "stdout",
     "output_type": "stream",
     "text": [
      "--------------- ['/passage/?search=H%C3%A9breux%208&version=LSG'] -----------------\n"
     ]
    },
    {
     "name": "stderr",
     "output_type": "stream",
     "text": [
      "2025-05-04 14:24:58 [scrapy.core.engine] DEBUG: Crawled (200) <GET https://www.biblegateway.com/passage/?search=H%C3%A9breux%208&version=LSG> (referer: https://www.biblegateway.com/passage/?search=H%C3%A9breux%207&version=LSG)\n"
     ]
    },
    {
     "name": "stdout",
     "output_type": "stream",
     "text": [
      "--------------- ['/passage/?search=H%C3%A9breux%209&version=LSG'] -----------------\n"
     ]
    },
    {
     "name": "stderr",
     "output_type": "stream",
     "text": [
      "2025-05-04 14:24:58 [scrapy.core.engine] DEBUG: Crawled (200) <GET https://www.biblegateway.com/passage/?search=H%C3%A9breux%209&version=LSG> (referer: https://www.biblegateway.com/passage/?search=H%C3%A9breux%208&version=LSG)\n"
     ]
    },
    {
     "name": "stdout",
     "output_type": "stream",
     "text": [
      "--------------- ['/passage/?search=H%C3%A9breux%2010&version=LSG'] -----------------\n"
     ]
    },
    {
     "name": "stderr",
     "output_type": "stream",
     "text": [
      "2025-05-04 14:24:59 [scrapy.core.engine] DEBUG: Crawled (200) <GET https://www.biblegateway.com/passage/?search=H%C3%A9breux%2010&version=LSG> (referer: https://www.biblegateway.com/passage/?search=H%C3%A9breux%209&version=LSG)\n"
     ]
    },
    {
     "name": "stdout",
     "output_type": "stream",
     "text": [
      "--------------- ['/passage/?search=H%C3%A9breux%2011&version=LSG'] -----------------\n"
     ]
    },
    {
     "name": "stderr",
     "output_type": "stream",
     "text": [
      "2025-05-04 14:25:00 [scrapy.core.engine] DEBUG: Crawled (200) <GET https://www.biblegateway.com/passage/?search=H%C3%A9breux%2011&version=LSG> (referer: https://www.biblegateway.com/passage/?search=H%C3%A9breux%2010&version=LSG)\n"
     ]
    },
    {
     "name": "stdout",
     "output_type": "stream",
     "text": [
      "--------------- ['/passage/?search=H%C3%A9breux%2012&version=LSG'] -----------------\n"
     ]
    },
    {
     "name": "stderr",
     "output_type": "stream",
     "text": [
      "2025-05-04 14:25:01 [scrapy.core.engine] DEBUG: Crawled (200) <GET https://www.biblegateway.com/passage/?search=H%C3%A9breux%2012&version=LSG> (referer: https://www.biblegateway.com/passage/?search=H%C3%A9breux%2011&version=LSG)\n"
     ]
    },
    {
     "name": "stdout",
     "output_type": "stream",
     "text": [
      "--------------- ['/passage/?search=H%C3%A9breux%2013&version=LSG'] -----------------\n"
     ]
    },
    {
     "name": "stderr",
     "output_type": "stream",
     "text": [
      "2025-05-04 14:25:02 [scrapy.core.engine] DEBUG: Crawled (200) <GET https://www.biblegateway.com/passage/?search=H%C3%A9breux%2013&version=LSG> (referer: https://www.biblegateway.com/passage/?search=H%C3%A9breux%2012&version=LSG)\n"
     ]
    },
    {
     "name": "stdout",
     "output_type": "stream",
     "text": [
      "--------------- ['/passage/?search=Jacques%201&version=LSG'] -----------------\n"
     ]
    },
    {
     "name": "stderr",
     "output_type": "stream",
     "text": [
      "2025-05-04 14:25:02 [scrapy.core.engine] DEBUG: Crawled (200) <GET https://www.biblegateway.com/passage/?search=Jacques%201&version=LSG> (referer: https://www.biblegateway.com/passage/?search=H%C3%A9breux%2013&version=LSG)\n"
     ]
    },
    {
     "name": "stdout",
     "output_type": "stream",
     "text": [
      "--------------- ['/passage/?search=Jacques%202&version=LSG'] -----------------\n"
     ]
    },
    {
     "name": "stderr",
     "output_type": "stream",
     "text": [
      "2025-05-04 14:25:03 [scrapy.core.engine] DEBUG: Crawled (200) <GET https://www.biblegateway.com/passage/?search=Jacques%202&version=LSG> (referer: https://www.biblegateway.com/passage/?search=Jacques%201&version=LSG)\n"
     ]
    },
    {
     "name": "stdout",
     "output_type": "stream",
     "text": [
      "--------------- ['/passage/?search=Jacques%203&version=LSG'] -----------------\n"
     ]
    },
    {
     "name": "stderr",
     "output_type": "stream",
     "text": [
      "2025-05-04 14:25:04 [scrapy.core.engine] DEBUG: Crawled (200) <GET https://www.biblegateway.com/passage/?search=Jacques%203&version=LSG> (referer: https://www.biblegateway.com/passage/?search=Jacques%202&version=LSG)\n"
     ]
    },
    {
     "name": "stdout",
     "output_type": "stream",
     "text": [
      "--------------- ['/passage/?search=Jacques%204&version=LSG'] -----------------\n"
     ]
    },
    {
     "name": "stderr",
     "output_type": "stream",
     "text": [
      "2025-05-04 14:25:04 [scrapy.core.engine] DEBUG: Crawled (200) <GET https://www.biblegateway.com/passage/?search=Jacques%204&version=LSG> (referer: https://www.biblegateway.com/passage/?search=Jacques%203&version=LSG)\n"
     ]
    },
    {
     "name": "stdout",
     "output_type": "stream",
     "text": [
      "--------------- ['/passage/?search=Jacques%205&version=LSG'] -----------------\n"
     ]
    },
    {
     "name": "stderr",
     "output_type": "stream",
     "text": [
      "2025-05-04 14:25:05 [scrapy.core.engine] DEBUG: Crawled (200) <GET https://www.biblegateway.com/passage/?search=Jacques%205&version=LSG> (referer: https://www.biblegateway.com/passage/?search=Jacques%204&version=LSG)\n"
     ]
    },
    {
     "name": "stdout",
     "output_type": "stream",
     "text": [
      "--------------- ['/passage/?search=1%20Pierre%201&version=LSG'] -----------------\n"
     ]
    },
    {
     "name": "stderr",
     "output_type": "stream",
     "text": [
      "2025-05-04 14:25:06 [scrapy.core.engine] DEBUG: Crawled (200) <GET https://www.biblegateway.com/passage/?search=1%20Pierre%201&version=LSG> (referer: https://www.biblegateway.com/passage/?search=Jacques%205&version=LSG)\n"
     ]
    },
    {
     "name": "stdout",
     "output_type": "stream",
     "text": [
      "--------------- ['/passage/?search=1%20Pierre%202&version=LSG'] -----------------\n"
     ]
    },
    {
     "name": "stderr",
     "output_type": "stream",
     "text": [
      "2025-05-04 14:25:06 [scrapy.core.engine] DEBUG: Crawled (200) <GET https://www.biblegateway.com/passage/?search=1%20Pierre%202&version=LSG> (referer: https://www.biblegateway.com/passage/?search=1%20Pierre%201&version=LSG)\n"
     ]
    },
    {
     "name": "stdout",
     "output_type": "stream",
     "text": [
      "--------------- ['/passage/?search=1%20Pierre%203&version=LSG'] -----------------\n"
     ]
    },
    {
     "name": "stderr",
     "output_type": "stream",
     "text": [
      "2025-05-04 14:25:07 [scrapy.core.engine] DEBUG: Crawled (200) <GET https://www.biblegateway.com/passage/?search=1%20Pierre%203&version=LSG> (referer: https://www.biblegateway.com/passage/?search=1%20Pierre%202&version=LSG)\n"
     ]
    },
    {
     "name": "stdout",
     "output_type": "stream",
     "text": [
      "--------------- ['/passage/?search=1%20Pierre%204&version=LSG'] -----------------\n"
     ]
    },
    {
     "name": "stderr",
     "output_type": "stream",
     "text": [
      "2025-05-04 14:25:08 [scrapy.core.engine] DEBUG: Crawled (200) <GET https://www.biblegateway.com/passage/?search=1%20Pierre%204&version=LSG> (referer: https://www.biblegateway.com/passage/?search=1%20Pierre%203&version=LSG)\n"
     ]
    },
    {
     "name": "stdout",
     "output_type": "stream",
     "text": [
      "--------------- ['/passage/?search=1%20Pierre%205&version=LSG'] -----------------\n"
     ]
    },
    {
     "name": "stderr",
     "output_type": "stream",
     "text": [
      "2025-05-04 14:25:08 [scrapy.core.engine] DEBUG: Crawled (200) <GET https://www.biblegateway.com/passage/?search=1%20Pierre%205&version=LSG> (referer: https://www.biblegateway.com/passage/?search=1%20Pierre%204&version=LSG)\n"
     ]
    },
    {
     "name": "stdout",
     "output_type": "stream",
     "text": [
      "--------------- ['/passage/?search=2%20Pierre%201&version=LSG'] -----------------\n"
     ]
    },
    {
     "name": "stderr",
     "output_type": "stream",
     "text": [
      "2025-05-04 14:25:09 [scrapy.core.engine] DEBUG: Crawled (200) <GET https://www.biblegateway.com/passage/?search=2%20Pierre%201&version=LSG> (referer: https://www.biblegateway.com/passage/?search=1%20Pierre%205&version=LSG)\n"
     ]
    },
    {
     "name": "stdout",
     "output_type": "stream",
     "text": [
      "--------------- ['/passage/?search=2%20Pierre%202&version=LSG'] -----------------\n"
     ]
    },
    {
     "name": "stderr",
     "output_type": "stream",
     "text": [
      "2025-05-04 14:25:10 [scrapy.core.engine] DEBUG: Crawled (200) <GET https://www.biblegateway.com/passage/?search=2%20Pierre%202&version=LSG> (referer: https://www.biblegateway.com/passage/?search=2%20Pierre%201&version=LSG)\n"
     ]
    },
    {
     "name": "stdout",
     "output_type": "stream",
     "text": [
      "--------------- ['/passage/?search=2%20Pierre%203&version=LSG'] -----------------\n"
     ]
    },
    {
     "name": "stderr",
     "output_type": "stream",
     "text": [
      "2025-05-04 14:25:11 [scrapy.core.engine] DEBUG: Crawled (200) <GET https://www.biblegateway.com/passage/?search=2%20Pierre%203&version=LSG> (referer: https://www.biblegateway.com/passage/?search=2%20Pierre%202&version=LSG)\n"
     ]
    },
    {
     "name": "stdout",
     "output_type": "stream",
     "text": [
      "--------------- ['/passage/?search=1%20Jean%201&version=LSG'] -----------------\n"
     ]
    },
    {
     "name": "stderr",
     "output_type": "stream",
     "text": [
      "2025-05-04 14:25:11 [scrapy.core.engine] DEBUG: Crawled (200) <GET https://www.biblegateway.com/passage/?search=1%20Jean%201&version=LSG> (referer: https://www.biblegateway.com/passage/?search=2%20Pierre%203&version=LSG)\n"
     ]
    },
    {
     "name": "stdout",
     "output_type": "stream",
     "text": [
      "--------------- ['/passage/?search=1%20Jean%202&version=LSG'] -----------------\n"
     ]
    },
    {
     "name": "stderr",
     "output_type": "stream",
     "text": [
      "2025-05-04 14:25:12 [scrapy.core.engine] DEBUG: Crawled (200) <GET https://www.biblegateway.com/passage/?search=1%20Jean%202&version=LSG> (referer: https://www.biblegateway.com/passage/?search=1%20Jean%201&version=LSG)\n"
     ]
    },
    {
     "name": "stdout",
     "output_type": "stream",
     "text": [
      "--------------- ['/passage/?search=1%20Jean%203&version=LSG'] -----------------\n"
     ]
    },
    {
     "name": "stderr",
     "output_type": "stream",
     "text": [
      "2025-05-04 14:25:13 [scrapy.core.engine] DEBUG: Crawled (200) <GET https://www.biblegateway.com/passage/?search=1%20Jean%203&version=LSG> (referer: https://www.biblegateway.com/passage/?search=1%20Jean%202&version=LSG)\n"
     ]
    },
    {
     "name": "stdout",
     "output_type": "stream",
     "text": [
      "--------------- ['/passage/?search=1%20Jean%204&version=LSG'] -----------------\n"
     ]
    },
    {
     "name": "stderr",
     "output_type": "stream",
     "text": [
      "2025-05-04 14:25:13 [scrapy.core.engine] DEBUG: Crawled (200) <GET https://www.biblegateway.com/passage/?search=1%20Jean%204&version=LSG> (referer: https://www.biblegateway.com/passage/?search=1%20Jean%203&version=LSG)\n"
     ]
    },
    {
     "name": "stdout",
     "output_type": "stream",
     "text": [
      "--------------- ['/passage/?search=1%20Jean%205&version=LSG'] -----------------\n"
     ]
    },
    {
     "name": "stderr",
     "output_type": "stream",
     "text": [
      "2025-05-04 14:25:14 [scrapy.core.engine] DEBUG: Crawled (200) <GET https://www.biblegateway.com/passage/?search=1%20Jean%205&version=LSG> (referer: https://www.biblegateway.com/passage/?search=1%20Jean%204&version=LSG)\n"
     ]
    },
    {
     "name": "stdout",
     "output_type": "stream",
     "text": [
      "--------------- ['/passage/?search=2%20Jean%201&version=LSG'] -----------------\n"
     ]
    },
    {
     "name": "stderr",
     "output_type": "stream",
     "text": [
      "2025-05-04 14:25:14 [scrapy.core.engine] DEBUG: Crawled (200) <GET https://www.biblegateway.com/passage/?search=2%20Jean%201&version=LSG> (referer: https://www.biblegateway.com/passage/?search=1%20Jean%205&version=LSG)\n"
     ]
    },
    {
     "name": "stdout",
     "output_type": "stream",
     "text": [
      "--------------- ['/passage/?search=3%20Jean%201&version=LSG'] -----------------\n"
     ]
    },
    {
     "name": "stderr",
     "output_type": "stream",
     "text": [
      "2025-05-04 14:25:15 [scrapy.core.engine] DEBUG: Crawled (200) <GET https://www.biblegateway.com/passage/?search=3%20Jean%201&version=LSG> (referer: https://www.biblegateway.com/passage/?search=2%20Jean%201&version=LSG)\n"
     ]
    },
    {
     "name": "stdout",
     "output_type": "stream",
     "text": [
      "--------------- ['/passage/?search=Jude%201&version=LSG'] -----------------\n"
     ]
    },
    {
     "name": "stderr",
     "output_type": "stream",
     "text": [
      "2025-05-04 14:25:16 [scrapy.core.engine] DEBUG: Crawled (200) <GET https://www.biblegateway.com/passage/?search=Jude%201&version=LSG> (referer: https://www.biblegateway.com/passage/?search=3%20Jean%201&version=LSG)\n"
     ]
    },
    {
     "name": "stdout",
     "output_type": "stream",
     "text": [
      "--------------- ['/passage/?search=Apocalypse%201&version=LSG'] -----------------\n"
     ]
    },
    {
     "name": "stderr",
     "output_type": "stream",
     "text": [
      "2025-05-04 14:25:16 [scrapy.core.engine] DEBUG: Crawled (200) <GET https://www.biblegateway.com/passage/?search=Apocalypse%201&version=LSG> (referer: https://www.biblegateway.com/passage/?search=Jude%201&version=LSG)\n"
     ]
    },
    {
     "name": "stdout",
     "output_type": "stream",
     "text": [
      "--------------- ['/passage/?search=Apocalypse%202&version=LSG'] -----------------\n"
     ]
    },
    {
     "name": "stderr",
     "output_type": "stream",
     "text": [
      "2025-05-04 14:25:17 [scrapy.core.engine] DEBUG: Crawled (200) <GET https://www.biblegateway.com/passage/?search=Apocalypse%202&version=LSG> (referer: https://www.biblegateway.com/passage/?search=Apocalypse%201&version=LSG)\n"
     ]
    },
    {
     "name": "stdout",
     "output_type": "stream",
     "text": [
      "--------------- ['/passage/?search=Apocalypse%203&version=LSG'] -----------------\n"
     ]
    },
    {
     "name": "stderr",
     "output_type": "stream",
     "text": [
      "2025-05-04 14:25:18 [scrapy.core.engine] DEBUG: Crawled (200) <GET https://www.biblegateway.com/passage/?search=Apocalypse%203&version=LSG> (referer: https://www.biblegateway.com/passage/?search=Apocalypse%202&version=LSG)\n"
     ]
    },
    {
     "name": "stdout",
     "output_type": "stream",
     "text": [
      "--------------- ['/passage/?search=Apocalypse%204&version=LSG'] -----------------\n"
     ]
    },
    {
     "name": "stderr",
     "output_type": "stream",
     "text": [
      "2025-05-04 14:25:19 [scrapy.core.engine] DEBUG: Crawled (200) <GET https://www.biblegateway.com/passage/?search=Apocalypse%204&version=LSG> (referer: https://www.biblegateway.com/passage/?search=Apocalypse%203&version=LSG)\n"
     ]
    },
    {
     "name": "stdout",
     "output_type": "stream",
     "text": [
      "--------------- ['/passage/?search=Apocalypse%205&version=LSG'] -----------------\n"
     ]
    },
    {
     "name": "stderr",
     "output_type": "stream",
     "text": [
      "2025-05-04 14:25:19 [scrapy.core.engine] DEBUG: Crawled (200) <GET https://www.biblegateway.com/passage/?search=Apocalypse%205&version=LSG> (referer: https://www.biblegateway.com/passage/?search=Apocalypse%204&version=LSG)\n"
     ]
    },
    {
     "name": "stdout",
     "output_type": "stream",
     "text": [
      "--------------- ['/passage/?search=Apocalypse%206&version=LSG'] -----------------\n"
     ]
    },
    {
     "name": "stderr",
     "output_type": "stream",
     "text": [
      "2025-05-04 14:25:20 [scrapy.core.engine] DEBUG: Crawled (200) <GET https://www.biblegateway.com/passage/?search=Apocalypse%206&version=LSG> (referer: https://www.biblegateway.com/passage/?search=Apocalypse%205&version=LSG)\n"
     ]
    },
    {
     "name": "stdout",
     "output_type": "stream",
     "text": [
      "--------------- ['/passage/?search=Apocalypse%207&version=LSG'] -----------------\n"
     ]
    },
    {
     "name": "stderr",
     "output_type": "stream",
     "text": [
      "2025-05-04 14:25:21 [scrapy.core.engine] DEBUG: Crawled (200) <GET https://www.biblegateway.com/passage/?search=Apocalypse%207&version=LSG> (referer: https://www.biblegateway.com/passage/?search=Apocalypse%206&version=LSG)\n"
     ]
    },
    {
     "name": "stdout",
     "output_type": "stream",
     "text": [
      "--------------- ['/passage/?search=Apocalypse%208&version=LSG'] -----------------\n"
     ]
    },
    {
     "name": "stderr",
     "output_type": "stream",
     "text": [
      "2025-05-04 14:25:21 [scrapy.core.engine] DEBUG: Crawled (200) <GET https://www.biblegateway.com/passage/?search=Apocalypse%208&version=LSG> (referer: https://www.biblegateway.com/passage/?search=Apocalypse%207&version=LSG)\n"
     ]
    },
    {
     "name": "stdout",
     "output_type": "stream",
     "text": [
      "--------------- ['/passage/?search=Apocalypse%209&version=LSG'] -----------------\n"
     ]
    },
    {
     "name": "stderr",
     "output_type": "stream",
     "text": [
      "2025-05-04 14:25:22 [scrapy.core.engine] DEBUG: Crawled (200) <GET https://www.biblegateway.com/passage/?search=Apocalypse%209&version=LSG> (referer: https://www.biblegateway.com/passage/?search=Apocalypse%208&version=LSG)\n"
     ]
    },
    {
     "name": "stdout",
     "output_type": "stream",
     "text": [
      "--------------- ['/passage/?search=Apocalypse%2010&version=LSG'] -----------------\n"
     ]
    },
    {
     "name": "stderr",
     "output_type": "stream",
     "text": [
      "2025-05-04 14:25:23 [scrapy.core.engine] DEBUG: Crawled (200) <GET https://www.biblegateway.com/passage/?search=Apocalypse%2010&version=LSG> (referer: https://www.biblegateway.com/passage/?search=Apocalypse%209&version=LSG)\n"
     ]
    },
    {
     "name": "stdout",
     "output_type": "stream",
     "text": [
      "--------------- ['/passage/?search=Apocalypse%2011&version=LSG'] -----------------\n"
     ]
    },
    {
     "name": "stderr",
     "output_type": "stream",
     "text": [
      "2025-05-04 14:25:24 [scrapy.core.engine] DEBUG: Crawled (200) <GET https://www.biblegateway.com/passage/?search=Apocalypse%2011&version=LSG> (referer: https://www.biblegateway.com/passage/?search=Apocalypse%2010&version=LSG)\n"
     ]
    },
    {
     "name": "stdout",
     "output_type": "stream",
     "text": [
      "--------------- ['/passage/?search=Apocalypse%2012&version=LSG'] -----------------\n"
     ]
    },
    {
     "name": "stderr",
     "output_type": "stream",
     "text": [
      "2025-05-04 14:25:25 [scrapy.core.engine] DEBUG: Crawled (200) <GET https://www.biblegateway.com/passage/?search=Apocalypse%2012&version=LSG> (referer: https://www.biblegateway.com/passage/?search=Apocalypse%2011&version=LSG)\n"
     ]
    },
    {
     "name": "stdout",
     "output_type": "stream",
     "text": [
      "--------------- ['/passage/?search=Apocalypse%2013&version=LSG'] -----------------\n"
     ]
    },
    {
     "name": "stderr",
     "output_type": "stream",
     "text": [
      "2025-05-04 14:25:25 [scrapy.core.engine] DEBUG: Crawled (200) <GET https://www.biblegateway.com/passage/?search=Apocalypse%2013&version=LSG> (referer: https://www.biblegateway.com/passage/?search=Apocalypse%2012&version=LSG)\n"
     ]
    },
    {
     "name": "stdout",
     "output_type": "stream",
     "text": [
      "--------------- ['/passage/?search=Apocalypse%2014&version=LSG'] -----------------\n"
     ]
    },
    {
     "name": "stderr",
     "output_type": "stream",
     "text": [
      "2025-05-04 14:25:26 [scrapy.core.engine] DEBUG: Crawled (200) <GET https://www.biblegateway.com/passage/?search=Apocalypse%2014&version=LSG> (referer: https://www.biblegateway.com/passage/?search=Apocalypse%2013&version=LSG)\n"
     ]
    },
    {
     "name": "stdout",
     "output_type": "stream",
     "text": [
      "--------------- ['/passage/?search=Apocalypse%2015&version=LSG'] -----------------\n"
     ]
    },
    {
     "name": "stderr",
     "output_type": "stream",
     "text": [
      "2025-05-04 14:25:27 [scrapy.core.engine] DEBUG: Crawled (200) <GET https://www.biblegateway.com/passage/?search=Apocalypse%2015&version=LSG> (referer: https://www.biblegateway.com/passage/?search=Apocalypse%2014&version=LSG)\n"
     ]
    },
    {
     "name": "stdout",
     "output_type": "stream",
     "text": [
      "--------------- ['/passage/?search=Apocalypse%2016&version=LSG'] -----------------\n"
     ]
    },
    {
     "name": "stderr",
     "output_type": "stream",
     "text": [
      "2025-05-04 14:25:27 [scrapy.core.engine] DEBUG: Crawled (200) <GET https://www.biblegateway.com/passage/?search=Apocalypse%2016&version=LSG> (referer: https://www.biblegateway.com/passage/?search=Apocalypse%2015&version=LSG)\n"
     ]
    },
    {
     "name": "stdout",
     "output_type": "stream",
     "text": [
      "--------------- ['/passage/?search=Apocalypse%2017&version=LSG'] -----------------\n"
     ]
    },
    {
     "name": "stderr",
     "output_type": "stream",
     "text": [
      "2025-05-04 14:25:28 [scrapy.core.engine] DEBUG: Crawled (200) <GET https://www.biblegateway.com/passage/?search=Apocalypse%2017&version=LSG> (referer: https://www.biblegateway.com/passage/?search=Apocalypse%2016&version=LSG)\n"
     ]
    },
    {
     "name": "stdout",
     "output_type": "stream",
     "text": [
      "--------------- ['/passage/?search=Apocalypse%2018&version=LSG'] -----------------\n"
     ]
    },
    {
     "name": "stderr",
     "output_type": "stream",
     "text": [
      "2025-05-04 14:25:29 [scrapy.core.engine] DEBUG: Crawled (200) <GET https://www.biblegateway.com/passage/?search=Apocalypse%2018&version=LSG> (referer: https://www.biblegateway.com/passage/?search=Apocalypse%2017&version=LSG)\n"
     ]
    },
    {
     "name": "stdout",
     "output_type": "stream",
     "text": [
      "--------------- ['/passage/?search=Apocalypse%2019&version=LSG'] -----------------\n"
     ]
    },
    {
     "name": "stderr",
     "output_type": "stream",
     "text": [
      "2025-05-04 14:25:30 [scrapy.core.engine] DEBUG: Crawled (200) <GET https://www.biblegateway.com/passage/?search=Apocalypse%2019&version=LSG> (referer: https://www.biblegateway.com/passage/?search=Apocalypse%2018&version=LSG)\n"
     ]
    },
    {
     "name": "stdout",
     "output_type": "stream",
     "text": [
      "--------------- ['/passage/?search=Apocalypse%2020&version=LSG'] -----------------\n"
     ]
    },
    {
     "name": "stderr",
     "output_type": "stream",
     "text": [
      "2025-05-04 14:25:31 [scrapy.core.engine] DEBUG: Crawled (200) <GET https://www.biblegateway.com/passage/?search=Apocalypse%2020&version=LSG> (referer: https://www.biblegateway.com/passage/?search=Apocalypse%2019&version=LSG)\n"
     ]
    },
    {
     "name": "stdout",
     "output_type": "stream",
     "text": [
      "--------------- ['/passage/?search=Apocalypse%2021&version=LSG'] -----------------\n"
     ]
    },
    {
     "name": "stderr",
     "output_type": "stream",
     "text": [
      "2025-05-04 14:25:31 [scrapy.core.engine] DEBUG: Crawled (200) <GET https://www.biblegateway.com/passage/?search=Apocalypse%2021&version=LSG> (referer: https://www.biblegateway.com/passage/?search=Apocalypse%2020&version=LSG)\n"
     ]
    },
    {
     "name": "stdout",
     "output_type": "stream",
     "text": [
      "--------------- ['/passage/?search=Apocalypse%2022&version=LSG'] -----------------\n"
     ]
    },
    {
     "name": "stderr",
     "output_type": "stream",
     "text": [
      "2025-05-04 14:25:32 [scrapy.core.engine] DEBUG: Crawled (200) <GET https://www.biblegateway.com/passage/?search=Apocalypse%2022&version=LSG> (referer: https://www.biblegateway.com/passage/?search=Apocalypse%2021&version=LSG)\n",
      "2025-05-04 14:25:32 [scrapy.core.scraper] ERROR: Spider error processing <GET https://www.biblegateway.com/passage/?search=Apocalypse%2022&version=LSG> (referer: https://www.biblegateway.com/passage/?search=Apocalypse%2021&version=LSG)\n",
      "Traceback (most recent call last):\n",
      "  File \"/home/koubra/.envIA/lib/python3.12/site-packages/scrapy/utils/defer.py\", line 327, in iter_errback\n",
      "    yield next(it)\n",
      "          ^^^^^^^^\n",
      "  File \"/home/koubra/.envIA/lib/python3.12/site-packages/scrapy/utils/python.py\", line 368, in __next__\n",
      "    return next(self.data)\n",
      "           ^^^^^^^^^^^^^^^\n",
      "  File \"/home/koubra/.envIA/lib/python3.12/site-packages/scrapy/utils/python.py\", line 368, in __next__\n",
      "    return next(self.data)\n",
      "           ^^^^^^^^^^^^^^^\n",
      "  File \"/home/koubra/.envIA/lib/python3.12/site-packages/scrapy/core/spidermw.py\", line 106, in process_sync\n",
      "    yield from iterable\n",
      "  File \"/home/koubra/.envIA/lib/python3.12/site-packages/scrapy/spidermiddlewares/referer.py\", line 379, in <genexpr>\n",
      "    return (self._set_referer(r, response) for r in result)\n",
      "           ^^^^^^^^^^^^^^^^^^^^^^^^^^^^^^^^^^^^^^^^^^^^^^^^\n",
      "  File \"/home/koubra/.envIA/lib/python3.12/site-packages/scrapy/core/spidermw.py\", line 106, in process_sync\n",
      "    yield from iterable\n",
      "  File \"/home/koubra/.envIA/lib/python3.12/site-packages/scrapy/spidermiddlewares/urllength.py\", line 57, in <genexpr>\n",
      "    return (r for r in result if self._filter(r, spider))\n",
      "           ^^^^^^^^^^^^^^^^^^^^^^^^^^^^^^^^^^^^^^^^^^^^^^\n",
      "  File \"/home/koubra/.envIA/lib/python3.12/site-packages/scrapy/core/spidermw.py\", line 106, in process_sync\n",
      "    yield from iterable\n",
      "  File \"/home/koubra/.envIA/lib/python3.12/site-packages/scrapy/spidermiddlewares/depth.py\", line 54, in <genexpr>\n",
      "    return (r for r in result if self._filter(r, response, spider))\n",
      "           ^^^^^^^^^^^^^^^^^^^^^^^^^^^^^^^^^^^^^^^^^^^^^^^^^^^^^^^^\n",
      "  File \"/home/koubra/.envIA/lib/python3.12/site-packages/scrapy/core/spidermw.py\", line 106, in process_sync\n",
      "    yield from iterable\n",
      "  File \"/tmp/ipykernel_30236/4115848728.py\", line 20, in parse\n",
      "    link = \"https://www.biblegateway.com\" + next_link[0] # Pour le prochain lien(On complete la partie precedante avec le https..)\n",
      "                                            ~~~~~~~~~^^^\n",
      "IndexError: list index out of range\n",
      "2025-05-04 14:25:32 [scrapy.core.engine] INFO: Closing spider (finished)\n",
      "2025-05-04 14:25:32 [scrapy.statscollectors] INFO: Dumping Scrapy stats:\n",
      "{'downloader/request_bytes': 451084,\n",
      " 'downloader/request_count': 1189,\n",
      " 'downloader/request_method_count/GET': 1189,\n",
      " 'downloader/response_bytes': 41300580,\n",
      " 'downloader/response_count': 1189,\n",
      " 'downloader/response_status_count/200': 1189,\n",
      " 'elapsed_time_seconds': 875.827419,\n",
      " 'finish_reason': 'finished',\n",
      " 'finish_time': datetime.datetime(2025, 5, 4, 13, 25, 32, 908102, tzinfo=datetime.timezone.utc),\n",
      " 'httpcompression/response_bytes': 174903338,\n",
      " 'httpcompression/response_count': 1189,\n",
      " 'items_per_minute': None,\n",
      " 'log_count/DEBUG': 1190,\n",
      " 'log_count/ERROR': 1,\n",
      " 'log_count/INFO': 24,\n",
      " 'memusage/max': 159510528,\n",
      " 'memusage/startup': 119431168,\n",
      " 'request_depth_max': 1188,\n",
      " 'response_received_count': 1189,\n",
      " 'responses_per_minute': None,\n",
      " 'scheduler/dequeued': 1189,\n",
      " 'scheduler/dequeued/memory': 1189,\n",
      " 'scheduler/enqueued': 1189,\n",
      " 'scheduler/enqueued/memory': 1189,\n",
      " 'spider_exceptions/IndexError': 1,\n",
      " 'start_time': datetime.datetime(2025, 5, 4, 13, 10, 57, 80683, tzinfo=datetime.timezone.utc)}\n",
      "2025-05-04 14:25:32 [scrapy.core.engine] INFO: Spider closed (finished)\n"
     ]
    },
    {
     "name": "stdout",
     "output_type": "stream",
     "text": [
      "--------------- [] -----------------\n"
     ]
    }
   ],
   "source": [
    "# Ici nous allons ecrire un code qui permet de recuperer toutes les pages du site web avec les methodes d'en haut\n",
    "\n",
    "import scrapy\n",
    "from scrapy.crawler import CrawlerProcess\n",
    "\n",
    "\n",
    "class DCspider( scrapy.Spider ):  \n",
    "\n",
    "    name = \"dcspider\"\n",
    "\n",
    "    def start_requests( self ):    \n",
    "        urls = \"https://www.biblegateway.com/passage/?search=Gen%C3%A8se%201&version=LSG\"\n",
    "        yield scrapy.Request( url = urls, callback = self.parse )\n",
    "\n",
    "        \n",
    "    def parse( self, response ): \n",
    "\n",
    "        next_link = response.xpath('//a[@class=\"next-link\"]/@href').extract() # Une partie du lien suivant extraite \n",
    "        print(\"---------------\",next_link,\"-----------------\")\n",
    "        link = \"https://www.biblegateway.com\" + next_link[0] # Pour le prochain lien(On complete la partie precedante avec le https..)\n",
    "        \n",
    "        text = response.xpath('//div[contains(@class,\"version-LSG result-text-style-normal text-html\")]/p//text()').extract() #Le text des verstes\n",
    "       \n",
    "        text = [t.strip() for t in text if t.strip()] # Pour enlever les espaces vides et les sauts de ligne ainsi que les balises html\n",
    "\n",
    "        for i in range(1, len(text),2):         # On fait maintenant une boucle pour parcourir le text et ecrire les verstes dans un fichier\n",
    "            with open(\"V_francais_3.txt\",\"a+\") as file:\n",
    "                file.write(text[i])\n",
    "                file.write(\"\\n\")\n",
    "        yield response.follow( url = link, callback = self.parse )\n",
    "\n",
    "\n",
    "process = CrawlerProcess() # Voila la derniere partie qui demarre le robot\n",
    "process.crawl(DCspider)\n",
    "process.start()\n"
   ]
  }
 ],
 "metadata": {
  "kernelspec": {
   "display_name": ".envIA",
   "language": "python",
   "name": "python3"
  },
  "language_info": {
   "codemirror_mode": {
    "name": "ipython",
    "version": 3
   },
   "file_extension": ".py",
   "mimetype": "text/x-python",
   "name": "python",
   "nbconvert_exporter": "python",
   "pygments_lexer": "ipython3",
   "version": "3.12.3"
  }
 },
 "nbformat": 4,
 "nbformat_minor": 2
}
